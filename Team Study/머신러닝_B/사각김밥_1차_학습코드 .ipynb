{
 "cells": [
  {
   "cell_type": "markdown",
   "metadata": {
    "id": "OUc5eRlmM3h5"
   },
   "source": [
    "#5단원 머신러닝 주요 개념 (모델 활용 제외 5.5까지)"
   ]
  },
  {
   "cell_type": "markdown",
   "metadata": {
    "id": "f9ayNg-zPAh0"
   },
   "source": [
    "###5.1 회귀 평가지표 값들 구하기 (MAE,MSE,RMSE,MSLE,MSLE,R2)\n",
    "\n",
    "\n"
   ]
  },
  {
   "cell_type": "code",
   "execution_count": 16,
   "metadata": {
    "ExecuteTime": {
     "end_time": "2024-03-19T12:13:12.520319Z",
     "start_time": "2024-03-19T12:13:11.798988Z"
    },
    "id": "lYfyDnwsObwM"
   },
   "outputs": [],
   "source": [
    "import numpy as np\n",
    "import pandas as pd\n",
    "# MAE, MSE, MSLE, R2 임포트\n",
    "from sklearn.metrics import mean_absolute_error, mean_squared_error, mean_squared_log_error, r2_score"
   ]
  },
  {
   "cell_type": "code",
   "execution_count": 5,
   "metadata": {
    "ExecuteTime": {
     "end_time": "2024-03-19T11:54:00.492671Z",
     "start_time": "2024-03-19T11:54:00.487582Z"
    },
    "id": "NTtmcj6hOefI"
   },
   "outputs": [],
   "source": [
    "true = np.array([1, 2, 3, 2, 3, 5, 4, 6, 5, 6, 7, 8, 8]) # 실제값\n",
    "preds = np.array([1, 1, 2, 2, 3, 4, 4, 5, 5, 7, 7, 6, 8]) # 예측값"
   ]
  },
  {
   "cell_type": "markdown",
   "metadata": {},
   "source": [
    "###자주이용하는 회귀평가지표"
   ]
  },
  {
   "cell_type": "code",
   "execution_count": 6,
   "metadata": {
    "ExecuteTime": {
     "end_time": "2024-03-19T11:54:00.505138Z",
     "start_time": "2024-03-19T11:54:00.500406Z"
    },
    "id": "5H4yiElaOg8S"
   },
   "outputs": [],
   "source": [
    "#평균 절대 오차 :실제 타깃값과 예측 타깃값 차의 절댓값 평균\n",
    "MAE = mean_absolute_error(true, preds) "
   ]
  },
  {
   "cell_type": "code",
   "execution_count": 7,
   "metadata": {
    "ExecuteTime": {
     "end_time": "2024-03-19T11:54:00.514961Z",
     "start_time": "2024-03-19T11:54:00.511657Z"
    }
   },
   "outputs": [],
   "source": [
    "#평균 제곱 오차:실제 타깃값과 예측 타깃값 차의 제곱의 평균\n",
    "MSE = mean_squared_error(true, preds)\n",
    "#평균 제곱근 오차:MSE에 제곱근을 취한 값\n",
    "RMSE = np.sqrt(MSE)"
   ]
  },
  {
   "cell_type": "markdown",
   "metadata": {},
   "source": [
    "###log(x)가 아닌 log(x+1)를 취함\n",
    "    ->log(x)를 취하면 0인 값은 음의 무한대가 나오기 때문에"
   ]
  },
  {
   "cell_type": "code",
   "execution_count": 8,
   "metadata": {
    "ExecuteTime": {
     "end_time": "2024-03-19T11:54:05.485014Z",
     "start_time": "2024-03-19T11:54:05.468431Z"
    }
   },
   "outputs": [],
   "source": [
    "#MSE에서 타깃값에 로그를 취한값\n",
    "MSLE = mean_squared_log_error(true, preds)\n",
    "#MSLE에 제곱근을 취한값\n",
    "RMSLE = np.sqrt(mean_squared_log_error(true, preds))"
   ]
  },
  {
   "cell_type": "code",
   "execution_count": 9,
   "metadata": {
    "ExecuteTime": {
     "end_time": "2024-03-19T11:54:13.076853Z",
     "start_time": "2024-03-19T11:54:13.072777Z"
    }
   },
   "outputs": [],
   "source": [
    "#결정계수,(예측 타깃값의 분산/실제 타깃값의 분산),1에 가까울수록 모델성능 좋음\n",
    "R2 = r2_score(true, preds)"
   ]
  },
  {
   "cell_type": "code",
   "execution_count": 10,
   "metadata": {
    "ExecuteTime": {
     "end_time": "2024-03-19T11:54:14.486390Z",
     "start_time": "2024-03-19T11:54:14.482051Z"
    },
    "colab": {
     "base_uri": "https://localhost:8080/"
    },
    "id": "_uKEkdMtOnwQ",
    "outputId": "7b966501-c8c7-49eb-b62f-16f33078bccb"
   },
   "outputs": [
    {
     "name": "stdout",
     "output_type": "stream",
     "text": [
      "MAE:\t 0.5385\n",
      "MSE:\t 0.6923\n",
      "RMSE:\t 0.8321\n",
      "MSLE:\t 0.0296\n",
      "RMSLE:\t 0.1721\n",
      "R2:\t 0.8617\n"
     ]
    }
   ],
   "source": [
    "# 출력\n",
    "print(f'MAE:\\t {MAE:.4f}')\n",
    "print(f'MSE:\\t {MSE:.4f}')\n",
    "print(f'RMSE:\\t {RMSE:.4f}')\n",
    "print(f'MSLE:\\t {MSLE:.4f}')\n",
    "print(f'RMSLE:\\t {RMSLE:.4f}')\n",
    "print(f'R2:\\t {R2:.4f}')"
   ]
  },
  {
   "cell_type": "markdown",
   "metadata": {},
   "source": [
    "###5.2 분류 평가지표"
   ]
  },
  {
   "cell_type": "code",
   "execution_count": 11,
   "metadata": {
    "ExecuteTime": {
     "end_time": "2024-03-19T12:12:18.050331Z",
     "start_time": "2024-03-19T12:12:18.047339Z"
    }
   },
   "outputs": [],
   "source": [
    "from sklearn.metrics import accuracy_score,precision_score,recall_score,confusion_matrix,f1_score,roc_auc_score"
   ]
  },
  {
   "cell_type": "code",
   "execution_count": 33,
   "metadata": {
    "ExecuteTime": {
     "end_time": "2024-03-19T12:24:37.459844Z",
     "start_time": "2024-03-19T12:24:37.453061Z"
    }
   },
   "outputs": [
    {
     "name": "stdout",
     "output_type": "stream",
     "text": [
      "오차행렬:\n",
      "        예측(양성)  예측(음성)\n",
      "실제(양성)       2       1\n",
      "실제(음성)       2       4\n"
     ]
    }
   ],
   "source": [
    "# 오차행렬 데이터\n",
    "confusion_matrix_data = {'실제값': [1, 1, 1, 0,0,1,0,1,1],  # 실제값\n",
    "                         '예측값': [1, 1, 0, 0,1,0,0,1,1]}  # 예측값\n",
    "\n",
    "# confusion_matrix 함수를 사용하여 오차행렬 계산\n",
    "confusion = confusion_matrix(confusion_matrix_data['실제값'], confusion_matrix_data['예측값'])\n",
    "\n",
    "# 오차행렬을 데이터프레임으로 변환\n",
    "df_confusion = pd.DataFrame(confusion, index=['실제(양성)', '실제(음성)'], columns=['예측(양성)', '예측(음성)'])\n",
    "\n",
    "print(\"오차행렬:\")\n",
    "print(df_confusion)"
   ]
  },
  {
   "cell_type": "markdown",
   "metadata": {},
   "source": [
    "###오차행렬 활용 평가지표"
   ]
  },
  {
   "cell_type": "code",
   "execution_count": 34,
   "metadata": {
    "ExecuteTime": {
     "end_time": "2024-03-19T12:24:38.167798Z",
     "start_time": "2024-03-19T12:24:38.157525Z"
    }
   },
   "outputs": [],
   "source": [
    "#(TP+TN)/전체값 : 예측값이 얼마나 일치하는지\n",
    "accuracy = accuracy_score(confusion_matrix_data['실제값'], confusion_matrix_data['예측값'])\n",
    "\n",
    "#TP/(TP+FP) : 긍정이라고 예측한 값중 진짜 긍정인 비율\n",
    "precision = precision_score(confusion_matrix_data['실제값'], confusion_matrix_data['예측값'])\n",
    "\n",
    "#(TP)/(TP+FN) : 실제 긍정인 값중 긍정으로 잘 예측한 비율\n",
    "recall = recall_score(confusion_matrix_data['실제값'], confusion_matrix_data['예측값'])\n",
    "\n",
    "#정밀도와 재현율을 조합\n",
    "f1 = f1_score(confusion_matrix_data['실제값'], confusion_matrix_data['예측값'])"
   ]
  },
  {
   "cell_type": "code",
   "execution_count": 35,
   "metadata": {
    "ExecuteTime": {
     "end_time": "2024-03-19T12:24:38.604079Z",
     "start_time": "2024-03-19T12:24:38.600758Z"
    }
   },
   "outputs": [
    {
     "name": "stdout",
     "output_type": "stream",
     "text": [
      "정확도: 0.6666666666666666\n",
      "정밀도: 0.8\n",
      "재현율: 0.6666666666666666\n",
      "f1: 0.7272727272727272\n"
     ]
    }
   ],
   "source": [
    "print('정확도:',accuracy)\n",
    "print('정밀도:',precision)\n",
    "print('재현율:',recall)\n",
    "print('f1:',f1)"
   ]
  },
  {
   "cell_type": "markdown",
   "metadata": {
    "id": "KvPRlb6tPRKC"
   },
   "source": [
    "###5.4 피처 스케일링\n",
    "- min-max 정규화"
   ]
  },
  {
   "cell_type": "code",
   "execution_count": null,
   "metadata": {
    "colab": {
     "base_uri": "https://localhost:8080/"
    },
    "id": "ZDZO9pUzPeTJ",
    "outputId": "aef9161c-e595-4000-be72-18f5e19228fb"
   },
   "outputs": [
    {
     "name": "stdout",
     "output_type": "stream",
     "text": [
      "      키  몸무게\n",
      "광일  1.7   75\n",
      "혜성  1.5   55\n",
      "덕수  1.8   60\n"
     ]
    }
   ],
   "source": [
    "import pandas as pd\n",
    "\n",
    "height_weight_dict = {'키': [1.7, 1.5, 1.8], '몸무게': [75, 55, 60]}\n",
    "df = pd.DataFrame(height_weight_dict, index=['광일', '혜성', '덕수'])\n",
    "\n",
    "print(df)"
   ]
  },
  {
   "cell_type": "code",
   "execution_count": null,
   "metadata": {
    "colab": {
     "base_uri": "https://localhost:8080/"
    },
    "id": "TozQK_UOP6_i",
    "outputId": "57a9d881-cc1d-4f53-c707-eeb98772a5f1"
   },
   "outputs": [
    {
     "name": "stdout",
     "output_type": "stream",
     "text": [
      "[[0.66666667 1.        ]\n",
      " [0.         0.        ]\n",
      " [1.         0.25      ]]\n"
     ]
    }
   ],
   "source": [
    "from sklearn.preprocessing import MinMaxScaler\n",
    "\n",
    "# min-max 정규화 객체 생성\n",
    "scaler = MinMaxScaler()\n",
    "\n",
    "# min-max 정규화 적용\n",
    "scaler.fit(df)\n",
    "df_scaled = scaler.transform(df)\n",
    "\n",
    "print(df_scaled)"
   ]
  },
  {
   "cell_type": "code",
   "execution_count": null,
   "metadata": {
    "colab": {
     "base_uri": "https://localhost:8080/"
    },
    "id": "bSNQD1tUP9Lx",
    "outputId": "0b58f3dc-8a0c-4645-ad1a-6a23a9c47447"
   },
   "outputs": [
    {
     "name": "stdout",
     "output_type": "stream",
     "text": [
      "[[0.66666667 1.        ]\n",
      " [0.         0.        ]\n",
      " [1.         0.25      ]]\n"
     ]
    }
   ],
   "source": [
    "# min-max 정규화 객체 생성\n",
    "scaler = MinMaxScaler()\n",
    "\n",
    "# min-max 정규화 적용\n",
    "df_scaled = scaler.fit_transform(df)\n",
    "\n",
    "print(df_scaled)"
   ]
  },
  {
   "cell_type": "markdown",
   "metadata": {
    "id": "h0LqiA5WQAoy"
   },
   "source": [
    "- 표준화"
   ]
  },
  {
   "cell_type": "code",
   "execution_count": null,
   "metadata": {
    "colab": {
     "base_uri": "https://localhost:8080/"
    },
    "id": "FIqYqm1fQDTE",
    "outputId": "e446390c-d800-42d9-d32b-795134451b8f"
   },
   "outputs": [
    {
     "name": "stdout",
     "output_type": "stream",
     "text": [
      "[[ 0.26726124  1.37281295]\n",
      " [-1.33630621 -0.98058068]\n",
      " [ 1.06904497 -0.39223227]]\n"
     ]
    }
   ],
   "source": [
    "from sklearn.preprocessing import StandardScaler\n",
    "\n",
    "# StandardScaler 객체 생성\n",
    "scaler = StandardScaler()\n",
    "\n",
    "# 표준화 적용\n",
    "df_scaled = scaler.fit_transform(df)\n",
    "\n",
    "print(df_scaled)"
   ]
  },
  {
   "cell_type": "markdown",
   "metadata": {
    "id": "MwRExJqwQXeZ"
   },
   "source": [
    "###5.5 교차 검증\n",
    "- 폴드 교차 검증"
   ]
  },
  {
   "cell_type": "code",
   "execution_count": null,
   "metadata": {
    "colab": {
     "base_uri": "https://localhost:8080/"
    },
    "id": "pBMHQBt7QFMQ",
    "outputId": "03bef57a-13dc-4192-8a42-e2ad4a0767b8"
   },
   "outputs": [
    {
     "name": "stdout",
     "output_type": "stream",
     "text": [
      "훈련 데이터: [2 3 4 5 6 7 8 9], 검증 데이터: [0 1]\n",
      "훈련 데이터: [0 1 4 5 6 7 8 9], 검증 데이터: [2 3]\n",
      "훈련 데이터: [0 1 2 3 6 7 8 9], 검증 데이터: [4 5]\n",
      "훈련 데이터: [0 1 2 3 4 5 8 9], 검증 데이터: [6 7]\n",
      "훈련 데이터: [0 1 2 3 4 5 6 7], 검증 데이터: [8 9]\n"
     ]
    }
   ],
   "source": [
    "import numpy as np\n",
    "from sklearn.model_selection import KFold\n",
    "\n",
    "data = np.array([0, 1, 2, 3, 4, 5, 6, 7, 8, 9])\n",
    "\n",
    "folds = KFold(n_splits=5, shuffle=False)\n",
    "\n",
    "for train_idx, valid_idx in folds.split(data):\n",
    "    print(f'훈련 데이터: {data[train_idx]}, 검증 데이터: {data[valid_idx]}')"
   ]
  },
  {
   "cell_type": "code",
   "execution_count": null,
   "metadata": {
    "colab": {
     "base_uri": "https://localhost:8080/"
    },
    "id": "kUA5nTJNQdIE",
    "outputId": "e2a5ddd2-9dd5-4446-c185-9b3228a03bc1"
   },
   "outputs": [
    {
     "name": "stdout",
     "output_type": "stream",
     "text": [
      "훈련 데이터: [0 1 3 4 5 7 8 9], 검증 데이터: [2 6]\n",
      "훈련 데이터: [2 3 4 5 6 7 8 9], 검증 데이터: [0 1]\n",
      "훈련 데이터: [0 1 2 4 6 7 8 9], 검증 데이터: [3 5]\n",
      "훈련 데이터: [0 1 2 3 4 5 6 9], 검증 데이터: [7 8]\n",
      "훈련 데이터: [0 1 2 3 5 6 7 8], 검증 데이터: [4 9]\n"
     ]
    }
   ],
   "source": [
    "folds = KFold(n_splits=5, shuffle=True)\n",
    "\n",
    "for train_idx, valid_idx in folds.split(data):\n",
    "    print(f'훈련 데이터: {data[train_idx]}, 검증 데이터: {data[valid_idx]}')"
   ]
  },
  {
   "cell_type": "markdown",
   "metadata": {
    "id": "fMp_GttJQia1"
   },
   "source": [
    "- 층화 K 폴드 교차 검증"
   ]
  },
  {
   "cell_type": "code",
   "execution_count": null,
   "metadata": {
    "colab": {
     "base_uri": "https://localhost:8080/"
    },
    "id": "0UPZwJ_bQlES",
    "outputId": "d8e27cb7-3b15-4f47-b9aa-b27e23b60465"
   },
   "outputs": [
    {
     "name": "stdout",
     "output_type": "stream",
     "text": [
      "Fold 1 검증 데이터 타깃 값:\n",
      "['스팸' '일반' '일반' '일반' '일반' '일반' '일반' '일반' '일반' '일반'] \n",
      "\n",
      "Fold 2 검증 데이터 타깃 값:\n",
      "['스팸' '일반' '일반' '일반' '일반' '일반' '일반' '일반' '일반' '일반'] \n",
      "\n",
      "Fold 3 검증 데이터 타깃 값:\n",
      "['스팸' '일반' '일반' '일반' '일반' '일반' '일반' '일반' '일반' '일반'] \n",
      "\n",
      "Fold 4 검증 데이터 타깃 값:\n",
      "['일반' '일반' '일반' '일반' '일반' '일반' '일반' '일반' '일반' '일반'] \n",
      "\n",
      "Fold 5 검증 데이터 타깃 값:\n",
      "['스팸' '스팸' '일반' '일반' '일반' '일반' '일반' '일반' '일반' '일반'] \n",
      "\n"
     ]
    }
   ],
   "source": [
    "y = np.array(['스팸']*5 + ['일반']*45)\n",
    "\n",
    "folds = KFold(n_splits=5, shuffle=True) # K 폴드 교차 검증\n",
    "\n",
    "for idx, (train_idx, valid_idx) in enumerate(folds.split(y)):\n",
    "    print(f'Fold {idx+1} 검증 데이터 타깃 값:')\n",
    "    print(y[valid_idx], '\\n')"
   ]
  },
  {
   "cell_type": "code",
   "execution_count": null,
   "metadata": {
    "colab": {
     "base_uri": "https://localhost:8080/"
    },
    "id": "bi46IsKkQpFM",
    "outputId": "84a1c404-75e1-4ac2-f6c7-d6e7c4641d68"
   },
   "outputs": [
    {
     "name": "stdout",
     "output_type": "stream",
     "text": [
      "Fold 1 검증 데이터 타깃 값:\n",
      "['스팸' '일반' '일반' '일반' '일반' '일반' '일반' '일반' '일반' '일반'] \n",
      "\n",
      "Fold 2 검증 데이터 타깃 값:\n",
      "['스팸' '일반' '일반' '일반' '일반' '일반' '일반' '일반' '일반' '일반'] \n",
      "\n",
      "Fold 3 검증 데이터 타깃 값:\n",
      "['스팸' '일반' '일반' '일반' '일반' '일반' '일반' '일반' '일반' '일반'] \n",
      "\n",
      "Fold 4 검증 데이터 타깃 값:\n",
      "['스팸' '일반' '일반' '일반' '일반' '일반' '일반' '일반' '일반' '일반'] \n",
      "\n",
      "Fold 5 검증 데이터 타깃 값:\n",
      "['스팸' '일반' '일반' '일반' '일반' '일반' '일반' '일반' '일반' '일반'] \n",
      "\n"
     ]
    }
   ],
   "source": [
    "from sklearn.model_selection import StratifiedKFold\n",
    "\n",
    "X = np.array(range(50))\n",
    "y = np.array(['스팸']*5 + ['일반']*45)\n",
    "\n",
    "folds = StratifiedKFold(n_splits=5) # '층화' K 폴드 교차 검증\n",
    "\n",
    "for idx, (train_idx, valid_idx) in enumerate(folds.split(X, y)):\n",
    "    print(f'Fold {idx+1} 검증 데이터 타깃 값:')\n",
    "    print(y[valid_idx], '\\n')"
   ]
  }
 ],
 "metadata": {
  "colab": {
   "provenance": []
  },
  "hide_input": false,
  "kernelspec": {
   "display_name": "Python 3 (ipykernel)",
   "language": "python",
   "name": "python3"
  },
  "language_info": {
   "codemirror_mode": {
    "name": "ipython",
    "version": 3
   },
   "file_extension": ".py",
   "mimetype": "text/x-python",
   "name": "python",
   "nbconvert_exporter": "python",
   "pygments_lexer": "ipython3",
   "version": "3.11.5"
  },
  "toc": {
   "base_numbering": 1,
   "nav_menu": {},
   "number_sections": true,
   "sideBar": true,
   "skip_h1_title": false,
   "title_cell": "Table of Contents",
   "title_sidebar": "Contents",
   "toc_cell": false,
   "toc_position": {},
   "toc_section_display": true,
   "toc_window_display": false
  },
  "varInspector": {
   "cols": {
    "lenName": 16,
    "lenType": 16,
    "lenVar": 40
   },
   "kernels_config": {
    "python": {
     "delete_cmd_postfix": "",
     "delete_cmd_prefix": "del ",
     "library": "var_list.py",
     "varRefreshCmd": "print(var_dic_list())"
    },
    "r": {
     "delete_cmd_postfix": ") ",
     "delete_cmd_prefix": "rm(",
     "library": "var_list.r",
     "varRefreshCmd": "cat(var_dic_list()) "
    }
   },
   "types_to_exclude": [
    "module",
    "function",
    "builtin_function_or_method",
    "instance",
    "_Feature"
   ],
   "window_display": false
  }
 },
 "nbformat": 4,
 "nbformat_minor": 1
}
