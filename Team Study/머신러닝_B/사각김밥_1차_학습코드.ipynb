{
  "nbformat": 4,
  "nbformat_minor": 0,
  "metadata": {
    "colab": {
      "provenance": []
    },
    "kernelspec": {
      "name": "python3",
      "display_name": "Python 3"
    },
    "language_info": {
      "name": "python"
    }
  },
  "cells": [
    {
      "cell_type": "markdown",
      "source": [
        "#5단원 머신러닝 주요 개념 (모델 활용 제외 5.5까지)"
      ],
      "metadata": {
        "id": "OUc5eRlmM3h5"
      }
    },
    {
      "cell_type": "markdown",
      "source": [
        "###5.1 회귀 평가지표 값들 구하기 (MAE,MSE,RMSE,MSLE,MSLE,R2)\n",
        "\n",
        "\n"
      ],
      "metadata": {
        "id": "f9ayNg-zPAh0"
      }
    },
    {
      "cell_type": "code",
      "source": [
        "import numpy as np\n",
        "# MAE, MSE, MSLE, R2 임포트\n",
        "from sklearn.metrics import mean_absolute_error, mean_squared_error, mean_squared_log_error, r2_score"
      ],
      "metadata": {
        "id": "lYfyDnwsObwM"
      },
      "execution_count": null,
      "outputs": []
    },
    {
      "cell_type": "code",
      "source": [
        "true = np.array([1, 2, 3, 2, 3, 5, 4, 6, 5, 6, 7, 8, 8]) # 실제값\n",
        "preds = np.array([1, 1, 2, 2, 3, 4, 4, 5, 5, 7, 7, 6, 8]) # 예측값"
      ],
      "metadata": {
        "id": "NTtmcj6hOefI"
      },
      "execution_count": null,
      "outputs": []
    },
    {
      "cell_type": "code",
      "source": [
        "MAE = mean_absolute_error(true, preds)\n",
        "MSE = mean_squared_error(true, preds)\n",
        "RMSE = np.sqrt(MSE)\n",
        "MSLE = mean_squared_log_error(true, preds)\n",
        "RMSLE = np.sqrt(mean_squared_log_error(true, preds))\n",
        "R2 = r2_score(true, preds)"
      ],
      "metadata": {
        "id": "5H4yiElaOg8S"
      },
      "execution_count": null,
      "outputs": []
    },
    {
      "cell_type": "code",
      "source": [
        "# 출력\n",
        "print(f'MAE:\\t {MAE:.4f}')\n",
        "print(f'MSE:\\t {MSE:.4f}')\n",
        "print(f'RMSE:\\t {RMSE:.4f}')\n",
        "print(f'MSLE:\\t {MSLE:.4f}')\n",
        "print(f'RMSLE:\\t {RMSLE:.4f}')\n",
        "print(f'R2:\\t {R2:.4f}')"
      ],
      "metadata": {
        "colab": {
          "base_uri": "https://localhost:8080/"
        },
        "id": "_uKEkdMtOnwQ",
        "outputId": "7b966501-c8c7-49eb-b62f-16f33078bccb"
      },
      "execution_count": null,
      "outputs": [
        {
          "output_type": "stream",
          "name": "stdout",
          "text": [
            "MAE:\t 0.5385\n",
            "MSE:\t 0.6923\n",
            "RMSE:\t 0.8321\n",
            "MSLE:\t 0.0296\n",
            "RMSLE:\t 0.1721\n",
            "R2:\t 0.8617\n"
          ]
        }
      ]
    },
    {
      "cell_type": "markdown",
      "source": [
        "###5.4 피처 스케일링\n",
        "- min-max 정규화"
      ],
      "metadata": {
        "id": "KvPRlb6tPRKC"
      }
    },
    {
      "cell_type": "code",
      "source": [
        "import pandas as pd\n",
        "\n",
        "height_weight_dict = {'키': [1.7, 1.5, 1.8], '몸무게': [75, 55, 60]}\n",
        "df = pd.DataFrame(height_weight_dict, index=['광일', '혜성', '덕수'])\n",
        "\n",
        "print(df)"
      ],
      "metadata": {
        "colab": {
          "base_uri": "https://localhost:8080/"
        },
        "id": "ZDZO9pUzPeTJ",
        "outputId": "aef9161c-e595-4000-be72-18f5e19228fb"
      },
      "execution_count": null,
      "outputs": [
        {
          "output_type": "stream",
          "name": "stdout",
          "text": [
            "      키  몸무게\n",
            "광일  1.7   75\n",
            "혜성  1.5   55\n",
            "덕수  1.8   60\n"
          ]
        }
      ]
    },
    {
      "cell_type": "code",
      "source": [
        "from sklearn.preprocessing import MinMaxScaler\n",
        "\n",
        "# min-max 정규화 객체 생성\n",
        "scaler = MinMaxScaler()\n",
        "\n",
        "# min-max 정규화 적용\n",
        "scaler.fit(df)\n",
        "df_scaled = scaler.transform(df)\n",
        "\n",
        "print(df_scaled)"
      ],
      "metadata": {
        "colab": {
          "base_uri": "https://localhost:8080/"
        },
        "id": "TozQK_UOP6_i",
        "outputId": "57a9d881-cc1d-4f53-c707-eeb98772a5f1"
      },
      "execution_count": null,
      "outputs": [
        {
          "output_type": "stream",
          "name": "stdout",
          "text": [
            "[[0.66666667 1.        ]\n",
            " [0.         0.        ]\n",
            " [1.         0.25      ]]\n"
          ]
        }
      ]
    },
    {
      "cell_type": "code",
      "source": [
        "# min-max 정규화 객체 생성\n",
        "scaler = MinMaxScaler()\n",
        "\n",
        "# min-max 정규화 적용\n",
        "df_scaled = scaler.fit_transform(df)\n",
        "\n",
        "print(df_scaled)"
      ],
      "metadata": {
        "colab": {
          "base_uri": "https://localhost:8080/"
        },
        "id": "bSNQD1tUP9Lx",
        "outputId": "0b58f3dc-8a0c-4645-ad1a-6a23a9c47447"
      },
      "execution_count": null,
      "outputs": [
        {
          "output_type": "stream",
          "name": "stdout",
          "text": [
            "[[0.66666667 1.        ]\n",
            " [0.         0.        ]\n",
            " [1.         0.25      ]]\n"
          ]
        }
      ]
    },
    {
      "cell_type": "markdown",
      "source": [
        "- 표준화"
      ],
      "metadata": {
        "id": "h0LqiA5WQAoy"
      }
    },
    {
      "cell_type": "code",
      "source": [
        "from sklearn.preprocessing import StandardScaler\n",
        "\n",
        "# StandardScaler 객체 생성\n",
        "scaler = StandardScaler()\n",
        "\n",
        "# 표준화 적용\n",
        "df_scaled = scaler.fit_transform(df)\n",
        "\n",
        "print(df_scaled)"
      ],
      "metadata": {
        "colab": {
          "base_uri": "https://localhost:8080/"
        },
        "id": "FIqYqm1fQDTE",
        "outputId": "e446390c-d800-42d9-d32b-795134451b8f"
      },
      "execution_count": null,
      "outputs": [
        {
          "output_type": "stream",
          "name": "stdout",
          "text": [
            "[[ 0.26726124  1.37281295]\n",
            " [-1.33630621 -0.98058068]\n",
            " [ 1.06904497 -0.39223227]]\n"
          ]
        }
      ]
    },
    {
      "cell_type": "markdown",
      "source": [
        "###5.5 교차 검증\n",
        "- 폴드 교차 검증"
      ],
      "metadata": {
        "id": "MwRExJqwQXeZ"
      }
    },
    {
      "cell_type": "code",
      "source": [
        "import numpy as np\n",
        "from sklearn.model_selection import KFold\n",
        "\n",
        "data = np.array([0, 1, 2, 3, 4, 5, 6, 7, 8, 9])\n",
        "\n",
        "folds = KFold(n_splits=5, shuffle=False)\n",
        "\n",
        "for train_idx, valid_idx in folds.split(data):\n",
        "    print(f'훈련 데이터: {data[train_idx]}, 검증 데이터: {data[valid_idx]}')"
      ],
      "metadata": {
        "colab": {
          "base_uri": "https://localhost:8080/"
        },
        "id": "pBMHQBt7QFMQ",
        "outputId": "03bef57a-13dc-4192-8a42-e2ad4a0767b8"
      },
      "execution_count": null,
      "outputs": [
        {
          "output_type": "stream",
          "name": "stdout",
          "text": [
            "훈련 데이터: [2 3 4 5 6 7 8 9], 검증 데이터: [0 1]\n",
            "훈련 데이터: [0 1 4 5 6 7 8 9], 검증 데이터: [2 3]\n",
            "훈련 데이터: [0 1 2 3 6 7 8 9], 검증 데이터: [4 5]\n",
            "훈련 데이터: [0 1 2 3 4 5 8 9], 검증 데이터: [6 7]\n",
            "훈련 데이터: [0 1 2 3 4 5 6 7], 검증 데이터: [8 9]\n"
          ]
        }
      ]
    },
    {
      "cell_type": "code",
      "source": [
        "folds = KFold(n_splits=5, shuffle=True)\n",
        "\n",
        "for train_idx, valid_idx in folds.split(data):\n",
        "    print(f'훈련 데이터: {data[train_idx]}, 검증 데이터: {data[valid_idx]}')"
      ],
      "metadata": {
        "colab": {
          "base_uri": "https://localhost:8080/"
        },
        "id": "kUA5nTJNQdIE",
        "outputId": "e2a5ddd2-9dd5-4446-c185-9b3228a03bc1"
      },
      "execution_count": null,
      "outputs": [
        {
          "output_type": "stream",
          "name": "stdout",
          "text": [
            "훈련 데이터: [0 1 3 4 5 7 8 9], 검증 데이터: [2 6]\n",
            "훈련 데이터: [2 3 4 5 6 7 8 9], 검증 데이터: [0 1]\n",
            "훈련 데이터: [0 1 2 4 6 7 8 9], 검증 데이터: [3 5]\n",
            "훈련 데이터: [0 1 2 3 4 5 6 9], 검증 데이터: [7 8]\n",
            "훈련 데이터: [0 1 2 3 5 6 7 8], 검증 데이터: [4 9]\n"
          ]
        }
      ]
    },
    {
      "cell_type": "markdown",
      "source": [
        "- 층화 K 폴드 교차 검증"
      ],
      "metadata": {
        "id": "fMp_GttJQia1"
      }
    },
    {
      "cell_type": "code",
      "source": [
        "y = np.array(['스팸']*5 + ['일반']*45)\n",
        "\n",
        "folds = KFold(n_splits=5, shuffle=True) # K 폴드 교차 검증\n",
        "\n",
        "for idx, (train_idx, valid_idx) in enumerate(folds.split(y)):\n",
        "    print(f'Fold {idx+1} 검증 데이터 타깃 값:')\n",
        "    print(y[valid_idx], '\\n')"
      ],
      "metadata": {
        "colab": {
          "base_uri": "https://localhost:8080/"
        },
        "id": "0UPZwJ_bQlES",
        "outputId": "d8e27cb7-3b15-4f47-b9aa-b27e23b60465"
      },
      "execution_count": null,
      "outputs": [
        {
          "output_type": "stream",
          "name": "stdout",
          "text": [
            "Fold 1 검증 데이터 타깃 값:\n",
            "['스팸' '일반' '일반' '일반' '일반' '일반' '일반' '일반' '일반' '일반'] \n",
            "\n",
            "Fold 2 검증 데이터 타깃 값:\n",
            "['스팸' '일반' '일반' '일반' '일반' '일반' '일반' '일반' '일반' '일반'] \n",
            "\n",
            "Fold 3 검증 데이터 타깃 값:\n",
            "['스팸' '일반' '일반' '일반' '일반' '일반' '일반' '일반' '일반' '일반'] \n",
            "\n",
            "Fold 4 검증 데이터 타깃 값:\n",
            "['일반' '일반' '일반' '일반' '일반' '일반' '일반' '일반' '일반' '일반'] \n",
            "\n",
            "Fold 5 검증 데이터 타깃 값:\n",
            "['스팸' '스팸' '일반' '일반' '일반' '일반' '일반' '일반' '일반' '일반'] \n",
            "\n"
          ]
        }
      ]
    },
    {
      "cell_type": "code",
      "source": [
        "from sklearn.model_selection import StratifiedKFold\n",
        "\n",
        "X = np.array(range(50))\n",
        "y = np.array(['스팸']*5 + ['일반']*45)\n",
        "\n",
        "folds = StratifiedKFold(n_splits=5) # '층화' K 폴드 교차 검증\n",
        "\n",
        "for idx, (train_idx, valid_idx) in enumerate(folds.split(X, y)):\n",
        "    print(f'Fold {idx+1} 검증 데이터 타깃 값:')\n",
        "    print(y[valid_idx], '\\n')"
      ],
      "metadata": {
        "colab": {
          "base_uri": "https://localhost:8080/"
        },
        "id": "bi46IsKkQpFM",
        "outputId": "84a1c404-75e1-4ac2-f6c7-d6e7c4641d68"
      },
      "execution_count": null,
      "outputs": [
        {
          "output_type": "stream",
          "name": "stdout",
          "text": [
            "Fold 1 검증 데이터 타깃 값:\n",
            "['스팸' '일반' '일반' '일반' '일반' '일반' '일반' '일반' '일반' '일반'] \n",
            "\n",
            "Fold 2 검증 데이터 타깃 값:\n",
            "['스팸' '일반' '일반' '일반' '일반' '일반' '일반' '일반' '일반' '일반'] \n",
            "\n",
            "Fold 3 검증 데이터 타깃 값:\n",
            "['스팸' '일반' '일반' '일반' '일반' '일반' '일반' '일반' '일반' '일반'] \n",
            "\n",
            "Fold 4 검증 데이터 타깃 값:\n",
            "['스팸' '일반' '일반' '일반' '일반' '일반' '일반' '일반' '일반' '일반'] \n",
            "\n",
            "Fold 5 검증 데이터 타깃 값:\n",
            "['스팸' '일반' '일반' '일반' '일반' '일반' '일반' '일반' '일반' '일반'] \n",
            "\n"
          ]
        }
      ]
    }
  ]
}