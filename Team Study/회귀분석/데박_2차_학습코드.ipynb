{
  "nbformat": 4,
  "nbformat_minor": 0,
  "metadata": {
    "colab": {
      "provenance": [],
      "toc_visible": true
    },
    "kernelspec": {
      "name": "python3",
      "display_name": "Python 3"
    },
    "language_info": {
      "name": "python"
    }
  },
  "cells": [
    {
      "cell_type": "markdown",
      "source": [
        "# 4장 로지스틱회귀분석"
      ],
      "metadata": {
        "id": "nSuTOcEFmtQx"
      }
    },
    {
      "cell_type": "markdown",
      "source": [
        "## 분류 문제 정의\n",
        "> 이진 분류: 아웃풋이 Bool 값(참/거짓)\n",
        "\n",
        "> 다중 클래스 분류: 아웃풋이 다중 값을 갖는 경우"
      ],
      "metadata": {
        "id": "HHdWa7MYoASJ"
      }
    },
    {
      "cell_type": "code",
      "source": [
        "%matplotlib inline"
      ],
      "metadata": {
        "id": "mshKXh-un-v6"
      },
      "execution_count": 5,
      "outputs": []
    },
    {
      "cell_type": "code",
      "source": [
        "import matplotlib.pyplot as plt\n",
        "from sklearn.datasets import make_classification"
      ],
      "metadata": {
        "id": "F0RfGtF-omcl"
      },
      "execution_count": 6,
      "outputs": []
    },
    {
      "cell_type": "markdown",
      "source": [
        "## 문제의 공식화: 이진 분류"
      ],
      "metadata": {
        "id": "cqYIpER6tYdh"
      }
    },
    {
      "cell_type": "markdown",
      "source": [
        "> n_samples: 생성할 샘플의 수\n",
        "\n",
        "> n_features: 각 샘플의 feature 수 / n_informative + n_redundant\n",
        "\n",
        "> n_informative: 선형결정관계를 생성하는 데에 사용되는 feature의 수\n",
        "\n",
        "> n_redundant: 선형결정관계를 생성하는 데에 사용되지 않는 feature의 수\n",
        "\n",
        "> n_clusters_per_class: 각 클래스 당 클래스터의 수\n",
        "\n",
        "> class_sep: 평균적인 거리, 높을 수록 클래스 간의 분류가 잘 이루어짐"
      ],
      "metadata": {
        "id": "s0cOgaj-sI7w"
      }
    },
    {
      "cell_type": "code",
      "source": [
        "X, y = make_classification(n_samples = 100,\n",
        "                           n_features = 2,\n",
        "                           n_informative = 2,\n",
        "                           n_redundant = 0,\n",
        "                           n_clusters_per_class = 1,\n",
        "                           class_sep = 2.0,\n",
        "                           random_state = 101)\n",
        "X, y\n",
        "\n",
        "#1. 2차원 공간에 2개의 정보적 특성을 가진 100개의 샘플을 생성\n",
        "#2. 클래스 간의 평균적인 거리가 2.0이며 클래스 당 하나의 클러스터가 있는 분류 문제용 가상 데이터셋을 생성"
      ],
      "metadata": {
        "colab": {
          "base_uri": "https://localhost:8080/"
        },
        "id": "hZiYVtZtosrA",
        "outputId": "618101a8-d681-4934-edbe-28785e7831aa"
      },
      "execution_count": 7,
      "outputs": [
        {
          "output_type": "execute_result",
          "data": {
            "text/plain": [
              "(array([[-1.04910781,  2.85665467],\n",
              "        [-0.95081668, -2.92962994],\n",
              "        [-1.41723589, -2.39627051],\n",
              "        [-2.92377584, -1.5567371 ],\n",
              "        [-2.41728707,  1.4951089 ],\n",
              "        [-3.40154264, -1.14982839],\n",
              "        [-1.53659935, -2.28580115],\n",
              "        [-1.96406213,  1.8664572 ],\n",
              "        [-2.19070633,  1.65164572],\n",
              "        [-1.31680513,  2.50444458],\n",
              "        [-1.79105894,  2.26372183],\n",
              "        [-2.28561844, -1.81814172],\n",
              "        [-2.10327634, -2.04648481],\n",
              "        [-1.18806127, -2.56253522],\n",
              "        [-1.23117577, -2.43168205],\n",
              "        [-1.99030787,  2.11046883],\n",
              "        [-0.7761225 ,  3.36618615],\n",
              "        [-2.87909083,  1.30763322],\n",
              "        [-2.26359432,  1.67342039],\n",
              "        [-0.69672613, -2.88672306],\n",
              "        [-1.53984553,  2.86891725],\n",
              "        [-2.87361456, -1.27402704],\n",
              "        [-1.97189546, -1.93060566],\n",
              "        [-1.92003663,  2.31224241],\n",
              "        [-2.01864042, -1.89207083],\n",
              "        [-1.97024612, -1.95093269],\n",
              "        [-1.54635501, -2.66437846],\n",
              "        [-1.44273586, -2.48626113],\n",
              "        [-2.48450598, -1.66115829],\n",
              "        [-3.42542457,  0.89756069],\n",
              "        [-1.71220678,  2.04176535],\n",
              "        [-2.69303466,  1.37581288],\n",
              "        [-2.02626914,  2.27215712],\n",
              "        [-1.99323522, -2.35227607],\n",
              "        [-2.77531421, -1.8474369 ],\n",
              "        [-2.26934916, -1.91051477],\n",
              "        [-2.66935704, -1.32619612],\n",
              "        [-1.8131223 ,  2.15959474],\n",
              "        [-2.519842  ,  1.63326893],\n",
              "        [-2.50692983, -2.06618713],\n",
              "        [-2.89062623,  1.41770966],\n",
              "        [-1.52605035, -2.23678568],\n",
              "        [-0.12614399, -3.39344047],\n",
              "        [-1.06625817, -3.02933661],\n",
              "        [-1.9724156 , -2.02930841],\n",
              "        [-2.83407062, -1.40980446],\n",
              "        [-2.27559816, -2.22625207],\n",
              "        [-0.46231876,  3.5751343 ],\n",
              "        [-1.7197414 ,  2.55335111],\n",
              "        [-1.27864423,  2.93782396],\n",
              "        [-0.28659422, -3.07885813],\n",
              "        [-3.30719128, -1.0557704 ],\n",
              "        [-1.70024325, -2.08619712],\n",
              "        [-2.13942875, -1.59740461],\n",
              "        [-3.54794881, -0.50571585],\n",
              "        [-2.2484681 ,  1.99245569],\n",
              "        [-2.54026133,  1.21936113],\n",
              "        [-2.79631083, -1.30478333],\n",
              "        [-1.49142324, -2.52979615],\n",
              "        [ 0.16018254, -4.0584446 ],\n",
              "        [-0.39246496, -3.1078507 ],\n",
              "        [-0.5477831 ,  2.89291907],\n",
              "        [-2.27206097, -1.64694789],\n",
              "        [-1.58323084,  1.88297212],\n",
              "        [-1.53788987,  2.78186854],\n",
              "        [-2.03733521,  2.20956611],\n",
              "        [-1.64253656,  2.17568489],\n",
              "        [-1.73809183,  2.32885453],\n",
              "        [-3.42914973, -0.9224317 ],\n",
              "        [-2.43431083,  1.82774899],\n",
              "        [-2.56284693, -1.69998969],\n",
              "        [-1.89694209, -1.7429182 ],\n",
              "        [-2.35835466,  1.43876945],\n",
              "        [-0.82526859,  3.01824614],\n",
              "        [-0.57713994,  3.48910927],\n",
              "        [-1.70220574,  2.22075029],\n",
              "        [-0.58317012, -2.78848572],\n",
              "        [-3.06066714,  0.58776489],\n",
              "        [-2.30540757, -1.79505976],\n",
              "        [-2.04300472, -1.7914217 ],\n",
              "        [-2.57781485, -1.9295117 ],\n",
              "        [-1.59889534, -2.45637189],\n",
              "        [-1.53589976,  2.33683795],\n",
              "        [-1.46364552,  2.68892146],\n",
              "        [-1.11139434,  3.2150816 ],\n",
              "        [-3.33239042,  1.06976832],\n",
              "        [-1.57862185,  2.4680862 ],\n",
              "        [-2.82497521, -1.29593312],\n",
              "        [-1.10279855,  2.83056489],\n",
              "        [-2.43404718,  1.47640749],\n",
              "        [-0.75452799,  3.27846265],\n",
              "        [-3.38613156, -0.9305781 ],\n",
              "        [-1.29840446,  2.99230871],\n",
              "        [-0.60717229,  3.46890303],\n",
              "        [-2.10427368,  1.70945851],\n",
              "        [-2.07304933, -1.7848764 ],\n",
              "        [-0.71792608,  3.40696214],\n",
              "        [-2.27789291,  2.23227427],\n",
              "        [-2.57884295, -1.54422884],\n",
              "        [-2.12991391,  1.43197012]]),\n",
              " array([0, 1, 1, 1, 0, 1, 1, 0, 0, 0, 0, 1, 1, 1, 1, 0, 0, 0, 0, 1, 0, 1,\n",
              "        1, 0, 1, 1, 1, 1, 1, 0, 0, 0, 0, 1, 1, 1, 1, 0, 0, 1, 0, 1, 1, 1,\n",
              "        1, 1, 1, 0, 0, 0, 1, 1, 1, 1, 1, 0, 0, 1, 1, 1, 1, 0, 1, 0, 0, 0,\n",
              "        0, 0, 0, 0, 1, 1, 0, 0, 0, 0, 1, 0, 1, 1, 1, 1, 0, 0, 0, 0, 0, 1,\n",
              "        0, 0, 0, 1, 0, 0, 0, 1, 0, 0, 1, 0]))"
            ]
          },
          "metadata": {},
          "execution_count": 7
        }
      ]
    },
    {
      "cell_type": "code",
      "source": [
        "plt.scatter(X[:, 0], X[:, 1], marker = 'o', c = y,\n",
        "            linewidth = 0, edgecolor = None)\n",
        "plt.xlabel('Feature 1')\n",
        "plt.ylabel('Feature 2')\n",
        "plt.show()"
      ],
      "metadata": {
        "colab": {
          "base_uri": "https://localhost:8080/",
          "height": 449
        },
        "id": "x_mXLKyEsgez",
        "outputId": "3665f469-d471-43ad-db07-2d4eea7740c8"
      },
      "execution_count": 8,
      "outputs": [
        {
          "output_type": "display_data",
          "data": {
            "text/plain": [
              "<Figure size 640x480 with 1 Axes>"
            ],
            "image/png": "[encoded data removed]"
          },
          "metadata": {}
        }
      ]
    },
    {
      "cell_type": "markdown",
      "source": [
        "## 클래시파이어의 성능 평가 - 혼동행렬"
      ],
      "metadata": {
        "id": "rf0CLt5AtQSB"
      }
    },
    {
      "cell_type": "code",
      "source": [
        "y_orig = [0, 0, 0, 0, 0, 0, 1, 1, 1, 1]\n",
        "y_pred = [0, 0, 0, 0, 1, 1, 1, 1, 1, 0]"
      ],
      "metadata": {
        "id": "KaDRcd73tSYM"
      },
      "execution_count": 9,
      "outputs": []
    },
    {
      "cell_type": "code",
      "source": [
        "from sklearn.metrics import confusion_matrix\n",
        "confusion_matrix(y_orig, y_pred)\n",
        "\n",
        "#1. 샘플의 수: 10개\n",
        "#2. 원본 데이터 셋에서 0으로(1로) 분류된 샘플의 수: 6개(4개) / 행의 합계\n",
        "#3. 예측 데이터 셋에서 0으로(1로) 분류된 샘플의 수: 5개(5개) / 열의 합계\n",
        "#4. 올바르게 분류된(분류되지 않은) 샘플의 수: 7개(3개) / 대각원소(비대각원소)의 합계"
      ],
      "metadata": {
        "colab": {
          "base_uri": "https://localhost:8080/"
        },
        "id": "7UjNgYpGtn6u",
        "outputId": "07d57df0-bff8-4d2a-cfec-2f82ad57fc71"
      },
      "execution_count": 10,
      "outputs": [
        {
          "output_type": "execute_result",
          "data": {
            "text/plain": [
              "array([[4, 2],\n",
              "       [1, 3]])"
            ]
          },
          "metadata": {},
          "execution_count": 10
        }
      ]
    },
    {
      "cell_type": "markdown",
      "source": [
        "### 히트맵: 혼동행렬을 그래픽으로 표현한 형태"
      ],
      "metadata": {
        "id": "mn91iN0avICj"
      }
    },
    {
      "cell_type": "code",
      "source": [
        "plt.matshow(confusion_matrix(y_orig, y_pred))\n",
        "plt.title('Confusion Matrix')\n",
        "plt.colorbar()\n",
        "plt.ylabel('True Label')\n",
        "plt.xlabel('Predicted Label')\n",
        "plt.show()"
      ],
      "metadata": {
        "colab": {
          "base_uri": "https://localhost:8080/",
          "height": 426
        },
        "id": "o7znBzJpu7lF",
        "outputId": "d9cbdf6a-9c79-4aa0-cb67-4a264151900d"
      },
      "execution_count": 11,
      "outputs": [
        {
          "output_type": "display_data",
          "data": {
            "text/plain": [
              "<Figure size 480x480 with 2 Axes>"
            ],
            "image/png": "[encoded data removed]"
          },
          "metadata": {}
        }
      ]
    },
    {
      "cell_type": "markdown",
      "source": [
        "### 정확도: 총 샘플 개수에 대한 정확한 분류의 백분율"
      ],
      "metadata": {
        "id": "sRx7FY8TwBJ8"
      }
    },
    {
      "cell_type": "code",
      "source": [
        "from sklearn.metrics import accuracy_score\n",
        "accuracy_score(y_orig, y_pred)"
      ],
      "metadata": {
        "colab": {
          "base_uri": "https://localhost:8080/"
        },
        "id": "H8Pg1zRUvjsD",
        "outputId": "3f7be291-e7f2-4792-c221-2461221d67b3"
      },
      "execution_count": 12,
      "outputs": [
        {
          "output_type": "execute_result",
          "data": {
            "text/plain": [
              "0.7"
            ]
          },
          "metadata": {},
          "execution_count": 12
        }
      ]
    },
    {
      "cell_type": "markdown",
      "source": [
        "### 정밀도: 하나의 라벨에 대한 정확한 분류의 백분율"
      ],
      "metadata": {
        "id": "NISqeoKvwXZn"
      }
    },
    {
      "cell_type": "code",
      "source": [
        "from sklearn.metrics import precision_score\n",
        "precision_score(y_orig, y_pred)"
      ],
      "metadata": {
        "colab": {
          "base_uri": "https://localhost:8080/"
        },
        "id": "2EllQM-_wdhQ",
        "outputId": "d0628e95-f68b-4c8c-ea84-464d9313521d"
      },
      "execution_count": 13,
      "outputs": [
        {
          "output_type": "execute_result",
          "data": {
            "text/plain": [
              "0.6"
            ]
          },
          "metadata": {},
          "execution_count": 13
        }
      ]
    },
    {
      "cell_type": "markdown",
      "source": [
        "### 재현율: 하나의 라벨에 대한 정확한 감지의 백분율"
      ],
      "metadata": {
        "id": "yRUkC9vTwzEy"
      }
    },
    {
      "cell_type": "code",
      "source": [
        "from sklearn.metrics import recall_score\n",
        "recall_score(y_orig, y_pred)"
      ],
      "metadata": {
        "colab": {
          "base_uri": "https://localhost:8080/"
        },
        "id": "rpAqicGpwuaV",
        "outputId": "19bf8666-8e8b-4ea0-b734-299cd5105ebd"
      },
      "execution_count": 14,
      "outputs": [
        {
          "output_type": "execute_result",
          "data": {
            "text/plain": [
              "0.75"
            ]
          },
          "metadata": {},
          "execution_count": 14
        }
      ]
    },
    {
      "cell_type": "markdown",
      "source": [
        "### f1 score: 정밀도와 재현율의 조화평균"
      ],
      "metadata": {
        "id": "6i_vdqc6xceC"
      }
    },
    {
      "cell_type": "code",
      "source": [
        "from sklearn.metrics import f1_score\n",
        "f1_score(y_orig, y_pred)"
      ],
      "metadata": {
        "colab": {
          "base_uri": "https://localhost:8080/"
        },
        "id": "O7vhBeigxwFH",
        "outputId": "711c575a-a8d2-4511-fab1-a5b024a80e06"
      },
      "execution_count": 15,
      "outputs": [
        {
          "output_type": "execute_result",
          "data": {
            "text/plain": [
              "0.6666666666666665"
            ]
          },
          "metadata": {},
          "execution_count": 15
        }
      ]
    },
    {
      "cell_type": "markdown",
      "source": [
        "### 각 클래스에 대한 모든 점수를 계산하는 method"
      ],
      "metadata": {
        "id": "tIWfwUcEyaqd"
      }
    },
    {
      "cell_type": "code",
      "source": [
        "from sklearn.metrics import classification_report\n",
        "print(classification_report(y_orig, y_pred))"
      ],
      "metadata": {
        "colab": {
          "base_uri": "https://localhost:8080/"
        },
        "id": "MbgBOjT7x88l",
        "outputId": "0deda2ab-5cf5-4bfb-ef85-6a6ee08f0ed1"
      },
      "execution_count": 16,
      "outputs": [
        {
          "output_type": "stream",
          "name": "stdout",
          "text": [
            "              precision    recall  f1-score   support\n",
            "\n",
            "           0       0.80      0.67      0.73         6\n",
            "           1       0.60      0.75      0.67         4\n",
            "\n",
            "    accuracy                           0.70        10\n",
            "   macro avg       0.70      0.71      0.70        10\n",
            "weighted avg       0.72      0.70      0.70        10\n",
            "\n"
          ]
        }
      ]
    },
    {
      "cell_type": "markdown",
      "source": [
        "## 확률 기반 접근법 정의"
      ],
      "metadata": {
        "id": "QKSvK4lpyhIO"
      }
    },
    {
      "cell_type": "code",
      "source": [
        "from sklearn.model_selection import train_test_split\n",
        "X_train, X_test, y_train, \\\n",
        "y_test = train_test_split(X, y.astype(float), \\\n",
        "                          test_size = 0.33, random_state = 1234)"
      ],
      "metadata": {
        "id": "Z7_zoJdQyRgl"
      },
      "execution_count": 17,
      "outputs": []
    },
    {
      "cell_type": "code",
      "source": [
        "y_test.dtype"
      ],
      "metadata": {
        "colab": {
          "base_uri": "https://localhost:8080/"
        },
        "id": "yBR4okeizXNM",
        "outputId": "db9fe2f9-6fc4-481b-d89d-79d5274d25e4"
      },
      "execution_count": 18,
      "outputs": [
        {
          "output_type": "execute_result",
          "data": {
            "text/plain": [
              "dtype('float64')"
            ]
          },
          "metadata": {},
          "execution_count": 18
        }
      ]
    },
    {
      "cell_type": "code",
      "source": [
        "y_test"
      ],
      "metadata": {
        "colab": {
          "base_uri": "https://localhost:8080/"
        },
        "id": "2XBl_IFMzZis",
        "outputId": "1b8d3f41-637b-4c55-8203-69617203663e"
      },
      "execution_count": 19,
      "outputs": [
        {
          "output_type": "execute_result",
          "data": {
            "text/plain": [
              "array([0., 1., 1., 0., 1., 0., 0., 1., 1., 1., 1., 1., 0., 0., 0., 1., 0.,\n",
              "       1., 1., 0., 0., 1., 0., 0., 0., 0., 1., 0., 1., 0., 0., 0., 0.])"
            ]
          },
          "metadata": {},
          "execution_count": 19
        }
      ]
    },
    {
      "cell_type": "code",
      "source": [
        "from sklearn.linear_model import LinearRegression\n",
        "regr = LinearRegression()\n",
        "regr.fit(X_train, y_train)\n",
        "regr.predict(X_test)"
      ],
      "metadata": {
        "colab": {
          "base_uri": "https://localhost:8080/"
        },
        "id": "X-Z3hdmlzvDI",
        "outputId": "9181c5cc-94c4-42ff-d5bd-16d43481888a"
      },
      "execution_count": 20,
      "outputs": [
        {
          "output_type": "execute_result",
          "data": {
            "text/plain": [
              "array([ 0.24911764,  0.94480274,  1.04790767, -0.1098638 ,  0.87290165,\n",
              "        0.75712674,  0.33164394,  1.05124376,  0.9824979 ,  1.21868515,\n",
              "        1.03339797,  1.3545522 ,  0.12490736,  0.17187707,  0.28451906,\n",
              "        0.82486431, -0.21587768,  1.13600811,  0.90196515,  0.02748433,\n",
              "       -0.01239104,  0.78312112,  0.37006021, -0.08587363,  0.05538425,\n",
              "       -0.23606721,  0.88881157,  0.06381301,  0.91510289, -0.01499934,\n",
              "        0.2235076 , -0.06710638,  0.04796501])"
            ]
          },
          "metadata": {},
          "execution_count": 20
        }
      ]
    },
    {
      "cell_type": "markdown",
      "source": [
        "### 시그모이드 함수"
      ],
      "metadata": {
        "id": "r-7xaOin0oIe"
      }
    },
    {
      "cell_type": "code",
      "source": [
        "import numpy as np\n",
        "\n",
        "def model(x):\n",
        "  return 1 / (1 + np.exp(-x))\n",
        "\n",
        "X_vals = np.linspace(-10, 10, 1000)\n",
        "plt.plot(X_vals, model(X_vals), color = 'blue', linewidth = 3)\n",
        "plt.ylabel('sigma(t)')\n",
        "plt.xlabel('t')\n",
        "\n",
        "plt.show()"
      ],
      "metadata": {
        "colab": {
          "base_uri": "https://localhost:8080/",
          "height": 449
        },
        "id": "EAUb486p0hXF",
        "outputId": "48bf0a2d-a1f4-49f1-92f9-25c3c059b013"
      },
      "execution_count": 21,
      "outputs": [
        {
          "output_type": "display_data",
          "data": {
            "text/plain": [
              "<Figure size 640x480 with 1 Axes>"
            ],
            "image/png": "[encoded data removed]"
          },
          "metadata": {}
        }
      ]
    },
    {
      "cell_type": "markdown",
      "source": [
        "### 몇 가지 코드 확인"
      ],
      "metadata": {
        "id": "eYg6mOI-1edF"
      }
    },
    {
      "cell_type": "code",
      "source": [
        "from sklearn.linear_model import LogisticRegression\n",
        "\n",
        "clf = LogisticRegression()\n",
        "clf.fit(X_train, y_train.astype(int))\n",
        "y_clf = clf.predict(X_test)\n",
        "\n",
        "print(classification_report(y_test, y_clf))"
      ],
      "metadata": {
        "colab": {
          "base_uri": "https://localhost:8080/"
        },
        "id": "hIOsbLOR1irE",
        "outputId": "582d114c-9961-491c-fdc5-a209609008fd"
      },
      "execution_count": 22,
      "outputs": [
        {
          "output_type": "stream",
          "name": "stdout",
          "text": [
            "              precision    recall  f1-score   support\n",
            "\n",
            "         0.0       1.00      0.95      0.97        19\n",
            "         1.0       0.93      1.00      0.97        14\n",
            "\n",
            "    accuracy                           0.97        33\n",
            "   macro avg       0.97      0.97      0.97        33\n",
            "weighted avg       0.97      0.97      0.97        33\n",
            "\n"
          ]
        }
      ]
    },
    {
      "cell_type": "markdown",
      "source": [
        "#### 클래시파이어의 결정 경계 확인"
      ],
      "metadata": {
        "id": "pOQLdPFE9KMV"
      }
    },
    {
      "cell_type": "code",
      "source": [
        "h = .02\n",
        "\n",
        "x_min, x_max = X[:, 0].min() - .5, X[:, 0].max() + .5\n",
        "y_min, y_max = X[:, 1].min() - .5, X[:, 1].max() + .5\n",
        "xx, yy = np.meshgrid(np.arange(x_min, x_max, h), np.arange(y_min, y_max, h))\n",
        "Z = clf.predict(np.c_[xx.ravel(), yy.ravel()])"
      ],
      "metadata": {
        "id": "E5JCzmt-9JnK"
      },
      "execution_count": 23,
      "outputs": []
    },
    {
      "cell_type": "code",
      "source": [
        "Z = Z.reshape(xx.shape)\n",
        "plt.pcolormesh(xx, yy, Z, cmap = plt.cm.autumn)"
      ],
      "metadata": {
        "colab": {
          "base_uri": "https://localhost:8080/",
          "height": 450
        },
        "id": "VucZyRTgKU4a",
        "outputId": "010ed74a-0bef-44f5-aeb1-1298bdfb9e05"
      },
      "execution_count": 24,
      "outputs": [
        {
          "output_type": "execute_result",
          "data": {
            "text/plain": [
              "<matplotlib.collections.QuadMesh at 0x7bfd32bfd930>"
            ]
          },
          "metadata": {},
          "execution_count": 24
        },
        {
          "output_type": "display_data",
          "data": {
            "text/plain": [
              "<Figure size 640x480 with 1 Axes>"
            ],
            "image/png": "[encoded data removed]"
          },
          "metadata": {}
        }
      ]
    },
    {
      "cell_type": "code",
      "source": [
        "plt.scatter(X[:, 0], X[:, 1], c = y, edgecolors = 'k', linewidth = 0, cmap = plt.cm.Paired)"
      ],
      "metadata": {
        "colab": {
          "base_uri": "https://localhost:8080/",
          "height": 448
        },
        "id": "bN61BbhiKgJR",
        "outputId": "bd0db759-8c11-4f91-af7b-ff62950c23b5"
      },
      "execution_count": 25,
      "outputs": [
        {
          "output_type": "execute_result",
          "data": {
            "text/plain": [
              "<matplotlib.collections.PathCollection at 0x7bfd30937370>"
            ]
          },
          "metadata": {},
          "execution_count": 25
        },
        {
          "output_type": "display_data",
          "data": {
            "text/plain": [
              "<Figure size 640x480 with 1 Axes>"
            ],
            "image/png": "[encoded data removed]"
          },
          "metadata": {}
        }
      ]
    },
    {
      "cell_type": "code",
      "source": [
        "h = .02\n",
        "\n",
        "x_min, x_max = X[:, 0].min() - .5, X[:, 0].max() + .5\n",
        "y_min, y_max = X[:, 1].min() - .5, X[:, 1].max() + .5\n",
        "xx, yy = np.meshgrid(np.arange(x_min, x_max, h), np.arange(y_min, y_max, h))\n",
        "Z = clf.predict(np.c_[xx.ravel(), yy.ravel()])\n",
        "\n",
        "Z = Z.reshape(xx.shape)\n",
        "plt.pcolormesh(xx, yy, Z, cmap = plt.cm.autumn)\n",
        "\n",
        "plt.scatter(X[:, 0], X[:, 1], c = y, edgecolors = 'k', linewidth = 0, cmap = plt.cm.Paired)\n",
        "\n",
        "plt.xlim(xx.min(), xx.max())\n",
        "plt.ylim(yy.min(), yy.max())\n",
        "plt.xticks(())\n",
        "plt.yticks(())\n",
        "\n",
        "plt.show()"
      ],
      "metadata": {
        "colab": {
          "base_uri": "https://localhost:8080/",
          "height": 406
        },
        "id": "09dvWlLuKsfF",
        "outputId": "f752574b-ebad-4931-c9ba-851f172c1f02"
      },
      "execution_count": 26,
      "outputs": [
        {
          "output_type": "display_data",
          "data": {
            "text/plain": [
              "<Figure size 640x480 with 1 Axes>"
            ],
            "image/png": "[encoded data removed]"
          },
          "metadata": {}
        }
      ]
    },
    {
      "cell_type": "markdown",
      "source": [
        "#### 순수한 확률과 가중치 벡터 확인"
      ],
      "metadata": {
        "id": "dVsAyIb3LZWf"
      }
    },
    {
      "cell_type": "code",
      "source": [
        "Z = clf.predict_proba(np.c_[xx.ravel(), yy.ravel()])[:, 1]\n",
        "Z = Z.reshape(xx.shape)\n",
        "plt.pcolormesh(xx, yy, Z, cmap=plt.cm.autumn)\n",
        "\n",
        "ax = plt.axes()\n",
        "ax.arrow(0, 0, clf.coef_[0][0], clf.coef_[0][1], head_width = 0.5,\n",
        "         head_length = 0.5, fc = 'k', ec = 'k')\n",
        "plt.scatter(0, 0, marker = 'o', c = 'k')\n",
        "\n",
        "plt.xlim(xx.min(), xx.max())\n",
        "plt.ylim(yy.min(), yy.max())\n",
        "\n",
        "plt.show()"
      ],
      "metadata": {
        "colab": {
          "base_uri": "https://localhost:8080/",
          "height": 433
        },
        "id": "OAf_Wj0sLFny",
        "outputId": "7a364c54-67d1-4b69-d36a-e34d63c00c76"
      },
      "execution_count": 27,
      "outputs": [
        {
          "output_type": "display_data",
          "data": {
            "text/plain": [
              "<Figure size 640x480 with 2 Axes>"
            ],
            "image/png": "[encoded data removed]"
          },
          "metadata": {}
        }
      ]
    },
    {
      "cell_type": "code",
      "source": [
        "#클래시파이어가 라벨을 훈련하고 예측하는 데 걸리는 시간 살펴보기\n",
        "\n",
        "%timeit clf.fit(X, y)"
      ],
      "metadata": {
        "colab": {
          "base_uri": "https://localhost:8080/"
        },
        "id": "x02xR3h33cS_",
        "outputId": "c6d02cbd-e8c1-442b-d34a-4fcc92708c6d"
      },
      "execution_count": 28,
      "outputs": [
        {
          "output_type": "stream",
          "name": "stdout",
          "text": [
            "7.97 ms ± 2.92 ms per loop (mean ± std. dev. of 7 runs, 100 loops each)\n"
          ]
        }
      ]
    },
    {
      "cell_type": "code",
      "source": [
        "%timeit clf.predict(X)"
      ],
      "metadata": {
        "colab": {
          "base_uri": "https://localhost:8080/"
        },
        "id": "I38PzLgs4R0f",
        "outputId": "cc8207b7-7579-4c4c-9bae-af44b6256150"
      },
      "execution_count": 29,
      "outputs": [
        {
          "output_type": "stream",
          "name": "stdout",
          "text": [
            "128 µs ± 60.2 µs per loop (mean ± std. dev. of 7 runs, 1000 loops each)\n"
          ]
        }
      ]
    },
    {
      "cell_type": "code",
      "source": [
        "%timeit clf.predict_proba(X)"
      ],
      "metadata": {
        "colab": {
          "base_uri": "https://localhost:8080/"
        },
        "id": "SRHFRSD94XNe",
        "outputId": "52679962-8dd7-4028-8f20-dc8f1f37eeec"
      },
      "execution_count": 30,
      "outputs": [
        {
          "output_type": "stream",
          "name": "stdout",
          "text": [
            "224 µs ± 52 µs per loop (mean ± std. dev. of 7 runs, 10000 loops each)\n"
          ]
        }
      ]
    },
    {
      "cell_type": "markdown",
      "source": [
        "### 다중 클래스 로지스틱회귀"
      ],
      "metadata": {
        "id": "qELARjXD4kB-"
      }
    },
    {
      "cell_type": "code",
      "source": [
        "%reset -f"
      ],
      "metadata": {
        "id": "kmVuLPme4bnF"
      },
      "execution_count": 31,
      "outputs": []
    },
    {
      "cell_type": "code",
      "source": [
        "%matplotlib inline\n",
        "\n",
        "import matplotlib.pyplot as plt\n",
        "from sklearn.datasets import make_classification\n",
        "\n",
        "X, y = make_classification(n_samples = 200, n_features = 2,\n",
        "                           n_classes = 3, n_informative = 2,\n",
        "                           n_redundant = 0, n_clusters_per_class = 1,\n",
        "                           class_sep = 2.0, random_state = 101)\n",
        "\n",
        "plt.scatter(X[:, 0], X[:, 1], marker = 'o', c = y, linewidth = 0, edgecolor = None)\n",
        "plt.show()"
      ],
      "metadata": {
        "colab": {
          "base_uri": "https://localhost:8080/",
          "height": 430
        },
        "id": "o2kELC7c41b1",
        "outputId": "e6ec651f-b85c-438d-f65c-0bb5dfeb2343"
      },
      "execution_count": 32,
      "outputs": [
        {
          "output_type": "display_data",
          "data": {
            "text/plain": [
              "<Figure size 640x480 with 1 Axes>"
            ],
            "image/png": "[encoded data removed]"
          },
          "metadata": {}
        }
      ]
    },
    {
      "cell_type": "code",
      "source": [
        "from sklearn.model_selection import train_test_split\n",
        "X_train, X_test, y_train, y_test = train_test_split(X, y.astype(float), test_size = 0.33, random_state = 101)"
      ],
      "metadata": {
        "id": "bN0VOFmi5Yqc"
      },
      "execution_count": 33,
      "outputs": []
    },
    {
      "cell_type": "code",
      "source": [
        "from sklearn.linear_model import LogisticRegression\n",
        "\n",
        "clf = LogisticRegression()\n",
        "clf.fit(X_train, y_train.astype(int))\n",
        "y_clf = clf.predict(X_test)"
      ],
      "metadata": {
        "id": "cQJfgLy351Jc"
      },
      "execution_count": 34,
      "outputs": []
    },
    {
      "cell_type": "code",
      "source": [
        "from sklearn.metrics import classification_report\n",
        "print(classification_report(y_test, y_clf))"
      ],
      "metadata": {
        "colab": {
          "base_uri": "https://localhost:8080/"
        },
        "id": "LzfL_FG-6Ftc",
        "outputId": "01b67f4d-c866-4499-862a-9ae2c7ee8d6c"
      },
      "execution_count": 35,
      "outputs": [
        {
          "output_type": "stream",
          "name": "stdout",
          "text": [
            "              precision    recall  f1-score   support\n",
            "\n",
            "         0.0       1.00      1.00      1.00        24\n",
            "         1.0       1.00      1.00      1.00        22\n",
            "         2.0       1.00      1.00      1.00        20\n",
            "\n",
            "    accuracy                           1.00        66\n",
            "   macro avg       1.00      1.00      1.00        66\n",
            "weighted avg       1.00      1.00      1.00        66\n",
            "\n"
          ]
        }
      ]
    },
    {
      "cell_type": "code",
      "source": [
        "import numpy as np\n",
        "\n",
        "#메시의 스텝 크기\n",
        "h = .02\n",
        "\n",
        "x_min, x_max = X[:, 0].min() - .5, X[:, 0].max() + .5\n",
        "y_min, y_max = X[:, 1].min() - .5, X[:, 1].max() + .5\n",
        "xx, yy = np.meshgrid(np.arange(x_min, x_max, h), np.arange(y_min, y_max, h))\n",
        "Z = clf.predict(np.c_[xx.ravel(), yy.ravel()])\n",
        "\n",
        "#결과를 색상으로 플롯\n",
        "Z = Z.reshape(xx.shape)\n",
        "plt.pcolormesh(xx, yy, Z, cmap = plt.cm.autumn)\n",
        "\n",
        "#훈련 포인트들도 플롯\n",
        "plt.scatter(X[:, 0], X[:, 1], c=y, edgecolors='k', cmap=plt.cm.Paired)\n",
        "plt.xlim(xx.min(), xx.max())\n",
        "plt.ylim(yy.min(), yy.max())\n",
        "plt.xticks(())\n",
        "plt.yticks(())\n",
        "\n",
        "plt.show()"
      ],
      "metadata": {
        "colab": {
          "base_uri": "https://localhost:8080/",
          "height": 406
        },
        "id": "7yANbCGr6PKA",
        "outputId": "813cf411-cb74-472e-d47e-0301def8d307"
      },
      "execution_count": 36,
      "outputs": [
        {
          "output_type": "display_data",
          "data": {
            "text/plain": [
              "<Figure size 640x480 with 1 Axes>"
            ],
            "image/png": "[encoded data removed]"
          },
          "metadata": {}
        }
      ]
    },
    {
      "cell_type": "code",
      "source": [
        "print(X_test[0])\n",
        "print(y_test[0])\n",
        "print(y_clf[0])"
      ],
      "metadata": {
        "colab": {
          "base_uri": "https://localhost:8080/"
        },
        "id": "ahw_OZW563-Y",
        "outputId": "a2d6e16c-91c4-4c41-a49a-7c50f84262a6"
      },
      "execution_count": 37,
      "outputs": [
        {
          "output_type": "stream",
          "name": "stdout",
          "text": [
            "[-3.26744968  1.19639333]\n",
            "0.0\n",
            "0\n"
          ]
        }
      ]
    },
    {
      "cell_type": "code",
      "source": [
        "clf.predict_proba(X_test[0].reshape(1, -1))\n",
        "\n",
        "#reshape(1, -1) / 2차원으로 배열 재구성"
      ],
      "metadata": {
        "colab": {
          "base_uri": "https://localhost:8080/"
        },
        "id": "8-Jzze4b9F0o",
        "outputId": "d24ffc39-a2e2-41db-cc2a-3a7829d04a01"
      },
      "execution_count": 38,
      "outputs": [
        {
          "output_type": "execute_result",
          "data": {
            "text/plain": [
              "array([[0.85126747, 0.13897348, 0.00975905]])"
            ]
          },
          "metadata": {},
          "execution_count": 38
        }
      ]
    },
    {
      "cell_type": "markdown",
      "source": [
        "## 예제"
      ],
      "metadata": {
        "id": "302DLfiS9-Vl"
      }
    },
    {
      "cell_type": "code",
      "source": [
        "X, y = make_classification(n_samples = 10000, n_features = 10,\n",
        "                           n_informative = 10, n_redundant = 0,\n",
        "                           random_state = 101)"
      ],
      "metadata": {
        "id": "Riy4zXn898pp"
      },
      "execution_count": 39,
      "outputs": []
    },
    {
      "cell_type": "markdown",
      "source": [
        "### 1. statsmodel\n",
        "\n",
        "\n",
        "*   모델 훈련시키기\n",
        "*   모델을 훈련시킬 수 있었는지 또는 실패했는지 여부를 보여줌\n",
        "\n"
      ],
      "metadata": {
        "id": "OKKbAnSv-wcV"
      }
    },
    {
      "cell_type": "code",
      "source": [
        "import statsmodels.api as sm\n",
        "import statsmodels.formula.api as smf"
      ],
      "metadata": {
        "id": "LrU1ndvR-RcD"
      },
      "execution_count": 40,
      "outputs": []
    },
    {
      "cell_type": "code",
      "source": [
        "Xc = sm.add_constant(X)\n",
        "logistic_regression = sm.Logit(y, Xc)\n",
        "fitted_model = logistic_regression.fit()"
      ],
      "metadata": {
        "colab": {
          "base_uri": "https://localhost:8080/"
        },
        "id": "nXUr2lJl-XRo",
        "outputId": "0f351722-471b-45d7-a85b-715a506acfd8"
      },
      "execution_count": 41,
      "outputs": [
        {
          "output_type": "stream",
          "name": "stdout",
          "text": [
            "Optimization terminated successfully.\n",
            "         Current function value: 0.438685\n",
            "         Iterations 7\n"
          ]
        }
      ]
    },
    {
      "cell_type": "markdown",
      "source": [
        "### summary 메소드"
      ],
      "metadata": {
        "id": "NKK-dBGi_NyT"
      }
    },
    {
      "cell_type": "code",
      "source": [
        "fitted_model.summary()"
      ],
      "metadata": {
        "colab": {
          "base_uri": "https://localhost:8080/",
          "height": 444
        },
        "id": "pVVRl3ZN-i7t",
        "outputId": "5a60a81f-3aa1-4b5e-8534-4b1029ab1f9c"
      },
      "execution_count": 42,
      "outputs": [
        {
          "output_type": "execute_result",
          "data": {
            "text/plain": [
              "<class 'statsmodels.iolib.summary.Summary'>\n",
              "\"\"\"\n",
              "                           Logit Regression Results                           \n",
              "==============================================================================\n",
              "Dep. Variable:                      y   No. Observations:                10000\n",
              "Model:                          Logit   Df Residuals:                     9989\n",
              "Method:                           MLE   Df Model:                           10\n",
              "Date:                Mon, 25 Mar 2024   Pseudo R-squ.:                  0.3671\n",
              "Time:                        23:45:31   Log-Likelihood:                -4386.8\n",
              "converged:                       True   LL-Null:                       -6931.5\n",
              "Covariance Type:            nonrobust   LLR p-value:                     0.000\n",
              "==============================================================================\n",
              "                 coef    std err          z      P>|z|      [0.025      0.975]\n",
              "------------------------------------------------------------------------------\n",
              "const          0.4299      0.039     11.023      0.000       0.353       0.506\n",
              "x1             0.0671      0.015      4.410      0.000       0.037       0.097\n",
              "x2            -0.7828      0.019    -41.947      0.000      -0.819      -0.746\n",
              "x3             0.1221      0.016      7.815      0.000       0.091       0.153\n",
              "x4             0.2841      0.016     18.150      0.000       0.253       0.315\n",
              "x5             0.1469      0.014     10.283      0.000       0.119       0.175\n",
              "x6            -0.3414      0.019    -17.636      0.000      -0.379      -0.303\n",
              "x7             0.0503      0.014      3.481      0.000       0.022       0.079\n",
              "x8            -0.1393      0.014     -9.642      0.000      -0.168      -0.111\n",
              "x9             0.1127      0.014      7.931      0.000       0.085       0.141\n",
              "x10           -0.4792      0.018    -27.340      0.000      -0.514      -0.445\n",
              "==============================================================================\n",
              "\"\"\""
            ],
            "text/html": [
              "<table class=\"simpletable\">\n",
              "<caption>Logit Regression Results</caption>\n",
              "<tr>\n",
              "  <th>Dep. Variable:</th>           <td>y</td>        <th>  No. Observations:  </th>  <td> 10000</td> \n",
              "</tr>\n",
              "<tr>\n",
              "  <th>Model:</th>                 <td>Logit</td>      <th>  Df Residuals:      </th>  <td>  9989</td> \n",
              "</tr>\n",
              "<tr>\n",
              "  <th>Method:</th>                 <td>MLE</td>       <th>  Df Model:          </th>  <td>    10</td> \n",
              "</tr>\n",
              "<tr>\n",
              "  <th>Date:</th>            <td>Mon, 25 Mar 2024</td> <th>  Pseudo R-squ.:     </th>  <td>0.3671</td> \n",
              "</tr>\n",
              "<tr>\n",
              "  <th>Time:</th>                <td>23:45:31</td>     <th>  Log-Likelihood:    </th> <td> -4386.8</td>\n",
              "</tr>\n",
              "<tr>\n",
              "  <th>converged:</th>             <td>True</td>       <th>  LL-Null:           </th> <td> -6931.5</td>\n",
              "</tr>\n",
              "<tr>\n",
              "  <th>Covariance Type:</th>     <td>nonrobust</td>    <th>  LLR p-value:       </th>  <td> 0.000</td> \n",
              "</tr>\n",
              "</table>\n",
              "<table class=\"simpletable\">\n",
              "<tr>\n",
              "    <td></td>       <th>coef</th>     <th>std err</th>      <th>z</th>      <th>P>|z|</th>  <th>[0.025</th>    <th>0.975]</th>  \n",
              "</tr>\n",
              "<tr>\n",
              "  <th>const</th> <td>    0.4299</td> <td>    0.039</td> <td>   11.023</td> <td> 0.000</td> <td>    0.353</td> <td>    0.506</td>\n",
              "</tr>\n",
              "<tr>\n",
              "  <th>x1</th>    <td>    0.0671</td> <td>    0.015</td> <td>    4.410</td> <td> 0.000</td> <td>    0.037</td> <td>    0.097</td>\n",
              "</tr>\n",
              "<tr>\n",
              "  <th>x2</th>    <td>   -0.7828</td> <td>    0.019</td> <td>  -41.947</td> <td> 0.000</td> <td>   -0.819</td> <td>   -0.746</td>\n",
              "</tr>\n",
              "<tr>\n",
              "  <th>x3</th>    <td>    0.1221</td> <td>    0.016</td> <td>    7.815</td> <td> 0.000</td> <td>    0.091</td> <td>    0.153</td>\n",
              "</tr>\n",
              "<tr>\n",
              "  <th>x4</th>    <td>    0.2841</td> <td>    0.016</td> <td>   18.150</td> <td> 0.000</td> <td>    0.253</td> <td>    0.315</td>\n",
              "</tr>\n",
              "<tr>\n",
              "  <th>x5</th>    <td>    0.1469</td> <td>    0.014</td> <td>   10.283</td> <td> 0.000</td> <td>    0.119</td> <td>    0.175</td>\n",
              "</tr>\n",
              "<tr>\n",
              "  <th>x6</th>    <td>   -0.3414</td> <td>    0.019</td> <td>  -17.636</td> <td> 0.000</td> <td>   -0.379</td> <td>   -0.303</td>\n",
              "</tr>\n",
              "<tr>\n",
              "  <th>x7</th>    <td>    0.0503</td> <td>    0.014</td> <td>    3.481</td> <td> 0.000</td> <td>    0.022</td> <td>    0.079</td>\n",
              "</tr>\n",
              "<tr>\n",
              "  <th>x8</th>    <td>   -0.1393</td> <td>    0.014</td> <td>   -9.642</td> <td> 0.000</td> <td>   -0.168</td> <td>   -0.111</td>\n",
              "</tr>\n",
              "<tr>\n",
              "  <th>x9</th>    <td>    0.1127</td> <td>    0.014</td> <td>    7.931</td> <td> 0.000</td> <td>    0.085</td> <td>    0.141</td>\n",
              "</tr>\n",
              "<tr>\n",
              "  <th>x10</th>   <td>   -0.4792</td> <td>    0.018</td> <td>  -27.340</td> <td> 0.000</td> <td>   -0.514</td> <td>   -0.445</td>\n",
              "</tr>\n",
              "</table>"
            ],
            "text/latex": "\\begin{center}\n\\begin{tabular}{lclc}\n\\toprule\n\\textbf{Dep. Variable:}   &        y         & \\textbf{  No. Observations:  } &    10000    \\\\\n\\textbf{Model:}           &      Logit       & \\textbf{  Df Residuals:      } &     9989    \\\\\n\\textbf{Method:}          &       MLE        & \\textbf{  Df Model:          } &       10    \\\\\n\\textbf{Date:}            & Mon, 25 Mar 2024 & \\textbf{  Pseudo R-squ.:     } &   0.3671    \\\\\n\\textbf{Time:}            &     23:45:31     & \\textbf{  Log-Likelihood:    } &   -4386.8   \\\\\n\\textbf{converged:}       &       True       & \\textbf{  LL-Null:           } &   -6931.5   \\\\\n\\textbf{Covariance Type:} &    nonrobust     & \\textbf{  LLR p-value:       } &    0.000    \\\\\n\\bottomrule\n\\end{tabular}\n\\begin{tabular}{lcccccc}\n               & \\textbf{coef} & \\textbf{std err} & \\textbf{z} & \\textbf{P$> |$z$|$} & \\textbf{[0.025} & \\textbf{0.975]}  \\\\\n\\midrule\n\\textbf{const} &       0.4299  &        0.039     &    11.023  &         0.000        &        0.353    &        0.506     \\\\\n\\textbf{x1}    &       0.0671  &        0.015     &     4.410  &         0.000        &        0.037    &        0.097     \\\\\n\\textbf{x2}    &      -0.7828  &        0.019     &   -41.947  &         0.000        &       -0.819    &       -0.746     \\\\\n\\textbf{x3}    &       0.1221  &        0.016     &     7.815  &         0.000        &        0.091    &        0.153     \\\\\n\\textbf{x4}    &       0.2841  &        0.016     &    18.150  &         0.000        &        0.253    &        0.315     \\\\\n\\textbf{x5}    &       0.1469  &        0.014     &    10.283  &         0.000        &        0.119    &        0.175     \\\\\n\\textbf{x6}    &      -0.3414  &        0.019     &   -17.636  &         0.000        &       -0.379    &       -0.303     \\\\\n\\textbf{x7}    &       0.0503  &        0.014     &     3.481  &         0.000        &        0.022    &        0.079     \\\\\n\\textbf{x8}    &      -0.1393  &        0.014     &    -9.642  &         0.000        &       -0.168    &       -0.111     \\\\\n\\textbf{x9}    &       0.1127  &        0.014     &     7.931  &         0.000        &        0.085    &        0.141     \\\\\n\\textbf{x10}   &      -0.4792  &        0.018     &   -27.340  &         0.000        &       -0.514    &       -0.445     \\\\\n\\bottomrule\n\\end{tabular}\n%\\caption{Logit Regression Results}\n\\end{center}"
          },
          "metadata": {},
          "execution_count": 42
        }
      ]
    },
    {
      "cell_type": "markdown",
      "source": [
        "### 모델 적합시키기\n",
        "\n",
        "*   자동적으로 절편 항목이 모델에 추가\n",
        "\n"
      ],
      "metadata": {
        "id": "TcvBRw0p_TIX"
      }
    },
    {
      "cell_type": "code",
      "source": [
        "import pandas as pd\n",
        "\n",
        "Xd = pd.DataFrame(X)\n",
        "Xd.columns = ['VAR'+str(i+1) for i in range(10)]\n",
        "Xd['response'] = y\n",
        "\n",
        "logistic_regression = smf.logit(formula = 'response ~ VAR1 + VAR2 + VAR3 + VAR4 + \\\n",
        "VAR5+ VAR6 + VAR7 + VAR8 + VAR9 + VAR10', data = Xd)\n",
        "\n",
        "fitted_model = logistic_regression.fit()\n",
        "fitted_model.summary()"
      ],
      "metadata": {
        "colab": {
          "base_uri": "https://localhost:8080/",
          "height": 498
        },
        "id": "Omvzmysf_Xae",
        "outputId": "a40fdd81-2a02-4a91-dd88-8d7d005166dd"
      },
      "execution_count": 43,
      "outputs": [
        {
          "output_type": "stream",
          "name": "stdout",
          "text": [
            "Optimization terminated successfully.\n",
            "         Current function value: 0.438685\n",
            "         Iterations 7\n"
          ]
        },
        {
          "output_type": "execute_result",
          "data": {
            "text/plain": [
              "<class 'statsmodels.iolib.summary.Summary'>\n",
              "\"\"\"\n",
              "                           Logit Regression Results                           \n",
              "==============================================================================\n",
              "Dep. Variable:               response   No. Observations:                10000\n",
              "Model:                          Logit   Df Residuals:                     9989\n",
              "Method:                           MLE   Df Model:                           10\n",
              "Date:                Mon, 25 Mar 2024   Pseudo R-squ.:                  0.3671\n",
              "Time:                        23:45:31   Log-Likelihood:                -4386.8\n",
              "converged:                       True   LL-Null:                       -6931.5\n",
              "Covariance Type:            nonrobust   LLR p-value:                     0.000\n",
              "==============================================================================\n",
              "                 coef    std err          z      P>|z|      [0.025      0.975]\n",
              "------------------------------------------------------------------------------\n",
              "Intercept      0.4299      0.039     11.023      0.000       0.353       0.506\n",
              "VAR1           0.0671      0.015      4.410      0.000       0.037       0.097\n",
              "VAR2          -0.7828      0.019    -41.947      0.000      -0.819      -0.746\n",
              "VAR3           0.1221      0.016      7.815      0.000       0.091       0.153\n",
              "VAR4           0.2841      0.016     18.150      0.000       0.253       0.315\n",
              "VAR5           0.1469      0.014     10.283      0.000       0.119       0.175\n",
              "VAR6          -0.3414      0.019    -17.636      0.000      -0.379      -0.303\n",
              "VAR7           0.0503      0.014      3.481      0.000       0.022       0.079\n",
              "VAR8          -0.1393      0.014     -9.642      0.000      -0.168      -0.111\n",
              "VAR9           0.1127      0.014      7.931      0.000       0.085       0.141\n",
              "VAR10         -0.4792      0.018    -27.340      0.000      -0.514      -0.445\n",
              "==============================================================================\n",
              "\"\"\""
            ],
            "text/html": [
              "<table class=\"simpletable\">\n",
              "<caption>Logit Regression Results</caption>\n",
              "<tr>\n",
              "  <th>Dep. Variable:</th>       <td>response</td>     <th>  No. Observations:  </th>  <td> 10000</td> \n",
              "</tr>\n",
              "<tr>\n",
              "  <th>Model:</th>                 <td>Logit</td>      <th>  Df Residuals:      </th>  <td>  9989</td> \n",
              "</tr>\n",
              "<tr>\n",
              "  <th>Method:</th>                 <td>MLE</td>       <th>  Df Model:          </th>  <td>    10</td> \n",
              "</tr>\n",
              "<tr>\n",
              "  <th>Date:</th>            <td>Mon, 25 Mar 2024</td> <th>  Pseudo R-squ.:     </th>  <td>0.3671</td> \n",
              "</tr>\n",
              "<tr>\n",
              "  <th>Time:</th>                <td>23:45:31</td>     <th>  Log-Likelihood:    </th> <td> -4386.8</td>\n",
              "</tr>\n",
              "<tr>\n",
              "  <th>converged:</th>             <td>True</td>       <th>  LL-Null:           </th> <td> -6931.5</td>\n",
              "</tr>\n",
              "<tr>\n",
              "  <th>Covariance Type:</th>     <td>nonrobust</td>    <th>  LLR p-value:       </th>  <td> 0.000</td> \n",
              "</tr>\n",
              "</table>\n",
              "<table class=\"simpletable\">\n",
              "<tr>\n",
              "      <td></td>         <th>coef</th>     <th>std err</th>      <th>z</th>      <th>P>|z|</th>  <th>[0.025</th>    <th>0.975]</th>  \n",
              "</tr>\n",
              "<tr>\n",
              "  <th>Intercept</th> <td>    0.4299</td> <td>    0.039</td> <td>   11.023</td> <td> 0.000</td> <td>    0.353</td> <td>    0.506</td>\n",
              "</tr>\n",
              "<tr>\n",
              "  <th>VAR1</th>      <td>    0.0671</td> <td>    0.015</td> <td>    4.410</td> <td> 0.000</td> <td>    0.037</td> <td>    0.097</td>\n",
              "</tr>\n",
              "<tr>\n",
              "  <th>VAR2</th>      <td>   -0.7828</td> <td>    0.019</td> <td>  -41.947</td> <td> 0.000</td> <td>   -0.819</td> <td>   -0.746</td>\n",
              "</tr>\n",
              "<tr>\n",
              "  <th>VAR3</th>      <td>    0.1221</td> <td>    0.016</td> <td>    7.815</td> <td> 0.000</td> <td>    0.091</td> <td>    0.153</td>\n",
              "</tr>\n",
              "<tr>\n",
              "  <th>VAR4</th>      <td>    0.2841</td> <td>    0.016</td> <td>   18.150</td> <td> 0.000</td> <td>    0.253</td> <td>    0.315</td>\n",
              "</tr>\n",
              "<tr>\n",
              "  <th>VAR5</th>      <td>    0.1469</td> <td>    0.014</td> <td>   10.283</td> <td> 0.000</td> <td>    0.119</td> <td>    0.175</td>\n",
              "</tr>\n",
              "<tr>\n",
              "  <th>VAR6</th>      <td>   -0.3414</td> <td>    0.019</td> <td>  -17.636</td> <td> 0.000</td> <td>   -0.379</td> <td>   -0.303</td>\n",
              "</tr>\n",
              "<tr>\n",
              "  <th>VAR7</th>      <td>    0.0503</td> <td>    0.014</td> <td>    3.481</td> <td> 0.000</td> <td>    0.022</td> <td>    0.079</td>\n",
              "</tr>\n",
              "<tr>\n",
              "  <th>VAR8</th>      <td>   -0.1393</td> <td>    0.014</td> <td>   -9.642</td> <td> 0.000</td> <td>   -0.168</td> <td>   -0.111</td>\n",
              "</tr>\n",
              "<tr>\n",
              "  <th>VAR9</th>      <td>    0.1127</td> <td>    0.014</td> <td>    7.931</td> <td> 0.000</td> <td>    0.085</td> <td>    0.141</td>\n",
              "</tr>\n",
              "<tr>\n",
              "  <th>VAR10</th>     <td>   -0.4792</td> <td>    0.018</td> <td>  -27.340</td> <td> 0.000</td> <td>   -0.514</td> <td>   -0.445</td>\n",
              "</tr>\n",
              "</table>"
            ],
            "text/latex": "\\begin{center}\n\\begin{tabular}{lclc}\n\\toprule\n\\textbf{Dep. Variable:}   &     response     & \\textbf{  No. Observations:  } &    10000    \\\\\n\\textbf{Model:}           &      Logit       & \\textbf{  Df Residuals:      } &     9989    \\\\\n\\textbf{Method:}          &       MLE        & \\textbf{  Df Model:          } &       10    \\\\\n\\textbf{Date:}            & Mon, 25 Mar 2024 & \\textbf{  Pseudo R-squ.:     } &   0.3671    \\\\\n\\textbf{Time:}            &     23:45:31     & \\textbf{  Log-Likelihood:    } &   -4386.8   \\\\\n\\textbf{converged:}       &       True       & \\textbf{  LL-Null:           } &   -6931.5   \\\\\n\\textbf{Covariance Type:} &    nonrobust     & \\textbf{  LLR p-value:       } &    0.000    \\\\\n\\bottomrule\n\\end{tabular}\n\\begin{tabular}{lcccccc}\n                   & \\textbf{coef} & \\textbf{std err} & \\textbf{z} & \\textbf{P$> |$z$|$} & \\textbf{[0.025} & \\textbf{0.975]}  \\\\\n\\midrule\n\\textbf{Intercept} &       0.4299  &        0.039     &    11.023  &         0.000        &        0.353    &        0.506     \\\\\n\\textbf{VAR1}      &       0.0671  &        0.015     &     4.410  &         0.000        &        0.037    &        0.097     \\\\\n\\textbf{VAR2}      &      -0.7828  &        0.019     &   -41.947  &         0.000        &       -0.819    &       -0.746     \\\\\n\\textbf{VAR3}      &       0.1221  &        0.016     &     7.815  &         0.000        &        0.091    &        0.153     \\\\\n\\textbf{VAR4}      &       0.2841  &        0.016     &    18.150  &         0.000        &        0.253    &        0.315     \\\\\n\\textbf{VAR5}      &       0.1469  &        0.014     &    10.283  &         0.000        &        0.119    &        0.175     \\\\\n\\textbf{VAR6}      &      -0.3414  &        0.019     &   -17.636  &         0.000        &       -0.379    &       -0.303     \\\\\n\\textbf{VAR7}      &       0.0503  &        0.014     &     3.481  &         0.000        &        0.022    &        0.079     \\\\\n\\textbf{VAR8}      &      -0.1393  &        0.014     &    -9.642  &         0.000        &       -0.168    &       -0.111     \\\\\n\\textbf{VAR9}      &       0.1127  &        0.014     &     7.931  &         0.000        &        0.085    &        0.141     \\\\\n\\textbf{VAR10}     &      -0.4792  &        0.018     &   -27.340  &         0.000        &       -0.514    &       -0.445     \\\\\n\\bottomrule\n\\end{tabular}\n%\\caption{Logit Regression Results}\n\\end{center}"
          },
          "metadata": {},
          "execution_count": 43
        }
      ]
    },
    {
      "cell_type": "markdown",
      "source": [
        "\n",
        "\n",
        "> 확률 기울기 하강 공식 구현\n",
        "\n",
        "\n",
        "*   선형회귀와 관련해서 가장 큰 차이점: 로지스틱(시그모이드) 손실 함수\n",
        "\n",
        "\n",
        "\n"
      ],
      "metadata": {
        "id": "ub3pag56AE9H"
      }
    },
    {
      "cell_type": "markdown",
      "source": [
        "# 5장 데이터 준비"
      ],
      "metadata": {
        "id": "QqXjjFyGE5DI"
      }
    },
    {
      "cell_type": "code",
      "source": [
        "import numpy as np\n",
        "import pandas as pd\n",
        "\n",
        "import matplotlib.pyplot as plt\n",
        "from sklearn import linear_model\n",
        "%matplotlib inline\n",
        "np.set_printoptions(precision = 5, suppress = True)"
      ],
      "metadata": {
        "id": "w-iBLWH3FAZv"
      },
      "execution_count": 46,
      "outputs": []
    },
    {
      "cell_type": "code",
      "source": [
        "import pandas as pd\n",
        "from sklearn.datasets import fetch_openml\n",
        "\n",
        "boston = fetch_openml(data_id=506,parser='auto')\n",
        "dataset = pd.DataFrame(boston.data, columns=boston.feature_names)\n",
        "dataset['target'] = boston.target\n",
        "\n",
        "observations = len(dataset)\n",
        "variables = dataset.columns[:-1]\n",
        "\n",
        "X = dataset.iloc[[-1]]\n",
        "y = dataset['target']"
      ],
      "metadata": {
        "id": "99ZkxNfYE3j1"
      },
      "execution_count": 75,
      "outputs": []
    },
    {
      "cell_type": "code",
      "source": [
        "yq = np.array(y>25, dtype = int)"
      ],
      "metadata": {
        "id": "j2sCjXsYADIc"
      },
      "execution_count": 48,
      "outputs": []
    },
    {
      "cell_type": "markdown",
      "source": [
        "## 평균 중심화"
      ],
      "metadata": {
        "id": "32XOh06MAXQ3"
      }
    },
    {
      "cell_type": "code",
      "source": [
        "dataset.min()"
      ],
      "metadata": {
        "colab": {
          "base_uri": "https://localhost:8080/"
        },
        "id": "AI7MElANCvOK",
        "outputId": "a8fa4a51-37f1-4696-ccf8-d72d751beecc"
      },
      "execution_count": 70,
      "outputs": [
        {
          "output_type": "stream",
          "name": "stderr",
          "text": [
            "<ipython-input-70-1cef71bc0321>:1: FutureWarning: The default value of numeric_only in DataFrame.min is deprecated. In a future version, it will default to False. In addition, specifying 'numeric_only=None' is deprecated. Select only valid columns or specify the value of numeric_only to silence this warning.\n",
            "  dataset.min()\n"
          ]
        },
        {
          "output_type": "execute_result",
          "data": {
            "text/plain": [
              "Age                    22.0\n",
              "Years_of_education      4.0\n",
              "Sex_partners            0.0\n",
              "Income                500.0\n",
              "target                  0.0\n",
              "dtype: float64"
            ]
          },
          "metadata": {},
          "execution_count": 70
        }
      ]
    },
    {
      "cell_type": "code",
      "source": [
        "print('mean: %3f' % np.mean(y))"
      ],
      "metadata": {
        "colab": {
          "base_uri": "https://localhost:8080/"
        },
        "id": "Snk8CWklDAxb",
        "outputId": "2408bb99-1c95-4262-d2bb-1dccebbec7d6"
      },
      "execution_count": 79,
      "outputs": [
        {
          "output_type": "stream",
          "name": "stdout",
          "text": [
            "mean: 0.339623\n"
          ]
        }
      ]
    },
    {
      "cell_type": "markdown",
      "source": [
        "## 로지스틱회귀 사례"
      ],
      "metadata": {
        "id": "u3lEy7E4Eyat"
      }
    },
    {
      "cell_type": "code",
      "source": [
        "import statsmodels.api as sm\n",
        "from sklearn.preprocessing import StandardScaler\n",
        "\n",
        "standardization = StandardScaler()\n",
        "Xq = sm.add_constant(standardization.fit_transform(X))\n",
        "logit = sm.Logit(yq, Xq)\n",
        "result = logit.fit()\n",
        "\n",
        "print(result.summary())"
      ],
      "metadata": {
        "colab": {
          "base_uri": "https://localhost:8080/",
          "height": 365
        },
        "id": "nD2TrMnxE1m4",
        "outputId": "c1f9b87b-cb82-4a7e-93c6-d888ff107cdd"
      },
      "execution_count": 89,
      "outputs": [
        {
          "output_type": "error",
          "ename": "ValueError",
          "evalue": "endog and exog matrices are different sizes",
          "traceback": [
            "\u001b[0;31m---------------------------------------------------------------------------\u001b[0m",
            "\u001b[0;31mValueError\u001b[0m                                Traceback (most recent call last)",
            "\u001b[0;32m<ipython-input-89-36f13c5988a7>\u001b[0m in \u001b[0;36m<cell line: 6>\u001b[0;34m()\u001b[0m\n\u001b[1;32m      4\u001b[0m \u001b[0mstandardization\u001b[0m \u001b[0;34m=\u001b[0m \u001b[0mStandardScaler\u001b[0m\u001b[0;34m(\u001b[0m\u001b[0;34m)\u001b[0m\u001b[0;34m\u001b[0m\u001b[0;34m\u001b[0m\u001b[0m\n\u001b[1;32m      5\u001b[0m \u001b[0mXq\u001b[0m \u001b[0;34m=\u001b[0m \u001b[0msm\u001b[0m\u001b[0;34m.\u001b[0m\u001b[0madd_constant\u001b[0m\u001b[0;34m(\u001b[0m\u001b[0mstandardization\u001b[0m\u001b[0;34m.\u001b[0m\u001b[0mfit_transform\u001b[0m\u001b[0;34m(\u001b[0m\u001b[0mX\u001b[0m\u001b[0;34m)\u001b[0m\u001b[0;34m)\u001b[0m\u001b[0;34m\u001b[0m\u001b[0;34m\u001b[0m\u001b[0m\n\u001b[0;32m----> 6\u001b[0;31m \u001b[0mlogit\u001b[0m \u001b[0;34m=\u001b[0m \u001b[0msm\u001b[0m\u001b[0;34m.\u001b[0m\u001b[0mLogit\u001b[0m\u001b[0;34m(\u001b[0m\u001b[0myq\u001b[0m\u001b[0;34m,\u001b[0m \u001b[0mXq\u001b[0m\u001b[0;34m)\u001b[0m\u001b[0;34m\u001b[0m\u001b[0;34m\u001b[0m\u001b[0m\n\u001b[0m\u001b[1;32m      7\u001b[0m \u001b[0mresult\u001b[0m \u001b[0;34m=\u001b[0m \u001b[0mlogit\u001b[0m\u001b[0;34m.\u001b[0m\u001b[0mfit\u001b[0m\u001b[0;34m(\u001b[0m\u001b[0;34m)\u001b[0m\u001b[0;34m\u001b[0m\u001b[0;34m\u001b[0m\u001b[0m\n\u001b[1;32m      8\u001b[0m \u001b[0;34m\u001b[0m\u001b[0m\n",
            "\u001b[0;32m/usr/local/lib/python3.10/dist-packages/statsmodels/discrete/discrete_model.py\u001b[0m in \u001b[0;36m__init__\u001b[0;34m(self, endog, exog, offset, check_rank, **kwargs)\u001b[0m\n\u001b[1;32m    473\u001b[0m         \u001b[0;31m# unconditional check, requires no extra kwargs added by subclasses\u001b[0m\u001b[0;34m\u001b[0m\u001b[0;34m\u001b[0m\u001b[0m\n\u001b[1;32m    474\u001b[0m         \u001b[0mself\u001b[0m\u001b[0;34m.\u001b[0m\u001b[0m_check_kwargs\u001b[0m\u001b[0;34m(\u001b[0m\u001b[0mkwargs\u001b[0m\u001b[0;34m)\u001b[0m\u001b[0;34m\u001b[0m\u001b[0;34m\u001b[0m\u001b[0m\n\u001b[0;32m--> 475\u001b[0;31m         super().__init__(endog, exog, offset=offset, check_rank=check_rank,\n\u001b[0m\u001b[1;32m    476\u001b[0m                          **kwargs)\n\u001b[1;32m    477\u001b[0m         \u001b[0;32mif\u001b[0m \u001b[0;32mnot\u001b[0m \u001b[0missubclass\u001b[0m\u001b[0;34m(\u001b[0m\u001b[0mself\u001b[0m\u001b[0;34m.\u001b[0m\u001b[0m__class__\u001b[0m\u001b[0;34m,\u001b[0m \u001b[0mMultinomialModel\u001b[0m\u001b[0;34m)\u001b[0m\u001b[0;34m:\u001b[0m\u001b[0;34m\u001b[0m\u001b[0;34m\u001b[0m\u001b[0m\n",
            "\u001b[0;32m/usr/local/lib/python3.10/dist-packages/statsmodels/discrete/discrete_model.py\u001b[0m in \u001b[0;36m__init__\u001b[0;34m(self, endog, exog, check_rank, **kwargs)\u001b[0m\n\u001b[1;32m    183\u001b[0m     \u001b[0;32mdef\u001b[0m \u001b[0m__init__\u001b[0m\u001b[0;34m(\u001b[0m\u001b[0mself\u001b[0m\u001b[0;34m,\u001b[0m \u001b[0mendog\u001b[0m\u001b[0;34m,\u001b[0m \u001b[0mexog\u001b[0m\u001b[0;34m,\u001b[0m \u001b[0mcheck_rank\u001b[0m\u001b[0;34m=\u001b[0m\u001b[0;32mTrue\u001b[0m\u001b[0;34m,\u001b[0m \u001b[0;34m**\u001b[0m\u001b[0mkwargs\u001b[0m\u001b[0;34m)\u001b[0m\u001b[0;34m:\u001b[0m\u001b[0;34m\u001b[0m\u001b[0;34m\u001b[0m\u001b[0m\n\u001b[1;32m    184\u001b[0m         \u001b[0mself\u001b[0m\u001b[0;34m.\u001b[0m\u001b[0m_check_rank\u001b[0m \u001b[0;34m=\u001b[0m \u001b[0mcheck_rank\u001b[0m\u001b[0;34m\u001b[0m\u001b[0;34m\u001b[0m\u001b[0m\n\u001b[0;32m--> 185\u001b[0;31m         \u001b[0msuper\u001b[0m\u001b[0;34m(\u001b[0m\u001b[0;34m)\u001b[0m\u001b[0;34m.\u001b[0m\u001b[0m__init__\u001b[0m\u001b[0;34m(\u001b[0m\u001b[0mendog\u001b[0m\u001b[0;34m,\u001b[0m \u001b[0mexog\u001b[0m\u001b[0;34m,\u001b[0m \u001b[0;34m**\u001b[0m\u001b[0mkwargs\u001b[0m\u001b[0;34m)\u001b[0m\u001b[0;34m\u001b[0m\u001b[0;34m\u001b[0m\u001b[0m\n\u001b[0m\u001b[1;32m    186\u001b[0m         \u001b[0mself\u001b[0m\u001b[0;34m.\u001b[0m\u001b[0mraise_on_perfect_prediction\u001b[0m \u001b[0;34m=\u001b[0m \u001b[0;32mFalse\u001b[0m  \u001b[0;31m# keep for backwards compat\u001b[0m\u001b[0;34m\u001b[0m\u001b[0;34m\u001b[0m\u001b[0m\n\u001b[1;32m    187\u001b[0m         \u001b[0mself\u001b[0m\u001b[0;34m.\u001b[0m\u001b[0mk_extra\u001b[0m \u001b[0;34m=\u001b[0m \u001b[0;36m0\u001b[0m\u001b[0;34m\u001b[0m\u001b[0;34m\u001b[0m\u001b[0m\n",
            "\u001b[0;32m/usr/local/lib/python3.10/dist-packages/statsmodels/base/model.py\u001b[0m in \u001b[0;36m__init__\u001b[0;34m(self, endog, exog, **kwargs)\u001b[0m\n\u001b[1;32m    268\u001b[0m \u001b[0;34m\u001b[0m\u001b[0m\n\u001b[1;32m    269\u001b[0m     \u001b[0;32mdef\u001b[0m \u001b[0m__init__\u001b[0m\u001b[0;34m(\u001b[0m\u001b[0mself\u001b[0m\u001b[0;34m,\u001b[0m \u001b[0mendog\u001b[0m\u001b[0;34m,\u001b[0m \u001b[0mexog\u001b[0m\u001b[0;34m=\u001b[0m\u001b[0;32mNone\u001b[0m\u001b[0;34m,\u001b[0m \u001b[0;34m**\u001b[0m\u001b[0mkwargs\u001b[0m\u001b[0;34m)\u001b[0m\u001b[0;34m:\u001b[0m\u001b[0;34m\u001b[0m\u001b[0;34m\u001b[0m\u001b[0m\n\u001b[0;32m--> 270\u001b[0;31m         \u001b[0msuper\u001b[0m\u001b[0;34m(\u001b[0m\u001b[0;34m)\u001b[0m\u001b[0;34m.\u001b[0m\u001b[0m__init__\u001b[0m\u001b[0;34m(\u001b[0m\u001b[0mendog\u001b[0m\u001b[0;34m,\u001b[0m \u001b[0mexog\u001b[0m\u001b[0;34m,\u001b[0m \u001b[0;34m**\u001b[0m\u001b[0mkwargs\u001b[0m\u001b[0;34m)\u001b[0m\u001b[0;34m\u001b[0m\u001b[0;34m\u001b[0m\u001b[0m\n\u001b[0m\u001b[1;32m    271\u001b[0m         \u001b[0mself\u001b[0m\u001b[0;34m.\u001b[0m\u001b[0minitialize\u001b[0m\u001b[0;34m(\u001b[0m\u001b[0;34m)\u001b[0m\u001b[0;34m\u001b[0m\u001b[0;34m\u001b[0m\u001b[0m\n\u001b[1;32m    272\u001b[0m \u001b[0;34m\u001b[0m\u001b[0m\n",
            "\u001b[0;32m/usr/local/lib/python3.10/dist-packages/statsmodels/base/model.py\u001b[0m in \u001b[0;36m__init__\u001b[0;34m(self, endog, exog, **kwargs)\u001b[0m\n\u001b[1;32m     93\u001b[0m         \u001b[0mmissing\u001b[0m \u001b[0;34m=\u001b[0m \u001b[0mkwargs\u001b[0m\u001b[0;34m.\u001b[0m\u001b[0mpop\u001b[0m\u001b[0;34m(\u001b[0m\u001b[0;34m'missing'\u001b[0m\u001b[0;34m,\u001b[0m \u001b[0;34m'none'\u001b[0m\u001b[0;34m)\u001b[0m\u001b[0;34m\u001b[0m\u001b[0;34m\u001b[0m\u001b[0m\n\u001b[1;32m     94\u001b[0m         \u001b[0mhasconst\u001b[0m \u001b[0;34m=\u001b[0m \u001b[0mkwargs\u001b[0m\u001b[0;34m.\u001b[0m\u001b[0mpop\u001b[0m\u001b[0;34m(\u001b[0m\u001b[0;34m'hasconst'\u001b[0m\u001b[0;34m,\u001b[0m \u001b[0;32mNone\u001b[0m\u001b[0;34m)\u001b[0m\u001b[0;34m\u001b[0m\u001b[0;34m\u001b[0m\u001b[0m\n\u001b[0;32m---> 95\u001b[0;31m         self.data = self._handle_data(endog, exog, missing, hasconst,\n\u001b[0m\u001b[1;32m     96\u001b[0m                                       **kwargs)\n\u001b[1;32m     97\u001b[0m         \u001b[0mself\u001b[0m\u001b[0;34m.\u001b[0m\u001b[0mk_constant\u001b[0m \u001b[0;34m=\u001b[0m \u001b[0mself\u001b[0m\u001b[0;34m.\u001b[0m\u001b[0mdata\u001b[0m\u001b[0;34m.\u001b[0m\u001b[0mk_constant\u001b[0m\u001b[0;34m\u001b[0m\u001b[0;34m\u001b[0m\u001b[0m\n",
            "\u001b[0;32m/usr/local/lib/python3.10/dist-packages/statsmodels/base/model.py\u001b[0m in \u001b[0;36m_handle_data\u001b[0;34m(self, endog, exog, missing, hasconst, **kwargs)\u001b[0m\n\u001b[1;32m    133\u001b[0m \u001b[0;34m\u001b[0m\u001b[0m\n\u001b[1;32m    134\u001b[0m     \u001b[0;32mdef\u001b[0m \u001b[0m_handle_data\u001b[0m\u001b[0;34m(\u001b[0m\u001b[0mself\u001b[0m\u001b[0;34m,\u001b[0m \u001b[0mendog\u001b[0m\u001b[0;34m,\u001b[0m \u001b[0mexog\u001b[0m\u001b[0;34m,\u001b[0m \u001b[0mmissing\u001b[0m\u001b[0;34m,\u001b[0m \u001b[0mhasconst\u001b[0m\u001b[0;34m,\u001b[0m \u001b[0;34m**\u001b[0m\u001b[0mkwargs\u001b[0m\u001b[0;34m)\u001b[0m\u001b[0;34m:\u001b[0m\u001b[0;34m\u001b[0m\u001b[0;34m\u001b[0m\u001b[0m\n\u001b[0;32m--> 135\u001b[0;31m         \u001b[0mdata\u001b[0m \u001b[0;34m=\u001b[0m \u001b[0mhandle_data\u001b[0m\u001b[0;34m(\u001b[0m\u001b[0mendog\u001b[0m\u001b[0;34m,\u001b[0m \u001b[0mexog\u001b[0m\u001b[0;34m,\u001b[0m \u001b[0mmissing\u001b[0m\u001b[0;34m,\u001b[0m \u001b[0mhasconst\u001b[0m\u001b[0;34m,\u001b[0m \u001b[0;34m**\u001b[0m\u001b[0mkwargs\u001b[0m\u001b[0;34m)\u001b[0m\u001b[0;34m\u001b[0m\u001b[0;34m\u001b[0m\u001b[0m\n\u001b[0m\u001b[1;32m    136\u001b[0m         \u001b[0;31m# kwargs arrays could have changed, easier to just attach here\u001b[0m\u001b[0;34m\u001b[0m\u001b[0;34m\u001b[0m\u001b[0m\n\u001b[1;32m    137\u001b[0m         \u001b[0;32mfor\u001b[0m \u001b[0mkey\u001b[0m \u001b[0;32min\u001b[0m \u001b[0mkwargs\u001b[0m\u001b[0;34m:\u001b[0m\u001b[0;34m\u001b[0m\u001b[0;34m\u001b[0m\u001b[0m\n",
            "\u001b[0;32m/usr/local/lib/python3.10/dist-packages/statsmodels/base/data.py\u001b[0m in \u001b[0;36mhandle_data\u001b[0;34m(endog, exog, missing, hasconst, **kwargs)\u001b[0m\n\u001b[1;32m    673\u001b[0m \u001b[0;34m\u001b[0m\u001b[0m\n\u001b[1;32m    674\u001b[0m     \u001b[0mklass\u001b[0m \u001b[0;34m=\u001b[0m \u001b[0mhandle_data_class_factory\u001b[0m\u001b[0;34m(\u001b[0m\u001b[0mendog\u001b[0m\u001b[0;34m,\u001b[0m \u001b[0mexog\u001b[0m\u001b[0;34m)\u001b[0m\u001b[0;34m\u001b[0m\u001b[0;34m\u001b[0m\u001b[0m\n\u001b[0;32m--> 675\u001b[0;31m     return klass(endog, exog=exog, missing=missing, hasconst=hasconst,\n\u001b[0m\u001b[1;32m    676\u001b[0m                  **kwargs)\n",
            "\u001b[0;32m/usr/local/lib/python3.10/dist-packages/statsmodels/base/data.py\u001b[0m in \u001b[0;36m__init__\u001b[0;34m(self, endog, exog, missing, hasconst, **kwargs)\u001b[0m\n\u001b[1;32m     87\u001b[0m         \u001b[0mself\u001b[0m\u001b[0;34m.\u001b[0m\u001b[0mk_constant\u001b[0m \u001b[0;34m=\u001b[0m \u001b[0;36m0\u001b[0m\u001b[0;34m\u001b[0m\u001b[0;34m\u001b[0m\u001b[0m\n\u001b[1;32m     88\u001b[0m         \u001b[0mself\u001b[0m\u001b[0;34m.\u001b[0m\u001b[0m_handle_constant\u001b[0m\u001b[0;34m(\u001b[0m\u001b[0mhasconst\u001b[0m\u001b[0;34m)\u001b[0m\u001b[0;34m\u001b[0m\u001b[0;34m\u001b[0m\u001b[0m\n\u001b[0;32m---> 89\u001b[0;31m         \u001b[0mself\u001b[0m\u001b[0;34m.\u001b[0m\u001b[0m_check_integrity\u001b[0m\u001b[0;34m(\u001b[0m\u001b[0;34m)\u001b[0m\u001b[0;34m\u001b[0m\u001b[0;34m\u001b[0m\u001b[0m\n\u001b[0m\u001b[1;32m     90\u001b[0m         \u001b[0mself\u001b[0m\u001b[0;34m.\u001b[0m\u001b[0m_cache\u001b[0m \u001b[0;34m=\u001b[0m \u001b[0;34m{\u001b[0m\u001b[0;34m}\u001b[0m\u001b[0;34m\u001b[0m\u001b[0;34m\u001b[0m\u001b[0m\n\u001b[1;32m     91\u001b[0m \u001b[0;34m\u001b[0m\u001b[0m\n",
            "\u001b[0;32m/usr/local/lib/python3.10/dist-packages/statsmodels/base/data.py\u001b[0m in \u001b[0;36m_check_integrity\u001b[0;34m(self)\u001b[0m\n\u001b[1;32m    434\u001b[0m         \u001b[0;32mif\u001b[0m \u001b[0mself\u001b[0m\u001b[0;34m.\u001b[0m\u001b[0mexog\u001b[0m \u001b[0;32mis\u001b[0m \u001b[0;32mnot\u001b[0m \u001b[0;32mNone\u001b[0m\u001b[0;34m:\u001b[0m\u001b[0;34m\u001b[0m\u001b[0;34m\u001b[0m\u001b[0m\n\u001b[1;32m    435\u001b[0m             \u001b[0;32mif\u001b[0m \u001b[0mlen\u001b[0m\u001b[0;34m(\u001b[0m\u001b[0mself\u001b[0m\u001b[0;34m.\u001b[0m\u001b[0mexog\u001b[0m\u001b[0;34m)\u001b[0m \u001b[0;34m!=\u001b[0m \u001b[0mlen\u001b[0m\u001b[0;34m(\u001b[0m\u001b[0mself\u001b[0m\u001b[0;34m.\u001b[0m\u001b[0mendog\u001b[0m\u001b[0;34m)\u001b[0m\u001b[0;34m:\u001b[0m\u001b[0;34m\u001b[0m\u001b[0;34m\u001b[0m\u001b[0m\n\u001b[0;32m--> 436\u001b[0;31m                 \u001b[0;32mraise\u001b[0m \u001b[0mValueError\u001b[0m\u001b[0;34m(\u001b[0m\u001b[0;34m\"endog and exog matrices are different sizes\"\u001b[0m\u001b[0;34m)\u001b[0m\u001b[0;34m\u001b[0m\u001b[0;34m\u001b[0m\u001b[0m\n\u001b[0m\u001b[1;32m    437\u001b[0m \u001b[0;34m\u001b[0m\u001b[0m\n\u001b[1;32m    438\u001b[0m     \u001b[0;32mdef\u001b[0m \u001b[0mwrap_output\u001b[0m\u001b[0;34m(\u001b[0m\u001b[0mself\u001b[0m\u001b[0;34m,\u001b[0m \u001b[0mobj\u001b[0m\u001b[0;34m,\u001b[0m \u001b[0mhow\u001b[0m\u001b[0;34m=\u001b[0m\u001b[0;34m'columns'\u001b[0m\u001b[0;34m,\u001b[0m \u001b[0mnames\u001b[0m\u001b[0;34m=\u001b[0m\u001b[0;32mNone\u001b[0m\u001b[0;34m)\u001b[0m\u001b[0;34m:\u001b[0m\u001b[0;34m\u001b[0m\u001b[0;34m\u001b[0m\u001b[0m\n",
            "\u001b[0;31mValueError\u001b[0m: endog and exog matrices are different sizes"
          ]
        }
      ]
    },
    {
      "cell_type": "markdown",
      "source": [
        "## 정성적 특성 인코딩"
      ],
      "metadata": {
        "id": "BphQs0cJF24T"
      }
    },
    {
      "cell_type": "code",
      "source": [
        "outlook = ['sunny', 'overcast', 'rainy']\n",
        "temperature = ['hot', 'mild', 'cool']\n",
        "humidity = ['high', 'normal']\n",
        "windy = ['TRUE', 'FALSE']\n",
        "\n",
        "weather_dataset = list()\n",
        "\n",
        "for o in outlook:\n",
        "  for t in temperature:\n",
        "    for h in humidity:\n",
        "      for w in windy:\n",
        "        weather_dataset.append([o, t, h, w])\n",
        "\n",
        "play = [0, 0, 1, 1, 1, 0, 1, 1, 0, 0, 0, 1, 1, 1, 1, 1, 1, 1, 1, 1,\n",
        "        0, 0, 1, 1, 0, 0, 0, 1, 0, 1, 0, 1, 0, 0, 0, 1]"
      ],
      "metadata": {
        "id": "T9Ck_y-jFKjt"
      },
      "execution_count": 92,
      "outputs": []
    },
    {
      "cell_type": "markdown",
      "source": [
        "## pandas를 이용한 더미 코딩"
      ],
      "metadata": {
        "id": "ACHo0U3HGjeR"
      }
    },
    {
      "cell_type": "code",
      "source": [
        "import pandas as pd\n",
        "\n",
        "df = pd.DataFrame(weather_dataset, columns = ['outlook', 'temperature', 'humidity', 'windy'])"
      ],
      "metadata": {
        "id": "uVf57vppGiwg"
      },
      "execution_count": 110,
      "outputs": []
    },
    {
      "cell_type": "code",
      "source": [
        "print(pd.get_dummies(df.humidity).loc[:5, :])\n",
        "\n",
        "#ix 대신 loc 사용"
      ],
      "metadata": {
        "colab": {
          "base_uri": "https://localhost:8080/"
        },
        "id": "OpP9gU3rGx87",
        "outputId": "1788262b-a029-4ddc-d7f5-bf3899156d82"
      },
      "execution_count": 111,
      "outputs": [
        {
          "output_type": "stream",
          "name": "stdout",
          "text": [
            "   high  normal\n",
            "0     1       0\n",
            "1     1       0\n",
            "2     0       1\n",
            "3     0       1\n",
            "4     1       0\n",
            "5     1       0\n"
          ]
        }
      ]
    },
    {
      "cell_type": "code",
      "source": [
        "dummy_encoding = pd.get_dummies(df)"
      ],
      "metadata": {
        "id": "gcCsMSt7HIDh"
      },
      "execution_count": 113,
      "outputs": []
    },
    {
      "cell_type": "code",
      "source": [
        "import statsmodels.api as sm\n",
        "X = sm.add_constant(dummy_encoding)\n",
        "logit = sm.Logit(play, X)\n",
        "result = logit.fit()\n",
        "print(result.summary())"
      ],
      "metadata": {
        "colab": {
          "base_uri": "https://localhost:8080/"
        },
        "id": "2ve4STyEHM2S",
        "outputId": "7dd9a269-6865-4c04-8470-e985fc525ece"
      },
      "execution_count": 114,
      "outputs": [
        {
          "output_type": "stream",
          "name": "stdout",
          "text": [
            "Warning: Maximum number of iterations has been exceeded.\n",
            "         Current function value: 0.292346\n",
            "         Iterations: 35\n",
            "                           Logit Regression Results                           \n",
            "==============================================================================\n",
            "Dep. Variable:                      y   No. Observations:                   36\n",
            "Model:                          Logit   Df Residuals:                       29\n",
            "Method:                           MLE   Df Model:                            6\n",
            "Date:                Tue, 26 Mar 2024   Pseudo R-squ.:                  0.5744\n",
            "Time:                        00:19:02   Log-Likelihood:                -10.524\n",
            "converged:                      False   LL-Null:                       -24.731\n",
            "Covariance Type:            nonrobust   LLR p-value:                 7.856e-05\n",
            "====================================================================================\n",
            "                       coef    std err          z      P>|z|      [0.025      0.975]\n",
            "------------------------------------------------------------------------------------\n",
            "const                0.2393        nan        nan        nan         nan         nan\n",
            "outlook_overcast     2.9833      6e+07   4.97e-08      1.000   -1.18e+08    1.18e+08\n",
            "outlook_rainy       -2.1746      6e+07  -3.62e-08      1.000   -1.18e+08    1.18e+08\n",
            "outlook_sunny       -0.5695   6.36e+07  -8.95e-09      1.000   -1.25e+08    1.25e+08\n",
            "temperature_cool    -2.1996   3.08e+07  -7.14e-08      1.000   -6.04e+07    6.04e+07\n",
            "temperature_hot      0.3045   1.45e+07    2.1e-08      1.000   -2.84e+07    2.84e+07\n",
            "temperature_mild     2.1344    2.9e+07   7.35e-08      1.000   -5.69e+07    5.69e+07\n",
            "humidity_high       -2.0459   7.75e+07  -2.64e-08      1.000   -1.52e+08    1.52e+08\n",
            "humidity_normal      2.2851   8.17e+07    2.8e-08      1.000    -1.6e+08     1.6e+08\n",
            "windy_FALSE          1.3162   1.95e+07   6.74e-08      1.000   -3.83e+07    3.83e+07\n",
            "windy_TRUE          -1.0770   1.95e+07  -5.52e-08      1.000   -3.83e+07    3.83e+07\n",
            "====================================================================================\n"
          ]
        },
        {
          "output_type": "stream",
          "name": "stderr",
          "text": [
            "/usr/local/lib/python3.10/dist-packages/statsmodels/base/model.py:607: ConvergenceWarning: Maximum Likelihood optimization failed to converge. Check mle_retvals\n",
            "  warnings.warn(\"Maximum Likelihood optimization failed to \"\n"
          ]
        }
      ]
    },
    {
      "cell_type": "code",
      "source": [
        "X.drop(['outlook_sunny', 'temperature_mild', 'humidity_normal', 'windy_FALSE'], inplace = True, axis = 1)\n",
        "logit = sm.Logit(play, X)\n",
        "result = logit.fit()\n",
        "print(result.summary())"
      ],
      "metadata": {
        "colab": {
          "base_uri": "https://localhost:8080/"
        },
        "id": "TXMN9I_LHYo4",
        "outputId": "46377cd4-1d06-4f10-853c-79db2cee5369"
      },
      "execution_count": 115,
      "outputs": [
        {
          "output_type": "stream",
          "name": "stdout",
          "text": [
            "Optimization terminated successfully.\n",
            "         Current function value: 0.292346\n",
            "         Iterations 8\n",
            "                           Logit Regression Results                           \n",
            "==============================================================================\n",
            "Dep. Variable:                      y   No. Observations:                   36\n",
            "Model:                          Logit   Df Residuals:                       29\n",
            "Method:                           MLE   Df Model:                            6\n",
            "Date:                Tue, 26 Mar 2024   Pseudo R-squ.:                  0.5744\n",
            "Time:                        00:19:04   Log-Likelihood:                -10.524\n",
            "converged:                       True   LL-Null:                       -24.731\n",
            "Covariance Type:            nonrobust   LLR p-value:                 7.856e-05\n",
            "====================================================================================\n",
            "                       coef    std err          z      P>|z|      [0.025      0.975]\n",
            "------------------------------------------------------------------------------------\n",
            "const                5.4055      2.196      2.462      0.014       1.102       9.709\n",
            "outlook_overcast     3.5528      1.721      2.064      0.039       0.179       6.927\n",
            "outlook_rainy       -1.6051      1.357     -1.183      0.237      -4.265       1.055\n",
            "temperature_cool    -4.3340      1.867     -2.322      0.020      -7.993      -0.675\n",
            "temperature_hot     -1.8299      1.478     -1.238      0.216      -4.727       1.067\n",
            "humidity_high       -4.3310      1.645     -2.633      0.008      -7.555      -1.107\n",
            "windy_TRUE          -2.3932      1.325     -1.807      0.071      -4.989       0.203\n",
            "====================================================================================\n"
          ]
        }
      ]
    },
    {
      "cell_type": "markdown",
      "source": [
        "## DictVectorizer와 one-hot encoding"
      ],
      "metadata": {
        "id": "k5ZjPYdfIBAG"
      }
    },
    {
      "cell_type": "code",
      "source": [
        "from sklearn.feature_extraction import DictVectorizer\n",
        "vectorizer = DictVectorizer(sparse = False)\n",
        "dict_representation = [{varname: var for var, varname in \\\n",
        "                        zip(row, ['outlook', 'temperature', 'humidity', 'windy'])} for row in weather_dataset]\n",
        "print(dict_representation[0])\n",
        "print(vectorizer.fit_transform(dict_representation))"
      ],
      "metadata": {
        "colab": {
          "base_uri": "https://localhost:8080/"
        },
        "id": "s0DhgIe1IAzg",
        "outputId": "af46434c-d3cf-4575-9a38-d45097c0dd96"
      },
      "execution_count": 120,
      "outputs": [
        {
          "output_type": "stream",
          "name": "stdout",
          "text": [
            "{'outlook': 'sunny', 'temperature': 'hot', 'humidity': 'high', 'windy': 'TRUE'}\n",
            "[[1. 0. 0. 0. 1. 0. 1. 0. 0. 1.]\n",
            " [1. 0. 0. 0. 1. 0. 1. 0. 1. 0.]\n",
            " [0. 1. 0. 0. 1. 0. 1. 0. 0. 1.]\n",
            " [0. 1. 0. 0. 1. 0. 1. 0. 1. 0.]\n",
            " [1. 0. 0. 0. 1. 0. 0. 1. 0. 1.]\n",
            " [1. 0. 0. 0. 1. 0. 0. 1. 1. 0.]\n",
            " [0. 1. 0. 0. 1. 0. 0. 1. 0. 1.]\n",
            " [0. 1. 0. 0. 1. 0. 0. 1. 1. 0.]\n",
            " [1. 0. 0. 0. 1. 1. 0. 0. 0. 1.]\n",
            " [1. 0. 0. 0. 1. 1. 0. 0. 1. 0.]\n",
            " [0. 1. 0. 0. 1. 1. 0. 0. 0. 1.]\n",
            " [0. 1. 0. 0. 1. 1. 0. 0. 1. 0.]\n",
            " [1. 0. 1. 0. 0. 0. 1. 0. 0. 1.]\n",
            " [1. 0. 1. 0. 0. 0. 1. 0. 1. 0.]\n",
            " [0. 1. 1. 0. 0. 0. 1. 0. 0. 1.]\n",
            " [0. 1. 1. 0. 0. 0. 1. 0. 1. 0.]\n",
            " [1. 0. 1. 0. 0. 0. 0. 1. 0. 1.]\n",
            " [1. 0. 1. 0. 0. 0. 0. 1. 1. 0.]\n",
            " [0. 1. 1. 0. 0. 0. 0. 1. 0. 1.]\n",
            " [0. 1. 1. 0. 0. 0. 0. 1. 1. 0.]\n",
            " [1. 0. 1. 0. 0. 1. 0. 0. 0. 1.]\n",
            " [1. 0. 1. 0. 0. 1. 0. 0. 1. 0.]\n",
            " [0. 1. 1. 0. 0. 1. 0. 0. 0. 1.]\n",
            " [0. 1. 1. 0. 0. 1. 0. 0. 1. 0.]\n",
            " [1. 0. 0. 1. 0. 0. 1. 0. 0. 1.]\n",
            " [1. 0. 0. 1. 0. 0. 1. 0. 1. 0.]\n",
            " [0. 1. 0. 1. 0. 0. 1. 0. 0. 1.]\n",
            " [0. 1. 0. 1. 0. 0. 1. 0. 1. 0.]\n",
            " [1. 0. 0. 1. 0. 0. 0. 1. 0. 1.]\n",
            " [1. 0. 0. 1. 0. 0. 0. 1. 1. 0.]\n",
            " [0. 1. 0. 1. 0. 0. 0. 1. 0. 1.]\n",
            " [0. 1. 0. 1. 0. 0. 0. 1. 1. 0.]\n",
            " [1. 0. 0. 1. 0. 1. 0. 0. 0. 1.]\n",
            " [1. 0. 0. 1. 0. 1. 0. 0. 1. 0.]\n",
            " [0. 1. 0. 1. 0. 1. 0. 0. 0. 1.]\n",
            " [0. 1. 0. 1. 0. 1. 0. 0. 1. 0.]]\n"
          ]
        }
      ]
    },
    {
      "cell_type": "code",
      "source": [
        "print(vectorizer.feature_names_)"
      ],
      "metadata": {
        "colab": {
          "base_uri": "https://localhost:8080/"
        },
        "id": "yWhUXIp1I8Aw",
        "outputId": "141ed095-aa49-4c72-a8a7-75fcae104b1d"
      },
      "execution_count": 121,
      "outputs": [
        {
          "output_type": "stream",
          "name": "stdout",
          "text": [
            "['humidity=high', 'humidity=normal', 'outlook=overcast', 'outlook=rainy', 'outlook=sunny', 'temperature=cool', 'temperature=hot', 'temperature=mild', 'windy=FALSE', 'windy=TRUE']\n"
          ]
        }
      ]
    },
    {
      "cell_type": "code",
      "source": [
        "from sklearn.preprocessing import LabelEncoder, LabelBinarizer\n",
        "label_encoder = LabelEncoder()\n",
        "print(label_encoder.fit_transform(df.outlook))"
      ],
      "metadata": {
        "colab": {
          "base_uri": "https://localhost:8080/"
        },
        "id": "vfQy8hdQH7bO",
        "outputId": "fdbd1415-09db-4ae2-f4b6-617571e794ae"
      },
      "execution_count": 123,
      "outputs": [
        {
          "output_type": "stream",
          "name": "stdout",
          "text": [
            "[2 2 2 2 2 2 2 2 2 2 2 2 0 0 0 0 0 0 0 0 0 0 0 0 1 1 1 1 1 1 1 1 1 1 1 1]\n"
          ]
        }
      ]
    },
    {
      "cell_type": "code",
      "source": [
        "label_encoder.inverse_transform([0, 1, 2])"
      ],
      "metadata": {
        "colab": {
          "base_uri": "https://localhost:8080/"
        },
        "id": "mZokAz3yJKqq",
        "outputId": "b84b1c9f-15c6-43e1-bbd3-5ba840588422"
      },
      "execution_count": 125,
      "outputs": [
        {
          "output_type": "execute_result",
          "data": {
            "text/plain": [
              "array(['overcast', 'rainy', 'sunny'], dtype=object)"
            ]
          },
          "metadata": {},
          "execution_count": 125
        }
      ]
    },
    {
      "cell_type": "code",
      "source": [
        "print(label_encoder.classes_)"
      ],
      "metadata": {
        "colab": {
          "base_uri": "https://localhost:8080/"
        },
        "id": "pHas4Ol2JPhD",
        "outputId": "681151da-a0af-4989-84db-3cd7802a1b59"
      },
      "execution_count": 126,
      "outputs": [
        {
          "output_type": "stream",
          "name": "stdout",
          "text": [
            "['overcast' 'rainy' 'sunny']\n"
          ]
        }
      ]
    },
    {
      "cell_type": "code",
      "source": [
        "label_binarizer = LabelBinarizer(neg_label = 0, pos_label = 1,\n",
        "                                 sparse_output = False)\n",
        "print(label_binarizer.fit_transform(\n",
        "    label_encoder.fit_transform(df.outlook)))"
      ],
      "metadata": {
        "colab": {
          "base_uri": "https://localhost:8080/"
        },
        "id": "r6_Gn1ZtJR7I",
        "outputId": "f4aba129-2de0-4248-89db-a42f08d329e3"
      },
      "execution_count": 127,
      "outputs": [
        {
          "output_type": "stream",
          "name": "stdout",
          "text": [
            "[[0 0 1]\n",
            " [0 0 1]\n",
            " [0 0 1]\n",
            " [0 0 1]\n",
            " [0 0 1]\n",
            " [0 0 1]\n",
            " [0 0 1]\n",
            " [0 0 1]\n",
            " [0 0 1]\n",
            " [0 0 1]\n",
            " [0 0 1]\n",
            " [0 0 1]\n",
            " [1 0 0]\n",
            " [1 0 0]\n",
            " [1 0 0]\n",
            " [1 0 0]\n",
            " [1 0 0]\n",
            " [1 0 0]\n",
            " [1 0 0]\n",
            " [1 0 0]\n",
            " [1 0 0]\n",
            " [1 0 0]\n",
            " [1 0 0]\n",
            " [1 0 0]\n",
            " [0 1 0]\n",
            " [0 1 0]\n",
            " [0 1 0]\n",
            " [0 1 0]\n",
            " [0 1 0]\n",
            " [0 1 0]\n",
            " [0 1 0]\n",
            " [0 1 0]\n",
            " [0 1 0]\n",
            " [0 1 0]\n",
            " [0 1 0]\n",
            " [0 1 0]]\n"
          ]
        }
      ]
    },
    {
      "cell_type": "markdown",
      "source": [
        "## 특정 해셔"
      ],
      "metadata": {
        "id": "p8UaObqAJlHW"
      }
    },
    {
      "cell_type": "code",
      "source": [
        "your_text = 'Nomina sunt consequentia rerum'\n",
        "mapping_words_in_text = {word: position for position, word in enumerate(set(your_text.lower().split(' ')))}\n",
        "mapping_words_in_text"
      ],
      "metadata": {
        "colab": {
          "base_uri": "https://localhost:8080/"
        },
        "id": "SXp7J0u8JnKy",
        "outputId": "b6ca28a2-f33a-4ad4-e559-5899ce551f18"
      },
      "execution_count": 129,
      "outputs": [
        {
          "output_type": "execute_result",
          "data": {
            "text/plain": [
              "{'nomina': 0, 'rerum': 1, 'sunt': 2, 'consequentia': 3}"
            ]
          },
          "metadata": {},
          "execution_count": 129
        }
      ]
    },
    {
      "cell_type": "code",
      "source": [
        "corpus = ['The quick fox jumped over the lazy dog',\n",
        "          'I sought a dog wondering around with a bird',\n",
        "          'My dog is names Fido']\n",
        "\n",
        "from sklearn.feature_extraction.text import CountVectorizer\n",
        "textual_one_hot_encoder = CountVectorizer(binary = True)\n",
        "textual_one_hot_encoder.fit(corpus)\n",
        "\n",
        "vectorized_text = textual_one_hot_encoder.transform(corpus)\n",
        "vectorized_text.todense()"
      ],
      "metadata": {
        "colab": {
          "base_uri": "https://localhost:8080/"
        },
        "id": "6SvwDTNFJ_ts",
        "outputId": "9eb998a8-443f-41d3-e417-8e58d9773495"
      },
      "execution_count": 142,
      "outputs": [
        {
          "output_type": "execute_result",
          "data": {
            "text/plain": [
              "matrix([[0, 0, 1, 0, 1, 0, 1, 1, 0, 0, 1, 1, 0, 1, 0, 0],\n",
              "        [1, 1, 1, 0, 0, 0, 0, 0, 0, 0, 0, 0, 1, 0, 1, 1],\n",
              "        [0, 0, 1, 1, 0, 1, 0, 0, 1, 1, 0, 0, 0, 0, 0, 0]])"
            ]
          },
          "metadata": {},
          "execution_count": 142
        }
      ]
    },
    {
      "cell_type": "code",
      "source": [
        "print(textual_one_hot_encoder.get_feature_names_out())"
      ],
      "metadata": {
        "colab": {
          "base_uri": "https://localhost:8080/"
        },
        "id": "MXQBVK4GKjqk",
        "outputId": "168e2479-d1a7-499f-a2ba-212839bacbc2"
      },
      "execution_count": 146,
      "outputs": [
        {
          "output_type": "stream",
          "name": "stdout",
          "text": [
            "['around' 'bird' 'dog' 'fido' 'fox' 'is' 'jumped' 'lazy' 'my' 'names'\n",
            " 'over' 'quick' 'sought' 'the' 'with' 'wondering']\n"
          ]
        }
      ]
    },
    {
      "cell_type": "code",
      "source": [
        "print(textual_one_hot_encoder.transform(['John wend home today']).todense())"
      ],
      "metadata": {
        "colab": {
          "base_uri": "https://localhost:8080/"
        },
        "id": "tl_zz6jmL5NK",
        "outputId": "137f48ef-9506-463d-d887-bbdfcc60f773"
      },
      "execution_count": 148,
      "outputs": [
        {
          "output_type": "stream",
          "name": "stdout",
          "text": [
            "[[0 0 0 0 0 0 0 0 0 0 0 0 0 0 0 0]]\n"
          ]
        }
      ]
    },
    {
      "cell_type": "code",
      "source": [
        "from sklearn.feature_extraction.text import HashingVectorizer\n",
        "hashing_trick = HashingVectorizer(n_features = 11, binary = True, norm = None)\n",
        "M = hashing_trick.transform(corpus)\n",
        "M.todense()"
      ],
      "metadata": {
        "colab": {
          "base_uri": "https://localhost:8080/"
        },
        "id": "PhrAll1mMA1R",
        "outputId": "446c984b-a6e9-4897-e302-a4bf290ff01c"
      },
      "execution_count": 153,
      "outputs": [
        {
          "output_type": "execute_result",
          "data": {
            "text/plain": [
              "matrix([[1., 0., 0., 1., 1., 0., 0., 1., 0., 0., 0.],\n",
              "        [0., 0., 0., 1., 0., 1., 0., 1., 1., 0., 0.],\n",
              "        [0., 0., 0., 1., 0., 0., 0., 1., 1., 0., 0.]])"
            ]
          },
          "metadata": {},
          "execution_count": 153
        }
      ]
    },
    {
      "cell_type": "code",
      "source": [
        "print(hashing_trick.transform(['John is the owner of that dog']).todense())"
      ],
      "metadata": {
        "colab": {
          "base_uri": "https://localhost:8080/"
        },
        "id": "tqQSLWHbM3Pb",
        "outputId": "648f37aa-cf65-4af1-d870-7daca8aeb23f"
      },
      "execution_count": 155,
      "outputs": [
        {
          "output_type": "stream",
          "name": "stdout",
          "text": [
            "[[1. 0. 1. 1. 0. 1. 0. 1. 0. 1. 0.]]\n"
          ]
        }
      ]
    },
    {
      "cell_type": "markdown",
      "source": [
        "## 누락 데이터"
      ],
      "metadata": {
        "id": "tMKrVrZJM_Xk"
      }
    },
    {
      "cell_type": "code",
      "source": [
        "import numpy as np\n",
        "example = np.array([1, 2, np.nan, 4, 5])\n",
        "example"
      ],
      "metadata": {
        "colab": {
          "base_uri": "https://localhost:8080/"
        },
        "id": "MHhLCMscNCva",
        "outputId": "78c37b4f-57c0-4b55-842a-cf6592e43aae"
      },
      "execution_count": 162,
      "outputs": [
        {
          "output_type": "execute_result",
          "data": {
            "text/plain": [
              "array([ 1.,  2., nan,  4.,  5.])"
            ]
          },
          "metadata": {},
          "execution_count": 162
        }
      ]
    },
    {
      "cell_type": "code",
      "source": [
        "np.isnan(example)"
      ],
      "metadata": {
        "colab": {
          "base_uri": "https://localhost:8080/"
        },
        "id": "_3z_FBdTNl__",
        "outputId": "3ee73fd7-8e06-48da-806e-051ea1e378cd"
      },
      "execution_count": 164,
      "outputs": [
        {
          "output_type": "execute_result",
          "data": {
            "text/plain": [
              "array([False, False,  True, False, False])"
            ]
          },
          "metadata": {},
          "execution_count": 164
        }
      ]
    },
    {
      "cell_type": "code",
      "source": [
        "np.nan_to_num(example)"
      ],
      "metadata": {
        "colab": {
          "base_uri": "https://localhost:8080/"
        },
        "id": "A82AQUJ-Nogi",
        "outputId": "3dbf9f47-d28b-40dc-a397-8c57f1df622e"
      },
      "execution_count": 166,
      "outputs": [
        {
          "output_type": "execute_result",
          "data": {
            "text/plain": [
              "array([1., 2., 0., 4., 5.])"
            ]
          },
          "metadata": {},
          "execution_count": 166
        }
      ]
    },
    {
      "cell_type": "code",
      "source": [
        "missing = np.isnan(example)\n",
        "replacing_value = np.mean(example[~missing])\n",
        "example[missing] = replacing_value\n",
        "example"
      ],
      "metadata": {
        "colab": {
          "base_uri": "https://localhost:8080/"
        },
        "id": "oxOfURb-NsyS",
        "outputId": "93cb320d-5435-494f-deda-281e9e71ae06"
      },
      "execution_count": 168,
      "outputs": [
        {
          "output_type": "execute_result",
          "data": {
            "text/plain": [
              "array([1., 2., 3., 4., 5.])"
            ]
          },
          "metadata": {},
          "execution_count": 168
        }
      ]
    }
  ]
}