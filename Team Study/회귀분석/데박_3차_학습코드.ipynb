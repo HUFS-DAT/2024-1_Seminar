{
 "cells": [
  {
   "cell_type": "markdown",
   "id": "c2dff1b5",
   "metadata": {},
   "source": [
    "# 6장. 일반화 달성"
   ]
  },
  {
   "cell_type": "markdown",
   "id": "c19ca61d",
   "metadata": {},
   "source": [
    "### 샘플 외 데이터 검사"
   ]
  },
  {
   "cell_type": "markdown",
   "id": "75aba2f4",
   "metadata": {},
   "source": [
    "### 샘플 분할 테스트\n",
    "##### 1. 모델이 새로운 데이터로 잘 일반화되기를 원한다면 그러한 상황에서 테스트해야함"
   ]
  },
  {
   "cell_type": "code",
   "execution_count": 7,
   "id": "df55bff6",
   "metadata": {},
   "outputs": [
    {
     "ename": "ImportError",
     "evalue": "\n`load_boston` has been removed from scikit-learn since version 1.2.\n\nThe Boston housing prices dataset has an ethical problem: as\ninvestigated in [1], the authors of this dataset engineered a\nnon-invertible variable \"B\" assuming that racial self-segregation had a\npositive impact on house prices [2]. Furthermore the goal of the\nresearch that led to the creation of this dataset was to study the\nimpact of air quality but it did not give adequate demonstration of the\nvalidity of this assumption.\n\nThe scikit-learn maintainers therefore strongly discourage the use of\nthis dataset unless the purpose of the code is to study and educate\nabout ethical issues in data science and machine learning.\n\nIn this special case, you can fetch the dataset from the original\nsource::\n\n    import pandas as pd\n    import numpy as np\n\n    data_url = \"http://lib.stat.cmu.edu/datasets/boston\"\n    raw_df = pd.read_csv(data_url, sep=\"\\s+\", skiprows=22, header=None)\n    data = np.hstack([raw_df.values[::2, :], raw_df.values[1::2, :2]])\n    target = raw_df.values[1::2, 2]\n\nAlternative datasets include the California housing dataset and the\nAmes housing dataset. You can load the datasets as follows::\n\n    from sklearn.datasets import fetch_california_housing\n    housing = fetch_california_housing()\n\nfor the California housing dataset and::\n\n    from sklearn.datasets import fetch_openml\n    housing = fetch_openml(name=\"house_prices\", as_frame=True)\n\nfor the Ames housing dataset.\n\n[1] M Carlisle.\n\"Racist data destruction?\"\n<https://medium.com/@docintangible/racist-data-destruction-113e3eff54a8>\n\n[2] Harrison Jr, David, and Daniel L. Rubinfeld.\n\"Hedonic housing prices and the demand for clean air.\"\nJournal of environmental economics and management 5.1 (1978): 81-102.\n<https://www.researchgate.net/publication/4974606_Hedonic_housing_prices_and_the_demand_for_clean_air>\n",
     "output_type": "error",
     "traceback": [
      "\u001b[1;31m---------------------------------------------------------------------------\u001b[0m",
      "\u001b[1;31mImportError\u001b[0m                               Traceback (most recent call last)",
      "Cell \u001b[1;32mIn[7], line 2\u001b[0m\n\u001b[0;32m      1\u001b[0m \u001b[38;5;28;01mimport\u001b[39;00m \u001b[38;5;21;01mpandas\u001b[39;00m \u001b[38;5;28;01mas\u001b[39;00m \u001b[38;5;21;01mpd\u001b[39;00m\n\u001b[1;32m----> 2\u001b[0m \u001b[38;5;28;01mfrom\u001b[39;00m \u001b[38;5;21;01msklearn\u001b[39;00m\u001b[38;5;21;01m.\u001b[39;00m\u001b[38;5;21;01mdatasets\u001b[39;00m \u001b[38;5;28;01mimport\u001b[39;00m load_boston\n\u001b[0;32m      3\u001b[0m boston \u001b[38;5;241m=\u001b[39m load_boston()\n\u001b[0;32m      4\u001b[0m datasets \u001b[38;5;241m=\u001b[39m pd\u001b[38;5;241m.\u001b[39mDataFrame(boston\u001b[38;5;241m.\u001b[39mdata, columns\u001b[38;5;241m=\u001b[39mboston\u001b[38;5;241m.\u001b[39mfeature_names)\n",
      "File \u001b[1;32m~\\anaconda3\\Lib\\site-packages\\sklearn\\datasets\\__init__.py:157\u001b[0m, in \u001b[0;36m__getattr__\u001b[1;34m(name)\u001b[0m\n\u001b[0;32m    108\u001b[0m \u001b[38;5;28;01mif\u001b[39;00m name \u001b[38;5;241m==\u001b[39m \u001b[38;5;124m\"\u001b[39m\u001b[38;5;124mload_boston\u001b[39m\u001b[38;5;124m\"\u001b[39m:\n\u001b[0;32m    109\u001b[0m     msg \u001b[38;5;241m=\u001b[39m textwrap\u001b[38;5;241m.\u001b[39mdedent(\u001b[38;5;124m\"\"\"\u001b[39m\n\u001b[0;32m    110\u001b[0m \u001b[38;5;124m        `load_boston` has been removed from scikit-learn since version 1.2.\u001b[39m\n\u001b[0;32m    111\u001b[0m \n\u001b[1;32m   (...)\u001b[0m\n\u001b[0;32m    155\u001b[0m \u001b[38;5;124m        <https://www.researchgate.net/publication/4974606_Hedonic_housing_prices_and_the_demand_for_clean_air>\u001b[39m\n\u001b[0;32m    156\u001b[0m \u001b[38;5;124m        \u001b[39m\u001b[38;5;124m\"\"\"\u001b[39m)\n\u001b[1;32m--> 157\u001b[0m     \u001b[38;5;28;01mraise\u001b[39;00m \u001b[38;5;167;01mImportError\u001b[39;00m(msg)\n\u001b[0;32m    158\u001b[0m \u001b[38;5;28;01mtry\u001b[39;00m:\n\u001b[0;32m    159\u001b[0m     \u001b[38;5;28;01mreturn\u001b[39;00m \u001b[38;5;28mglobals\u001b[39m()[name]\n",
      "\u001b[1;31mImportError\u001b[0m: \n`load_boston` has been removed from scikit-learn since version 1.2.\n\nThe Boston housing prices dataset has an ethical problem: as\ninvestigated in [1], the authors of this dataset engineered a\nnon-invertible variable \"B\" assuming that racial self-segregation had a\npositive impact on house prices [2]. Furthermore the goal of the\nresearch that led to the creation of this dataset was to study the\nimpact of air quality but it did not give adequate demonstration of the\nvalidity of this assumption.\n\nThe scikit-learn maintainers therefore strongly discourage the use of\nthis dataset unless the purpose of the code is to study and educate\nabout ethical issues in data science and machine learning.\n\nIn this special case, you can fetch the dataset from the original\nsource::\n\n    import pandas as pd\n    import numpy as np\n\n    data_url = \"http://lib.stat.cmu.edu/datasets/boston\"\n    raw_df = pd.read_csv(data_url, sep=\"\\s+\", skiprows=22, header=None)\n    data = np.hstack([raw_df.values[::2, :], raw_df.values[1::2, :2]])\n    target = raw_df.values[1::2, 2]\n\nAlternative datasets include the California housing dataset and the\nAmes housing dataset. You can load the datasets as follows::\n\n    from sklearn.datasets import fetch_california_housing\n    housing = fetch_california_housing()\n\nfor the California housing dataset and::\n\n    from sklearn.datasets import fetch_openml\n    housing = fetch_openml(name=\"house_prices\", as_frame=True)\n\nfor the Ames housing dataset.\n\n[1] M Carlisle.\n\"Racist data destruction?\"\n<https://medium.com/@docintangible/racist-data-destruction-113e3eff54a8>\n\n[2] Harrison Jr, David, and Daniel L. Rubinfeld.\n\"Hedonic housing prices and the demand for clean air.\"\nJournal of environmental economics and management 5.1 (1978): 81-102.\n<https://www.researchgate.net/publication/4974606_Hedonic_housing_prices_and_the_demand_for_clean_air>\n"
     ]
    }
   ],
   "source": [
    "import pandas as pd\n",
    "from sklearn.datasets import load_boston\n",
    "boston = load_boston()\n",
    "datasets = pd.DataFrame(boston.data, columns=boston.feature_names)\n",
    "dataset['target'] = boston.target\n",
    "obervation = len(dataset)\n",
    "variables = dataset.columns[:-1]\n",
    "x = dataset.ix[:, :-1]\n",
    "y = dataset['target'].values"
   ]
  },
  {
   "cell_type": "markdown",
   "id": "79cb7419",
   "metadata": {},
   "source": [
    "데이터셋 로드 후 훈련 부분과 테스트 부분으로 분할"
   ]
  },
  {
   "cell_type": "code",
   "execution_count": 3,
   "id": "f8d8856d",
   "metadata": {},
   "outputs": [
    {
     "ename": "SyntaxError",
     "evalue": "invalid syntax (1853772033.py, line 5)",
     "output_type": "error",
     "traceback": [
      "\u001b[1;36m  Cell \u001b[1;32mIn[3], line 5\u001b[1;36m\u001b[0m\n\u001b[1;33m    print (\"Test dataset sample size: %i\"* % len(X_test))\u001b[0m\n\u001b[1;37m                                           ^\u001b[0m\n\u001b[1;31mSyntaxError\u001b[0m\u001b[1;31m:\u001b[0m invalid syntax\n"
     ]
    }
   ],
   "source": [
    "from sklearn.cross_validation import train_test_split\n",
    "X_train, X_test, y_train, y_test = train_test_split(X, y,\n",
    "test_size=0.30, random_state=101)\n",
    "print (\"Train dataset sample size: %i\" % len(X_train))\n",
    "print (\"Test dataset sample size: %i\"* % len(X_test))"
   ]
  },
  {
   "cell_type": "markdown",
   "id": "827ec203",
   "metadata": {},
   "source": [
    "train_test_split으로 test_size 파라미터에 표시된 테스트를 위해 지정된 할당량에 따라 데이터 분리"
   ]
  },
  {
   "cell_type": "code",
   "execution_count": 6,
   "id": "7e219f75",
   "metadata": {},
   "outputs": [
    {
     "ename": "NameError",
     "evalue": "name 'train_test_split' is not defined",
     "output_type": "error",
     "traceback": [
      "\u001b[1;31m---------------------------------------------------------------------------\u001b[0m",
      "\u001b[1;31mNameError\u001b[0m                                 Traceback (most recent call last)",
      "Cell \u001b[1;32mIn[6], line 2\u001b[0m\n\u001b[0;32m      1\u001b[0m X_train, X_out_sample, y_train, y_out_sample \u001b[38;5;241m=\u001b[39m \\\n\u001b[1;32m----> 2\u001b[0m     train_test_split(X, y, test_size\u001b[38;5;241m=\u001b[39m\u001b[38;5;241m0.40\u001b[39m, random_state\u001b[38;5;241m=\u001b[39m\u001b[38;5;241m101\u001b[39m)\n\u001b[0;32m      3\u001b[0m X_validation, X_test, y_validation, y_test \u001b[38;5;241m=\u001b[39m \\\n\u001b[0;32m      4\u001b[0m     train_test_split(X_out_sample, y_out_sample, test_size\u001b[38;5;241m=\u001b[39m\u001b[38;5;241m0.50\u001b[39m, random_state\u001b[38;5;241m=\u001b[39m\u001b[38;5;241m101\u001b[39m)\n\u001b[0;32m      5\u001b[0m \u001b[38;5;28mprint\u001b[39m (\u001b[38;5;124m\"\u001b[39m\u001b[38;5;124mTrain dataset sample size: \u001b[39m\u001b[38;5;132;01m%i\u001b[39;00m\u001b[38;5;124m\"\u001b[39m \u001b[38;5;241m%\u001b[39m \u001b[38;5;28mlen\u001b[39m(X_train))\n",
      "\u001b[1;31mNameError\u001b[0m: name 'train_test_split' is not defined"
     ]
    }
   ],
   "source": [
    "X_train, X_out_sample, y_train, y_out_sample = \\\n",
    "    train_test_split(X, y, test_size=0.40, random_state=101)\n",
    "X_validation, X_test, y_validation, y_test = \\\n",
    "    train_test_split(X_out_sample, y_out_sample, test_size=0.50, random_state=101)\n",
    "print (\"Train dataset sample size: %i\" % len(X_train))\n",
    "print (\"Validation dataset sample size: St\" & len(X_validation) )\n",
    "print (\"Test dataset sample size: %i\" % len(X_test))"
   ]
  },
  {
   "cell_type": "markdown",
   "id": "3db2a592",
   "metadata": {},
   "source": [
    "#### 교차 검증 : 훈련과 테스트를 위해 데이터를 분리하고 모든 관찰이 훈련과 테스트의 역학을 수행할 때 까지 반복적으로 진행"
   ]
  },
  {
   "cell_type": "code",
   "execution_count": 18,
   "id": "ea58fb05",
   "metadata": {},
   "outputs": [
    {
     "ename": "NameError",
     "evalue": "name 'y' is not defined",
     "output_type": "error",
     "traceback": [
      "\u001b[1;31m---------------------------------------------------------------------------\u001b[0m",
      "\u001b[1;31mNameError\u001b[0m                                 Traceback (most recent call last)",
      "Cell \u001b[1;32mIn[18], line 12\u001b[0m\n\u001b[0;32m     10\u001b[0m Im \u001b[38;5;241m=\u001b[39m LinearRegression()\n\u001b[0;32m     11\u001b[0m cv_iterator \u001b[38;5;241m=\u001b[39m KFold(n_splits\u001b[38;5;241m=\u001b[39m\u001b[38;5;241m10\u001b[39m, shuffle\u001b[38;5;241m=\u001b[39m\u001b[38;5;28;01mTrue\u001b[39;00m, random_state\u001b[38;5;241m=\u001b[39m\u001b[38;5;241m101\u001b[39m)\n\u001b[1;32m---> 12\u001b[0m edges \u001b[38;5;241m=\u001b[39m np\u001b[38;5;241m.\u001b[39mhistogram(y, bins\u001b[38;5;241m=\u001b[39m\u001b[38;5;241m5\u001b[39m)[\u001b[38;5;241m1\u001b[39m]\n\u001b[0;32m     13\u001b[0m binning \u001b[38;5;241m=\u001b[39m np\u001b[38;5;241m.\u001b[39mdigitize(y, edges)\n\u001b[0;32m     14\u001b[0m stratified_cv_iterator \u001b[38;5;241m=\u001b[39m StratifiedKFold(n_splits\u001b[38;5;241m=\u001b[39m\u001b[38;5;241m10\u001b[39m, shuffle\u001b[38;5;241m=\u001b[39m\u001b[38;5;28;01mTrue\u001b[39;00m, random_state\u001b[38;5;241m=\u001b[39m\u001b[38;5;241m101\u001b[39m)\n",
      "\u001b[1;31mNameError\u001b[0m: name 'y' is not defined"
     ]
    }
   ],
   "source": [
    "from sklearn.model_selection import cross_val_score, KFold, StratifiedKFold\n",
    "from sklearn.metrics import make_scorer, mean_squared_error\n",
    "from sklearn.preprocessing import PolynomialFeatures\n",
    "from sklearn.linear_model import LinearRegression\n",
    "import numpy as np\n",
    "\n",
    "def RMSE(y_true, y_pred):\n",
    "    return np.sqrt(np.sum((y_true - y_pred) ** 2))\n",
    "\n",
    "Im = LinearRegression()\n",
    "cv_iterator = KFold(n_splits=10, shuffle=True, random_state=101)\n",
    "edges = np.histogram(y, bins=5)[1]\n",
    "binning = np.digitize(y, edges)\n",
    "stratified_cv_iterator = StratifiedKFold(n_splits=10, shuffle=True, random_state=101)\n",
    "\n",
    "second_order = PolynomialFeatures(degree=2, interaction_only=False)\n",
    "third_order = PolynomialFeatures(degree=3, interaction_only=True)\n",
    "\n",
    "over_param_X = second_order.fit_transform(X)\n",
    "extra_over_param_X = third_order.fit_transform(X)\n",
    "\n",
    "lm = Im  # Im을 LinearRegression 모델 객체로 사용할 것으로 가정합니다.\n",
    "\n",
    "cv_score = cross_val_score(lm, over_param_X, y, cv=cv_iterator, scoring='neg_mean_squared_error', n_jobs=1)\n"
   ]
  },
  {
   "cell_type": "code",
   "execution_count": 13,
   "id": "7ffaca85",
   "metadata": {
    "scrolled": true
   },
   "outputs": [
    {
     "ename": "NameError",
     "evalue": "name 'cv_score' is not defined",
     "output_type": "error",
     "traceback": [
      "\u001b[1;31m---------------------------------------------------------------------------\u001b[0m",
      "\u001b[1;31mNameError\u001b[0m                                 Traceback (most recent call last)",
      "Cell \u001b[1;32mIn[13], line 1\u001b[0m\n\u001b[1;32m----> 1\u001b[0m \u001b[38;5;28mprint\u001b[39m(cv_score)\n",
      "\u001b[1;31mNameError\u001b[0m: name 'cv_score' is not defined"
     ]
    }
   ],
   "source": [
    "print(cv_score)"
   ]
  },
  {
   "cell_type": "code",
   "execution_count": 20,
   "id": "44ca9969",
   "metadata": {},
   "outputs": [
    {
     "ename": "NameError",
     "evalue": "name 'cv_score' is not defined",
     "output_type": "error",
     "traceback": [
      "\u001b[1;31m---------------------------------------------------------------------------\u001b[0m",
      "\u001b[1;31mNameError\u001b[0m                                 Traceback (most recent call last)",
      "Cell \u001b[1;32mIn[20], line 2\u001b[0m\n\u001b[0;32m      1\u001b[0m \u001b[38;5;28mprint\u001b[39m (\u001b[38;5;124m'\u001b[39m\u001b[38;5;124mCv score: mean \u001b[39m\u001b[38;5;132;01m%0.3f\u001b[39;00m\u001b[38;5;124m std \u001b[39m\u001b[38;5;132;01m%0.3f\u001b[39;00m\u001b[38;5;124m'\u001b[39m \u001b[38;5;241m%\u001b[39m\n\u001b[1;32m----> 2\u001b[0m     (np\u001b[38;5;241m.\u001b[39mmean(np\u001b[38;5;241m.\u001b[39mabs(cv_score)), np\u001b[38;5;241m.\u001b[39mstd(cv_score)))\n",
      "\u001b[1;31mNameError\u001b[0m: name 'cv_score' is not defined"
     ]
    }
   ],
   "source": [
    "print ('Cv score: mean %0.3f std %0.3f' %\n",
    "    (np.mean(np.abs(cv_score)), np.std(cv_score)))"
   ]
  },
  {
   "cell_type": "code",
   "execution_count": 21,
   "id": "ffedc031",
   "metadata": {},
   "outputs": [
    {
     "ename": "NameError",
     "evalue": "name 'im' is not defined",
     "output_type": "error",
     "traceback": [
      "\u001b[1;31m---------------------------------------------------------------------------\u001b[0m",
      "\u001b[1;31mNameError\u001b[0m                                 Traceback (most recent call last)",
      "Cell \u001b[1;32mIn[21], line 1\u001b[0m\n\u001b[1;32m----> 1\u001b[0m cv_score \u001b[38;5;241m=\u001b[39m cross_val_score(im, over_param_X, y, \\\n\u001b[0;32m      2\u001b[0m     cv\u001b[38;5;241m=\u001b[39mstratified_cv_iterator, scoring\u001b[38;5;241m=\u001b[39m\u001b[38;5;124m'\u001b[39m\u001b[38;5;124mmean_squared _error\u001b[39m\u001b[38;5;124m'\u001b[39m, \\\n\u001b[0;32m      3\u001b[0m     n_jobs\u001b[38;5;241m=\u001b[39m\u001b[38;5;241m1\u001b[39m)\n\u001b[0;32m      4\u001b[0m \u001b[38;5;28mprint\u001b[39m (\u001b[38;5;124m'\u001b[39m\u001b[38;5;124mCv score: mean 80.3f std 80.3f\u001b[39m\u001b[38;5;124m'\u001b[39m \u001b[38;5;241m&\u001b[39m \\\n\u001b[0;32m      5\u001b[0m     (np\u001b[38;5;241m.\u001b[39m mean(np\u001b[38;5;241m.\u001b[39mabs(cv_score)), np\u001b[38;5;241m.\u001b[39mstd(cv_score )))\n",
      "\u001b[1;31mNameError\u001b[0m: name 'im' is not defined"
     ]
    }
   ],
   "source": [
    "cv_score = cross_val_score(im, over_param_X, y, \\\n",
    "    cv=stratified_cv_iterator, scoring='mean_squared _error', \\\n",
    "    n_jobs=1)\n",
    "print ('Cv score: mean 80.3f std 80.3f' & \\\n",
    "    (np. mean(np.abs(cv_score)), np.std(cv_score )))"
   ]
  },
  {
   "cell_type": "markdown",
   "id": "79cac2dd",
   "metadata": {},
   "source": [
    "#### 부트스트래핑 : 데이터의 기본 분포를 여러 번 복제해 시도함으로 훈련 및 테스트 검증 시퀀스를 반복할 수 있음"
   ]
  },
  {
   "cell_type": "code",
   "execution_count": 25,
   "id": "782ba945",
   "metadata": {},
   "outputs": [
    {
     "name": "stdout",
     "output_type": "stream",
     "text": [
      "[9, 3, 8, 5, 7, 0, 8, 3, 9, 3] [1, 2, 4, 6]\n",
      "[4, 7, 3, 5, 7, 1, 4, 3, 2, 1] [0, 8, 6, 9]\n",
      "[7, 8, 5, 3, 7, 5, 3, 6, 6, 3] [0, 1, 2, 4, 9]\n",
      "[1, 6, 7, 4, 3, 1, 9, 5, 4, 6] [0, 8, 2]\n",
      "[6, 3, 6, 1, 6, 6, 0, 7, 3, 8] [9, 2, 4, 5]\n"
     ]
    }
   ],
   "source": [
    "import random\n",
    "\n",
    "def Bootstrap(n, n_iter=3, random_state=None):\n",
    "    if random_state:\n",
    "        random.seed(random_state)\n",
    "    for _ in range(n_iter):\n",
    "        bs = [random.randint(0, n-1) for _ in range(n)]\n",
    "        out_bs = list({i for i in range(n)} - set(bs))\n",
    "        yield bs, out_bs\n",
    "\n",
    "boot = Bootstrap(n=10, n_iter=5, random_state=101)\n",
    "for train_idx, validation_idx in boot:\n",
    "    print(train_idx, validation_idx)\n"
   ]
  },
  {
   "cell_type": "markdown",
   "id": "de269047",
   "metadata": {},
   "source": [
    "각 계수가 얼마나 안정적인지 파악"
   ]
  },
  {
   "cell_type": "code",
   "execution_count": 28,
   "id": "9d4ab8c5",
   "metadata": {
    "scrolled": true
   },
   "outputs": [
    {
     "ename": "NameError",
     "evalue": "name 'X' is not defined",
     "output_type": "error",
     "traceback": [
      "\u001b[1;31m---------------------------------------------------------------------------\u001b[0m",
      "\u001b[1;31mNameError\u001b[0m                                 Traceback (most recent call last)",
      "Cell \u001b[1;32mIn[28], line 2\u001b[0m\n\u001b[0;32m      1\u001b[0m \u001b[38;5;28;01mimport\u001b[39;00m \u001b[38;5;21;01mnumpy\u001b[39;00m \u001b[38;5;28;01mas\u001b[39;00m \u001b[38;5;21;01mnp\u001b[39;00m\n\u001b[1;32m----> 2\u001b[0m boot \u001b[38;5;241m=\u001b[39m Bootstrap(n\u001b[38;5;241m=\u001b[39m\u001b[38;5;28mlen\u001b[39m(X), n_iter\u001b[38;5;241m=\u001b[39m\u001b[38;5;241m10\u001b[39m, random_state\u001b[38;5;241m=\u001b[39m\u001b[38;5;241m101\u001b[39m)\n\u001b[0;32m      3\u001b[0m Im \u001b[38;5;241m=\u001b[39m LinearRegression()\n\u001b[0;32m      4\u001b[0m bootstrapped_coef \u001b[38;5;241m=\u001b[39m np \u001b[38;5;241m.\u001b[39mzeros( (\u001b[38;5;241m10\u001b[39m,\u001b[38;5;241m13\u001b[39m))\n",
      "\u001b[1;31mNameError\u001b[0m: name 'X' is not defined"
     ]
    }
   ],
   "source": [
    "import numpy as np\n",
    "boot = Bootstrap(n=len(X), n_iter=10, random_state=101)\n",
    "Im = LinearRegression()\n",
    "bootstrapped_coef = np .zeros( (10,13))\n",
    "for k, (train_idx, validation_idx) in enumerate(boot) :\n",
    "    Im. fit(X. ix[train_idx,:],y[train_idx])\n",
    "    bootstrapped_coef [k,:] = Im.coef_"
   ]
  },
  {
   "cell_type": "markdown",
   "id": "76a10b7f",
   "metadata": {},
   "source": [
    "ex) 10번째 계수 인덱스 부호와 값 살피는 코드"
   ]
  },
  {
   "cell_type": "code",
   "execution_count": 29,
   "id": "2f95a410",
   "metadata": {},
   "outputs": [
    {
     "ename": "NameError",
     "evalue": "name 'bootstrapped_coef' is not defined",
     "output_type": "error",
     "traceback": [
      "\u001b[1;31m---------------------------------------------------------------------------\u001b[0m",
      "\u001b[1;31mNameError\u001b[0m                                 Traceback (most recent call last)",
      "Cell \u001b[1;32mIn[29], line 1\u001b[0m\n\u001b[1;32m----> 1\u001b[0m \u001b[38;5;28mprint\u001b[39m(bootstrapped_coef [:,\u001b[38;5;241m10\u001b[39m])\n",
      "\u001b[1;31mNameError\u001b[0m: name 'bootstrapped_coef' is not defined"
     ]
    }
   ],
   "source": [
    "print(bootstrapped_coef [:,10])"
   ]
  },
  {
   "cell_type": "markdown",
   "id": "0f1390e0",
   "metadata": {},
   "source": [
    "#### 특성의 그리디 선택\n",
    "1. 새로운 변수를 추가하는 것은 선형회귀에서 항상 큰 성공을 거둔다.\n",
    "2. 올바른 변수를 추가할 때뿐만 아니라 잘못된 변수를 추가할 때도 적용된다.\n",
    "3. 새로운 계수 중 일부는 데이터에 존재하는 노이즈 및 기타 세부 사항을 적합시키기 위해 사용될 수 있다."
   ]
  },
  {
   "cell_type": "code",
   "execution_count": 31,
   "id": "93dcd10d",
   "metadata": {},
   "outputs": [
    {
     "ename": "NameError",
     "evalue": "name 'X' is not defined",
     "output_type": "error",
     "traceback": [
      "\u001b[1;31m---------------------------------------------------------------------------\u001b[0m",
      "\u001b[1;31mNameError\u001b[0m                                 Traceback (most recent call last)",
      "Cell \u001b[1;32mIn[31], line 5\u001b[0m\n\u001b[0;32m      2\u001b[0m \u001b[38;5;28;01mfrom\u001b[39;00m \u001b[38;5;21;01msklearn\u001b[39;00m\u001b[38;5;21;01m.\u001b[39;00m\u001b[38;5;21;01mlinear_model\u001b[39;00m \u001b[38;5;28;01mimport\u001b[39;00m LinearRegression\n\u001b[0;32m      3\u001b[0m \u001b[38;5;28;01mfrom\u001b[39;00m \u001b[38;5;21;01msklearn\u001b[39;00m\u001b[38;5;21;01m.\u001b[39;00m\u001b[38;5;21;01mmodel_selection\u001b[39;00m \u001b[38;5;28;01mimport\u001b[39;00m train_test_split\n\u001b[1;32m----> 5\u001b[0m X_train, X_test, y_train, y_test \u001b[38;5;241m=\u001b[39m train_test_split(X, y, test_size\u001b[38;5;241m=\u001b[39m\u001b[38;5;241m0.30\u001b[39m, random_state\u001b[38;5;241m=\u001b[39m\u001b[38;5;241m3\u001b[39m)\n\u001b[0;32m      6\u001b[0m Im \u001b[38;5;241m=\u001b[39m LinearRegression()\n\u001b[0;32m      7\u001b[0m Im\u001b[38;5;241m.\u001b[39mfit(X_train, y_train)\n",
      "\u001b[1;31mNameError\u001b[0m: name 'X' is not defined"
     ]
    }
   ],
   "source": [
    "from sklearn.metrics import mean_squared_error\n",
    "from sklearn.linear_model import LinearRegression\n",
    "from sklearn.model_selection import train_test_split\n",
    "\n",
    "X_train, X_test, y_train, y_test = train_test_split(X, y, test_size=0.30, random_state=3)\n",
    "Im = LinearRegression()\n",
    "Im.fit(X_train, y_train)\n",
    "\n",
    "print('Train (cases, features) = %s' % str(X_train.shape))\n",
    "print('Test (cases, features) = %s' % str(X_test.shape))\n",
    "\n",
    "print('In-sample mean squared error %.3f' % mean_squared_error(y_train, Im.predict(X_train)))\n",
    "print('Out-sample mean squared error %.3f' % mean_squared_error(y_test, Im.predict(X_test)))"
   ]
  },
  {
   "cell_type": "markdown",
   "id": "b715fc77",
   "metadata": {},
   "source": [
    "#### 마델론 데이터셋 : 노이즈가 많고 공선적인 변수 중 최상의 변수를 선ㅌ택하는 작업을 위해 사용하는 데이터셋"
   ]
  },
  {
   "cell_type": "code",
   "execution_count": 33,
   "id": "d9823039",
   "metadata": {},
   "outputs": [],
   "source": [
    "import numpy as np\n",
    "import urllib.request as urllib\n",
    "\n",
    "train_data = 'https://archive.ics.uci.edu/ml/machine-learning-databases/madelon/MADELON/madelon_train.data'\n",
    "validation_data = 'https://archive.ics.uci.edu/ml/machine-learning-databases/madelon/MADELON/madelon_valid.data'\n",
    "train_response = 'https://archive.ics.uci.edu/ml/machine-learning-databases/madelon/MADELON/madelon_train.labels'\n",
    "validation_response = 'https://archive.ics.uci.edu/ml/machine-learning-databases/madelon/madelon_valid.labels'\n",
    "\n",
    "try:\n",
    "    Xt = np.loadtxt(urllib.urlopen(train_data))\n",
    "    yt = np.loadtxt(urllib.urlopen(train_response))\n",
    "    Xv = np.loadtxt(urllib.urlopen(validation_data))\n",
    "    yv = np.loadtxt(urllib.urlopen(validation_response))\n",
    "except:\n",
    "    # In case downloading the data doesn't work, just manually download the files into the working directory\n",
    "    Xt = np.loadtxt('madelon_train.data')\n",
    "    yt = np.loadtxt('madelon_train.labels')\n",
    "    Xv = np.loadtxt('madelon_valid.data')\n",
    "    yv = np.loadtxt('madelon_valid.labels')\n"
   ]
  },
  {
   "cell_type": "markdown",
   "id": "82a9fbd4",
   "metadata": {},
   "source": [
    "훈련 집합과 검증 집합 모두 로드한 후에 사용 가능한 정보 중 일부를 탐색"
   ]
  },
  {
   "cell_type": "code",
   "execution_count": 35,
   "id": "e025daf1",
   "metadata": {},
   "outputs": [
    {
     "name": "stdout",
     "output_type": "stream",
     "text": [
      "Training set: 2000 observations 500 feature\n",
      "Validation set: 600 observations 500 feature\n"
     ]
    }
   ],
   "source": [
    "print ('Training set: %i observations %i feature' %\n",
    "    (Xt. shape) )\n",
    "print ('Validation set: %i observations %i feature' %\n",
    "    (Xv. shape))"
   ]
  },
  {
   "cell_type": "markdown",
   "id": "a599afca",
   "metadata": {},
   "source": [
    "훈련 집합으로 상황 파악"
   ]
  },
  {
   "cell_type": "markdown",
   "id": "748f0a5f",
   "metadata": {},
   "source": [
    "아웃풋 : 긴 행렬 형태 -> 데이터 셋 내의 평균, 최대, 분산, 왜도, 첨도 정보 포함\n",
    "모든 정보가 거의 정규분포를 가짐"
   ]
  },
  {
   "cell_type": "code",
   "execution_count": 39,
   "id": "a955a9b6",
   "metadata": {},
   "outputs": [
    {
     "name": "stdout",
     "output_type": "stream",
     "text": [
      "DescribeResult(nobs=2000, minmax=(array([462., 381., 370., 453., 371., 459., 334., 471., 430., 455., 354.,\n",
      "       389., 347., 352., 444., 410., 433., 377., 408., 441., 426., 412.,\n",
      "       456., 438., 343., 416., 421., 441., 438., 417., 451., 382., 369.,\n",
      "       363., 384., 342., 441., 396., 464., 471., 463., 362., 392., 438.,\n",
      "       406., 392., 371., 373., 367., 382., 381., 382., 399., 465., 401.,\n",
      "       409., 288., 377., 378., 408., 400., 462., 377., 458., 214., 385.,\n",
      "       373., 395., 462., 452., 362., 427., 402., 354., 456., 371., 446.,\n",
      "       396., 379., 424., 415., 385., 396., 430., 372., 391., 458., 406.,\n",
      "       454., 377., 474., 395., 399., 438., 452., 384., 468., 406., 412.,\n",
      "       355., 448., 448., 460., 428., 361.,   0., 349., 370., 391., 442.,\n",
      "       392., 356., 450., 385., 353., 413., 418., 441., 389., 414., 469.,\n",
      "       380., 437., 355., 406., 389., 440., 387., 435., 347., 401., 420.,\n",
      "       402., 461., 403., 382., 369., 425., 461., 430., 427., 376., 443.,\n",
      "       452., 421., 398., 468., 369., 462., 343., 325., 447., 437., 182.,\n",
      "       472., 398., 406., 382., 419., 400., 379., 443., 438., 458., 335.,\n",
      "       414., 471., 466., 473., 369., 350., 375., 380., 473., 414., 368.,\n",
      "       446., 457., 347., 378., 381., 393., 397., 387., 438., 407., 362.,\n",
      "       383., 327., 457., 372., 400., 428., 359., 350., 451., 461., 449.,\n",
      "       472., 393., 417., 409., 430., 332., 376., 471., 374., 466., 427.,\n",
      "       423., 444., 374., 402., 358., 443., 358., 403., 449., 396., 450.,\n",
      "       381., 350., 399., 364., 360., 408., 409., 470., 473., 412., 427.,\n",
      "       420., 430., 422., 427., 420., 430., 468., 410., 458., 385., 333.,\n",
      "       402., 430., 371., 394., 343., 468., 453., 401., 383., 379., 464.,\n",
      "       395., 453., 389., 350., 330., 455., 447., 419., 461., 432., 355.,\n",
      "       450., 425., 332., 431., 393., 421., 440., 369., 318., 354., 423.,\n",
      "       442., 474., 387., 394., 387., 473., 317., 420., 472., 374., 363.,\n",
      "       361., 342., 465., 420., 386., 399., 427., 455., 325., 385., 394.,\n",
      "       372., 406., 421., 345., 433., 463., 422., 378., 378., 436., 450.,\n",
      "       415., 347., 401., 414., 392., 390., 445., 385., 448., 457., 346.,\n",
      "       338., 440., 373., 426., 438., 424., 462., 385., 389., 444., 395.,\n",
      "       368., 437., 473., 383., 352., 447., 180., 356., 207., 368., 383.,\n",
      "       401., 389., 407., 358., 452., 457., 327., 409., 398., 453., 347.,\n",
      "       351., 436., 431., 420., 366., 471., 392., 359., 368., 416., 293.,\n",
      "       410., 459., 361., 407., 447., 440., 367., 374., 342., 421., 391.,\n",
      "       406., 381., 456., 410., 347., 361., 462., 404., 383., 441., 424.,\n",
      "       442., 404., 471., 424., 344., 459., 350., 468., 377., 469., 407.,\n",
      "       454., 346., 347., 461., 461., 381., 471., 387., 474., 368., 354.,\n",
      "       459., 381., 451., 419., 369., 378., 426., 398., 385., 448., 375.,\n",
      "       361., 387., 461., 427., 443., 474., 445., 436., 435., 362., 362.,\n",
      "       463., 398., 404., 383., 263., 418., 363., 436., 393., 368., 452.,\n",
      "       349., 417., 207., 345., 433., 472., 435., 449., 343., 435., 433.,\n",
      "       450., 417.,  84., 460., 265., 461., 384., 350., 383., 376., 403.,\n",
      "       379., 347., 424., 426., 452., 364., 408., 333., 398., 464., 347.,\n",
      "       472., 455., 276., 428., 423., 347., 450., 418., 391., 439., 375.,\n",
      "       376., 444., 444., 355., 411., 449., 407., 463., 391., 130., 368.,\n",
      "       398., 457., 435., 363., 403.]), array([503., 600., 654., 519., 688., 505., 611., 481., 536., 503., 620.,\n",
      "       603., 593., 632., 523., 551., 523., 601., 566., 513., 526., 571.,\n",
      "       499., 516., 653., 597., 573., 528., 520., 573., 510., 628., 668.,\n",
      "       637., 557., 619., 517., 564., 496., 482., 487., 643., 568., 548.,\n",
      "       602., 557., 641., 619., 614., 571., 658., 641., 577., 498., 598.,\n",
      "       561., 644., 617., 675., 554., 558., 504., 641., 505., 768., 647.,\n",
      "       641., 569., 498., 501., 668., 537., 568., 629., 508., 651., 513.,\n",
      "       581., 640., 551., 584., 674., 613., 534., 647., 587., 494., 567.,\n",
      "       507., 654., 478., 612., 551., 557., 508., 622., 492., 554., 545.,\n",
      "       603., 510., 510., 506., 533., 645., 999., 577., 608., 608., 518.,\n",
      "       610., 630., 506., 586., 617., 545., 564., 522., 592., 577., 485.,\n",
      "       574., 518., 615., 553., 612., 530., 574., 516., 613., 618., 588.,\n",
      "       558., 491., 562., 651., 648., 555., 503., 535., 566., 641., 524.,\n",
      "       525., 549., 563., 495., 624., 497., 618., 612., 529., 517., 814.,\n",
      "       481., 583., 554., 573., 589., 602., 563., 521., 518., 500., 661.,\n",
      "       579., 481., 493., 481., 668., 639., 637., 633., 481., 524., 616.,\n",
      "       527., 504., 620., 654., 625., 664., 593., 571., 542., 575., 631.,\n",
      "       591., 673., 498., 560., 611., 559., 661., 680., 516., 502., 512.,\n",
      "       481., 609., 558., 557., 564., 647., 625., 481., 641., 493., 542.,\n",
      "       562., 542., 649., 574., 611., 523., 639., 630., 520., 585., 524.,\n",
      "       589., 649., 599., 636., 628., 601., 553., 485., 479., 556., 535.,\n",
      "       568., 530., 565., 564., 583., 529., 488., 542., 499., 603., 653.,\n",
      "       601., 530., 642., 626., 592., 492., 515., 584., 586., 590., 493.,\n",
      "       643., 506., 628., 688., 647., 520., 527., 551., 502., 560., 610.,\n",
      "       513., 571., 632., 554., 605., 590., 529., 639., 613., 692., 531.,\n",
      "       529., 478., 613., 576., 593., 482., 646., 536., 481., 609., 619.,\n",
      "       571., 653., 495., 561., 583., 605., 574., 499., 650., 614., 561.,\n",
      "       679., 578., 563., 597., 536., 492., 576., 602., 571., 530., 512.,\n",
      "       606., 568., 577., 548., 634., 605., 520., 621., 510., 506., 607.,\n",
      "       650., 525., 571., 564., 524., 556., 498., 564., 591., 526., 658.,\n",
      "       605., 522., 480., 586., 632., 529., 828., 626., 829., 643., 643.,\n",
      "       584., 606., 628., 678., 512., 507., 634., 566., 620., 507., 624.,\n",
      "       619., 525., 561., 545., 667., 482., 621., 651., 597., 561., 638.,\n",
      "       573., 501., 642., 582., 527., 529., 650., 622., 645., 570., 567.,\n",
      "       599., 594., 507., 560., 661., 630., 502., 569., 653., 532., 548.,\n",
      "       514., 581., 485., 561., 619., 496., 626., 487., 600., 490., 548.,\n",
      "       522., 616., 648., 504., 491., 606., 480., 579., 479., 593., 598.,\n",
      "       492., 601., 500., 562., 645., 602., 547., 617., 721., 531., 634.,\n",
      "       657., 635., 500., 530., 518., 478., 526., 542., 556., 633., 593.,\n",
      "       494., 568., 604., 584., 719., 558., 657., 517., 653., 603., 521.,\n",
      "       626., 542., 794., 651., 575., 483., 517., 532., 631., 510., 536.,\n",
      "       505., 569., 807., 500., 735., 501., 586., 650., 592., 639., 560.,\n",
      "       625., 615., 547., 566., 510., 670., 540., 633., 666., 493., 621.,\n",
      "       484., 506., 680., 535., 548., 630., 528., 554., 587., 509., 623.,\n",
      "       619., 523., 512., 618., 606., 513., 549., 497., 566., 920., 615.,\n",
      "       661., 500., 535., 644., 583.])), mean=array([481.7225, 483.4525, 510.166 , 483.3845, 501.6125, 479.259 ,\n",
      "       480.1095, 476.565 , 486.7935, 478.789 , 486.5175, 490.6535,\n",
      "       478.1645, 481.5245, 485.0385, 479.4235, 479.287 , 494.9475,\n",
      "       484.173 , 477.427 , 484.7145, 494.239 , 476.573 , 479.2605,\n",
      "       499.4075, 504.719 , 484.7835, 482.0995, 480.5975, 491.9145,\n",
      "       481.9315, 500.037 , 500.6095, 489.5455, 486.713 , 489.128 ,\n",
      "       479.046 , 480.67  , 479.8   , 476.153 , 476.4925, 489.484 ,\n",
      "       476.566 , 487.8925, 500.304 , 480.439 , 496.6275, 494.7715,\n",
      "       485.0005, 479.5405, 517.853 , 505.752 , 485.356 , 480.0735,\n",
      "       497.1905, 495.199 , 479.694 , 484.8665, 509.3415, 477.958 ,\n",
      "       487.8915, 481.494 , 494.046 , 478.842 , 497.9675, 510.147 ,\n",
      "       503.78  , 490.034 , 480.947 , 476.239 , 514.45  , 488.665 ,\n",
      "       481.6865, 484.1835, 480.5825, 501.8625, 478.6855, 483.38  ,\n",
      "       513.136 , 482.684 , 490.3455, 511.958 , 483.933 , 482.126 ,\n",
      "       504.2045, 489.4665, 477.116 , 483.074 , 479.275 , 512.0915,\n",
      "       476.046 , 508.1215, 479.3155, 492.583 , 480.407 , 497.4185,\n",
      "       479.262 , 478.9505, 476.9515, 480.3495, 479.9765, 480.666 ,\n",
      "       481.1645, 477.7095, 483.968 , 502.088 , 484.469 , 490.4405,\n",
      "       499.5235, 480.871 , 488.2285, 478.0985, 477.3175, 492.1145,\n",
      "       478.242 , 478.8695, 489.2055, 483.115 , 496.691 , 488.6225,\n",
      "       476.114 , 479.278 , 480.853 , 481.369 , 478.5475, 504.4605,\n",
      "       483.387 , 499.286 , 479.121 , 483.6795, 500.1915, 485.749 ,\n",
      "       488.435 , 477.5635, 484.4205, 504.0635, 498.9705, 491.3995,\n",
      "       479.6845, 483.25  , 492.711 , 508.3605, 482.1675, 483.3815,\n",
      "       483.1915, 487.1515, 479.776 , 497.1775, 479.985 , 497.4085,\n",
      "       487.688 , 483.7415, 482.1165, 501.899 , 476.951 , 487.1095,\n",
      "       483.235 , 477.897 , 499.64  , 500.025 , 478.222 , 478.557 ,\n",
      "       481.08  , 479.968 , 488.793 , 487.943 , 476.06  , 479.0265,\n",
      "       476.868 , 510.7215, 494.6405, 510.7705, 506.9805, 477.0855,\n",
      "       476.551 , 500.073 , 482.6145, 480.2765, 483.849 , 504.674 ,\n",
      "       503.0315, 514.425 , 476.999 , 478.6255, 488.305 , 486.7675,\n",
      "       498.4885, 492.6735, 517.823 , 478.5525, 481.929 , 490.175 ,\n",
      "       495.424 , 506.3265, 512.8235, 484.078 , 479.2955, 483.295 ,\n",
      "       476.512 , 486.612 , 490.862 , 488.2055, 489.9225, 508.1945,\n",
      "       488.9565, 476.0375, 506.0325, 479.153 , 481.32  , 490.8695,\n",
      "       487.7495, 492.2825, 480.39  , 487.7755, 480.4005, 503.113 ,\n",
      "       504.4315, 480.5115, 487.0045, 485.109 , 478.314 , 498.9485,\n",
      "       492.968 , 487.1575, 493.691 , 500.5205, 485.061 , 477.522 ,\n",
      "       476.366 , 493.6285, 479.8745, 482.5665, 478.3985, 484.104 ,\n",
      "       491.527 , 496.1055, 483.171 , 478.0915, 475.712 , 477.9965,\n",
      "       497.687 , 498.8435, 490.276 , 478.936 , 507.5225, 511.2025,\n",
      "       476.962 , 479.153 , 481.7825, 498.7185, 489.5925, 494.1805,\n",
      "       476.894 , 508.236 , 478.4365, 491.7135, 500.578 , 490.548 ,\n",
      "       485.392 , 485.672 , 490.729 , 478.612 , 494.284 , 484.7655,\n",
      "       478.9815, 493.9425, 500.5455, 489.2975, 484.4605, 492.415 ,\n",
      "       484.031 , 498.962 , 484.4285, 487.131 , 477.009 , 484.427 ,\n",
      "       476.1785, 495.793 , 496.173 , 492.347 , 476.8725, 479.5875,\n",
      "       481.681 , 476.0165, 504.158 , 491.0155, 477.9205, 483.394 ,\n",
      "       479.695 , 493.411 , 491.212 , 503.5085, 496.582 , 476.1655,\n",
      "       485.8825, 497.187 , 475.175 , 500.917 , 496.791 , 496.6555,\n",
      "       481.085 , 489.6075, 477.869 , 491.8145, 494.5   , 485.4805,\n",
      "       480.5725, 480.8795, 499.6585, 476.398 , 486.3575, 480.1225,\n",
      "       501.3715, 499.0755, 480.8245, 487.399 , 477.3155, 481.239 ,\n",
      "       486.4   , 512.029 , 483.2285, 483.13  , 490.474 , 480.2915,\n",
      "       489.816 , 479.957 , 482.1945, 481.9935, 486.498 , 516.454 ,\n",
      "       487.0335, 479.2035, 476.164 , 488.269 , 495.761 , 487.8995,\n",
      "       480.874 , 487.78  , 500.472 , 501.569 , 506.5205, 494.014 ,\n",
      "       496.5045, 503.0535, 500.203 , 482.594 , 481.4135, 490.4035,\n",
      "       481.192 , 504.3015, 481.306 , 478.2335, 484.8145, 482.4985,\n",
      "       493.3315, 484.054 , 502.819 , 476.518 , 507.2765, 498.2075,\n",
      "       483.038 , 491.274 , 477.6885, 486.1715, 480.9   , 494.749 ,\n",
      "       495.613 , 483.873 , 484.5355, 499.7195, 487.873 , 489.589 ,\n",
      "       496.8745, 487.605 , 500.981 , 491.8215, 480.3305, 483.4535,\n",
      "       496.464 , 481.9015, 480.9125, 479.3125, 496.465 , 483.9735,\n",
      "       479.9145, 477.888 , 492.0245, 477.197 , 495.3845, 483.292 ,\n",
      "       476.8165, 493.4595, 476.4445, 487.539 , 478.077 , 484.3455,\n",
      "       484.1565, 482.131 , 509.9355, 481.2205, 477.0235, 489.583 ,\n",
      "       476.069 , 487.5755, 476.6135, 476.7805, 482.005 , 477.864 ,\n",
      "       482.865 , 478.0995, 489.6855, 490.68  , 487.8875, 484.6165,\n",
      "       492.143 , 517.588 , 484.355 , 507.623 , 511.244 , 497.346 ,\n",
      "       480.4315, 478.779 , 477.7445, 476.0565, 484.764 , 489.302 ,\n",
      "       490.8545, 484.27  , 484.324 , 476.8805, 493.8275, 505.586 ,\n",
      "       479.232 , 498.727 , 489.329 , 499.9885, 477.441 , 517.1085,\n",
      "       485.46  , 485.1755, 489.851 , 479.605 , 495.7895, 502.5115,\n",
      "       492.5215, 477.2465, 479.7015, 486.1325, 484.0565, 476.577 ,\n",
      "       487.96  , 477.5935, 489.007 , 481.426 , 479.801 , 501.817 ,\n",
      "       479.6465, 481.1315, 490.8905, 485.6815, 502.708 , 482.687 ,\n",
      "       494.4275, 480.4285, 485.115 , 490.432 , 480.8425, 510.821 ,\n",
      "       481.478 , 481.114 , 516.0075, 478.712 , 480.398 , 477.6405,\n",
      "       479.411 , 486.371 , 481.366 , 487.735 , 483.676 , 486.632 ,\n",
      "       485.4965, 478.4575, 477.3605, 497.97  , 501.877 , 482.779 ,\n",
      "       478.7155, 482.5695, 489.9115, 479.6215, 482.4585, 478.8115,\n",
      "       486.3565, 496.5655, 493.4995, 510.893 , 478.2195, 483.309 ,\n",
      "       507.977 , 490.266 ]), variance=array([4.12391133e+01, 9.11212350e+02, 1.51314502e+03, 8.20817006e+01,\n",
      "       1.71308389e+03, 4.61850115e+01, 1.64640571e+03, 1.91673337e+00,\n",
      "       2.26317016e+02, 5.17093337e+01, 1.33640189e+03, 7.95150013e+02,\n",
      "       1.16755021e+03, 1.81624152e+03, 1.47263650e+02, 4.83322809e+02,\n",
      "       1.81807535e+02, 9.20484986e+02, 5.46131137e+02, 9.91452436e+01,\n",
      "       1.61907944e+02, 4.99267513e+02, 4.67900660e+01, 9.29671233e+01,\n",
      "       1.95784837e+03, 8.13943011e+02, 4.65406331e+02, 1.42441821e+02,\n",
      "       2.16204596e+02, 4.82475427e+02, 5.88162159e+01, 1.33105016e+03,\n",
      "       1.31036419e+03, 1.66105346e+03, 5.49141202e+02, 1.83148436e+03,\n",
      "       1.32038903e+02, 5.24587394e+02, 2.22811406e+01, 2.50184192e+00,\n",
      "       1.18068472e+01, 1.49627288e+03, 4.96308798e+02, 2.60752320e+02,\n",
      "       7.99641405e+02, 5.74993776e+02, 1.31853901e+03, 1.07118888e+03,\n",
      "       1.84991846e+03, 6.53330025e+02, 1.86601540e+03, 1.33613256e+03,\n",
      "       5.12309419e+02, 2.54428192e+01, 8.35481951e+02, 4.35760279e+02,\n",
      "       1.73195634e+03, 1.08793264e+03, 1.70073725e+03, 4.60144308e+02,\n",
      "       3.75263359e+02, 4.25992636e+01, 1.35572775e+03, 4.40860790e+01,\n",
      "       7.99076783e+03, 1.35018648e+03, 1.37093607e+03, 4.46826257e+02,\n",
      "       2.86195008e+01, 4.61729655e+01, 1.78005053e+03, 2.03884717e+02,\n",
      "       5.78522479e+02, 1.35527647e+03, 4.56099987e+01, 1.71933326e+03,\n",
      "       9.78405100e+01, 6.46077639e+02, 1.46441371e+03, 3.95386837e+02,\n",
      "       6.21373817e+02, 1.69085466e+03, 8.97457240e+02, 1.62308278e+02,\n",
      "       1.57835686e+03, 1.01095435e+03, 2.67619250e+01, 4.06762905e+02,\n",
      "       3.89498499e+01, 1.82813419e+03, 3.51059530e-01, 1.13805076e+03,\n",
      "       4.40121020e+02, 3.51724973e+02, 6.42464742e+01, 1.10639756e+03,\n",
      "       1.38682901e+01, 5.37374737e+02, 3.69312804e+02, 1.24830150e+03,\n",
      "       7.61080018e+01, 7.52330605e+01, 4.25257026e+01, 1.96914567e+02,\n",
      "       1.24523960e+03, 1.81049307e+04, 7.50556317e+02, 1.10469581e+03,\n",
      "       1.05798544e+03, 1.01932325e+02, 1.04896877e+03, 1.75433396e+03,\n",
      "       6.08181028e+01, 6.20845813e+02, 1.37335111e+03, 2.92315628e+02,\n",
      "       3.95744142e+02, 1.53110330e+02, 7.43297168e+02, 5.51499744e+02,\n",
      "       4.70035418e+00, 5.77678555e+02, 1.14011397e+02, 1.61689028e+03,\n",
      "       4.81505496e+02, 1.23709499e+03, 1.66952707e+02, 6.02676542e+02,\n",
      "       1.32368543e+02, 1.41221789e+03, 7.65201428e+02, 4.52643321e+02,\n",
      "       4.68603077e+02, 1.69834595e+01, 6.28153757e+02, 1.78475485e+03,\n",
      "       1.69707617e+03, 3.74239019e+02, 4.45062129e+01, 2.30024512e+02,\n",
      "       4.95230094e+02, 1.46801255e+03, 1.29770329e+02, 8.31425290e+01,\n",
      "       3.24971313e+02, 4.74409753e+02, 1.49292886e+01, 1.33014106e+03,\n",
      "       2.67591546e+01, 1.64539032e+03, 1.72515023e+03, 1.54072714e+02,\n",
      "       1.11656756e+02, 9.63332246e+03, 1.88053927e+00, 6.67865442e+02,\n",
      "       4.54436993e+02, 5.71600191e+02, 6.65954377e+02, 6.86867809e+02,\n",
      "       7.00016724e+02, 1.25958730e+02, 1.40861031e+02, 3.75317419e+01,\n",
      "       1.63595613e+03, 6.11341422e+02, 2.33056528e+00, 1.67331643e+01,\n",
      "       1.49132166e+00, 1.89827107e+03, 1.84544998e+03, 1.65773970e+03,\n",
      "       1.47952888e+03, 1.55696823e+00, 2.45664231e+02, 1.56467301e+03,\n",
      "       1.81170475e+02, 4.83082019e+01, 1.42141791e+03, 1.68062304e+03,\n",
      "       1.33502402e+03, 1.57357616e+03, 7.37469734e+02, 5.04042271e+02,\n",
      "       2.23677814e+02, 6.05249068e+02, 1.61407090e+03, 7.91305551e+02,\n",
      "       1.81125330e+03, 1.77511193e+01, 6.13487703e+02, 6.13866308e+02,\n",
      "       3.86959704e+02, 1.81533356e+03, 1.87354812e+03, 7.78218269e+01,\n",
      "       3.73398497e+01, 7.15327414e+01, 1.97184192e+00, 9.19677295e+02,\n",
      "       4.75485699e+02, 4.42143341e+02, 4.00883936e+02, 1.82355745e+03,\n",
      "       1.29317620e+03, 1.80299525e+00, 1.42973231e+03, 1.54693257e+01,\n",
      "       2.59377289e+02, 3.99750345e+02, 1.91966733e+02, 1.60750945e+03,\n",
      "       6.18754277e+02, 1.35790105e+03, 1.29468834e+02, 1.62914981e+03,\n",
      "       1.25906884e+03, 1.06767251e+02, 7.45996478e+02, 1.08923581e+02,\n",
      "       9.06260534e+02, 1.72244307e+03, 8.00382167e+02, 1.48815377e+03,\n",
      "       1.32723113e+03, 7.65076118e+02, 3.74977768e+02, 3.34018609e+00,\n",
      "       8.71479740e-01, 3.83848412e+02, 2.12684092e+02, 3.79091123e+02,\n",
      "       1.89243319e+02, 3.37731050e+02, 4.53217880e+02, 5.02378559e+02,\n",
      "       1.32925222e+02, 1.08625590e+01, 3.88690401e+02, 3.19794775e+01,\n",
      "       8.23758910e+02, 2.88129065e+03, 7.68847248e+02, 2.16057933e+02,\n",
      "       1.36615457e+03, 1.15709104e+03, 1.32234773e+03, 1.21466643e+01,\n",
      "       6.43273574e+01, 7.58484500e+02, 9.73509198e+02, 8.52710275e+02,\n",
      "       1.28471876e+01, 1.17155508e+03, 6.06212784e+01, 9.64845841e+02,\n",
      "       1.68306445e+03, 1.75556148e+03, 9.58692706e+01, 1.24217525e+02,\n",
      "       2.73394256e+02, 3.39974547e+01, 3.51031860e+02, 1.16635769e+03,\n",
      "       7.98610883e+01, 4.56499443e+02, 1.69126656e+03, 2.17321655e+02,\n",
      "       8.11247063e+02, 4.22738144e+02, 2.00906492e+02, 1.68868590e+03,\n",
      "       1.81401189e+03, 1.70854711e+03, 2.32319079e+02, 1.19225284e+02,\n",
      "       4.65870685e-01, 1.01388609e+03, 4.76360251e+02, 9.39880531e+02,\n",
      "       1.89218984e+00, 2.63304687e+03, 2.74197338e+02, 1.66606078e+00,\n",
      "       1.09210609e+03, 9.71507013e+02, 8.73680020e+02, 1.63743448e+03,\n",
      "       1.56648074e+01, 3.74421290e+02, 8.83041577e+02, 8.07613735e+02,\n",
      "       5.11434993e+02, 3.97409802e+01, 1.73908023e+03, 1.17344575e+03,\n",
      "       6.23299025e+02, 1.05025524e+03, 5.82369504e+02, 4.65870755e+02,\n",
      "       1.14919237e+03, 2.12269579e+02, 1.62159470e+01, 6.08246213e+02,\n",
      "       1.12557979e+03, 8.89427333e+02, 1.75273380e+02, 8.07313454e+01,\n",
      "       8.29347552e+02, 4.89803498e+02, 7.40620004e+02, 2.94284636e+02,\n",
      "       1.06350524e+03, 8.39529565e+02, 1.20857128e+02, 9.72263931e+02,\n",
      "       1.02343131e+02, 5.32404992e+01, 2.15950175e+03, 1.91672852e+03,\n",
      "       1.51788182e+02, 8.30572386e+02, 3.79832240e+02, 1.37968512e+02,\n",
      "       3.40294291e+02, 2.79051036e+01, 5.55491415e+02, 7.40252584e+02,\n",
      "       1.66463228e+02, 1.64962470e+03, 1.06732604e+03, 1.73941058e+02,\n",
      "       8.97552776e-01, 9.06351815e+02, 1.33422899e+03, 1.51895347e+02,\n",
      "       1.09288415e+04, 1.21548034e+03, 9.40024334e+03, 1.43148698e+03,\n",
      "       1.54892304e+03, 5.48334971e+02, 9.16606283e+02, 1.00258693e+03,\n",
      "       1.89733946e+03, 7.28826053e+01, 4.65988172e+01, 1.84977458e+03,\n",
      "       5.27831052e+02, 1.06754137e+03, 4.97942611e+01, 1.61843419e+03,\n",
      "       1.22849033e+03, 1.53847922e+02, 3.67566391e+02, 2.67460814e+02,\n",
      "       1.59238543e+03, 2.70602901e+00, 1.27214312e+03, 1.68979634e+03,\n",
      "       1.02173943e+03, 4.43246547e+02, 1.75737115e+03, 5.95242709e+02,\n",
      "       2.64582291e+01, 1.69755478e+03, 6.70737600e+02, 1.45781762e+02,\n",
      "       1.56171826e+02, 1.50348556e+03, 1.13420697e+03, 1.71135976e+03,\n",
      "       4.88880190e+02, 5.54229090e+02, 7.43667473e+02, 7.37648462e+02,\n",
      "       5.05855625e+01, 4.09547612e+02, 3.36989365e+03, 1.09363462e+03,\n",
      "       2.98497686e+01, 4.62777232e+02, 1.22454605e+03, 1.73339467e+02,\n",
      "       3.02780580e+02, 1.31648280e+02, 6.98552176e+02, 2.86862531e+00,\n",
      "       3.74323822e+02, 1.33334841e+03, 2.00978767e+01, 1.28534403e+03,\n",
      "       7.28156053e+00, 1.08364930e+03, 8.94254227e+00, 4.25266763e+02,\n",
      "       8.88234195e+01, 1.65142055e+03, 1.42387728e+03, 3.65231413e+01,\n",
      "       1.56017486e+01, 9.73950086e+02, 1.81714757e+00, 7.88515558e+02,\n",
      "       6.25430465e-01, 1.15349307e+03, 1.25568482e+03, 2.04177129e+01,\n",
      "       7.65439495e+02, 4.91251623e+01, 3.90011596e+02, 1.78180550e+03,\n",
      "       8.88255972e+02, 3.19571213e+02, 1.03401056e+03, 1.85821336e+03,\n",
      "       1.36924437e+02, 1.48131053e+03, 1.76580337e+03, 1.23365011e+03,\n",
      "       3.20213184e+01, 1.75566942e+02, 1.32151295e+02, 3.99507504e-01,\n",
      "       1.34011310e+02, 2.21386489e+02, 3.73121891e+02, 1.37457539e+03,\n",
      "       1.24997101e+03, 1.95529962e+01, 4.70236862e+02, 9.73627418e+02,\n",
      "       7.62778565e+02, 4.76563929e+03, 4.40149834e+02, 1.44122398e+03,\n",
      "       1.37696367e+02, 1.76124135e+03, 9.90571686e+02, 1.07144272e+02,\n",
      "       1.57973267e+03, 2.98288119e+02, 9.46464151e+03, 1.94582978e+03,\n",
      "       3.64602839e+02, 2.75511531e+00, 1.21905350e+02, 1.26907397e+02,\n",
      "       1.67615138e+03, 1.19652897e+02, 2.02178489e+02, 8.59132144e+01,\n",
      "       3.40670286e+02, 1.28748259e+04, 3.71049515e+01, 6.10580541e+03,\n",
      "       3.18864810e+01, 9.84152284e+02, 1.88471587e+03, 1.03137575e+03,\n",
      "       1.27118033e+03, 5.30364213e+02, 1.14563156e+03, 1.84323651e+03,\n",
      "       2.93249400e+02, 3.86782767e+02, 7.10282079e+01, 1.31550471e+03,\n",
      "       3.78807920e+02, 1.62148875e+03, 1.66535812e+03, 2.06293707e+01,\n",
      "       1.97635277e+03, 3.19585768e+00, 4.07244412e+01, 5.55301387e+03,\n",
      "       2.52915502e+02, 2.89788669e+02, 1.44308457e+03, 1.36791972e+02,\n",
      "       3.98295135e+02, 7.74007197e+02, 9.55463129e+01, 1.20173797e+03,\n",
      "       1.26942358e+03, 1.27146732e+02, 1.03010065e+02, 1.15949992e+03,\n",
      "       5.16636986e+02, 7.85815285e+01, 4.36393474e+02, 1.60940148e+01,\n",
      "       5.74434625e+02, 1.62908061e+04, 1.21236418e+03, 1.40320315e+03,\n",
      "       3.45816106e+01, 1.83869454e+02, 1.38564830e+03, 6.66944716e+02]), skewness=array([ 0.01145853,  0.04811456, -0.02897218, -0.01199208,  0.136755  ,\n",
      "        0.07621198,  0.00254086,  0.00203618,  0.03808169, -0.06239648,\n",
      "        0.00938016,  0.01774709, -0.02387445, -0.01095325,  0.03037737,\n",
      "        0.13631238,  0.07996439,  0.02801106,  0.05903677, -0.05372047,\n",
      "       -0.05567533,  0.10024688,  0.02164022, -0.0530323 ,  0.05095316,\n",
      "        0.01352428,  0.10330334,  0.07043156,  0.03374897,  0.18005237,\n",
      "        0.06149423, -0.03061827,  0.05708731, -0.00346488,  0.01967889,\n",
      "       -0.0925753 , -0.01748724, -0.03717412,  0.10062365,  0.07754878,\n",
      "       -0.0447432 ,  0.03781635,  0.02248924,  0.02971563,  0.04742743,\n",
      "        0.12185194,  0.05938885,  0.01850439,  0.03043868, -0.02272073,\n",
      "        0.02171862,  0.06242905,  0.0023591 ,  0.11507966,  0.00973333,\n",
      "        0.05246087,  0.04345258,  0.09871192,  0.01115748, -0.06070132,\n",
      "       -0.03964776,  0.06678537,  0.09111131,  0.09203851, -0.03567124,\n",
      "        0.11178093,  0.0956777 , -0.01273457, -0.0023637 , -0.04382308,\n",
      "        0.11445298, -0.05342043,  0.00377941, -0.03066506,  0.09579768,\n",
      "        0.08496678, -0.05600704,  0.13146101,  0.00368436,  0.08407633,\n",
      "        0.14621707, -0.03317698,  0.05375538,  0.08491819, -0.022127  ,\n",
      "        0.05441597,  0.0011128 , -0.00158127, -0.03875768,  0.0271111 ,\n",
      "        0.06004718,  0.08589656,  0.0833626 ,  0.02318657, -0.11646158,\n",
      "        0.05913599,  0.05107814, -0.01193247,  0.04246247, -0.00958588,\n",
      "       -0.06386983,  0.00728015,  0.142334  , -0.04459282,  0.10456546,\n",
      "       -0.02616307, -0.02903806, -0.02713893,  0.06999807,  0.04368465,\n",
      "        0.09460376,  0.00401636,  0.06447695,  0.00207668,  0.02335059,\n",
      "       -0.0797472 ,  0.02828897, -0.13455963, -0.07623061,  0.03595212,\n",
      "       -0.03154307,  0.01221708, -0.00333093,  0.08464439, -0.01248339,\n",
      "        0.01869185,  0.05988123, -0.0280625 , -0.07833042,  0.00050443,\n",
      "        0.09786454,  0.12362419, -0.04360793,  0.01933694, -0.00366565,\n",
      "        0.07788925,  0.00781588,  0.00312559,  0.09706031,  0.03940784,\n",
      "        0.04565451,  0.02600926,  0.0408686 ,  0.06896469, -0.00265589,\n",
      "        0.000795  ,  0.11531174,  0.08564899,  0.08561035,  0.00262255,\n",
      "       -0.075992  ,  0.05914331, -0.02456608,  0.01601794,  0.00908793,\n",
      "        0.02504928,  0.05873728, -0.088434  ,  0.06171593, -0.00323511,\n",
      "       -0.00378904,  0.04815645, -0.05902788, -0.10258025,  0.02864947,\n",
      "        0.10756744, -0.08508848,  0.03213355,  0.0206437 ,  0.03919642,\n",
      "        0.01474058, -0.02308017,  0.11690392,  0.11935903, -0.0177372 ,\n",
      "        0.00436033,  0.02247723,  0.00218695,  0.01148077,  0.05042761,\n",
      "       -0.07048603,  0.1209105 ,  0.03984231, -0.03844966,  0.11819087,\n",
      "        0.13341748,  0.05912557,  0.11537025, -0.00082906, -0.01708645,\n",
      "        0.02053176,  0.07240662,  0.0056251 ,  0.14443686,  0.01894334,\n",
      "        0.03583702,  0.09715159,  0.05266654,  0.02043764,  0.101684  ,\n",
      "       -0.01350947,  0.04459427,  0.02092171, -0.00401956, -0.02853464,\n",
      "       -0.04972299,  0.04339574,  0.09327039,  0.04389368,  0.03418357,\n",
      "        0.13636455,  0.06179694, -0.00050234,  0.0231637 ,  0.09083006,\n",
      "       -0.01056045,  0.1795966 ,  0.073591  ,  0.03218832,  0.03369664,\n",
      "        0.07691202,  0.12735928,  0.02130047, -0.02827966, -0.03324352,\n",
      "       -0.02368595, -0.03308256, -0.02218895,  0.08065238, -0.04744771,\n",
      "        0.03414991,  0.06802652,  0.11201329,  0.083781  ,  0.00943738,\n",
      "        0.0664435 ,  0.04090697,  0.02715496, -0.03597793,  0.02649066,\n",
      "        0.07126821, -0.00396047,  0.06482117, -0.03534794,  0.05116242,\n",
      "        0.12426058, -0.06931625,  0.05448663,  0.15864605,  0.03438452,\n",
      "       -0.03909384, -0.00183402,  0.10608935,  0.1575461 ,  0.05737933,\n",
      "        0.03339234,  0.00139944, -0.02855487,  0.07086495,  0.09581032,\n",
      "        0.05161875,  0.10425339,  0.0187414 ,  0.05285297,  0.08347628,\n",
      "        0.03465495, -0.02339808,  0.0878409 ,  0.02219381,  0.12512721,\n",
      "        0.01826682,  0.05688296, -0.02620229,  0.04317118,  0.09204713,\n",
      "       -0.04103943,  0.16511464,  0.05449809,  0.06648942, -0.00275931,\n",
      "        0.1226403 ,  0.01431006, -0.01492679,  0.00980363, -0.03101347,\n",
      "        0.00654609, -0.00314539,  0.03751332,  0.02436535,  0.05258227,\n",
      "        0.02737837,  0.13550199,  0.15306799, -0.06411479,  0.00173967,\n",
      "       -0.03729661,  0.03752931,  0.11080211,  0.05848174, -0.02400756,\n",
      "       -0.03121573, -0.01515323,  0.10125395,  0.1042422 ,  0.02357621,\n",
      "       -0.06361882, -0.04756275,  0.0086117 ,  0.11722027, -0.03312494,\n",
      "        0.00679183,  0.04410116,  0.01534531,  0.05135178,  0.06736683,\n",
      "        0.02977686,  0.08295165,  0.09685875,  0.03474924,  0.02922786,\n",
      "        0.01611997, -0.10925398,  0.05679073, -0.02313281,  0.11426547,\n",
      "        0.02584566, -0.06622726, -0.04362177,  0.06343518,  0.11160808,\n",
      "        0.07712304,  0.00359073,  0.08851846, -0.02558534,  0.10045834,\n",
      "        0.10550868, -0.01943691,  0.11030782,  0.0935019 ,  0.081673  ,\n",
      "        0.12289621,  0.03556977,  0.07356382,  0.13007118,  0.0615584 ,\n",
      "        0.10523911,  0.02549505, -0.05981057, -0.02153972, -0.02975585,\n",
      "        0.05606811,  0.03536613,  0.06247626,  0.03301246,  0.03397658,\n",
      "       -0.12481508, -0.01155331,  0.04202747, -0.00932519,  0.08977776,\n",
      "       -0.04534437,  0.09885404, -0.07490424,  0.08505362,  0.02849052,\n",
      "        0.00076745,  0.12525046,  0.10769426,  0.00600573,  0.14862495,\n",
      "        0.06439802,  0.00975921,  0.081635  , -0.04560662,  0.11867374,\n",
      "        0.04418863,  0.02635205,  0.01871889,  0.02292045,  0.07214434,\n",
      "        0.0629523 ,  0.06619308,  0.15992527,  0.02309594,  0.0992384 ,\n",
      "        0.09605444,  0.10670688,  0.11634404,  0.07930765, -0.03556378,\n",
      "        0.09146725, -0.038882  ,  0.17401207,  0.00678229,  0.13172201,\n",
      "        0.09408718,  0.0863706 , -0.0175035 ,  0.00728587,  0.02545705,\n",
      "       -0.0370074 , -0.07056599, -0.02258848, -0.00323568,  0.07903009,\n",
      "       -0.05399252,  0.03639477,  0.00702653,  0.11167364, -0.03826697,\n",
      "        0.04887923,  0.01720824, -0.03534842,  0.02792982,  0.12485939,\n",
      "        0.07446406,  0.10495876,  0.0778369 ,  0.0134052 , -0.03282042,\n",
      "        0.09162093, -0.06710621,  0.12505884,  0.03819259,  0.03195966,\n",
      "       -0.0764938 ,  0.07441924,  0.0164773 , -0.06064053,  0.04344467,\n",
      "       -0.05759021,  0.06777811,  0.0182433 ,  0.01100906,  0.07191499,\n",
      "        0.14267967,  0.0255052 ,  0.17435153, -0.08019284, -0.03329305,\n",
      "        0.00182422,  0.07709321, -0.05787205,  0.06465493,  0.13834858,\n",
      "        0.07705892, -0.13007945,  0.10822194,  0.0020578 , -0.06050886,\n",
      "        0.02385161,  0.04935543, -0.02729224, -0.12709502, -0.02962812,\n",
      "       -0.01124215,  0.10066244,  0.00971211, -0.02293605,  0.01254948,\n",
      "        0.11192064, -0.03199438,  0.09613732, -0.04160448,  0.09701412,\n",
      "        0.14117765,  0.03244001,  0.10512924,  0.01659026,  0.02138341,\n",
      "        0.09134836, -0.03100851, -0.03909747, -0.02627967,  0.07604208,\n",
      "        0.00313914, -0.06064009,  0.11932961,  0.03926882, -0.1061982 ,\n",
      "        0.05197405,  0.06006754, -0.08274582,  0.08180343, -0.04248415,\n",
      "        0.03721001, -0.04356382,  0.12574848, -0.03067982,  0.0622096 ,\n",
      "        0.15836543, -0.01731631,  0.06689412, -0.08031647,  0.07482134,\n",
      "        0.03264257,  0.04529002,  0.05698175,  0.00510585,  0.0447152 ]), kurtosis=array([-6.65898578e-02,  4.92105207e-02,  3.08864376e-01, -7.32243426e-03,\n",
      "        3.22693578e-01,  1.55780099e-01,  2.62866760e-03, -4.11607969e-02,\n",
      "        1.18502136e-01, -2.85496283e-02,  3.71853459e-02,  2.24673880e-01,\n",
      "       -2.93028952e-02,  9.55734538e-03, -7.44555155e-02,  1.78924254e-01,\n",
      "       -5.41366310e-02,  1.72309500e-01, -1.46763705e-02, -4.47831742e-02,\n",
      "        3.27432386e-01, -5.62855604e-02, -1.54548942e-01,  1.13441883e-01,\n",
      "        4.38230394e-02, -9.99982804e-02,  1.53540039e-01,  1.53770175e-01,\n",
      "       -9.02694040e-01,  3.86300594e-01,  2.71121783e-01, -5.16648565e-02,\n",
      "        1.95502031e-01,  8.63443406e-02,  3.40360671e-01, -1.37254834e-01,\n",
      "        3.01964848e-02,  1.52850771e-01,  1.32494235e-01,  2.42605130e-02,\n",
      "        2.69296059e-01,  1.82884053e-01,  4.26834902e-01,  1.09909802e-01,\n",
      "        2.76939195e-02,  2.22017620e-01,  5.86685869e-02,  6.63744167e-02,\n",
      "       -8.68848390e-01,  1.64900733e-01,  1.32753802e-01,  1.80226694e-01,\n",
      "       -1.51891465e-02,  5.27714996e-02,  1.43748905e-01,  8.66771915e-02,\n",
      "        3.03118153e-01,  2.49332679e-01,  5.21720861e-02, -6.93000245e-02,\n",
      "        1.99109467e-01,  2.50548796e-02,  2.23366730e-01,  1.03975412e-01,\n",
      "       -2.35173828e-01,  1.11677588e-01,  1.79095562e-01,  3.30908250e-01,\n",
      "       -9.42731262e-02, -7.98748813e-02,  3.94439234e-02,  1.94394393e-01,\n",
      "        9.60596759e-02,  2.48776797e-01,  2.96252492e-01,  3.23303639e-03,\n",
      "       -4.19405580e-02,  1.12235882e-01,  9.43969288e-02, -3.47933163e-02,\n",
      "        1.24563564e-01,  1.54386998e-01,  1.57204521e-01,  4.17403803e-01,\n",
      "        4.99137898e-02, -9.90060939e-02,  1.56885275e-01,  1.79197244e-01,\n",
      "        5.27910264e-01,  3.60714624e-02,  2.50857832e-01, -6.23597056e-02,\n",
      "        9.77125974e-02,  1.02949491e-01,  7.65771809e-02,  1.89958914e-01,\n",
      "        2.39006672e-02, -3.98036099e-02, -1.49805090e-02,  1.13614727e-01,\n",
      "        1.70732378e-01,  2.54030267e-01,  3.53023862e-01,  1.95162954e-01,\n",
      "        3.31974899e-01, -8.32069394e-02,  2.23927751e-01,  4.41571117e-02,\n",
      "       -3.18922210e-02,  2.98488252e-01, -4.63843201e-02,  5.21904643e-02,\n",
      "        1.82450710e-01,  1.72548446e-01,  1.63500975e-01,  1.89983772e-01,\n",
      "        1.73340866e-01, -7.88379839e-02,  1.69063616e-01, -4.78664580e-02,\n",
      "        1.58724260e-01,  1.86287168e-01,  1.15108143e-01, -8.32386544e-02,\n",
      "        3.05761359e-02, -2.25255413e-02,  9.18413162e-02,  1.74097530e-01,\n",
      "       -3.73646998e-02,  1.77781659e-01,  2.37920545e-01,  2.52464076e-01,\n",
      "        3.81852960e-02,  1.56551368e-01,  5.24732754e-02,  1.37909700e-01,\n",
      "       -1.77383248e-02, -6.74908115e-02, -1.82509694e-01,  1.57110292e-01,\n",
      "       -1.80359272e-02,  1.04459385e-01, -9.06226555e-02,  8.71733946e-02,\n",
      "        1.99779185e-01,  1.88300942e-01,  1.15557509e-01,  7.54301936e-03,\n",
      "        1.17501271e-01, -2.33528314e-02,  7.33966958e-02,  7.38910565e-02,\n",
      "        2.34998503e-01, -9.66362166e-01,  8.40188609e-02,  2.37334326e-01,\n",
      "       -2.61705513e-02, -1.01288471e-02,  6.68055325e-02,  2.21324508e-01,\n",
      "       -5.85743371e-02,  7.51545842e-02, -1.82697450e-01,  1.08560319e-01,\n",
      "        1.46387469e-01, -2.50182242e-02,  2.04494482e-02,  4.63446658e-02,\n",
      "        1.63942917e-01, -5.18002978e-02,  2.19850732e-01, -6.55602705e-02,\n",
      "       -6.52076358e-02,  7.74840663e-03,  7.72155092e-02, -7.87791376e-02,\n",
      "       -7.33367230e-03,  1.18457922e-01,  1.09033709e-01, -3.73382107e-04,\n",
      "       -1.32207705e-01,  1.21721466e-02,  1.75012640e-02,  2.56918852e-01,\n",
      "        1.27070705e-01,  6.34086076e-02, -1.09696625e-01,  1.82807209e-01,\n",
      "        6.29480062e-02,  6.46916664e-01,  5.90299991e-02,  3.29898596e-01,\n",
      "       -2.14424392e-03,  1.86166161e-01,  1.87294820e-01,  6.07798577e-02,\n",
      "        4.95256118e-03,  1.67585673e-01,  1.73974048e-01,  2.75578056e-01,\n",
      "        6.41613547e-02,  2.02686557e-02, -2.65834727e-02,  8.86967148e-02,\n",
      "        1.26136574e-02,  1.52025891e-01,  2.81793056e-01,  1.46573784e-01,\n",
      "        1.34671076e-01, -1.20713360e-02, -2.26081454e-02,  5.70596356e-02,\n",
      "       -3.92359548e-03,  4.93513134e-02,  1.03997958e-01,  2.03678795e-01,\n",
      "        3.01098364e-02, -4.59924102e-02,  2.10853619e-01,  4.68789292e-02,\n",
      "        1.50273714e-01,  1.45093696e-01,  2.02388483e-01,  2.18743642e-03,\n",
      "        8.65961478e-02,  8.89766715e-02,  2.18150753e-01,  3.10626690e-01,\n",
      "        1.16316002e-02,  1.06262610e-01,  1.11386080e-01,  2.77652703e-01,\n",
      "        1.88079226e-01,  3.18942521e-01, -4.45501404e-02, -6.55246213e-02,\n",
      "        2.35771300e-01, -3.43508443e-02,  1.13452630e-01,  5.20254157e-02,\n",
      "        3.51993510e-01, -9.21366636e-01,  1.24721726e-01,  1.15827920e-01,\n",
      "        1.58609870e-01,  2.06119113e-02,  6.43501298e-02, -7.56759893e-02,\n",
      "        2.10803782e-01,  4.91140032e-02, -4.67210437e-02,  1.44497380e-01,\n",
      "        9.94529368e-02,  2.97151145e-01,  1.77540100e-01,  1.84310353e-01,\n",
      "        3.63978312e-01,  9.60535102e-02,  1.62100090e-03,  1.41435345e-01,\n",
      "        8.91183699e-02,  7.65106609e-02,  4.55784395e-02,  3.87169723e-01,\n",
      "        6.33606562e-02,  7.59984879e-02,  4.24951964e-02,  2.23818129e-01,\n",
      "       -3.08055007e-02,  2.19504340e-01, -6.23599948e-02, -6.56222760e-03,\n",
      "        6.09357995e-02,  2.05376571e-01,  1.37354046e-01,  4.55311441e-01,\n",
      "        1.17852780e-01,  1.67321918e-01,  3.56161553e-01, -9.39050773e-02,\n",
      "       -1.26080131e-01, -9.19654255e-01,  4.81598859e-02, -4.45588688e-02,\n",
      "        4.24602550e-02,  3.18675051e-01,  1.92218505e-01,  1.58561114e-01,\n",
      "        3.45635570e-01,  9.95677338e-02,  7.97692165e-02,  4.12588529e-01,\n",
      "       -9.37440207e-03, -3.88791881e-02,  4.50676966e-02, -7.83063744e-03,\n",
      "        5.42733291e-02,  8.29658660e-01, -2.54920371e-03, -2.95165839e-02,\n",
      "        1.56194350e-01,  3.79483988e-02,  1.67692209e-01,  1.06122979e-02,\n",
      "        1.75480678e-01,  1.16569254e-01,  8.71349058e-02,  1.78954580e-01,\n",
      "        3.47278561e-02,  4.69811290e-01,  5.99315517e-02,  2.28980786e-01,\n",
      "        2.18267297e-01,  1.08242954e-01, -7.11569100e-02,  1.43314331e-01,\n",
      "       -1.23953967e-02,  1.03457574e-01, -9.49063191e-01,  3.04128774e-01,\n",
      "        8.00540425e-02,  1.86936401e-01,  2.10826194e-01,  1.75691308e-01,\n",
      "        1.73107574e-01,  3.17496200e-01,  2.18292557e-01,  9.97649992e-02,\n",
      "        1.46217582e-01, -1.73053334e-01,  1.37701989e-01, -5.86953078e-02,\n",
      "        3.07885375e-02,  9.32146533e-02,  3.22748045e-01,  1.19179707e-02,\n",
      "       -2.47314751e-01,  2.40570022e-01, -3.04992887e-01,  2.13824514e-01,\n",
      "       -2.60346712e-02,  1.73978974e-01,  1.84917727e-01,  2.44380089e-01,\n",
      "        1.13754941e-01,  2.28213945e-01,  2.99561019e-01,  7.55592692e-02,\n",
      "        5.61087322e-02, -1.71374332e-03,  1.39565575e-01, -6.72059538e-02,\n",
      "        2.23283541e-01,  7.85000030e-02,  7.18857937e-03,  9.88293131e-02,\n",
      "        2.69679641e-01,  2.80982763e-01,  5.40111615e-02,  1.62764215e-01,\n",
      "        1.99683767e-01,  3.43767122e-02,  2.28192183e-01, -2.35864449e-02,\n",
      "        2.57077291e-01,  1.93636788e-01,  2.44752035e-02,  9.94217695e-02,\n",
      "        3.03221805e-01,  7.78948698e-02,  2.03508365e-01,  1.68786821e-01,\n",
      "        1.54658422e-01,  3.36738082e-01,  1.14934284e-01,  3.24428841e-01,\n",
      "        1.82018834e-01,  3.38839304e-02, -9.43213942e-01,  2.29217957e-02,\n",
      "        1.45765841e-01,  1.16058322e-01,  4.03273501e-01,  2.13247375e-01,\n",
      "        4.28690093e-02, -1.67850548e-01,  1.02561421e-01,  2.07450600e-01,\n",
      "        6.92798962e-02,  6.09870054e-02,  6.04191846e-01,  2.87102471e-01,\n",
      "        1.07831180e-01,  1.34697813e-01,  1.59252598e-01,  8.63874913e-02,\n",
      "        2.62541985e-02, -8.47875374e-02,  2.98627554e-01,  4.34643666e-02,\n",
      "        2.60201140e-01,  2.74730152e-01, -2.90468762e-02,  2.27685879e-02,\n",
      "       -9.73289760e-02,  2.50700552e-02,  1.19305801e-01,  1.52705415e-01,\n",
      "        2.56950179e-01,  7.89620453e-02,  2.11379538e-01, -8.46853677e-02,\n",
      "        1.78574062e-01, -5.90968992e-02, -2.48322453e-02,  2.74961065e-01,\n",
      "        4.03485804e-02,  9.22329094e-02,  6.61213783e-02, -8.26289430e-02,\n",
      "        2.50656185e-02,  1.13028001e-01,  1.53064301e-01,  1.77637282e-01,\n",
      "       -1.26530050e-02,  8.38470230e-02, -4.67538163e-02,  1.84186463e-01,\n",
      "        1.61588107e-01,  1.45245354e-01,  8.49623350e-02, -4.43637829e-02,\n",
      "        1.84936002e-01, -9.40522873e-01, -4.22585037e-02,  4.78117587e-01,\n",
      "        7.73109765e-02, -7.22067176e-03,  2.39668788e-01, -3.50848618e-03,\n",
      "        1.58462722e-01,  1.27255917e-01, -3.21743510e-01,  1.06120626e-01,\n",
      "        1.01298129e-01,  3.43983324e-01,  1.82033538e-01,  1.58654009e-01,\n",
      "        9.45046232e-02,  6.20229058e-02,  2.18082155e-01, -8.77754183e-01,\n",
      "        2.27166399e-01, -3.03417236e-01, -1.34120572e-02, -9.54076088e-01,\n",
      "        5.34237426e-02, -8.69861446e-02,  4.13617051e-02, -8.46711658e-02,\n",
      "       -7.50964538e-02,  5.28282700e-02, -2.09485129e-02, -1.21848778e-01,\n",
      "        8.41447892e-02,  9.40754571e-02, -9.52134813e-02,  1.13600877e-01,\n",
      "       -2.89385941e-02,  1.70751017e-01, -1.47761010e-02,  8.38414343e-02,\n",
      "       -3.36944129e-01, -8.07378719e-02,  1.30086924e-01, -9.31182824e-01,\n",
      "        6.42602552e-02,  2.19924105e-01, -4.81801203e-02,  1.33971502e-01,\n",
      "        2.54416385e-02,  1.01366331e-01,  1.67388513e-01,  1.05003639e-01,\n",
      "       -2.25592306e-02,  1.32009288e-02, -1.15052486e-02,  1.74988415e-01,\n",
      "        3.84717200e-01,  1.52365135e-01, -9.98812911e-02,  2.77128745e-01,\n",
      "        5.00905697e-02, -3.61954502e-01,  6.39825384e-02, -6.13038136e-02,\n",
      "        4.45355849e-01,  1.17586728e-01,  7.64003266e-02,  1.04539461e-01]))\n"
     ]
    }
   ],
   "source": [
    "from scipy.stats import describe\n",
    "print(describe(Xt))"
   ]
  },
  {
   "cell_type": "markdown",
   "id": "aa4fc5eb",
   "metadata": {},
   "source": [
    "변수들 사이의 상관관계를 그래프로 표시"
   ]
  },
  {
   "cell_type": "code",
   "execution_count": 41,
   "id": "65d5779a",
   "metadata": {},
   "outputs": [
    {
     "data": {
      "image/png": "[encoded data removed]",
      "text/plain": [
       "<Figure size 640x480 with 2 Axes>"
      ]
     },
     "metadata": {},
     "output_type": "display_data"
    }
   ],
   "source": [
    "import matplotlib.pyplot as plt\n",
    "import matplotlib as mpl\n",
    "\n",
    "def visualize_correlation_matrix(data, hurdle=0.0):\n",
    "    R = np.corrcoef(data, rowvar=0)\n",
    "    R[np.where(np.abs(R) < hurdle)] = 0.0\n",
    "    heatmap = plt.pcolor(R, cmap=mpl.cm.coolwarm, alpha=0.8)\n",
    "    heatmap.axes.set_frame_on(False)\n",
    "    plt.xticks(rotation=90)\n",
    "    plt.tick_params(axis='both', which='both', bottom='off', top='off', left='off', right='off')\n",
    "    plt.colorbar()\n",
    "    plt.axis('equal')\n",
    "    plt.show()\n",
    "\n",
    "visualize_correlation_matrix(Xt[:,100:150], hurdle=0.0)\n"
   ]
  },
  {
   "cell_type": "markdown",
   "id": "092a71ff",
   "metadata": {},
   "source": [
    "곡선 메트릭 아래의 영역을 사용해 측정된 오류 관점에서 단순한 로지스틱회귀모델이 어떻게 점수를 매기는지 확인"
   ]
  },
  {
   "cell_type": "markdown",
   "id": "2aa428d1",
   "metadata": {},
   "source": [
    "로지스틱 회귀는 이런 분할이 항상 최적인 것으로 판명되므로 임계값이 0.5 이상인 경우 관찰치를 양의 값으로 분류하지만 자유롭게 변경 가능"
   ]
  },
  {
   "cell_type": "markdown",
   "id": "e2838981",
   "metadata": {},
   "source": [
    "AUC 오류 측정 : 가치 측면에서의 효과적인 정밀도에 관계없이 예측이 적절하게 정렬됐는지 여부를 판단하는 데 도움이 된다\n",
    "    -> 선택 알고리즘을 평가하기 위한 이상적인 오류 측정법"
   ]
  },
  {
   "cell_type": "code",
   "execution_count": 46,
   "id": "508bf667",
   "metadata": {},
   "outputs": [
    {
     "name": "stdout",
     "output_type": "stream",
     "text": [
      "Training area under the curve: 0.789\n",
      "Validation area under the curve: 0.595\n"
     ]
    },
    {
     "name": "stderr",
     "output_type": "stream",
     "text": [
      "C:\\Users\\eun01\\anaconda3\\Lib\\site-packages\\sklearn\\linear_model\\_logistic.py:460: ConvergenceWarning: lbfgs failed to converge (status=1):\n",
      "STOP: TOTAL NO. of ITERATIONS REACHED LIMIT.\n",
      "\n",
      "Increase the number of iterations (max_iter) or scale the data as shown in:\n",
      "    https://scikit-learn.org/stable/modules/preprocessing.html\n",
      "Please also refer to the documentation for alternative solver options:\n",
      "    https://scikit-learn.org/stable/modules/linear_model.html#logistic-regression\n",
      "  n_iter_i = _check_optimize_result(\n"
     ]
    }
   ],
   "source": [
    "from sklearn.model_selection import cross_val_score\n",
    "from sklearn.linear_model import LogisticRegression\n",
    "from sklearn.metrics import roc_auc_score\n",
    "\n",
    "logit = LogisticRegression()\n",
    "logit.fit(Xt, yt)\n",
    "\n",
    "print('Training area under the curve: %0.3f' % roc_auc_score(yt, logit.predict_proba(Xt)[:, 1]))\n",
    "print('Validation area under the curve: %0.3f' % roc_auc_score(yv, logit.predict_proba(Xv)[:, 1]))\n"
   ]
  },
  {
   "cell_type": "markdown",
   "id": "d06c717f",
   "metadata": {},
   "source": [
    "#### 특성의 일변량 선택"
   ]
  },
  {
   "cell_type": "code",
   "execution_count": 45,
   "id": "fe4adcf9",
   "metadata": {},
   "outputs": [],
   "source": [
    "from sklearn. feature_selection import SelectPercentile, f_classif\n",
    "selector = SelectPercentile(f_classif, percentile=50)\n",
    "selector. fit(Xt,yt)\n",
    "variable_filter = selector.get_support()"
   ]
  },
  {
   "cell_type": "markdown",
   "id": "f836e25c",
   "metadata": {},
   "source": [
    "가장 부적절한 특성을 제거하고 중요한 것들을 유지하기 위해 위쪽 절반을 선택한 후 결과를 히스토그램으로 플롯해 점수 분포를 나타냄"
   ]
  },
  {
   "cell_type": "code",
   "execution_count": 47,
   "id": "46f01fd8",
   "metadata": {},
   "outputs": [
    {
     "data": {
      "image/png": "[encoded data removed]",
      "text/plain": [
       "<Figure size 640x480 with 1 Axes>"
      ]
     },
     "metadata": {},
     "output_type": "display_data"
    }
   ],
   "source": [
    "plt.hist(selector.scores_, bins=50, histtype='bar' )\n",
    "plt. grid( )\n",
    "plt. show( )"
   ]
  },
  {
   "cell_type": "markdown",
   "id": "0f71fda5",
   "metadata": {},
   "source": [
    "대부분의 점수는 0에 가깝고 선택한 임계값을 직접 선택해 중요한 것으로 추정되는 특성을 선택"
   ]
  },
  {
   "cell_type": "code",
   "execution_count": 48,
   "id": "c9e8f7fd",
   "metadata": {},
   "outputs": [
    {
     "ename": "TypeError",
     "evalue": "ufunc 'bitwise_and' not supported for the input types, and the inputs could not be safely coerced to any supported types according to the casting rule ''safe''",
     "output_type": "error",
     "traceback": [
      "\u001b[1;31m---------------------------------------------------------------------------\u001b[0m",
      "\u001b[1;31mTypeError\u001b[0m                                 Traceback (most recent call last)",
      "Cell \u001b[1;32mIn[48], line 1\u001b[0m\n\u001b[1;32m----> 1\u001b[0m \u001b[38;5;28mprint\u001b[39m (\u001b[38;5;124m\"\u001b[39m\u001b[38;5;124mNumber of filtered variables: si\u001b[39m\u001b[38;5;124m\"\u001b[39m \u001b[38;5;241m&\u001b[39m \\\n\u001b[0;32m      2\u001b[0m np\u001b[38;5;241m.\u001b[39m \u001b[38;5;28msum\u001b[39m( variable_filter))\n\u001b[0;32m      3\u001b[0m \u001b[38;5;28;01mfrom\u001b[39;00m \u001b[38;5;21;01msklearn\u001b[39;00m\u001b[38;5;21;01m.\u001b[39;00m\u001b[38;5;21;01mpreprocessing\u001b[39;00m \u001b[38;5;28;01mimport\u001b[39;00m PolynomialFeatures\n\u001b[0;32m      4\u001b[0m interactions \u001b[38;5;241m=\u001b[39m PolynomialFeatures(degree\u001b[38;5;241m=\u001b[39m\u001b[38;5;241m2\u001b[39m,\n\u001b[0;32m      5\u001b[0m interaction_only\u001b[38;5;241m=\u001b[39m\u001b[38;5;28;01mTrue\u001b[39;00m)\n",
      "\u001b[1;31mTypeError\u001b[0m: ufunc 'bitwise_and' not supported for the input types, and the inputs could not be safely coerced to any supported types according to the casting rule ''safe''"
     ]
    }
   ],
   "source": [
    "print (\"Number of filtered variables: si\" & \\\n",
    "np. sum( variable_filter))\n",
    "from sklearn.preprocessing import PolynomialFeatures\n",
    "interactions = PolynomialFeatures(degree=2,\n",
    "interaction_only=True)\n",
    "Xs = interactions.fit_transform(Xt[:, variable_filter])\n",
    "print (\"Number of variables and interactions: %i\" % Xs. shape[1])"
   ]
  },
  {
   "cell_type": "markdown",
   "id": "84709e8c",
   "metadata": {},
   "source": [
    "데이터셋을 핵심 특성으로 축소 완료\n",
    "다항식 확장을 테스트하고 모델에 관련된 모든 비선형 관계를 자동으로 포착하는 것이 좋음"
   ]
  },
  {
   "cell_type": "code",
   "execution_count": 49,
   "id": "4374429f",
   "metadata": {},
   "outputs": [
    {
     "ename": "NameError",
     "evalue": "name 'Xs' is not defined",
     "output_type": "error",
     "traceback": [
      "\u001b[1;31m---------------------------------------------------------------------------\u001b[0m",
      "\u001b[1;31mNameError\u001b[0m                                 Traceback (most recent call last)",
      "Cell \u001b[1;32mIn[49], line 1\u001b[0m\n\u001b[1;32m----> 1\u001b[0m logit\u001b[38;5;241m.\u001b[39mfit(Xs,yt)\n\u001b[0;32m      2\u001b[0m Xvs \u001b[38;5;241m=\u001b[39m interactions\u001b[38;5;241m.\u001b[39mfit_transform(Xv[:,variable_fitler])\n\u001b[0;32m      3\u001b[0m \u001b[38;5;28mprint\u001b[39m(\u001b[38;5;124m'\u001b[39m\u001b[38;5;124mValidation area Under the Curve\u001b[39m\u001b[38;5;124m'\u001b[39m\u001b[38;5;241m+\u001b[39m\\\n\u001b[0;32m      4\u001b[0m     \u001b[38;5;124m'\u001b[39m\u001b[38;5;124mbefore recursive \u001b[39m\u001b[38;5;124m\\\u001b[39m\u001b[38;5;124m selection: \u001b[39m\u001b[38;5;132;01m%0.3f\u001b[39;00m\u001b[38;5;124m'\u001b[39m \u001b[38;5;241m%\u001b[39m \\\n\u001b[0;32m      5\u001b[0m     roc_auc_score( yv, logit\u001b[38;5;241m.\u001b[39mpredict_proba(Xvs)[:,\u001b[38;5;241m1\u001b[39m]))\n",
      "\u001b[1;31mNameError\u001b[0m: name 'Xs' is not defined"
     ]
    }
   ],
   "source": [
    "logit.fit(Xs,yt)\n",
    "Xvs = interactions.fit_transform(Xv[:,variable_fitler])\n",
    "print('Validation area Under the Curve'+\\\n",
    "    'before recursive \\ selection: %0.3f' % \\\n",
    "    roc_auc_score( yv, logit.predict_proba(Xvs)[:,1]))"
   ]
  },
  {
   "cell_type": "markdown",
   "id": "a8dfa5ec",
   "metadata": {},
   "source": [
    "결과 검증 점수는 약 0.81로 훈련 집합에서 제공한 초기 과잉 적합 점수 0.82를 기준으로 할 때 매우 유망한 값임"
   ]
  },
  {
   "cell_type": "markdown",
   "id": "24701c09",
   "metadata": {},
   "source": [
    "#### 재귀적 특성 선택 : 중복 변수가 자주 선택되는 문제를 피할 수 있지만 계산 비용이 소요됨"
   ]
  },
  {
   "cell_type": "code",
   "execution_count": 51,
   "id": "c2cd0951",
   "metadata": {},
   "outputs": [
    {
     "ename": "NameError",
     "evalue": "name 'X' is not defined",
     "output_type": "error",
     "traceback": [
      "\u001b[1;31m---------------------------------------------------------------------------\u001b[0m",
      "\u001b[1;31mNameError\u001b[0m                                 Traceback (most recent call last)",
      "Cell \u001b[1;32mIn[51], line 6\u001b[0m\n\u001b[0;32m      3\u001b[0m \u001b[38;5;28;01mfrom\u001b[39;00m \u001b[38;5;21;01msklearn\u001b[39;00m\u001b[38;5;21;01m.\u001b[39;00m\u001b[38;5;21;01mlinear_model\u001b[39;00m \u001b[38;5;28;01mimport\u001b[39;00m LinearRegression\n\u001b[0;32m      4\u001b[0m \u001b[38;5;28;01mfrom\u001b[39;00m \u001b[38;5;21;01msklearn\u001b[39;00m\u001b[38;5;21;01m.\u001b[39;00m\u001b[38;5;21;01mpreprocessing\u001b[39;00m \u001b[38;5;28;01mimport\u001b[39;00m PolynomialFeatures\n\u001b[1;32m----> 6\u001b[0m X_train, X_test, y_train, y_test \u001b[38;5;241m=\u001b[39m train_test_split(X, y, test_size\u001b[38;5;241m=\u001b[39m\u001b[38;5;241m0.30\u001b[39m, random_state\u001b[38;5;241m=\u001b[39m\u001b[38;5;241m1\u001b[39m)\n\u001b[0;32m      7\u001b[0m Lm \u001b[38;5;241m=\u001b[39m LinearRegression()\n\u001b[0;32m      8\u001b[0m cv_iterator \u001b[38;5;241m=\u001b[39m KFold(n_splits\u001b[38;5;241m=\u001b[39m\u001b[38;5;241m10\u001b[39m, shuffle\u001b[38;5;241m=\u001b[39m\u001b[38;5;28;01mTrue\u001b[39;00m, random_state\u001b[38;5;241m=\u001b[39m\u001b[38;5;241m101\u001b[39m)\n",
      "\u001b[1;31mNameError\u001b[0m: name 'X' is not defined"
     ]
    }
   ],
   "source": [
    "from sklearn.feature_selection import RFECV\n",
    "from sklearn.model_selection import KFold, train_test_split\n",
    "from sklearn.linear_model import LinearRegression\n",
    "from sklearn.preprocessing import PolynomialFeatures\n",
    "\n",
    "X_train, X_test, y_train, y_test = train_test_split(X, y, test_size=0.30, random_state=1)\n",
    "Lm = LinearRegression()\n",
    "cv_iterator = KFold(n_splits=10, shuffle=True, random_state=101)\n",
    "recursive_selector = RFECV(estimator=Lm, step=1, cv=cv_iterator, scoring='mean_squared_error')\n",
    "recursive_selector.fit(second_order.fit_transform(X_train), y_train)\n",
    "\n",
    "print('Initial number of features: %i' % second_order.fit_transform(X_train).shape[1])\n",
    "print('Optimal number of features: %i' % recursive_selector.n_features_)\n"
   ]
  },
  {
   "cell_type": "markdown",
   "id": "505c11fb",
   "metadata": {},
   "source": [
    "추정치, 교차 검증 반복자 및 오류 측정을 감안해 RFECV는 잠시 후에 성능이 저하될 우려없이 특성의 절반을 모델에서 삭제함"
   ]
  },
  {
   "cell_type": "code",
   "execution_count": 53,
   "id": "ab996c86",
   "metadata": {},
   "outputs": [
    {
     "ename": "NameError",
     "evalue": "name 'recursive_selector' is not defined",
     "output_type": "error",
     "traceback": [
      "\u001b[1;31m---------------------------------------------------------------------------\u001b[0m",
      "\u001b[1;31mNameError\u001b[0m                                 Traceback (most recent call last)",
      "Cell \u001b[1;32mIn[53], line 1\u001b[0m\n\u001b[1;32m----> 1\u001b[0m essential_X_train \u001b[38;5;241m=\u001b[39m recursive_selector\u001b[38;5;241m.\u001b[39mtransform(second_order\u001b[38;5;241m.\u001b[39mfit_transform(X_train))\n\u001b[0;32m      2\u001b[0m essential_X_test \u001b[38;5;241m=\u001b[39m recursive_selector\u001b[38;5;241m.\u001b[39mtransform(second_order\u001b[38;5;241m.\u001b[39mfit_transform(X_test))\n\u001b[0;32m      3\u001b[0m Im\u001b[38;5;241m.\u001b[39mfit(essential_X_train, y_train)\n",
      "\u001b[1;31mNameError\u001b[0m: name 'recursive_selector' is not defined"
     ]
    }
   ],
   "source": [
    "essential_X_train = recursive_selector.transform(second_order.fit_transform(X_train))\n",
    "essential_X_test = recursive_selector.transform(second_order.fit_transform(X_test))\n",
    "Im.fit(essential_X_train, y_train)\n",
    "\n",
    "print('Cases = %i, Features = %i' % essential_X_test.shape)\n",
    "print('In-sample mean squared error: %.3f' % mean_squared_error(y_train, Im.predict(essential_X_train)))\n",
    "print('Out-sample mean squared error: %.3f' % mean_squared_error(y_test, Im.predict(essential_X_test)))\n"
   ]
  },
  {
   "cell_type": "markdown",
   "id": "0a9a751b",
   "metadata": {},
   "source": [
    "테스트 기반 검사를 통해 결과적으로 나타난 샘플 외 성능은 11.5"
   ]
  },
  {
   "cell_type": "code",
   "execution_count": 54,
   "id": "a6c964a4",
   "metadata": {},
   "outputs": [
    {
     "ename": "SyntaxError",
     "evalue": "unterminated string literal (detected at line 9) (919735037.py, line 9)",
     "output_type": "error",
     "traceback": [
      "\u001b[1;36m  Cell \u001b[1;32mIn[54], line 9\u001b[1;36m\u001b[0m\n\u001b[1;33m    Lm, essential_X, y, cv=stratified_cv_iterator, scoring='mean_squared\u001b[0m\n\u001b[1;37m                                                           ^\u001b[0m\n\u001b[1;31mSyntaxError\u001b[0m\u001b[1;31m:\u001b[0m unterminated string literal (detected at line 9)\n"
     ]
    }
   ],
   "source": [
    "edges = np. histogram(y, bins=5)[1]\n",
    "binning = np. digitize(y, edges)\n",
    "stratified\n",
    "I cv_iterator = StratifiedKFold(binning, n_folds=10,\n",
    "shuffle-True, random_state=101)\n",
    "essential_X = recursive_selector. transform(\n",
    "second _order.fit_transform(X))\n",
    "cv_score = cross_val_score(\n",
    "Lm, essential_X, y, cv=stratified_cv_iterator, scoring='mean_squared\n",
    "Lerror', n_jobs=1)\n",
    "print ('Cv score: mean %0.3f std %0.3f' %\n",
    "(np. mean (np. abs(cv_score)), np. std(cv_score) ))"
   ]
  },
  {
   "cell_type": "markdown",
   "id": "f2d88ddc",
   "metadata": {},
   "source": [
    "추가 확인을 위해 교차 검증을 실행"
   ]
  },
  {
   "cell_type": "markdown",
   "id": "65ada106",
   "metadata": {},
   "source": [
    "#### 그리드 검색에 의한 최적화된 정규화"
   ]
  },
  {
   "cell_type": "markdown",
   "id": "fa777f9b",
   "metadata": {},
   "source": [
    "1. 리지(L2 정규화) :"
   ]
  },
  {
   "cell_type": "code",
   "execution_count": 59,
   "id": "61941cd5",
   "metadata": {},
   "outputs": [
    {
     "ename": "NameError",
     "evalue": "name 'second_order' is not defined",
     "output_type": "error",
     "traceback": [
      "\u001b[1;31m---------------------------------------------------------------------------\u001b[0m",
      "\u001b[1;31mNameError\u001b[0m                                 Traceback (most recent call last)",
      "Cell \u001b[1;32mIn[59], line 8\u001b[0m\n\u001b[0;32m      6\u001b[0m \u001b[38;5;66;03m# 데이터 정규화\u001b[39;00m\n\u001b[0;32m      7\u001b[0m scaler \u001b[38;5;241m=\u001b[39m StandardScaler()\n\u001b[1;32m----> 8\u001b[0m X_scaled \u001b[38;5;241m=\u001b[39m scaler\u001b[38;5;241m.\u001b[39mfit_transform(second_order\u001b[38;5;241m.\u001b[39mfit_transform(X))\n\u001b[0;32m     10\u001b[0m \u001b[38;5;66;03m# 모델 학습\u001b[39;00m\n\u001b[0;32m     11\u001b[0m ridge\u001b[38;5;241m.\u001b[39mfit(X_scaled, y)\n",
      "\u001b[1;31mNameError\u001b[0m: name 'second_order' is not defined"
     ]
    }
   ],
   "source": [
    "from sklearn.linear_model import Ridge\n",
    "from sklearn.preprocessing import StandardScaler\n",
    "\n",
    "ridge = Ridge()  # 정규화 없이 Ridge 모델 생성\n",
    "\n",
    "# 데이터 정규화\n",
    "scaler = StandardScaler()\n",
    "X_scaled = scaler.fit_transform(second_order.fit_transform(X))\n",
    "\n",
    "# 모델 학습\n",
    "ridge.fit(X_scaled, y)"
   ]
  },
  {
   "cell_type": "markdown",
   "id": "3499547c",
   "metadata": {},
   "source": [
    "알파 값이 작을수록 계수 값이 정규화에 의해 제어되는 양이 적어지며 정규화가 증가해 값이 커질수록 계수는 더 많이 줄어든다\n",
    "이 기능은 값이 높을 수록 모델의 복잡성이 줄어드는 축소 파라미터로 쉽게 기억됨"
   ]
  },
  {
   "cell_type": "markdown",
   "id": "45b60551",
   "metadata": {},
   "source": [
    "모델을 완전히 적합시킨 후 계수의 값이 어떻게 정의되는지 살피기"
   ]
  },
  {
   "cell_type": "code",
   "execution_count": 60,
   "id": "9114470c",
   "metadata": {},
   "outputs": [
    {
     "ename": "SyntaxError",
     "evalue": "unmatched ')' (1983520916.py, line 6)",
     "output_type": "error",
     "traceback": [
      "\u001b[1;36m  Cell \u001b[1;32mIn[60], line 6\u001b[1;36m\u001b[0m\n\u001b[1;33m    % (np.max lm. coef_), np.max(ridge.coef_)))\u001b[0m\n\u001b[1;37m                                              ^\u001b[0m\n\u001b[1;31mSyntaxError\u001b[0m\u001b[1;31m:\u001b[0m unmatched ')'\n"
     ]
    }
   ],
   "source": [
    "print ('Average coefficient: Non regularized = 80.3f Ridge = \\\n",
    "s0.3f' % (np. mean (lm.coef_), np.mean(ridge.coef_)))\n",
    "print ('Min coefficient: Non regularized = 80.3f Ridge = &0.3f' \\\n",
    "% (np.min(lm. coef_), np.min(ridge.coef_)))\n",
    "print ('Max coefficient: Non regularized = %0.3f Ridge = %0.3f' \\\n",
    "% (np.max lm. coef_), np.max(ridge.coef_)))"
   ]
  },
  {
   "cell_type": "markdown",
   "id": "24ab9f2d",
   "metadata": {},
   "source": [
    "평균 계수 값은 거의 0에 가까워지고 값은 이전보다 훨씬 작은 범위에 배치됨\n",
    "정규화된 형태에서는 어떤 단일 계수도 예측에 영향을 미치거나 방해할 가중치를 가지지 않음"
   ]
  },
  {
   "cell_type": "markdown",
   "id": "a6d1dcec",
   "metadata": {},
   "source": [
    "#### 최적의 파라미터를 위한 그리드 검색\n",
    "L2 파라미터의 도입은 모델의 성능을 최대화하기 위한 값을 경험적으로 설정해야 하기 때문에 훨씬 복잡하다\n",
    "해당 솔루션은 모델의 성능 평가를 실제적으로 보장하는 교차 검증 작업을 진행하면서 파라미터의 가능한 값의 범위에 대해 모델의 결과를 체계적으로 확인하는 것"
   ]
  },
  {
   "cell_type": "code",
   "execution_count": 63,
   "id": "0da0877a",
   "metadata": {},
   "outputs": [
    {
     "ename": "NameError",
     "evalue": "name 'y' is not defined",
     "output_type": "error",
     "traceback": [
      "\u001b[1;31m---------------------------------------------------------------------------\u001b[0m",
      "\u001b[1;31mNameError\u001b[0m                                 Traceback (most recent call last)",
      "Cell \u001b[1;32mIn[63], line 3\u001b[0m\n\u001b[0;32m      1\u001b[0m \u001b[38;5;28;01mfrom\u001b[39;00m \u001b[38;5;21;01msklearn\u001b[39;00m\u001b[38;5;21;01m.\u001b[39;00m\u001b[38;5;21;01mmodel_selection\u001b[39;00m \u001b[38;5;28;01mimport\u001b[39;00m GridSearchCV\n\u001b[1;32m----> 3\u001b[0m edges \u001b[38;5;241m=\u001b[39m np\u001b[38;5;241m.\u001b[39mhistogram(y, bins\u001b[38;5;241m=\u001b[39m\u001b[38;5;241m5\u001b[39m)[\u001b[38;5;241m1\u001b[39m]\n\u001b[0;32m      5\u001b[0m binning \u001b[38;5;241m=\u001b[39m np\u001b[38;5;241m.\u001b[39mdigitize(y, edges)\n\u001b[0;32m      6\u001b[0m stratified_cv_iterator \u001b[38;5;241m=\u001b[39m StratifiedKFold(binning, n_splits\u001b[38;5;241m=\u001b[39m\u001b[38;5;241m10\u001b[39m, shuffle\u001b[38;5;241m=\u001b[39m\u001b[38;5;28;01mTrue\u001b[39;00m, random_state\u001b[38;5;241m=\u001b[39m\u001b[38;5;241m101\u001b[39m)\n",
      "\u001b[1;31mNameError\u001b[0m: name 'y' is not defined"
     ]
    }
   ],
   "source": [
    "from sklearn.model_selection import GridSearchCV\n",
    "\n",
    "edges = np.histogram(y, bins=5)[1]\n",
    "\n",
    "binning = np.digitize(y, edges)\n",
    "stratified_cv_iterator = StratifiedKFold(binning, n_splits=10, shuffle=True, random_state=101)\n",
    "\n",
    "search = GridSearchCV(\n",
    "    estimator=ridge,\n",
    "    param_grid={'alpha': np.logspace(-4, 2, 7)},\n",
    "    scoring='mean_squared_error',\n",
    "    n_jobs=1,\n",
    "    refit=True,\n",
    "    cv=stratified_cv_iterator\n",
    ")\n",
    "search.fit(second_order.fit_transform(X), y)\n",
    "\n",
    "print('Best alpha: %.5f' % search.best_params_['alpha'])\n",
    "print('Best CV mean squared error: %.3f' % np.abs(search.best_score_))\n"
   ]
  },
  {
   "cell_type": "code",
   "execution_count": 62,
   "id": "59f9afe9",
   "metadata": {},
   "outputs": [
    {
     "ename": "NameError",
     "evalue": "name 'serch' is not defined",
     "output_type": "error",
     "traceback": [
      "\u001b[1;31m---------------------------------------------------------------------------\u001b[0m",
      "\u001b[1;31mNameError\u001b[0m                                 Traceback (most recent call last)",
      "Cell \u001b[1;32mIn[62], line 1\u001b[0m\n\u001b[1;32m----> 1\u001b[0m serch\u001b[38;5;241m.\u001b[39mgrif_scores_\n",
      "\u001b[1;31mNameError\u001b[0m: name 'serch' is not defined"
     ]
    }
   ],
   "source": [
    "serch.grif_scores_"
   ]
  },
  {
   "cell_type": "markdown",
   "id": "5180d4e3",
   "metadata": {},
   "source": [
    "#### 무작위 그리드 검색\n",
    ": 사용자가 지적한 범위 또는 분포에서 가능한 파라미터를 샘플링해 작동. 일정한 횟수를 시도하면 올바른 하이퍼 파라미터를 얻을 수 있는 가능성이 높다"
   ]
  },
  {
   "cell_type": "code",
   "execution_count": 65,
   "id": "440d45ca",
   "metadata": {},
   "outputs": [
    {
     "ename": "NameError",
     "evalue": "name 'stratified_cv_iterator' is not defined",
     "output_type": "error",
     "traceback": [
      "\u001b[1;31m---------------------------------------------------------------------------\u001b[0m",
      "\u001b[1;31mNameError\u001b[0m                                 Traceback (most recent call last)",
      "Cell \u001b[1;32mIn[65], line 14\u001b[0m\n\u001b[0;32m      2\u001b[0m \u001b[38;5;28;01mfrom\u001b[39;00m \u001b[38;5;21;01mscipy\u001b[39;00m\u001b[38;5;21;01m.\u001b[39;00m\u001b[38;5;21;01mstats\u001b[39;00m \u001b[38;5;28;01mimport\u001b[39;00m expon\n\u001b[0;32m      4\u001b[0m np\u001b[38;5;241m.\u001b[39mrandom\u001b[38;5;241m.\u001b[39mseed(\u001b[38;5;241m101\u001b[39m)\n\u001b[0;32m      6\u001b[0m search_func \u001b[38;5;241m=\u001b[39m RandomizedSearchCV(\n\u001b[0;32m      7\u001b[0m     estimator\u001b[38;5;241m=\u001b[39mridge,\n\u001b[0;32m      8\u001b[0m     n_jobs\u001b[38;5;241m=\u001b[39m\u001b[38;5;241m1\u001b[39m,\n\u001b[0;32m      9\u001b[0m     iid\u001b[38;5;241m=\u001b[39m\u001b[38;5;28;01mFalse\u001b[39;00m,\n\u001b[0;32m     10\u001b[0m     refit\u001b[38;5;241m=\u001b[39m\u001b[38;5;28;01mTrue\u001b[39;00m,\n\u001b[0;32m     11\u001b[0m     n_iter\u001b[38;5;241m=\u001b[39m\u001b[38;5;241m10\u001b[39m,\n\u001b[0;32m     12\u001b[0m     param_distributions\u001b[38;5;241m=\u001b[39m{\u001b[38;5;124m'\u001b[39m\u001b[38;5;124malpha\u001b[39m\u001b[38;5;124m'\u001b[39m: np\u001b[38;5;241m.\u001b[39mlogspace(\u001b[38;5;241m-\u001b[39m\u001b[38;5;241m4\u001b[39m, \u001b[38;5;241m2\u001b[39m, \u001b[38;5;241m100\u001b[39m)},\n\u001b[0;32m     13\u001b[0m     scoring\u001b[38;5;241m=\u001b[39m\u001b[38;5;124m'\u001b[39m\u001b[38;5;124mmean_squared_error\u001b[39m\u001b[38;5;124m'\u001b[39m,\n\u001b[1;32m---> 14\u001b[0m     cv\u001b[38;5;241m=\u001b[39mstratified_cv_iterator\n\u001b[0;32m     15\u001b[0m )\n\u001b[0;32m     16\u001b[0m search_func\u001b[38;5;241m.\u001b[39mfit(second_order\u001b[38;5;241m.\u001b[39mfit_transform(X), y)\n\u001b[0;32m     18\u001b[0m \u001b[38;5;28mprint\u001b[39m(\u001b[38;5;124m'\u001b[39m\u001b[38;5;124mBest alpha: \u001b[39m\u001b[38;5;132;01m%.5f\u001b[39;00m\u001b[38;5;124m'\u001b[39m \u001b[38;5;241m%\u001b[39m search_func\u001b[38;5;241m.\u001b[39mbest_params_[\u001b[38;5;124m'\u001b[39m\u001b[38;5;124malpha\u001b[39m\u001b[38;5;124m'\u001b[39m])\n",
      "\u001b[1;31mNameError\u001b[0m: name 'stratified_cv_iterator' is not defined"
     ]
    }
   ],
   "source": [
    "from sklearn.model_selection import RandomizedSearchCV\n",
    "from scipy.stats import expon\n",
    "\n",
    "np.random.seed(101)\n",
    "\n",
    "search_func = RandomizedSearchCV(\n",
    "    estimator=ridge,\n",
    "    n_jobs=1,\n",
    "    iid=False,\n",
    "    refit=True,\n",
    "    n_iter=10,\n",
    "    param_distributions={'alpha': np.logspace(-4, 2, 100)},\n",
    "    scoring='mean_squared_error',\n",
    "    cv=stratified_cv_iterator\n",
    ")\n",
    "search_func.fit(second_order.fit_transform(X), y)\n",
    "\n",
    "print('Best alpha: %.5f' % search_func.best_params_['alpha'])\n",
    "print('Best CV mean squared error: %.3f' % np.abs(search_func.best_score_))\n"
   ]
  },
  {
   "cell_type": "markdown",
   "id": "cacc0f45",
   "metadata": {},
   "source": [
    "#### 라쏘(L1 정규화)\n",
    ": 모델에 모든 계수를 유지하고 불필요한 계수를 패널티로 처리하는 것"
   ]
  },
  {
   "cell_type": "code",
   "execution_count": 67,
   "id": "c65a04fa",
   "metadata": {},
   "outputs": [
    {
     "ename": "NameError",
     "evalue": "name 'lasso' is not defined",
     "output_type": "error",
     "traceback": [
      "\u001b[1;31m---------------------------------------------------------------------------\u001b[0m",
      "\u001b[1;31mNameError\u001b[0m                                 Traceback (most recent call last)",
      "Cell \u001b[1;32mIn[67], line 7\u001b[0m\n\u001b[0;32m      2\u001b[0m \u001b[38;5;28;01mfrom\u001b[39;00m \u001b[38;5;21;01mscipy\u001b[39;00m\u001b[38;5;21;01m.\u001b[39;00m\u001b[38;5;21;01mstats\u001b[39;00m \u001b[38;5;28;01mimport\u001b[39;00m expon\n\u001b[0;32m      4\u001b[0m np\u001b[38;5;241m.\u001b[39mrandom\u001b[38;5;241m.\u001b[39mseed(\u001b[38;5;241m101\u001b[39m)\n\u001b[0;32m      6\u001b[0m search_func \u001b[38;5;241m=\u001b[39m RandomizedSearchCV(\n\u001b[1;32m----> 7\u001b[0m     estimator\u001b[38;5;241m=\u001b[39mlasso,\n\u001b[0;32m      8\u001b[0m     n_jobs\u001b[38;5;241m=\u001b[39m\u001b[38;5;241m1\u001b[39m,\n\u001b[0;32m      9\u001b[0m     iid\u001b[38;5;241m=\u001b[39m\u001b[38;5;28;01mFalse\u001b[39;00m,\n\u001b[0;32m     10\u001b[0m     refit\u001b[38;5;241m=\u001b[39m\u001b[38;5;28;01mTrue\u001b[39;00m,\n\u001b[0;32m     11\u001b[0m     n_iter\u001b[38;5;241m=\u001b[39m\u001b[38;5;241m15\u001b[39m,\n\u001b[0;32m     12\u001b[0m     param_distributions\u001b[38;5;241m=\u001b[39m{\u001b[38;5;124m'\u001b[39m\u001b[38;5;124malpha\u001b[39m\u001b[38;5;124m'\u001b[39m: np\u001b[38;5;241m.\u001b[39mlogspace(\u001b[38;5;241m-\u001b[39m\u001b[38;5;241m5\u001b[39m, \u001b[38;5;241m2\u001b[39m, \u001b[38;5;241m100\u001b[39m)},\n\u001b[0;32m     13\u001b[0m     scoring\u001b[38;5;241m=\u001b[39m\u001b[38;5;124m'\u001b[39m\u001b[38;5;124mmean_squared_error\u001b[39m\u001b[38;5;124m'\u001b[39m,\n\u001b[0;32m     14\u001b[0m     cv\u001b[38;5;241m=\u001b[39mstratified_cv_iterator\n\u001b[0;32m     15\u001b[0m )\n\u001b[0;32m     16\u001b[0m search_func\u001b[38;5;241m.\u001b[39mfit(second_order\u001b[38;5;241m.\u001b[39mfit_transform(X), y)\n\u001b[0;32m     18\u001b[0m \u001b[38;5;28mprint\u001b[39m(\u001b[38;5;124m'\u001b[39m\u001b[38;5;124mBest alpha: \u001b[39m\u001b[38;5;132;01m%.5f\u001b[39;00m\u001b[38;5;124m'\u001b[39m \u001b[38;5;241m%\u001b[39m search_func\u001b[38;5;241m.\u001b[39mbest_params_[\u001b[38;5;124m'\u001b[39m\u001b[38;5;124malpha\u001b[39m\u001b[38;5;124m'\u001b[39m])\n",
      "\u001b[1;31mNameError\u001b[0m: name 'lasso' is not defined"
     ]
    }
   ],
   "source": [
    "from sklearn.model_selection import RandomizedSearchCV\n",
    "from scipy.stats import expon\n",
    "\n",
    "np.random.seed(101)\n",
    "\n",
    "search_func = RandomizedSearchCV(\n",
    "    estimator=lasso,\n",
    "    n_jobs=1,\n",
    "    iid=False,\n",
    "    refit=True,\n",
    "    n_iter=15,\n",
    "    param_distributions={'alpha': np.logspace(-5, 2, 100)},\n",
    "    scoring='mean_squared_error',\n",
    "    cv=stratified_cv_iterator\n",
    ")\n",
    "search_func.fit(second_order.fit_transform(X), y)\n",
    "\n",
    "print('Best alpha: %.5f' % search_func.best_params_['alpha'])\n",
    "print('Best CV mean squared error: %.3f' % np.abs(search_func.best_score_))\n"
   ]
  },
  {
   "cell_type": "code",
   "execution_count": 68,
   "id": "57829d6a",
   "metadata": {},
   "outputs": [
    {
     "ename": "NameError",
     "evalue": "name 'lasso' is not defined",
     "output_type": "error",
     "traceback": [
      "\u001b[1;31m---------------------------------------------------------------------------\u001b[0m",
      "\u001b[1;31mNameError\u001b[0m                                 Traceback (most recent call last)",
      "Cell \u001b[1;32mIn[68], line 7\u001b[0m\n\u001b[0;32m      2\u001b[0m \u001b[38;5;28;01mfrom\u001b[39;00m \u001b[38;5;21;01mscipy\u001b[39;00m\u001b[38;5;21;01m.\u001b[39;00m\u001b[38;5;21;01mstats\u001b[39;00m \u001b[38;5;28;01mimport\u001b[39;00m expon\n\u001b[0;32m      4\u001b[0m np\u001b[38;5;241m.\u001b[39mrandom\u001b[38;5;241m.\u001b[39mseed(\u001b[38;5;241m101\u001b[39m)\n\u001b[0;32m      6\u001b[0m search_func \u001b[38;5;241m=\u001b[39m RandomizedSearchCV(\n\u001b[1;32m----> 7\u001b[0m     estimator\u001b[38;5;241m=\u001b[39mlasso,\n\u001b[0;32m      8\u001b[0m     n_jobs\u001b[38;5;241m=\u001b[39m\u001b[38;5;241m1\u001b[39m,\n\u001b[0;32m      9\u001b[0m     iid\u001b[38;5;241m=\u001b[39m\u001b[38;5;28;01mFalse\u001b[39;00m,\n\u001b[0;32m     10\u001b[0m     refit\u001b[38;5;241m=\u001b[39m\u001b[38;5;28;01mTrue\u001b[39;00m,\n\u001b[0;32m     11\u001b[0m     n_iter\u001b[38;5;241m=\u001b[39m\u001b[38;5;241m15\u001b[39m,\n\u001b[0;32m     12\u001b[0m     param_distributions\u001b[38;5;241m=\u001b[39m{\u001b[38;5;124m'\u001b[39m\u001b[38;5;124malpha\u001b[39m\u001b[38;5;124m'\u001b[39m: np\u001b[38;5;241m.\u001b[39mlogspace(\u001b[38;5;241m-\u001b[39m\u001b[38;5;241m5\u001b[39m, \u001b[38;5;241m2\u001b[39m, \u001b[38;5;241m100\u001b[39m)},\n\u001b[0;32m     13\u001b[0m     scoring\u001b[38;5;241m=\u001b[39m\u001b[38;5;124m'\u001b[39m\u001b[38;5;124mmean_squared_error\u001b[39m\u001b[38;5;124m'\u001b[39m,\n\u001b[0;32m     14\u001b[0m     cv\u001b[38;5;241m=\u001b[39mstratified_cv_iterator\n\u001b[0;32m     15\u001b[0m )\n\u001b[0;32m     16\u001b[0m search_func\u001b[38;5;241m.\u001b[39mfit(second_order\u001b[38;5;241m.\u001b[39mfit_transform(X), y)\n\u001b[0;32m     18\u001b[0m \u001b[38;5;28mprint\u001b[39m(\u001b[38;5;124m'\u001b[39m\u001b[38;5;124mBest alpha: \u001b[39m\u001b[38;5;132;01m%.5f\u001b[39;00m\u001b[38;5;124m'\u001b[39m \u001b[38;5;241m%\u001b[39m search_func\u001b[38;5;241m.\u001b[39mbest_params_[\u001b[38;5;124m'\u001b[39m\u001b[38;5;124malpha\u001b[39m\u001b[38;5;124m'\u001b[39m])\n",
      "\u001b[1;31mNameError\u001b[0m: name 'lasso' is not defined"
     ]
    }
   ],
   "source": [
    "from sklearn.model_selection import RandomizedSearchCV\n",
    "from scipy.stats import expon\n",
    "\n",
    "np.random.seed(101)\n",
    "\n",
    "search_func = RandomizedSearchCV(\n",
    "    estimator=lasso,\n",
    "    n_jobs=1,\n",
    "    iid=False,\n",
    "    refit=True,\n",
    "    n_iter=15,\n",
    "    param_distributions={'alpha': np.logspace(-5, 2, 100)},\n",
    "    scoring='mean_squared_error',\n",
    "    cv=stratified_cv_iterator\n",
    ")\n",
    "search_func.fit(second_order.fit_transform(X), y)\n",
    "\n",
    "print('Best alpha: %.5f' % search_func.best_params_['alpha'])\n",
    "print('Best CV mean squared error: %.3f' % np.abs(search_func.best_score_))\n"
   ]
  },
  {
   "cell_type": "markdown",
   "id": "25e37bfe",
   "metadata": {},
   "source": [
    "성능의 관점에서 볼 때 약간 더 나쁘지만 비겨 가능한 정도의 평균 제곱오차값을 얻었다"
   ]
  },
  {
   "cell_type": "code",
   "execution_count": 69,
   "id": "0f32a9dc",
   "metadata": {},
   "outputs": [
    {
     "ename": "NameError",
     "evalue": "name 'search_func' is not defined",
     "output_type": "error",
     "traceback": [
      "\u001b[1;31m---------------------------------------------------------------------------\u001b[0m",
      "\u001b[1;31mNameError\u001b[0m                                 Traceback (most recent call last)",
      "Cell \u001b[1;32mIn[69], line 2\u001b[0m\n\u001b[0;32m      1\u001b[0m \u001b[38;5;28mprint\u001b[39m (\u001b[38;5;124m'\u001b[39m\u001b[38;5;124mZero value coefficients: Si out of \u001b[39m\u001b[38;5;132;01m%i\u001b[39;00m\u001b[38;5;124m'\u001b[39m \u001b[38;5;241m%\u001b[39m \\\n\u001b[1;32m----> 2\u001b[0m (np\u001b[38;5;241m.\u001b[39m \u001b[38;5;28msum\u001b[39m(\u001b[38;5;241m~\u001b[39m(search_func\u001b[38;5;241m.\u001b[39mbest_estimator_\u001b[38;5;241m.\u001b[39mcoef_\u001b[38;5;241m==\u001b[39m\u001b[38;5;241m0.0\u001b[39m)),\n\u001b[0;32m      3\u001b[0m \u001b[38;5;28mlen\u001b[39m(search_func\u001b[38;5;241m.\u001b[39mbest_estimator_\u001b[38;5;241m.\u001b[39mcoef_)))\n",
      "\u001b[1;31mNameError\u001b[0m: name 'search_func' is not defined"
     ]
    }
   ],
   "source": [
    "print ('Zero value coefficients: Si out of %i' % \\\n",
    "(np. sum(~(search_func.best_estimator_.coef_==0.0)),\n",
    "len(search_func.best_estimator_.coef_)))"
   ]
  },
  {
   "cell_type": "markdown",
   "id": "2be2cb18",
   "metadata": {},
   "source": [
    "20 개의 작업 변수로 줄어듦"
   ]
  },
  {
   "cell_type": "markdown",
   "id": "feff532c",
   "metadata": {},
   "source": [
    "#### 엘라스틱넷 : L1 + L2 정규화\n",
    "-> 모델의 계수 겨정에 대해 정규화 영향을 조절하는 알파 파라미터와 비용함수의 정규화 부분의 L1 및 L2 사이의 결합에 가중치를 부여하는 l1_ratio 파라미터가 존재"
   ]
  },
  {
   "cell_type": "code",
   "execution_count": 72,
   "id": "d6ea3e84",
   "metadata": {
    "scrolled": true
   },
   "outputs": [
    {
     "ename": "TypeError",
     "evalue": "ElasticNet.__init__() got an unexpected keyword argument 'normalize'",
     "output_type": "error",
     "traceback": [
      "\u001b[1;31m---------------------------------------------------------------------------\u001b[0m",
      "\u001b[1;31mTypeError\u001b[0m                                 Traceback (most recent call last)",
      "Cell \u001b[1;32mIn[72], line 7\u001b[0m\n\u001b[0;32m      3\u001b[0m \u001b[38;5;28;01mfrom\u001b[39;00m \u001b[38;5;21;01mscipy\u001b[39;00m\u001b[38;5;21;01m.\u001b[39;00m\u001b[38;5;21;01mstats\u001b[39;00m \u001b[38;5;28;01mimport\u001b[39;00m expon\n\u001b[0;32m      5\u001b[0m np\u001b[38;5;241m.\u001b[39mrandom\u001b[38;5;241m.\u001b[39mseed(\u001b[38;5;241m101\u001b[39m)\n\u001b[1;32m----> 7\u001b[0m elasticnet \u001b[38;5;241m=\u001b[39m ElasticNet(alpha\u001b[38;5;241m=\u001b[39m\u001b[38;5;241m1.0\u001b[39m, l1_ratio\u001b[38;5;241m=\u001b[39m\u001b[38;5;241m0.15\u001b[39m, normalize\u001b[38;5;241m=\u001b[39m\u001b[38;5;28;01mTrue\u001b[39;00m, max_iter\u001b[38;5;241m=\u001b[39m\u001b[38;5;241m10\u001b[39m\u001b[38;5;241m*\u001b[39m\u001b[38;5;241m*\u001b[39m\u001b[38;5;241m6\u001b[39m, random_state\u001b[38;5;241m=\u001b[39m\u001b[38;5;241m101\u001b[39m)\n\u001b[0;32m      9\u001b[0m search_func \u001b[38;5;241m=\u001b[39m RandomizedSearchCV(\n\u001b[0;32m     10\u001b[0m     estimator\u001b[38;5;241m=\u001b[39melasticnet,\n\u001b[0;32m     11\u001b[0m     param_distributions\u001b[38;5;241m=\u001b[39m{\u001b[38;5;124m'\u001b[39m\u001b[38;5;124malpha\u001b[39m\u001b[38;5;124m'\u001b[39m: np\u001b[38;5;241m.\u001b[39mlogspace(\u001b[38;5;241m-\u001b[39m\u001b[38;5;241m5\u001b[39m, \u001b[38;5;241m2\u001b[39m, \u001b[38;5;241m100\u001b[39m), \u001b[38;5;124m'\u001b[39m\u001b[38;5;124ml1_ratio\u001b[39m\u001b[38;5;124m'\u001b[39m: np\u001b[38;5;241m.\u001b[39marange(\u001b[38;5;241m0.0\u001b[39m, \u001b[38;5;241m1.01\u001b[39m, \u001b[38;5;241m0.05\u001b[39m)},\n\u001b[1;32m   (...)\u001b[0m\n\u001b[0;32m     17\u001b[0m     cv\u001b[38;5;241m=\u001b[39mstratified_cv_iterator\n\u001b[0;32m     18\u001b[0m )\n\u001b[0;32m     19\u001b[0m search_func\u001b[38;5;241m.\u001b[39mfit(second_order\u001b[38;5;241m.\u001b[39mfit_transform(X), y)\n",
      "\u001b[1;31mTypeError\u001b[0m: ElasticNet.__init__() got an unexpected keyword argument 'normalize'"
     ]
    }
   ],
   "source": [
    "from sklearn.linear_model import ElasticNet\n",
    "from sklearn.model_selection import RandomizedSearchCV\n",
    "from scipy.stats import expon\n",
    "\n",
    "np.random.seed(101)\n",
    "\n",
    "elasticnet = ElasticNet(alpha=1.0, l1_ratio=0.15, normalize=True, max_iter=10**6, random_state=101)\n",
    "\n",
    "search_func = RandomizedSearchCV(\n",
    "    estimator=elasticnet,\n",
    "    param_distributions={'alpha': np.logspace(-5, 2, 100), 'l1_ratio': np.arange(0.0, 1.01, 0.05)},\n",
    "    n_iter=30,\n",
    "    scoring='mean_squared_error',\n",
    "    n_jobs=1,\n",
    "    iid=False,\n",
    "    refit=True,\n",
    "    cv=stratified_cv_iterator\n",
    ")\n",
    "search_func.fit(second_order.fit_transform(X), y)\n",
    "\n",
    "print('Best alpha: %.5f' % search_func.best_params_['alpha'])\n",
    "print('Best l1_ratio: %.5f' % search_func.best_params_['l1_ratio'])\n",
    "print('Best CV mean squared error: %.3f' % np.abs(search_func.best_score_))\n"
   ]
  },
  {
   "cell_type": "markdown",
   "id": "50fd11a5",
   "metadata": {},
   "source": [
    "결과적으로 L1 솔루션보다 더 많은 변수를 제외함\n",
    "성능은 L2 솔루션과 유사"
   ]
  },
  {
   "cell_type": "markdown",
   "id": "379feab7",
   "metadata": {},
   "source": [
    "#### 안정성 선택"
   ]
  },
  {
   "cell_type": "markdown",
   "id": "1d6b4955",
   "metadata": {},
   "source": [
    "#### 마델론 실험"
   ]
  },
  {
   "cell_type": "code",
   "execution_count": 75,
   "id": "f95bd6be",
   "metadata": {},
   "outputs": [
    {
     "ename": "MemoryError",
     "evalue": "Unable to allocate 37.7 TiB for an array with shape (2000, 2593864876) and data type float64",
     "output_type": "error",
     "traceback": [
      "\u001b[1;31m---------------------------------------------------------------------------\u001b[0m",
      "\u001b[1;31mMemoryError\u001b[0m                               Traceback (most recent call last)",
      "Cell \u001b[1;32mIn[75], line 11\u001b[0m\n\u001b[0;32m      8\u001b[0m interactions \u001b[38;5;241m=\u001b[39m PolynomialFeatures(degree\u001b[38;5;241m=\u001b[39m\u001b[38;5;241m4\u001b[39m, interaction_only\u001b[38;5;241m=\u001b[39m\u001b[38;5;28;01mTrue\u001b[39;00m)\n\u001b[0;32m     10\u001b[0m model \u001b[38;5;241m=\u001b[39m make_pipeline(interactions, logit)\n\u001b[1;32m---> 11\u001b[0m model\u001b[38;5;241m.\u001b[39mfit(Xt, yt)\n",
      "File \u001b[1;32m~\\anaconda3\\Lib\\site-packages\\sklearn\\base.py:1151\u001b[0m, in \u001b[0;36m_fit_context.<locals>.decorator.<locals>.wrapper\u001b[1;34m(estimator, *args, **kwargs)\u001b[0m\n\u001b[0;32m   1144\u001b[0m     estimator\u001b[38;5;241m.\u001b[39m_validate_params()\n\u001b[0;32m   1146\u001b[0m \u001b[38;5;28;01mwith\u001b[39;00m config_context(\n\u001b[0;32m   1147\u001b[0m     skip_parameter_validation\u001b[38;5;241m=\u001b[39m(\n\u001b[0;32m   1148\u001b[0m         prefer_skip_nested_validation \u001b[38;5;129;01mor\u001b[39;00m global_skip_validation\n\u001b[0;32m   1149\u001b[0m     )\n\u001b[0;32m   1150\u001b[0m ):\n\u001b[1;32m-> 1151\u001b[0m     \u001b[38;5;28;01mreturn\u001b[39;00m fit_method(estimator, \u001b[38;5;241m*\u001b[39margs, \u001b[38;5;241m*\u001b[39m\u001b[38;5;241m*\u001b[39mkwargs)\n",
      "File \u001b[1;32m~\\anaconda3\\Lib\\site-packages\\sklearn\\pipeline.py:416\u001b[0m, in \u001b[0;36mPipeline.fit\u001b[1;34m(self, X, y, **fit_params)\u001b[0m\n\u001b[0;32m    390\u001b[0m \u001b[38;5;250m\u001b[39m\u001b[38;5;124;03m\"\"\"Fit the model.\u001b[39;00m\n\u001b[0;32m    391\u001b[0m \n\u001b[0;32m    392\u001b[0m \u001b[38;5;124;03mFit all the transformers one after the other and transform the\u001b[39;00m\n\u001b[1;32m   (...)\u001b[0m\n\u001b[0;32m    413\u001b[0m \u001b[38;5;124;03m    Pipeline with fitted steps.\u001b[39;00m\n\u001b[0;32m    414\u001b[0m \u001b[38;5;124;03m\"\"\"\u001b[39;00m\n\u001b[0;32m    415\u001b[0m fit_params_steps \u001b[38;5;241m=\u001b[39m \u001b[38;5;28mself\u001b[39m\u001b[38;5;241m.\u001b[39m_check_fit_params(\u001b[38;5;241m*\u001b[39m\u001b[38;5;241m*\u001b[39mfit_params)\n\u001b[1;32m--> 416\u001b[0m Xt \u001b[38;5;241m=\u001b[39m \u001b[38;5;28mself\u001b[39m\u001b[38;5;241m.\u001b[39m_fit(X, y, \u001b[38;5;241m*\u001b[39m\u001b[38;5;241m*\u001b[39mfit_params_steps)\n\u001b[0;32m    417\u001b[0m \u001b[38;5;28;01mwith\u001b[39;00m _print_elapsed_time(\u001b[38;5;124m\"\u001b[39m\u001b[38;5;124mPipeline\u001b[39m\u001b[38;5;124m\"\u001b[39m, \u001b[38;5;28mself\u001b[39m\u001b[38;5;241m.\u001b[39m_log_message(\u001b[38;5;28mlen\u001b[39m(\u001b[38;5;28mself\u001b[39m\u001b[38;5;241m.\u001b[39msteps) \u001b[38;5;241m-\u001b[39m \u001b[38;5;241m1\u001b[39m)):\n\u001b[0;32m    418\u001b[0m     \u001b[38;5;28;01mif\u001b[39;00m \u001b[38;5;28mself\u001b[39m\u001b[38;5;241m.\u001b[39m_final_estimator \u001b[38;5;241m!=\u001b[39m \u001b[38;5;124m\"\u001b[39m\u001b[38;5;124mpassthrough\u001b[39m\u001b[38;5;124m\"\u001b[39m:\n",
      "File \u001b[1;32m~\\anaconda3\\Lib\\site-packages\\sklearn\\pipeline.py:370\u001b[0m, in \u001b[0;36mPipeline._fit\u001b[1;34m(self, X, y, **fit_params_steps)\u001b[0m\n\u001b[0;32m    368\u001b[0m     cloned_transformer \u001b[38;5;241m=\u001b[39m clone(transformer)\n\u001b[0;32m    369\u001b[0m \u001b[38;5;66;03m# Fit or load from cache the current transformer\u001b[39;00m\n\u001b[1;32m--> 370\u001b[0m X, fitted_transformer \u001b[38;5;241m=\u001b[39m fit_transform_one_cached(\n\u001b[0;32m    371\u001b[0m     cloned_transformer,\n\u001b[0;32m    372\u001b[0m     X,\n\u001b[0;32m    373\u001b[0m     y,\n\u001b[0;32m    374\u001b[0m     \u001b[38;5;28;01mNone\u001b[39;00m,\n\u001b[0;32m    375\u001b[0m     message_clsname\u001b[38;5;241m=\u001b[39m\u001b[38;5;124m\"\u001b[39m\u001b[38;5;124mPipeline\u001b[39m\u001b[38;5;124m\"\u001b[39m,\n\u001b[0;32m    376\u001b[0m     message\u001b[38;5;241m=\u001b[39m\u001b[38;5;28mself\u001b[39m\u001b[38;5;241m.\u001b[39m_log_message(step_idx),\n\u001b[0;32m    377\u001b[0m     \u001b[38;5;241m*\u001b[39m\u001b[38;5;241m*\u001b[39mfit_params_steps[name],\n\u001b[0;32m    378\u001b[0m )\n\u001b[0;32m    379\u001b[0m \u001b[38;5;66;03m# Replace the transformer of the step with the fitted\u001b[39;00m\n\u001b[0;32m    380\u001b[0m \u001b[38;5;66;03m# transformer. This is necessary when loading the transformer\u001b[39;00m\n\u001b[0;32m    381\u001b[0m \u001b[38;5;66;03m# from the cache.\u001b[39;00m\n\u001b[0;32m    382\u001b[0m \u001b[38;5;28mself\u001b[39m\u001b[38;5;241m.\u001b[39msteps[step_idx] \u001b[38;5;241m=\u001b[39m (name, fitted_transformer)\n",
      "File \u001b[1;32m~\\anaconda3\\Lib\\site-packages\\joblib\\memory.py:349\u001b[0m, in \u001b[0;36mNotMemorizedFunc.__call__\u001b[1;34m(self, *args, **kwargs)\u001b[0m\n\u001b[0;32m    348\u001b[0m \u001b[38;5;28;01mdef\u001b[39;00m \u001b[38;5;21m__call__\u001b[39m(\u001b[38;5;28mself\u001b[39m, \u001b[38;5;241m*\u001b[39margs, \u001b[38;5;241m*\u001b[39m\u001b[38;5;241m*\u001b[39mkwargs):\n\u001b[1;32m--> 349\u001b[0m     \u001b[38;5;28;01mreturn\u001b[39;00m \u001b[38;5;28mself\u001b[39m\u001b[38;5;241m.\u001b[39mfunc(\u001b[38;5;241m*\u001b[39margs, \u001b[38;5;241m*\u001b[39m\u001b[38;5;241m*\u001b[39mkwargs)\n",
      "File \u001b[1;32m~\\anaconda3\\Lib\\site-packages\\sklearn\\pipeline.py:950\u001b[0m, in \u001b[0;36m_fit_transform_one\u001b[1;34m(transformer, X, y, weight, message_clsname, message, **fit_params)\u001b[0m\n\u001b[0;32m    948\u001b[0m \u001b[38;5;28;01mwith\u001b[39;00m _print_elapsed_time(message_clsname, message):\n\u001b[0;32m    949\u001b[0m     \u001b[38;5;28;01mif\u001b[39;00m \u001b[38;5;28mhasattr\u001b[39m(transformer, \u001b[38;5;124m\"\u001b[39m\u001b[38;5;124mfit_transform\u001b[39m\u001b[38;5;124m\"\u001b[39m):\n\u001b[1;32m--> 950\u001b[0m         res \u001b[38;5;241m=\u001b[39m transformer\u001b[38;5;241m.\u001b[39mfit_transform(X, y, \u001b[38;5;241m*\u001b[39m\u001b[38;5;241m*\u001b[39mfit_params)\n\u001b[0;32m    951\u001b[0m     \u001b[38;5;28;01melse\u001b[39;00m:\n\u001b[0;32m    952\u001b[0m         res \u001b[38;5;241m=\u001b[39m transformer\u001b[38;5;241m.\u001b[39mfit(X, y, \u001b[38;5;241m*\u001b[39m\u001b[38;5;241m*\u001b[39mfit_params)\u001b[38;5;241m.\u001b[39mtransform(X)\n",
      "File \u001b[1;32m~\\anaconda3\\Lib\\site-packages\\sklearn\\utils\\_set_output.py:140\u001b[0m, in \u001b[0;36m_wrap_method_output.<locals>.wrapped\u001b[1;34m(self, X, *args, **kwargs)\u001b[0m\n\u001b[0;32m    138\u001b[0m \u001b[38;5;129m@wraps\u001b[39m(f)\n\u001b[0;32m    139\u001b[0m \u001b[38;5;28;01mdef\u001b[39;00m \u001b[38;5;21mwrapped\u001b[39m(\u001b[38;5;28mself\u001b[39m, X, \u001b[38;5;241m*\u001b[39margs, \u001b[38;5;241m*\u001b[39m\u001b[38;5;241m*\u001b[39mkwargs):\n\u001b[1;32m--> 140\u001b[0m     data_to_wrap \u001b[38;5;241m=\u001b[39m f(\u001b[38;5;28mself\u001b[39m, X, \u001b[38;5;241m*\u001b[39margs, \u001b[38;5;241m*\u001b[39m\u001b[38;5;241m*\u001b[39mkwargs)\n\u001b[0;32m    141\u001b[0m     \u001b[38;5;28;01mif\u001b[39;00m \u001b[38;5;28misinstance\u001b[39m(data_to_wrap, \u001b[38;5;28mtuple\u001b[39m):\n\u001b[0;32m    142\u001b[0m         \u001b[38;5;66;03m# only wrap the first output for cross decomposition\u001b[39;00m\n\u001b[0;32m    143\u001b[0m         return_tuple \u001b[38;5;241m=\u001b[39m (\n\u001b[0;32m    144\u001b[0m             _wrap_data_with_container(method, data_to_wrap[\u001b[38;5;241m0\u001b[39m], X, \u001b[38;5;28mself\u001b[39m),\n\u001b[0;32m    145\u001b[0m             \u001b[38;5;241m*\u001b[39mdata_to_wrap[\u001b[38;5;241m1\u001b[39m:],\n\u001b[0;32m    146\u001b[0m         )\n",
      "File \u001b[1;32m~\\anaconda3\\Lib\\site-packages\\sklearn\\base.py:918\u001b[0m, in \u001b[0;36mTransformerMixin.fit_transform\u001b[1;34m(self, X, y, **fit_params)\u001b[0m\n\u001b[0;32m    915\u001b[0m     \u001b[38;5;28;01mreturn\u001b[39;00m \u001b[38;5;28mself\u001b[39m\u001b[38;5;241m.\u001b[39mfit(X, \u001b[38;5;241m*\u001b[39m\u001b[38;5;241m*\u001b[39mfit_params)\u001b[38;5;241m.\u001b[39mtransform(X)\n\u001b[0;32m    916\u001b[0m \u001b[38;5;28;01melse\u001b[39;00m:\n\u001b[0;32m    917\u001b[0m     \u001b[38;5;66;03m# fit method of arity 2 (supervised transformation)\u001b[39;00m\n\u001b[1;32m--> 918\u001b[0m     \u001b[38;5;28;01mreturn\u001b[39;00m \u001b[38;5;28mself\u001b[39m\u001b[38;5;241m.\u001b[39mfit(X, y, \u001b[38;5;241m*\u001b[39m\u001b[38;5;241m*\u001b[39mfit_params)\u001b[38;5;241m.\u001b[39mtransform(X)\n",
      "File \u001b[1;32m~\\anaconda3\\Lib\\site-packages\\sklearn\\utils\\_set_output.py:140\u001b[0m, in \u001b[0;36m_wrap_method_output.<locals>.wrapped\u001b[1;34m(self, X, *args, **kwargs)\u001b[0m\n\u001b[0;32m    138\u001b[0m \u001b[38;5;129m@wraps\u001b[39m(f)\n\u001b[0;32m    139\u001b[0m \u001b[38;5;28;01mdef\u001b[39;00m \u001b[38;5;21mwrapped\u001b[39m(\u001b[38;5;28mself\u001b[39m, X, \u001b[38;5;241m*\u001b[39margs, \u001b[38;5;241m*\u001b[39m\u001b[38;5;241m*\u001b[39mkwargs):\n\u001b[1;32m--> 140\u001b[0m     data_to_wrap \u001b[38;5;241m=\u001b[39m f(\u001b[38;5;28mself\u001b[39m, X, \u001b[38;5;241m*\u001b[39margs, \u001b[38;5;241m*\u001b[39m\u001b[38;5;241m*\u001b[39mkwargs)\n\u001b[0;32m    141\u001b[0m     \u001b[38;5;28;01mif\u001b[39;00m \u001b[38;5;28misinstance\u001b[39m(data_to_wrap, \u001b[38;5;28mtuple\u001b[39m):\n\u001b[0;32m    142\u001b[0m         \u001b[38;5;66;03m# only wrap the first output for cross decomposition\u001b[39;00m\n\u001b[0;32m    143\u001b[0m         return_tuple \u001b[38;5;241m=\u001b[39m (\n\u001b[0;32m    144\u001b[0m             _wrap_data_with_container(method, data_to_wrap[\u001b[38;5;241m0\u001b[39m], X, \u001b[38;5;28mself\u001b[39m),\n\u001b[0;32m    145\u001b[0m             \u001b[38;5;241m*\u001b[39mdata_to_wrap[\u001b[38;5;241m1\u001b[39m:],\n\u001b[0;32m    146\u001b[0m         )\n",
      "File \u001b[1;32m~\\anaconda3\\Lib\\site-packages\\sklearn\\preprocessing\\_polynomial.py:507\u001b[0m, in \u001b[0;36mPolynomialFeatures.transform\u001b[1;34m(self, X)\u001b[0m\n\u001b[0;32m    503\u001b[0m     XP \u001b[38;5;241m=\u001b[39m sparse\u001b[38;5;241m.\u001b[39mhstack(columns, dtype\u001b[38;5;241m=\u001b[39mX\u001b[38;5;241m.\u001b[39mdtype)\u001b[38;5;241m.\u001b[39mtocsc()\n\u001b[0;32m    504\u001b[0m \u001b[38;5;28;01melse\u001b[39;00m:\n\u001b[0;32m    505\u001b[0m     \u001b[38;5;66;03m# Do as if _min_degree = 0 and cut down array after the\u001b[39;00m\n\u001b[0;32m    506\u001b[0m     \u001b[38;5;66;03m# computation, i.e. use _n_out_full instead of n_output_features_.\u001b[39;00m\n\u001b[1;32m--> 507\u001b[0m     XP \u001b[38;5;241m=\u001b[39m np\u001b[38;5;241m.\u001b[39mempty(\n\u001b[0;32m    508\u001b[0m         shape\u001b[38;5;241m=\u001b[39m(n_samples, \u001b[38;5;28mself\u001b[39m\u001b[38;5;241m.\u001b[39m_n_out_full), dtype\u001b[38;5;241m=\u001b[39mX\u001b[38;5;241m.\u001b[39mdtype, order\u001b[38;5;241m=\u001b[39m\u001b[38;5;28mself\u001b[39m\u001b[38;5;241m.\u001b[39morder\n\u001b[0;32m    509\u001b[0m     )\n\u001b[0;32m    511\u001b[0m     \u001b[38;5;66;03m# What follows is a faster implementation of:\u001b[39;00m\n\u001b[0;32m    512\u001b[0m     \u001b[38;5;66;03m# for i, comb in enumerate(combinations):\u001b[39;00m\n\u001b[0;32m    513\u001b[0m     \u001b[38;5;66;03m#     XP[:, i] = X[:, comb].prod(1)\u001b[39;00m\n\u001b[1;32m   (...)\u001b[0m\n\u001b[0;32m    523\u001b[0m \n\u001b[0;32m    524\u001b[0m     \u001b[38;5;66;03m# degree 0 term\u001b[39;00m\n\u001b[0;32m    525\u001b[0m     \u001b[38;5;28;01mif\u001b[39;00m \u001b[38;5;28mself\u001b[39m\u001b[38;5;241m.\u001b[39minclude_bias:\n",
      "\u001b[1;31mMemoryError\u001b[0m: Unable to allocate 37.7 TiB for an array with shape (2000, 2593864876) and data type float64"
     ]
    }
   ],
   "source": [
    "from sklearn.model_selection import cross_val_score\n",
    "from sklearn.linear_model import LogisticRegression\n",
    "from sklearn.preprocessing import PolynomialFeatures\n",
    "from sklearn.pipeline import make_pipeline\n",
    "\n",
    "threshold = 0.03  # 경험적으로 발견된 값\n",
    "logit = LogisticRegression()\n",
    "interactions = PolynomialFeatures(degree=4, interaction_only=True)\n",
    "\n",
    "model = make_pipeline(interactions, logit)\n",
    "model.fit(Xt, yt)\n"
   ]
  },
  {
   "cell_type": "code",
   "execution_count": 76,
   "id": "0215485d",
   "metadata": {},
   "outputs": [
    {
     "ename": "SyntaxError",
     "evalue": "unexpected character after line continuation character (2904632726.py, line 2)",
     "output_type": "error",
     "traceback": [
      "\u001b[1;36m  Cell \u001b[1;32mIn[76], line 2\u001b[1;36m\u001b[0m\n\u001b[1;33m    % \\ np. sum(model. steps[0][1].all_scores_ ›= threshold))\u001b[0m\n\u001b[1;37m       ^\u001b[0m\n\u001b[1;31mSyntaxError\u001b[0m\u001b[1;31m:\u001b[0m unexpected character after line continuation character\n"
     ]
    }
   ],
   "source": [
    "print ( 'Number of features picked by stability selection: si'\n",
    "% \\ np. sum(model. steps[0][1].all_scores_ ›= threshold))"
   ]
  },
  {
   "cell_type": "code",
   "execution_count": 77,
   "id": "896c39ea",
   "metadata": {},
   "outputs": [
    {
     "ename": "MemoryError",
     "evalue": "Unable to allocate 11.3 TiB for an array with shape (600, 2593864876) and data type float64",
     "output_type": "error",
     "traceback": [
      "\u001b[1;31m---------------------------------------------------------------------------\u001b[0m",
      "\u001b[1;31mMemoryError\u001b[0m                               Traceback (most recent call last)",
      "Cell \u001b[1;32mIn[77], line 3\u001b[0m\n\u001b[0;32m      1\u001b[0m \u001b[38;5;28;01mfrom\u001b[39;00m \u001b[38;5;21;01msklearn\u001b[39;00m\u001b[38;5;21;01m.\u001b[39;00m\u001b[38;5;21;01mmetrics\u001b[39;00m \u001b[38;5;28;01mimport\u001b[39;00m roc_auc_score\n\u001b[0;32m      2\u001b[0m \u001b[38;5;28mprint\u001b[39m (\u001b[38;5;124m'\u001b[39m\u001b[38;5;124mArea Under the Curve: 80.3f\u001b[39m\u001b[38;5;124m'\u001b[39m \u001b[38;5;241m&\u001b[39m roc_auc_score(\n\u001b[1;32m----> 3\u001b[0m yv, model\u001b[38;5;241m.\u001b[39m predict_proba(Xv)[:,\u001b[38;5;241m1\u001b[39m]))\n",
      "File \u001b[1;32m~\\anaconda3\\Lib\\site-packages\\sklearn\\pipeline.py:577\u001b[0m, in \u001b[0;36mPipeline.predict_proba\u001b[1;34m(self, X, **predict_proba_params)\u001b[0m\n\u001b[0;32m    575\u001b[0m Xt \u001b[38;5;241m=\u001b[39m X\n\u001b[0;32m    576\u001b[0m \u001b[38;5;28;01mfor\u001b[39;00m _, name, transform \u001b[38;5;129;01min\u001b[39;00m \u001b[38;5;28mself\u001b[39m\u001b[38;5;241m.\u001b[39m_iter(with_final\u001b[38;5;241m=\u001b[39m\u001b[38;5;28;01mFalse\u001b[39;00m):\n\u001b[1;32m--> 577\u001b[0m     Xt \u001b[38;5;241m=\u001b[39m transform\u001b[38;5;241m.\u001b[39mtransform(Xt)\n\u001b[0;32m    578\u001b[0m \u001b[38;5;28;01mreturn\u001b[39;00m \u001b[38;5;28mself\u001b[39m\u001b[38;5;241m.\u001b[39msteps[\u001b[38;5;241m-\u001b[39m\u001b[38;5;241m1\u001b[39m][\u001b[38;5;241m1\u001b[39m]\u001b[38;5;241m.\u001b[39mpredict_proba(Xt, \u001b[38;5;241m*\u001b[39m\u001b[38;5;241m*\u001b[39mpredict_proba_params)\n",
      "File \u001b[1;32m~\\anaconda3\\Lib\\site-packages\\sklearn\\utils\\_set_output.py:140\u001b[0m, in \u001b[0;36m_wrap_method_output.<locals>.wrapped\u001b[1;34m(self, X, *args, **kwargs)\u001b[0m\n\u001b[0;32m    138\u001b[0m \u001b[38;5;129m@wraps\u001b[39m(f)\n\u001b[0;32m    139\u001b[0m \u001b[38;5;28;01mdef\u001b[39;00m \u001b[38;5;21mwrapped\u001b[39m(\u001b[38;5;28mself\u001b[39m, X, \u001b[38;5;241m*\u001b[39margs, \u001b[38;5;241m*\u001b[39m\u001b[38;5;241m*\u001b[39mkwargs):\n\u001b[1;32m--> 140\u001b[0m     data_to_wrap \u001b[38;5;241m=\u001b[39m f(\u001b[38;5;28mself\u001b[39m, X, \u001b[38;5;241m*\u001b[39margs, \u001b[38;5;241m*\u001b[39m\u001b[38;5;241m*\u001b[39mkwargs)\n\u001b[0;32m    141\u001b[0m     \u001b[38;5;28;01mif\u001b[39;00m \u001b[38;5;28misinstance\u001b[39m(data_to_wrap, \u001b[38;5;28mtuple\u001b[39m):\n\u001b[0;32m    142\u001b[0m         \u001b[38;5;66;03m# only wrap the first output for cross decomposition\u001b[39;00m\n\u001b[0;32m    143\u001b[0m         return_tuple \u001b[38;5;241m=\u001b[39m (\n\u001b[0;32m    144\u001b[0m             _wrap_data_with_container(method, data_to_wrap[\u001b[38;5;241m0\u001b[39m], X, \u001b[38;5;28mself\u001b[39m),\n\u001b[0;32m    145\u001b[0m             \u001b[38;5;241m*\u001b[39mdata_to_wrap[\u001b[38;5;241m1\u001b[39m:],\n\u001b[0;32m    146\u001b[0m         )\n",
      "File \u001b[1;32m~\\anaconda3\\Lib\\site-packages\\sklearn\\preprocessing\\_polynomial.py:507\u001b[0m, in \u001b[0;36mPolynomialFeatures.transform\u001b[1;34m(self, X)\u001b[0m\n\u001b[0;32m    503\u001b[0m     XP \u001b[38;5;241m=\u001b[39m sparse\u001b[38;5;241m.\u001b[39mhstack(columns, dtype\u001b[38;5;241m=\u001b[39mX\u001b[38;5;241m.\u001b[39mdtype)\u001b[38;5;241m.\u001b[39mtocsc()\n\u001b[0;32m    504\u001b[0m \u001b[38;5;28;01melse\u001b[39;00m:\n\u001b[0;32m    505\u001b[0m     \u001b[38;5;66;03m# Do as if _min_degree = 0 and cut down array after the\u001b[39;00m\n\u001b[0;32m    506\u001b[0m     \u001b[38;5;66;03m# computation, i.e. use _n_out_full instead of n_output_features_.\u001b[39;00m\n\u001b[1;32m--> 507\u001b[0m     XP \u001b[38;5;241m=\u001b[39m np\u001b[38;5;241m.\u001b[39mempty(\n\u001b[0;32m    508\u001b[0m         shape\u001b[38;5;241m=\u001b[39m(n_samples, \u001b[38;5;28mself\u001b[39m\u001b[38;5;241m.\u001b[39m_n_out_full), dtype\u001b[38;5;241m=\u001b[39mX\u001b[38;5;241m.\u001b[39mdtype, order\u001b[38;5;241m=\u001b[39m\u001b[38;5;28mself\u001b[39m\u001b[38;5;241m.\u001b[39morder\n\u001b[0;32m    509\u001b[0m     )\n\u001b[0;32m    511\u001b[0m     \u001b[38;5;66;03m# What follows is a faster implementation of:\u001b[39;00m\n\u001b[0;32m    512\u001b[0m     \u001b[38;5;66;03m# for i, comb in enumerate(combinations):\u001b[39;00m\n\u001b[0;32m    513\u001b[0m     \u001b[38;5;66;03m#     XP[:, i] = X[:, comb].prod(1)\u001b[39;00m\n\u001b[1;32m   (...)\u001b[0m\n\u001b[0;32m    523\u001b[0m \n\u001b[0;32m    524\u001b[0m     \u001b[38;5;66;03m# degree 0 term\u001b[39;00m\n\u001b[0;32m    525\u001b[0m     \u001b[38;5;28;01mif\u001b[39;00m \u001b[38;5;28mself\u001b[39m\u001b[38;5;241m.\u001b[39minclude_bias:\n",
      "\u001b[1;31mMemoryError\u001b[0m: Unable to allocate 11.3 TiB for an array with shape (600, 2593864876) and data type float64"
     ]
    }
   ],
   "source": [
    "from sklearn.metrics import roc_auc_score\n",
    "print ('Area Under the Curve: 80.3f' & roc_auc_score(\n",
    "yv, model. predict_proba(Xv)[:,1]))"
   ]
  },
  {
   "cell_type": "markdown",
   "id": "ad63fd5d",
   "metadata": {},
   "source": [
    "# 7장. 온라인과 일괄 학습"
   ]
  },
  {
   "cell_type": "markdown",
   "id": "b9690c8e",
   "metadata": {},
   "source": [
    "### 배치 학습\n",
    ": 클래시파이어 혹은 회귀를 훈련"
   ]
  },
  {
   "cell_type": "markdown",
   "id": "b499e1fe",
   "metadata": {},
   "source": [
    "훈련 포인트의 수와 특성 수를 파라미터로 사용\n",
    "정규화된 훈련 및 테스트 특성 행렬 그리고 라벨을 반환"
   ]
  },
  {
   "cell_type": "code",
   "execution_count": 78,
   "id": "2a528b04",
   "metadata": {},
   "outputs": [],
   "source": [
    "import matplotlib.pyplot as plt\n",
    "import numpy as np\n",
    "from sklearn.datasets import make_regression\n",
    "from sklearn.preprocessing import StandardScaler\n",
    "\n",
    "def generate_dataset(n_train, n_test, n_features, noise=0.1):\n",
    "    X, y = make_regression(n_samples=int(n_train + n_test),\n",
    "                           n_features=int(n_features),\n",
    "                           noise=noise, random_state=101)\n",
    "    \n",
    "    X_train = X[:n_train]\n",
    "    X_test = X[n_train:]\n",
    "    y_train = y[:n_train]\n",
    "    y_test = y[n_train:]\n",
    "    \n",
    "    X_scaler = StandardScaler()\n",
    "    X_train = X_scaler.fit_transform(X_train)\n",
    "    X_test = X_scaler.transform(X_test)\n",
    "    \n",
    "    y_scaler = StandardScaler()\n",
    "    y_train = y_scaler.fit_transform(y_train.reshape(-1, 1)).ravel()\n",
    "    y_test = y_scaler.transform(y_test.reshape(-1, 1)).ravel()\n",
    "    \n",
    "    return X_train, X_test, y_train, y_test\n"
   ]
  },
  {
   "cell_type": "markdown",
   "id": "106a36a4",
   "metadata": {},
   "source": [
    "학습자 훈련"
   ]
  },
  {
   "cell_type": "code",
   "execution_count": 80,
   "id": "a29ba20b",
   "metadata": {},
   "outputs": [],
   "source": [
    "from sklearn.linear_model import LinearRegression, SGDRegressor\n",
    "import time\n",
    "\n",
    "n_test = 1000\n",
    "n_train_v = (1000, 10000, 100000)\n",
    "n_features_v = (10, 50, 100, 500, 1000)\n",
    "regr_v = {'LR': LinearRegression(), 'SGD': SGDRegressor(random_state=101)}\n",
    "results = {}\n",
    "\n",
    "for regr_name, regr in regr_v.items():\n",
    "    results[regr_name] = {}\n",
    "    for n_train in n_train_v:\n",
    "        for n_features in n_features_v:\n",
    "            results[regr_name][(n_train, n_features)] = {'train': [], 'pred': []}\n",
    "            for _repetition in range(5):\n",
    "                X_train, X_test, y_train, y_test = generate_dataset(n_train, n_test, n_features)\n",
    "                tick = time.time()\n",
    "                regr.fit(X_train, y_train)\n",
    "                train_time = time.time() - tick\n",
    "\n",
    "                tick = time.time()\n",
    "                pred = regr.predict(X_test)\n",
    "                predict_time = time.time() - tick\n",
    "\n",
    "                results[regr_name][(n_train, n_features)]['train'].append(train_time)\n",
    "                results[regr_name][(n_train, n_features)]['pred'].append(predict_time)\n"
   ]
  },
  {
   "cell_type": "code",
   "execution_count": 81,
   "id": "aa34181e",
   "metadata": {},
   "outputs": [
    {
     "ename": "NameError",
     "evalue": "name 'pylab' is not defined",
     "output_type": "error",
     "traceback": [
      "\u001b[1;31m---------------------------------------------------------------------------\u001b[0m",
      "\u001b[1;31mNameError\u001b[0m                                 Traceback (most recent call last)",
      "Cell \u001b[1;32mIn[81], line 1\u001b[0m\n\u001b[1;32m----> 1\u001b[0m pylab\u001b[38;5;241m.\u001b[39mrcParams[\u001b[38;5;124m'\u001b[39m\u001b[38;5;124mfigure.figsize\u001b[39m\u001b[38;5;124m'\u001b[39m] \u001b[38;5;241m=\u001b[39m \u001b[38;5;241m12\u001b[39m, \u001b[38;5;241m6\u001b[39m\n\u001b[0;32m      2\u001b[0m plt\u001b[38;5;241m.\u001b[39msubplot(\u001b[38;5;241m1\u001b[39m, \u001b[38;5;241m2\u001b[39m, \u001b[38;5;241m1\u001b[39m)\n\u001b[0;32m      3\u001b[0m \u001b[38;5;28;01mfor\u001b[39;00m n_train \u001b[38;5;129;01min\u001b[39;00m n_train_v:\n",
      "\u001b[1;31mNameError\u001b[0m: name 'pylab' is not defined"
     ]
    }
   ],
   "source": [
    "pylab.rcParams['figure.figsize'] = 12, 6\n",
    "plt.subplot(1, 2, 1)\n",
    "for n_train in n_train_v:\n",
    "    x = n_features_v\n",
    "    y = [np.mean(results['LR'][(n_train, n_features)]['train']) for n_features in n_features_v]\n",
    "    plt.plot(x, y, label=str(n_train) + \" train points\")\n",
    "plt.title('Training time VS num. features')\n",
    "plt.xlabel('Num features')\n",
    "plt.ylabel('Training time [s]')\n",
    "plt.legend(loc=0)\n",
    "\n",
    "plt.subplot(1, 2, 2)\n",
    "for n_features in n_features_v:\n",
    "    x = np.log10(n_train_v)\n",
    "    y = [np.mean(results['LR'][(n_train, n_features)]['train']) for n_train in n_train_v]\n",
    "    plt.plot(x, y, label=str(n_features) + \" features\")\n",
    "plt.title('Training time VS num. training points')\n",
    "plt.xlabel('Num training points [log10]')\n",
    "plt.ylabel('Training time [s]')\n",
    "plt.legend(loc=0)\n",
    "\n",
    "plt.show()\n"
   ]
  },
  {
   "cell_type": "markdown",
   "id": "e52081d0",
   "metadata": {},
   "source": [
    "작은 수의 특성과 관찰치를 가진 작은 데이터셋에서 클래시파이어는 상당히 우수함"
   ]
  },
  {
   "cell_type": "code",
   "execution_count": 82,
   "id": "4b0152a6",
   "metadata": {},
   "outputs": [
    {
     "data": {
      "image/png": "[encoded data removed]",
      "text/plain": [
       "<Figure size 640x480 with 2 Axes>"
      ]
     },
     "metadata": {},
     "output_type": "display_data"
    }
   ],
   "source": [
    "plt.subplot(1, 2, 1)\n",
    "for n_train in n_train_v:\n",
    "    x = n_features_v\n",
    "    y = [np.mean(results['LR'][(n_train, n_features)]['pred']) for n_features in n_features_v]\n",
    "    plt.plot(x, y, label=str(n_train) + \" train points\")\n",
    "\n",
    "plt.title('Prediction time VS num. features')\n",
    "plt.xlabel('Num features')\n",
    "plt.ylabel('Prediction time [s]')\n",
    "plt.legend(loc=0)\n",
    "\n",
    "plt.subplot(1, 2, 2)\n",
    "for n_features in n_features_v:\n",
    "    x = np.log10(n_train_v)\n",
    "    y = [np.mean(results['LR'][(n_train, n_features)]['pred']) for n_train in n_train_v]\n",
    "    plt.plot(x, y, label=str(n_features) + \" features\")\n",
    "\n",
    "plt.title('Prediction time VS num. training points')\n",
    "plt.xlabel('Num training points [log10]')\n",
    "plt.ylabel('Prediction time [s]')\n",
    "plt.legend(loc=0)\n",
    "\n",
    "plt.show()\n"
   ]
  },
  {
   "cell_type": "markdown",
   "id": "d39e7709",
   "metadata": {},
   "source": [
    "테스트 시간은 특성 수의 선형 함수로 조정"
   ]
  },
  {
   "cell_type": "code",
   "execution_count": 83,
   "id": "89163851",
   "metadata": {},
   "outputs": [
    {
     "data": {
      "image/png": "[encoded data removed]",
      "text/plain": [
       "<Figure size 640x480 with 2 Axes>"
      ]
     },
     "metadata": {},
     "output_type": "display_data"
    }
   ],
   "source": [
    "plt.subplot(1, 2, 1)\n",
    "for n_train in n_train_v:\n",
    "    x = n_features_v\n",
    "    y = [np.mean(results['SGD'][(n_train, n_features)]['pred']) for n_features in n_features_v]\n",
    "    plt.plot(x, y, label=str(n_train) + \" train points\")\n",
    "\n",
    "plt.title('Prediction time VS num. features')\n",
    "plt.xlabel('Num features')\n",
    "plt.ylabel('Prediction time [s]')\n",
    "plt.legend(loc=0)\n",
    "\n",
    "plt.subplot(1, 2, 2)\n",
    "for n_features in n_features_v:\n",
    "    x = np.log10(n_train_v)\n",
    "    y = [np.mean(results['SGD'][(n_train, n_features)]['pred']) for n_train in n_train_v]\n",
    "    plt.plot(x, y, label=str(n_features) + \" features\")\n",
    "\n",
    "plt.title('Prediction time VS num. training points')\n",
    "plt.xlabel('Num training points [log10]')\n",
    "plt.ylabel('Prediction time [s]')\n",
    "plt.legend(loc=0)\n",
    "\n",
    "plt.show()\n"
   ]
  },
  {
   "cell_type": "markdown",
   "id": "bece58ca",
   "metadata": {},
   "source": [
    "SGD 기반 학습자를 테스트 데이터셋에 적용하면 다른 구현과 거의 동일한 시간이 소요됨"
   ]
  },
  {
   "cell_type": "markdown",
   "id": "788f9c09",
   "metadata": {},
   "source": [
    "### 온라인 미니 배치 학습\n",
    ": 빅데이터의 경우 SGD 기반 학습이 더 빠르고 확장성 있기 때문에 항상 SGD 기반 학습자를 사용"
   ]
  },
  {
   "cell_type": "code",
   "execution_count": 84,
   "id": "aa9bfc5d",
   "metadata": {},
   "outputs": [
    {
     "name": "stdout",
     "output_type": "stream",
     "text": [
      "Size of X_train is [GB]: 84210526.31578948\n"
     ]
    }
   ],
   "source": [
    "# Let's generate a IM dataset\n",
    "X_train, X_test, y_train, y_test = generate_dataset(2000000,\n",
    "10000, 100, 10.0)\n",
    "print(\"Size of X_train is [GB]:\", X_train.size * X_train[0,0].\n",
    "itemsize/19)"
   ]
  },
  {
   "cell_type": "code",
   "execution_count": 85,
   "id": "a6359b31",
   "metadata": {},
   "outputs": [
    {
     "ename": "SyntaxError",
     "evalue": "unmatched ')' (2591451050.py, line 10)",
     "output_type": "error",
     "traceback": [
      "\u001b[1;36m  Cell \u001b[1;32mIn[85], line 10\u001b[1;36m\u001b[0m\n\u001b[1;33m    pred) ))\u001b[0m\n\u001b[1;37m           ^\u001b[0m\n\u001b[1;31mSyntaxError\u001b[0m\u001b[1;31m:\u001b[0m unmatched ')'\n"
     ]
    }
   ],
   "source": [
    "from sklearn.metrics import mean_absolute_error\n",
    "regr = SGDRegressor (random_state=101)\n",
    "tick = time. time()\n",
    "\n",
    "regr. fit(X_train, y_train)\n",
    "print( \"With SGD, after\", time.time() - tick, \"seconds\")\n",
    "pred = regr. predict(X\n",
    "_test)\n",
    "print(\"the MAE is [log10]:\", np. log10(mean _absolute_errory_test,\n",
    "pred) ))"
   ]
  },
  {
   "cell_type": "code",
   "execution_count": null,
   "id": "045de937",
   "metadata": {},
   "outputs": [],
   "source": [
    "from sklearn.metrics import mean_absolute_error\n",
    "import time\n",
    "from sklearn.linear_model import SGDRegressor\n",
    "from sklearn.utils import resample\n",
    "import numpy as np\n",
    "\n",
    "def get_minibatch(X, y, batch_size):\n",
    "    # We will shuffle consistently the training observations\n",
    "    x, y = resample(X, y, replace=False, random_state=101)\n",
    "    n_cols = y.shape[0]\n",
    "    for i in range(int(n_cols / batch_size)):\n",
    "        yield (X[i * batch_size: (i + 1) * batch_size, :], y[i * batch_size: (i + 1) * batch_size])\n",
    "    if n_cols % batch_size > 0:\n",
    "        res_rows = n_cols % batch_size\n",
    "        yield (X[-res_rows:, :], y[-res_rows:])\n",
    "\n",
    "plot_x = []\n",
    "plot_y = []\n",
    "plot_labels = []\n",
    "\n",
    "for batch_size in (1000, 10000, 100000):\n",
    "    regr = SGDRegressor(random_state=101)\n",
    "    training_time = 0.0\n",
    "    x = []\n",
    "    y = []\n",
    "\n",
    "    for dataset in get_minibatch(X_train, y_train, batch_size):\n",
    "        tick = time.time()\n",
    "        regr.partial_fit(dataset[0], dataset[1])\n",
    "        training_time += (time.time() - tick)\n",
    "        \n",
    "    pred = regr.predict(X_test)\n",
    "    x.append(training_time)\n",
    "    y.append(np.log10(mean_absolute_error(y_test, pred)))\n",
    "    \n",
    "    print(\"Report: Mini-batch size\", batch_size)\n",
    "    print(\"First output after [s]:\", x[0])\n",
    "    print(\"First model MAE [log10]:\", y[0])\n",
    "    print(\"Total training time [s]:\", x[-1])\n",
    "    print(\"Final MAE [10g10]: \", y[-1])\n",
    "    print()\n",
    "\n",
    "    plot_x.append(x)\n",
    "    plot_y.append(y)\n",
    "    plot_labels.append(\"Batch size: \" + str(batch_size))\n"
   ]
  },
  {
   "cell_type": "code",
   "execution_count": null,
   "id": "9360df54",
   "metadata": {},
   "outputs": [],
   "source": [
    "plt. subplot(1,2,1)\n",
    "for i in range(len(plot_x)):\n",
    "plt. plot(plot_xi], plot_yli], label=plot_labels[i])\n",
    "plt. title( 'Mini-batch learning') plt.xlabel( 'Training time [s]')\n",
    "plt. ylabel ( 'MAE' )\n",
    "plt. legend (loc=0)\n",
    "plt. subplot(1,2,2)\n",
    "for i in range( len(plot_x)):\n",
    "plt.plot(plot_[i], plot_y[i], label=plot_labels[i])\n",
    "plt.title( 'Mini-batch learning: ZOOM 0-0.15s') plt.xlabel( 'Training time [s]' )\n",
    "plt. ylabel ( 'MAE' )\n",
    "plt. xlim( [0, 0.15])\n",
    "plt. legend (loc=0)\n",
    "plt.show( )"
   ]
  },
  {
   "cell_type": "markdown",
   "id": "1ae250d9",
   "metadata": {},
   "source": [
    "### 실제 예제"
   ]
  },
  {
   "cell_type": "code",
   "execution_count": null,
   "id": "8c31b9b7",
   "metadata": {},
   "outputs": [],
   "source": [
    "from sklearn.datasets import fetch_20newsgroups\n",
    "from sklearn.feature_extraction.text import HashingVectorizer\n",
    "\n",
    "to_remove = ('headers', 'footers', 'quotes')\n",
    "\n",
    "data_train = fetch_20newsgroups(subset='train', random_state=101, remove=to_remove)\n",
    "data_test = fetch_20newsgroups(subset='test', random_state=101, remove=to_remove)\n",
    "\n",
    "labels = data_train.target_names\n",
    "targets = np.unique(data_train.target)\n"
   ]
  },
  {
   "cell_type": "code",
   "execution_count": null,
   "id": "ac633cf3",
   "metadata": {},
   "outputs": [],
   "source": [
    "def get_minibatch_docs(docs, targets, batch_size):\n",
    "    n_docs = len(docs)\n",
    "    for i in range(int(n_docs / batch_size)):\n",
    "        yield (docs[i * batch_size: (i + 1) * batch_size], targets[i * batch_size: (i + 1) * batch_size])\n",
    "    if n_docs % batch_size > 0:\n",
    "        res_rows = n_docs % batch_size\n",
    "        yield (docs[-res_rows:], targets[-res_rows:])\n"
   ]
  },
  {
   "cell_type": "code",
   "execution_count": null,
   "id": "06168f59",
   "metadata": {},
   "outputs": [],
   "source": [
    "from sklearn.linear_model import SGDClassifier\n",
    "from sklearn.metrics import accuracy_score\n",
    "import sys\n",
    "\n",
    "minibatch_size = 1000\n",
    "values_to_plot = {}\n",
    "\n",
    "for hash_table_size in (1000, 5000, 10000, 50000, 100000):\n",
    "    values_to_plot[hash_table_size] = {'time': [], 'score': []}\n",
    "    vectorizer = HashingVectorizer(stop_words='english', non_negative=True, n_features=hash_table_size, ngram_range=(1, 1))\n",
    "    X_test = vectorizer.transform(data_test.data)\n",
    "    y_test = data_test.target\n",
    "    clf = SGDClassifier(loss='log')\n",
    "    timings = []\n",
    "\n",
    "    for minibatch in get_minibatch_docs(data_train.data, data_train.target, minibatch_size):\n",
    "        y_train = minibatch[1]\n",
    "        tick = time.time()\n",
    "        X_train = vectorizer.transform(minibatch[0])\n",
    "        clf.partial_fit(X_train, y_train)\n",
    "        timings.append(time.time() - tick)\n",
    "        pred = clf.predict(X_test)\n",
    "        values_to_plot[hash_table_size]['score'].append(accuracy_score(y_test, pred))\n",
    "    values_to_plot[hash_table_size]['time'] = np.cumsum(timings)\n"
   ]
  },
  {
   "cell_type": "code",
   "execution_count": null,
   "id": "393231d3",
   "metadata": {},
   "outputs": [],
   "source": [
    "for k, v in sorted(values_to_plot.items()):\n",
    "    plt.plot(v['time'], v['score'], 'x-', label='Hashsize size ' + str(k))  # 수정\n",
    "plt.title('Mini-batch learning: 20newsgroups')\n",
    "plt.xlabel('Training time [s]')\n",
    "plt.ylabel('Accuracy')\n",
    "plt.legend(loc=0)\n",
    "plt.show()\n"
   ]
  }
 ],
 "metadata": {
  "kernelspec": {
   "display_name": "Python 3 (ipykernel)",
   "language": "python",
   "name": "python3"
  },
  "language_info": {
   "codemirror_mode": {
    "name": "ipython",
    "version": 3
   },
   "file_extension": ".py",
   "mimetype": "text/x-python",
   "name": "python",
   "nbconvert_exporter": "python",
   "pygments_lexer": "ipython3",
   "version": "3.11.4"
  }
 },
 "nbformat": 4,
 "nbformat_minor": 5
}
