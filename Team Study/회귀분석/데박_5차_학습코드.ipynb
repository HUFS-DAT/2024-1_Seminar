{
 "cells": [
  {
   "cell_type": "code",
   "execution_count": 1,
   "id": "75027f4e",
   "metadata": {},
   "outputs": [],
   "source": [
    "import pandas as pd\n",
    "import pandas as pd\n",
    "import matplotlib.pyplot as plt \n",
    "import seaborn as sns \n",
    "import platform "
   ]
  },
  {
   "cell_type": "code",
   "execution_count": 2,
   "id": "404cafb8",
   "metadata": {},
   "outputs": [
    {
     "name": "stderr",
     "output_type": "stream",
     "text": [
      "C:\\Users\\eun01\\AppData\\Local\\Temp\\ipykernel_10948\\2317643857.py:11: MatplotlibDeprecationWarning: The seaborn styles shipped by Matplotlib are deprecated since 3.6, as they no longer correspond to the styles shipped by seaborn. However, they will remain available as 'seaborn-v0_8-<style>'. Alternatively, directly use the seaborn API instead.\n",
      "  plt.style.use('seaborn-darkgrid') # https://python-graph-gallery.com/199-matplotlib-style-sheets/\n"
     ]
    }
   ],
   "source": [
    "from matplotlib import font_manager, rc\n",
    "plt.rcParams['axes.unicode_minus']= False\n",
    "\n",
    "if platform.system() == 'Darwin': # 맥os 사용자의 경우에\n",
    "    plt.style.use('seaborn-darkgrid') \n",
    "    rc('font', family = 'AppleGothic')\n",
    "    \n",
    "elif platform.system() == 'Windows':# 윈도우 사용자의 경우에\n",
    "    path = 'c:/Windows/Fonts/malgun.ttf'\n",
    "    font_name = font_manager.FontProperties(fname=path).get_name()\n",
    "    plt.style.use('seaborn-darkgrid') # https://python-graph-gallery.com/199-matplotlib-style-sheets/\n",
    "    rc('font', family=font_name)"
   ]
  },
  {
   "cell_type": "code",
   "execution_count": 68,
   "id": "3e2bdacf",
   "metadata": {},
   "outputs": [
    {
     "data": {
      "text/html": [
       "<div>\n",
       "<style scoped>\n",
       "    .dataframe tbody tr th:only-of-type {\n",
       "        vertical-align: middle;\n",
       "    }\n",
       "\n",
       "    .dataframe tbody tr th {\n",
       "        vertical-align: top;\n",
       "    }\n",
       "\n",
       "    .dataframe thead th {\n",
       "        text-align: right;\n",
       "    }\n",
       "</style>\n",
       "<table border=\"1\" class=\"dataframe\">\n",
       "  <thead>\n",
       "    <tr style=\"text-align: right;\">\n",
       "      <th></th>\n",
       "      <th>지역코드</th>\n",
       "      <th>일시</th>\n",
       "      <th>평균기온(℃)</th>\n",
       "      <th>평균최고기온(℃)</th>\n",
       "      <th>평균최저기온(℃)</th>\n",
       "      <th>평균상대습도(%)</th>\n",
       "      <th>강수량(mm)</th>\n",
       "      <th>평균풍속(m/s)</th>\n",
       "      <th>합계 일조시간(hr)</th>\n",
       "      <th>평균지면온도(°C)</th>\n",
       "    </tr>\n",
       "  </thead>\n",
       "  <tbody>\n",
       "    <tr>\n",
       "      <th>0</th>\n",
       "      <td>95</td>\n",
       "      <td>\\t\\t\\t2012-10</td>\n",
       "      <td>12.1</td>\n",
       "      <td>19.2</td>\n",
       "      <td>5.7</td>\n",
       "      <td>73.0</td>\n",
       "      <td>83.3</td>\n",
       "      <td>1.3</td>\n",
       "      <td>245.3</td>\n",
       "      <td>13.9</td>\n",
       "    </tr>\n",
       "    <tr>\n",
       "      <th>1</th>\n",
       "      <td>95</td>\n",
       "      <td>\\t\\t\\t2012-11</td>\n",
       "      <td>2.9</td>\n",
       "      <td>8.2</td>\n",
       "      <td>-2.2</td>\n",
       "      <td>72.0</td>\n",
       "      <td>63.8</td>\n",
       "      <td>1.6</td>\n",
       "      <td>169.5</td>\n",
       "      <td>3.6</td>\n",
       "    </tr>\n",
       "    <tr>\n",
       "      <th>2</th>\n",
       "      <td>95</td>\n",
       "      <td>\\t\\t\\t2012-12</td>\n",
       "      <td>-7.5</td>\n",
       "      <td>-2.1</td>\n",
       "      <td>-12.9</td>\n",
       "      <td>70.0</td>\n",
       "      <td>40.0</td>\n",
       "      <td>1.3</td>\n",
       "      <td>179.0</td>\n",
       "      <td>-2.7</td>\n",
       "    </tr>\n",
       "    <tr>\n",
       "      <th>3</th>\n",
       "      <td>95</td>\n",
       "      <td>\\t\\t\\t2013-01</td>\n",
       "      <td>-8.1</td>\n",
       "      <td>-1.6</td>\n",
       "      <td>-14.0</td>\n",
       "      <td>73.0</td>\n",
       "      <td>19.1</td>\n",
       "      <td>1.1</td>\n",
       "      <td>150.4</td>\n",
       "      <td>-2.7</td>\n",
       "    </tr>\n",
       "    <tr>\n",
       "      <th>4</th>\n",
       "      <td>95</td>\n",
       "      <td>\\t\\t\\t2013-02</td>\n",
       "      <td>-3.9</td>\n",
       "      <td>1.6</td>\n",
       "      <td>-9.5</td>\n",
       "      <td>65.0</td>\n",
       "      <td>53.9</td>\n",
       "      <td>1.4</td>\n",
       "      <td>179.9</td>\n",
       "      <td>-1.2</td>\n",
       "    </tr>\n",
       "    <tr>\n",
       "      <th>5</th>\n",
       "      <td>95</td>\n",
       "      <td>\\t\\t\\t2013-03</td>\n",
       "      <td>3.0</td>\n",
       "      <td>10.0</td>\n",
       "      <td>-3.7</td>\n",
       "      <td>59.0</td>\n",
       "      <td>24.0</td>\n",
       "      <td>1.8</td>\n",
       "      <td>256.9</td>\n",
       "      <td>5.5</td>\n",
       "    </tr>\n",
       "    <tr>\n",
       "      <th>6</th>\n",
       "      <td>95</td>\n",
       "      <td>\\t\\t\\t2013-04</td>\n",
       "      <td>8.1</td>\n",
       "      <td>14.4</td>\n",
       "      <td>1.5</td>\n",
       "      <td>59.0</td>\n",
       "      <td>64.6</td>\n",
       "      <td>2.4</td>\n",
       "      <td>202.0</td>\n",
       "      <td>10.5</td>\n",
       "    </tr>\n",
       "    <tr>\n",
       "      <th>7</th>\n",
       "      <td>95</td>\n",
       "      <td>\\t\\t\\t2013-05</td>\n",
       "      <td>16.9</td>\n",
       "      <td>23.3</td>\n",
       "      <td>10.7</td>\n",
       "      <td>65.0</td>\n",
       "      <td>84.6</td>\n",
       "      <td>2.0</td>\n",
       "      <td>228.6</td>\n",
       "      <td>18.8</td>\n",
       "    </tr>\n",
       "    <tr>\n",
       "      <th>8</th>\n",
       "      <td>95</td>\n",
       "      <td>\\t\\t\\t2013-06</td>\n",
       "      <td>22.8</td>\n",
       "      <td>28.5</td>\n",
       "      <td>17.7</td>\n",
       "      <td>72.0</td>\n",
       "      <td>23.3</td>\n",
       "      <td>1.6</td>\n",
       "      <td>238.9</td>\n",
       "      <td>27.1</td>\n",
       "    </tr>\n",
       "    <tr>\n",
       "      <th>9</th>\n",
       "      <td>95</td>\n",
       "      <td>\\t\\t\\t2013-07</td>\n",
       "      <td>24.6</td>\n",
       "      <td>27.8</td>\n",
       "      <td>22.2</td>\n",
       "      <td>88.0</td>\n",
       "      <td>1009.2</td>\n",
       "      <td>2.2</td>\n",
       "      <td>115.9</td>\n",
       "      <td>25.7</td>\n",
       "    </tr>\n",
       "    <tr>\n",
       "      <th>10</th>\n",
       "      <td>95</td>\n",
       "      <td>\\t\\t\\t2013-08</td>\n",
       "      <td>25.8</td>\n",
       "      <td>30.7</td>\n",
       "      <td>21.6</td>\n",
       "      <td>82.0</td>\n",
       "      <td>208.7</td>\n",
       "      <td>1.7</td>\n",
       "      <td>224.9</td>\n",
       "      <td>28.8</td>\n",
       "    </tr>\n",
       "    <tr>\n",
       "      <th>11</th>\n",
       "      <td>95</td>\n",
       "      <td>\\t\\t\\t2013-09</td>\n",
       "      <td>19.1</td>\n",
       "      <td>24.7</td>\n",
       "      <td>14.1</td>\n",
       "      <td>79.0</td>\n",
       "      <td>153.4</td>\n",
       "      <td>1.5</td>\n",
       "      <td>187.0</td>\n",
       "      <td>21.7</td>\n",
       "    </tr>\n",
       "    <tr>\n",
       "      <th>12</th>\n",
       "      <td>95</td>\n",
       "      <td>\\t\\t\\t2013-10</td>\n",
       "      <td>12.4</td>\n",
       "      <td>20.0</td>\n",
       "      <td>5.6</td>\n",
       "      <td>74.0</td>\n",
       "      <td>20.7</td>\n",
       "      <td>1.5</td>\n",
       "      <td>243.3</td>\n",
       "      <td>13.9</td>\n",
       "    </tr>\n",
       "    <tr>\n",
       "      <th>13</th>\n",
       "      <td>95</td>\n",
       "      <td>\\t\\t\\t2013-11</td>\n",
       "      <td>3.1</td>\n",
       "      <td>9.0</td>\n",
       "      <td>-2.4</td>\n",
       "      <td>72.0</td>\n",
       "      <td>73.3</td>\n",
       "      <td>1.6</td>\n",
       "      <td>174.1</td>\n",
       "      <td>4.0</td>\n",
       "    </tr>\n",
       "    <tr>\n",
       "      <th>14</th>\n",
       "      <td>95</td>\n",
       "      <td>\\t\\t\\t2013-12</td>\n",
       "      <td>-3.8</td>\n",
       "      <td>2.2</td>\n",
       "      <td>-9.1</td>\n",
       "      <td>76.0</td>\n",
       "      <td>24.1</td>\n",
       "      <td>1.1</td>\n",
       "      <td>162.5</td>\n",
       "      <td>-0.8</td>\n",
       "    </tr>\n",
       "    <tr>\n",
       "      <th>15</th>\n",
       "      <td>95</td>\n",
       "      <td>\\t\\t\\t2014-01</td>\n",
       "      <td>-3.4</td>\n",
       "      <td>2.2</td>\n",
       "      <td>-9.3</td>\n",
       "      <td>66.0</td>\n",
       "      <td>12.7</td>\n",
       "      <td>1.1</td>\n",
       "      <td>174.3</td>\n",
       "      <td>-2.5</td>\n",
       "    </tr>\n",
       "    <tr>\n",
       "      <th>16</th>\n",
       "      <td>95</td>\n",
       "      <td>\\t\\t\\t2014-02</td>\n",
       "      <td>-1.0</td>\n",
       "      <td>5.2</td>\n",
       "      <td>-6.3</td>\n",
       "      <td>67.0</td>\n",
       "      <td>18.0</td>\n",
       "      <td>1.5</td>\n",
       "      <td>180.3</td>\n",
       "      <td>0.0</td>\n",
       "    </tr>\n",
       "    <tr>\n",
       "      <th>17</th>\n",
       "      <td>95</td>\n",
       "      <td>\\t\\t\\t2014-03</td>\n",
       "      <td>5.6</td>\n",
       "      <td>12.4</td>\n",
       "      <td>-1.4</td>\n",
       "      <td>56.0</td>\n",
       "      <td>7.1</td>\n",
       "      <td>1.9</td>\n",
       "      <td>225.4</td>\n",
       "      <td>6.2</td>\n",
       "    </tr>\n",
       "    <tr>\n",
       "      <th>18</th>\n",
       "      <td>95</td>\n",
       "      <td>\\t\\t\\t2014-04</td>\n",
       "      <td>12.3</td>\n",
       "      <td>20.0</td>\n",
       "      <td>4.9</td>\n",
       "      <td>54.0</td>\n",
       "      <td>14.0</td>\n",
       "      <td>2.0</td>\n",
       "      <td>209.5</td>\n",
       "      <td>14.8</td>\n",
       "    </tr>\n",
       "    <tr>\n",
       "      <th>19</th>\n",
       "      <td>95</td>\n",
       "      <td>\\t\\t\\t2014-05</td>\n",
       "      <td>17.4</td>\n",
       "      <td>24.5</td>\n",
       "      <td>10.6</td>\n",
       "      <td>58.0</td>\n",
       "      <td>81.6</td>\n",
       "      <td>2.3</td>\n",
       "      <td>303.5</td>\n",
       "      <td>20.4</td>\n",
       "    </tr>\n",
       "  </tbody>\n",
       "</table>\n",
       "</div>"
      ],
      "text/plain": [
       "    지역코드             일시  평균기온(℃)  평균최고기온(℃)  평균최저기온(℃)  평균상대습도(%)  강수량(mm)  \\\n",
       "0     95  \\t\\t\\t2012-10     12.1       19.2        5.7       73.0     83.3   \n",
       "1     95  \\t\\t\\t2012-11      2.9        8.2       -2.2       72.0     63.8   \n",
       "2     95  \\t\\t\\t2012-12     -7.5       -2.1      -12.9       70.0     40.0   \n",
       "3     95  \\t\\t\\t2013-01     -8.1       -1.6      -14.0       73.0     19.1   \n",
       "4     95  \\t\\t\\t2013-02     -3.9        1.6       -9.5       65.0     53.9   \n",
       "5     95  \\t\\t\\t2013-03      3.0       10.0       -3.7       59.0     24.0   \n",
       "6     95  \\t\\t\\t2013-04      8.1       14.4        1.5       59.0     64.6   \n",
       "7     95  \\t\\t\\t2013-05     16.9       23.3       10.7       65.0     84.6   \n",
       "8     95  \\t\\t\\t2013-06     22.8       28.5       17.7       72.0     23.3   \n",
       "9     95  \\t\\t\\t2013-07     24.6       27.8       22.2       88.0   1009.2   \n",
       "10    95  \\t\\t\\t2013-08     25.8       30.7       21.6       82.0    208.7   \n",
       "11    95  \\t\\t\\t2013-09     19.1       24.7       14.1       79.0    153.4   \n",
       "12    95  \\t\\t\\t2013-10     12.4       20.0        5.6       74.0     20.7   \n",
       "13    95  \\t\\t\\t2013-11      3.1        9.0       -2.4       72.0     73.3   \n",
       "14    95  \\t\\t\\t2013-12     -3.8        2.2       -9.1       76.0     24.1   \n",
       "15    95  \\t\\t\\t2014-01     -3.4        2.2       -9.3       66.0     12.7   \n",
       "16    95  \\t\\t\\t2014-02     -1.0        5.2       -6.3       67.0     18.0   \n",
       "17    95  \\t\\t\\t2014-03      5.6       12.4       -1.4       56.0      7.1   \n",
       "18    95  \\t\\t\\t2014-04     12.3       20.0        4.9       54.0     14.0   \n",
       "19    95  \\t\\t\\t2014-05     17.4       24.5       10.6       58.0     81.6   \n",
       "\n",
       "    평균풍속(m/s)  합계 일조시간(hr)  평균지면온도(°C)  \n",
       "0         1.3        245.3        13.9  \n",
       "1         1.6        169.5         3.6  \n",
       "2         1.3        179.0        -2.7  \n",
       "3         1.1        150.4        -2.7  \n",
       "4         1.4        179.9        -1.2  \n",
       "5         1.8        256.9         5.5  \n",
       "6         2.4        202.0        10.5  \n",
       "7         2.0        228.6        18.8  \n",
       "8         1.6        238.9        27.1  \n",
       "9         2.2        115.9        25.7  \n",
       "10        1.7        224.9        28.8  \n",
       "11        1.5        187.0        21.7  \n",
       "12        1.5        243.3        13.9  \n",
       "13        1.6        174.1         4.0  \n",
       "14        1.1        162.5        -0.8  \n",
       "15        1.1        174.3        -2.5  \n",
       "16        1.5        180.3         0.0  \n",
       "17        1.9        225.4         6.2  \n",
       "18        2.0        209.5        14.8  \n",
       "19        2.3        303.5        20.4  "
      ]
     },
     "execution_count": 68,
     "metadata": {},
     "output_type": "execute_result"
    }
   ],
   "source": [
    "d = pd.read_csv(\"C:\\\\Users\\\\eun01\\\\Downloads\\\\climates.csv\")\n",
    "d.head(20)"
   ]
  },
  {
   "cell_type": "code",
   "execution_count": 100,
   "id": "1f6f0790",
   "metadata": {},
   "outputs": [],
   "source": [
    "d['일시'] = d['일시'].str.replace(r'^\\t\\t\\t', '', regex=True)"
   ]
  },
  {
   "cell_type": "code",
   "execution_count": 101,
   "id": "2b8ed0de",
   "metadata": {},
   "outputs": [
    {
     "data": {
      "text/html": [
       "<div>\n",
       "<style scoped>\n",
       "    .dataframe tbody tr th:only-of-type {\n",
       "        vertical-align: middle;\n",
       "    }\n",
       "\n",
       "    .dataframe tbody tr th {\n",
       "        vertical-align: top;\n",
       "    }\n",
       "\n",
       "    .dataframe thead th {\n",
       "        text-align: right;\n",
       "    }\n",
       "</style>\n",
       "<table border=\"1\" class=\"dataframe\">\n",
       "  <thead>\n",
       "    <tr style=\"text-align: right;\">\n",
       "      <th></th>\n",
       "      <th>지역코드</th>\n",
       "      <th>일시</th>\n",
       "      <th>평균기온(℃)</th>\n",
       "      <th>평균최고기온(℃)</th>\n",
       "      <th>평균최저기온(℃)</th>\n",
       "      <th>평균상대습도(%)</th>\n",
       "      <th>강수량(mm)</th>\n",
       "      <th>평균풍속(m/s)</th>\n",
       "      <th>합계 일조시간(hr)</th>\n",
       "      <th>평균지면온도(°C)</th>\n",
       "    </tr>\n",
       "  </thead>\n",
       "  <tbody>\n",
       "    <tr>\n",
       "      <th>0</th>\n",
       "      <td>95</td>\n",
       "      <td>2012-10</td>\n",
       "      <td>12.1</td>\n",
       "      <td>19.2</td>\n",
       "      <td>5.7</td>\n",
       "      <td>73.0</td>\n",
       "      <td>83.3</td>\n",
       "      <td>1.3</td>\n",
       "      <td>245.3</td>\n",
       "      <td>13.9</td>\n",
       "    </tr>\n",
       "    <tr>\n",
       "      <th>1</th>\n",
       "      <td>95</td>\n",
       "      <td>2012-11</td>\n",
       "      <td>2.9</td>\n",
       "      <td>8.2</td>\n",
       "      <td>-2.2</td>\n",
       "      <td>72.0</td>\n",
       "      <td>63.8</td>\n",
       "      <td>1.6</td>\n",
       "      <td>169.5</td>\n",
       "      <td>3.6</td>\n",
       "    </tr>\n",
       "    <tr>\n",
       "      <th>2</th>\n",
       "      <td>95</td>\n",
       "      <td>2012-12</td>\n",
       "      <td>-7.5</td>\n",
       "      <td>-2.1</td>\n",
       "      <td>-12.9</td>\n",
       "      <td>70.0</td>\n",
       "      <td>40.0</td>\n",
       "      <td>1.3</td>\n",
       "      <td>179.0</td>\n",
       "      <td>-2.7</td>\n",
       "    </tr>\n",
       "    <tr>\n",
       "      <th>3</th>\n",
       "      <td>95</td>\n",
       "      <td>2013-01</td>\n",
       "      <td>-8.1</td>\n",
       "      <td>-1.6</td>\n",
       "      <td>-14.0</td>\n",
       "      <td>73.0</td>\n",
       "      <td>19.1</td>\n",
       "      <td>1.1</td>\n",
       "      <td>150.4</td>\n",
       "      <td>-2.7</td>\n",
       "    </tr>\n",
       "    <tr>\n",
       "      <th>4</th>\n",
       "      <td>95</td>\n",
       "      <td>2013-02</td>\n",
       "      <td>-3.9</td>\n",
       "      <td>1.6</td>\n",
       "      <td>-9.5</td>\n",
       "      <td>65.0</td>\n",
       "      <td>53.9</td>\n",
       "      <td>1.4</td>\n",
       "      <td>179.9</td>\n",
       "      <td>-1.2</td>\n",
       "    </tr>\n",
       "  </tbody>\n",
       "</table>\n",
       "</div>"
      ],
      "text/plain": [
       "   지역코드       일시  평균기온(℃)  평균최고기온(℃)  평균최저기온(℃)  평균상대습도(%)  강수량(mm)  \\\n",
       "0    95  2012-10     12.1       19.2        5.7       73.0     83.3   \n",
       "1    95  2012-11      2.9        8.2       -2.2       72.0     63.8   \n",
       "2    95  2012-12     -7.5       -2.1      -12.9       70.0     40.0   \n",
       "3    95  2013-01     -8.1       -1.6      -14.0       73.0     19.1   \n",
       "4    95  2013-02     -3.9        1.6       -9.5       65.0     53.9   \n",
       "\n",
       "   평균풍속(m/s)  합계 일조시간(hr)  평균지면온도(°C)  \n",
       "0        1.3        245.3        13.9  \n",
       "1        1.6        169.5         3.6  \n",
       "2        1.3        179.0        -2.7  \n",
       "3        1.1        150.4        -2.7  \n",
       "4        1.4        179.9        -1.2  "
      ]
     },
     "execution_count": 101,
     "metadata": {},
     "output_type": "execute_result"
    }
   ],
   "source": [
    "d.head()"
   ]
  },
  {
   "cell_type": "markdown",
   "id": "9ac03bc9",
   "metadata": {},
   "source": [
    "### 결측치 확인"
   ]
  },
  {
   "cell_type": "code",
   "execution_count": 102,
   "id": "65b2b6ec",
   "metadata": {},
   "outputs": [
    {
     "data": {
      "text/html": [
       "<div>\n",
       "<style scoped>\n",
       "    .dataframe tbody tr th:only-of-type {\n",
       "        vertical-align: middle;\n",
       "    }\n",
       "\n",
       "    .dataframe tbody tr th {\n",
       "        vertical-align: top;\n",
       "    }\n",
       "\n",
       "    .dataframe thead th {\n",
       "        text-align: right;\n",
       "    }\n",
       "</style>\n",
       "<table border=\"1\" class=\"dataframe\">\n",
       "  <thead>\n",
       "    <tr style=\"text-align: right;\">\n",
       "      <th></th>\n",
       "      <th>nan_count</th>\n",
       "    </tr>\n",
       "  </thead>\n",
       "  <tbody>\n",
       "    <tr>\n",
       "      <th>지역코드</th>\n",
       "      <td>0</td>\n",
       "    </tr>\n",
       "    <tr>\n",
       "      <th>일시</th>\n",
       "      <td>0</td>\n",
       "    </tr>\n",
       "    <tr>\n",
       "      <th>평균기온(℃)</th>\n",
       "      <td>13</td>\n",
       "    </tr>\n",
       "    <tr>\n",
       "      <th>평균최고기온(℃)</th>\n",
       "      <td>15</td>\n",
       "    </tr>\n",
       "    <tr>\n",
       "      <th>평균최저기온(℃)</th>\n",
       "      <td>14</td>\n",
       "    </tr>\n",
       "    <tr>\n",
       "      <th>평균상대습도(%)</th>\n",
       "      <td>7</td>\n",
       "    </tr>\n",
       "    <tr>\n",
       "      <th>강수량(mm)</th>\n",
       "      <td>0</td>\n",
       "    </tr>\n",
       "    <tr>\n",
       "      <th>평균풍속(m/s)</th>\n",
       "      <td>25</td>\n",
       "    </tr>\n",
       "    <tr>\n",
       "      <th>합계 일조시간(hr)</th>\n",
       "      <td>1</td>\n",
       "    </tr>\n",
       "    <tr>\n",
       "      <th>평균지면온도(°C)</th>\n",
       "      <td>3</td>\n",
       "    </tr>\n",
       "  </tbody>\n",
       "</table>\n",
       "</div>"
      ],
      "text/plain": [
       "             nan_count\n",
       "지역코드                 0\n",
       "일시                   0\n",
       "평균기온(℃)             13\n",
       "평균최고기온(℃)           15\n",
       "평균최저기온(℃)           14\n",
       "평균상대습도(%)            7\n",
       "강수량(mm)              0\n",
       "평균풍속(m/s)           25\n",
       "합계 일조시간(hr)          1\n",
       "평균지면온도(°C)           3"
      ]
     },
     "execution_count": 102,
     "metadata": {},
     "output_type": "execute_result"
    }
   ],
   "source": [
    "d.isnull().sum().to_frame('nan_count')"
   ]
  },
  {
   "cell_type": "code",
   "execution_count": 103,
   "id": "2c2b1068",
   "metadata": {},
   "outputs": [
    {
     "data": {
      "text/plain": [
       "지역코드             int32\n",
       "일시              object\n",
       "평균기온(℃)        float64\n",
       "평균최고기온(℃)      float64\n",
       "평균최저기온(℃)      float64\n",
       "평균상대습도(%)      float64\n",
       "강수량(mm)        float64\n",
       "평균풍속(m/s)      float64\n",
       "합계 일조시간(hr)    float64\n",
       "평균지면온도(°C)     float64\n",
       "dtype: object"
      ]
     },
     "execution_count": 103,
     "metadata": {},
     "output_type": "execute_result"
    }
   ],
   "source": [
    "d.dtypes"
   ]
  },
  {
   "cell_type": "code",
   "execution_count": 72,
   "id": "ffee0eed",
   "metadata": {},
   "outputs": [
    {
     "data": {
      "text/plain": [
       "지역코드             int32\n",
       "일시              object\n",
       "평균기온(℃)        float64\n",
       "평균최고기온(℃)      float64\n",
       "평균최저기온(℃)      float64\n",
       "평균상대습도(%)      float64\n",
       "강수량(mm)        float64\n",
       "평균풍속(m/s)      float64\n",
       "합계 일조시간(hr)    float64\n",
       "평균지면온도(°C)     float64\n",
       "dtype: object"
      ]
     },
     "execution_count": 72,
     "metadata": {},
     "output_type": "execute_result"
    }
   ],
   "source": [
    "d['지역코드'] = d['지역코드'].astype(int)\n",
    "d.dtypes"
   ]
  },
  {
   "cell_type": "code",
   "execution_count": 104,
   "id": "12fb49b7",
   "metadata": {},
   "outputs": [
    {
     "data": {
      "text/html": [
       "<div>\n",
       "<style scoped>\n",
       "    .dataframe tbody tr th:only-of-type {\n",
       "        vertical-align: middle;\n",
       "    }\n",
       "\n",
       "    .dataframe tbody tr th {\n",
       "        vertical-align: top;\n",
       "    }\n",
       "\n",
       "    .dataframe thead th {\n",
       "        text-align: right;\n",
       "    }\n",
       "</style>\n",
       "<table border=\"1\" class=\"dataframe\">\n",
       "  <thead>\n",
       "    <tr style=\"text-align: right;\">\n",
       "      <th></th>\n",
       "      <th>지역코드</th>\n",
       "      <th>일시</th>\n",
       "      <th>평균기온(℃)</th>\n",
       "      <th>평균최고기온(℃)</th>\n",
       "      <th>평균최저기온(℃)</th>\n",
       "      <th>평균상대습도(%)</th>\n",
       "      <th>강수량(mm)</th>\n",
       "      <th>평균풍속(m/s)</th>\n",
       "      <th>합계 일조시간(hr)</th>\n",
       "      <th>평균지면온도(°C)</th>\n",
       "    </tr>\n",
       "  </thead>\n",
       "  <tbody>\n",
       "    <tr>\n",
       "      <th>0</th>\n",
       "      <td>95</td>\n",
       "      <td>2012-10</td>\n",
       "      <td>12.1</td>\n",
       "      <td>19.2</td>\n",
       "      <td>5.7</td>\n",
       "      <td>73.0</td>\n",
       "      <td>83.3</td>\n",
       "      <td>1.3</td>\n",
       "      <td>245.3</td>\n",
       "      <td>13.9</td>\n",
       "    </tr>\n",
       "    <tr>\n",
       "      <th>1</th>\n",
       "      <td>95</td>\n",
       "      <td>2012-11</td>\n",
       "      <td>2.9</td>\n",
       "      <td>8.2</td>\n",
       "      <td>-2.2</td>\n",
       "      <td>72.0</td>\n",
       "      <td>63.8</td>\n",
       "      <td>1.6</td>\n",
       "      <td>169.5</td>\n",
       "      <td>3.6</td>\n",
       "    </tr>\n",
       "    <tr>\n",
       "      <th>2</th>\n",
       "      <td>95</td>\n",
       "      <td>2012-12</td>\n",
       "      <td>-7.5</td>\n",
       "      <td>-2.1</td>\n",
       "      <td>-12.9</td>\n",
       "      <td>70.0</td>\n",
       "      <td>40.0</td>\n",
       "      <td>1.3</td>\n",
       "      <td>179.0</td>\n",
       "      <td>-2.7</td>\n",
       "    </tr>\n",
       "    <tr>\n",
       "      <th>3</th>\n",
       "      <td>95</td>\n",
       "      <td>2013-01</td>\n",
       "      <td>-8.1</td>\n",
       "      <td>-1.6</td>\n",
       "      <td>-14.0</td>\n",
       "      <td>73.0</td>\n",
       "      <td>19.1</td>\n",
       "      <td>1.1</td>\n",
       "      <td>150.4</td>\n",
       "      <td>-2.7</td>\n",
       "    </tr>\n",
       "    <tr>\n",
       "      <th>4</th>\n",
       "      <td>95</td>\n",
       "      <td>2013-02</td>\n",
       "      <td>-3.9</td>\n",
       "      <td>1.6</td>\n",
       "      <td>-9.5</td>\n",
       "      <td>65.0</td>\n",
       "      <td>53.9</td>\n",
       "      <td>1.4</td>\n",
       "      <td>179.9</td>\n",
       "      <td>-1.2</td>\n",
       "    </tr>\n",
       "    <tr>\n",
       "      <th>5</th>\n",
       "      <td>95</td>\n",
       "      <td>2013-03</td>\n",
       "      <td>3.0</td>\n",
       "      <td>10.0</td>\n",
       "      <td>-3.7</td>\n",
       "      <td>59.0</td>\n",
       "      <td>24.0</td>\n",
       "      <td>1.8</td>\n",
       "      <td>256.9</td>\n",
       "      <td>5.5</td>\n",
       "    </tr>\n",
       "    <tr>\n",
       "      <th>6</th>\n",
       "      <td>95</td>\n",
       "      <td>2013-04</td>\n",
       "      <td>8.1</td>\n",
       "      <td>14.4</td>\n",
       "      <td>1.5</td>\n",
       "      <td>59.0</td>\n",
       "      <td>64.6</td>\n",
       "      <td>2.4</td>\n",
       "      <td>202.0</td>\n",
       "      <td>10.5</td>\n",
       "    </tr>\n",
       "    <tr>\n",
       "      <th>7</th>\n",
       "      <td>95</td>\n",
       "      <td>2013-05</td>\n",
       "      <td>16.9</td>\n",
       "      <td>23.3</td>\n",
       "      <td>10.7</td>\n",
       "      <td>65.0</td>\n",
       "      <td>84.6</td>\n",
       "      <td>2.0</td>\n",
       "      <td>228.6</td>\n",
       "      <td>18.8</td>\n",
       "    </tr>\n",
       "    <tr>\n",
       "      <th>8</th>\n",
       "      <td>95</td>\n",
       "      <td>2013-06</td>\n",
       "      <td>22.8</td>\n",
       "      <td>28.5</td>\n",
       "      <td>17.7</td>\n",
       "      <td>72.0</td>\n",
       "      <td>23.3</td>\n",
       "      <td>1.6</td>\n",
       "      <td>238.9</td>\n",
       "      <td>27.1</td>\n",
       "    </tr>\n",
       "    <tr>\n",
       "      <th>9</th>\n",
       "      <td>95</td>\n",
       "      <td>2013-07</td>\n",
       "      <td>24.6</td>\n",
       "      <td>27.8</td>\n",
       "      <td>22.2</td>\n",
       "      <td>88.0</td>\n",
       "      <td>1009.2</td>\n",
       "      <td>2.2</td>\n",
       "      <td>115.9</td>\n",
       "      <td>25.7</td>\n",
       "    </tr>\n",
       "  </tbody>\n",
       "</table>\n",
       "</div>"
      ],
      "text/plain": [
       "   지역코드       일시  평균기온(℃)  평균최고기온(℃)  평균최저기온(℃)  평균상대습도(%)  강수량(mm)  \\\n",
       "0    95  2012-10     12.1       19.2        5.7       73.0     83.3   \n",
       "1    95  2012-11      2.9        8.2       -2.2       72.0     63.8   \n",
       "2    95  2012-12     -7.5       -2.1      -12.9       70.0     40.0   \n",
       "3    95  2013-01     -8.1       -1.6      -14.0       73.0     19.1   \n",
       "4    95  2013-02     -3.9        1.6       -9.5       65.0     53.9   \n",
       "5    95  2013-03      3.0       10.0       -3.7       59.0     24.0   \n",
       "6    95  2013-04      8.1       14.4        1.5       59.0     64.6   \n",
       "7    95  2013-05     16.9       23.3       10.7       65.0     84.6   \n",
       "8    95  2013-06     22.8       28.5       17.7       72.0     23.3   \n",
       "9    95  2013-07     24.6       27.8       22.2       88.0   1009.2   \n",
       "\n",
       "   평균풍속(m/s)  합계 일조시간(hr)  평균지면온도(°C)  \n",
       "0        1.3        245.3        13.9  \n",
       "1        1.6        169.5         3.6  \n",
       "2        1.3        179.0        -2.7  \n",
       "3        1.1        150.4        -2.7  \n",
       "4        1.4        179.9        -1.2  \n",
       "5        1.8        256.9         5.5  \n",
       "6        2.4        202.0        10.5  \n",
       "7        2.0        228.6        18.8  \n",
       "8        1.6        238.9        27.1  \n",
       "9        2.2        115.9        25.7  "
      ]
     },
     "execution_count": 104,
     "metadata": {},
     "output_type": "execute_result"
    }
   ],
   "source": [
    "d.head(10)"
   ]
  },
  {
   "cell_type": "markdown",
   "id": "dae902a9",
   "metadata": {},
   "source": [
    "### 기초통계량 확인"
   ]
  },
  {
   "cell_type": "code",
   "execution_count": 74,
   "id": "4c2f5ab3",
   "metadata": {},
   "outputs": [
    {
     "data": {
      "text/plain": [
       "count    3707.000000\n",
       "mean       12.441462\n",
       "std         9.727797\n",
       "min        -8.800000\n",
       "25%         4.000000\n",
       "50%        13.100000\n",
       "75%        21.500000\n",
       "max        28.900000\n",
       "Name: 평균기온(℃), dtype: float64"
      ]
     },
     "execution_count": 74,
     "metadata": {},
     "output_type": "execute_result"
    }
   ],
   "source": [
    "d['평균기온(℃)'].describe()"
   ]
  },
  {
   "cell_type": "code",
   "execution_count": 75,
   "id": "ac9105d0",
   "metadata": {},
   "outputs": [
    {
     "data": {
      "text/plain": [
       "count    3705.000000\n",
       "mean       17.619190\n",
       "std         9.873226\n",
       "min        -6.000000\n",
       "25%         8.400000\n",
       "50%        19.500000\n",
       "75%        26.700000\n",
       "max        33.800000\n",
       "Name: 평균최고기온(℃), dtype: float64"
      ]
     },
     "execution_count": 75,
     "metadata": {},
     "output_type": "execute_result"
    }
   ],
   "source": [
    "d['평균최고기온(℃)'].describe()"
   ]
  },
  {
   "cell_type": "code",
   "execution_count": 76,
   "id": "77d24275",
   "metadata": {},
   "outputs": [
    {
     "data": {
      "text/plain": [
       "count    3706.000000\n",
       "mean        8.085672\n",
       "std        10.541971\n",
       "min       -15.700000\n",
       "25%        -1.100000\n",
       "50%         8.100000\n",
       "75%        17.300000\n",
       "max        33.400000\n",
       "Name: 평균최저기온(℃), dtype: float64"
      ]
     },
     "execution_count": 76,
     "metadata": {},
     "output_type": "execute_result"
    }
   ],
   "source": [
    "d['평균최저기온(℃)'].describe()"
   ]
  },
  {
   "cell_type": "code",
   "execution_count": 77,
   "id": "1afb50f7",
   "metadata": {},
   "outputs": [
    {
     "data": {
      "text/plain": [
       "count    3713.000000\n",
       "mean       69.540749\n",
       "std        10.003152\n",
       "min        35.000000\n",
       "25%        62.000000\n",
       "50%        70.600000\n",
       "75%        77.000000\n",
       "max        96.000000\n",
       "Name: 평균상대습도(%), dtype: float64"
      ]
     },
     "execution_count": 77,
     "metadata": {},
     "output_type": "execute_result"
    }
   ],
   "source": [
    "d['평균상대습도(%)'].describe()"
   ]
  },
  {
   "cell_type": "code",
   "execution_count": 78,
   "id": "aceff5f4",
   "metadata": {},
   "outputs": [
    {
     "data": {
      "text/plain": [
       "count    3720.000000\n",
       "mean       96.008199\n",
       "std       110.835824\n",
       "min         0.000000\n",
       "25%        25.500000\n",
       "50%        61.000000\n",
       "75%       122.075000\n",
       "max      1009.200000\n",
       "Name: 강수량(mm), dtype: float64"
      ]
     },
     "execution_count": 78,
     "metadata": {},
     "output_type": "execute_result"
    }
   ],
   "source": [
    "d['강수량(mm)'].describe()"
   ]
  },
  {
   "cell_type": "code",
   "execution_count": 79,
   "id": "eb4dd672",
   "metadata": {},
   "outputs": [
    {
     "data": {
      "text/plain": [
       "count    3695.000000\n",
       "mean        1.629770\n",
       "std         0.502162\n",
       "min         0.500000\n",
       "25%         1.300000\n",
       "50%         1.600000\n",
       "75%         1.900000\n",
       "max         3.800000\n",
       "Name: 평균풍속(m/s), dtype: float64"
      ]
     },
     "execution_count": 79,
     "metadata": {},
     "output_type": "execute_result"
    }
   ],
   "source": [
    "d['평균풍속(m/s)'].describe()"
   ]
  },
  {
   "cell_type": "code",
   "execution_count": 80,
   "id": "bf0b5421",
   "metadata": {},
   "outputs": [
    {
     "data": {
      "text/plain": [
       "count    3719.000000\n",
       "mean      193.983490\n",
       "std        44.660003\n",
       "min        28.400000\n",
       "25%       164.250000\n",
       "50%       193.100000\n",
       "75%       222.700000\n",
       "max       342.800000\n",
       "Name: 합계 일조시간(hr), dtype: float64"
      ]
     },
     "execution_count": 80,
     "metadata": {},
     "output_type": "execute_result"
    }
   ],
   "source": [
    "d['합계 일조시간(hr)'].describe()"
   ]
  },
  {
   "cell_type": "code",
   "execution_count": 81,
   "id": "583826c8",
   "metadata": {},
   "outputs": [
    {
     "data": {
      "text/plain": [
       "count    3717.000000\n",
       "mean       14.808071\n",
       "std        10.595721\n",
       "min        -4.700000\n",
       "25%         5.100000\n",
       "50%        15.500000\n",
       "75%        24.900000\n",
       "max        36.600000\n",
       "Name: 평균지면온도(°C), dtype: float64"
      ]
     },
     "execution_count": 81,
     "metadata": {},
     "output_type": "execute_result"
    }
   ],
   "source": [
    "d['평균지면온도(°C)'].describe()"
   ]
  },
  {
   "cell_type": "markdown",
   "id": "9e43b6a9",
   "metadata": {},
   "source": [
    "### column별 히스토그램"
   ]
  },
  {
   "cell_type": "code",
   "execution_count": 83,
   "id": "984a3d47",
   "metadata": {},
   "outputs": [
    {
     "data": {
      "text/plain": [
       "<Figure size 1000x500 with 0 Axes>"
      ]
     },
     "metadata": {},
     "output_type": "display_data"
    },
    {
     "data": {
      "image/png": "[encoded data removed]",
      "text/plain": [
       "<Figure size 500x500 with 1 Axes>"
      ]
     },
     "metadata": {},
     "output_type": "display_data"
    }
   ],
   "source": [
    "plt.figure(figsize=(10,5))\n",
    "dist = sns.displot(d['평균기온(℃)'])\n",
    "plt.show()"
   ]
  },
  {
   "cell_type": "code",
   "execution_count": 84,
   "id": "694f0926",
   "metadata": {},
   "outputs": [
    {
     "data": {
      "text/plain": [
       "<Figure size 1000x500 with 0 Axes>"
      ]
     },
     "metadata": {},
     "output_type": "display_data"
    },
    {
     "data": {
      "image/png": "[encoded data removed]",
      "text/plain": [
       "<Figure size 500x500 with 1 Axes>"
      ]
     },
     "metadata": {},
     "output_type": "display_data"
    }
   ],
   "source": [
    "plt.figure(figsize=(10,5))\n",
    "dist = sns.displot(d['평균최고기온(℃)'])\n",
    "plt.show()"
   ]
  },
  {
   "cell_type": "code",
   "execution_count": 85,
   "id": "5a4f9717",
   "metadata": {},
   "outputs": [
    {
     "data": {
      "text/plain": [
       "<Figure size 1000x500 with 0 Axes>"
      ]
     },
     "metadata": {},
     "output_type": "display_data"
    },
    {
     "data": {
      "image/png": "[encoded data removed]",
      "text/plain": [
       "<Figure size 500x500 with 1 Axes>"
      ]
     },
     "metadata": {},
     "output_type": "display_data"
    }
   ],
   "source": [
    "plt.figure(figsize=(10,5))\n",
    "dist = sns.displot(d['평균최저기온(℃)'])\n",
    "plt.show()"
   ]
  },
  {
   "cell_type": "code",
   "execution_count": 86,
   "id": "fa081a14",
   "metadata": {},
   "outputs": [
    {
     "data": {
      "text/plain": [
       "<Figure size 1000x500 with 0 Axes>"
      ]
     },
     "metadata": {},
     "output_type": "display_data"
    },
    {
     "data": {
      "image/png": "[encoded data removed]",
      "text/plain": [
       "<Figure size 500x500 with 1 Axes>"
      ]
     },
     "metadata": {},
     "output_type": "display_data"
    }
   ],
   "source": [
    "plt.figure(figsize=(10,5))\n",
    "dist = sns.displot(d['평균상대습도(%)'])\n",
    "plt.show()"
   ]
  },
  {
   "cell_type": "code",
   "execution_count": 87,
   "id": "c7e92ebc",
   "metadata": {},
   "outputs": [
    {
     "data": {
      "text/plain": [
       "<Figure size 1000x500 with 0 Axes>"
      ]
     },
     "metadata": {},
     "output_type": "display_data"
    },
    {
     "data": {
      "image/png": "[encoded data removed]",
      "text/plain": [
       "<Figure size 500x500 with 1 Axes>"
      ]
     },
     "metadata": {},
     "output_type": "display_data"
    }
   ],
   "source": [
    "plt.figure(figsize=(10,5))\n",
    "dist = sns.displot(d['강수량(mm)'])\n",
    "plt.show()"
   ]
  },
  {
   "cell_type": "code",
   "execution_count": 88,
   "id": "04959530",
   "metadata": {},
   "outputs": [
    {
     "data": {
      "text/plain": [
       "<Figure size 1000x500 with 0 Axes>"
      ]
     },
     "metadata": {},
     "output_type": "display_data"
    },
    {
     "data": {
      "image/png": "[encoded data removed]",
      "text/plain": [
       "<Figure size 500x500 with 1 Axes>"
      ]
     },
     "metadata": {},
     "output_type": "display_data"
    }
   ],
   "source": [
    "plt.figure(figsize=(10,5))\n",
    "dist = sns.displot(d['평균풍속(m/s)'])\n",
    "plt.show()"
   ]
  },
  {
   "cell_type": "code",
   "execution_count": 89,
   "id": "6a7f75a8",
   "metadata": {},
   "outputs": [
    {
     "data": {
      "text/plain": [
       "<Figure size 1000x500 with 0 Axes>"
      ]
     },
     "metadata": {},
     "output_type": "display_data"
    },
    {
     "data": {
      "image/png": "[encoded data removed]",
      "text/plain": [
       "<Figure size 500x500 with 1 Axes>"
      ]
     },
     "metadata": {},
     "output_type": "display_data"
    }
   ],
   "source": [
    "plt.figure(figsize=(10,5))\n",
    "dist = sns.displot(d['합계 일조시간(hr)'])\n",
    "plt.show()"
   ]
  },
  {
   "cell_type": "code",
   "execution_count": 90,
   "id": "c1566f57",
   "metadata": {},
   "outputs": [
    {
     "data": {
      "text/plain": [
       "<Figure size 1000x500 with 0 Axes>"
      ]
     },
     "metadata": {},
     "output_type": "display_data"
    },
    {
     "data": {
      "image/png": "[encoded data removed]",
      "text/plain": [
       "<Figure size 500x500 with 1 Axes>"
      ]
     },
     "metadata": {},
     "output_type": "display_data"
    }
   ],
   "source": [
    "plt.figure(figsize=(10,5))\n",
    "dist = sns.displot(d['평균지면온도(°C)'])\n",
    "plt.show()"
   ]
  },
  {
   "cell_type": "markdown",
   "id": "1996c30a",
   "metadata": {},
   "source": [
    "### 지역코드, 일시를 제외한 열별 상관관계"
   ]
  },
  {
   "cell_type": "code",
   "execution_count": 91,
   "id": "a9c29432",
   "metadata": {},
   "outputs": [
    {
     "data": {
      "text/html": [
       "<div>\n",
       "<style scoped>\n",
       "    .dataframe tbody tr th:only-of-type {\n",
       "        vertical-align: middle;\n",
       "    }\n",
       "\n",
       "    .dataframe tbody tr th {\n",
       "        vertical-align: top;\n",
       "    }\n",
       "\n",
       "    .dataframe thead th {\n",
       "        text-align: right;\n",
       "    }\n",
       "</style>\n",
       "<table border=\"1\" class=\"dataframe\">\n",
       "  <thead>\n",
       "    <tr style=\"text-align: right;\">\n",
       "      <th></th>\n",
       "      <th>평균기온(℃)</th>\n",
       "      <th>평균최고기온(℃)</th>\n",
       "      <th>평균최저기온(℃)</th>\n",
       "      <th>평균상대습도(%)</th>\n",
       "      <th>강수량(mm)</th>\n",
       "      <th>평균풍속(m/s)</th>\n",
       "      <th>합계 일조시간(hr)</th>\n",
       "      <th>평균지면온도(°C)</th>\n",
       "    </tr>\n",
       "  </thead>\n",
       "  <tbody>\n",
       "    <tr>\n",
       "      <th>0</th>\n",
       "      <td>12.1</td>\n",
       "      <td>19.2</td>\n",
       "      <td>5.7</td>\n",
       "      <td>73.0</td>\n",
       "      <td>83.3</td>\n",
       "      <td>1.3</td>\n",
       "      <td>245.3</td>\n",
       "      <td>13.9</td>\n",
       "    </tr>\n",
       "    <tr>\n",
       "      <th>1</th>\n",
       "      <td>2.9</td>\n",
       "      <td>8.2</td>\n",
       "      <td>-2.2</td>\n",
       "      <td>72.0</td>\n",
       "      <td>63.8</td>\n",
       "      <td>1.6</td>\n",
       "      <td>169.5</td>\n",
       "      <td>3.6</td>\n",
       "    </tr>\n",
       "    <tr>\n",
       "      <th>2</th>\n",
       "      <td>-7.5</td>\n",
       "      <td>-2.1</td>\n",
       "      <td>-12.9</td>\n",
       "      <td>70.0</td>\n",
       "      <td>40.0</td>\n",
       "      <td>1.3</td>\n",
       "      <td>179.0</td>\n",
       "      <td>-2.7</td>\n",
       "    </tr>\n",
       "    <tr>\n",
       "      <th>3</th>\n",
       "      <td>-8.1</td>\n",
       "      <td>-1.6</td>\n",
       "      <td>-14.0</td>\n",
       "      <td>73.0</td>\n",
       "      <td>19.1</td>\n",
       "      <td>1.1</td>\n",
       "      <td>150.4</td>\n",
       "      <td>-2.7</td>\n",
       "    </tr>\n",
       "    <tr>\n",
       "      <th>4</th>\n",
       "      <td>-3.9</td>\n",
       "      <td>1.6</td>\n",
       "      <td>-9.5</td>\n",
       "      <td>65.0</td>\n",
       "      <td>53.9</td>\n",
       "      <td>1.4</td>\n",
       "      <td>179.9</td>\n",
       "      <td>-1.2</td>\n",
       "    </tr>\n",
       "    <tr>\n",
       "      <th>...</th>\n",
       "      <td>...</td>\n",
       "      <td>...</td>\n",
       "      <td>...</td>\n",
       "      <td>...</td>\n",
       "      <td>...</td>\n",
       "      <td>...</td>\n",
       "      <td>...</td>\n",
       "      <td>...</td>\n",
       "    </tr>\n",
       "    <tr>\n",
       "      <th>3715</th>\n",
       "      <td>18.0</td>\n",
       "      <td>24.5</td>\n",
       "      <td>12.7</td>\n",
       "      <td>56.0</td>\n",
       "      <td>3.0</td>\n",
       "      <td>1.7</td>\n",
       "      <td>295.5</td>\n",
       "      <td>22.9</td>\n",
       "    </tr>\n",
       "    <tr>\n",
       "      <th>3716</th>\n",
       "      <td>23.2</td>\n",
       "      <td>28.2</td>\n",
       "      <td>19.6</td>\n",
       "      <td>73.0</td>\n",
       "      <td>135.0</td>\n",
       "      <td>1.6</td>\n",
       "      <td>180.6</td>\n",
       "      <td>27.7</td>\n",
       "    </tr>\n",
       "    <tr>\n",
       "      <th>3717</th>\n",
       "      <td>26.6</td>\n",
       "      <td>30.7</td>\n",
       "      <td>23.5</td>\n",
       "      <td>78.0</td>\n",
       "      <td>115.5</td>\n",
       "      <td>1.6</td>\n",
       "      <td>174.7</td>\n",
       "      <td>29.9</td>\n",
       "    </tr>\n",
       "    <tr>\n",
       "      <th>3718</th>\n",
       "      <td>25.9</td>\n",
       "      <td>29.5</td>\n",
       "      <td>23.2</td>\n",
       "      <td>79.0</td>\n",
       "      <td>265.0</td>\n",
       "      <td>1.5</td>\n",
       "      <td>128.3</td>\n",
       "      <td>28.5</td>\n",
       "    </tr>\n",
       "    <tr>\n",
       "      <th>3719</th>\n",
       "      <td>21.9</td>\n",
       "      <td>27.4</td>\n",
       "      <td>17.7</td>\n",
       "      <td>70.0</td>\n",
       "      <td>59.0</td>\n",
       "      <td>1.5</td>\n",
       "      <td>183.0</td>\n",
       "      <td>25.0</td>\n",
       "    </tr>\n",
       "  </tbody>\n",
       "</table>\n",
       "<p>3720 rows × 8 columns</p>\n",
       "</div>"
      ],
      "text/plain": [
       "      평균기온(℃)  평균최고기온(℃)  평균최저기온(℃)  평균상대습도(%)  강수량(mm)  평균풍속(m/s)  \\\n",
       "0        12.1       19.2        5.7       73.0     83.3        1.3   \n",
       "1         2.9        8.2       -2.2       72.0     63.8        1.6   \n",
       "2        -7.5       -2.1      -12.9       70.0     40.0        1.3   \n",
       "3        -8.1       -1.6      -14.0       73.0     19.1        1.1   \n",
       "4        -3.9        1.6       -9.5       65.0     53.9        1.4   \n",
       "...       ...        ...        ...        ...      ...        ...   \n",
       "3715     18.0       24.5       12.7       56.0      3.0        1.7   \n",
       "3716     23.2       28.2       19.6       73.0    135.0        1.6   \n",
       "3717     26.6       30.7       23.5       78.0    115.5        1.6   \n",
       "3718     25.9       29.5       23.2       79.0    265.0        1.5   \n",
       "3719     21.9       27.4       17.7       70.0     59.0        1.5   \n",
       "\n",
       "      합계 일조시간(hr)  평균지면온도(°C)  \n",
       "0           245.3        13.9  \n",
       "1           169.5         3.6  \n",
       "2           179.0        -2.7  \n",
       "3           150.4        -2.7  \n",
       "4           179.9        -1.2  \n",
       "...           ...         ...  \n",
       "3715        295.5        22.9  \n",
       "3716        180.6        27.7  \n",
       "3717        174.7        29.9  \n",
       "3718        128.3        28.5  \n",
       "3719        183.0        25.0  \n",
       "\n",
       "[3720 rows x 8 columns]"
      ]
     },
     "execution_count": 91,
     "metadata": {},
     "output_type": "execute_result"
    }
   ],
   "source": [
    "d1 = d.drop(['지역코드', '일시'], axis=1)\n",
    "d1"
   ]
  },
  {
   "cell_type": "code",
   "execution_count": 92,
   "id": "f052cd2a",
   "metadata": {},
   "outputs": [
    {
     "data": {
      "text/plain": [
       "Text(0.5, 1.0, 'Correlation between features')"
      ]
     },
     "execution_count": 92,
     "metadata": {},
     "output_type": "execute_result"
    },
    {
     "data": {
      "image/png": "[encoded data removed]",
      "text/plain": [
       "<Figure size 1200x1000 with 2 Axes>"
      ]
     },
     "metadata": {},
     "output_type": "display_data"
    }
   ],
   "source": [
    "from sklearn.preprocessing import MinMaxScaler\n",
    "# 수치형 데이터 상관관계 히트맵 시각화\n",
    "\n",
    "scaler= MinMaxScaler()\n",
    "d1[d1.columns] = scaler.fit_transform(d1[d1.columns])\n",
    "corr28 = d1.corr(method= 'pearson')\n",
    "\n",
    "plt.figure(figsize=(12,10))\n",
    "sns.heatmap(data = corr28, annot=True, fmt = '.2f', linewidths=.5, cmap='Blues')\n",
    "plt.title('Correlation between features', fontsize=30)"
   ]
  },
  {
   "cell_type": "markdown",
   "id": "645c6975",
   "metadata": {},
   "source": [
    "### 결측치를 지역코드별 각 열의 평균으로 대체"
   ]
  },
  {
   "cell_type": "code",
   "execution_count": 143,
   "id": "bf79bda6",
   "metadata": {},
   "outputs": [
    {
     "name": "stderr",
     "output_type": "stream",
     "text": [
      "C:\\Users\\eun01\\AppData\\Local\\Temp\\ipykernel_10948\\1647487005.py:1: FutureWarning: The default value of numeric_only in DataFrameGroupBy.mean is deprecated. In a future version, numeric_only will default to False. Either specify numeric_only or select only columns which should be valid for the function.\n",
      "  region_means = d.groupby('지역코드').transform('mean')\n"
     ]
    }
   ],
   "source": [
    "region_means = d.groupby('지역코드').transform('mean')\n",
    "d2 = d.where(pd.notnull(d), region_means)"
   ]
  },
  {
   "cell_type": "code",
   "execution_count": 144,
   "id": "bb488e7c",
   "metadata": {},
   "outputs": [
    {
     "data": {
      "text/html": [
       "<div>\n",
       "<style scoped>\n",
       "    .dataframe tbody tr th:only-of-type {\n",
       "        vertical-align: middle;\n",
       "    }\n",
       "\n",
       "    .dataframe tbody tr th {\n",
       "        vertical-align: top;\n",
       "    }\n",
       "\n",
       "    .dataframe thead th {\n",
       "        text-align: right;\n",
       "    }\n",
       "</style>\n",
       "<table border=\"1\" class=\"dataframe\">\n",
       "  <thead>\n",
       "    <tr style=\"text-align: right;\">\n",
       "      <th></th>\n",
       "      <th>지역코드</th>\n",
       "      <th>일시</th>\n",
       "      <th>평균기온(℃)</th>\n",
       "      <th>평균최고기온(℃)</th>\n",
       "      <th>평균최저기온(℃)</th>\n",
       "      <th>평균상대습도(%)</th>\n",
       "      <th>강수량(mm)</th>\n",
       "      <th>평균풍속(m/s)</th>\n",
       "      <th>합계 일조시간(hr)</th>\n",
       "      <th>평균지면온도(°C)</th>\n",
       "    </tr>\n",
       "  </thead>\n",
       "  <tbody>\n",
       "    <tr>\n",
       "      <th>0</th>\n",
       "      <td>95</td>\n",
       "      <td>2012-10</td>\n",
       "      <td>12.1</td>\n",
       "      <td>19.2</td>\n",
       "      <td>5.7</td>\n",
       "      <td>73.0</td>\n",
       "      <td>83.3</td>\n",
       "      <td>1.3</td>\n",
       "      <td>245.3</td>\n",
       "      <td>13.9</td>\n",
       "    </tr>\n",
       "    <tr>\n",
       "      <th>1</th>\n",
       "      <td>95</td>\n",
       "      <td>2012-11</td>\n",
       "      <td>2.9</td>\n",
       "      <td>8.2</td>\n",
       "      <td>-2.2</td>\n",
       "      <td>72.0</td>\n",
       "      <td>63.8</td>\n",
       "      <td>1.6</td>\n",
       "      <td>169.5</td>\n",
       "      <td>3.6</td>\n",
       "    </tr>\n",
       "    <tr>\n",
       "      <th>2</th>\n",
       "      <td>95</td>\n",
       "      <td>2012-12</td>\n",
       "      <td>-7.5</td>\n",
       "      <td>-2.1</td>\n",
       "      <td>-12.9</td>\n",
       "      <td>70.0</td>\n",
       "      <td>40.0</td>\n",
       "      <td>1.3</td>\n",
       "      <td>179.0</td>\n",
       "      <td>-2.7</td>\n",
       "    </tr>\n",
       "    <tr>\n",
       "      <th>3</th>\n",
       "      <td>95</td>\n",
       "      <td>2013-01</td>\n",
       "      <td>-8.1</td>\n",
       "      <td>-1.6</td>\n",
       "      <td>-14.0</td>\n",
       "      <td>73.0</td>\n",
       "      <td>19.1</td>\n",
       "      <td>1.1</td>\n",
       "      <td>150.4</td>\n",
       "      <td>-2.7</td>\n",
       "    </tr>\n",
       "    <tr>\n",
       "      <th>4</th>\n",
       "      <td>95</td>\n",
       "      <td>2013-02</td>\n",
       "      <td>-3.9</td>\n",
       "      <td>1.6</td>\n",
       "      <td>-9.5</td>\n",
       "      <td>65.0</td>\n",
       "      <td>53.9</td>\n",
       "      <td>1.4</td>\n",
       "      <td>179.9</td>\n",
       "      <td>-1.2</td>\n",
       "    </tr>\n",
       "    <tr>\n",
       "      <th>...</th>\n",
       "      <td>...</td>\n",
       "      <td>...</td>\n",
       "      <td>...</td>\n",
       "      <td>...</td>\n",
       "      <td>...</td>\n",
       "      <td>...</td>\n",
       "      <td>...</td>\n",
       "      <td>...</td>\n",
       "      <td>...</td>\n",
       "      <td>...</td>\n",
       "    </tr>\n",
       "    <tr>\n",
       "      <th>3715</th>\n",
       "      <td>737</td>\n",
       "      <td>2022-05</td>\n",
       "      <td>18.0</td>\n",
       "      <td>24.5</td>\n",
       "      <td>12.7</td>\n",
       "      <td>56.0</td>\n",
       "      <td>3.0</td>\n",
       "      <td>1.7</td>\n",
       "      <td>295.5</td>\n",
       "      <td>22.9</td>\n",
       "    </tr>\n",
       "    <tr>\n",
       "      <th>3716</th>\n",
       "      <td>737</td>\n",
       "      <td>2022-06</td>\n",
       "      <td>23.2</td>\n",
       "      <td>28.2</td>\n",
       "      <td>19.6</td>\n",
       "      <td>73.0</td>\n",
       "      <td>135.0</td>\n",
       "      <td>1.6</td>\n",
       "      <td>180.6</td>\n",
       "      <td>27.7</td>\n",
       "    </tr>\n",
       "    <tr>\n",
       "      <th>3717</th>\n",
       "      <td>737</td>\n",
       "      <td>2022-07</td>\n",
       "      <td>26.6</td>\n",
       "      <td>30.7</td>\n",
       "      <td>23.5</td>\n",
       "      <td>78.0</td>\n",
       "      <td>115.5</td>\n",
       "      <td>1.6</td>\n",
       "      <td>174.7</td>\n",
       "      <td>29.9</td>\n",
       "    </tr>\n",
       "    <tr>\n",
       "      <th>3718</th>\n",
       "      <td>737</td>\n",
       "      <td>2022-08</td>\n",
       "      <td>25.9</td>\n",
       "      <td>29.5</td>\n",
       "      <td>23.2</td>\n",
       "      <td>79.0</td>\n",
       "      <td>265.0</td>\n",
       "      <td>1.5</td>\n",
       "      <td>128.3</td>\n",
       "      <td>28.5</td>\n",
       "    </tr>\n",
       "    <tr>\n",
       "      <th>3719</th>\n",
       "      <td>737</td>\n",
       "      <td>2022-09</td>\n",
       "      <td>21.9</td>\n",
       "      <td>27.4</td>\n",
       "      <td>17.7</td>\n",
       "      <td>70.0</td>\n",
       "      <td>59.0</td>\n",
       "      <td>1.5</td>\n",
       "      <td>183.0</td>\n",
       "      <td>25.0</td>\n",
       "    </tr>\n",
       "  </tbody>\n",
       "</table>\n",
       "<p>3720 rows × 10 columns</p>\n",
       "</div>"
      ],
      "text/plain": [
       "      지역코드       일시  평균기온(℃)  평균최고기온(℃)  평균최저기온(℃)  평균상대습도(%)  강수량(mm)  \\\n",
       "0       95  2012-10     12.1       19.2        5.7       73.0     83.3   \n",
       "1       95  2012-11      2.9        8.2       -2.2       72.0     63.8   \n",
       "2       95  2012-12     -7.5       -2.1      -12.9       70.0     40.0   \n",
       "3       95  2013-01     -8.1       -1.6      -14.0       73.0     19.1   \n",
       "4       95  2013-02     -3.9        1.6       -9.5       65.0     53.9   \n",
       "...    ...      ...      ...        ...        ...        ...      ...   \n",
       "3715   737  2022-05     18.0       24.5       12.7       56.0      3.0   \n",
       "3716   737  2022-06     23.2       28.2       19.6       73.0    135.0   \n",
       "3717   737  2022-07     26.6       30.7       23.5       78.0    115.5   \n",
       "3718   737  2022-08     25.9       29.5       23.2       79.0    265.0   \n",
       "3719   737  2022-09     21.9       27.4       17.7       70.0     59.0   \n",
       "\n",
       "      평균풍속(m/s)  합계 일조시간(hr)  평균지면온도(°C)  \n",
       "0           1.3        245.3        13.9  \n",
       "1           1.6        169.5         3.6  \n",
       "2           1.3        179.0        -2.7  \n",
       "3           1.1        150.4        -2.7  \n",
       "4           1.4        179.9        -1.2  \n",
       "...         ...          ...         ...  \n",
       "3715        1.7        295.5        22.9  \n",
       "3716        1.6        180.6        27.7  \n",
       "3717        1.6        174.7        29.9  \n",
       "3718        1.5        128.3        28.5  \n",
       "3719        1.5        183.0        25.0  \n",
       "\n",
       "[3720 rows x 10 columns]"
      ]
     },
     "execution_count": 144,
     "metadata": {},
     "output_type": "execute_result"
    }
   ],
   "source": [
    "d2"
   ]
  },
  {
   "cell_type": "code",
   "execution_count": 98,
   "id": "62de4c73",
   "metadata": {},
   "outputs": [
    {
     "data": {
      "text/html": [
       "<div>\n",
       "<style scoped>\n",
       "    .dataframe tbody tr th:only-of-type {\n",
       "        vertical-align: middle;\n",
       "    }\n",
       "\n",
       "    .dataframe tbody tr th {\n",
       "        vertical-align: top;\n",
       "    }\n",
       "\n",
       "    .dataframe thead th {\n",
       "        text-align: right;\n",
       "    }\n",
       "</style>\n",
       "<table border=\"1\" class=\"dataframe\">\n",
       "  <thead>\n",
       "    <tr style=\"text-align: right;\">\n",
       "      <th></th>\n",
       "      <th>nan_count</th>\n",
       "    </tr>\n",
       "  </thead>\n",
       "  <tbody>\n",
       "    <tr>\n",
       "      <th>지역코드</th>\n",
       "      <td>0</td>\n",
       "    </tr>\n",
       "    <tr>\n",
       "      <th>일시</th>\n",
       "      <td>0</td>\n",
       "    </tr>\n",
       "    <tr>\n",
       "      <th>평균기온(℃)</th>\n",
       "      <td>0</td>\n",
       "    </tr>\n",
       "    <tr>\n",
       "      <th>평균최고기온(℃)</th>\n",
       "      <td>0</td>\n",
       "    </tr>\n",
       "    <tr>\n",
       "      <th>평균최저기온(℃)</th>\n",
       "      <td>0</td>\n",
       "    </tr>\n",
       "    <tr>\n",
       "      <th>평균상대습도(%)</th>\n",
       "      <td>0</td>\n",
       "    </tr>\n",
       "    <tr>\n",
       "      <th>강수량(mm)</th>\n",
       "      <td>0</td>\n",
       "    </tr>\n",
       "    <tr>\n",
       "      <th>평균풍속(m/s)</th>\n",
       "      <td>0</td>\n",
       "    </tr>\n",
       "    <tr>\n",
       "      <th>합계 일조시간(hr)</th>\n",
       "      <td>0</td>\n",
       "    </tr>\n",
       "    <tr>\n",
       "      <th>평균지면온도(°C)</th>\n",
       "      <td>0</td>\n",
       "    </tr>\n",
       "  </tbody>\n",
       "</table>\n",
       "</div>"
      ],
      "text/plain": [
       "             nan_count\n",
       "지역코드                 0\n",
       "일시                   0\n",
       "평균기온(℃)              0\n",
       "평균최고기온(℃)            0\n",
       "평균최저기온(℃)            0\n",
       "평균상대습도(%)            0\n",
       "강수량(mm)              0\n",
       "평균풍속(m/s)            0\n",
       "합계 일조시간(hr)          0\n",
       "평균지면온도(°C)           0"
      ]
     },
     "execution_count": 98,
     "metadata": {},
     "output_type": "execute_result"
    }
   ],
   "source": [
    "d2.isnull().sum().to_frame('nan_count')"
   ]
  },
  {
   "cell_type": "markdown",
   "id": "54488eb7",
   "metadata": {},
   "source": [
    "### 이상치 확인"
   ]
  },
  {
   "cell_type": "code",
   "execution_count": 109,
   "id": "3307f097",
   "metadata": {},
   "outputs": [
    {
     "name": "stdout",
     "output_type": "stream",
     "text": [
      "평균기온(℃) IQR outliers:  0\n",
      "평균최고기온(℃) IQR outliers:  0\n",
      "평균최저기온(℃) IQR outliers:  0\n",
      "평균상대습도(%) IQR outliers:  5\n",
      "강수량(mm) IQR outliers:  257\n",
      "평균풍속(m/s) IQR outliers:  87\n",
      "합계 일조시간(hr) IQR outliers:  43\n",
      "평균지면온도(℃) IQR outliers:  0\n"
     ]
    }
   ],
   "source": [
    "def findOutliers(d2,column):\n",
    "    q1 = d2[column].quantile(0.25)\n",
    "    q3 = d2[column].quantile(0.75)\n",
    "    iqr = q3 - q1\n",
    "    y = d2[(d2[column] > (q3 + 1.5*iqr)) | (d2[column] < (q1 - 1.5*iqr))]\n",
    "    return len(y)\n",
    "print(\"평균기온(℃) IQR outliers: \",findOutliers(d2,'평균기온(℃)'))\n",
    "print(\"평균최고기온(℃) IQR outliers: \",findOutliers(d2,'평균최고기온(℃)'))\n",
    "print(\"평균최저기온(℃) IQR outliers: \",findOutliers(d2,'평균최저기온(℃)'))\n",
    "print(\"평균상대습도(%) IQR outliers: \",findOutliers(d2,'평균상대습도(%)'))\n",
    "print(\"강수량(mm) IQR outliers: \",findOutliers(d2,'강수량(mm)'))\n",
    "print(\"평균풍속(m/s) IQR outliers: \",findOutliers(d2,'평균풍속(m/s)'))\n",
    "print(\"합계 일조시간(hr) IQR outliers: \",findOutliers(d2,'합계 일조시간(hr)'))\n",
    "print(\"평균지면온도(℃) IQR outliers: \",findOutliers(d2,'평균지면온도(°C)'))"
   ]
  },
  {
   "cell_type": "code",
   "execution_count": 111,
   "id": "c19569ab",
   "metadata": {},
   "outputs": [
    {
     "data": {
      "text/plain": [
       "<Axes: >"
      ]
     },
     "execution_count": 111,
     "metadata": {},
     "output_type": "execute_result"
    },
    {
     "data": {
      "image/png": "[encoded data removed]",
      "text/plain": [
       "<Figure size 640x480 with 4 Axes>"
      ]
     },
     "metadata": {},
     "output_type": "display_data"
    }
   ],
   "source": [
    "plt.subplot(182)\n",
    "d2[['평균상대습도(%)']].boxplot()\n",
    "\n",
    "plt.subplot(184)\n",
    "d2[['강수량(mm)']].boxplot()\n",
    "\n",
    "plt.subplot(186)\n",
    "d2[['평균풍속(m/s)']].boxplot()\n",
    "\n",
    "plt.subplot(188)\n",
    "d2[['합계 일조시간(hr)']].boxplot()"
   ]
  },
  {
   "cell_type": "markdown",
   "id": "c003d2bf",
   "metadata": {},
   "source": [
    "### 이상치 대체 : 상한값보다 큰 값은 상한값으로, 하한값보다 작은 값은 하한값으로 대체"
   ]
  },
  {
   "cell_type": "code",
   "execution_count": 145,
   "id": "432600bd",
   "metadata": {},
   "outputs": [],
   "source": [
    "def changeOutliers(df2,column):\n",
    "    q1 = df2[column].quantile(0.25)\n",
    "    q3 = df2[column].quantile(0.75)\n",
    "\n",
    "    iqr = q3 - q1\n",
    "\n",
    "    Min = q1 - 1.5*iqr\n",
    "    Max = q3 + 1.5*iqr\n",
    "\n",
    "    df2.loc[(df2[column] > Max), column] = Max\n",
    "    df2.loc[(df2[column] < Min), column] = Min\n",
    "\n",
    "    return(df2)\n",
    "\n",
    "d3 = d2.copy()\n",
    "\n",
    "d3 = changeOutliers(d2,'평균기온(℃)')\n",
    "d3 = changeOutliers(d2,'평균최고기온(℃)')\n",
    "d3 = changeOutliers(d2,'평균최저기온(℃)')\n",
    "d3 = changeOutliers(d2,'평균상대습도(%)')\n",
    "d3 = changeOutliers(d2,'강수량(mm)')\n",
    "d3 = changeOutliers(d2,'평균풍속(m/s)')\n",
    "d3 = changeOutliers(d2,'합계 일조시간(hr)')\n",
    "d3 = changeOutliers(d2,'평균지면온도(°C)')"
   ]
  },
  {
   "cell_type": "code",
   "execution_count": 146,
   "id": "3d0ccada",
   "metadata": {},
   "outputs": [
    {
     "name": "stdout",
     "output_type": "stream",
     "text": [
      "      지역코드       일시  평균기온(℃)  평균최고기온(℃)  평균최저기온(℃)  평균상대습도(%)  강수량(mm)  \\\n",
      "0       95  2012-10     12.1       19.2        5.7       73.0     83.3   \n",
      "1       95  2012-11      2.9        8.2       -2.2       72.0     63.8   \n",
      "2       95  2012-12     -7.5       -2.1      -12.9       70.0     40.0   \n",
      "3       95  2013-01     -8.1       -1.6      -14.0       73.0     19.1   \n",
      "4       95  2013-02     -3.9        1.6       -9.5       65.0     53.9   \n",
      "...    ...      ...      ...        ...        ...        ...      ...   \n",
      "3715   737  2022-05     18.0       24.5       12.7       56.0      3.0   \n",
      "3716   737  2022-06     23.2       28.2       19.6       73.0    135.0   \n",
      "3717   737  2022-07     26.6       30.7       23.5       78.0    115.5   \n",
      "3718   737  2022-08     25.9       29.5       23.2       79.0    265.0   \n",
      "3719   737  2022-09     21.9       27.4       17.7       70.0     59.0   \n",
      "\n",
      "      평균풍속(m/s)  합계 일조시간(hr)  평균지면온도(°C)  \n",
      "0           1.3        245.3        13.9  \n",
      "1           1.6        169.5         3.6  \n",
      "2           1.3        179.0        -2.7  \n",
      "3           1.1        150.4        -2.7  \n",
      "4           1.4        179.9        -1.2  \n",
      "...         ...          ...         ...  \n",
      "3715        1.7        295.5        22.9  \n",
      "3716        1.6        180.6        27.7  \n",
      "3717        1.6        174.7        29.9  \n",
      "3718        1.5        128.3        28.5  \n",
      "3719        1.5        183.0        25.0  \n",
      "\n",
      "[3720 rows x 10 columns]\n"
     ]
    }
   ],
   "source": [
    "def changeOutliers(df, column):\n",
    "    q1 = df[column].quantile(0.25)\n",
    "    q3 = df[column].quantile(0.75)\n",
    "    iqr = q3 - q1\n",
    "\n",
    "    min_val = q1 - 1.5 * iqr\n",
    "    max_val = q3 + 1.5 * iqr\n",
    "\n",
    "    df[column] = df[column].apply(lambda x: min(max(x, min_val), max_val))\n",
    "    return df\n",
    "\n",
    "d3 = d2.copy()\n",
    "\n",
    "\n",
    "columns_to_process = ['평균기온(℃)', '평균최고기온(℃)', '평균최저기온(℃)', '평균상대습도(%)',\n",
    "                      '강수량(mm)', '평균풍속(m/s)', '합계 일조시간(hr)', '평균지면온도(°C)']\n",
    "\n",
    "for column in columns_to_process:\n",
    "    d3 = changeOutliers(d3, column)\n",
    "\n",
    "print(d3)"
   ]
  },
  {
   "cell_type": "code",
   "execution_count": 147,
   "id": "f26ec67e",
   "metadata": {},
   "outputs": [
    {
     "data": {
      "text/html": [
       "<div>\n",
       "<style scoped>\n",
       "    .dataframe tbody tr th:only-of-type {\n",
       "        vertical-align: middle;\n",
       "    }\n",
       "\n",
       "    .dataframe tbody tr th {\n",
       "        vertical-align: top;\n",
       "    }\n",
       "\n",
       "    .dataframe thead th {\n",
       "        text-align: right;\n",
       "    }\n",
       "</style>\n",
       "<table border=\"1\" class=\"dataframe\">\n",
       "  <thead>\n",
       "    <tr style=\"text-align: right;\">\n",
       "      <th></th>\n",
       "      <th>지역코드</th>\n",
       "      <th>일시</th>\n",
       "      <th>평균기온(℃)</th>\n",
       "      <th>평균최고기온(℃)</th>\n",
       "      <th>평균최저기온(℃)</th>\n",
       "      <th>평균상대습도(%)</th>\n",
       "      <th>강수량(mm)</th>\n",
       "      <th>평균풍속(m/s)</th>\n",
       "      <th>합계 일조시간(hr)</th>\n",
       "      <th>평균지면온도(°C)</th>\n",
       "    </tr>\n",
       "  </thead>\n",
       "  <tbody>\n",
       "    <tr>\n",
       "      <th>0</th>\n",
       "      <td>95</td>\n",
       "      <td>2012-10</td>\n",
       "      <td>12.1</td>\n",
       "      <td>19.2</td>\n",
       "      <td>5.7</td>\n",
       "      <td>73.0</td>\n",
       "      <td>83.3</td>\n",
       "      <td>1.3</td>\n",
       "      <td>245.3</td>\n",
       "      <td>13.9</td>\n",
       "    </tr>\n",
       "    <tr>\n",
       "      <th>1</th>\n",
       "      <td>95</td>\n",
       "      <td>2012-11</td>\n",
       "      <td>2.9</td>\n",
       "      <td>8.2</td>\n",
       "      <td>-2.2</td>\n",
       "      <td>72.0</td>\n",
       "      <td>63.8</td>\n",
       "      <td>1.6</td>\n",
       "      <td>169.5</td>\n",
       "      <td>3.6</td>\n",
       "    </tr>\n",
       "    <tr>\n",
       "      <th>2</th>\n",
       "      <td>95</td>\n",
       "      <td>2012-12</td>\n",
       "      <td>-7.5</td>\n",
       "      <td>-2.1</td>\n",
       "      <td>-12.9</td>\n",
       "      <td>70.0</td>\n",
       "      <td>40.0</td>\n",
       "      <td>1.3</td>\n",
       "      <td>179.0</td>\n",
       "      <td>-2.7</td>\n",
       "    </tr>\n",
       "    <tr>\n",
       "      <th>3</th>\n",
       "      <td>95</td>\n",
       "      <td>2013-01</td>\n",
       "      <td>-8.1</td>\n",
       "      <td>-1.6</td>\n",
       "      <td>-14.0</td>\n",
       "      <td>73.0</td>\n",
       "      <td>19.1</td>\n",
       "      <td>1.1</td>\n",
       "      <td>150.4</td>\n",
       "      <td>-2.7</td>\n",
       "    </tr>\n",
       "    <tr>\n",
       "      <th>4</th>\n",
       "      <td>95</td>\n",
       "      <td>2013-02</td>\n",
       "      <td>-3.9</td>\n",
       "      <td>1.6</td>\n",
       "      <td>-9.5</td>\n",
       "      <td>65.0</td>\n",
       "      <td>53.9</td>\n",
       "      <td>1.4</td>\n",
       "      <td>179.9</td>\n",
       "      <td>-1.2</td>\n",
       "    </tr>\n",
       "  </tbody>\n",
       "</table>\n",
       "</div>"
      ],
      "text/plain": [
       "   지역코드       일시  평균기온(℃)  평균최고기온(℃)  평균최저기온(℃)  평균상대습도(%)  강수량(mm)  \\\n",
       "0    95  2012-10     12.1       19.2        5.7       73.0     83.3   \n",
       "1    95  2012-11      2.9        8.2       -2.2       72.0     63.8   \n",
       "2    95  2012-12     -7.5       -2.1      -12.9       70.0     40.0   \n",
       "3    95  2013-01     -8.1       -1.6      -14.0       73.0     19.1   \n",
       "4    95  2013-02     -3.9        1.6       -9.5       65.0     53.9   \n",
       "\n",
       "   평균풍속(m/s)  합계 일조시간(hr)  평균지면온도(°C)  \n",
       "0        1.3        245.3        13.9  \n",
       "1        1.6        169.5         3.6  \n",
       "2        1.3        179.0        -2.7  \n",
       "3        1.1        150.4        -2.7  \n",
       "4        1.4        179.9        -1.2  "
      ]
     },
     "execution_count": 147,
     "metadata": {},
     "output_type": "execute_result"
    }
   ],
   "source": [
    "d3.head()"
   ]
  },
  {
   "cell_type": "code",
   "execution_count": 148,
   "id": "99693c41",
   "metadata": {},
   "outputs": [
    {
     "name": "stdout",
     "output_type": "stream",
     "text": [
      "평균기온(℃) IQR outliers:  0\n",
      "평균최고기온(℃) IQR outliers:  0\n",
      "평균최저기온(℃) IQR outliers:  0\n",
      "평균상대습도(%) IQR outliers:  0\n",
      "강수량(mm) IQR outliers:  0\n",
      "평균풍속(m/s) IQR outliers:  0\n",
      "합계 일조시간(hr) IQR outliers:  0\n",
      "평균지면온도(℃) IQR outliers:  0\n"
     ]
    }
   ],
   "source": [
    "def findOutliers(d3,column):\n",
    "    q1 = d3[column].quantile(0.25)\n",
    "    q3 = d3[column].quantile(0.75)\n",
    "    iqr = q3 - q1\n",
    "    y = d3[(d3[column] > (q3 + 1.5*iqr)) | (d3[column] < (q1 - 1.5*iqr))]\n",
    "    return len(y)\n",
    "print(\"평균기온(℃) IQR outliers: \",findOutliers(d3,'평균기온(℃)'))\n",
    "print(\"평균최고기온(℃) IQR outliers: \",findOutliers(d3,'평균최고기온(℃)'))\n",
    "print(\"평균최저기온(℃) IQR outliers: \",findOutliers(d3,'평균최저기온(℃)'))\n",
    "print(\"평균상대습도(%) IQR outliers: \",findOutliers(d3,'평균상대습도(%)'))\n",
    "print(\"강수량(mm) IQR outliers: \",findOutliers(d3,'강수량(mm)'))\n",
    "print(\"평균풍속(m/s) IQR outliers: \",findOutliers(d3,'평균풍속(m/s)'))\n",
    "print(\"합계 일조시간(hr) IQR outliers: \",findOutliers(d3,'합계 일조시간(hr)'))\n",
    "print(\"평균지면온도(℃) IQR outliers: \",findOutliers(d3,'평균지면온도(°C)'))"
   ]
  },
  {
   "cell_type": "code",
   "execution_count": 149,
   "id": "dc6ffcfe",
   "metadata": {},
   "outputs": [
    {
     "data": {
      "text/plain": [
       "<Axes: >"
      ]
     },
     "execution_count": 149,
     "metadata": {},
     "output_type": "execute_result"
    },
    {
     "data": {
      "image/png": "[encoded data removed]",
      "text/plain": [
       "<Figure size 640x480 with 4 Axes>"
      ]
     },
     "metadata": {},
     "output_type": "display_data"
    }
   ],
   "source": [
    "plt.subplot(182)\n",
    "d3[['평균상대습도(%)']].boxplot()\n",
    "\n",
    "plt.subplot(184)\n",
    "d3[['강수량(mm)']].boxplot()\n",
    "\n",
    "plt.subplot(186)\n",
    "d3[['평균풍속(m/s)']].boxplot()\n",
    "\n",
    "plt.subplot(188)\n",
    "d3[['합계 일조시간(hr)']].boxplot()"
   ]
  },
  {
   "cell_type": "markdown",
   "id": "d92709da",
   "metadata": {},
   "source": [
    "이상치가 잘 제거됐음을 알 수 있다"
   ]
  },
  {
   "cell_type": "markdown",
   "id": "275d745a",
   "metadata": {},
   "source": [
    "### csv 파일로 저장"
   ]
  },
  {
   "cell_type": "code",
   "execution_count": 150,
   "id": "f07a8af9",
   "metadata": {},
   "outputs": [],
   "source": [
    "d3.to_csv(\"climates_processed.csv\", encoding = 'cp949', index = False)"
   ]
  }
 ],
 "metadata": {
  "kernelspec": {
   "display_name": "Python 3 (ipykernel)",
   "language": "python",
   "name": "python3"
  },
  "language_info": {
   "codemirror_mode": {
    "name": "ipython",
    "version": 3
   },
   "file_extension": ".py",
   "mimetype": "text/x-python",
   "name": "python",
   "nbconvert_exporter": "python",
   "pygments_lexer": "ipython3",
   "version": "3.11.4"
  }
 },
 "nbformat": 4,
 "nbformat_minor": 5
}
