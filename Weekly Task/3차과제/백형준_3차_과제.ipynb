{
 "cells": [
  {
   "attachments": {},
   "cell_type": "markdown",
   "id": "d3f0c127",
   "metadata": {},
   "source": [
    "## 3차 과제 - 당뇨병을 예측해보자\n",
    "- 주제: 데이터 분석 실습(머신러닝)\n",
    "- 데이터: 피마 인디언 당뇨병 데이터\n",
    "https://www.kaggle.com/datasets/uciml/pima-indians-diabetes-database\n",
    "- 사용 라이브러리: numpy, pandas, matplotlib, sklearn\n"
   ]
  },
  {
   "attachments": {},
   "cell_type": "markdown",
   "id": "2d2ec1cc",
   "metadata": {},
   "source": [
    "### 1. EDA, 전처리"
   ]
  },
  {
   "attachments": {},
   "cell_type": "markdown",
   "id": "70e922c4",
   "metadata": {},
   "source": [
    "1.1 분석을 위해 사용될 라이브러리들을 import 하세요.\n",
    "\n",
    "numpy, pandas, matplotlib, sklearn(train_test_split, accurarcy_score, precision_score, recall_score, roc_auc_score, f1_score, confusion_matrix, precision_recall_curve, roc_curve, StandardScaler, LogisticRegression)"
   ]
  },
  {
   "cell_type": "code",
   "execution_count": 8,
   "id": "077ca065",
   "metadata": {},
   "outputs": [],
   "source": [
    "import numpy as np\n",
    "import pandas as pd\n",
    "import matplotlib.pyplot as plt\n",
    "import seaborn as sns\n",
    "from sklearn.model_selection import train_test_split\n",
    "from sklearn.metrics import accuracy_score, precision_score, recall_score, roc_auc_score, f1_score, confusion_matrix, precision_recall_curve, roc_curve\n",
    "from sklearn.preprocessing import StandardScaler\n",
    "from sklearn.linear_model import LogisticRegression\n",
    "\n"
   ]
  },
  {
   "attachments": {},
   "cell_type": "markdown",
   "id": "79ca750c",
   "metadata": {},
   "source": [
    "1.2 데이터를 불러오고 타겟 변수('Outcome')에 속한 값들의 비율과(value_counts 활용) 전체 데이터 앞 7개 값을 확인하세요."
   ]
  },
  {
   "cell_type": "code",
   "execution_count": 9,
   "id": "0151bab2",
   "metadata": {},
   "outputs": [],
   "source": [
    "data = pd.read_csv('./diabetes.csv')"
   ]
  },
  {
   "cell_type": "code",
   "execution_count": 10,
   "id": "7a1e3052",
   "metadata": {},
   "outputs": [
    {
     "data": {
      "text/html": [
       "<div>\n",
       "<style scoped>\n",
       "    .dataframe tbody tr th:only-of-type {\n",
       "        vertical-align: middle;\n",
       "    }\n",
       "\n",
       "    .dataframe tbody tr th {\n",
       "        vertical-align: top;\n",
       "    }\n",
       "\n",
       "    .dataframe thead th {\n",
       "        text-align: right;\n",
       "    }\n",
       "</style>\n",
       "<table border=\"1\" class=\"dataframe\">\n",
       "  <thead>\n",
       "    <tr style=\"text-align: right;\">\n",
       "      <th></th>\n",
       "      <th>Pregnancies</th>\n",
       "      <th>Glucose</th>\n",
       "      <th>BloodPressure</th>\n",
       "      <th>SkinThickness</th>\n",
       "      <th>Insulin</th>\n",
       "      <th>BMI</th>\n",
       "      <th>DiabetesPedigreeFunction</th>\n",
       "      <th>Age</th>\n",
       "      <th>Outcome</th>\n",
       "    </tr>\n",
       "  </thead>\n",
       "  <tbody>\n",
       "    <tr>\n",
       "      <th>0</th>\n",
       "      <td>6</td>\n",
       "      <td>148</td>\n",
       "      <td>72</td>\n",
       "      <td>35</td>\n",
       "      <td>0</td>\n",
       "      <td>33.6</td>\n",
       "      <td>0.627</td>\n",
       "      <td>50</td>\n",
       "      <td>1</td>\n",
       "    </tr>\n",
       "    <tr>\n",
       "      <th>1</th>\n",
       "      <td>1</td>\n",
       "      <td>85</td>\n",
       "      <td>66</td>\n",
       "      <td>29</td>\n",
       "      <td>0</td>\n",
       "      <td>26.6</td>\n",
       "      <td>0.351</td>\n",
       "      <td>31</td>\n",
       "      <td>0</td>\n",
       "    </tr>\n",
       "    <tr>\n",
       "      <th>2</th>\n",
       "      <td>8</td>\n",
       "      <td>183</td>\n",
       "      <td>64</td>\n",
       "      <td>0</td>\n",
       "      <td>0</td>\n",
       "      <td>23.3</td>\n",
       "      <td>0.672</td>\n",
       "      <td>32</td>\n",
       "      <td>1</td>\n",
       "    </tr>\n",
       "    <tr>\n",
       "      <th>3</th>\n",
       "      <td>1</td>\n",
       "      <td>89</td>\n",
       "      <td>66</td>\n",
       "      <td>23</td>\n",
       "      <td>94</td>\n",
       "      <td>28.1</td>\n",
       "      <td>0.167</td>\n",
       "      <td>21</td>\n",
       "      <td>0</td>\n",
       "    </tr>\n",
       "    <tr>\n",
       "      <th>4</th>\n",
       "      <td>0</td>\n",
       "      <td>137</td>\n",
       "      <td>40</td>\n",
       "      <td>35</td>\n",
       "      <td>168</td>\n",
       "      <td>43.1</td>\n",
       "      <td>2.288</td>\n",
       "      <td>33</td>\n",
       "      <td>1</td>\n",
       "    </tr>\n",
       "    <tr>\n",
       "      <th>5</th>\n",
       "      <td>5</td>\n",
       "      <td>116</td>\n",
       "      <td>74</td>\n",
       "      <td>0</td>\n",
       "      <td>0</td>\n",
       "      <td>25.6</td>\n",
       "      <td>0.201</td>\n",
       "      <td>30</td>\n",
       "      <td>0</td>\n",
       "    </tr>\n",
       "    <tr>\n",
       "      <th>6</th>\n",
       "      <td>3</td>\n",
       "      <td>78</td>\n",
       "      <td>50</td>\n",
       "      <td>32</td>\n",
       "      <td>88</td>\n",
       "      <td>31.0</td>\n",
       "      <td>0.248</td>\n",
       "      <td>26</td>\n",
       "      <td>1</td>\n",
       "    </tr>\n",
       "  </tbody>\n",
       "</table>\n",
       "</div>"
      ],
      "text/plain": [
       "   Pregnancies  Glucose  BloodPressure  SkinThickness  Insulin   BMI  \\\n",
       "0            6      148             72             35        0  33.6   \n",
       "1            1       85             66             29        0  26.6   \n",
       "2            8      183             64              0        0  23.3   \n",
       "3            1       89             66             23       94  28.1   \n",
       "4            0      137             40             35      168  43.1   \n",
       "5            5      116             74              0        0  25.6   \n",
       "6            3       78             50             32       88  31.0   \n",
       "\n",
       "   DiabetesPedigreeFunction  Age  Outcome  \n",
       "0                     0.627   50        1  \n",
       "1                     0.351   31        0  \n",
       "2                     0.672   32        1  \n",
       "3                     0.167   21        0  \n",
       "4                     2.288   33        1  \n",
       "5                     0.201   30        0  \n",
       "6                     0.248   26        1  "
      ]
     },
     "execution_count": 10,
     "metadata": {},
     "output_type": "execute_result"
    }
   ],
   "source": [
    "data.head(7)"
   ]
  },
  {
   "attachments": {},
   "cell_type": "markdown",
   "id": "f6dd4f65",
   "metadata": {},
   "source": [
    "1.3 데이터의 feature 타입과 Null 개수를 확인하세요."
   ]
  },
  {
   "cell_type": "code",
   "execution_count": 11,
   "id": "454b0638",
   "metadata": {},
   "outputs": [
    {
     "data": {
      "text/plain": [
       "(768, 9)"
      ]
     },
     "metadata": {},
     "output_type": "display_data"
    },
    {
     "data": {
      "text/plain": [
       "Pregnancies                 0\n",
       "Glucose                     0\n",
       "BloodPressure               0\n",
       "SkinThickness               0\n",
       "Insulin                     0\n",
       "BMI                         0\n",
       "DiabetesPedigreeFunction    0\n",
       "Age                         0\n",
       "Outcome                     0\n",
       "dtype: int64"
      ]
     },
     "execution_count": 11,
     "metadata": {},
     "output_type": "execute_result"
    }
   ],
   "source": [
    "display(data.shape)\n",
    "\n",
    "data.isnull().sum() ## 결측치 없넹"
   ]
  },
  {
   "cell_type": "code",
   "execution_count": 28,
   "id": "23d7e4ce",
   "metadata": {},
   "outputs": [
    {
     "data": {
      "text/plain": [
       "0    500\n",
       "1    268\n",
       "Name: Outcome, dtype: int64"
      ]
     },
     "execution_count": 28,
     "metadata": {},
     "output_type": "execute_result"
    }
   ],
   "source": [
    "data.Outcome.value_counts()"
   ]
  },
  {
   "attachments": {},
   "cell_type": "markdown",
   "id": "88c1f46f",
   "metadata": {},
   "source": [
    "### 훈련데이터, target 데이터 나누기 준비"
   ]
  },
  {
   "attachments": {},
   "cell_type": "markdown",
   "id": "1c2b0922",
   "metadata": {},
   "source": [
    "1.4 예측을 위해 데이터를 feature 데이터 셋과 target 데이터 셋으로 나누세요."
   ]
  },
  {
   "cell_type": "code",
   "execution_count": 12,
   "id": "f6a262bc",
   "metadata": {},
   "outputs": [],
   "source": [
    "X = data.drop('Outcome', axis=1) ##.drop에서는 바로 컬럼만 입력하면 됨\n",
    "y = data['Outcome']"
   ]
  },
  {
   "attachments": {},
   "cell_type": "markdown",
   "id": "2518708d",
   "metadata": {},
   "source": [
    "1.5 X와 y로 나눈 데이터 셋을 다시 train, test로 나누세요(test_size = 0.3, random_state=123, stratify=y)."
   ]
  },
  {
   "cell_type": "code",
   "execution_count": 25,
   "id": "87bea91d",
   "metadata": {},
   "outputs": [],
   "source": [
    "# 트테트테로 외우기\n",
    "X_train, X_test, y_train, y_test = train_test_split(X, y, test_size = 0.3, random_state=123, shuffle = True, stratify=y) ##stratify = y 설정하면, y의 클래스에 맞춰서 데이터 target 불균형 맞출 수 있음"
   ]
  },
  {
   "attachments": {},
   "cell_type": "markdown",
   "id": "ed2023c5",
   "metadata": {},
   "source": [
    "1.6 test size는 어느정도로 해야 좋은지 그리고 왜 그래야 하는지 작성하세요."
   ]
  },
  {
   "attachments": {},
   "cell_type": "markdown",
   "id": "5eb83893",
   "metadata": {},
   "source": [
    "데이터의 개수에 따라서 test_size를 조절해야하지만, 데이터가768개 밖에 없는데 0.3은 좀 많지 않은가 생각이 들긴 함! 0.2개로 하고 cross valitdaion하는게 더 이득!"
   ]
  },
  {
   "attachments": {},
   "cell_type": "markdown",
   "id": "871333e4",
   "metadata": {},
   "source": [
    "1.7 startify 값을 설정하는 이유와 언제 주로 사용되는지 서술하세요."
   ]
  },
  {
   "attachments": {},
   "cell_type": "markdown",
   "id": "1d0511d8",
   "metadata": {},
   "source": [
    "클래스 불균형 할 때, stratify를 설정해서 특정 칼럼을 기준으로 비율 맞춰서 진행해주는 것"
   ]
  },
  {
   "attachments": {},
   "cell_type": "markdown",
   "id": "acd30d2f",
   "metadata": {},
   "source": [
    "### 2. 예측 및 분석"
   ]
  },
  {
   "attachments": {},
   "cell_type": "markdown",
   "id": "de781b8e",
   "metadata": {},
   "source": [
    "2.1 성능 평가에 사용될 함수를 만들어보겠습니다. accuracy_score, precision_score, recall_score, confusion_matrix, f1_score, roc_auc_score로 구성되어 있으며 이를 한번에 출력할 수 있도록 합니다."
   ]
  },
  {
   "cell_type": "code",
   "execution_count": 26,
   "id": "bb9c54d5",
   "metadata": {},
   "outputs": [],
   "source": [
    "## pred: 모델이 데이터 포인트가 속한다고 예측한 클래스 레이블 / pred_proba: 모델이 각 클래스에 대해 예측한 확률 (확신 정도)\n",
    "def clf_eval(y_test, pred=None, pred_proba=None):\n",
    "    # 오차행렬\n",
    "    confusion = confusion_matrix(y_test, pred)\n",
    "\n",
    "    # 정확도\n",
    "    accuracy = accuracy_score(y_test, pred)\n",
    "\n",
    "    # 정밀도\n",
    "    precision = precision_score(y_test, pred)\n",
    "\n",
    "    # 재현율\n",
    "    recall = recall_score(y_test, pred)\n",
    "\n",
    "    # F1 스코어\n",
    "    f1 = f1_score(y_test, pred)\n",
    "\n",
    "    # ROC-AUC 스코어\n",
    "    roc_auc = roc_auc_score(y_test, pred_proba)\n",
    "\n",
    "    print('오차 행렬,\\n', confusion)\n",
    "    print('정확도: {0:.4f}, 정밀도: {1:.4f}, 재현율: {2:4f}, F1: {3:.4f}, AUC:{4:.4f}'.format(accuracy, precision, recall, f1, roc_auc))"
   ]
  },
  {
   "attachments": {},
   "cell_type": "markdown",
   "id": "33af2436",
   "metadata": {},
   "source": [
    "2. 위에서 사용한 성능지표인 Confusion Matrix에 대해 설명하세요."
   ]
  },
  {
   "attachments": {},
   "cell_type": "markdown",
   "id": "625d7478",
   "metadata": {},
   "source": [
    "분류 문제에서 모델의 성능을 평가하는 도구. 실제 클래스와 모델에 의해 예측된 클래스를 요약하여 보여줌.\n",
    "\n",
    "정확도, 정밀도, 재현율, f1 score등의 세부 정보를 볼 수 있음"
   ]
  },
  {
   "attachments": {},
   "cell_type": "markdown",
   "id": "3a49223e",
   "metadata": {},
   "source": [
    "2.2 로지스틱 회귀로 예측 후 위에서 만든 clf_eval() 함수를 통해 잘 예측했는지 확인하세요(solver='linear'로 설정, 예측 변수명은 pred, pred_proba)."
   ]
  },
  {
   "cell_type": "code",
   "execution_count": 27,
   "id": "01d6bced",
   "metadata": {},
   "outputs": [
    {
     "name": "stdout",
     "output_type": "stream",
     "text": [
      "오차 행렬,\n",
      " [[134  16]\n",
      " [ 39  42]]\n",
      "정확도: 0.7619, 정밀도: 0.7241, 재현율: 0.518519, F1: 0.6043, AUC:0.8433\n"
     ]
    }
   ],
   "source": [
    "lr = LogisticRegression(solver='liblinear', random_state=123) #특정 솔버들은 GD, SGD, MBFD등 사용. 이 과정에서 데이터 포인트의 순서를 무작위로 섞으니 random_state설정해서 재현성 보장\n",
    "lr.fit(X_train ,y_train)\n",
    "\n",
    "#예측\n",
    "pred = lr.predict(X_test)\n",
    "pred_proba = lr.predict_proba(X_test)[:, 1] # 양성 클래스에 대한 확률\n",
    "\n",
    "clf_eval(y_test, pred, pred_proba)"
   ]
  },
  {
   "attachments": {},
   "cell_type": "markdown",
   "id": "112c16c5",
   "metadata": {},
   "source": [
    "2.3 LogisticRegression에서 solver 파라미터의 역할과 어떤 것들이 있고 각각은 무엇을 의미하는지 작성하세요."
   ]
  },
  {
   "attachments": {},
   "cell_type": "markdown",
   "id": "901047a6",
   "metadata": {},
   "source": [
    "LogisticRegression에서 solver는 'liblinear', 'newton-cg', 'lbfgs', 'sag', 'saga'가 있음\n",
    "\n",
    "liblinear은 작은 데이터셋, 이진 분류에 적합\n",
    "나머지는 큰 데이터셋, 다중분류에 적합\n",
    "\n",
    "1. liblinear: l1, l2 규제와 함께 사용. 좌표하강법을 사용하여 각 반복에서 하나의 파라미터를 최적화\n",
    "2. newton-cg, lbfgs: L2 규제를 사용할 때 권장. 뉴턴 방법의 변형을 사용하여 손실 함수의 최소값 찾음. 손실 함수의 두 번째 도함수(헤시안)을 사용하여 파라미터 업데이트에 필요한 방향과 크기를 계산. 더 정확한 해를 찾을 수 있으며, 메모리를 효율적으로 사용\n",
    "3. sag, sage: 확률적 경사하강법의 변형. 과거의 기울기를 평균하여 업데이트에 사용. l1규제에 더 잘 대응\n"
   ]
  },
  {
   "attachments": {},
   "cell_type": "markdown",
   "id": "e1e44954",
   "metadata": {},
   "source": [
    "2.4 pred와 pred_proba는 각각 어떤 차이가 있는지 작성하세요."
   ]
  },
  {
   "attachments": {},
   "cell_type": "markdown",
   "id": "184a809e",
   "metadata": {},
   "source": [
    "pred는 특정 클래스로 예측한 값\n",
    "\n",
    "pred_proba는 특정 클래스로 예측한 확률"
   ]
  },
  {
   "attachments": {},
   "cell_type": "markdown",
   "id": "483c0607",
   "metadata": {},
   "source": [
    "2.5 전체 데이터 중 약 65%가 Negative이므로 재현율 성능에 조첨을 맞추겠습니다. 정밀도 재현율 curve를 보고 임계값 별 정밀도 재현율 값의 변화를 확인하기 위해 이를 위한 함수를 작성하겠습니다."
   ]
  },
  {
   "cell_type": "code",
   "execution_count": 29,
   "id": "e83cea6f",
   "metadata": {},
   "outputs": [],
   "source": [
    "def precision_recall_curve_plot(y_test, pred_proba_c1):\n",
    "    #threshold ndarray와 이 threshold에 따른 정밀도, 재현율 ndarray 추출.\n",
    "    precisions, recalls, thresholds = precision_recall_curve(y_test, pred_proba_c1)\n",
    "    \n",
    "    #X축을 threshold값으로, Y축은 정밀도, 재현율 값으로 각각 Plot 수행, 정밀도는 점선으로 표시\n",
    "    plt.figure(figsize=(8,6))\n",
    "    threshold_boundary = thresholds.shape[0]\n",
    "    plt.plot(thresholds, precisions[0:threshold_boundary], linestyle='--', label='precision')\n",
    "    plt.plot(thresholds, recalls[0:threshold_boundary], label='recall')\n",
    "    \n",
    "    #threshold 값 X축의 Scale을 0.1단위로 변경\n",
    "    start, end = plt.xlim()\n",
    "    plt.xticks(np.round(np.arange(start, end, 0.1), 2))\n",
    "    \n",
    "    #X축, y축 label과 legend, grid 설정\n",
    "    ### 직접 작성(xlabel - 'Threshold value', ylabel = 'Precision and Recall value'), legend, grid는 default값으로\n",
    "    plt.xlabel('Threshold value')\n",
    "    plt.ylabel('Prevision and Recall value')\n",
    "    plt.legend()\n",
    "    plt.grid(True)\n",
    "    \n",
    "    plt.show()"
   ]
  },
  {
   "attachments": {},
   "cell_type": "markdown",
   "id": "ba2eb473",
   "metadata": {},
   "source": [
    "2.6 작성한 함수를 바탕으로 임계값 별 정밀도와 재현율 값 변화를 확인하세요."
   ]
  },
  {
   "cell_type": "code",
   "execution_count": 40,
   "id": "ec2b0147",
   "metadata": {},
   "outputs": [
    {
     "data": {
      "image/png": "[encoded data removed]",
      "text/plain": [
       "<Figure size 800x600 with 1 Axes>"
      ]
     },
     "metadata": {},
     "output_type": "display_data"
    }
   ],
   "source": [
    "pred_proba_c1 = lr_clf.predict_proba(X_test)[:,1]\n",
    "precision_recall_curve_plot(y_test, pred_proba_c1)"
   ]
  },
  {
   "attachments": {},
   "cell_type": "markdown",
   "id": "2586f757",
   "metadata": {},
   "source": [
    "2.7 그래프를 통해 확인했을 때 Threshold를 0.38정도로 설정했을 때 recall과 precision이 어느정도 균형이 맞음을 알 수 있습니다. 그러나 두 지표 모두 0.7 이하로 낮은 값이기에 다시 확인하도록 하겠습니다. 먼저 describe() 함수를 통해 개별 feature에 대한 분포도를 확인하세요."
   ]
  },
  {
   "cell_type": "code",
   "execution_count": null,
   "id": "265ee3ae",
   "metadata": {},
   "outputs": [],
   "source": []
  },
  {
   "attachments": {},
   "cell_type": "markdown",
   "id": "d36a1a64",
   "metadata": {},
   "source": [
    "2.8 위에서 확인해봤을 때 min 값이 0으로 되어 있는 feature가 다수 존재합니다. Glucose(포도당 수치), BMI 지수가 0인 것은 말이 안 되므로 이들을 평균값으로 대체하세요."
   ]
  },
  {
   "cell_type": "code",
   "execution_count": 43,
   "id": "7597ffcf",
   "metadata": {},
   "outputs": [
    {
     "data": {
      "text/html": [
       "<div>\n",
       "<style scoped>\n",
       "    .dataframe tbody tr th:only-of-type {\n",
       "        vertical-align: middle;\n",
       "    }\n",
       "\n",
       "    .dataframe tbody tr th {\n",
       "        vertical-align: top;\n",
       "    }\n",
       "\n",
       "    .dataframe thead th {\n",
       "        text-align: right;\n",
       "    }\n",
       "</style>\n",
       "<table border=\"1\" class=\"dataframe\">\n",
       "  <thead>\n",
       "    <tr style=\"text-align: right;\">\n",
       "      <th></th>\n",
       "      <th>Pregnancies</th>\n",
       "      <th>Glucose</th>\n",
       "      <th>BloodPressure</th>\n",
       "      <th>SkinThickness</th>\n",
       "      <th>Insulin</th>\n",
       "      <th>BMI</th>\n",
       "      <th>DiabetesPedigreeFunction</th>\n",
       "      <th>Age</th>\n",
       "      <th>Outcome</th>\n",
       "    </tr>\n",
       "  </thead>\n",
       "  <tbody>\n",
       "    <tr>\n",
       "      <th>count</th>\n",
       "      <td>768.000000</td>\n",
       "      <td>768.000000</td>\n",
       "      <td>768.000000</td>\n",
       "      <td>768.000000</td>\n",
       "      <td>768.000000</td>\n",
       "      <td>768.000000</td>\n",
       "      <td>768.000000</td>\n",
       "      <td>768.000000</td>\n",
       "      <td>768.000000</td>\n",
       "    </tr>\n",
       "    <tr>\n",
       "      <th>mean</th>\n",
       "      <td>3.845052</td>\n",
       "      <td>121.681605</td>\n",
       "      <td>72.254807</td>\n",
       "      <td>26.606479</td>\n",
       "      <td>118.660163</td>\n",
       "      <td>32.450805</td>\n",
       "      <td>0.471876</td>\n",
       "      <td>33.240885</td>\n",
       "      <td>0.348958</td>\n",
       "    </tr>\n",
       "    <tr>\n",
       "      <th>std</th>\n",
       "      <td>3.369578</td>\n",
       "      <td>30.436016</td>\n",
       "      <td>12.115932</td>\n",
       "      <td>9.631241</td>\n",
       "      <td>93.080358</td>\n",
       "      <td>6.875374</td>\n",
       "      <td>0.331329</td>\n",
       "      <td>11.760232</td>\n",
       "      <td>0.476951</td>\n",
       "    </tr>\n",
       "    <tr>\n",
       "      <th>min</th>\n",
       "      <td>0.000000</td>\n",
       "      <td>44.000000</td>\n",
       "      <td>24.000000</td>\n",
       "      <td>7.000000</td>\n",
       "      <td>14.000000</td>\n",
       "      <td>18.200000</td>\n",
       "      <td>0.078000</td>\n",
       "      <td>21.000000</td>\n",
       "      <td>0.000000</td>\n",
       "    </tr>\n",
       "    <tr>\n",
       "      <th>25%</th>\n",
       "      <td>1.000000</td>\n",
       "      <td>99.750000</td>\n",
       "      <td>64.000000</td>\n",
       "      <td>20.536458</td>\n",
       "      <td>79.799479</td>\n",
       "      <td>27.500000</td>\n",
       "      <td>0.243750</td>\n",
       "      <td>24.000000</td>\n",
       "      <td>0.000000</td>\n",
       "    </tr>\n",
       "    <tr>\n",
       "      <th>50%</th>\n",
       "      <td>3.000000</td>\n",
       "      <td>117.000000</td>\n",
       "      <td>72.000000</td>\n",
       "      <td>23.000000</td>\n",
       "      <td>79.799479</td>\n",
       "      <td>32.000000</td>\n",
       "      <td>0.372500</td>\n",
       "      <td>29.000000</td>\n",
       "      <td>0.000000</td>\n",
       "    </tr>\n",
       "    <tr>\n",
       "      <th>75%</th>\n",
       "      <td>6.000000</td>\n",
       "      <td>140.250000</td>\n",
       "      <td>80.000000</td>\n",
       "      <td>32.000000</td>\n",
       "      <td>127.250000</td>\n",
       "      <td>36.600000</td>\n",
       "      <td>0.626250</td>\n",
       "      <td>41.000000</td>\n",
       "      <td>1.000000</td>\n",
       "    </tr>\n",
       "    <tr>\n",
       "      <th>max</th>\n",
       "      <td>17.000000</td>\n",
       "      <td>199.000000</td>\n",
       "      <td>122.000000</td>\n",
       "      <td>99.000000</td>\n",
       "      <td>846.000000</td>\n",
       "      <td>67.100000</td>\n",
       "      <td>2.420000</td>\n",
       "      <td>81.000000</td>\n",
       "      <td>1.000000</td>\n",
       "    </tr>\n",
       "  </tbody>\n",
       "</table>\n",
       "</div>"
      ],
      "text/plain": [
       "       Pregnancies     Glucose  BloodPressure  SkinThickness     Insulin  \\\n",
       "count   768.000000  768.000000     768.000000     768.000000  768.000000   \n",
       "mean      3.845052  121.681605      72.254807      26.606479  118.660163   \n",
       "std       3.369578   30.436016      12.115932       9.631241   93.080358   \n",
       "min       0.000000   44.000000      24.000000       7.000000   14.000000   \n",
       "25%       1.000000   99.750000      64.000000      20.536458   79.799479   \n",
       "50%       3.000000  117.000000      72.000000      23.000000   79.799479   \n",
       "75%       6.000000  140.250000      80.000000      32.000000  127.250000   \n",
       "max      17.000000  199.000000     122.000000      99.000000  846.000000   \n",
       "\n",
       "              BMI  DiabetesPedigreeFunction         Age     Outcome  \n",
       "count  768.000000                768.000000  768.000000  768.000000  \n",
       "mean    32.450805                  0.471876   33.240885    0.348958  \n",
       "std      6.875374                  0.331329   11.760232    0.476951  \n",
       "min     18.200000                  0.078000   21.000000    0.000000  \n",
       "25%     27.500000                  0.243750   24.000000    0.000000  \n",
       "50%     32.000000                  0.372500   29.000000    0.000000  \n",
       "75%     36.600000                  0.626250   41.000000    1.000000  \n",
       "max     67.100000                  2.420000   81.000000    1.000000  "
      ]
     },
     "execution_count": 43,
     "metadata": {},
     "output_type": "execute_result"
    }
   ],
   "source": [
    "### Glucose, BloodPressure, SkinThickness, Insulin, BMI에 대해 평균값으로 대체\n"
   ]
  },
  {
   "attachments": {},
   "cell_type": "markdown",
   "id": "b1fecb4f",
   "metadata": {},
   "source": [
    "2.9 이후 대체한 feature들에 대해 feature scaling을 진행하겠습니다. 모두 numeric feature이므로 X에 대해 StandardScaler를 일괄 적용하세요."
   ]
  },
  {
   "cell_type": "code",
   "execution_count": null,
   "id": "0d3dc279",
   "metadata": {},
   "outputs": [],
   "source": []
  },
  {
   "attachments": {},
   "cell_type": "markdown",
   "id": "799fbfbf",
   "metadata": {},
   "source": [
    "2.10 feature scaling은 왜 사용하고 어떤 것들이 있는지 작성하세요."
   ]
  },
  {
   "attachments": {},
   "cell_type": "markdown",
   "id": "484a9f1e",
   "metadata": {},
   "source": []
  },
  {
   "attachments": {},
   "cell_type": "markdown",
   "id": "d6e7ca19",
   "metadata": {},
   "source": [
    "2.11 다시 에측하기에 앞서 위에서 scaling을 통해 변경된 X_scaled를 활용해 다시 train_test_split을 진행하세요(함수 파라미터 동일)."
   ]
  },
  {
   "cell_type": "code",
   "execution_count": 66,
   "id": "a8e6a633",
   "metadata": {},
   "outputs": [],
   "source": []
  },
  {
   "attachments": {},
   "cell_type": "markdown",
   "id": "bb9b80c8",
   "metadata": {},
   "source": [
    "2.12 로지스틱 회귀로 앞서 진행한 것과 동일하게 진행하세요."
   ]
  },
  {
   "cell_type": "code",
   "execution_count": 67,
   "id": "e14a4d59",
   "metadata": {},
   "outputs": [
    {
     "name": "stdout",
     "output_type": "stream",
     "text": [
      "오차 행렬,\n",
      " [[132  18]\n",
      " [ 39  42]]\n",
      "정확도: 0.7532, 정밀도: 0.7000, 재현율: 0.518519, F1: 0.5957, AUC:0.8585\n"
     ]
    }
   ],
   "source": []
  },
  {
   "attachments": {},
   "cell_type": "markdown",
   "id": "21e2586a",
   "metadata": {},
   "source": [
    "### 3. 자유 분석\n",
    "성능을 높일 수 있는 방법들을 활용해 예측을 진행하세요."
   ]
  },
  {
   "cell_type": "code",
   "execution_count": null,
   "id": "eb61e9f0",
   "metadata": {},
   "outputs": [],
   "source": []
  },
  {
   "cell_type": "code",
   "execution_count": null,
   "id": "215c229e",
   "metadata": {},
   "outputs": [],
   "source": []
  },
  {
   "cell_type": "code",
   "execution_count": null,
   "id": "a16dd1bc",
   "metadata": {},
   "outputs": [],
   "source": []
  }
 ],
 "metadata": {
  "kernelspec": {
   "display_name": "Python 3 (ipykernel)",
   "language": "python",
   "name": "python3"
  },
  "language_info": {
   "codemirror_mode": {
    "name": "ipython",
    "version": 3
   },
   "file_extension": ".py",
   "mimetype": "text/x-python",
   "name": "python",
   "nbconvert_exporter": "python",
   "pygments_lexer": "ipython3",
   "version": "3.7.9"
  }
 },
 "nbformat": 4,
 "nbformat_minor": 5
}
