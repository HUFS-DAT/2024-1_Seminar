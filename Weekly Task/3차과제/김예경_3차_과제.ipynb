{
  "cells": [
    {
      "cell_type": "markdown",
      "id": "d3f0c127",
      "metadata": {
        "id": "d3f0c127"
      },
      "source": [
        "## 3차 과제 - 당뇨병을 예측해보자\n",
        "- 주제: 데이터 분석 실습(머신러닝)\n",
        "- 데이터: 피마 인디언 당뇨병 데이터\n",
        "https://www.kaggle.com/datasets/uciml/pima-indians-diabetes-database\n",
        "- 사용 라이브러리: numpy, pandas, matplotlib, sklearn\n"
      ]
    },
    {
      "cell_type": "markdown",
      "id": "2d2ec1cc",
      "metadata": {
        "id": "2d2ec1cc"
      },
      "source": [
        "### 1. EDA, 전처리"
      ]
    },
    {
      "cell_type": "markdown",
      "id": "70e922c4",
      "metadata": {
        "id": "70e922c4"
      },
      "source": [
        "1.1 분석을 위해 사용될 라이브러리들을 import 하세요.\n",
        "\n",
        "numpy, pandas, matplotlib, sklearn(train_test_split, accurarcy_score, precision_score, recall_score, roc_auc_score, f1_score, confusion_matrix, precision_recall_curve, roc_curve, StandardScaler, LogisticRegression)"
      ]
    },
    {
      "cell_type": "code",
      "execution_count": 1,
      "id": "077ca065",
      "metadata": {
        "id": "077ca065"
      },
      "outputs": [],
      "source": [
        "import numpy as np\n",
        "import pandas as pd\n",
        "import matplotlib.pyplot as plt\n",
        "import sklearn"
      ]
    },
    {
      "cell_type": "markdown",
      "id": "79ca750c",
      "metadata": {
        "id": "79ca750c"
      },
      "source": [
        "1.2 데이터를 불러오고 타겟 변수('Outcome')에 속한 값들의 비율과(value_counts 활용) 전체 데이터 앞 7개 값을 확인하세요."
      ]
    },
    {
      "cell_type": "code",
      "execution_count": 2,
      "id": "0151bab2",
      "metadata": {
        "colab": {
          "base_uri": "https://localhost:8080/",
          "height": 287
        },
        "id": "0151bab2",
        "outputId": "bef5e48d-3b68-4ab4-ddf6-bf5a0b942bb9"
      },
      "outputs": [
        {
          "output_type": "stream",
          "name": "stdout",
          "text": [
            "Drive already mounted at /content/gdrive; to attempt to forcibly remount, call drive.mount(\"/content/gdrive\", force_remount=True).\n"
          ]
        },
        {
          "output_type": "execute_result",
          "data": {
            "text/plain": [
              "   Pregnancies  Glucose  BloodPressure  SkinThickness  Insulin   BMI  \\\n",
              "0            6      148             72             35        0  33.6   \n",
              "1            1       85             66             29        0  26.6   \n",
              "2            8      183             64              0        0  23.3   \n",
              "3            1       89             66             23       94  28.1   \n",
              "4            0      137             40             35      168  43.1   \n",
              "5            5      116             74              0        0  25.6   \n",
              "6            3       78             50             32       88  31.0   \n",
              "\n",
              "   DiabetesPedigreeFunction  Age  Outcome  \n",
              "0                     0.627   50        1  \n",
              "1                     0.351   31        0  \n",
              "2                     0.672   32        1  \n",
              "3                     0.167   21        0  \n",
              "4                     2.288   33        1  \n",
              "5                     0.201   30        0  \n",
              "6                     0.248   26        1  "
            ],
            "text/html": [
              "\n",
              "  <div id=\"df-8c67ee2e-56ba-4b1d-b949-3dd1510e801b\" class=\"colab-df-container\">\n",
              "    <div>\n",
              "<style scoped>\n",
              "    .dataframe tbody tr th:only-of-type {\n",
              "        vertical-align: middle;\n",
              "    }\n",
              "\n",
              "    .dataframe tbody tr th {\n",
              "        vertical-align: top;\n",
              "    }\n",
              "\n",
              "    .dataframe thead th {\n",
              "        text-align: right;\n",
              "    }\n",
              "</style>\n",
              "<table border=\"1\" class=\"dataframe\">\n",
              "  <thead>\n",
              "    <tr style=\"text-align: right;\">\n",
              "      <th></th>\n",
              "      <th>Pregnancies</th>\n",
              "      <th>Glucose</th>\n",
              "      <th>BloodPressure</th>\n",
              "      <th>SkinThickness</th>\n",
              "      <th>Insulin</th>\n",
              "      <th>BMI</th>\n",
              "      <th>DiabetesPedigreeFunction</th>\n",
              "      <th>Age</th>\n",
              "      <th>Outcome</th>\n",
              "    </tr>\n",
              "  </thead>\n",
              "  <tbody>\n",
              "    <tr>\n",
              "      <th>0</th>\n",
              "      <td>6</td>\n",
              "      <td>148</td>\n",
              "      <td>72</td>\n",
              "      <td>35</td>\n",
              "      <td>0</td>\n",
              "      <td>33.6</td>\n",
              "      <td>0.627</td>\n",
              "      <td>50</td>\n",
              "      <td>1</td>\n",
              "    </tr>\n",
              "    <tr>\n",
              "      <th>1</th>\n",
              "      <td>1</td>\n",
              "      <td>85</td>\n",
              "      <td>66</td>\n",
              "      <td>29</td>\n",
              "      <td>0</td>\n",
              "      <td>26.6</td>\n",
              "      <td>0.351</td>\n",
              "      <td>31</td>\n",
              "      <td>0</td>\n",
              "    </tr>\n",
              "    <tr>\n",
              "      <th>2</th>\n",
              "      <td>8</td>\n",
              "      <td>183</td>\n",
              "      <td>64</td>\n",
              "      <td>0</td>\n",
              "      <td>0</td>\n",
              "      <td>23.3</td>\n",
              "      <td>0.672</td>\n",
              "      <td>32</td>\n",
              "      <td>1</td>\n",
              "    </tr>\n",
              "    <tr>\n",
              "      <th>3</th>\n",
              "      <td>1</td>\n",
              "      <td>89</td>\n",
              "      <td>66</td>\n",
              "      <td>23</td>\n",
              "      <td>94</td>\n",
              "      <td>28.1</td>\n",
              "      <td>0.167</td>\n",
              "      <td>21</td>\n",
              "      <td>0</td>\n",
              "    </tr>\n",
              "    <tr>\n",
              "      <th>4</th>\n",
              "      <td>0</td>\n",
              "      <td>137</td>\n",
              "      <td>40</td>\n",
              "      <td>35</td>\n",
              "      <td>168</td>\n",
              "      <td>43.1</td>\n",
              "      <td>2.288</td>\n",
              "      <td>33</td>\n",
              "      <td>1</td>\n",
              "    </tr>\n",
              "    <tr>\n",
              "      <th>5</th>\n",
              "      <td>5</td>\n",
              "      <td>116</td>\n",
              "      <td>74</td>\n",
              "      <td>0</td>\n",
              "      <td>0</td>\n",
              "      <td>25.6</td>\n",
              "      <td>0.201</td>\n",
              "      <td>30</td>\n",
              "      <td>0</td>\n",
              "    </tr>\n",
              "    <tr>\n",
              "      <th>6</th>\n",
              "      <td>3</td>\n",
              "      <td>78</td>\n",
              "      <td>50</td>\n",
              "      <td>32</td>\n",
              "      <td>88</td>\n",
              "      <td>31.0</td>\n",
              "      <td>0.248</td>\n",
              "      <td>26</td>\n",
              "      <td>1</td>\n",
              "    </tr>\n",
              "  </tbody>\n",
              "</table>\n",
              "</div>\n",
              "    <div class=\"colab-df-buttons\">\n",
              "\n",
              "  <div class=\"colab-df-container\">\n",
              "    <button class=\"colab-df-convert\" onclick=\"convertToInteractive('df-8c67ee2e-56ba-4b1d-b949-3dd1510e801b')\"\n",
              "            title=\"Convert this dataframe to an interactive table.\"\n",
              "            style=\"display:none;\">\n",
              "\n",
              "  <svg xmlns=\"http://www.w3.org/2000/svg\" height=\"24px\" viewBox=\"0 -960 960 960\">\n",
              "    <path d=\"M120-120v-720h720v720H120Zm60-500h600v-160H180v160Zm220 220h160v-160H400v160Zm0 220h160v-160H400v160ZM180-400h160v-160H180v160Zm440 0h160v-160H620v160ZM180-180h160v-160H180v160Zm440 0h160v-160H620v160Z\"/>\n",
              "  </svg>\n",
              "    </button>\n",
              "\n",
              "  <style>\n",
              "    .colab-df-container {\n",
              "      display:flex;\n",
              "      gap: 12px;\n",
              "    }\n",
              "\n",
              "    .colab-df-convert {\n",
              "      background-color: #E8F0FE;\n",
              "      border: none;\n",
              "      border-radius: 50%;\n",
              "      cursor: pointer;\n",
              "      display: none;\n",
              "      fill: #1967D2;\n",
              "      height: 32px;\n",
              "      padding: 0 0 0 0;\n",
              "      width: 32px;\n",
              "    }\n",
              "\n",
              "    .colab-df-convert:hover {\n",
              "      background-color: #E2EBFA;\n",
              "      box-shadow: 0px 1px 2px rgba(60, 64, 67, 0.3), 0px 1px 3px 1px rgba(60, 64, 67, 0.15);\n",
              "      fill: #174EA6;\n",
              "    }\n",
              "\n",
              "    .colab-df-buttons div {\n",
              "      margin-bottom: 4px;\n",
              "    }\n",
              "\n",
              "    [theme=dark] .colab-df-convert {\n",
              "      background-color: #3B4455;\n",
              "      fill: #D2E3FC;\n",
              "    }\n",
              "\n",
              "    [theme=dark] .colab-df-convert:hover {\n",
              "      background-color: #434B5C;\n",
              "      box-shadow: 0px 1px 3px 1px rgba(0, 0, 0, 0.15);\n",
              "      filter: drop-shadow(0px 1px 2px rgba(0, 0, 0, 0.3));\n",
              "      fill: #FFFFFF;\n",
              "    }\n",
              "  </style>\n",
              "\n",
              "    <script>\n",
              "      const buttonEl =\n",
              "        document.querySelector('#df-8c67ee2e-56ba-4b1d-b949-3dd1510e801b button.colab-df-convert');\n",
              "      buttonEl.style.display =\n",
              "        google.colab.kernel.accessAllowed ? 'block' : 'none';\n",
              "\n",
              "      async function convertToInteractive(key) {\n",
              "        const element = document.querySelector('#df-8c67ee2e-56ba-4b1d-b949-3dd1510e801b');\n",
              "        const dataTable =\n",
              "          await google.colab.kernel.invokeFunction('convertToInteractive',\n",
              "                                                    [key], {});\n",
              "        if (!dataTable) return;\n",
              "\n",
              "        const docLinkHtml = 'Like what you see? Visit the ' +\n",
              "          '<a target=\"_blank\" href=https://colab.research.google.com/notebooks/data_table.ipynb>data table notebook</a>'\n",
              "          + ' to learn more about interactive tables.';\n",
              "        element.innerHTML = '';\n",
              "        dataTable['output_type'] = 'display_data';\n",
              "        await google.colab.output.renderOutput(dataTable, element);\n",
              "        const docLink = document.createElement('div');\n",
              "        docLink.innerHTML = docLinkHtml;\n",
              "        element.appendChild(docLink);\n",
              "      }\n",
              "    </script>\n",
              "  </div>\n",
              "\n",
              "\n",
              "<div id=\"df-237b8812-65b3-430b-a998-b9a32c58074f\">\n",
              "  <button class=\"colab-df-quickchart\" onclick=\"quickchart('df-237b8812-65b3-430b-a998-b9a32c58074f')\"\n",
              "            title=\"Suggest charts\"\n",
              "            style=\"display:none;\">\n",
              "\n",
              "<svg xmlns=\"http://www.w3.org/2000/svg\" height=\"24px\"viewBox=\"0 0 24 24\"\n",
              "     width=\"24px\">\n",
              "    <g>\n",
              "        <path d=\"M19 3H5c-1.1 0-2 .9-2 2v14c0 1.1.9 2 2 2h14c1.1 0 2-.9 2-2V5c0-1.1-.9-2-2-2zM9 17H7v-7h2v7zm4 0h-2V7h2v10zm4 0h-2v-4h2v4z\"/>\n",
              "    </g>\n",
              "</svg>\n",
              "  </button>\n",
              "\n",
              "<style>\n",
              "  .colab-df-quickchart {\n",
              "      --bg-color: #E8F0FE;\n",
              "      --fill-color: #1967D2;\n",
              "      --hover-bg-color: #E2EBFA;\n",
              "      --hover-fill-color: #174EA6;\n",
              "      --disabled-fill-color: #AAA;\n",
              "      --disabled-bg-color: #DDD;\n",
              "  }\n",
              "\n",
              "  [theme=dark] .colab-df-quickchart {\n",
              "      --bg-color: #3B4455;\n",
              "      --fill-color: #D2E3FC;\n",
              "      --hover-bg-color: #434B5C;\n",
              "      --hover-fill-color: #FFFFFF;\n",
              "      --disabled-bg-color: #3B4455;\n",
              "      --disabled-fill-color: #666;\n",
              "  }\n",
              "\n",
              "  .colab-df-quickchart {\n",
              "    background-color: var(--bg-color);\n",
              "    border: none;\n",
              "    border-radius: 50%;\n",
              "    cursor: pointer;\n",
              "    display: none;\n",
              "    fill: var(--fill-color);\n",
              "    height: 32px;\n",
              "    padding: 0;\n",
              "    width: 32px;\n",
              "  }\n",
              "\n",
              "  .colab-df-quickchart:hover {\n",
              "    background-color: var(--hover-bg-color);\n",
              "    box-shadow: 0 1px 2px rgba(60, 64, 67, 0.3), 0 1px 3px 1px rgba(60, 64, 67, 0.15);\n",
              "    fill: var(--button-hover-fill-color);\n",
              "  }\n",
              "\n",
              "  .colab-df-quickchart-complete:disabled,\n",
              "  .colab-df-quickchart-complete:disabled:hover {\n",
              "    background-color: var(--disabled-bg-color);\n",
              "    fill: var(--disabled-fill-color);\n",
              "    box-shadow: none;\n",
              "  }\n",
              "\n",
              "  .colab-df-spinner {\n",
              "    border: 2px solid var(--fill-color);\n",
              "    border-color: transparent;\n",
              "    border-bottom-color: var(--fill-color);\n",
              "    animation:\n",
              "      spin 1s steps(1) infinite;\n",
              "  }\n",
              "\n",
              "  @keyframes spin {\n",
              "    0% {\n",
              "      border-color: transparent;\n",
              "      border-bottom-color: var(--fill-color);\n",
              "      border-left-color: var(--fill-color);\n",
              "    }\n",
              "    20% {\n",
              "      border-color: transparent;\n",
              "      border-left-color: var(--fill-color);\n",
              "      border-top-color: var(--fill-color);\n",
              "    }\n",
              "    30% {\n",
              "      border-color: transparent;\n",
              "      border-left-color: var(--fill-color);\n",
              "      border-top-color: var(--fill-color);\n",
              "      border-right-color: var(--fill-color);\n",
              "    }\n",
              "    40% {\n",
              "      border-color: transparent;\n",
              "      border-right-color: var(--fill-color);\n",
              "      border-top-color: var(--fill-color);\n",
              "    }\n",
              "    60% {\n",
              "      border-color: transparent;\n",
              "      border-right-color: var(--fill-color);\n",
              "    }\n",
              "    80% {\n",
              "      border-color: transparent;\n",
              "      border-right-color: var(--fill-color);\n",
              "      border-bottom-color: var(--fill-color);\n",
              "    }\n",
              "    90% {\n",
              "      border-color: transparent;\n",
              "      border-bottom-color: var(--fill-color);\n",
              "    }\n",
              "  }\n",
              "</style>\n",
              "\n",
              "  <script>\n",
              "    async function quickchart(key) {\n",
              "      const quickchartButtonEl =\n",
              "        document.querySelector('#' + key + ' button');\n",
              "      quickchartButtonEl.disabled = true;  // To prevent multiple clicks.\n",
              "      quickchartButtonEl.classList.add('colab-df-spinner');\n",
              "      try {\n",
              "        const charts = await google.colab.kernel.invokeFunction(\n",
              "            'suggestCharts', [key], {});\n",
              "      } catch (error) {\n",
              "        console.error('Error during call to suggestCharts:', error);\n",
              "      }\n",
              "      quickchartButtonEl.classList.remove('colab-df-spinner');\n",
              "      quickchartButtonEl.classList.add('colab-df-quickchart-complete');\n",
              "    }\n",
              "    (() => {\n",
              "      let quickchartButtonEl =\n",
              "        document.querySelector('#df-237b8812-65b3-430b-a998-b9a32c58074f button');\n",
              "      quickchartButtonEl.style.display =\n",
              "        google.colab.kernel.accessAllowed ? 'block' : 'none';\n",
              "    })();\n",
              "  </script>\n",
              "</div>\n",
              "    </div>\n",
              "  </div>\n"
            ],
            "application/vnd.google.colaboratory.intrinsic+json": {
              "type": "dataframe",
              "variable_name": "dataset",
              "summary": "{\n  \"name\": \"dataset\",\n  \"rows\": 768,\n  \"fields\": [\n    {\n      \"column\": \"Pregnancies\",\n      \"properties\": {\n        \"dtype\": \"number\",\n        \"std\": 3,\n        \"min\": 0,\n        \"max\": 17,\n        \"num_unique_values\": 17,\n        \"samples\": [\n          6,\n          1,\n          3\n        ],\n        \"semantic_type\": \"\",\n        \"description\": \"\"\n      }\n    },\n    {\n      \"column\": \"Glucose\",\n      \"properties\": {\n        \"dtype\": \"number\",\n        \"std\": 31,\n        \"min\": 0,\n        \"max\": 199,\n        \"num_unique_values\": 136,\n        \"samples\": [\n          151,\n          101,\n          112\n        ],\n        \"semantic_type\": \"\",\n        \"description\": \"\"\n      }\n    },\n    {\n      \"column\": \"BloodPressure\",\n      \"properties\": {\n        \"dtype\": \"number\",\n        \"std\": 19,\n        \"min\": 0,\n        \"max\": 122,\n        \"num_unique_values\": 47,\n        \"samples\": [\n          86,\n          46,\n          85\n        ],\n        \"semantic_type\": \"\",\n        \"description\": \"\"\n      }\n    },\n    {\n      \"column\": \"SkinThickness\",\n      \"properties\": {\n        \"dtype\": \"number\",\n        \"std\": 15,\n        \"min\": 0,\n        \"max\": 99,\n        \"num_unique_values\": 51,\n        \"samples\": [\n          7,\n          12,\n          48\n        ],\n        \"semantic_type\": \"\",\n        \"description\": \"\"\n      }\n    },\n    {\n      \"column\": \"Insulin\",\n      \"properties\": {\n        \"dtype\": \"number\",\n        \"std\": 115,\n        \"min\": 0,\n        \"max\": 846,\n        \"num_unique_values\": 186,\n        \"samples\": [\n          52,\n          41,\n          183\n        ],\n        \"semantic_type\": \"\",\n        \"description\": \"\"\n      }\n    },\n    {\n      \"column\": \"BMI\",\n      \"properties\": {\n        \"dtype\": \"number\",\n        \"std\": 7.884160320375446,\n        \"min\": 0.0,\n        \"max\": 67.1,\n        \"num_unique_values\": 248,\n        \"samples\": [\n          19.9,\n          31.0,\n          38.1\n        ],\n        \"semantic_type\": \"\",\n        \"description\": \"\"\n      }\n    },\n    {\n      \"column\": \"DiabetesPedigreeFunction\",\n      \"properties\": {\n        \"dtype\": \"number\",\n        \"std\": 0.3313285950127749,\n        \"min\": 0.078,\n        \"max\": 2.42,\n        \"num_unique_values\": 517,\n        \"samples\": [\n          1.731,\n          0.426,\n          0.138\n        ],\n        \"semantic_type\": \"\",\n        \"description\": \"\"\n      }\n    },\n    {\n      \"column\": \"Age\",\n      \"properties\": {\n        \"dtype\": \"number\",\n        \"std\": 11,\n        \"min\": 21,\n        \"max\": 81,\n        \"num_unique_values\": 52,\n        \"samples\": [\n          60,\n          47,\n          72\n        ],\n        \"semantic_type\": \"\",\n        \"description\": \"\"\n      }\n    },\n    {\n      \"column\": \"Outcome\",\n      \"properties\": {\n        \"dtype\": \"number\",\n        \"std\": 0,\n        \"min\": 0,\n        \"max\": 1,\n        \"num_unique_values\": 2,\n        \"samples\": [\n          0,\n          1\n        ],\n        \"semantic_type\": \"\",\n        \"description\": \"\"\n      }\n    }\n  ]\n}"
            }
          },
          "metadata": {},
          "execution_count": 2
        }
      ],
      "source": [
        "from google.colab import drive\n",
        "drive.mount('/content/gdrive')\n",
        "\n",
        "dataset = pd.read_csv('/content/gdrive/My Drive/Colab Notebooks/diabetes.csv')\n",
        "dataset.head(7)"
      ]
    },
    {
      "cell_type": "code",
      "source": [
        "dataset.Outcome.value_counts(normalize=True)"
      ],
      "metadata": {
        "colab": {
          "base_uri": "https://localhost:8080/"
        },
        "id": "VfEuvI_byHhb",
        "outputId": "d3861085-ad81-4b01-81a5-1c73e48a13a3"
      },
      "id": "VfEuvI_byHhb",
      "execution_count": 3,
      "outputs": [
        {
          "output_type": "execute_result",
          "data": {
            "text/plain": [
              "0    0.651042\n",
              "1    0.348958\n",
              "Name: Outcome, dtype: float64"
            ]
          },
          "metadata": {},
          "execution_count": 3
        }
      ]
    },
    {
      "cell_type": "markdown",
      "id": "f6dd4f65",
      "metadata": {
        "id": "f6dd4f65"
      },
      "source": [
        "1.3 데이터의 feature 타입과 Null 개수를 확인하세요."
      ]
    },
    {
      "cell_type": "code",
      "execution_count": 4,
      "id": "454b0638",
      "metadata": {
        "colab": {
          "base_uri": "https://localhost:8080/"
        },
        "id": "454b0638",
        "outputId": "1b85dc16-23da-4c37-b66e-b12ff7d535cf"
      },
      "outputs": [
        {
          "output_type": "execute_result",
          "data": {
            "text/plain": [
              "Pregnancies                   int64\n",
              "Glucose                       int64\n",
              "BloodPressure                 int64\n",
              "SkinThickness                 int64\n",
              "Insulin                       int64\n",
              "BMI                         float64\n",
              "DiabetesPedigreeFunction    float64\n",
              "Age                           int64\n",
              "Outcome                       int64\n",
              "dtype: object"
            ]
          },
          "metadata": {},
          "execution_count": 4
        }
      ],
      "source": [
        "dataset.dtypes"
      ]
    },
    {
      "cell_type": "code",
      "source": [
        "dataset.isnull().sum()\n",
        "\n",
        "# Null값 없음"
      ],
      "metadata": {
        "colab": {
          "base_uri": "https://localhost:8080/"
        },
        "id": "-Vmx87IUzlv6",
        "outputId": "4b183d1e-f81f-41f3-9eca-a9759602286c"
      },
      "id": "-Vmx87IUzlv6",
      "execution_count": 5,
      "outputs": [
        {
          "output_type": "execute_result",
          "data": {
            "text/plain": [
              "Pregnancies                 0\n",
              "Glucose                     0\n",
              "BloodPressure               0\n",
              "SkinThickness               0\n",
              "Insulin                     0\n",
              "BMI                         0\n",
              "DiabetesPedigreeFunction    0\n",
              "Age                         0\n",
              "Outcome                     0\n",
              "dtype: int64"
            ]
          },
          "metadata": {},
          "execution_count": 5
        }
      ]
    },
    {
      "cell_type": "markdown",
      "id": "1c2b0922",
      "metadata": {
        "id": "1c2b0922"
      },
      "source": [
        "1.4 예측을 위해 데이터를 feature 데이터 셋과 target 데이터 셋으로 나누세요."
      ]
    },
    {
      "cell_type": "code",
      "execution_count": 6,
      "id": "87bea91d",
      "metadata": {
        "id": "87bea91d"
      },
      "outputs": [],
      "source": [
        "X = dataset.iloc[:, :-1].values  # Outcome을 제외한 모든 피처값\n",
        "y = dataset.iloc[:, -1].values  # Outcome 피처값들"
      ]
    },
    {
      "cell_type": "markdown",
      "id": "2518708d",
      "metadata": {
        "id": "2518708d"
      },
      "source": [
        "1.5 X와 y로 나눈 데이터 셋을 다시 train, test로 나누세요(test_size = 0.3, random_state=123, stratify=y)."
      ]
    },
    {
      "cell_type": "code",
      "execution_count": 7,
      "id": "d6539169",
      "metadata": {
        "id": "d6539169"
      },
      "outputs": [],
      "source": [
        "from sklearn.model_selection import train_test_split\n",
        "X_train, X_test, y_train, y_test = train_test_split(X, y, test_size=0.3, random_state = 123, stratify=y)"
      ]
    },
    {
      "cell_type": "markdown",
      "id": "ed2023c5",
      "metadata": {
        "id": "ed2023c5"
      },
      "source": [
        "1.6 test size는 어느정도로 해야 좋은지 그리고 왜 그래야 하는지 작성하세요."
      ]
    },
    {
      "cell_type": "markdown",
      "id": "5eb83893",
      "metadata": {
        "id": "5eb83893"
      },
      "source": []
    },
    {
      "cell_type": "markdown",
      "id": "871333e4",
      "metadata": {
        "id": "871333e4"
      },
      "source": [
        "1.7 startify 값을 설정하는 이유와 언제 주로 사용되는지 서술하세요."
      ]
    },
    {
      "cell_type": "markdown",
      "id": "1d0511d8",
      "metadata": {
        "id": "1d0511d8"
      },
      "source": [
        "훈련데이터와 테스트 데이터로 나눌 때, 타깃 데이터가 이진 변수라면 0과 1값을 각 세트에 (test_size에서 지정해준) 비율을 유지하여 나누기 위해 사용한다."
      ]
    },
    {
      "cell_type": "markdown",
      "id": "acd30d2f",
      "metadata": {
        "id": "acd30d2f"
      },
      "source": [
        "### 2. 예측 및 분석"
      ]
    },
    {
      "cell_type": "markdown",
      "id": "de781b8e",
      "metadata": {
        "id": "de781b8e"
      },
      "source": [
        "2.1 성능 평가에 사용될 함수를 만들어보겠습니다. accuracy_score, precision_score, recall_score, confusion_matrix, f1_score, roc_auc_score로 구성되어 있으며 이를 한번에 출력할 수 있도록 합니다."
      ]
    },
    {
      "cell_type": "code",
      "execution_count": 26,
      "id": "bb9c54d5",
      "metadata": {
        "colab": {
          "base_uri": "https://localhost:8080/",
          "height": 373
        },
        "id": "bb9c54d5",
        "outputId": "26b57400-ef2c-46af-884c-d4c13a3edb4a"
      },
      "outputs": [
        {
          "output_type": "error",
          "ename": "ValueError",
          "evalue": "y should be a 1d array, got an array of shape (231, 2) instead.",
          "traceback": [
            "\u001b[0;31m---------------------------------------------------------------------------\u001b[0m",
            "\u001b[0;31mValueError\u001b[0m                                Traceback (most recent call last)",
            "\u001b[0;32m<ipython-input-26-d0eb394236c5>\u001b[0m in \u001b[0;36m<cell line: 24>\u001b[0;34m()\u001b[0m\n\u001b[1;32m     22\u001b[0m \u001b[0;34m\u001b[0m\u001b[0m\n\u001b[1;32m     23\u001b[0m \u001b[0;34m\u001b[0m\u001b[0m\n\u001b[0;32m---> 24\u001b[0;31m \u001b[0mconfusion_matrix\u001b[0m\u001b[0;34m,\u001b[0m \u001b[0maccuracy\u001b[0m\u001b[0;34m,\u001b[0m \u001b[0mprecision\u001b[0m\u001b[0;34m,\u001b[0m \u001b[0mrecall\u001b[0m\u001b[0;34m,\u001b[0m \u001b[0mf1_score\u001b[0m\u001b[0;34m,\u001b[0m \u001b[0mroc_auc_score\u001b[0m \u001b[0;34m=\u001b[0m \u001b[0mclf_eval\u001b[0m\u001b[0;34m(\u001b[0m\u001b[0my_test\u001b[0m\u001b[0;34m,\u001b[0m \u001b[0mpred\u001b[0m\u001b[0;34m,\u001b[0m \u001b[0mpred_proba\u001b[0m\u001b[0;34m)\u001b[0m\u001b[0;34m\u001b[0m\u001b[0;34m\u001b[0m\u001b[0m\n\u001b[0m\u001b[1;32m     25\u001b[0m \u001b[0mprint\u001b[0m\u001b[0;34m(\u001b[0m\u001b[0;34m'오차 행렬,\\n'\u001b[0m\u001b[0;34m,\u001b[0m \u001b[0mconfusion\u001b[0m\u001b[0;34m)\u001b[0m\u001b[0;34m\u001b[0m\u001b[0;34m\u001b[0m\u001b[0m\n\u001b[1;32m     26\u001b[0m \u001b[0mprint\u001b[0m\u001b[0;34m(\u001b[0m\u001b[0;34m'정확도: {0:.4f}, 정밀도: {1:.4f}, 재현율: {2:4f}, F1: {3:.4f}, AUC:{4:.4f}'\u001b[0m\u001b[0;34m.\u001b[0m\u001b[0mformat\u001b[0m\u001b[0;34m(\u001b[0m\u001b[0maccuracy\u001b[0m\u001b[0;34m,\u001b[0m \u001b[0mprecision\u001b[0m\u001b[0;34m,\u001b[0m \u001b[0mrecall\u001b[0m\u001b[0;34m,\u001b[0m \u001b[0mf1\u001b[0m\u001b[0;34m,\u001b[0m \u001b[0mroc_auc\u001b[0m\u001b[0;34m)\u001b[0m\u001b[0;34m)\u001b[0m\u001b[0;34m\u001b[0m\u001b[0;34m\u001b[0m\u001b[0m\n",
            "\u001b[0;32m<ipython-input-26-d0eb394236c5>\u001b[0m in \u001b[0;36mclf_eval\u001b[0;34m(y_test, pred, pred_proba)\u001b[0m\n\u001b[1;32m     14\u001b[0m \u001b[0;34m\u001b[0m\u001b[0m\n\u001b[1;32m     15\u001b[0m     \u001b[0;32mif\u001b[0m \u001b[0mpred_proba\u001b[0m \u001b[0;32mis\u001b[0m \u001b[0;32mnot\u001b[0m \u001b[0;32mNone\u001b[0m\u001b[0;34m:\u001b[0m\u001b[0;34m\u001b[0m\u001b[0;34m\u001b[0m\u001b[0m\n\u001b[0;32m---> 16\u001b[0;31m         \u001b[0mroc_auc\u001b[0m \u001b[0;34m=\u001b[0m \u001b[0mroc_auc_score\u001b[0m\u001b[0;34m(\u001b[0m\u001b[0my_test_flat\u001b[0m\u001b[0;34m,\u001b[0m \u001b[0mpred_proba\u001b[0m\u001b[0;34m)\u001b[0m\u001b[0;34m\u001b[0m\u001b[0;34m\u001b[0m\u001b[0m\n\u001b[0m\u001b[1;32m     17\u001b[0m     \u001b[0;32melse\u001b[0m\u001b[0;34m:\u001b[0m\u001b[0;34m\u001b[0m\u001b[0;34m\u001b[0m\u001b[0m\n\u001b[1;32m     18\u001b[0m         \u001b[0mroc_auc\u001b[0m \u001b[0;34m=\u001b[0m \u001b[0;32mNone\u001b[0m\u001b[0;34m\u001b[0m\u001b[0;34m\u001b[0m\u001b[0m\n",
            "\u001b[0;32m/usr/local/lib/python3.10/dist-packages/sklearn/metrics/_ranking.py\u001b[0m in \u001b[0;36mroc_auc_score\u001b[0;34m(y_true, y_score, average, sample_weight, max_fpr, multi_class, labels)\u001b[0m\n\u001b[1;32m    570\u001b[0m         \u001b[0mlabels\u001b[0m \u001b[0;34m=\u001b[0m \u001b[0mnp\u001b[0m\u001b[0;34m.\u001b[0m\u001b[0munique\u001b[0m\u001b[0;34m(\u001b[0m\u001b[0my_true\u001b[0m\u001b[0;34m)\u001b[0m\u001b[0;34m\u001b[0m\u001b[0;34m\u001b[0m\u001b[0m\n\u001b[1;32m    571\u001b[0m         \u001b[0my_true\u001b[0m \u001b[0;34m=\u001b[0m \u001b[0mlabel_binarize\u001b[0m\u001b[0;34m(\u001b[0m\u001b[0my_true\u001b[0m\u001b[0;34m,\u001b[0m \u001b[0mclasses\u001b[0m\u001b[0;34m=\u001b[0m\u001b[0mlabels\u001b[0m\u001b[0;34m)\u001b[0m\u001b[0;34m[\u001b[0m\u001b[0;34m:\u001b[0m\u001b[0;34m,\u001b[0m \u001b[0;36m0\u001b[0m\u001b[0;34m]\u001b[0m\u001b[0;34m\u001b[0m\u001b[0;34m\u001b[0m\u001b[0m\n\u001b[0;32m--> 572\u001b[0;31m         return _average_binary_score(\n\u001b[0m\u001b[1;32m    573\u001b[0m             \u001b[0mpartial\u001b[0m\u001b[0;34m(\u001b[0m\u001b[0m_binary_roc_auc_score\u001b[0m\u001b[0;34m,\u001b[0m \u001b[0mmax_fpr\u001b[0m\u001b[0;34m=\u001b[0m\u001b[0mmax_fpr\u001b[0m\u001b[0;34m)\u001b[0m\u001b[0;34m,\u001b[0m\u001b[0;34m\u001b[0m\u001b[0;34m\u001b[0m\u001b[0m\n\u001b[1;32m    574\u001b[0m             \u001b[0my_true\u001b[0m\u001b[0;34m,\u001b[0m\u001b[0;34m\u001b[0m\u001b[0;34m\u001b[0m\u001b[0m\n",
            "\u001b[0;32m/usr/local/lib/python3.10/dist-packages/sklearn/metrics/_base.py\u001b[0m in \u001b[0;36m_average_binary_score\u001b[0;34m(binary_metric, y_true, y_score, average, sample_weight)\u001b[0m\n\u001b[1;32m     73\u001b[0m \u001b[0;34m\u001b[0m\u001b[0m\n\u001b[1;32m     74\u001b[0m     \u001b[0;32mif\u001b[0m \u001b[0my_type\u001b[0m \u001b[0;34m==\u001b[0m \u001b[0;34m\"binary\"\u001b[0m\u001b[0;34m:\u001b[0m\u001b[0;34m\u001b[0m\u001b[0;34m\u001b[0m\u001b[0m\n\u001b[0;32m---> 75\u001b[0;31m         \u001b[0;32mreturn\u001b[0m \u001b[0mbinary_metric\u001b[0m\u001b[0;34m(\u001b[0m\u001b[0my_true\u001b[0m\u001b[0;34m,\u001b[0m \u001b[0my_score\u001b[0m\u001b[0;34m,\u001b[0m \u001b[0msample_weight\u001b[0m\u001b[0;34m=\u001b[0m\u001b[0msample_weight\u001b[0m\u001b[0;34m)\u001b[0m\u001b[0;34m\u001b[0m\u001b[0;34m\u001b[0m\u001b[0m\n\u001b[0m\u001b[1;32m     76\u001b[0m \u001b[0;34m\u001b[0m\u001b[0m\n\u001b[1;32m     77\u001b[0m     \u001b[0mcheck_consistent_length\u001b[0m\u001b[0;34m(\u001b[0m\u001b[0my_true\u001b[0m\u001b[0;34m,\u001b[0m \u001b[0my_score\u001b[0m\u001b[0;34m,\u001b[0m \u001b[0msample_weight\u001b[0m\u001b[0;34m)\u001b[0m\u001b[0;34m\u001b[0m\u001b[0;34m\u001b[0m\u001b[0m\n",
            "\u001b[0;32m/usr/local/lib/python3.10/dist-packages/sklearn/metrics/_ranking.py\u001b[0m in \u001b[0;36m_binary_roc_auc_score\u001b[0;34m(y_true, y_score, sample_weight, max_fpr)\u001b[0m\n\u001b[1;32m    342\u001b[0m         )\n\u001b[1;32m    343\u001b[0m \u001b[0;34m\u001b[0m\u001b[0m\n\u001b[0;32m--> 344\u001b[0;31m     \u001b[0mfpr\u001b[0m\u001b[0;34m,\u001b[0m \u001b[0mtpr\u001b[0m\u001b[0;34m,\u001b[0m \u001b[0m_\u001b[0m \u001b[0;34m=\u001b[0m \u001b[0mroc_curve\u001b[0m\u001b[0;34m(\u001b[0m\u001b[0my_true\u001b[0m\u001b[0;34m,\u001b[0m \u001b[0my_score\u001b[0m\u001b[0;34m,\u001b[0m \u001b[0msample_weight\u001b[0m\u001b[0;34m=\u001b[0m\u001b[0msample_weight\u001b[0m\u001b[0;34m)\u001b[0m\u001b[0;34m\u001b[0m\u001b[0;34m\u001b[0m\u001b[0m\n\u001b[0m\u001b[1;32m    345\u001b[0m     \u001b[0;32mif\u001b[0m \u001b[0mmax_fpr\u001b[0m \u001b[0;32mis\u001b[0m \u001b[0;32mNone\u001b[0m \u001b[0;32mor\u001b[0m \u001b[0mmax_fpr\u001b[0m \u001b[0;34m==\u001b[0m \u001b[0;36m1\u001b[0m\u001b[0;34m:\u001b[0m\u001b[0;34m\u001b[0m\u001b[0;34m\u001b[0m\u001b[0m\n\u001b[1;32m    346\u001b[0m         \u001b[0;32mreturn\u001b[0m \u001b[0mauc\u001b[0m\u001b[0;34m(\u001b[0m\u001b[0mfpr\u001b[0m\u001b[0;34m,\u001b[0m \u001b[0mtpr\u001b[0m\u001b[0;34m)\u001b[0m\u001b[0;34m\u001b[0m\u001b[0;34m\u001b[0m\u001b[0m\n",
            "\u001b[0;32m/usr/local/lib/python3.10/dist-packages/sklearn/metrics/_ranking.py\u001b[0m in \u001b[0;36mroc_curve\u001b[0;34m(y_true, y_score, pos_label, sample_weight, drop_intermediate)\u001b[0m\n\u001b[1;32m    990\u001b[0m     \u001b[0marray\u001b[0m\u001b[0;34m(\u001b[0m\u001b[0;34m[\u001b[0m\u001b[0;36m1.8\u001b[0m \u001b[0;34m,\u001b[0m \u001b[0;36m0.8\u001b[0m \u001b[0;34m,\u001b[0m \u001b[0;36m0.4\u001b[0m \u001b[0;34m,\u001b[0m \u001b[0;36m0.35\u001b[0m\u001b[0;34m,\u001b[0m \u001b[0;36m0.1\u001b[0m \u001b[0;34m]\u001b[0m\u001b[0;34m)\u001b[0m\u001b[0;34m\u001b[0m\u001b[0;34m\u001b[0m\u001b[0m\n\u001b[1;32m    991\u001b[0m     \"\"\"\n\u001b[0;32m--> 992\u001b[0;31m     fps, tps, thresholds = _binary_clf_curve(\n\u001b[0m\u001b[1;32m    993\u001b[0m         \u001b[0my_true\u001b[0m\u001b[0;34m,\u001b[0m \u001b[0my_score\u001b[0m\u001b[0;34m,\u001b[0m \u001b[0mpos_label\u001b[0m\u001b[0;34m=\u001b[0m\u001b[0mpos_label\u001b[0m\u001b[0;34m,\u001b[0m \u001b[0msample_weight\u001b[0m\u001b[0;34m=\u001b[0m\u001b[0msample_weight\u001b[0m\u001b[0;34m\u001b[0m\u001b[0;34m\u001b[0m\u001b[0m\n\u001b[1;32m    994\u001b[0m     )\n",
            "\u001b[0;32m/usr/local/lib/python3.10/dist-packages/sklearn/metrics/_ranking.py\u001b[0m in \u001b[0;36m_binary_clf_curve\u001b[0;34m(y_true, y_score, pos_label, sample_weight)\u001b[0m\n\u001b[1;32m    751\u001b[0m     \u001b[0mcheck_consistent_length\u001b[0m\u001b[0;34m(\u001b[0m\u001b[0my_true\u001b[0m\u001b[0;34m,\u001b[0m \u001b[0my_score\u001b[0m\u001b[0;34m,\u001b[0m \u001b[0msample_weight\u001b[0m\u001b[0;34m)\u001b[0m\u001b[0;34m\u001b[0m\u001b[0;34m\u001b[0m\u001b[0m\n\u001b[1;32m    752\u001b[0m     \u001b[0my_true\u001b[0m \u001b[0;34m=\u001b[0m \u001b[0mcolumn_or_1d\u001b[0m\u001b[0;34m(\u001b[0m\u001b[0my_true\u001b[0m\u001b[0;34m)\u001b[0m\u001b[0;34m\u001b[0m\u001b[0;34m\u001b[0m\u001b[0m\n\u001b[0;32m--> 753\u001b[0;31m     \u001b[0my_score\u001b[0m \u001b[0;34m=\u001b[0m \u001b[0mcolumn_or_1d\u001b[0m\u001b[0;34m(\u001b[0m\u001b[0my_score\u001b[0m\u001b[0;34m)\u001b[0m\u001b[0;34m\u001b[0m\u001b[0;34m\u001b[0m\u001b[0m\n\u001b[0m\u001b[1;32m    754\u001b[0m     \u001b[0massert_all_finite\u001b[0m\u001b[0;34m(\u001b[0m\u001b[0my_true\u001b[0m\u001b[0;34m)\u001b[0m\u001b[0;34m\u001b[0m\u001b[0;34m\u001b[0m\u001b[0m\n\u001b[1;32m    755\u001b[0m     \u001b[0massert_all_finite\u001b[0m\u001b[0;34m(\u001b[0m\u001b[0my_score\u001b[0m\u001b[0;34m)\u001b[0m\u001b[0;34m\u001b[0m\u001b[0;34m\u001b[0m\u001b[0m\n",
            "\u001b[0;32m/usr/local/lib/python3.10/dist-packages/sklearn/utils/validation.py\u001b[0m in \u001b[0;36mcolumn_or_1d\u001b[0;34m(y, dtype, warn)\u001b[0m\n\u001b[1;32m   1200\u001b[0m         \u001b[0;32mreturn\u001b[0m \u001b[0m_asarray_with_order\u001b[0m\u001b[0;34m(\u001b[0m\u001b[0mxp\u001b[0m\u001b[0;34m.\u001b[0m\u001b[0mreshape\u001b[0m\u001b[0;34m(\u001b[0m\u001b[0my\u001b[0m\u001b[0;34m,\u001b[0m \u001b[0;34m-\u001b[0m\u001b[0;36m1\u001b[0m\u001b[0;34m)\u001b[0m\u001b[0;34m,\u001b[0m \u001b[0morder\u001b[0m\u001b[0;34m=\u001b[0m\u001b[0;34m\"C\"\u001b[0m\u001b[0;34m,\u001b[0m \u001b[0mxp\u001b[0m\u001b[0;34m=\u001b[0m\u001b[0mxp\u001b[0m\u001b[0;34m)\u001b[0m\u001b[0;34m\u001b[0m\u001b[0;34m\u001b[0m\u001b[0m\n\u001b[1;32m   1201\u001b[0m \u001b[0;34m\u001b[0m\u001b[0m\n\u001b[0;32m-> 1202\u001b[0;31m     raise ValueError(\n\u001b[0m\u001b[1;32m   1203\u001b[0m         \u001b[0;34m\"y should be a 1d array, got an array of shape {} instead.\"\u001b[0m\u001b[0;34m.\u001b[0m\u001b[0mformat\u001b[0m\u001b[0;34m(\u001b[0m\u001b[0mshape\u001b[0m\u001b[0;34m)\u001b[0m\u001b[0;34m\u001b[0m\u001b[0;34m\u001b[0m\u001b[0m\n\u001b[1;32m   1204\u001b[0m     )\n",
            "\u001b[0;31mValueError\u001b[0m: y should be a 1d array, got an array of shape (231, 2) instead."
          ]
        }
      ],
      "source": [
        "from sklearn.metrics import confusion_matrix, roc_auc_score, accuracy_score, precision_score, recall_score, f1_score\n",
        "\n",
        "def clf_eval(y_test, pred=None, pred_proba=None):\n",
        "    confusion = confusion_matrix(y_test, pred)\n",
        "    #accuracy, precision, recall, f1, roc_auc(roc_auc_score의 경우 y_test와 pred_proba로 측정)는 직접 작성\n",
        "\n",
        "    accuracy = accuracy_score(y_test, pred)  # 정확도. unbalance한 데이터에서는 오류 가능성\n",
        "    precision = precision_score(y_test, pred)  # 정밀도\n",
        "    recall = recall_score(y_test, pred)   #\n",
        "    f1 = f1_score(y_test, pred)  # Fa: recall과 precision의 조화평균. 데이터가 unbalance한 경우에도 정상적으로 작동함\n",
        "\n",
        "    # y_test를 1차원 배열로 변환\n",
        "    y_test_flat = y_test.reshape(-1)\n",
        "\n",
        "    if pred_proba is not None:\n",
        "        roc_auc = roc_auc_score(y_test_flat, pred_proba)\n",
        "    else:\n",
        "        roc_auc = None\n",
        "\n",
        "    return confusion, accuracy, precision, recall, f1, roc_auc\n",
        "\n",
        "\n",
        "\n",
        "confusion_matrix, accuracy, precision, recall, f1_score, roc_auc_score = clf_eval(y_test, pred, pred_proba)\n",
        "print('오차 행렬,\\n', confusion)\n",
        "print('정확도: {0:.4f}, 정밀도: {1:.4f}, 재현율: {2:4f}, F1: {3:.4f}, AUC:{4:.4f}'.format(accuracy, precision, recall, f1, roc_auc))"
      ]
    },
    {
      "cell_type": "markdown",
      "id": "33af2436",
      "metadata": {
        "id": "33af2436"
      },
      "source": [
        "2. 위에서 사용한 성능지표인 Confusion Matrix에 대해 설명하세요."
      ]
    },
    {
      "cell_type": "markdown",
      "source": [
        "실제 데이터와 예측한 데이터를 비교하여 맞는 예측과 틀린 예측을 확인해 예측 성능을 측정하기 위한 표이다.\n",
        "\n",
        "```\n",
        "# TRUE NEGATIVE (TN)     FALSE POSITIVE (FP)\n",
        " 불합격일거야 (예측)    합격일거야 (예측)\n",
        " 불합격 (실제)          불합격 (실제)\n",
        "\n",
        " FALSE NEGATIVE (FN)    TRUE POSITIVE (TP)\n",
        " 불합격일거야 (예측)    합격일거야 (예측)\n",
        " 합격 (실제)            합격 (실제)           \n",
        "\n",
        "```\n",
        "위와 같은 순서로 각각의 사례의 개수를 출력한다.\n",
        "\n",
        "\n"
      ],
      "metadata": {
        "id": "r98AW9Ov8kTP"
      },
      "id": "r98AW9Ov8kTP"
    },
    {
      "cell_type": "markdown",
      "id": "3a49223e",
      "metadata": {
        "id": "3a49223e"
      },
      "source": [
        "2.2 로지스틱 회귀로 예측 후 위에서 만든 clf_eval() 함수를 통해 잘 예측했는지 확인하세요(solver='linear'로 설정, 예측 변수명은 pred, pred_proba)."
      ]
    },
    {
      "cell_type": "code",
      "source": [
        "from sklearn.linear_model import LogisticRegression\n",
        "classifier = LogisticRegression()\n",
        "classifier.fit(X_train, y_train)"
      ],
      "metadata": {
        "colab": {
          "base_uri": "https://localhost:8080/",
          "height": 222
        },
        "id": "CHmCHSi_DKUH",
        "outputId": "95b9135c-355f-4e86-8720-d7446bb0625c"
      },
      "id": "CHmCHSi_DKUH",
      "execution_count": 9,
      "outputs": [
        {
          "output_type": "stream",
          "name": "stderr",
          "text": [
            "/usr/local/lib/python3.10/dist-packages/sklearn/linear_model/_logistic.py:458: ConvergenceWarning: lbfgs failed to converge (status=1):\n",
            "STOP: TOTAL NO. of ITERATIONS REACHED LIMIT.\n",
            "\n",
            "Increase the number of iterations (max_iter) or scale the data as shown in:\n",
            "    https://scikit-learn.org/stable/modules/preprocessing.html\n",
            "Please also refer to the documentation for alternative solver options:\n",
            "    https://scikit-learn.org/stable/modules/linear_model.html#logistic-regression\n",
            "  n_iter_i = _check_optimize_result(\n"
          ]
        },
        {
          "output_type": "execute_result",
          "data": {
            "text/plain": [
              "LogisticRegression()"
            ],
            "text/html": [
              "<style>#sk-container-id-1 {color: black;background-color: white;}#sk-container-id-1 pre{padding: 0;}#sk-container-id-1 div.sk-toggleable {background-color: white;}#sk-container-id-1 label.sk-toggleable__label {cursor: pointer;display: block;width: 100%;margin-bottom: 0;padding: 0.3em;box-sizing: border-box;text-align: center;}#sk-container-id-1 label.sk-toggleable__label-arrow:before {content: \"▸\";float: left;margin-right: 0.25em;color: #696969;}#sk-container-id-1 label.sk-toggleable__label-arrow:hover:before {color: black;}#sk-container-id-1 div.sk-estimator:hover label.sk-toggleable__label-arrow:before {color: black;}#sk-container-id-1 div.sk-toggleable__content {max-height: 0;max-width: 0;overflow: hidden;text-align: left;background-color: #f0f8ff;}#sk-container-id-1 div.sk-toggleable__content pre {margin: 0.2em;color: black;border-radius: 0.25em;background-color: #f0f8ff;}#sk-container-id-1 input.sk-toggleable__control:checked~div.sk-toggleable__content {max-height: 200px;max-width: 100%;overflow: auto;}#sk-container-id-1 input.sk-toggleable__control:checked~label.sk-toggleable__label-arrow:before {content: \"▾\";}#sk-container-id-1 div.sk-estimator input.sk-toggleable__control:checked~label.sk-toggleable__label {background-color: #d4ebff;}#sk-container-id-1 div.sk-label input.sk-toggleable__control:checked~label.sk-toggleable__label {background-color: #d4ebff;}#sk-container-id-1 input.sk-hidden--visually {border: 0;clip: rect(1px 1px 1px 1px);clip: rect(1px, 1px, 1px, 1px);height: 1px;margin: -1px;overflow: hidden;padding: 0;position: absolute;width: 1px;}#sk-container-id-1 div.sk-estimator {font-family: monospace;background-color: #f0f8ff;border: 1px dotted black;border-radius: 0.25em;box-sizing: border-box;margin-bottom: 0.5em;}#sk-container-id-1 div.sk-estimator:hover {background-color: #d4ebff;}#sk-container-id-1 div.sk-parallel-item::after {content: \"\";width: 100%;border-bottom: 1px solid gray;flex-grow: 1;}#sk-container-id-1 div.sk-label:hover label.sk-toggleable__label {background-color: #d4ebff;}#sk-container-id-1 div.sk-serial::before {content: \"\";position: absolute;border-left: 1px solid gray;box-sizing: border-box;top: 0;bottom: 0;left: 50%;z-index: 0;}#sk-container-id-1 div.sk-serial {display: flex;flex-direction: column;align-items: center;background-color: white;padding-right: 0.2em;padding-left: 0.2em;position: relative;}#sk-container-id-1 div.sk-item {position: relative;z-index: 1;}#sk-container-id-1 div.sk-parallel {display: flex;align-items: stretch;justify-content: center;background-color: white;position: relative;}#sk-container-id-1 div.sk-item::before, #sk-container-id-1 div.sk-parallel-item::before {content: \"\";position: absolute;border-left: 1px solid gray;box-sizing: border-box;top: 0;bottom: 0;left: 50%;z-index: -1;}#sk-container-id-1 div.sk-parallel-item {display: flex;flex-direction: column;z-index: 1;position: relative;background-color: white;}#sk-container-id-1 div.sk-parallel-item:first-child::after {align-self: flex-end;width: 50%;}#sk-container-id-1 div.sk-parallel-item:last-child::after {align-self: flex-start;width: 50%;}#sk-container-id-1 div.sk-parallel-item:only-child::after {width: 0;}#sk-container-id-1 div.sk-dashed-wrapped {border: 1px dashed gray;margin: 0 0.4em 0.5em 0.4em;box-sizing: border-box;padding-bottom: 0.4em;background-color: white;}#sk-container-id-1 div.sk-label label {font-family: monospace;font-weight: bold;display: inline-block;line-height: 1.2em;}#sk-container-id-1 div.sk-label-container {text-align: center;}#sk-container-id-1 div.sk-container {/* jupyter's `normalize.less` sets `[hidden] { display: none; }` but bootstrap.min.css set `[hidden] { display: none !important; }` so we also need the `!important` here to be able to override the default hidden behavior on the sphinx rendered scikit-learn.org. See: https://github.com/scikit-learn/scikit-learn/issues/21755 */display: inline-block !important;position: relative;}#sk-container-id-1 div.sk-text-repr-fallback {display: none;}</style><div id=\"sk-container-id-1\" class=\"sk-top-container\"><div class=\"sk-text-repr-fallback\"><pre>LogisticRegression()</pre><b>In a Jupyter environment, please rerun this cell to show the HTML representation or trust the notebook. <br />On GitHub, the HTML representation is unable to render, please try loading this page with nbviewer.org.</b></div><div class=\"sk-container\" hidden><div class=\"sk-item\"><div class=\"sk-estimator sk-toggleable\"><input class=\"sk-toggleable__control sk-hidden--visually\" id=\"sk-estimator-id-1\" type=\"checkbox\" checked><label for=\"sk-estimator-id-1\" class=\"sk-toggleable__label sk-toggleable__label-arrow\">LogisticRegression</label><div class=\"sk-toggleable__content\"><pre>LogisticRegression()</pre></div></div></div></div></div>"
            ]
          },
          "metadata": {},
          "execution_count": 9
        }
      ]
    },
    {
      "cell_type": "code",
      "execution_count": 10,
      "id": "df369b8e",
      "metadata": {
        "colab": {
          "base_uri": "https://localhost:8080/"
        },
        "id": "df369b8e",
        "outputId": "25b48027-b30e-4b21-8879-151e709ea77a"
      },
      "outputs": [
        {
          "output_type": "execute_result",
          "data": {
            "text/plain": [
              "array([0, 0, 0, 0, 1, 0, 0, 0, 0, 0, 0, 0, 0, 0, 1, 1, 0, 0, 0, 0, 1, 0,\n",
              "       1, 0, 0, 1, 0, 0, 0, 1, 0, 1, 0, 0, 0, 0, 0, 1, 0, 1, 0, 1, 0, 0,\n",
              "       0, 0, 0, 0, 0, 0, 0, 0, 0, 0, 0, 1, 0, 0, 0, 0, 0, 0, 0, 0, 0, 0,\n",
              "       0, 0, 1, 1, 0, 0, 0, 0, 1, 0, 0, 1, 0, 1, 1, 0, 0, 0, 1, 0, 0, 0,\n",
              "       0, 1, 0, 0, 0, 1, 0, 0, 0, 1, 0, 0, 0, 1, 1, 0, 1, 0, 0, 0, 1, 0,\n",
              "       1, 0, 0, 0, 1, 0, 0, 0, 0, 0, 1, 1, 0, 0, 0, 0, 0, 0, 1, 0, 0, 0,\n",
              "       0, 1, 0, 0, 1, 1, 0, 0, 0, 0, 1, 1, 1, 1, 0, 0, 1, 0, 0, 0, 0, 0,\n",
              "       1, 0, 0, 1, 0, 0, 0, 0, 0, 0, 1, 0, 0, 0, 1, 0, 1, 1, 0, 1, 0, 0,\n",
              "       0, 1, 0, 1, 1, 0, 0, 0, 0, 0, 1, 0, 0, 0, 0, 0, 0, 0, 0, 0, 0, 1,\n",
              "       0, 0, 0, 1, 0, 0, 0, 0, 1, 0, 0, 1, 1, 0, 0, 1, 1, 1, 0, 0, 0, 0,\n",
              "       0, 0, 1, 0, 0, 0, 0, 1, 0, 0, 0])"
            ]
          },
          "metadata": {},
          "execution_count": 10
        }
      ],
      "source": [
        "pred = classifier.predict(X_test)\n",
        "pred"
      ]
    },
    {
      "cell_type": "code",
      "source": [
        "pred_proba = classifier.predict_proba(X_test)\n",
        "pred_proba"
      ],
      "metadata": {
        "colab": {
          "base_uri": "https://localhost:8080/"
        },
        "id": "wgCf4e9ZEejm",
        "outputId": "3c9ecb95-4888-4ce7-8919-ac90dc2884a3"
      },
      "id": "wgCf4e9ZEejm",
      "execution_count": 15,
      "outputs": [
        {
          "output_type": "execute_result",
          "data": {
            "text/plain": [
              "array([[0.80395128, 0.19604872],\n",
              "       [0.96506855, 0.03493145],\n",
              "       [0.94026186, 0.05973814],\n",
              "       [0.80236496, 0.19763504],\n",
              "       [0.36490959, 0.63509041],\n",
              "       [0.8568911 , 0.1431089 ],\n",
              "       [0.82936403, 0.17063597],\n",
              "       [0.94926663, 0.05073337],\n",
              "       [0.86062111, 0.13937889],\n",
              "       [0.64326054, 0.35673946],\n",
              "       [0.77763361, 0.22236639],\n",
              "       [0.85641279, 0.14358721],\n",
              "       [0.52416924, 0.47583076],\n",
              "       [0.87971814, 0.12028186],\n",
              "       [0.1238729 , 0.8761271 ],\n",
              "       [0.42431695, 0.57568305],\n",
              "       [0.76272096, 0.23727904],\n",
              "       [0.87165193, 0.12834807],\n",
              "       [0.62394183, 0.37605817],\n",
              "       [0.80932229, 0.19067771],\n",
              "       [0.31629409, 0.68370591],\n",
              "       [0.70662866, 0.29337134],\n",
              "       [0.10548793, 0.89451207],\n",
              "       [0.78730912, 0.21269088],\n",
              "       [0.73374361, 0.26625639],\n",
              "       [0.13501015, 0.86498985],\n",
              "       [0.80128939, 0.19871061],\n",
              "       [0.87356418, 0.12643582],\n",
              "       [0.62766744, 0.37233256],\n",
              "       [0.29441081, 0.70558919],\n",
              "       [0.66061528, 0.33938472],\n",
              "       [0.44041102, 0.55958898],\n",
              "       [0.96104432, 0.03895568],\n",
              "       [0.93660137, 0.06339863],\n",
              "       [0.76232969, 0.23767031],\n",
              "       [0.88748113, 0.11251887],\n",
              "       [0.98463645, 0.01536355],\n",
              "       [0.19530411, 0.80469589],\n",
              "       [0.6749295 , 0.3250705 ],\n",
              "       [0.27928241, 0.72071759],\n",
              "       [0.87381201, 0.12618799],\n",
              "       [0.39492335, 0.60507665],\n",
              "       [0.80258301, 0.19741699],\n",
              "       [0.66073974, 0.33926026],\n",
              "       [0.67256772, 0.32743228],\n",
              "       [0.73780898, 0.26219102],\n",
              "       [0.64114176, 0.35885824],\n",
              "       [0.60570571, 0.39429429],\n",
              "       [0.95364888, 0.04635112],\n",
              "       [0.8430709 , 0.1569291 ],\n",
              "       [0.74071653, 0.25928347],\n",
              "       [0.99761171, 0.00238829],\n",
              "       [0.69156762, 0.30843238],\n",
              "       [0.72053936, 0.27946064],\n",
              "       [0.69386983, 0.30613017],\n",
              "       [0.48213415, 0.51786585],\n",
              "       [0.88275983, 0.11724017],\n",
              "       [0.765644  , 0.234356  ],\n",
              "       [0.95702719, 0.04297281],\n",
              "       [0.97379158, 0.02620842],\n",
              "       [0.6671765 , 0.3328235 ],\n",
              "       [0.64082716, 0.35917284],\n",
              "       [0.8788032 , 0.1211968 ],\n",
              "       [0.54483157, 0.45516843],\n",
              "       [0.63241525, 0.36758475],\n",
              "       [0.50078615, 0.49921385],\n",
              "       [0.52606644, 0.47393356],\n",
              "       [0.90958358, 0.09041642],\n",
              "       [0.39552172, 0.60447828],\n",
              "       [0.37155137, 0.62844863],\n",
              "       [0.71212778, 0.28787222],\n",
              "       [0.84211907, 0.15788093],\n",
              "       [0.52201464, 0.47798536],\n",
              "       [0.70197325, 0.29802675],\n",
              "       [0.32397976, 0.67602024],\n",
              "       [0.64552097, 0.35447903],\n",
              "       [0.6806129 , 0.3193871 ],\n",
              "       [0.11556847, 0.88443153],\n",
              "       [0.67381286, 0.32618714],\n",
              "       [0.34197303, 0.65802697],\n",
              "       [0.36543628, 0.63456372],\n",
              "       [0.78514242, 0.21485758],\n",
              "       [0.8606944 , 0.1393056 ],\n",
              "       [0.80407142, 0.19592858],\n",
              "       [0.35764509, 0.64235491],\n",
              "       [0.95033858, 0.04966142],\n",
              "       [0.72632671, 0.27367329],\n",
              "       [0.85917641, 0.14082359],\n",
              "       [0.87799664, 0.12200336],\n",
              "       [0.34646682, 0.65353318],\n",
              "       [0.68638442, 0.31361558],\n",
              "       [0.78931502, 0.21068498],\n",
              "       [0.77911041, 0.22088959],\n",
              "       [0.31886222, 0.68113778],\n",
              "       [0.9071469 , 0.0928531 ],\n",
              "       [0.80743783, 0.19256217],\n",
              "       [0.98071608, 0.01928392],\n",
              "       [0.23054729, 0.76945271],\n",
              "       [0.88162352, 0.11837648],\n",
              "       [0.78655335, 0.21344665],\n",
              "       [0.91181999, 0.08818001],\n",
              "       [0.39636962, 0.60363038],\n",
              "       [0.11317787, 0.88682213],\n",
              "       [0.79482967, 0.20517033],\n",
              "       [0.21385578, 0.78614422],\n",
              "       [0.84411582, 0.15588418],\n",
              "       [0.9457747 , 0.0542253 ],\n",
              "       [0.74698303, 0.25301697],\n",
              "       [0.10584208, 0.89415792],\n",
              "       [0.86663339, 0.13336661],\n",
              "       [0.12547213, 0.87452787],\n",
              "       [0.83182308, 0.16817692],\n",
              "       [0.85458657, 0.14541343],\n",
              "       [0.81967651, 0.18032349],\n",
              "       [0.40958803, 0.59041197],\n",
              "       [0.94801353, 0.05198647],\n",
              "       [0.81873051, 0.18126949],\n",
              "       [0.88067268, 0.11932732],\n",
              "       [0.53570483, 0.46429517],\n",
              "       [0.82338875, 0.17661125],\n",
              "       [0.19500433, 0.80499567],\n",
              "       [0.39843156, 0.60156844],\n",
              "       [0.83386492, 0.16613508],\n",
              "       [0.90449125, 0.09550875],\n",
              "       [0.94543053, 0.05456947],\n",
              "       [0.92184674, 0.07815326],\n",
              "       [0.91912913, 0.08087087],\n",
              "       [0.91907085, 0.08092915],\n",
              "       [0.41297885, 0.58702115],\n",
              "       [0.72462834, 0.27537166],\n",
              "       [0.77144617, 0.22855383],\n",
              "       [0.65118479, 0.34881521],\n",
              "       [0.8540396 , 0.1459604 ],\n",
              "       [0.1271689 , 0.8728311 ],\n",
              "       [0.81441508, 0.18558492],\n",
              "       [0.79166211, 0.20833789],\n",
              "       [0.47982875, 0.52017125],\n",
              "       [0.29267724, 0.70732276],\n",
              "       [0.60345458, 0.39654542],\n",
              "       [0.92572772, 0.07427228],\n",
              "       [0.81558518, 0.18441482],\n",
              "       [0.90313114, 0.09686886],\n",
              "       [0.35810013, 0.64189987],\n",
              "       [0.12427621, 0.87572379],\n",
              "       [0.40161972, 0.59838028],\n",
              "       [0.15548774, 0.84451226],\n",
              "       [0.5961727 , 0.4038273 ],\n",
              "       [0.75878477, 0.24121523],\n",
              "       [0.12889139, 0.87110861],\n",
              "       [0.68364328, 0.31635672],\n",
              "       [0.65450987, 0.34549013],\n",
              "       [0.72866812, 0.27133188],\n",
              "       [0.92308262, 0.07691738],\n",
              "       [0.84040435, 0.15959565],\n",
              "       [0.25892163, 0.74107837],\n",
              "       [0.64440107, 0.35559893],\n",
              "       [0.87502838, 0.12497162],\n",
              "       [0.08401907, 0.91598093],\n",
              "       [0.72101946, 0.27898054],\n",
              "       [0.62715311, 0.37284689],\n",
              "       [0.69195304, 0.30804696],\n",
              "       [0.73701463, 0.26298537],\n",
              "       [0.72968449, 0.27031551],\n",
              "       [0.76540565, 0.23459435],\n",
              "       [0.45959573, 0.54040427],\n",
              "       [0.8899017 , 0.1100983 ],\n",
              "       [0.74554556, 0.25445444],\n",
              "       [0.85254985, 0.14745015],\n",
              "       [0.06946649, 0.93053351],\n",
              "       [0.88280309, 0.11719691],\n",
              "       [0.07020412, 0.92979588],\n",
              "       [0.29074797, 0.70925203],\n",
              "       [0.86707433, 0.13292567],\n",
              "       [0.32580239, 0.67419761],\n",
              "       [0.60893263, 0.39106737],\n",
              "       [0.58044861, 0.41955139],\n",
              "       [0.83725525, 0.16274475],\n",
              "       [0.20559236, 0.79440764],\n",
              "       [0.88153052, 0.11846948],\n",
              "       [0.07191738, 0.92808262],\n",
              "       [0.30160876, 0.69839124],\n",
              "       [0.9019479 , 0.0980521 ],\n",
              "       [0.87492557, 0.12507443],\n",
              "       [0.5893929 , 0.4106071 ],\n",
              "       [0.90417674, 0.09582326],\n",
              "       [0.86854086, 0.13145914],\n",
              "       [0.13170397, 0.86829603],\n",
              "       [0.7487738 , 0.2512262 ],\n",
              "       [0.8716686 , 0.1283314 ],\n",
              "       [0.86038342, 0.13961658],\n",
              "       [0.77000657, 0.22999343],\n",
              "       [0.60125036, 0.39874964],\n",
              "       [0.54419248, 0.45580752],\n",
              "       [0.5582777 , 0.4417223 ],\n",
              "       [0.86846113, 0.13153887],\n",
              "       [0.89619369, 0.10380631],\n",
              "       [0.5645945 , 0.4354055 ],\n",
              "       [0.24831864, 0.75168136],\n",
              "       [0.82909504, 0.17090496],\n",
              "       [0.83653604, 0.16346396],\n",
              "       [0.79113908, 0.20886092],\n",
              "       [0.30583142, 0.69416858],\n",
              "       [0.99759153, 0.00240847],\n",
              "       [0.50423112, 0.49576888],\n",
              "       [0.67473327, 0.32526673],\n",
              "       [0.73051971, 0.26948029],\n",
              "       [0.41202564, 0.58797436],\n",
              "       [0.804604  , 0.195396  ],\n",
              "       [0.52538935, 0.47461065],\n",
              "       [0.48599848, 0.51400152],\n",
              "       [0.23057467, 0.76942533],\n",
              "       [0.86708559, 0.13291441],\n",
              "       [0.90354007, 0.09645993],\n",
              "       [0.47121535, 0.52878465],\n",
              "       [0.14495052, 0.85504948],\n",
              "       [0.45273748, 0.54726252],\n",
              "       [0.66018329, 0.33981671],\n",
              "       [0.54120532, 0.45879468],\n",
              "       [0.87099092, 0.12900908],\n",
              "       [0.57252155, 0.42747845],\n",
              "       [0.9710659 , 0.0289341 ],\n",
              "       [0.73270971, 0.26729029],\n",
              "       [0.27659667, 0.72340333],\n",
              "       [0.9254397 , 0.0745603 ],\n",
              "       [0.75986743, 0.24013257],\n",
              "       [0.92209135, 0.07790865],\n",
              "       [0.79689853, 0.20310147],\n",
              "       [0.38718387, 0.61281613],\n",
              "       [0.60427379, 0.39572621],\n",
              "       [0.92235121, 0.07764879],\n",
              "       [0.68157323, 0.31842677]])"
            ]
          },
          "metadata": {},
          "execution_count": 15
        }
      ]
    },
    {
      "cell_type": "code",
      "source": [
        "clf_eval(y_test, pred, pred_proba)   ###질문"
      ],
      "metadata": {
        "colab": {
          "base_uri": "https://localhost:8080/",
          "height": 276
        },
        "id": "IMSEVhwUEJq9",
        "outputId": "82f4b258-4d89-43d3-d4bf-73b89bd82fe5"
      },
      "id": "IMSEVhwUEJq9",
      "execution_count": 18,
      "outputs": [
        {
          "output_type": "error",
          "ename": "TypeError",
          "evalue": "'numpy.ndarray' object is not callable",
          "traceback": [
            "\u001b[0;31m---------------------------------------------------------------------------\u001b[0m",
            "\u001b[0;31mTypeError\u001b[0m                                 Traceback (most recent call last)",
            "\u001b[0;32m<ipython-input-18-a3fcd014cc15>\u001b[0m in \u001b[0;36m<cell line: 1>\u001b[0;34m()\u001b[0m\n\u001b[0;32m----> 1\u001b[0;31m \u001b[0mclf_eval\u001b[0m\u001b[0;34m(\u001b[0m\u001b[0my_test\u001b[0m\u001b[0;34m,\u001b[0m \u001b[0mpred\u001b[0m\u001b[0;34m,\u001b[0m \u001b[0mpred_proba\u001b[0m\u001b[0;34m)\u001b[0m   \u001b[0;31m###질문\u001b[0m\u001b[0;34m\u001b[0m\u001b[0;34m\u001b[0m\u001b[0m\n\u001b[0m",
            "\u001b[0;32m<ipython-input-8-ae60deab8130>\u001b[0m in \u001b[0;36mclf_eval\u001b[0;34m(y_test, pred, pred_proba)\u001b[0m\n\u001b[1;32m      2\u001b[0m \u001b[0;34m\u001b[0m\u001b[0m\n\u001b[1;32m      3\u001b[0m \u001b[0;32mdef\u001b[0m \u001b[0mclf_eval\u001b[0m\u001b[0;34m(\u001b[0m\u001b[0my_test\u001b[0m\u001b[0;34m,\u001b[0m \u001b[0mpred\u001b[0m\u001b[0;34m=\u001b[0m\u001b[0;32mNone\u001b[0m\u001b[0;34m,\u001b[0m \u001b[0mpred_proba\u001b[0m\u001b[0;34m=\u001b[0m\u001b[0;32mNone\u001b[0m\u001b[0;34m)\u001b[0m\u001b[0;34m:\u001b[0m\u001b[0;34m\u001b[0m\u001b[0;34m\u001b[0m\u001b[0m\n\u001b[0;32m----> 4\u001b[0;31m     \u001b[0mconfusion\u001b[0m \u001b[0;34m=\u001b[0m \u001b[0mconfusion_matrix\u001b[0m\u001b[0;34m(\u001b[0m\u001b[0my_test\u001b[0m\u001b[0;34m,\u001b[0m \u001b[0mpred\u001b[0m\u001b[0;34m)\u001b[0m\u001b[0;34m\u001b[0m\u001b[0;34m\u001b[0m\u001b[0m\n\u001b[0m\u001b[1;32m      5\u001b[0m     \u001b[0;31m#accuracy, precision, recall, f1, roc_auc(roc_auc_score의 경우 y_test와 pred_proba로 측정)는 직접 작성\u001b[0m\u001b[0;34m\u001b[0m\u001b[0;34m\u001b[0m\u001b[0m\n\u001b[1;32m      6\u001b[0m \u001b[0;34m\u001b[0m\u001b[0m\n",
            "\u001b[0;31mTypeError\u001b[0m: 'numpy.ndarray' object is not callable"
          ]
        }
      ]
    },
    {
      "cell_type": "code",
      "source": [
        "classifier.score(X_test, y_test)"
      ],
      "metadata": {
        "colab": {
          "base_uri": "https://localhost:8080/"
        },
        "id": "UuCF8PO8FYFu",
        "outputId": "f728e9b2-3ba1-4d14-b3d4-5d9717de1252"
      },
      "id": "UuCF8PO8FYFu",
      "execution_count": 16,
      "outputs": [
        {
          "output_type": "execute_result",
          "data": {
            "text/plain": [
              "0.7532467532467533"
            ]
          },
          "metadata": {},
          "execution_count": 16
        }
      ]
    },
    {
      "cell_type": "markdown",
      "source": [],
      "metadata": {
        "id": "UFNzmeFgFXqp"
      },
      "id": "UFNzmeFgFXqp"
    },
    {
      "cell_type": "markdown",
      "id": "112c16c5",
      "metadata": {
        "id": "112c16c5"
      },
      "source": [
        "2.3 LogisticRegression에서 solver 파라미터의 역할과 어떤 것들이 있고 각각은 무엇을 의미하는지 작성하세요."
      ]
    },
    {
      "cell_type": "markdown",
      "id": "901047a6",
      "metadata": {
        "id": "901047a6"
      },
      "source": []
    },
    {
      "cell_type": "markdown",
      "id": "e1e44954",
      "metadata": {
        "id": "e1e44954"
      },
      "source": [
        "2.4 pred와 pred_proba는 각각 어떤 차이가 있는지 작성하세요."
      ]
    },
    {
      "cell_type": "markdown",
      "id": "184a809e",
      "metadata": {
        "id": "184a809e"
      },
      "source": [
        "pred는 모델로 예측된 y값들이고, pred_proba는 각 클래스 별 예측확률이다."
      ]
    },
    {
      "cell_type": "markdown",
      "id": "483c0607",
      "metadata": {
        "id": "483c0607"
      },
      "source": [
        "2.5 전체 데이터 중 약 65%가 Negative이므로 재현율 성능에 조첨을 맞추겠습니다. 정밀도 재현율 curve를 보고 임계값 별 정밀도 재현율 값의 변화를 확인하기 위해 이를 위한 함수를 작성하겠습니다."
      ]
    },
    {
      "cell_type": "code",
      "execution_count": null,
      "id": "e83cea6f",
      "metadata": {
        "id": "e83cea6f"
      },
      "outputs": [],
      "source": [
        "def precision_recall_curve_plot(y_test, pred_proba_c1):\n",
        "    #threshold ndarray와 이 threshold에 따른 정밀도, 재현율 ndarray 추출.\n",
        "    precisions, recalls, thresholds = precision_recall_curve(y_test, pred_proba_c1)\n",
        "\n",
        "    #X축을 threshold값으로, Y축은 정밀도, 재현율 값으로 각각 Plot 수행, 정밀도는 점선으로 표시\n",
        "    plt.figure(figsize=(8,6))\n",
        "    threshold_boundary = thresholds.shape[0]\n",
        "    plt.plot(thresholds, precisions[0:threshold_boundary], linestyle='--', label='precision')\n",
        "    plt.plot(thresholds, recalls[0:threshold_boundary], label='recall')\n",
        "\n",
        "    #threshold 값 X축의 Scale을 0.1단위로 변경\n",
        "    start, end = plt.xlim()\n",
        "    plt.xticks(np.round(np.arange(start, end, 0.1), 2))\n",
        "\n",
        "    #X축, y축 label과 legend, grid 설정\n",
        "    ### 직접 작성(xlabel - 'Threshold value', ylabel = 'Precision and Recall value'), legend, grid는 default값으로\n",
        "    ......."
      ]
    },
    {
      "cell_type": "markdown",
      "id": "ba2eb473",
      "metadata": {
        "id": "ba2eb473"
      },
      "source": [
        "2.6 작성한 함수를 바탕으로 임계값 별 정밀도와 재현율 값 변화를 확인하세요."
      ]
    },
    {
      "cell_type": "code",
      "execution_count": null,
      "id": "ec2b0147",
      "metadata": {
        "id": "ec2b0147"
      },
      "outputs": [],
      "source": [
        "pred_proba_c1 = lr_clf.predict_proba(X_test)[:,1]\n",
        "precision_recall_curve_plot(y_test, pred_proba_c1)"
      ]
    },
    {
      "cell_type": "markdown",
      "id": "2586f757",
      "metadata": {
        "id": "2586f757"
      },
      "source": [
        "2.7 그래프를 통해 확인했을 때 Threshold를 0.38정도로 설정했을 때 recall과 precision이 어느정도 균형이 맞음을 알 수 있습니다. 그러나 두 지표 모두 0.7 이하로 낮은 값이기에 다시 확인하도록 하겠습니다. 먼저 describe() 함수를 통해 개별 feature에 대한 분포도를 확인하세요."
      ]
    },
    {
      "cell_type": "code",
      "execution_count": null,
      "id": "265ee3ae",
      "metadata": {
        "id": "265ee3ae"
      },
      "outputs": [],
      "source": []
    },
    {
      "cell_type": "markdown",
      "id": "d36a1a64",
      "metadata": {
        "id": "d36a1a64"
      },
      "source": [
        "2.8 위에서 확인해봤을 때 min 값이 0으로 되어 있는 feature가 다수 존재합니다. Glucose(포도당 수치), BMI 지수가 0인 것은 말이 안 되므로 이들을 평균값으로 대체하세요."
      ]
    },
    {
      "cell_type": "code",
      "execution_count": null,
      "id": "7597ffcf",
      "metadata": {
        "id": "7597ffcf"
      },
      "outputs": [],
      "source": [
        "### Glucose, BloodPressure, SkinThickness, Insulin, BMI에 대해 평균값으로 대체\n"
      ]
    },
    {
      "cell_type": "markdown",
      "id": "b1fecb4f",
      "metadata": {
        "id": "b1fecb4f"
      },
      "source": [
        "2.9 이후 대체한 feature들에 대해 feature scaling을 진행하겠습니다. 모두 numeric feature이므로 X에 대해 StandardScaler를 일괄 적용하세요."
      ]
    },
    {
      "cell_type": "code",
      "execution_count": null,
      "id": "0d3dc279",
      "metadata": {
        "id": "0d3dc279"
      },
      "outputs": [],
      "source": []
    },
    {
      "cell_type": "markdown",
      "id": "799fbfbf",
      "metadata": {
        "id": "799fbfbf"
      },
      "source": [
        "2.10 feature scaling은 왜 사용하고 어떤 것들이 있는지 작성하세요."
      ]
    },
    {
      "cell_type": "markdown",
      "id": "484a9f1e",
      "metadata": {
        "id": "484a9f1e"
      },
      "source": []
    },
    {
      "cell_type": "markdown",
      "id": "d6e7ca19",
      "metadata": {
        "id": "d6e7ca19"
      },
      "source": [
        "2.11 다시 에측하기에 앞서 위에서 scaling을 통해 변경된 X_scaled를 활용해 다시 train_test_split을 진행하세요(함수 파라미터 동일)."
      ]
    },
    {
      "cell_type": "code",
      "execution_count": null,
      "id": "a8e6a633",
      "metadata": {
        "id": "a8e6a633"
      },
      "outputs": [],
      "source": []
    },
    {
      "cell_type": "markdown",
      "id": "bb9b80c8",
      "metadata": {
        "id": "bb9b80c8"
      },
      "source": [
        "2.12 로지스틱 회귀로 앞서 진행한 것과 동일하게 진행하세요."
      ]
    },
    {
      "cell_type": "code",
      "execution_count": null,
      "id": "e14a4d59",
      "metadata": {
        "id": "e14a4d59"
      },
      "outputs": [],
      "source": []
    },
    {
      "cell_type": "markdown",
      "id": "21e2586a",
      "metadata": {
        "id": "21e2586a"
      },
      "source": [
        "### 3. 자유 분석\n",
        "성능을 높일 수 있는 방법들을 활용해 예측을 진행하세요."
      ]
    },
    {
      "cell_type": "code",
      "execution_count": null,
      "id": "eb61e9f0",
      "metadata": {
        "id": "eb61e9f0"
      },
      "outputs": [],
      "source": []
    },
    {
      "cell_type": "code",
      "execution_count": null,
      "id": "215c229e",
      "metadata": {
        "id": "215c229e"
      },
      "outputs": [],
      "source": []
    },
    {
      "cell_type": "code",
      "execution_count": null,
      "id": "a16dd1bc",
      "metadata": {
        "id": "a16dd1bc"
      },
      "outputs": [],
      "source": []
    }
  ],
  "metadata": {
    "kernelspec": {
      "display_name": "Python 3 (ipykernel)",
      "language": "python",
      "name": "python3"
    },
    "language_info": {
      "codemirror_mode": {
        "name": "ipython",
        "version": 3
      },
      "file_extension": ".py",
      "mimetype": "text/x-python",
      "name": "python",
      "nbconvert_exporter": "python",
      "pygments_lexer": "ipython3",
      "version": "3.10.9"
    },
    "colab": {
      "provenance": []
    }
  },
  "nbformat": 4,
  "nbformat_minor": 5
}