{
 "cells": [
  {
   "cell_type": "markdown",
   "id": "89326217-e3ac-4998-b3cb-93b17ad40fe4",
   "metadata": {},
   "source": [
    "## 1차과제\n",
    "-데이터: 2018 사교육비 총조사"
   ]
  },
  {
   "cell_type": "markdown",
   "id": "1b43754e-1d14-4e52-889e-8cc2c5d7eb59",
   "metadata": {},
   "source": [
    "### 1.데이터 불러오기\n",
    "-1.1 사용할 라이브러리와 데이터를 불러오고 앞 10개의 데이터만 출력하세요."
   ]
  },
  {
   "cell_type": "code",
   "execution_count": 1652,
   "id": "3da99a04-2809-482d-8a81-71a157dcb5af",
   "metadata": {},
   "outputs": [],
   "source": [
    "import matplotlib.pyplot as plt\n",
    "import matplotlib.font_manager as fm"
   ]
  },
  {
   "cell_type": "code",
   "execution_count": 1653,
   "id": "2486bb0e-0768-4052-b9ce-17be319c3594",
   "metadata": {},
   "outputs": [],
   "source": [
    "font_path = 'C:/Users/user/Downloads/nanum-gothic'"
   ]
  },
  {
   "cell_type": "code",
   "execution_count": 1654,
   "id": "e26ea662-4481-467e-a5f8-fcfe9b3abc71",
   "metadata": {},
   "outputs": [
    {
     "ename": "PermissionError",
     "evalue": "[Errno 13] Permission denied: 'C:\\\\Users\\\\user\\\\Downloads\\\\nanum-gothic'",
     "output_type": "error",
     "traceback": [
      "\u001b[1;31m---------------------------------------------------------------------------\u001b[0m",
      "\u001b[1;31mPermissionError\u001b[0m                           Traceback (most recent call last)",
      "Cell \u001b[1;32mIn[1654], line 1\u001b[0m\n\u001b[1;32m----> 1\u001b[0m font_name \u001b[38;5;241m=\u001b[39m fm\u001b[38;5;241m.\u001b[39mFontProperties(fname\u001b[38;5;241m=\u001b[39mfont_path)\u001b[38;5;241m.\u001b[39mget_name()\n",
      "File \u001b[1;32m~\\anaconda3\\Lib\\site-packages\\matplotlib\\font_manager.py:669\u001b[0m, in \u001b[0;36mFontProperties.get_name\u001b[1;34m(self)\u001b[0m\n\u001b[0;32m    665\u001b[0m \u001b[38;5;28;01mdef\u001b[39;00m \u001b[38;5;21mget_name\u001b[39m(\u001b[38;5;28mself\u001b[39m):\n\u001b[0;32m    666\u001b[0m \u001b[38;5;250m    \u001b[39m\u001b[38;5;124;03m\"\"\"\u001b[39;00m\n\u001b[0;32m    667\u001b[0m \u001b[38;5;124;03m    Return the name of the font that best matches the font properties.\u001b[39;00m\n\u001b[0;32m    668\u001b[0m \u001b[38;5;124;03m    \"\"\"\u001b[39;00m\n\u001b[1;32m--> 669\u001b[0m     \u001b[38;5;28;01mreturn\u001b[39;00m get_font(findfont(\u001b[38;5;28mself\u001b[39m))\u001b[38;5;241m.\u001b[39mfamily_name\n",
      "File \u001b[1;32m~\\anaconda3\\Lib\\site-packages\\matplotlib\\font_manager.py:1554\u001b[0m, in \u001b[0;36mget_font\u001b[1;34m(font_filepaths, hinting_factor)\u001b[0m\n\u001b[0;32m   1551\u001b[0m \u001b[38;5;28;01mif\u001b[39;00m hinting_factor \u001b[38;5;129;01mis\u001b[39;00m \u001b[38;5;28;01mNone\u001b[39;00m:\n\u001b[0;32m   1552\u001b[0m     hinting_factor \u001b[38;5;241m=\u001b[39m mpl\u001b[38;5;241m.\u001b[39mrcParams[\u001b[38;5;124m'\u001b[39m\u001b[38;5;124mtext.hinting_factor\u001b[39m\u001b[38;5;124m'\u001b[39m]\n\u001b[1;32m-> 1554\u001b[0m \u001b[38;5;28;01mreturn\u001b[39;00m _get_font(\n\u001b[0;32m   1555\u001b[0m     \u001b[38;5;66;03m# must be a tuple to be cached\u001b[39;00m\n\u001b[0;32m   1556\u001b[0m     paths,\n\u001b[0;32m   1557\u001b[0m     hinting_factor,\n\u001b[0;32m   1558\u001b[0m     _kerning_factor\u001b[38;5;241m=\u001b[39mmpl\u001b[38;5;241m.\u001b[39mrcParams[\u001b[38;5;124m'\u001b[39m\u001b[38;5;124mtext.kerning_factor\u001b[39m\u001b[38;5;124m'\u001b[39m],\n\u001b[0;32m   1559\u001b[0m     \u001b[38;5;66;03m# also key on the thread ID to prevent segfaults with multi-threading\u001b[39;00m\n\u001b[0;32m   1560\u001b[0m     thread_id\u001b[38;5;241m=\u001b[39mthreading\u001b[38;5;241m.\u001b[39mget_ident()\n\u001b[0;32m   1561\u001b[0m )\n",
      "File \u001b[1;32m~\\anaconda3\\Lib\\site-packages\\matplotlib\\font_manager.py:1496\u001b[0m, in \u001b[0;36m_get_font\u001b[1;34m(font_filepaths, hinting_factor, _kerning_factor, thread_id)\u001b[0m\n\u001b[0;32m   1493\u001b[0m \u001b[38;5;129m@lru_cache\u001b[39m(\u001b[38;5;241m64\u001b[39m)\n\u001b[0;32m   1494\u001b[0m \u001b[38;5;28;01mdef\u001b[39;00m \u001b[38;5;21m_get_font\u001b[39m(font_filepaths, hinting_factor, \u001b[38;5;241m*\u001b[39m, _kerning_factor, thread_id):\n\u001b[0;32m   1495\u001b[0m     first_fontpath, \u001b[38;5;241m*\u001b[39mrest \u001b[38;5;241m=\u001b[39m font_filepaths\n\u001b[1;32m-> 1496\u001b[0m     \u001b[38;5;28;01mreturn\u001b[39;00m ft2font\u001b[38;5;241m.\u001b[39mFT2Font(\n\u001b[0;32m   1497\u001b[0m         first_fontpath, hinting_factor,\n\u001b[0;32m   1498\u001b[0m         _fallback_list\u001b[38;5;241m=\u001b[39m[\n\u001b[0;32m   1499\u001b[0m             ft2font\u001b[38;5;241m.\u001b[39mFT2Font(\n\u001b[0;32m   1500\u001b[0m                 fpath, hinting_factor,\n\u001b[0;32m   1501\u001b[0m                 _kerning_factor\u001b[38;5;241m=\u001b[39m_kerning_factor\n\u001b[0;32m   1502\u001b[0m             )\n\u001b[0;32m   1503\u001b[0m             \u001b[38;5;28;01mfor\u001b[39;00m fpath \u001b[38;5;129;01min\u001b[39;00m rest\n\u001b[0;32m   1504\u001b[0m         ],\n\u001b[0;32m   1505\u001b[0m         _kerning_factor\u001b[38;5;241m=\u001b[39m_kerning_factor\n\u001b[0;32m   1506\u001b[0m     )\n",
      "\u001b[1;31mPermissionError\u001b[0m: [Errno 13] Permission denied: 'C:\\\\Users\\\\user\\\\Downloads\\\\nanum-gothic'"
     ]
    }
   ],
   "source": [
    "font_name = fm.FontProperties(fname=font_path).get_name()"
   ]
  },
  {
   "cell_type": "code",
   "execution_count": null,
   "id": "3450a4fb-a7f3-48a8-9d03-36eea47ad7cf",
   "metadata": {},
   "outputs": [],
   "source": [
    "plt.rc('font', family=font_name)"
   ]
  },
  {
   "cell_type": "code",
   "execution_count": null,
   "id": "036781d1-c3d5-4cdc-ab5d-1b91c74546ba",
   "metadata": {},
   "outputs": [],
   "source": [
    "import pandas as pd\n",
    "import seaborn as sns\n",
    "import numpy as np\n",
    "import matplotlib.pyplot as plt"
   ]
  },
  {
   "cell_type": "code",
   "execution_count": null,
   "id": "8d2e3928-dbbf-4489-91ab-af6cc44b0c4b",
   "metadata": {},
   "outputs": [],
   "source": [
    "data = pd.read_csv(\"C:/Users/user/AppData/Roaming/Microsoft/Windows/Start Menu/Programs/Python 3.12/사교육비조사.csv\",encoding='utf-8')\n",
    "data.head(10)"
   ]
  },
  {
   "cell_type": "markdown",
   "id": "b8aad501-8f2f-4071-b672-8b2b34f45d74",
   "metadata": {},
   "source": [
    "-1.2 불러온 데이터의 요약 정보를 출력하세요."
   ]
  },
  {
   "cell_type": "code",
   "execution_count": null,
   "id": "fd8a5054-4835-42cf-9e6e-d2788f97b444",
   "metadata": {},
   "outputs": [],
   "source": [
    "data.info()"
   ]
  },
  {
   "cell_type": "markdown",
   "id": "5c633e9e-2c04-4556-bd6a-52989d712d44",
   "metadata": {},
   "source": [
    "-1.3 데이터의 기술통계량을 출력하세요."
   ]
  },
  {
   "cell_type": "code",
   "execution_count": null,
   "id": "c9c340dd-5e93-4210-b72b-110b00541286",
   "metadata": {},
   "outputs": [],
   "source": [
    "data.describe()"
   ]
  },
  {
   "cell_type": "markdown",
   "id": "b8208c14-19bc-46cb-a551-81908081c9ee",
   "metadata": {},
   "source": [
    "## 2. EDA 및 전처리"
   ]
  },
  {
   "cell_type": "markdown",
   "id": "e511b7b9-722d-4d6b-81cd-bb445291778e",
   "metadata": {},
   "source": [
    "-2.1 해당 데이터는 초중고 학생이 모두 들어있는 데이터로 보다 명확한 분석을 위해 고등학생만을 대상으로 분석합니다. 이를 위해 학교급구분코드가 3(고등학생)인 데이터만 남기도록 하고 몇개의 데이터가 남았는지 확인 후 학교급구분코드 컬럼을 삭제하세요."
   ]
  },
  {
   "cell_type": "code",
   "execution_count": null,
   "id": "2e8593fd-f13d-47e6-8741-95ed3cf018e3",
   "metadata": {},
   "outputs": [],
   "source": [
    "data.query('학교급구분코드 == 3')"
   ]
  },
  {
   "cell_type": "code",
   "execution_count": null,
   "id": "8d848b86-e775-43ef-abb1-db159c9d0162",
   "metadata": {},
   "outputs": [],
   "source": [
    "len(data.query('학교급구분코드 == 3'))"
   ]
  },
  {
   "cell_type": "code",
   "execution_count": null,
   "id": "0de7f027-8acd-474f-a00d-c333ae089c95",
   "metadata": {},
   "outputs": [],
   "source": [
    "data.drop('학교급구분코드',axis=1,inplace=True)"
   ]
  },
  {
   "cell_type": "markdown",
   "id": "6badaebb-6255-4653-a435-2e5c457bdb4a",
   "metadata": {},
   "source": [
    "-2.2 지역구분코드와 행정구역시도코드를 삭제하세요(분석에 필요할 것으로 보이나 현재는 편의상 삭제)."
   ]
  },
  {
   "cell_type": "code",
   "execution_count": null,
   "id": "fa4b7120-7c9e-4f92-9822-d3314988d9df",
   "metadata": {},
   "outputs": [],
   "source": [
    "data.drop(['지역구분코드','행정구역시도코드'],axis=1,inplace=True)"
   ]
  },
  {
   "cell_type": "markdown",
   "id": "aba95ad4-c834-4964-9e5e-cef0f29c0659",
   "metadata": {},
   "source": [
    "-2.3 방과후학교참여여부에 속한 값들의 개수를 확인하고 One Hot Encoding을 통해 1과 2를 각각 참여, 미참여의 dummy variable로 만드세요."
   ]
  },
  {
   "cell_type": "code",
   "execution_count": null,
   "id": "8c8defc5-ca57-483f-820f-78a6fcfa1e17",
   "metadata": {},
   "outputs": [],
   "source": [
    "print(data['방과후학교참여여부'].value_counts())"
   ]
  },
  {
   "cell_type": "code",
   "execution_count": null,
   "id": "b9b35868-060f-483a-b555-cd9159443e56",
   "metadata": {},
   "outputs": [],
   "source": [
    "dummies=pd.get_dummies(df['방과후학교참여여부'])"
   ]
  },
  {
   "cell_type": "code",
   "execution_count": null,
   "id": "d9980f70-5b3c-4269-b414-15ba8f2a8855",
   "metadata": {},
   "outputs": [],
   "source": [
    "# dummies.rename(columns={'1':'참여','2':'미참여'},inplace=True)"
   ]
  },
  {
   "cell_type": "code",
   "execution_count": null,
   "id": "7d759c8e-f769-41ed-b2d5-1bd4b4dcc7e2",
   "metadata": {},
   "outputs": [],
   "source": [
    "merged=pd.concat([data,dummies],axis=1)"
   ]
  },
  {
   "cell_type": "code",
   "execution_count": null,
   "id": "7d8cc69e-d206-47dd-bc0e-06cddd7ce74a",
   "metadata": {},
   "outputs": [],
   "source": [
    "data=merged.drop(['방과후학교참여여부'],axis=1)"
   ]
  },
  {
   "cell_type": "markdown",
   "id": "a20227ac-efb7-4034-917d-d930bac6a634",
   "metadata": {},
   "source": [
    "-2.4 EBS교재비의 경우 0값이 절반 이상이므로 모델 성능에 영향을 미칠 수 있기에 삭제하겠습니다."
   ]
  },
  {
   "cell_type": "code",
   "execution_count": null,
   "id": "82bc359c-d6b8-4c5f-a1f7-add9d2fd1a4b",
   "metadata": {},
   "outputs": [],
   "source": [
    "data.drop('EBS교재비',axis=1,inplace=True)"
   ]
  },
  {
   "cell_type": "markdown",
   "id": "ef22e435-453c-4a99-85ba-61b95cf923a7",
   "metadata": {},
   "source": [
    "-2.5 학생성적구분코드에 따른 사교육비총비용의 분포를 BoxPlot으로 나타내세요."
   ]
  },
  {
   "cell_type": "code",
   "execution_count": null,
   "id": "e209583e-b3d0-4f06-8cb2-36e34663b283",
   "metadata": {},
   "outputs": [],
   "source": [
    "sns.boxplot(data,x='학생성적구분코드',y='사교육비총비용')"
   ]
  },
  {
   "cell_type": "markdown",
   "id": "1b827df1-6164-415a-8176-7d580f441883",
   "metadata": {},
   "source": [
    "-2.6 학생성적구분코드에 속한 값들의 밸런스를 확인해봤을 때 중위값이 과도하게 많으므로 1, 2를 상위, 4, 5를 하위로 묶은 후 One Hot Encoding을 통해 dummy variable로 변환하세요."
   ]
  },
  {
   "cell_type": "code",
   "execution_count": null,
   "id": "2690476f-375b-4d47-b09d-29fb28847dae",
   "metadata": {},
   "outputs": [],
   "source": [
    "data_1=data.query('학생성적구분코드 <3')"
   ]
  },
  {
   "cell_type": "code",
   "execution_count": null,
   "id": "54abbb09-ebcb-4d78-ba79-2f1bbacb6fcd",
   "metadata": {},
   "outputs": [],
   "source": [
    "data['학생성적구분코드_상위']=data_1['학생성적구분코드']"
   ]
  },
  {
   "cell_type": "code",
   "execution_count": null,
   "id": "4e777b52-72e4-4530-841e-520e8ab603fe",
   "metadata": {},
   "outputs": [],
   "source": [
    "data_2=data.query('학생성적구분코드 >3')"
   ]
  },
  {
   "cell_type": "code",
   "execution_count": null,
   "id": "ac1cb288-19f3-4b7a-83fa-611213707dfc",
   "metadata": {},
   "outputs": [],
   "source": [
    "data['학생성적구분코드_하위']=data_2['학생성적구분코드']"
   ]
  },
  {
   "cell_type": "markdown",
   "id": "773296cd-3503-4e40-9aec-dd466e361989",
   "metadata": {},
   "source": [
    "-2.7 Label Encoding과 One Hot Encoding의 차이에 대해 서술하세요."
   ]
  },
  {
   "cell_type": "markdown",
   "id": "f5060f36-58e8-44f4-8d7b-96fdcaf57640",
   "metadata": {},
   "source": [
    "둘 다 문자열 데이터를 모델이 학습할 수 있는 형태로 바꿔 주는 인코딩 기법으로 Label Encoding은 알파벳 순서에 따라 인코딩 하여 단순히 문자형 데이터를 정수 형태로 바꿔줘 데이터의 크기 및 shape이 변하지 않는 방법이고 One Hot Encoding은 카테고리를 이진수로 구성된 배열 형태로 변환시키는 인코딩 방법이다."
   ]
  },
  {
   "cell_type": "markdown",
   "id": "c4708c8a-b300-4a49-98f7-713043fcd6e9",
   "metadata": {},
   "source": [
    "-2.8 dummy variable로 변환된 기존 변수와 dummy variable 중 하나를 삭제하겠습니다(다중공선성 문제)."
   ]
  },
  {
   "cell_type": "code",
   "execution_count": null,
   "id": "65ecd468-f997-4323-8419-6dd0fe5acf6f",
   "metadata": {},
   "outputs": [],
   "source": [
    "data.drop('학생성적구분코드',axis=1,inplace=True)"
   ]
  },
  {
   "cell_type": "markdown",
   "id": "63fe7499-132c-4cc0-94d3-269e3063e139",
   "metadata": {},
   "source": [
    "-2.9 다중공선성 문제가 무엇인지 작성하고 왜 이것이 One Hot Encoding의 dummy variable과 관련 있는지 작성하세요."
   ]
  },
  {
   "cell_type": "markdown",
   "id": "212d1fe2-e096-460f-a059-ea5952304eef",
   "metadata": {},
   "source": [
    "다중공선성이란 회귀모형에서 설명 변수간에 정확한 선형 관계는 나타나지 않고 그 상관관계만 높을 때 나타나는 문제인데 One Hot Encoding의 경우 dummy variable들로 이루어진 배열로만 다루기 때문에 데이터를 변형시킬 때, 작은 값들은 무시하는 경향이 있어 다중공선성 문제가 발생하기 쉽다."
   ]
  },
  {
   "cell_type": "markdown",
   "id": "45e38c84-de98-43b6-ab5e-45edeea333ec",
   "metadata": {},
   "source": [
    "-2.10 사교육참여시간수, 일반교과사교육시간수, 예체능사교육시간수의 상관 관계를 Heatmap으로 시각화하세요."
   ]
  },
  {
   "cell_type": "code",
   "execution_count": null,
   "id": "91dcc478-d0ff-463a-9acd-108df36836d1",
   "metadata": {},
   "outputs": [],
   "source": [
    "time_data=data.loc[:,['사교육참여시간수','일반교과사교육시간수','예체능사교육시간수']]"
   ]
  },
  {
   "cell_type": "code",
   "execution_count": null,
   "id": "696781d0-4295-4d89-99f6-7e5a36eb423d",
   "metadata": {},
   "outputs": [],
   "source": [
    "sns.heatmap(time_data)"
   ]
  },
  {
   "cell_type": "markdown",
   "id": "a28322af-8523-48e2-a215-305768107143",
   "metadata": {},
   "source": [
    "-2.11 이후 자유롭게 데이터를 살펴보고 전처리를 진행하세요."
   ]
  },
  {
   "cell_type": "markdown",
   "id": "40e37e6e-307e-497f-b4fb-f2f9dfb77367",
   "metadata": {},
   "source": [
    "### 3. 분석"
   ]
  },
  {
   "cell_type": "markdown",
   "id": "ab9749ef-b32d-4227-8b81-8bc42e78a14b",
   "metadata": {},
   "source": [
    "-3.1 전처리가 완료된 데이터를 통해 분석을 진행하세요.\n",
    "- target variable은 사교육비총비용\n",
    "- 최소 2개의 모델 사용\n",
    "- 위에서 진행한 전처리 방식과 달라도 무방(단, 전처리 과정에 대한 서술 필요)"
   ]
  },
  {
   "cell_type": "code",
   "execution_count": null,
   "id": "cfd66b72-a676-43c3-96df-c6ec753b71c4",
   "metadata": {},
   "outputs": [],
   "source": []
  }
 ],
 "metadata": {
  "kernelspec": {
   "display_name": "Python 3 (ipykernel)",
   "language": "python",
   "name": "python3"
  },
  "language_info": {
   "codemirror_mode": {
    "name": "ipython",
    "version": 3
   },
   "file_extension": ".py",
   "mimetype": "text/x-python",
   "name": "python",
   "nbconvert_exporter": "python",
   "pygments_lexer": "ipython3",
   "version": "3.11.7"
  }
 },
 "nbformat": 4,
 "nbformat_minor": 5
}
