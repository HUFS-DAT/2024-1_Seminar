{
 "cells": [
  {
   "cell_type": "code",
   "execution_count": 1,
   "metadata": {},
   "outputs": [],
   "source": [
    "names = [\n",
    "'김동영',\n",
    "'김민서',\n",
    "'김민지',\n",
    "'김선화',\n",
    "'김세린',\n",
    "'김예경',\n",
    "'김준휘',\n",
    "'김채은',\n",
    "'문서영',\n",
    "'박민규',\n",
    "'박서현',\n",
    "'백준홍',\n",
    "'백형준',\n",
    "'송은지',\n",
    "'원시현',\n",
    "'이나원',\n",
    "'이다빈',\n",
    "'이주은',\n",
    "'이지원',\n",
    "'이채영',\n",
    "'전영준',\n",
    "'최규민',\n",
    "'함인규',\n",
    "'황서진',\n",
    "]"
   ]
  },
  {
   "cell_type": "code",
   "execution_count": 2,
   "metadata": {},
   "outputs": [
    {
     "name": "stdout",
     "output_type": "stream",
     "text": [
      "생성완료\n",
      "생성완료\n",
      "생성완료\n",
      "생성완료\n",
      "생성완료\n",
      "생성완료\n",
      "생성완료\n",
      "생성완료\n",
      "생성완료\n",
      "생성완료\n",
      "생성완료\n",
      "생성완료\n",
      "생성완료\n",
      "생성완료\n",
      "생성완료\n",
      "생성완료\n",
      "생성완료\n",
      "생성완료\n",
      "생성완료\n",
      "생성완료\n",
      "생성완료\n",
      "생성완료\n",
      "생성완료\n",
      "생성완료\n"
     ]
    }
   ],
   "source": [
    "import os\n",
    "\n",
    "base_path = './'\n",
    "for name in names:\n",
    "    folder_path = os.path.join(base_path + name)\n",
    "    gitkeep_path = os.path.join(folder_path, '.gitkeep')\n",
    "    #이름으로 된 폴더가 없으면 만들기\n",
    "    if not os.path.exists(folder_path):\n",
    "        os.makedirs(folder_path)\n",
    "        with open(gitkeep_path, 'w') as file:\n",
    "            pass\n",
    "        print(\"생성완료\")\n",
    "    else:\n",
    "        print(\"이미 있음\")"
   ]
  }
 ],
 "metadata": {
  "kernelspec": {
   "display_name": "Python 3",
   "language": "python",
   "name": "python3"
  },
  "language_info": {
   "codemirror_mode": {
    "name": "ipython",
    "version": 3
   },
   "file_extension": ".py",
   "mimetype": "text/x-python",
   "name": "python",
   "nbconvert_exporter": "python",
   "pygments_lexer": "ipython3",
   "version": "3.7.9"
  },
  "orig_nbformat": 4
 },
 "nbformat": 4,
 "nbformat_minor": 2
}
