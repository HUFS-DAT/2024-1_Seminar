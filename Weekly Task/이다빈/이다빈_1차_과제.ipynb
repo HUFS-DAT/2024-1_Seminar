{
 "cells": [
  {
   "cell_type": "markdown",
   "id": "bb4cd9f2",
   "metadata": {},
   "source": [
    "## 1차 과제\n",
    "\n",
    "- 데이터: 2018 사교육비 총조사\n",
    "\n",
    "https://mdis.kostat.go.kr/ofrData/selectOfrDataDetail.do?survId=95&itmDiv=1&nPage=3&itemId=2008&itemNm=\n",
    "\n",
    "- 제출 양식: 이름_n차_과제.ipynb\n",
    "- 사용 라이브러리: pandas, numpy, matplotlib, seaborn, OneHotEncoder\n",
    "\n",
    "**코드형태로 되어 있는 컬럼의 경우 파일설계서를 참고하시기 바랍니다.**"
   ]
  },
  {
   "cell_type": "markdown",
   "id": "176f305a",
   "metadata": {},
   "source": [
    "### 1. 데이터 불러오기"
   ]
  },
  {
   "cell_type": "markdown",
   "id": "b6ac847a",
   "metadata": {},
   "source": [
    "1.1 사용할 라이브러리와 데이터를 불러오고 앞 10개의 데이터만 출력하세요."
   ]
  },
  {
   "cell_type": "code",
   "execution_count": null,
   "id": "5b689618",
   "metadata": {},
   "outputs": [],
   "source": []
  },
  {
   "cell_type": "markdown",
   "id": "7f9d86f5",
   "metadata": {},
   "source": [
    "1.2 불러온 데이터의 요약 정보를 출력하세요."
   ]
  },
  {
   "cell_type": "code",
   "execution_count": null,
   "id": "8a9347ff",
   "metadata": {},
   "outputs": [],
   "source": []
  },
  {
   "cell_type": "markdown",
   "id": "375f1a76",
   "metadata": {},
   "source": [
    "1.2 데이터의 기술통계량을 출력하세요."
   ]
  },
  {
   "cell_type": "code",
   "execution_count": null,
   "id": "ba615867",
   "metadata": {},
   "outputs": [],
   "source": []
  },
  {
   "cell_type": "markdown",
   "id": "bb5c43f8",
   "metadata": {},
   "source": [
    "### 2. EDA 및 전처리"
   ]
  },
  {
   "cell_type": "markdown",
   "id": "6406114a",
   "metadata": {},
   "source": [
    "2.1 해당 데이터는 초중고 학생이 모두 들어있는 데이터로 보다 명확한 분석을 위해 고등학생만을 대상으로 분석합니다.\n",
    "\n",
    "이를 위해 학교급구분코드가 3(고등학생)인 데이터만 남기도록 하고 몇개의 데이터가 남았는지 확인 후 학교급구분코드 컬럼을 삭제하세요."
   ]
  },
  {
   "cell_type": "code",
   "execution_count": null,
   "id": "61438fc0",
   "metadata": {},
   "outputs": [],
   "source": []
  },
  {
   "cell_type": "code",
   "execution_count": null,
   "id": "e45238de",
   "metadata": {},
   "outputs": [],
   "source": []
  },
  {
   "cell_type": "markdown",
   "id": "978ed29e",
   "metadata": {},
   "source": [
    "2.2 지역구분코드와 행정구역시도코드를 삭제하세요(분석에 필요할 것으로 보이나 현재는 편의상 삭제)."
   ]
  },
  {
   "cell_type": "code",
   "execution_count": null,
   "id": "20ff2f9b",
   "metadata": {
    "scrolled": true
   },
   "outputs": [],
   "source": []
  },
  {
   "cell_type": "markdown",
   "id": "6ced2ae3",
   "metadata": {},
   "source": [
    "2.3 방과후학교참여여부에 속한 값들의 개수를 확인하고 One Hot Encoding을 통해 1과 2를 각각 참여, 미참여의 dummy variable로 만드세요."
   ]
  },
  {
   "cell_type": "code",
   "execution_count": null,
   "id": "971d335c",
   "metadata": {},
   "outputs": [],
   "source": []
  },
  {
   "cell_type": "code",
   "execution_count": null,
   "id": "5796760c",
   "metadata": {},
   "outputs": [],
   "source": []
  },
  {
   "cell_type": "code",
   "execution_count": null,
   "id": "943c2c92",
   "metadata": {},
   "outputs": [],
   "source": []
  },
  {
   "cell_type": "markdown",
   "id": "b9f57912",
   "metadata": {},
   "source": [
    "2.4 EBS교재비의 경우 0값이 절반 이상이므로 모델 성능에 영향을 미칠 수 있기에 삭제하겠습니다."
   ]
  },
  {
   "cell_type": "code",
   "execution_count": null,
   "id": "2f933c72",
   "metadata": {},
   "outputs": [],
   "source": []
  },
  {
   "cell_type": "code",
   "execution_count": null,
   "id": "f1046512",
   "metadata": {},
   "outputs": [],
   "source": []
  },
  {
   "cell_type": "markdown",
   "id": "cf95a9f5",
   "metadata": {},
   "source": [
    "2.5 학생성적구분코드에 따른 사교육비총비용의 분포를 BoxPlot으로 나타내세요."
   ]
  },
  {
   "cell_type": "code",
   "execution_count": null,
   "id": "39a5b3de",
   "metadata": {},
   "outputs": [],
   "source": []
  },
  {
   "cell_type": "markdown",
   "id": "6d829c10",
   "metadata": {},
   "source": [
    "2.6 학생성적구분코드에 속한 값들의 밸런스를 확인해봤을 때 중위값이 과도하게 많으므로 1, 2를 상위, 4, 5를 하위로 묶은 후 One Hot Encoding을 통해 dummy variable로 변환하세요."
   ]
  },
  {
   "cell_type": "code",
   "execution_count": null,
   "id": "c4b455fd",
   "metadata": {},
   "outputs": [],
   "source": []
  },
  {
   "cell_type": "code",
   "execution_count": null,
   "id": "def70344",
   "metadata": {},
   "outputs": [],
   "source": []
  },
  {
   "cell_type": "markdown",
   "id": "f89a9992",
   "metadata": {},
   "source": [
    "2.7 Label Encoding과 One Hot Encoding의 차이에 대해 서술하세요."
   ]
  },
  {
   "cell_type": "markdown",
   "id": "1924b410",
   "metadata": {},
   "source": [
    "A:"
   ]
  },
  {
   "cell_type": "markdown",
   "id": "a2ed5006",
   "metadata": {},
   "source": [
    "2.8 dummy variable로 변환된 기존 변수와 dummy variable 중 하나를 삭제하겠습니다(다중공선성 문제)."
   ]
  },
  {
   "cell_type": "code",
   "execution_count": null,
   "id": "c5b2800f",
   "metadata": {},
   "outputs": [],
   "source": []
  },
  {
   "cell_type": "markdown",
   "id": "a55afeea",
   "metadata": {},
   "source": [
    "2.9 다중공선성 문제가 무엇인지 작성하고 왜 이것이 One Hot Encoding의 dummy variable과 관련 있는지 작성하세요. "
   ]
  },
  {
   "cell_type": "markdown",
   "id": "89f9f6b2",
   "metadata": {},
   "source": [
    "A:"
   ]
  },
  {
   "cell_type": "markdown",
   "id": "8cd19db3",
   "metadata": {},
   "source": [
    "2.10 사교육참여시간수, 일반교과사교육시간수, 예체능사교육시간수의 상관 관계를 Heatmap으로 시각화하세요."
   ]
  },
  {
   "cell_type": "code",
   "execution_count": null,
   "id": "fb7e8b27",
   "metadata": {},
   "outputs": [],
   "source": []
  },
  {
   "cell_type": "code",
   "execution_count": null,
   "id": "a7e2ed8c",
   "metadata": {},
   "outputs": [],
   "source": []
  },
  {
   "cell_type": "markdown",
   "id": "8464cfb2",
   "metadata": {},
   "source": [
    "2.11 이후 자유롭게 데이터를 살펴보고 전처리를 진행하세요."
   ]
  },
  {
   "cell_type": "code",
   "execution_count": null,
   "id": "1e5dc8ce",
   "metadata": {},
   "outputs": [],
   "source": []
  },
  {
   "cell_type": "code",
   "execution_count": null,
   "id": "68a27cc3",
   "metadata": {},
   "outputs": [],
   "source": []
  },
  {
   "cell_type": "markdown",
   "id": "9c6ff641",
   "metadata": {},
   "source": [
    "### 분석"
   ]
  },
  {
   "cell_type": "markdown",
   "id": "cf3ea26b",
   "metadata": {},
   "source": [
    "3.1 전처리가 완료된 데이터를 통해 분석을 진행하세요.\n",
    "\n",
    "- target variable은 사교육비총비용\n",
    "- 최소 2개의 모델 사용\n",
    "- 위에서 진행한 전처리 방식과 달라도 무방(단, 전처리 과정에 대한 서술 필요)"
   ]
  },
  {
   "cell_type": "code",
   "execution_count": null,
   "id": "ae8fb0b0",
   "metadata": {},
   "outputs": [],
   "source": []
  }
 ],
 "metadata": {
  "kernelspec": {
   "display_name": "Python 3 (ipykernel)",
   "language": "python",
   "name": "python3"
  },
  "language_info": {
   "codemirror_mode": {
    "name": "ipython",
    "version": 3
   },
   "file_extension": ".py",
   "mimetype": "text/x-python",
   "name": "python",
   "nbconvert_exporter": "python",
   "pygments_lexer": "ipython3",
   "version": "3.10.9"
  }
 },
 "nbformat": 4,
 "nbformat_minor": 5
}
