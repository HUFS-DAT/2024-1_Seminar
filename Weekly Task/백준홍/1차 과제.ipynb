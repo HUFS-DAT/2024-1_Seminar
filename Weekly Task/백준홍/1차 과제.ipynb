{
 "cells": [
  {
   "cell_type": "markdown",
   "id": "bb4cd9f2",
   "metadata": {},
   "source": [
    "## 1차 과제\n",
    "\n",
    "- 데이터: 2018 사교육비 총조사\n",
    "\n",
    "https://mdis.kostat.go.kr/ofrData/selectOfrDataDetail.do?survId=95&itmDiv=1&nPage=3&itemId=2008&itemNm=\n",
    "\n",
    "- 제출 양식: 이름_n차_과제.ipynb\n",
    "- 사용 라이브러리: pandas, numpy, matplotlib, seaborn, OneHotEncoder\n",
    "\n",
    "**코드형태로 되어 있는 컬럼의 경우 파일설계서를 참고하시기 바랍니다.**"
   ]
  },
  {
   "cell_type": "markdown",
   "id": "176f305a",
   "metadata": {},
   "source": [
    "### 1. 데이터 불러오기"
   ]
  },
  {
   "cell_type": "markdown",
   "id": "b6ac847a",
   "metadata": {},
   "source": [
    "1.1 사용할 라이브러리와 데이터를 불러오고 앞 10개의 데이터만 출력하세요."
   ]
  },
  {
   "cell_type": "code",
   "execution_count": 563,
   "id": "5b689618",
   "metadata": {},
   "outputs": [],
   "source": [
    "import pandas as pd\n",
    "\n",
    "data = pd.read_csv(\"사교육비조사.csv\", encoding='CP949')"
   ]
  },
  {
   "cell_type": "markdown",
   "id": "7f9d86f5",
   "metadata": {},
   "source": [
    "1.2 불러온 데이터의 요약 정보를 출력하세요."
   ]
  },
  {
   "cell_type": "code",
   "execution_count": 564,
   "id": "8a9347ff",
   "metadata": {},
   "outputs": [
    {
     "name": "stdout",
     "output_type": "stream",
     "text": [
      "<class 'pandas.core.frame.DataFrame'>\n",
      "RangeIndex: 51100 entries, 0 to 51099\n",
      "Data columns (total 17 columns):\n",
      " #   Column        Non-Null Count  Dtype  \n",
      "---  ------        --------------  -----  \n",
      " 0   지역구분코드        51100 non-null  int64  \n",
      " 1   행정구역시도코드      51100 non-null  int64  \n",
      " 2   학교급구분코드       51100 non-null  int64  \n",
      " 3   방과후학교참여여부     51100 non-null  int64  \n",
      " 4   방과후학교참여시간수    51100 non-null  float64\n",
      " 5   EBS교재비        51100 non-null  float64\n",
      " 6   사교육참여시간수      51100 non-null  float64\n",
      " 7   일반교과사교육시간수    51100 non-null  float64\n",
      " 8   예체능사교육시간수     51100 non-null  float64\n",
      " 9   사교육비총비용       51100 non-null  float64\n",
      " 10  총자녀수          51100 non-null  int64  \n",
      " 11  학생성적구분코드      24351 non-null  float64\n",
      " 12  부_교육정도코드      48372 non-null  float64\n",
      " 13  모_교육정도코드      49315 non-null  float64\n",
      " 14  부모경제활동코드      50891 non-null  float64\n",
      " 15  월평균가구소득코드     51099 non-null  float64\n",
      " 16  진학희망고등학교유형코드  26749 non-null  float64\n",
      "dtypes: float64(12), int64(5)\n",
      "memory usage: 6.6 MB\n"
     ]
    }
   ],
   "source": [
    "data.info()"
   ]
  },
  {
   "cell_type": "markdown",
   "id": "375f1a76",
   "metadata": {},
   "source": [
    "1.2 데이터의 기술통계량을 출력하세요."
   ]
  },
  {
   "cell_type": "code",
   "execution_count": 565,
   "id": "ba615867",
   "metadata": {},
   "outputs": [
    {
     "data": {
      "text/html": [
       "<div>\n",
       "<style scoped>\n",
       "    .dataframe tbody tr th:only-of-type {\n",
       "        vertical-align: middle;\n",
       "    }\n",
       "\n",
       "    .dataframe tbody tr th {\n",
       "        vertical-align: top;\n",
       "    }\n",
       "\n",
       "    .dataframe thead th {\n",
       "        text-align: right;\n",
       "    }\n",
       "</style>\n",
       "<table border=\"1\" class=\"dataframe\">\n",
       "  <thead>\n",
       "    <tr style=\"text-align: right;\">\n",
       "      <th></th>\n",
       "      <th>지역구분코드</th>\n",
       "      <th>행정구역시도코드</th>\n",
       "      <th>학교급구분코드</th>\n",
       "      <th>방과후학교참여여부</th>\n",
       "      <th>방과후학교참여시간수</th>\n",
       "      <th>EBS교재비</th>\n",
       "      <th>사교육참여시간수</th>\n",
       "      <th>일반교과사교육시간수</th>\n",
       "      <th>예체능사교육시간수</th>\n",
       "      <th>사교육비총비용</th>\n",
       "      <th>총자녀수</th>\n",
       "      <th>학생성적구분코드</th>\n",
       "      <th>부_교육정도코드</th>\n",
       "      <th>모_교육정도코드</th>\n",
       "      <th>부모경제활동코드</th>\n",
       "      <th>월평균가구소득코드</th>\n",
       "      <th>진학희망고등학교유형코드</th>\n",
       "    </tr>\n",
       "  </thead>\n",
       "  <tbody>\n",
       "    <tr>\n",
       "      <th>count</th>\n",
       "      <td>51100.000000</td>\n",
       "      <td>51100.000000</td>\n",
       "      <td>51100.000000</td>\n",
       "      <td>51100.000000</td>\n",
       "      <td>51100.000000</td>\n",
       "      <td>51100.000000</td>\n",
       "      <td>51100.000000</td>\n",
       "      <td>51100.000000</td>\n",
       "      <td>51100.000000</td>\n",
       "      <td>51100.000000</td>\n",
       "      <td>51100.000000</td>\n",
       "      <td>24351.000000</td>\n",
       "      <td>48372.000000</td>\n",
       "      <td>49315.000000</td>\n",
       "      <td>50891.000000</td>\n",
       "      <td>51099.000000</td>\n",
       "      <td>26749.000000</td>\n",
       "    </tr>\n",
       "    <tr>\n",
       "      <th>mean</th>\n",
       "      <td>2.141977</td>\n",
       "      <td>23.898689</td>\n",
       "      <td>2.291761</td>\n",
       "      <td>1.515166</td>\n",
       "      <td>2.297697</td>\n",
       "      <td>3.756370</td>\n",
       "      <td>6.230620</td>\n",
       "      <td>4.438023</td>\n",
       "      <td>1.733353</td>\n",
       "      <td>398.792284</td>\n",
       "      <td>2.112407</td>\n",
       "      <td>3.179705</td>\n",
       "      <td>44.677127</td>\n",
       "      <td>42.449458</td>\n",
       "      <td>2.255055</td>\n",
       "      <td>4.491164</td>\n",
       "      <td>1.956372</td>\n",
       "    </tr>\n",
       "    <tr>\n",
       "      <th>std</th>\n",
       "      <td>0.721429</td>\n",
       "      <td>7.724207</td>\n",
       "      <td>0.933021</td>\n",
       "      <td>0.499775</td>\n",
       "      <td>3.622955</td>\n",
       "      <td>9.849371</td>\n",
       "      <td>6.433619</td>\n",
       "      <td>5.600037</td>\n",
       "      <td>3.703571</td>\n",
       "      <td>440.238990</td>\n",
       "      <td>0.680376</td>\n",
       "      <td>1.249716</td>\n",
       "      <td>11.486666</td>\n",
       "      <td>10.641424</td>\n",
       "      <td>0.957101</td>\n",
       "      <td>2.141940</td>\n",
       "      <td>1.562229</td>\n",
       "    </tr>\n",
       "    <tr>\n",
       "      <th>min</th>\n",
       "      <td>1.000000</td>\n",
       "      <td>11.000000</td>\n",
       "      <td>1.000000</td>\n",
       "      <td>1.000000</td>\n",
       "      <td>0.000000</td>\n",
       "      <td>0.000000</td>\n",
       "      <td>0.000000</td>\n",
       "      <td>0.000000</td>\n",
       "      <td>0.000000</td>\n",
       "      <td>0.000000</td>\n",
       "      <td>1.000000</td>\n",
       "      <td>1.000000</td>\n",
       "      <td>8.000000</td>\n",
       "      <td>8.000000</td>\n",
       "      <td>1.000000</td>\n",
       "      <td>1.000000</td>\n",
       "      <td>1.000000</td>\n",
       "    </tr>\n",
       "    <tr>\n",
       "      <th>25%</th>\n",
       "      <td>2.000000</td>\n",
       "      <td>21.000000</td>\n",
       "      <td>1.000000</td>\n",
       "      <td>1.000000</td>\n",
       "      <td>0.000000</td>\n",
       "      <td>0.000000</td>\n",
       "      <td>0.000000</td>\n",
       "      <td>0.000000</td>\n",
       "      <td>0.000000</td>\n",
       "      <td>0.000000</td>\n",
       "      <td>2.000000</td>\n",
       "      <td>2.000000</td>\n",
       "      <td>31.000000</td>\n",
       "      <td>31.000000</td>\n",
       "      <td>1.000000</td>\n",
       "      <td>3.000000</td>\n",
       "      <td>1.000000</td>\n",
       "    </tr>\n",
       "    <tr>\n",
       "      <th>50%</th>\n",
       "      <td>2.000000</td>\n",
       "      <td>24.000000</td>\n",
       "      <td>2.000000</td>\n",
       "      <td>2.000000</td>\n",
       "      <td>0.000000</td>\n",
       "      <td>0.000000</td>\n",
       "      <td>5.000000</td>\n",
       "      <td>2.000000</td>\n",
       "      <td>0.000000</td>\n",
       "      <td>295.097605</td>\n",
       "      <td>2.000000</td>\n",
       "      <td>3.000000</td>\n",
       "      <td>51.000000</td>\n",
       "      <td>41.000000</td>\n",
       "      <td>3.000000</td>\n",
       "      <td>4.000000</td>\n",
       "      <td>1.000000</td>\n",
       "    </tr>\n",
       "    <tr>\n",
       "      <th>75%</th>\n",
       "      <td>3.000000</td>\n",
       "      <td>31.000000</td>\n",
       "      <td>3.000000</td>\n",
       "      <td>2.000000</td>\n",
       "      <td>3.333333</td>\n",
       "      <td>0.000000</td>\n",
       "      <td>10.000000</td>\n",
       "      <td>8.000000</td>\n",
       "      <td>2.000000</td>\n",
       "      <td>633.916883</td>\n",
       "      <td>2.000000</td>\n",
       "      <td>4.000000</td>\n",
       "      <td>51.000000</td>\n",
       "      <td>51.000000</td>\n",
       "      <td>3.000000</td>\n",
       "      <td>6.000000</td>\n",
       "      <td>3.000000</td>\n",
       "    </tr>\n",
       "    <tr>\n",
       "      <th>max</th>\n",
       "      <td>3.000000</td>\n",
       "      <td>35.000000</td>\n",
       "      <td>4.000000</td>\n",
       "      <td>2.000000</td>\n",
       "      <td>40.000000</td>\n",
       "      <td>158.608052</td>\n",
       "      <td>82.333333</td>\n",
       "      <td>76.000000</td>\n",
       "      <td>53.000000</td>\n",
       "      <td>5374.156458</td>\n",
       "      <td>9.000000</td>\n",
       "      <td>5.000000</td>\n",
       "      <td>75.000000</td>\n",
       "      <td>75.000000</td>\n",
       "      <td>4.000000</td>\n",
       "      <td>8.000000</td>\n",
       "      <td>8.000000</td>\n",
       "    </tr>\n",
       "  </tbody>\n",
       "</table>\n",
       "</div>"
      ],
      "text/plain": [
       "             지역구분코드      행정구역시도코드       학교급구분코드     방과후학교참여여부    방과후학교참여시간수  \\\n",
       "count  51100.000000  51100.000000  51100.000000  51100.000000  51100.000000   \n",
       "mean       2.141977     23.898689      2.291761      1.515166      2.297697   \n",
       "std        0.721429      7.724207      0.933021      0.499775      3.622955   \n",
       "min        1.000000     11.000000      1.000000      1.000000      0.000000   \n",
       "25%        2.000000     21.000000      1.000000      1.000000      0.000000   \n",
       "50%        2.000000     24.000000      2.000000      2.000000      0.000000   \n",
       "75%        3.000000     31.000000      3.000000      2.000000      3.333333   \n",
       "max        3.000000     35.000000      4.000000      2.000000     40.000000   \n",
       "\n",
       "             EBS교재비      사교육참여시간수    일반교과사교육시간수     예체능사교육시간수       사교육비총비용  \\\n",
       "count  51100.000000  51100.000000  51100.000000  51100.000000  51100.000000   \n",
       "mean       3.756370      6.230620      4.438023      1.733353    398.792284   \n",
       "std        9.849371      6.433619      5.600037      3.703571    440.238990   \n",
       "min        0.000000      0.000000      0.000000      0.000000      0.000000   \n",
       "25%        0.000000      0.000000      0.000000      0.000000      0.000000   \n",
       "50%        0.000000      5.000000      2.000000      0.000000    295.097605   \n",
       "75%        0.000000     10.000000      8.000000      2.000000    633.916883   \n",
       "max      158.608052     82.333333     76.000000     53.000000   5374.156458   \n",
       "\n",
       "               총자녀수      학생성적구분코드      부_교육정도코드      모_교육정도코드      부모경제활동코드  \\\n",
       "count  51100.000000  24351.000000  48372.000000  49315.000000  50891.000000   \n",
       "mean       2.112407      3.179705     44.677127     42.449458      2.255055   \n",
       "std        0.680376      1.249716     11.486666     10.641424      0.957101   \n",
       "min        1.000000      1.000000      8.000000      8.000000      1.000000   \n",
       "25%        2.000000      2.000000     31.000000     31.000000      1.000000   \n",
       "50%        2.000000      3.000000     51.000000     41.000000      3.000000   \n",
       "75%        2.000000      4.000000     51.000000     51.000000      3.000000   \n",
       "max        9.000000      5.000000     75.000000     75.000000      4.000000   \n",
       "\n",
       "          월평균가구소득코드  진학희망고등학교유형코드  \n",
       "count  51099.000000  26749.000000  \n",
       "mean       4.491164      1.956372  \n",
       "std        2.141940      1.562229  \n",
       "min        1.000000      1.000000  \n",
       "25%        3.000000      1.000000  \n",
       "50%        4.000000      1.000000  \n",
       "75%        6.000000      3.000000  \n",
       "max        8.000000      8.000000  "
      ]
     },
     "execution_count": 565,
     "metadata": {},
     "output_type": "execute_result"
    }
   ],
   "source": [
    "data.describe()"
   ]
  },
  {
   "cell_type": "markdown",
   "id": "bb5c43f8",
   "metadata": {},
   "source": [
    "### 2. EDA 및 전처리"
   ]
  },
  {
   "cell_type": "markdown",
   "id": "6406114a",
   "metadata": {},
   "source": [
    "2.1 해당 데이터는 초중고 학생이 모두 들어있는 데이터로 보다 명확한 분석을 위해 고등학생만을 대상으로 분석합니다.\n",
    "\n",
    "이를 위해 학교급구분코드가 3(고등학생)인 데이터만 남기도록 하고 몇개의 데이터가 남았는지 확인 후 학교급구분코드 컬럼을 삭제하세요."
   ]
  },
  {
   "cell_type": "code",
   "execution_count": 566,
   "id": "61438fc0",
   "metadata": {},
   "outputs": [
    {
     "data": {
      "text/plain": [
       "학교급구분코드\n",
       "3    20591\n",
       "Name: count, dtype: int64"
      ]
     },
     "execution_count": 566,
     "metadata": {},
     "output_type": "execute_result"
    }
   ],
   "source": [
    "data_3 = data[data['학교급구분코드'] == 3]\n",
    "data_3['학교급구분코드'].value_counts()"
   ]
  },
  {
   "cell_type": "code",
   "execution_count": 567,
   "id": "6f35f82a",
   "metadata": {},
   "outputs": [
    {
     "data": {
      "text/html": [
       "<div>\n",
       "<style scoped>\n",
       "    .dataframe tbody tr th:only-of-type {\n",
       "        vertical-align: middle;\n",
       "    }\n",
       "\n",
       "    .dataframe tbody tr th {\n",
       "        vertical-align: top;\n",
       "    }\n",
       "\n",
       "    .dataframe thead th {\n",
       "        text-align: right;\n",
       "    }\n",
       "</style>\n",
       "<table border=\"1\" class=\"dataframe\">\n",
       "  <thead>\n",
       "    <tr style=\"text-align: right;\">\n",
       "      <th></th>\n",
       "      <th>지역구분코드</th>\n",
       "      <th>행정구역시도코드</th>\n",
       "      <th>학교급구분코드</th>\n",
       "      <th>방과후학교참여여부</th>\n",
       "      <th>방과후학교참여시간수</th>\n",
       "      <th>EBS교재비</th>\n",
       "      <th>사교육참여시간수</th>\n",
       "      <th>일반교과사교육시간수</th>\n",
       "      <th>예체능사교육시간수</th>\n",
       "      <th>사교육비총비용</th>\n",
       "      <th>총자녀수</th>\n",
       "      <th>학생성적구분코드</th>\n",
       "      <th>부_교육정도코드</th>\n",
       "      <th>모_교육정도코드</th>\n",
       "      <th>부모경제활동코드</th>\n",
       "      <th>월평균가구소득코드</th>\n",
       "      <th>진학희망고등학교유형코드</th>\n",
       "    </tr>\n",
       "  </thead>\n",
       "  <tbody>\n",
       "    <tr>\n",
       "      <th>4920</th>\n",
       "      <td>1</td>\n",
       "      <td>11</td>\n",
       "      <td>3</td>\n",
       "      <td>1</td>\n",
       "      <td>0.333333</td>\n",
       "      <td>0.000000</td>\n",
       "      <td>0.000000</td>\n",
       "      <td>0.000000</td>\n",
       "      <td>0.0</td>\n",
       "      <td>0.000000</td>\n",
       "      <td>1</td>\n",
       "      <td>2.0</td>\n",
       "      <td>71.0</td>\n",
       "      <td>61.0</td>\n",
       "      <td>2.0</td>\n",
       "      <td>4.0</td>\n",
       "      <td>NaN</td>\n",
       "    </tr>\n",
       "    <tr>\n",
       "      <th>4921</th>\n",
       "      <td>1</td>\n",
       "      <td>11</td>\n",
       "      <td>3</td>\n",
       "      <td>1</td>\n",
       "      <td>0.333333</td>\n",
       "      <td>0.000000</td>\n",
       "      <td>0.000000</td>\n",
       "      <td>0.000000</td>\n",
       "      <td>0.0</td>\n",
       "      <td>0.000000</td>\n",
       "      <td>2</td>\n",
       "      <td>3.0</td>\n",
       "      <td>51.0</td>\n",
       "      <td>51.0</td>\n",
       "      <td>3.0</td>\n",
       "      <td>6.0</td>\n",
       "      <td>NaN</td>\n",
       "    </tr>\n",
       "    <tr>\n",
       "      <th>4922</th>\n",
       "      <td>1</td>\n",
       "      <td>11</td>\n",
       "      <td>3</td>\n",
       "      <td>1</td>\n",
       "      <td>0.333333</td>\n",
       "      <td>0.000000</td>\n",
       "      <td>0.000000</td>\n",
       "      <td>0.000000</td>\n",
       "      <td>0.0</td>\n",
       "      <td>0.000000</td>\n",
       "      <td>2</td>\n",
       "      <td>5.0</td>\n",
       "      <td>31.0</td>\n",
       "      <td>41.0</td>\n",
       "      <td>3.0</td>\n",
       "      <td>4.0</td>\n",
       "      <td>NaN</td>\n",
       "    </tr>\n",
       "    <tr>\n",
       "      <th>4923</th>\n",
       "      <td>1</td>\n",
       "      <td>11</td>\n",
       "      <td>3</td>\n",
       "      <td>1</td>\n",
       "      <td>0.333333</td>\n",
       "      <td>0.000000</td>\n",
       "      <td>0.000000</td>\n",
       "      <td>0.000000</td>\n",
       "      <td>0.0</td>\n",
       "      <td>0.000000</td>\n",
       "      <td>2</td>\n",
       "      <td>5.0</td>\n",
       "      <td>51.0</td>\n",
       "      <td>51.0</td>\n",
       "      <td>3.0</td>\n",
       "      <td>1.0</td>\n",
       "      <td>NaN</td>\n",
       "    </tr>\n",
       "    <tr>\n",
       "      <th>4924</th>\n",
       "      <td>1</td>\n",
       "      <td>11</td>\n",
       "      <td>3</td>\n",
       "      <td>1</td>\n",
       "      <td>0.333333</td>\n",
       "      <td>0.000000</td>\n",
       "      <td>12.000000</td>\n",
       "      <td>12.000000</td>\n",
       "      <td>0.0</td>\n",
       "      <td>2203.395453</td>\n",
       "      <td>2</td>\n",
       "      <td>4.0</td>\n",
       "      <td>71.0</td>\n",
       "      <td>62.0</td>\n",
       "      <td>1.0</td>\n",
       "      <td>8.0</td>\n",
       "      <td>NaN</td>\n",
       "    </tr>\n",
       "    <tr>\n",
       "      <th>...</th>\n",
       "      <td>...</td>\n",
       "      <td>...</td>\n",
       "      <td>...</td>\n",
       "      <td>...</td>\n",
       "      <td>...</td>\n",
       "      <td>...</td>\n",
       "      <td>...</td>\n",
       "      <td>...</td>\n",
       "      <td>...</td>\n",
       "      <td>...</td>\n",
       "      <td>...</td>\n",
       "      <td>...</td>\n",
       "      <td>...</td>\n",
       "      <td>...</td>\n",
       "      <td>...</td>\n",
       "      <td>...</td>\n",
       "      <td>...</td>\n",
       "    </tr>\n",
       "    <tr>\n",
       "      <th>50865</th>\n",
       "      <td>3</td>\n",
       "      <td>35</td>\n",
       "      <td>3</td>\n",
       "      <td>2</td>\n",
       "      <td>0.000000</td>\n",
       "      <td>7.930403</td>\n",
       "      <td>7.666667</td>\n",
       "      <td>7.666667</td>\n",
       "      <td>0.0</td>\n",
       "      <td>851.825811</td>\n",
       "      <td>1</td>\n",
       "      <td>1.0</td>\n",
       "      <td>51.0</td>\n",
       "      <td>51.0</td>\n",
       "      <td>1.0</td>\n",
       "      <td>5.0</td>\n",
       "      <td>NaN</td>\n",
       "    </tr>\n",
       "    <tr>\n",
       "      <th>50866</th>\n",
       "      <td>3</td>\n",
       "      <td>35</td>\n",
       "      <td>3</td>\n",
       "      <td>2</td>\n",
       "      <td>0.000000</td>\n",
       "      <td>7.930403</td>\n",
       "      <td>9.000000</td>\n",
       "      <td>9.000000</td>\n",
       "      <td>0.0</td>\n",
       "      <td>772.586201</td>\n",
       "      <td>2</td>\n",
       "      <td>3.0</td>\n",
       "      <td>51.0</td>\n",
       "      <td>51.0</td>\n",
       "      <td>3.0</td>\n",
       "      <td>4.0</td>\n",
       "      <td>NaN</td>\n",
       "    </tr>\n",
       "    <tr>\n",
       "      <th>50867</th>\n",
       "      <td>3</td>\n",
       "      <td>35</td>\n",
       "      <td>3</td>\n",
       "      <td>2</td>\n",
       "      <td>0.000000</td>\n",
       "      <td>9.054785</td>\n",
       "      <td>0.000000</td>\n",
       "      <td>0.000000</td>\n",
       "      <td>0.0</td>\n",
       "      <td>0.000000</td>\n",
       "      <td>3</td>\n",
       "      <td>2.0</td>\n",
       "      <td>31.0</td>\n",
       "      <td>31.0</td>\n",
       "      <td>3.0</td>\n",
       "      <td>1.0</td>\n",
       "      <td>NaN</td>\n",
       "    </tr>\n",
       "    <tr>\n",
       "      <th>50868</th>\n",
       "      <td>3</td>\n",
       "      <td>35</td>\n",
       "      <td>3</td>\n",
       "      <td>2</td>\n",
       "      <td>0.000000</td>\n",
       "      <td>9.448471</td>\n",
       "      <td>0.000000</td>\n",
       "      <td>0.000000</td>\n",
       "      <td>0.0</td>\n",
       "      <td>0.000000</td>\n",
       "      <td>1</td>\n",
       "      <td>1.0</td>\n",
       "      <td>51.0</td>\n",
       "      <td>51.0</td>\n",
       "      <td>1.0</td>\n",
       "      <td>7.0</td>\n",
       "      <td>NaN</td>\n",
       "    </tr>\n",
       "    <tr>\n",
       "      <th>50869</th>\n",
       "      <td>3</td>\n",
       "      <td>35</td>\n",
       "      <td>3</td>\n",
       "      <td>2</td>\n",
       "      <td>0.000000</td>\n",
       "      <td>9.448471</td>\n",
       "      <td>0.000000</td>\n",
       "      <td>0.000000</td>\n",
       "      <td>0.0</td>\n",
       "      <td>0.000000</td>\n",
       "      <td>2</td>\n",
       "      <td>5.0</td>\n",
       "      <td>41.0</td>\n",
       "      <td>41.0</td>\n",
       "      <td>3.0</td>\n",
       "      <td>3.0</td>\n",
       "      <td>NaN</td>\n",
       "    </tr>\n",
       "  </tbody>\n",
       "</table>\n",
       "<p>20591 rows × 17 columns</p>\n",
       "</div>"
      ],
      "text/plain": [
       "       지역구분코드  행정구역시도코드  학교급구분코드  방과후학교참여여부  방과후학교참여시간수    EBS교재비   사교육참여시간수  \\\n",
       "4920        1        11        3          1    0.333333  0.000000   0.000000   \n",
       "4921        1        11        3          1    0.333333  0.000000   0.000000   \n",
       "4922        1        11        3          1    0.333333  0.000000   0.000000   \n",
       "4923        1        11        3          1    0.333333  0.000000   0.000000   \n",
       "4924        1        11        3          1    0.333333  0.000000  12.000000   \n",
       "...       ...       ...      ...        ...         ...       ...        ...   \n",
       "50865       3        35        3          2    0.000000  7.930403   7.666667   \n",
       "50866       3        35        3          2    0.000000  7.930403   9.000000   \n",
       "50867       3        35        3          2    0.000000  9.054785   0.000000   \n",
       "50868       3        35        3          2    0.000000  9.448471   0.000000   \n",
       "50869       3        35        3          2    0.000000  9.448471   0.000000   \n",
       "\n",
       "       일반교과사교육시간수  예체능사교육시간수      사교육비총비용  총자녀수  학생성적구분코드  부_교육정도코드  모_교육정도코드  \\\n",
       "4920     0.000000        0.0     0.000000     1       2.0      71.0      61.0   \n",
       "4921     0.000000        0.0     0.000000     2       3.0      51.0      51.0   \n",
       "4922     0.000000        0.0     0.000000     2       5.0      31.0      41.0   \n",
       "4923     0.000000        0.0     0.000000     2       5.0      51.0      51.0   \n",
       "4924    12.000000        0.0  2203.395453     2       4.0      71.0      62.0   \n",
       "...           ...        ...          ...   ...       ...       ...       ...   \n",
       "50865    7.666667        0.0   851.825811     1       1.0      51.0      51.0   \n",
       "50866    9.000000        0.0   772.586201     2       3.0      51.0      51.0   \n",
       "50867    0.000000        0.0     0.000000     3       2.0      31.0      31.0   \n",
       "50868    0.000000        0.0     0.000000     1       1.0      51.0      51.0   \n",
       "50869    0.000000        0.0     0.000000     2       5.0      41.0      41.0   \n",
       "\n",
       "       부모경제활동코드  월평균가구소득코드  진학희망고등학교유형코드  \n",
       "4920        2.0        4.0           NaN  \n",
       "4921        3.0        6.0           NaN  \n",
       "4922        3.0        4.0           NaN  \n",
       "4923        3.0        1.0           NaN  \n",
       "4924        1.0        8.0           NaN  \n",
       "...         ...        ...           ...  \n",
       "50865       1.0        5.0           NaN  \n",
       "50866       3.0        4.0           NaN  \n",
       "50867       3.0        1.0           NaN  \n",
       "50868       1.0        7.0           NaN  \n",
       "50869       3.0        3.0           NaN  \n",
       "\n",
       "[20591 rows x 17 columns]"
      ]
     },
     "execution_count": 567,
     "metadata": {},
     "output_type": "execute_result"
    }
   ],
   "source": [
    "data_3"
   ]
  },
  {
   "cell_type": "code",
   "execution_count": 568,
   "id": "e45238de",
   "metadata": {},
   "outputs": [],
   "source": [
    "data = data_3.drop('학교급구분코드', axis=1)"
   ]
  },
  {
   "cell_type": "code",
   "execution_count": 569,
   "id": "f4263883",
   "metadata": {},
   "outputs": [
    {
     "name": "stdout",
     "output_type": "stream",
     "text": [
      "<class 'pandas.core.frame.DataFrame'>\n",
      "Index: 20591 entries, 4920 to 50869\n",
      "Data columns (total 16 columns):\n",
      " #   Column        Non-Null Count  Dtype  \n",
      "---  ------        --------------  -----  \n",
      " 0   지역구분코드        20591 non-null  int64  \n",
      " 1   행정구역시도코드      20591 non-null  int64  \n",
      " 2   방과후학교참여여부     20591 non-null  int64  \n",
      " 3   방과후학교참여시간수    20591 non-null  float64\n",
      " 4   EBS교재비        20591 non-null  float64\n",
      " 5   사교육참여시간수      20591 non-null  float64\n",
      " 6   일반교과사교육시간수    20591 non-null  float64\n",
      " 7   예체능사교육시간수     20591 non-null  float64\n",
      " 8   사교육비총비용       20591 non-null  float64\n",
      " 9   총자녀수          20591 non-null  int64  \n",
      " 10  학생성적구분코드      20591 non-null  float64\n",
      " 11  부_교육정도코드      19567 non-null  float64\n",
      " 12  모_교육정도코드      20047 non-null  float64\n",
      " 13  부모경제활동코드      20538 non-null  float64\n",
      " 14  월평균가구소득코드     20591 non-null  float64\n",
      " 15  진학희망고등학교유형코드  0 non-null      float64\n",
      "dtypes: float64(12), int64(4)\n",
      "memory usage: 2.7 MB\n"
     ]
    }
   ],
   "source": [
    "data.info()"
   ]
  },
  {
   "cell_type": "markdown",
   "id": "978ed29e",
   "metadata": {},
   "source": [
    "2.2 지역구분코드와 행정구역시도코드를 삭제하세요(분석에 필요할 것으로 보이나 현재는 편의상 삭제)."
   ]
  },
  {
   "cell_type": "code",
   "execution_count": 570,
   "id": "20ff2f9b",
   "metadata": {
    "scrolled": true
   },
   "outputs": [],
   "source": [
    "data = data.drop(['지역구분코드','행정구역시도코드'], axis=1)"
   ]
  },
  {
   "cell_type": "code",
   "execution_count": 571,
   "id": "f8ce4d09",
   "metadata": {},
   "outputs": [
    {
     "name": "stdout",
     "output_type": "stream",
     "text": [
      "<class 'pandas.core.frame.DataFrame'>\n",
      "Index: 20591 entries, 4920 to 50869\n",
      "Data columns (total 14 columns):\n",
      " #   Column        Non-Null Count  Dtype  \n",
      "---  ------        --------------  -----  \n",
      " 0   방과후학교참여여부     20591 non-null  int64  \n",
      " 1   방과후학교참여시간수    20591 non-null  float64\n",
      " 2   EBS교재비        20591 non-null  float64\n",
      " 3   사교육참여시간수      20591 non-null  float64\n",
      " 4   일반교과사교육시간수    20591 non-null  float64\n",
      " 5   예체능사교육시간수     20591 non-null  float64\n",
      " 6   사교육비총비용       20591 non-null  float64\n",
      " 7   총자녀수          20591 non-null  int64  \n",
      " 8   학생성적구분코드      20591 non-null  float64\n",
      " 9   부_교육정도코드      19567 non-null  float64\n",
      " 10  모_교육정도코드      20047 non-null  float64\n",
      " 11  부모경제활동코드      20538 non-null  float64\n",
      " 12  월평균가구소득코드     20591 non-null  float64\n",
      " 13  진학희망고등학교유형코드  0 non-null      float64\n",
      "dtypes: float64(12), int64(2)\n",
      "memory usage: 2.4 MB\n"
     ]
    }
   ],
   "source": [
    "data.info()"
   ]
  },
  {
   "cell_type": "markdown",
   "id": "6ced2ae3",
   "metadata": {},
   "source": [
    "2.3 방과후학교참여여부에 속한 값들의 개수를 확인하고 One Hot Encoding을 통해 1과 2를 각각 참여, 미참여의 dummy variable로 만드세요."
   ]
  },
  {
   "cell_type": "code",
   "execution_count": 572,
   "id": "0a204e80",
   "metadata": {},
   "outputs": [
    {
     "data": {
      "text/plain": [
       "방과후학교참여여부\n",
       "1    11444\n",
       "2     9147\n",
       "Name: count, dtype: int64"
      ]
     },
     "execution_count": 572,
     "metadata": {},
     "output_type": "execute_result"
    }
   ],
   "source": [
    "data['방과후학교참여여부'].value_counts()"
   ]
  },
  {
   "cell_type": "code",
   "execution_count": 574,
   "id": "460b14db",
   "metadata": {},
   "outputs": [],
   "source": [
    "from sklearn.preprocessing import OneHotEncoder\n",
    "\n",
    "# OneHotEncoder 생성\n",
    "encoder = OneHotEncoder()\n",
    "\n",
    "# 원핫인코딩은 2차원 입력만을 받음으로 변환이 필요\n",
    "# '방과후학교참여여부' 열을 numpy 배열로 변환 2차원 배열로 reshape\n",
    "target_reshaped = data['방과후학교참여여부'].values.reshape(-1, 1)\n",
    "\n",
    "# One-Hot Encoding 적용\n",
    "one_hot_encoded = encoder.fit_transform(target_reshaped).toarray()\n",
    "\n",
    "# One-Hot Encoding 결과를 DataFrame으로 변환\n",
    "one_hot_encoded_df = pd.DataFrame(one_hot_encoded, columns=['방과후학교_참여', '방과후학교_미참여'])\n",
    "\n",
    "# 인코딩된 데이터를 원본 DataFrame에 연결\n",
    "data = pd.concat([data, one_hot_encoded_df], axis=1)\n"
   ]
  },
  {
   "cell_type": "code",
   "execution_count": 575,
   "id": "7bab0e83",
   "metadata": {},
   "outputs": [
    {
     "name": "stdout",
     "output_type": "stream",
     "text": [
      "<class 'pandas.core.frame.DataFrame'>\n",
      "Index: 33221 entries, 4920 to 20590\n",
      "Data columns (total 16 columns):\n",
      " #   Column        Non-Null Count  Dtype  \n",
      "---  ------        --------------  -----  \n",
      " 0   방과후학교참여여부     20591 non-null  float64\n",
      " 1   방과후학교참여시간수    20591 non-null  float64\n",
      " 2   EBS교재비        20591 non-null  float64\n",
      " 3   사교육참여시간수      20591 non-null  float64\n",
      " 4   일반교과사교육시간수    20591 non-null  float64\n",
      " 5   예체능사교육시간수     20591 non-null  float64\n",
      " 6   사교육비총비용       20591 non-null  float64\n",
      " 7   총자녀수          20591 non-null  float64\n",
      " 8   학생성적구분코드      20591 non-null  float64\n",
      " 9   부_교육정도코드      19567 non-null  float64\n",
      " 10  모_교육정도코드      20047 non-null  float64\n",
      " 11  부모경제활동코드      20538 non-null  float64\n",
      " 12  월평균가구소득코드     20591 non-null  float64\n",
      " 13  진학희망고등학교유형코드  0 non-null      float64\n",
      " 14  방과후학교_참여      20591 non-null  float64\n",
      " 15  방과후학교_미참여     20591 non-null  float64\n",
      "dtypes: float64(16)\n",
      "memory usage: 4.3 MB\n"
     ]
    }
   ],
   "source": [
    "data.info()"
   ]
  },
  {
   "cell_type": "markdown",
   "id": "b9f57912",
   "metadata": {},
   "source": [
    "2.4 EBS교재비의 경우 0값이 절반 이상이므로 모델 성능에 영향을 미칠 수 있기에 삭제하겠습니다."
   ]
  },
  {
   "cell_type": "code",
   "execution_count": 576,
   "id": "2f933c72",
   "metadata": {},
   "outputs": [
    {
     "data": {
      "text/plain": [
       "12630"
      ]
     },
     "execution_count": 576,
     "metadata": {},
     "output_type": "execute_result"
    }
   ],
   "source": [
    "# 결측값 갯수 출력\n",
    "data['EBS교재비'].isnull().sum() "
   ]
  },
  {
   "cell_type": "code",
   "execution_count": 578,
   "id": "042ee87a",
   "metadata": {},
   "outputs": [],
   "source": [
    "data = data.drop('EBS교재비', axis=1)"
   ]
  },
  {
   "cell_type": "markdown",
   "id": "cf95a9f5",
   "metadata": {},
   "source": [
    "2.5 학생성적구분코드에 따른 사교육비총비용의 분포를 BoxPlot으로 나타내세요."
   ]
  },
  {
   "cell_type": "code",
   "execution_count": 579,
   "id": "655f4c07",
   "metadata": {},
   "outputs": [],
   "source": [
    "import matplotlib.pyplot as plt\n",
    "import seaborn as sns\n",
    "import warnings \n",
    "\n",
    "plt.rc('font', family = 'Malgun Gothic') # window\n",
    "plt.rc('font', size = 20)\n",
    "\n",
    "warnings.filterwarnings('ignore') # 출력문구 표시 x"
   ]
  },
  {
   "cell_type": "code",
   "execution_count": 580,
   "id": "26876e69",
   "metadata": {},
   "outputs": [
    {
     "data": {
      "text/plain": [
       "<Axes: xlabel='학생성적구분코드', ylabel='사교육비총비용'>"
      ]
     },
     "execution_count": 580,
     "metadata": {},
     "output_type": "execute_result"
    },
    {
     "data": {
      "image/png": "[encoded data removed]",
      "text/plain": [
       "<Figure size 4000x2000 with 1 Axes>"
      ]
     },
     "metadata": {},
     "output_type": "display_data"
    }
   ],
   "source": [
    "plt.figure(figsize=(40, 20))\n",
    "\n",
    "sns.boxplot(x='학생성적구분코드', \n",
    "            y='사교육비총비용', \n",
    "            data=data, \n",
    "            palette=\"Set3\", \n",
    "            linewidth=3\n",
    "            )"
   ]
  },
  {
   "cell_type": "markdown",
   "id": "6d829c10",
   "metadata": {},
   "source": [
    "2.6 학생성적구분코드에 속한 값들의 밸런스를 확인해봤을 때 중위값이 과도하게 많으므로 1, 2를 상위, 4, 5를 하위로 묶은 후 One Hot Encoding을 통해 dummy variable로 변환하세요."
   ]
  },
  {
   "cell_type": "code",
   "execution_count": 581,
   "id": "f57de84d",
   "metadata": {},
   "outputs": [
    {
     "data": {
      "text/plain": [
       "학생성적구분코드\n",
       "3.0    6167\n",
       "2.0    4167\n",
       "4.0    4128\n",
       "5.0    4002\n",
       "1.0    2127\n",
       "Name: count, dtype: int64"
      ]
     },
     "execution_count": 581,
     "metadata": {},
     "output_type": "execute_result"
    }
   ],
   "source": [
    "data['학생성적구분코드'].value_counts()"
   ]
  },
  {
   "cell_type": "code",
   "execution_count": 582,
   "id": "def70344",
   "metadata": {},
   "outputs": [
    {
     "name": "stdout",
     "output_type": "stream",
     "text": [
      "<class 'pandas.core.frame.DataFrame'>\n",
      "Index: 33221 entries, 4920 to 20590\n",
      "Data columns (total 16 columns):\n",
      " #   Column        Non-Null Count  Dtype  \n",
      "---  ------        --------------  -----  \n",
      " 0   방과후학교참여여부     20591 non-null  float64\n",
      " 1   방과후학교참여시간수    20591 non-null  float64\n",
      " 2   사교육참여시간수      20591 non-null  float64\n",
      " 3   일반교과사교육시간수    20591 non-null  float64\n",
      " 4   예체능사교육시간수     20591 non-null  float64\n",
      " 5   사교육비총비용       20591 non-null  float64\n",
      " 6   총자녀수          20591 non-null  float64\n",
      " 7   학생성적구분코드      20591 non-null  float64\n",
      " 8   부_교육정도코드      19567 non-null  float64\n",
      " 9   모_교육정도코드      20047 non-null  float64\n",
      " 10  부모경제활동코드      20538 non-null  float64\n",
      " 11  월평균가구소득코드     20591 non-null  float64\n",
      " 12  진학희망고등학교유형코드  0 non-null      float64\n",
      " 13  방과후학교_참여      20591 non-null  float64\n",
      " 14  방과후학교_미참여     20591 non-null  float64\n",
      " 15  구분코드_범주화      14424 non-null  object \n",
      "dtypes: float64(15), object(1)\n",
      "memory usage: 4.3+ MB\n"
     ]
    }
   ],
   "source": [
    "# 1, 2 -> 상위 / 4, 5 -> 하위\n",
    "data['구분코드_범주화'] = data['학생성적구분코드'].map({1: '상위', 2: '상위',4: '하위', 5: '하위'})\n",
    "\n",
    "data.info()"
   ]
  },
  {
   "cell_type": "code",
   "execution_count": 583,
   "id": "5e508afb",
   "metadata": {},
   "outputs": [
    {
     "data": {
      "text/plain": [
       "구분코드_범주화\n",
       "하위    8130\n",
       "상위    6294\n",
       "Name: count, dtype: int64"
      ]
     },
     "execution_count": 583,
     "metadata": {},
     "output_type": "execute_result"
    }
   ],
   "source": [
    "data['구분코드_범주화'].value_counts()"
   ]
  },
  {
   "cell_type": "code",
   "execution_count": 584,
   "id": "03bb01f1",
   "metadata": {},
   "outputs": [],
   "source": [
    "from sklearn.preprocessing import OneHotEncoder\n",
    "import pandas as pd\n",
    "\n",
    "# OneHotEncoder 생성\n",
    "encoder = OneHotEncoder(sparse_output=False)\n",
    "\n",
    "# '구분코드_범주화' 열을 2차원 배열로 변환 (OneHotEncoder는 2차원 입력을 요구함)\n",
    "target_reshaped = data['구분코드_범주화'].values.reshape(-1, 1)\n",
    "\n",
    "# One-Hot Encoding 적용\n",
    "one_hot_encoded = encoder.fit_transform(target_reshaped)\n",
    "\n",
    "columns = encoder.get_feature_names_out(input_features=['구분코드_범주화'])\n",
    "\n",
    "# One-Hot Encoding 결과를 DataFrame으로 변환\n",
    "one_hot_encoded_df = pd.DataFrame(one_hot_encoded, columns=columns)\n",
    "\n",
    "# 인코딩된 데이터를 원본 DataFrame에 연결\n",
    "data = pd.concat([data, one_hot_encoded_df], axis=1)\n"
   ]
  },
  {
   "cell_type": "code",
   "execution_count": 585,
   "id": "b9c05a3c",
   "metadata": {},
   "outputs": [
    {
     "name": "stdout",
     "output_type": "stream",
     "text": [
      "<class 'pandas.core.frame.DataFrame'>\n",
      "Index: 40396 entries, 4920 to 32373\n",
      "Data columns (total 19 columns):\n",
      " #   Column        Non-Null Count  Dtype  \n",
      "---  ------        --------------  -----  \n",
      " 0   방과후학교참여여부     20591 non-null  float64\n",
      " 1   방과후학교참여시간수    20591 non-null  float64\n",
      " 2   사교육참여시간수      20591 non-null  float64\n",
      " 3   일반교과사교육시간수    20591 non-null  float64\n",
      " 4   예체능사교육시간수     20591 non-null  float64\n",
      " 5   사교육비총비용       20591 non-null  float64\n",
      " 6   총자녀수          20591 non-null  float64\n",
      " 7   학생성적구분코드      20591 non-null  float64\n",
      " 8   부_교육정도코드      19567 non-null  float64\n",
      " 9   모_교육정도코드      20047 non-null  float64\n",
      " 10  부모경제활동코드      20538 non-null  float64\n",
      " 11  월평균가구소득코드     20591 non-null  float64\n",
      " 12  진학희망고등학교유형코드  0 non-null      float64\n",
      " 13  방과후학교_참여      20591 non-null  float64\n",
      " 14  방과후학교_미참여     20591 non-null  float64\n",
      " 15  구분코드_범주화      14424 non-null  object \n",
      " 16  구분코드_범주화_상위   33221 non-null  float64\n",
      " 17  구분코드_범주화_하위   33221 non-null  float64\n",
      " 18  구분코드_범주화_nan  33221 non-null  float64\n",
      "dtypes: float64(18), object(1)\n",
      "memory usage: 6.2+ MB\n"
     ]
    }
   ],
   "source": [
    "data.info()"
   ]
  },
  {
   "cell_type": "code",
   "execution_count": 586,
   "id": "132efbc9",
   "metadata": {},
   "outputs": [],
   "source": [
    "data = data.drop(['구분코드_범주화', '구분코드_범주화_nan'], axis=1)"
   ]
  },
  {
   "cell_type": "code",
   "execution_count": 587,
   "id": "d3bd86c6",
   "metadata": {},
   "outputs": [
    {
     "name": "stdout",
     "output_type": "stream",
     "text": [
      "<class 'pandas.core.frame.DataFrame'>\n",
      "Index: 40396 entries, 4920 to 32373\n",
      "Data columns (total 17 columns):\n",
      " #   Column        Non-Null Count  Dtype  \n",
      "---  ------        --------------  -----  \n",
      " 0   방과후학교참여여부     20591 non-null  float64\n",
      " 1   방과후학교참여시간수    20591 non-null  float64\n",
      " 2   사교육참여시간수      20591 non-null  float64\n",
      " 3   일반교과사교육시간수    20591 non-null  float64\n",
      " 4   예체능사교육시간수     20591 non-null  float64\n",
      " 5   사교육비총비용       20591 non-null  float64\n",
      " 6   총자녀수          20591 non-null  float64\n",
      " 7   학생성적구분코드      20591 non-null  float64\n",
      " 8   부_교육정도코드      19567 non-null  float64\n",
      " 9   모_교육정도코드      20047 non-null  float64\n",
      " 10  부모경제활동코드      20538 non-null  float64\n",
      " 11  월평균가구소득코드     20591 non-null  float64\n",
      " 12  진학희망고등학교유형코드  0 non-null      float64\n",
      " 13  방과후학교_참여      20591 non-null  float64\n",
      " 14  방과후학교_미참여     20591 non-null  float64\n",
      " 15  구분코드_범주화_상위   33221 non-null  float64\n",
      " 16  구분코드_범주화_하위   33221 non-null  float64\n",
      "dtypes: float64(17)\n",
      "memory usage: 5.5 MB\n"
     ]
    }
   ],
   "source": [
    "data.info()"
   ]
  },
  {
   "cell_type": "markdown",
   "id": "f89a9992",
   "metadata": {},
   "source": [
    "2.7 Label Encoding과 One Hot Encoding의 차이에 대해 서술하세요."
   ]
  },
  {
   "cell_type": "markdown",
   "id": "1924b410",
   "metadata": {},
   "source": [
    "- 답안  \n",
    "Label Encoding 의 경우 문자열의 값을 숫자(번호)로 변환하는 과정이라면  \n",
    "One Hot Encoding 의 경우 변수의 차원을 늘려 변수에 해당하는 값이면 1을 부여 아니면 0을 부여하는 과정"
   ]
  },
  {
   "cell_type": "markdown",
   "id": "a2ed5006",
   "metadata": {},
   "source": [
    "2.8 dummy variable로 변환된 기존 변수와 dummy variable 중 하나를 삭제하겠습니다(다중공선성 문제)."
   ]
  },
  {
   "cell_type": "code",
   "execution_count": 588,
   "id": "c5b2800f",
   "metadata": {},
   "outputs": [],
   "source": [
    "# 학생성적구분코드 변수는 다중공산성 문제 발생 안할것으로 생각되어 제거안함\n",
    "# 방과후학교참여여부 변수만 제거\n",
    "data = data.drop(['방과후학교참여여부', '방과후학교_미참여'], axis=1)"
   ]
  },
  {
   "cell_type": "code",
   "execution_count": 589,
   "id": "b05b3429",
   "metadata": {},
   "outputs": [
    {
     "name": "stdout",
     "output_type": "stream",
     "text": [
      "<class 'pandas.core.frame.DataFrame'>\n",
      "Index: 40396 entries, 4920 to 32373\n",
      "Data columns (total 15 columns):\n",
      " #   Column        Non-Null Count  Dtype  \n",
      "---  ------        --------------  -----  \n",
      " 0   방과후학교참여시간수    20591 non-null  float64\n",
      " 1   사교육참여시간수      20591 non-null  float64\n",
      " 2   일반교과사교육시간수    20591 non-null  float64\n",
      " 3   예체능사교육시간수     20591 non-null  float64\n",
      " 4   사교육비총비용       20591 non-null  float64\n",
      " 5   총자녀수          20591 non-null  float64\n",
      " 6   학생성적구분코드      20591 non-null  float64\n",
      " 7   부_교육정도코드      19567 non-null  float64\n",
      " 8   모_교육정도코드      20047 non-null  float64\n",
      " 9   부모경제활동코드      20538 non-null  float64\n",
      " 10  월평균가구소득코드     20591 non-null  float64\n",
      " 11  진학희망고등학교유형코드  0 non-null      float64\n",
      " 12  방과후학교_참여      20591 non-null  float64\n",
      " 13  구분코드_범주화_상위   33221 non-null  float64\n",
      " 14  구분코드_범주화_하위   33221 non-null  float64\n",
      "dtypes: float64(15)\n",
      "memory usage: 4.9 MB\n"
     ]
    }
   ],
   "source": [
    "data.info()"
   ]
  },
  {
   "cell_type": "markdown",
   "id": "a55afeea",
   "metadata": {},
   "source": [
    "2.9 다중공선성 문제가 무엇인지 작성하고 왜 이것이 One Hot Encoding의 dummy variable과 관련 있는지 작성하세요. "
   ]
  },
  {
   "cell_type": "markdown",
   "id": "89f9f6b2",
   "metadata": {},
   "source": [
    "- 답안  \n",
    "1. 다중공산성이란? 독립변수들 간에 강한 상관관계가 나타나는 문제  \n",
    "2. 해당변수의 범주에 속하면 1 아니면 0을 할당하는데 이러한 과정에 있어 더미변수간에 독립성이 위배되어 다중공산성 문제가 발생  \n",
    "\n"
   ]
  },
  {
   "cell_type": "markdown",
   "id": "8cd19db3",
   "metadata": {},
   "source": [
    "2.10 사교육참여시간수, 일반교과사교육시간수, 예체능사교육시간수의 상관 관계를 Heatmap으로 시각화하세요."
   ]
  },
  {
   "cell_type": "code",
   "execution_count": 590,
   "id": "6c590966",
   "metadata": {},
   "outputs": [],
   "source": [
    "# 필요한 열만 선택\n",
    "data_heat = data[['사교육참여시간수', '일반교과사교육시간수', '예체능사교육시간수']]"
   ]
  },
  {
   "cell_type": "code",
   "execution_count": 591,
   "id": "a7e2ed8c",
   "metadata": {},
   "outputs": [
    {
     "data": {
      "image/png": "[encoded data removed]",
      "text/plain": [
       "<Figure size 2000x1000 with 2 Axes>"
      ]
     },
     "metadata": {},
     "output_type": "display_data"
    }
   ],
   "source": [
    "# 숫자형 변수들 간의 상관관계 계산\n",
    "corr = data_heat.corr()\n",
    "\n",
    "# 히트맵\n",
    "plt.figure(figsize=(20, 10))\n",
    "\n",
    "sns.heatmap(corr,\n",
    "            annot=True, # 수치(상관관계) 표시\n",
    "            annot_kws = {'size':30}, # 수치표시 사이즈\n",
    "            cmap='Spectral', \n",
    "            vmin=-1, \n",
    "            vmax=1,\n",
    "            linewidths=2, \n",
    "            cbar_kws={\"shrink\": .6} # 색상 바 추가 크기 조절\n",
    "            )\n",
    "\n",
    "# 변수 이름의 크기 조절\n",
    "plt.xticks(fontsize=25)\n",
    "plt.yticks(fontsize=25)\n",
    "\n",
    "plt.show()"
   ]
  },
  {
   "cell_type": "markdown",
   "id": "8464cfb2",
   "metadata": {},
   "source": [
    "2.11 이후 자유롭게 데이터를 살펴보고 전처리를 진행하세요."
   ]
  },
  {
   "cell_type": "code",
   "execution_count": 592,
   "id": "20838b67",
   "metadata": {},
   "outputs": [
    {
     "name": "stdout",
     "output_type": "stream",
     "text": [
      "<class 'pandas.core.frame.DataFrame'>\n",
      "Index: 40396 entries, 4920 to 32373\n",
      "Data columns (total 15 columns):\n",
      " #   Column        Non-Null Count  Dtype  \n",
      "---  ------        --------------  -----  \n",
      " 0   방과후학교참여시간수    20591 non-null  float64\n",
      " 1   사교육참여시간수      20591 non-null  float64\n",
      " 2   일반교과사교육시간수    20591 non-null  float64\n",
      " 3   예체능사교육시간수     20591 non-null  float64\n",
      " 4   사교육비총비용       20591 non-null  float64\n",
      " 5   총자녀수          20591 non-null  float64\n",
      " 6   학생성적구분코드      20591 non-null  float64\n",
      " 7   부_교육정도코드      19567 non-null  float64\n",
      " 8   모_교육정도코드      20047 non-null  float64\n",
      " 9   부모경제활동코드      20538 non-null  float64\n",
      " 10  월평균가구소득코드     20591 non-null  float64\n",
      " 11  진학희망고등학교유형코드  0 non-null      float64\n",
      " 12  방과후학교_참여      20591 non-null  float64\n",
      " 13  구분코드_범주화_상위   33221 non-null  float64\n",
      " 14  구분코드_범주화_하위   33221 non-null  float64\n",
      "dtypes: float64(15)\n",
      "memory usage: 4.9 MB\n"
     ]
    }
   ],
   "source": [
    "data.info()"
   ]
  },
  {
   "cell_type": "code",
   "execution_count": 593,
   "metadata": {},
   "outputs": [
    {
     "data": {
      "text/plain": [
       "Series([], Name: count, dtype: int64)"
      ]
     },
     "execution_count": 593,
     "metadata": {},
     "output_type": "execute_result"
    }
   ],
   "source": [
    "data['진학희망고등학교유형코드'].value_counts()"
   ]
  },
  {
   "cell_type": "code",
   "execution_count": 594,
   "id": "ecbd2aac",
   "metadata": {},
   "outputs": [
    {
     "data": {
      "text/html": [
       "<div>\n",
       "<style scoped>\n",
       "    .dataframe tbody tr th:only-of-type {\n",
       "        vertical-align: middle;\n",
       "    }\n",
       "\n",
       "    .dataframe tbody tr th {\n",
       "        vertical-align: top;\n",
       "    }\n",
       "\n",
       "    .dataframe thead th {\n",
       "        text-align: right;\n",
       "    }\n",
       "</style>\n",
       "<table border=\"1\" class=\"dataframe\">\n",
       "  <thead>\n",
       "    <tr style=\"text-align: right;\">\n",
       "      <th></th>\n",
       "      <th>방과후학교참여시간수</th>\n",
       "      <th>사교육참여시간수</th>\n",
       "      <th>일반교과사교육시간수</th>\n",
       "      <th>예체능사교육시간수</th>\n",
       "      <th>사교육비총비용</th>\n",
       "      <th>총자녀수</th>\n",
       "      <th>학생성적구분코드</th>\n",
       "      <th>부_교육정도코드</th>\n",
       "      <th>모_교육정도코드</th>\n",
       "      <th>부모경제활동코드</th>\n",
       "      <th>월평균가구소득코드</th>\n",
       "      <th>진학희망고등학교유형코드</th>\n",
       "      <th>방과후학교_참여</th>\n",
       "      <th>구분코드_범주화_상위</th>\n",
       "      <th>구분코드_범주화_하위</th>\n",
       "    </tr>\n",
       "  </thead>\n",
       "  <tbody>\n",
       "    <tr>\n",
       "      <th>4920</th>\n",
       "      <td>0.333333</td>\n",
       "      <td>0.0</td>\n",
       "      <td>0.0</td>\n",
       "      <td>0.0</td>\n",
       "      <td>0.000000</td>\n",
       "      <td>1.0</td>\n",
       "      <td>2.0</td>\n",
       "      <td>71.0</td>\n",
       "      <td>61.0</td>\n",
       "      <td>2.0</td>\n",
       "      <td>4.0</td>\n",
       "      <td>NaN</td>\n",
       "      <td>1.0</td>\n",
       "      <td>1.0</td>\n",
       "      <td>0.0</td>\n",
       "    </tr>\n",
       "    <tr>\n",
       "      <th>4921</th>\n",
       "      <td>0.333333</td>\n",
       "      <td>0.0</td>\n",
       "      <td>0.0</td>\n",
       "      <td>0.0</td>\n",
       "      <td>0.000000</td>\n",
       "      <td>2.0</td>\n",
       "      <td>3.0</td>\n",
       "      <td>51.0</td>\n",
       "      <td>51.0</td>\n",
       "      <td>3.0</td>\n",
       "      <td>6.0</td>\n",
       "      <td>NaN</td>\n",
       "      <td>1.0</td>\n",
       "      <td>1.0</td>\n",
       "      <td>0.0</td>\n",
       "    </tr>\n",
       "    <tr>\n",
       "      <th>4922</th>\n",
       "      <td>0.333333</td>\n",
       "      <td>0.0</td>\n",
       "      <td>0.0</td>\n",
       "      <td>0.0</td>\n",
       "      <td>0.000000</td>\n",
       "      <td>2.0</td>\n",
       "      <td>5.0</td>\n",
       "      <td>31.0</td>\n",
       "      <td>41.0</td>\n",
       "      <td>3.0</td>\n",
       "      <td>4.0</td>\n",
       "      <td>NaN</td>\n",
       "      <td>1.0</td>\n",
       "      <td>0.0</td>\n",
       "      <td>1.0</td>\n",
       "    </tr>\n",
       "    <tr>\n",
       "      <th>4923</th>\n",
       "      <td>0.333333</td>\n",
       "      <td>0.0</td>\n",
       "      <td>0.0</td>\n",
       "      <td>0.0</td>\n",
       "      <td>0.000000</td>\n",
       "      <td>2.0</td>\n",
       "      <td>5.0</td>\n",
       "      <td>51.0</td>\n",
       "      <td>51.0</td>\n",
       "      <td>3.0</td>\n",
       "      <td>1.0</td>\n",
       "      <td>NaN</td>\n",
       "      <td>1.0</td>\n",
       "      <td>1.0</td>\n",
       "      <td>0.0</td>\n",
       "    </tr>\n",
       "    <tr>\n",
       "      <th>4924</th>\n",
       "      <td>0.333333</td>\n",
       "      <td>12.0</td>\n",
       "      <td>12.0</td>\n",
       "      <td>0.0</td>\n",
       "      <td>2203.395453</td>\n",
       "      <td>2.0</td>\n",
       "      <td>4.0</td>\n",
       "      <td>71.0</td>\n",
       "      <td>62.0</td>\n",
       "      <td>1.0</td>\n",
       "      <td>8.0</td>\n",
       "      <td>NaN</td>\n",
       "      <td>1.0</td>\n",
       "      <td>0.0</td>\n",
       "      <td>0.0</td>\n",
       "    </tr>\n",
       "  </tbody>\n",
       "</table>\n",
       "</div>"
      ],
      "text/plain": [
       "      방과후학교참여시간수  사교육참여시간수  일반교과사교육시간수  예체능사교육시간수      사교육비총비용  총자녀수  \\\n",
       "4920    0.333333       0.0         0.0        0.0     0.000000   1.0   \n",
       "4921    0.333333       0.0         0.0        0.0     0.000000   2.0   \n",
       "4922    0.333333       0.0         0.0        0.0     0.000000   2.0   \n",
       "4923    0.333333       0.0         0.0        0.0     0.000000   2.0   \n",
       "4924    0.333333      12.0        12.0        0.0  2203.395453   2.0   \n",
       "\n",
       "      학생성적구분코드  부_교육정도코드  모_교육정도코드  부모경제활동코드  월평균가구소득코드  진학희망고등학교유형코드  \\\n",
       "4920       2.0      71.0      61.0       2.0        4.0           NaN   \n",
       "4921       3.0      51.0      51.0       3.0        6.0           NaN   \n",
       "4922       5.0      31.0      41.0       3.0        4.0           NaN   \n",
       "4923       5.0      51.0      51.0       3.0        1.0           NaN   \n",
       "4924       4.0      71.0      62.0       1.0        8.0           NaN   \n",
       "\n",
       "      방과후학교_참여  구분코드_범주화_상위  구분코드_범주화_하위  \n",
       "4920       1.0          1.0          0.0  \n",
       "4921       1.0          1.0          0.0  \n",
       "4922       1.0          0.0          1.0  \n",
       "4923       1.0          1.0          0.0  \n",
       "4924       1.0          0.0          0.0  "
      ]
     },
     "execution_count": 594,
     "metadata": {},
     "output_type": "execute_result"
    }
   ],
   "source": [
    "data.head()"
   ]
  },
  {
   "cell_type": "markdown",
   "id": "90dccd50",
   "metadata": {},
   "source": [
    "진학희망고등학교유형코드의 경우 NaN 값으로만 채워져 있어 drop 진행"
   ]
  },
  {
   "cell_type": "code",
   "execution_count": 595,
   "id": "35034c29",
   "metadata": {},
   "outputs": [],
   "source": [
    "# 진학희망고등학교유형코드 변수를 제거\n",
    "data = data.drop(['진학희망고등학교유형코드'], axis=1)"
   ]
  },
  {
   "cell_type": "code",
   "execution_count": 596,
   "id": "998906be",
   "metadata": {},
   "outputs": [
    {
     "name": "stdout",
     "output_type": "stream",
     "text": [
      "<class 'pandas.core.frame.DataFrame'>\n",
      "Index: 40396 entries, 4920 to 32373\n",
      "Data columns (total 14 columns):\n",
      " #   Column       Non-Null Count  Dtype  \n",
      "---  ------       --------------  -----  \n",
      " 0   방과후학교참여시간수   20591 non-null  float64\n",
      " 1   사교육참여시간수     20591 non-null  float64\n",
      " 2   일반교과사교육시간수   20591 non-null  float64\n",
      " 3   예체능사교육시간수    20591 non-null  float64\n",
      " 4   사교육비총비용      20591 non-null  float64\n",
      " 5   총자녀수         20591 non-null  float64\n",
      " 6   학생성적구분코드     20591 non-null  float64\n",
      " 7   부_교육정도코드     19567 non-null  float64\n",
      " 8   모_교육정도코드     20047 non-null  float64\n",
      " 9   부모경제활동코드     20538 non-null  float64\n",
      " 10  월평균가구소득코드    20591 non-null  float64\n",
      " 11  방과후학교_참여     20591 non-null  float64\n",
      " 12  구분코드_범주화_상위  33221 non-null  float64\n",
      " 13  구분코드_범주화_하위  33221 non-null  float64\n",
      "dtypes: float64(14)\n",
      "memory usage: 4.6 MB\n"
     ]
    }
   ],
   "source": [
    "data.info()"
   ]
  },
  {
   "cell_type": "code",
   "execution_count": 598,
   "id": "0e7de536",
   "metadata": {},
   "outputs": [],
   "source": [
    "# '부_교육정도코드', '모_교육정도코드' 에 결측값이 있는 행만 제거\n",
    "data = data.dropna(subset=['부_교육정도코드', '모_교육정도코드'])"
   ]
  },
  {
   "cell_type": "code",
   "execution_count": 599,
   "id": "cadbddc3",
   "metadata": {},
   "outputs": [
    {
     "data": {
      "text/plain": [
       "방과후학교참여시간수         0\n",
       "사교육참여시간수           0\n",
       "일반교과사교육시간수         0\n",
       "예체능사교육시간수          0\n",
       "사교육비총비용            0\n",
       "총자녀수               0\n",
       "학생성적구분코드           0\n",
       "부_교육정도코드           0\n",
       "모_교육정도코드           0\n",
       "부모경제활동코드           0\n",
       "월평균가구소득코드          0\n",
       "방과후학교_참여       11636\n",
       "구분코드_범주화_상위     6609\n",
       "구분코드_범주화_하위     6609\n",
       "dtype: int64"
      ]
     },
     "execution_count": 599,
     "metadata": {},
     "output_type": "execute_result"
    }
   ],
   "source": [
    "data.isnull().sum()"
   ]
  },
  {
   "cell_type": "markdown",
   "id": "c45bcfb1",
   "metadata": {},
   "source": [
    "위에서 발생하는 결측값의 경우 더미변수에 대해서만 결측값 발생함으로 0 값 넣어줌"
   ]
  },
  {
   "cell_type": "code",
   "execution_count": 600,
   "id": "f5e1584d",
   "metadata": {},
   "outputs": [],
   "source": [
    "data.fillna(0, inplace=True)"
   ]
  },
  {
   "cell_type": "code",
   "execution_count": 601,
   "id": "a2fdd164",
   "metadata": {},
   "outputs": [
    {
     "name": "stdout",
     "output_type": "stream",
     "text": [
      "<class 'pandas.core.frame.DataFrame'>\n",
      "Index: 19076 entries, 4920 to 50869\n",
      "Data columns (total 14 columns):\n",
      " #   Column       Non-Null Count  Dtype  \n",
      "---  ------       --------------  -----  \n",
      " 0   방과후학교참여시간수   19076 non-null  float64\n",
      " 1   사교육참여시간수     19076 non-null  float64\n",
      " 2   일반교과사교육시간수   19076 non-null  float64\n",
      " 3   예체능사교육시간수    19076 non-null  float64\n",
      " 4   사교육비총비용      19076 non-null  float64\n",
      " 5   총자녀수         19076 non-null  float64\n",
      " 6   학생성적구분코드     19076 non-null  float64\n",
      " 7   부_교육정도코드     19076 non-null  float64\n",
      " 8   모_교육정도코드     19076 non-null  float64\n",
      " 9   부모경제활동코드     19076 non-null  float64\n",
      " 10  월평균가구소득코드    19076 non-null  float64\n",
      " 11  방과후학교_참여     19076 non-null  float64\n",
      " 12  구분코드_범주화_상위  19076 non-null  float64\n",
      " 13  구분코드_범주화_하위  19076 non-null  float64\n",
      "dtypes: float64(14)\n",
      "memory usage: 2.2 MB\n"
     ]
    }
   ],
   "source": [
    "data.info()"
   ]
  },
  {
   "cell_type": "markdown",
   "id": "9c6ff641",
   "metadata": {},
   "source": [
    "### 분석"
   ]
  },
  {
   "cell_type": "markdown",
   "id": "cf3ea26b",
   "metadata": {},
   "source": [
    "3.1 전처리가 완료된 데이터를 통해 분석을 진행하세요.\n",
    "\n",
    "- target variable은 사교육비총비용\n",
    "- 최소 2개의 모델 사용\n",
    "- 위에서 진행한 전처리 방식과 달라도 무방(단, 전처리 과정에 대한 서술 필요)"
   ]
  },
  {
   "cell_type": "markdown",
   "id": "9bfd03c2",
   "metadata": {},
   "source": [
    "데이터 분할"
   ]
  },
  {
   "cell_type": "code",
   "execution_count": 604,
   "id": "1827ac76",
   "metadata": {},
   "outputs": [],
   "source": [
    "from sklearn.model_selection import train_test_split\n",
    "\n",
    "# 독립변수와 종속변수를 분리\n",
    "X = data.drop('사교육비총비용', axis=1)  \n",
    "y = data['사교육비총비용']  # 타겟 변수\n",
    "\n",
    "# 데이터를 훈련 세트와 테스트 세트로 분할\n",
    "X_train, X_test, y_train, y_test = train_test_split(X, y, test_size=0.2, random_state=42)"
   ]
  },
  {
   "cell_type": "markdown",
   "id": "27ced7c9",
   "metadata": {},
   "source": [
    "모델 훈련"
   ]
  },
  {
   "cell_type": "code",
   "execution_count": 610,
   "id": "ae8fb0b0",
   "metadata": {},
   "outputs": [],
   "source": [
    "from sklearn.linear_model import LinearRegression, Lasso\n",
    "from sklearn.metrics import mean_squared_error, r2_score\n",
    "\n",
    "# 다중회귀\n",
    "model_multi = LinearRegression()\n",
    "model_multi.fit(X_train, y_train)\n",
    "\n",
    "y_pred_multi = model_multi.predict(X_test)\n",
    "mse_multi = mean_squared_error(y_test, y_pred_multi)\n",
    "r2_multi = r2_score(y_test, y_pred_multi)\n",
    "\n",
    "# 라쏘회귀 \n",
    "model_lasso = Lasso(alpha=0.1)\n",
    "model_lasso.fit(X_train, y_train)\n",
    "\n",
    "y_pred_lasso = model_lasso.predict(X_test)\n",
    "mse_lasso = mean_squared_error(y_test, y_pred_lasso)\n",
    "r2_lasso = r2_score(y_test, y_pred_lasso)"
   ]
  },
  {
   "cell_type": "code",
   "execution_count": 609,
   "id": "ca86ea26",
   "metadata": {},
   "outputs": [
    {
     "name": "stdout",
     "output_type": "stream",
     "text": [
      "### 다중회귀\n",
      "MSE: 95759.0878128624\n",
      "결정계수(R^2): 0.6329112803932215\n",
      "### 라쏘회귀\n",
      "라쏘회귀 MSE: 95756.08266940239\n",
      "라쏘회귀 결정계수(R^2): 0.6329228004931949\n"
     ]
    }
   ],
   "source": [
    "print(\"### 다중회귀\")\n",
    "print(\"MSE:\", mse_multi)\n",
    "print(\"결정계수(R^2):\", r2_multi)\n",
    "\n",
    "print(\"### 라쏘회귀\")\n",
    "print(\"라쏘회귀 MSE:\", mse_lasso)\n",
    "print(\"라쏘회귀 결정계수(R^2):\", r2_lasso)"
   ]
  }
 ],
 "metadata": {
  "kernelspec": {
   "display_name": "Python 3 (ipykernel)",
   "language": "python",
   "name": "python3"
  },
  "language_info": {
   "codemirror_mode": {
    "name": "ipython",
    "version": 3
   },
   "file_extension": ".py",
   "mimetype": "text/x-python",
   "name": "python",
   "nbconvert_exporter": "python",
   "pygments_lexer": "ipython3",
   "version": "3.12.2"
  }
 },
 "nbformat": 4,
 "nbformat_minor": 5
}
