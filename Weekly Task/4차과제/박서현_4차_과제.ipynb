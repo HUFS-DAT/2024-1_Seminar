{
  "cells": [
    {
      "cell_type": "markdown",
      "id": "3624d070",
      "metadata": {
        "id": "3624d070"
      },
      "source": [
        "## 4차 과제 - Hyperparameter Tuning을 해보자\n",
        "- 주제: 하이퍼파라미터 튜닝 기법 학습\n",
        "- 데이터: The History of Baseball(Pitching Data) https://www.kaggle.com/datasets/seanlahman/the-history-of-baseball?select=pitching.csv\n",
        "- 사용 라이브러리: pandas, numpy, matplotlib, sklearn, imblearn, bayes_opt"
      ]
    },
    {
      "cell_type": "markdown",
      "id": "bd5e2107",
      "metadata": {
        "id": "bd5e2107"
      },
      "source": [
        "### 1. EDA, 전처리"
      ]
    },
    {
      "cell_type": "markdown",
      "id": "1671de09",
      "metadata": {
        "id": "1671de09"
      },
      "source": [
        "1.1 분석을 위해 사용될 라이브러리들을 import 하세요.\n",
        "\n",
        "numpy, pandas, matplotlib, SMOTE, train_test_split, RandomForestClassifier, RandomizedSearchCV, GridSearchCV, BayesianOptimization, accuracy_score"
      ]
    },
    {
      "cell_type": "code",
      "execution_count": 12,
      "id": "92b33237",
      "metadata": {
        "id": "92b33237"
      },
      "outputs": [],
      "source": [
        "import numpy as np\n",
        "import pandas as pd\n",
        "import matplotlib.pyplot as plt\n",
        "from imblearn.over_sampling import SMOTE\n",
        "from sklearn.model_selection import train_test_split, RandomizedSearchCV, GridSearchCV\n",
        "from sklearn.ensemble import RandomForestClassifier\n",
        "from bayes_opt import BayesianOptimization\n",
        "from sklearn.metrics import accuracy_score"
      ]
    },
    {
      "cell_type": "code",
      "source": [
        "#pip install bayesian-optimization"
      ],
      "metadata": {
        "id": "Oe0jf1GSW-1j"
      },
      "id": "Oe0jf1GSW-1j",
      "execution_count": 13,
      "outputs": []
    },
    {
      "cell_type": "markdown",
      "id": "49bc4c60",
      "metadata": {
        "id": "49bc4c60"
      },
      "source": [
        "1.2 데이터를 불러오고 info()를 통해 데이터를 살펴보세요."
      ]
    },
    {
      "cell_type": "code",
      "execution_count": 14,
      "id": "b2b8143b",
      "metadata": {
        "scrolled": true,
        "colab": {
          "base_uri": "https://localhost:8080/"
        },
        "id": "b2b8143b",
        "outputId": "c0c7aac2-a2ae-42f8-a8c1-1417c4cd08fa"
      },
      "outputs": [
        {
          "output_type": "stream",
          "name": "stdout",
          "text": [
            "<class 'pandas.core.frame.DataFrame'>\n",
            "RangeIndex: 44139 entries, 0 to 44138\n",
            "Data columns (total 30 columns):\n",
            " #   Column     Non-Null Count  Dtype  \n",
            "---  ------     --------------  -----  \n",
            " 0   player_id  44139 non-null  object \n",
            " 1   year       44139 non-null  int64  \n",
            " 2   stint      44139 non-null  int64  \n",
            " 3   team_id    44139 non-null  object \n",
            " 4   league_id  44008 non-null  object \n",
            " 5   w          44139 non-null  int64  \n",
            " 6   l          44139 non-null  int64  \n",
            " 7   g          44139 non-null  int64  \n",
            " 8   gs         44139 non-null  int64  \n",
            " 9   cg         44139 non-null  int64  \n",
            " 10  sho        44139 non-null  int64  \n",
            " 11  sv         44139 non-null  int64  \n",
            " 12  ipouts     44138 non-null  float64\n",
            " 13  h          44139 non-null  int64  \n",
            " 14  er         44139 non-null  int64  \n",
            " 15  hr         44139 non-null  int64  \n",
            " 16  bb         44139 non-null  int64  \n",
            " 17  so         44139 non-null  int64  \n",
            " 18  baopp      42614 non-null  float64\n",
            " 19  era        44049 non-null  float64\n",
            " 20  ibb        29564 non-null  float64\n",
            " 21  wp         44006 non-null  float64\n",
            " 22  hbp        43580 non-null  float64\n",
            " 23  bk         44139 non-null  int64  \n",
            " 24  bfp        43900 non-null  float64\n",
            " 25  gf         44006 non-null  float64\n",
            " 26  r          44139 non-null  int64  \n",
            " 27  sh         11239 non-null  float64\n",
            " 28  sf         11239 non-null  float64\n",
            " 29  g_idp      745 non-null    float64\n",
            "dtypes: float64(11), int64(16), object(3)\n",
            "memory usage: 10.1+ MB\n"
          ]
        }
      ],
      "source": [
        "data = pd.read_csv('pitching.csv')\n",
        "data.info()"
      ]
    },
    {
      "cell_type": "markdown",
      "id": "4be43ab2",
      "metadata": {
        "id": "4be43ab2"
      },
      "source": [
        "1.3 null 값이 있는 컬럼은 모두 삭제하겠습니다(원래는 다른 처리를 해야 하지만 컬럼 수는 충분하니까..ㅎㅎ 야구 잘 몰라서 그런 거 아닙니다.)."
      ]
    },
    {
      "cell_type": "code",
      "execution_count": 15,
      "id": "793bae0c",
      "metadata": {
        "scrolled": true,
        "id": "793bae0c"
      },
      "outputs": [],
      "source": [
        "data.dropna(axis = 1, inplace=True)"
      ]
    },
    {
      "cell_type": "markdown",
      "id": "b6ec78ec",
      "metadata": {
        "id": "b6ec78ec"
      },
      "source": [
        "1.4 연도 별로 몇개의 데이터가 있는 지 확인 후 데이터가 얼마 없는 과거 데이터는 삭제하겠습니다. 이를 위해 연도 별 데이터 수를 계산하고 line plot으로 그리세요."
      ]
    },
    {
      "cell_type": "code",
      "execution_count": 16,
      "id": "7d2dcafa",
      "metadata": {
        "colab": {
          "base_uri": "https://localhost:8080/",
          "height": 806
        },
        "id": "7d2dcafa",
        "outputId": "a133537c-50c3-4381-b342-1e014b58eeee"
      },
      "outputs": [
        {
          "output_type": "stream",
          "name": "stdout",
          "text": [
            "year\n",
            "1871     19\n",
            "1872     23\n",
            "1873     25\n",
            "1874     17\n",
            "1875     47\n",
            "       ... \n",
            "2011    707\n",
            "2012    722\n",
            "2013    726\n",
            "2014    746\n",
            "2015    809\n",
            "Length: 145, dtype: int64\n"
          ]
        },
        {
          "output_type": "display_data",
          "data": {
            "text/plain": [
              "<Figure size 1000x600 with 1 Axes>"
            ],
            "image/png": "[encoded data removed]"
          },
          "metadata": {}
        }
      ],
      "source": [
        "year_data=data.groupby('year').size()\n",
        "print(year_data)\n",
        "\n",
        "plt.figure(figsize=(10, 6))\n",
        "plt.plot(year_data.index, year_data.values, marker='o', linestyle='-', color='orange')\n",
        "plt.title('Number of Records by Year')\n",
        "plt.xlabel('Year')\n",
        "plt.ylabel('Number of Records')\n",
        "plt.grid(True)\n",
        "plt.show()"
      ]
    },
    {
      "cell_type": "markdown",
      "id": "9757fcdb",
      "metadata": {
        "id": "9757fcdb"
      },
      "source": [
        "1.5 보다 최신 분석을 위해 1980년 이후의 데이터만 남기고 몇개의 데이터가 남았는지 확인하세요."
      ]
    },
    {
      "cell_type": "code",
      "execution_count": 17,
      "id": "b53f525b",
      "metadata": {
        "scrolled": false,
        "id": "b53f525b"
      },
      "outputs": [],
      "source": [
        "data = data[data['year'] >= 1980]"
      ]
    },
    {
      "cell_type": "code",
      "source": [
        "data['year'].value_counts()"
      ],
      "metadata": {
        "colab": {
          "base_uri": "https://localhost:8080/"
        },
        "id": "nKExYb4aZWQM",
        "outputId": "66c21131-1218-4ec6-90e3-c826e6ee79ba"
      },
      "id": "nKExYb4aZWQM",
      "execution_count": 18,
      "outputs": [
        {
          "output_type": "execute_result",
          "data": {
            "text/plain": [
              "year\n",
              "2015    809\n",
              "2014    746\n",
              "2009    729\n",
              "2013    726\n",
              "2012    722\n",
              "2007    718\n",
              "2011    707\n",
              "2006    700\n",
              "2008    700\n",
              "2010    684\n",
              "2004    680\n",
              "2000    677\n",
              "2003    676\n",
              "2002    659\n",
              "2005    654\n",
              "2001    652\n",
              "1999    641\n",
              "1998    624\n",
              "1995    619\n",
              "1997    594\n",
              "1996    592\n",
              "1993    555\n",
              "1990    520\n",
              "1991    499\n",
              "1994    492\n",
              "1989    489\n",
              "1992    474\n",
              "1987    469\n",
              "1988    461\n",
              "1986    453\n",
              "1985    438\n",
              "1984    415\n",
              "1983    415\n",
              "1982    402\n",
              "1980    392\n",
              "1981    374\n",
              "Name: count, dtype: int64"
            ]
          },
          "metadata": {},
          "execution_count": 18
        }
      ]
    },
    {
      "cell_type": "code",
      "source": [
        "print(\"총 데이터 수\", len(data))"
      ],
      "metadata": {
        "colab": {
          "base_uri": "https://localhost:8080/"
        },
        "id": "CK__Fok2Zoul",
        "outputId": "05548323-3913-430b-8ec2-5317278c4e36"
      },
      "id": "CK__Fok2Zoul",
      "execution_count": 19,
      "outputs": [
        {
          "output_type": "stream",
          "name": "stdout",
          "text": [
            "총 데이터 수 21157\n"
          ]
        }
      ]
    },
    {
      "cell_type": "markdown",
      "id": "f7d0b952",
      "metadata": {
        "id": "f7d0b952"
      },
      "source": [
        "1.6 reset_index()를 통해 재배열하세요."
      ]
    },
    {
      "cell_type": "code",
      "execution_count": 20,
      "id": "db991e66",
      "metadata": {
        "id": "db991e66"
      },
      "outputs": [],
      "source": [
        "data = data.reset_index(drop= True)   #설정인덱스제거,열추가X"
      ]
    },
    {
      "cell_type": "markdown",
      "id": "6d99d662",
      "metadata": {
        "id": "6d99d662"
      },
      "source": [
        "1.7 투수의 승리 수를 예측해보겠습니다. w 컬럼의 value를 확인해보세요."
      ]
    },
    {
      "cell_type": "code",
      "execution_count": 21,
      "id": "0050b139",
      "metadata": {
        "scrolled": true,
        "id": "0050b139",
        "outputId": "ba10bc9e-06d2-4c36-daba-c8c6d900c8ce",
        "colab": {
          "base_uri": "https://localhost:8080/"
        }
      },
      "outputs": [
        {
          "output_type": "execute_result",
          "data": {
            "text/plain": [
              "w\n",
              "0     5854\n",
              "1     3197\n",
              "2     2356\n",
              "3     1744\n",
              "4     1453\n",
              "5     1114\n",
              "6      878\n",
              "7      730\n",
              "9      560\n",
              "8      557\n",
              "10     450\n",
              "11     434\n",
              "12     384\n",
              "13     317\n",
              "14     287\n",
              "15     242\n",
              "16     193\n",
              "17     125\n",
              "18     102\n",
              "19      61\n",
              "20      53\n",
              "21      32\n",
              "22      17\n",
              "24       8\n",
              "23       7\n",
              "25       1\n",
              "27       1\n",
              "Name: count, dtype: int64"
            ]
          },
          "metadata": {},
          "execution_count": 21
        }
      ],
      "source": [
        "data['w'].value_counts()"
      ]
    },
    {
      "cell_type": "markdown",
      "id": "2286f0a8",
      "metadata": {
        "id": "2286f0a8"
      },
      "source": [
        "1.8 0승 투수(출전하지 않은 경우도 존재)가 많으므로 승리 수가 0인 데이터는 삭제하겠습니다."
      ]
    },
    {
      "cell_type": "code",
      "execution_count": 22,
      "id": "c35c4577",
      "metadata": {
        "id": "c35c4577",
        "outputId": "08227260-3991-4a8f-95a9-59126d68f95d",
        "colab": {
          "base_uri": "https://localhost:8080/"
        }
      },
      "outputs": [
        {
          "output_type": "execute_result",
          "data": {
            "text/plain": [
              "15303"
            ]
          },
          "metadata": {},
          "execution_count": 22
        }
      ],
      "source": [
        "data = data[data['w'] != 0]\n",
        "len(data)"
      ]
    },
    {
      "cell_type": "markdown",
      "id": "95f5accb",
      "metadata": {
        "id": "95f5accb"
      },
      "source": [
        "1.9 Regression이 아닌 Classification으로 분석해보겠습니다. 이를 위해 10을 기준으로 w를 10승 이상이면 1, 10승 미만이면 0인 Binary 형태로 변환하세요."
      ]
    },
    {
      "cell_type": "code",
      "execution_count": 23,
      "id": "53eaa5e5",
      "metadata": {
        "scrolled": true,
        "id": "53eaa5e5",
        "outputId": "9cc722b5-b540-41af-b0cd-9b78da12e08a",
        "colab": {
          "base_uri": "https://localhost:8080/",
          "height": 424
        }
      },
      "outputs": [
        {
          "output_type": "execute_result",
          "data": {
            "text/plain": [
              "       player_id  year  stint team_id  w   l   g  gs  cg  sho  sv    h   er  \\\n",
              "0       aasedo01  1980      1     CAL  0  13  40  21   5    1   2  193   79   \n",
              "1      abbotgl01  1980      1     SEA  1  12  31  31   7    2   0  228   98   \n",
              "2      alexado01  1980      1     ATL  1  11  35  35   7    1   0  227  108   \n",
              "4      allenne01  1980      1     NYN  0  10  59   0   0    0  22   87   40   \n",
              "6      andujjo01  1980      1     HOU  0   8  35  14   0    0   2  132   53   \n",
              "...          ...   ...    ...     ... ..  ..  ..  ..  ..  ...  ..  ...  ...   \n",
              "21147  wrighmi01  2015      1     BAL  0   5  12   9   0    0   0   52   30   \n",
              "21148  wrighst01  2015      1     BOS  0   4  16   9   0    0   0   67   33   \n",
              "21151  yateski01  2015      1     TBA  0   0  20   0   0    0   0   23   18   \n",
              "21152  youngch03  2015      1     KCA  1   6  34  18   0    0   0   91   42   \n",
              "21154  zimmejo02  2015      1     WAS  1  10  33  33   0    0   0  204   82   \n",
              "\n",
              "       hr  bb   so  bk    r  \n",
              "0      13  66   74   1   83  \n",
              "1      27  49   78   1  110  \n",
              "2      20  74  114   0  120  \n",
              "4       7  40   79   1   43  \n",
              "6       8  43   75   0   59  \n",
              "...    ..  ..  ...  ..  ...  \n",
              "21147   9  18   26   0   30  \n",
              "21148  12  27   52   0   38  \n",
              "21151  10   7   21   0   18  \n",
              "21152  16  43   83   0   44  \n",
              "21154  24  39  164   1   89  \n",
              "\n",
              "[15303 rows x 18 columns]"
            ],
            "text/html": [
              "\n",
              "  <div id=\"df-68b2608e-ba06-40b8-b40c-3c8e161d391d\" class=\"colab-df-container\">\n",
              "    <div>\n",
              "<style scoped>\n",
              "    .dataframe tbody tr th:only-of-type {\n",
              "        vertical-align: middle;\n",
              "    }\n",
              "\n",
              "    .dataframe tbody tr th {\n",
              "        vertical-align: top;\n",
              "    }\n",
              "\n",
              "    .dataframe thead th {\n",
              "        text-align: right;\n",
              "    }\n",
              "</style>\n",
              "<table border=\"1\" class=\"dataframe\">\n",
              "  <thead>\n",
              "    <tr style=\"text-align: right;\">\n",
              "      <th></th>\n",
              "      <th>player_id</th>\n",
              "      <th>year</th>\n",
              "      <th>stint</th>\n",
              "      <th>team_id</th>\n",
              "      <th>w</th>\n",
              "      <th>l</th>\n",
              "      <th>g</th>\n",
              "      <th>gs</th>\n",
              "      <th>cg</th>\n",
              "      <th>sho</th>\n",
              "      <th>sv</th>\n",
              "      <th>h</th>\n",
              "      <th>er</th>\n",
              "      <th>hr</th>\n",
              "      <th>bb</th>\n",
              "      <th>so</th>\n",
              "      <th>bk</th>\n",
              "      <th>r</th>\n",
              "    </tr>\n",
              "  </thead>\n",
              "  <tbody>\n",
              "    <tr>\n",
              "      <th>0</th>\n",
              "      <td>aasedo01</td>\n",
              "      <td>1980</td>\n",
              "      <td>1</td>\n",
              "      <td>CAL</td>\n",
              "      <td>0</td>\n",
              "      <td>13</td>\n",
              "      <td>40</td>\n",
              "      <td>21</td>\n",
              "      <td>5</td>\n",
              "      <td>1</td>\n",
              "      <td>2</td>\n",
              "      <td>193</td>\n",
              "      <td>79</td>\n",
              "      <td>13</td>\n",
              "      <td>66</td>\n",
              "      <td>74</td>\n",
              "      <td>1</td>\n",
              "      <td>83</td>\n",
              "    </tr>\n",
              "    <tr>\n",
              "      <th>1</th>\n",
              "      <td>abbotgl01</td>\n",
              "      <td>1980</td>\n",
              "      <td>1</td>\n",
              "      <td>SEA</td>\n",
              "      <td>1</td>\n",
              "      <td>12</td>\n",
              "      <td>31</td>\n",
              "      <td>31</td>\n",
              "      <td>7</td>\n",
              "      <td>2</td>\n",
              "      <td>0</td>\n",
              "      <td>228</td>\n",
              "      <td>98</td>\n",
              "      <td>27</td>\n",
              "      <td>49</td>\n",
              "      <td>78</td>\n",
              "      <td>1</td>\n",
              "      <td>110</td>\n",
              "    </tr>\n",
              "    <tr>\n",
              "      <th>2</th>\n",
              "      <td>alexado01</td>\n",
              "      <td>1980</td>\n",
              "      <td>1</td>\n",
              "      <td>ATL</td>\n",
              "      <td>1</td>\n",
              "      <td>11</td>\n",
              "      <td>35</td>\n",
              "      <td>35</td>\n",
              "      <td>7</td>\n",
              "      <td>1</td>\n",
              "      <td>0</td>\n",
              "      <td>227</td>\n",
              "      <td>108</td>\n",
              "      <td>20</td>\n",
              "      <td>74</td>\n",
              "      <td>114</td>\n",
              "      <td>0</td>\n",
              "      <td>120</td>\n",
              "    </tr>\n",
              "    <tr>\n",
              "      <th>4</th>\n",
              "      <td>allenne01</td>\n",
              "      <td>1980</td>\n",
              "      <td>1</td>\n",
              "      <td>NYN</td>\n",
              "      <td>0</td>\n",
              "      <td>10</td>\n",
              "      <td>59</td>\n",
              "      <td>0</td>\n",
              "      <td>0</td>\n",
              "      <td>0</td>\n",
              "      <td>22</td>\n",
              "      <td>87</td>\n",
              "      <td>40</td>\n",
              "      <td>7</td>\n",
              "      <td>40</td>\n",
              "      <td>79</td>\n",
              "      <td>1</td>\n",
              "      <td>43</td>\n",
              "    </tr>\n",
              "    <tr>\n",
              "      <th>6</th>\n",
              "      <td>andujjo01</td>\n",
              "      <td>1980</td>\n",
              "      <td>1</td>\n",
              "      <td>HOU</td>\n",
              "      <td>0</td>\n",
              "      <td>8</td>\n",
              "      <td>35</td>\n",
              "      <td>14</td>\n",
              "      <td>0</td>\n",
              "      <td>0</td>\n",
              "      <td>2</td>\n",
              "      <td>132</td>\n",
              "      <td>53</td>\n",
              "      <td>8</td>\n",
              "      <td>43</td>\n",
              "      <td>75</td>\n",
              "      <td>0</td>\n",
              "      <td>59</td>\n",
              "    </tr>\n",
              "    <tr>\n",
              "      <th>...</th>\n",
              "      <td>...</td>\n",
              "      <td>...</td>\n",
              "      <td>...</td>\n",
              "      <td>...</td>\n",
              "      <td>...</td>\n",
              "      <td>...</td>\n",
              "      <td>...</td>\n",
              "      <td>...</td>\n",
              "      <td>...</td>\n",
              "      <td>...</td>\n",
              "      <td>...</td>\n",
              "      <td>...</td>\n",
              "      <td>...</td>\n",
              "      <td>...</td>\n",
              "      <td>...</td>\n",
              "      <td>...</td>\n",
              "      <td>...</td>\n",
              "      <td>...</td>\n",
              "    </tr>\n",
              "    <tr>\n",
              "      <th>21147</th>\n",
              "      <td>wrighmi01</td>\n",
              "      <td>2015</td>\n",
              "      <td>1</td>\n",
              "      <td>BAL</td>\n",
              "      <td>0</td>\n",
              "      <td>5</td>\n",
              "      <td>12</td>\n",
              "      <td>9</td>\n",
              "      <td>0</td>\n",
              "      <td>0</td>\n",
              "      <td>0</td>\n",
              "      <td>52</td>\n",
              "      <td>30</td>\n",
              "      <td>9</td>\n",
              "      <td>18</td>\n",
              "      <td>26</td>\n",
              "      <td>0</td>\n",
              "      <td>30</td>\n",
              "    </tr>\n",
              "    <tr>\n",
              "      <th>21148</th>\n",
              "      <td>wrighst01</td>\n",
              "      <td>2015</td>\n",
              "      <td>1</td>\n",
              "      <td>BOS</td>\n",
              "      <td>0</td>\n",
              "      <td>4</td>\n",
              "      <td>16</td>\n",
              "      <td>9</td>\n",
              "      <td>0</td>\n",
              "      <td>0</td>\n",
              "      <td>0</td>\n",
              "      <td>67</td>\n",
              "      <td>33</td>\n",
              "      <td>12</td>\n",
              "      <td>27</td>\n",
              "      <td>52</td>\n",
              "      <td>0</td>\n",
              "      <td>38</td>\n",
              "    </tr>\n",
              "    <tr>\n",
              "      <th>21151</th>\n",
              "      <td>yateski01</td>\n",
              "      <td>2015</td>\n",
              "      <td>1</td>\n",
              "      <td>TBA</td>\n",
              "      <td>0</td>\n",
              "      <td>0</td>\n",
              "      <td>20</td>\n",
              "      <td>0</td>\n",
              "      <td>0</td>\n",
              "      <td>0</td>\n",
              "      <td>0</td>\n",
              "      <td>23</td>\n",
              "      <td>18</td>\n",
              "      <td>10</td>\n",
              "      <td>7</td>\n",
              "      <td>21</td>\n",
              "      <td>0</td>\n",
              "      <td>18</td>\n",
              "    </tr>\n",
              "    <tr>\n",
              "      <th>21152</th>\n",
              "      <td>youngch03</td>\n",
              "      <td>2015</td>\n",
              "      <td>1</td>\n",
              "      <td>KCA</td>\n",
              "      <td>1</td>\n",
              "      <td>6</td>\n",
              "      <td>34</td>\n",
              "      <td>18</td>\n",
              "      <td>0</td>\n",
              "      <td>0</td>\n",
              "      <td>0</td>\n",
              "      <td>91</td>\n",
              "      <td>42</td>\n",
              "      <td>16</td>\n",
              "      <td>43</td>\n",
              "      <td>83</td>\n",
              "      <td>0</td>\n",
              "      <td>44</td>\n",
              "    </tr>\n",
              "    <tr>\n",
              "      <th>21154</th>\n",
              "      <td>zimmejo02</td>\n",
              "      <td>2015</td>\n",
              "      <td>1</td>\n",
              "      <td>WAS</td>\n",
              "      <td>1</td>\n",
              "      <td>10</td>\n",
              "      <td>33</td>\n",
              "      <td>33</td>\n",
              "      <td>0</td>\n",
              "      <td>0</td>\n",
              "      <td>0</td>\n",
              "      <td>204</td>\n",
              "      <td>82</td>\n",
              "      <td>24</td>\n",
              "      <td>39</td>\n",
              "      <td>164</td>\n",
              "      <td>1</td>\n",
              "      <td>89</td>\n",
              "    </tr>\n",
              "  </tbody>\n",
              "</table>\n",
              "<p>15303 rows × 18 columns</p>\n",
              "</div>\n",
              "    <div class=\"colab-df-buttons\">\n",
              "\n",
              "  <div class=\"colab-df-container\">\n",
              "    <button class=\"colab-df-convert\" onclick=\"convertToInteractive('df-68b2608e-ba06-40b8-b40c-3c8e161d391d')\"\n",
              "            title=\"Convert this dataframe to an interactive table.\"\n",
              "            style=\"display:none;\">\n",
              "\n",
              "  <svg xmlns=\"http://www.w3.org/2000/svg\" height=\"24px\" viewBox=\"0 -960 960 960\">\n",
              "    <path d=\"M120-120v-720h720v720H120Zm60-500h600v-160H180v160Zm220 220h160v-160H400v160Zm0 220h160v-160H400v160ZM180-400h160v-160H180v160Zm440 0h160v-160H620v160ZM180-180h160v-160H180v160Zm440 0h160v-160H620v160Z\"/>\n",
              "  </svg>\n",
              "    </button>\n",
              "\n",
              "  <style>\n",
              "    .colab-df-container {\n",
              "      display:flex;\n",
              "      gap: 12px;\n",
              "    }\n",
              "\n",
              "    .colab-df-convert {\n",
              "      background-color: #E8F0FE;\n",
              "      border: none;\n",
              "      border-radius: 50%;\n",
              "      cursor: pointer;\n",
              "      display: none;\n",
              "      fill: #1967D2;\n",
              "      height: 32px;\n",
              "      padding: 0 0 0 0;\n",
              "      width: 32px;\n",
              "    }\n",
              "\n",
              "    .colab-df-convert:hover {\n",
              "      background-color: #E2EBFA;\n",
              "      box-shadow: 0px 1px 2px rgba(60, 64, 67, 0.3), 0px 1px 3px 1px rgba(60, 64, 67, 0.15);\n",
              "      fill: #174EA6;\n",
              "    }\n",
              "\n",
              "    .colab-df-buttons div {\n",
              "      margin-bottom: 4px;\n",
              "    }\n",
              "\n",
              "    [theme=dark] .colab-df-convert {\n",
              "      background-color: #3B4455;\n",
              "      fill: #D2E3FC;\n",
              "    }\n",
              "\n",
              "    [theme=dark] .colab-df-convert:hover {\n",
              "      background-color: #434B5C;\n",
              "      box-shadow: 0px 1px 3px 1px rgba(0, 0, 0, 0.15);\n",
              "      filter: drop-shadow(0px 1px 2px rgba(0, 0, 0, 0.3));\n",
              "      fill: #FFFFFF;\n",
              "    }\n",
              "  </style>\n",
              "\n",
              "    <script>\n",
              "      const buttonEl =\n",
              "        document.querySelector('#df-68b2608e-ba06-40b8-b40c-3c8e161d391d button.colab-df-convert');\n",
              "      buttonEl.style.display =\n",
              "        google.colab.kernel.accessAllowed ? 'block' : 'none';\n",
              "\n",
              "      async function convertToInteractive(key) {\n",
              "        const element = document.querySelector('#df-68b2608e-ba06-40b8-b40c-3c8e161d391d');\n",
              "        const dataTable =\n",
              "          await google.colab.kernel.invokeFunction('convertToInteractive',\n",
              "                                                    [key], {});\n",
              "        if (!dataTable) return;\n",
              "\n",
              "        const docLinkHtml = 'Like what you see? Visit the ' +\n",
              "          '<a target=\"_blank\" href=https://colab.research.google.com/notebooks/data_table.ipynb>data table notebook</a>'\n",
              "          + ' to learn more about interactive tables.';\n",
              "        element.innerHTML = '';\n",
              "        dataTable['output_type'] = 'display_data';\n",
              "        await google.colab.output.renderOutput(dataTable, element);\n",
              "        const docLink = document.createElement('div');\n",
              "        docLink.innerHTML = docLinkHtml;\n",
              "        element.appendChild(docLink);\n",
              "      }\n",
              "    </script>\n",
              "  </div>\n",
              "\n",
              "\n",
              "<div id=\"df-3da75726-d056-4fb0-8d75-cd331febaa89\">\n",
              "  <button class=\"colab-df-quickchart\" onclick=\"quickchart('df-3da75726-d056-4fb0-8d75-cd331febaa89')\"\n",
              "            title=\"Suggest charts\"\n",
              "            style=\"display:none;\">\n",
              "\n",
              "<svg xmlns=\"http://www.w3.org/2000/svg\" height=\"24px\"viewBox=\"0 0 24 24\"\n",
              "     width=\"24px\">\n",
              "    <g>\n",
              "        <path d=\"M19 3H5c-1.1 0-2 .9-2 2v14c0 1.1.9 2 2 2h14c1.1 0 2-.9 2-2V5c0-1.1-.9-2-2-2zM9 17H7v-7h2v7zm4 0h-2V7h2v10zm4 0h-2v-4h2v4z\"/>\n",
              "    </g>\n",
              "</svg>\n",
              "  </button>\n",
              "\n",
              "<style>\n",
              "  .colab-df-quickchart {\n",
              "      --bg-color: #E8F0FE;\n",
              "      --fill-color: #1967D2;\n",
              "      --hover-bg-color: #E2EBFA;\n",
              "      --hover-fill-color: #174EA6;\n",
              "      --disabled-fill-color: #AAA;\n",
              "      --disabled-bg-color: #DDD;\n",
              "  }\n",
              "\n",
              "  [theme=dark] .colab-df-quickchart {\n",
              "      --bg-color: #3B4455;\n",
              "      --fill-color: #D2E3FC;\n",
              "      --hover-bg-color: #434B5C;\n",
              "      --hover-fill-color: #FFFFFF;\n",
              "      --disabled-bg-color: #3B4455;\n",
              "      --disabled-fill-color: #666;\n",
              "  }\n",
              "\n",
              "  .colab-df-quickchart {\n",
              "    background-color: var(--bg-color);\n",
              "    border: none;\n",
              "    border-radius: 50%;\n",
              "    cursor: pointer;\n",
              "    display: none;\n",
              "    fill: var(--fill-color);\n",
              "    height: 32px;\n",
              "    padding: 0;\n",
              "    width: 32px;\n",
              "  }\n",
              "\n",
              "  .colab-df-quickchart:hover {\n",
              "    background-color: var(--hover-bg-color);\n",
              "    box-shadow: 0 1px 2px rgba(60, 64, 67, 0.3), 0 1px 3px 1px rgba(60, 64, 67, 0.15);\n",
              "    fill: var(--button-hover-fill-color);\n",
              "  }\n",
              "\n",
              "  .colab-df-quickchart-complete:disabled,\n",
              "  .colab-df-quickchart-complete:disabled:hover {\n",
              "    background-color: var(--disabled-bg-color);\n",
              "    fill: var(--disabled-fill-color);\n",
              "    box-shadow: none;\n",
              "  }\n",
              "\n",
              "  .colab-df-spinner {\n",
              "    border: 2px solid var(--fill-color);\n",
              "    border-color: transparent;\n",
              "    border-bottom-color: var(--fill-color);\n",
              "    animation:\n",
              "      spin 1s steps(1) infinite;\n",
              "  }\n",
              "\n",
              "  @keyframes spin {\n",
              "    0% {\n",
              "      border-color: transparent;\n",
              "      border-bottom-color: var(--fill-color);\n",
              "      border-left-color: var(--fill-color);\n",
              "    }\n",
              "    20% {\n",
              "      border-color: transparent;\n",
              "      border-left-color: var(--fill-color);\n",
              "      border-top-color: var(--fill-color);\n",
              "    }\n",
              "    30% {\n",
              "      border-color: transparent;\n",
              "      border-left-color: var(--fill-color);\n",
              "      border-top-color: var(--fill-color);\n",
              "      border-right-color: var(--fill-color);\n",
              "    }\n",
              "    40% {\n",
              "      border-color: transparent;\n",
              "      border-right-color: var(--fill-color);\n",
              "      border-top-color: var(--fill-color);\n",
              "    }\n",
              "    60% {\n",
              "      border-color: transparent;\n",
              "      border-right-color: var(--fill-color);\n",
              "    }\n",
              "    80% {\n",
              "      border-color: transparent;\n",
              "      border-right-color: var(--fill-color);\n",
              "      border-bottom-color: var(--fill-color);\n",
              "    }\n",
              "    90% {\n",
              "      border-color: transparent;\n",
              "      border-bottom-color: var(--fill-color);\n",
              "    }\n",
              "  }\n",
              "</style>\n",
              "\n",
              "  <script>\n",
              "    async function quickchart(key) {\n",
              "      const quickchartButtonEl =\n",
              "        document.querySelector('#' + key + ' button');\n",
              "      quickchartButtonEl.disabled = true;  // To prevent multiple clicks.\n",
              "      quickchartButtonEl.classList.add('colab-df-spinner');\n",
              "      try {\n",
              "        const charts = await google.colab.kernel.invokeFunction(\n",
              "            'suggestCharts', [key], {});\n",
              "      } catch (error) {\n",
              "        console.error('Error during call to suggestCharts:', error);\n",
              "      }\n",
              "      quickchartButtonEl.classList.remove('colab-df-spinner');\n",
              "      quickchartButtonEl.classList.add('colab-df-quickchart-complete');\n",
              "    }\n",
              "    (() => {\n",
              "      let quickchartButtonEl =\n",
              "        document.querySelector('#df-3da75726-d056-4fb0-8d75-cd331febaa89 button');\n",
              "      quickchartButtonEl.style.display =\n",
              "        google.colab.kernel.accessAllowed ? 'block' : 'none';\n",
              "    })();\n",
              "  </script>\n",
              "</div>\n",
              "\n",
              "  <div id=\"id_b0ee66be-c8d0-4d40-bf4b-12f0be0d93db\">\n",
              "    <style>\n",
              "      .colab-df-generate {\n",
              "        background-color: #E8F0FE;\n",
              "        border: none;\n",
              "        border-radius: 50%;\n",
              "        cursor: pointer;\n",
              "        display: none;\n",
              "        fill: #1967D2;\n",
              "        height: 32px;\n",
              "        padding: 0 0 0 0;\n",
              "        width: 32px;\n",
              "      }\n",
              "\n",
              "      .colab-df-generate:hover {\n",
              "        background-color: #E2EBFA;\n",
              "        box-shadow: 0px 1px 2px rgba(60, 64, 67, 0.3), 0px 1px 3px 1px rgba(60, 64, 67, 0.15);\n",
              "        fill: #174EA6;\n",
              "      }\n",
              "\n",
              "      [theme=dark] .colab-df-generate {\n",
              "        background-color: #3B4455;\n",
              "        fill: #D2E3FC;\n",
              "      }\n",
              "\n",
              "      [theme=dark] .colab-df-generate:hover {\n",
              "        background-color: #434B5C;\n",
              "        box-shadow: 0px 1px 3px 1px rgba(0, 0, 0, 0.15);\n",
              "        filter: drop-shadow(0px 1px 2px rgba(0, 0, 0, 0.3));\n",
              "        fill: #FFFFFF;\n",
              "      }\n",
              "    </style>\n",
              "    <button class=\"colab-df-generate\" onclick=\"generateWithVariable('data')\"\n",
              "            title=\"Generate code using this dataframe.\"\n",
              "            style=\"display:none;\">\n",
              "\n",
              "  <svg xmlns=\"http://www.w3.org/2000/svg\" height=\"24px\"viewBox=\"0 0 24 24\"\n",
              "       width=\"24px\">\n",
              "    <path d=\"M7,19H8.4L18.45,9,17,7.55,7,17.6ZM5,21V16.75L18.45,3.32a2,2,0,0,1,2.83,0l1.4,1.43a1.91,1.91,0,0,1,.58,1.4,1.91,1.91,0,0,1-.58,1.4L9.25,21ZM18.45,9,17,7.55Zm-12,3A5.31,5.31,0,0,0,4.9,8.1,5.31,5.31,0,0,0,1,6.5,5.31,5.31,0,0,0,4.9,4.9,5.31,5.31,0,0,0,6.5,1,5.31,5.31,0,0,0,8.1,4.9,5.31,5.31,0,0,0,12,6.5,5.46,5.46,0,0,0,6.5,12Z\"/>\n",
              "  </svg>\n",
              "    </button>\n",
              "    <script>\n",
              "      (() => {\n",
              "      const buttonEl =\n",
              "        document.querySelector('#id_b0ee66be-c8d0-4d40-bf4b-12f0be0d93db button.colab-df-generate');\n",
              "      buttonEl.style.display =\n",
              "        google.colab.kernel.accessAllowed ? 'block' : 'none';\n",
              "\n",
              "      buttonEl.onclick = () => {\n",
              "        google.colab.notebook.generateWithVariable('data');\n",
              "      }\n",
              "      })();\n",
              "    </script>\n",
              "  </div>\n",
              "\n",
              "    </div>\n",
              "  </div>\n"
            ],
            "application/vnd.google.colaboratory.intrinsic+json": {
              "type": "dataframe",
              "variable_name": "data",
              "summary": "{\n  \"name\": \"data\",\n  \"rows\": 15303,\n  \"fields\": [\n    {\n      \"column\": \"player_id\",\n      \"properties\": {\n        \"dtype\": \"category\",\n        \"num_unique_values\": 3111,\n        \"samples\": [\n          \"frohwto01\",\n          \"michach01\",\n          \"pricejo02\"\n        ],\n        \"semantic_type\": \"\",\n        \"description\": \"\"\n      }\n    },\n    {\n      \"column\": \"year\",\n      \"properties\": {\n        \"dtype\": \"number\",\n        \"std\": 10,\n        \"min\": 1980,\n        \"max\": 2015,\n        \"num_unique_values\": 36,\n        \"samples\": [\n          2015,\n          1993,\n          2006\n        ],\n        \"semantic_type\": \"\",\n        \"description\": \"\"\n      }\n    },\n    {\n      \"column\": \"stint\",\n      \"properties\": {\n        \"dtype\": \"number\",\n        \"std\": 0,\n        \"min\": 1,\n        \"max\": 4,\n        \"num_unique_values\": 4,\n        \"samples\": [\n          2,\n          4,\n          1\n        ],\n        \"semantic_type\": \"\",\n        \"description\": \"\"\n      }\n    },\n    {\n      \"column\": \"team_id\",\n      \"properties\": {\n        \"dtype\": \"category\",\n        \"num_unique_values\": 35,\n        \"samples\": [\n          \"FLO\",\n          \"LAN\",\n          \"BAL\"\n        ],\n        \"semantic_type\": \"\",\n        \"description\": \"\"\n      }\n    },\n    {\n      \"column\": \"w\",\n      \"properties\": {\n        \"dtype\": \"number\",\n        \"std\": 0,\n        \"min\": 0,\n        \"max\": 1,\n        \"num_unique_values\": 2,\n        \"samples\": [\n          1,\n          0\n        ],\n        \"semantic_type\": \"\",\n        \"description\": \"\"\n      }\n    },\n    {\n      \"column\": \"l\",\n      \"properties\": {\n        \"dtype\": \"number\",\n        \"std\": 3,\n        \"min\": 0,\n        \"max\": 21,\n        \"num_unique_values\": 22,\n        \"samples\": [\n          13,\n          14\n        ],\n        \"semantic_type\": \"\",\n        \"description\": \"\"\n      }\n    },\n    {\n      \"column\": \"g\",\n      \"properties\": {\n        \"dtype\": \"number\",\n        \"std\": 19,\n        \"min\": 1,\n        \"max\": 94,\n        \"num_unique_values\": 92,\n        \"samples\": [\n          43,\n          56\n        ],\n        \"semantic_type\": \"\",\n        \"description\": \"\"\n      }\n    },\n    {\n      \"column\": \"gs\",\n      \"properties\": {\n        \"dtype\": \"number\",\n        \"std\": 12,\n        \"min\": 0,\n        \"max\": 40,\n        \"num_unique_values\": 41,\n        \"samples\": [\n          27,\n          6\n        ],\n        \"semantic_type\": \"\",\n        \"description\": \"\"\n      }\n    },\n    {\n      \"column\": \"cg\",\n      \"properties\": {\n        \"dtype\": \"number\",\n        \"std\": 1,\n        \"min\": 0,\n        \"max\": 28,\n        \"num_unique_values\": 24,\n        \"samples\": [\n          4,\n          9\n        ],\n        \"semantic_type\": \"\",\n        \"description\": \"\"\n      }\n    },\n    {\n      \"column\": \"sho\",\n      \"properties\": {\n        \"dtype\": \"number\",\n        \"std\": 0,\n        \"min\": 0,\n        \"max\": 10,\n        \"num_unique_values\": 10,\n        \"samples\": [\n          10,\n          2\n        ],\n        \"semantic_type\": \"\",\n        \"description\": \"\"\n      }\n    },\n    {\n      \"column\": \"sv\",\n      \"properties\": {\n        \"dtype\": \"number\",\n        \"std\": 7,\n        \"min\": 0,\n        \"max\": 62,\n        \"num_unique_values\": 57,\n        \"samples\": [\n          2,\n          5\n        ],\n        \"semantic_type\": \"\",\n        \"description\": \"\"\n      }\n    },\n    {\n      \"column\": \"h\",\n      \"properties\": {\n        \"dtype\": \"number\",\n        \"std\": 64,\n        \"min\": 0,\n        \"max\": 287,\n        \"num_unique_values\": 282,\n        \"samples\": [\n          50,\n          78\n        ],\n        \"semantic_type\": \"\",\n        \"description\": \"\"\n      }\n    },\n    {\n      \"column\": \"er\",\n      \"properties\": {\n        \"dtype\": \"number\",\n        \"std\": 29,\n        \"min\": 0,\n        \"max\": 145,\n        \"num_unique_values\": 139,\n        \"samples\": [\n          136,\n          34\n        ],\n        \"semantic_type\": \"\",\n        \"description\": \"\"\n      }\n    },\n    {\n      \"column\": \"hr\",\n      \"properties\": {\n        \"dtype\": \"number\",\n        \"std\": 7,\n        \"min\": 0,\n        \"max\": 50,\n        \"num_unique_values\": 47,\n        \"samples\": [\n          30,\n          40\n        ],\n        \"semantic_type\": \"\",\n        \"description\": \"\"\n      }\n    },\n    {\n      \"column\": \"bb\",\n      \"properties\": {\n        \"dtype\": \"number\",\n        \"std\": 22,\n        \"min\": 0,\n        \"max\": 152,\n        \"num_unique_values\": 130,\n        \"samples\": [\n          78,\n          27\n        ],\n        \"semantic_type\": \"\",\n        \"description\": \"\"\n      }\n    },\n    {\n      \"column\": \"so\",\n      \"properties\": {\n        \"dtype\": \"number\",\n        \"std\": 48,\n        \"min\": 0,\n        \"max\": 372,\n        \"num_unique_values\": 280,\n        \"samples\": [\n          33,\n          73\n        ],\n        \"semantic_type\": \"\",\n        \"description\": \"\"\n      }\n    },\n    {\n      \"column\": \"bk\",\n      \"properties\": {\n        \"dtype\": \"number\",\n        \"std\": 1,\n        \"min\": 0,\n        \"max\": 16,\n        \"num_unique_values\": 16,\n        \"samples\": [\n          1,\n          0\n        ],\n        \"semantic_type\": \"\",\n        \"description\": \"\"\n      }\n    },\n    {\n      \"column\": \"r\",\n      \"properties\": {\n        \"dtype\": \"number\",\n        \"std\": 31,\n        \"min\": 0,\n        \"max\": 160,\n        \"num_unique_values\": 153,\n        \"samples\": [\n          56,\n          62\n        ],\n        \"semantic_type\": \"\",\n        \"description\": \"\"\n      }\n    }\n  ]\n}"
            }
          },
          "metadata": {},
          "execution_count": 23
        }
      ],
      "source": [
        "data['w'] = [1 if value >= 10 else 0 for value in data['w']]\n",
        "data"
      ]
    },
    {
      "cell_type": "markdown",
      "id": "f0cda52e",
      "metadata": {
        "id": "f0cda52e"
      },
      "source": [
        "1.10 value_counts()를 통해 잘 나눠졌는지 확인해보세요."
      ]
    },
    {
      "cell_type": "code",
      "execution_count": 24,
      "id": "0099641a",
      "metadata": {
        "scrolled": true,
        "id": "0099641a",
        "outputId": "6d1cea1f-e7a1-452b-a4c6-c5cc819cd626",
        "colab": {
          "base_uri": "https://localhost:8080/"
        }
      },
      "outputs": [
        {
          "output_type": "execute_result",
          "data": {
            "text/plain": [
              "w\n",
              "0    12589\n",
              "1     2714\n",
              "Name: count, dtype: int64"
            ]
          },
          "metadata": {},
          "execution_count": 24
        }
      ],
      "source": [
        "data['w'].value_counts()"
      ]
    },
    {
      "cell_type": "markdown",
      "id": "1fc961f8",
      "metadata": {
        "id": "1fc961f8"
      },
      "source": [
        "1.11 종속 변수의 밸런스가 맞지 않는 것으로 확인됩니다. 이를 해결하기 위해 Under Sampling 혹은 Over Sampling 기법을 사용할 수 있는데 Under Sampling의 경우 데이터가 많지 않는 상황에서 사라지는 데이터가 과도하게 많으므로 Over Sampling 기법 중 SMOTE 기법을 사용해보겠습니다. 사용하기 전에 player_id, year, team_id 컬럼은 지우고 가겠습니다."
      ]
    },
    {
      "cell_type": "code",
      "execution_count": 25,
      "id": "64f49881",
      "metadata": {
        "id": "64f49881",
        "outputId": "e4160868-bb31-43e3-e1b1-6b9a3b1b08ab",
        "colab": {
          "base_uri": "https://localhost:8080/",
          "height": 424
        }
      },
      "outputs": [
        {
          "output_type": "execute_result",
          "data": {
            "text/plain": [
              "       stint  w   l   g  gs  cg  sho  sv    h   er  hr  bb   so  bk    r\n",
              "0          1  0  13  40  21   5    1   2  193   79  13  66   74   1   83\n",
              "1          1  1  12  31  31   7    2   0  228   98  27  49   78   1  110\n",
              "2          1  1  11  35  35   7    1   0  227  108  20  74  114   0  120\n",
              "4          1  0  10  59   0   0    0  22   87   40   7  40   79   1   43\n",
              "6          1  0   8  35  14   0    0   2  132   53   8  43   75   0   59\n",
              "...      ... ..  ..  ..  ..  ..  ...  ..  ...  ...  ..  ..  ...  ..  ...\n",
              "21147      1  0   5  12   9   0    0   0   52   30   9  18   26   0   30\n",
              "21148      1  0   4  16   9   0    0   0   67   33  12  27   52   0   38\n",
              "21151      1  0   0  20   0   0    0   0   23   18  10   7   21   0   18\n",
              "21152      1  1   6  34  18   0    0   0   91   42  16  43   83   0   44\n",
              "21154      1  1  10  33  33   0    0   0  204   82  24  39  164   1   89\n",
              "\n",
              "[15303 rows x 15 columns]"
            ],
            "text/html": [
              "\n",
              "  <div id=\"df-d9a815e0-b587-4a5a-a6db-1d06e888bc6f\" class=\"colab-df-container\">\n",
              "    <div>\n",
              "<style scoped>\n",
              "    .dataframe tbody tr th:only-of-type {\n",
              "        vertical-align: middle;\n",
              "    }\n",
              "\n",
              "    .dataframe tbody tr th {\n",
              "        vertical-align: top;\n",
              "    }\n",
              "\n",
              "    .dataframe thead th {\n",
              "        text-align: right;\n",
              "    }\n",
              "</style>\n",
              "<table border=\"1\" class=\"dataframe\">\n",
              "  <thead>\n",
              "    <tr style=\"text-align: right;\">\n",
              "      <th></th>\n",
              "      <th>stint</th>\n",
              "      <th>w</th>\n",
              "      <th>l</th>\n",
              "      <th>g</th>\n",
              "      <th>gs</th>\n",
              "      <th>cg</th>\n",
              "      <th>sho</th>\n",
              "      <th>sv</th>\n",
              "      <th>h</th>\n",
              "      <th>er</th>\n",
              "      <th>hr</th>\n",
              "      <th>bb</th>\n",
              "      <th>so</th>\n",
              "      <th>bk</th>\n",
              "      <th>r</th>\n",
              "    </tr>\n",
              "  </thead>\n",
              "  <tbody>\n",
              "    <tr>\n",
              "      <th>0</th>\n",
              "      <td>1</td>\n",
              "      <td>0</td>\n",
              "      <td>13</td>\n",
              "      <td>40</td>\n",
              "      <td>21</td>\n",
              "      <td>5</td>\n",
              "      <td>1</td>\n",
              "      <td>2</td>\n",
              "      <td>193</td>\n",
              "      <td>79</td>\n",
              "      <td>13</td>\n",
              "      <td>66</td>\n",
              "      <td>74</td>\n",
              "      <td>1</td>\n",
              "      <td>83</td>\n",
              "    </tr>\n",
              "    <tr>\n",
              "      <th>1</th>\n",
              "      <td>1</td>\n",
              "      <td>1</td>\n",
              "      <td>12</td>\n",
              "      <td>31</td>\n",
              "      <td>31</td>\n",
              "      <td>7</td>\n",
              "      <td>2</td>\n",
              "      <td>0</td>\n",
              "      <td>228</td>\n",
              "      <td>98</td>\n",
              "      <td>27</td>\n",
              "      <td>49</td>\n",
              "      <td>78</td>\n",
              "      <td>1</td>\n",
              "      <td>110</td>\n",
              "    </tr>\n",
              "    <tr>\n",
              "      <th>2</th>\n",
              "      <td>1</td>\n",
              "      <td>1</td>\n",
              "      <td>11</td>\n",
              "      <td>35</td>\n",
              "      <td>35</td>\n",
              "      <td>7</td>\n",
              "      <td>1</td>\n",
              "      <td>0</td>\n",
              "      <td>227</td>\n",
              "      <td>108</td>\n",
              "      <td>20</td>\n",
              "      <td>74</td>\n",
              "      <td>114</td>\n",
              "      <td>0</td>\n",
              "      <td>120</td>\n",
              "    </tr>\n",
              "    <tr>\n",
              "      <th>4</th>\n",
              "      <td>1</td>\n",
              "      <td>0</td>\n",
              "      <td>10</td>\n",
              "      <td>59</td>\n",
              "      <td>0</td>\n",
              "      <td>0</td>\n",
              "      <td>0</td>\n",
              "      <td>22</td>\n",
              "      <td>87</td>\n",
              "      <td>40</td>\n",
              "      <td>7</td>\n",
              "      <td>40</td>\n",
              "      <td>79</td>\n",
              "      <td>1</td>\n",
              "      <td>43</td>\n",
              "    </tr>\n",
              "    <tr>\n",
              "      <th>6</th>\n",
              "      <td>1</td>\n",
              "      <td>0</td>\n",
              "      <td>8</td>\n",
              "      <td>35</td>\n",
              "      <td>14</td>\n",
              "      <td>0</td>\n",
              "      <td>0</td>\n",
              "      <td>2</td>\n",
              "      <td>132</td>\n",
              "      <td>53</td>\n",
              "      <td>8</td>\n",
              "      <td>43</td>\n",
              "      <td>75</td>\n",
              "      <td>0</td>\n",
              "      <td>59</td>\n",
              "    </tr>\n",
              "    <tr>\n",
              "      <th>...</th>\n",
              "      <td>...</td>\n",
              "      <td>...</td>\n",
              "      <td>...</td>\n",
              "      <td>...</td>\n",
              "      <td>...</td>\n",
              "      <td>...</td>\n",
              "      <td>...</td>\n",
              "      <td>...</td>\n",
              "      <td>...</td>\n",
              "      <td>...</td>\n",
              "      <td>...</td>\n",
              "      <td>...</td>\n",
              "      <td>...</td>\n",
              "      <td>...</td>\n",
              "      <td>...</td>\n",
              "    </tr>\n",
              "    <tr>\n",
              "      <th>21147</th>\n",
              "      <td>1</td>\n",
              "      <td>0</td>\n",
              "      <td>5</td>\n",
              "      <td>12</td>\n",
              "      <td>9</td>\n",
              "      <td>0</td>\n",
              "      <td>0</td>\n",
              "      <td>0</td>\n",
              "      <td>52</td>\n",
              "      <td>30</td>\n",
              "      <td>9</td>\n",
              "      <td>18</td>\n",
              "      <td>26</td>\n",
              "      <td>0</td>\n",
              "      <td>30</td>\n",
              "    </tr>\n",
              "    <tr>\n",
              "      <th>21148</th>\n",
              "      <td>1</td>\n",
              "      <td>0</td>\n",
              "      <td>4</td>\n",
              "      <td>16</td>\n",
              "      <td>9</td>\n",
              "      <td>0</td>\n",
              "      <td>0</td>\n",
              "      <td>0</td>\n",
              "      <td>67</td>\n",
              "      <td>33</td>\n",
              "      <td>12</td>\n",
              "      <td>27</td>\n",
              "      <td>52</td>\n",
              "      <td>0</td>\n",
              "      <td>38</td>\n",
              "    </tr>\n",
              "    <tr>\n",
              "      <th>21151</th>\n",
              "      <td>1</td>\n",
              "      <td>0</td>\n",
              "      <td>0</td>\n",
              "      <td>20</td>\n",
              "      <td>0</td>\n",
              "      <td>0</td>\n",
              "      <td>0</td>\n",
              "      <td>0</td>\n",
              "      <td>23</td>\n",
              "      <td>18</td>\n",
              "      <td>10</td>\n",
              "      <td>7</td>\n",
              "      <td>21</td>\n",
              "      <td>0</td>\n",
              "      <td>18</td>\n",
              "    </tr>\n",
              "    <tr>\n",
              "      <th>21152</th>\n",
              "      <td>1</td>\n",
              "      <td>1</td>\n",
              "      <td>6</td>\n",
              "      <td>34</td>\n",
              "      <td>18</td>\n",
              "      <td>0</td>\n",
              "      <td>0</td>\n",
              "      <td>0</td>\n",
              "      <td>91</td>\n",
              "      <td>42</td>\n",
              "      <td>16</td>\n",
              "      <td>43</td>\n",
              "      <td>83</td>\n",
              "      <td>0</td>\n",
              "      <td>44</td>\n",
              "    </tr>\n",
              "    <tr>\n",
              "      <th>21154</th>\n",
              "      <td>1</td>\n",
              "      <td>1</td>\n",
              "      <td>10</td>\n",
              "      <td>33</td>\n",
              "      <td>33</td>\n",
              "      <td>0</td>\n",
              "      <td>0</td>\n",
              "      <td>0</td>\n",
              "      <td>204</td>\n",
              "      <td>82</td>\n",
              "      <td>24</td>\n",
              "      <td>39</td>\n",
              "      <td>164</td>\n",
              "      <td>1</td>\n",
              "      <td>89</td>\n",
              "    </tr>\n",
              "  </tbody>\n",
              "</table>\n",
              "<p>15303 rows × 15 columns</p>\n",
              "</div>\n",
              "    <div class=\"colab-df-buttons\">\n",
              "\n",
              "  <div class=\"colab-df-container\">\n",
              "    <button class=\"colab-df-convert\" onclick=\"convertToInteractive('df-d9a815e0-b587-4a5a-a6db-1d06e888bc6f')\"\n",
              "            title=\"Convert this dataframe to an interactive table.\"\n",
              "            style=\"display:none;\">\n",
              "\n",
              "  <svg xmlns=\"http://www.w3.org/2000/svg\" height=\"24px\" viewBox=\"0 -960 960 960\">\n",
              "    <path d=\"M120-120v-720h720v720H120Zm60-500h600v-160H180v160Zm220 220h160v-160H400v160Zm0 220h160v-160H400v160ZM180-400h160v-160H180v160Zm440 0h160v-160H620v160ZM180-180h160v-160H180v160Zm440 0h160v-160H620v160Z\"/>\n",
              "  </svg>\n",
              "    </button>\n",
              "\n",
              "  <style>\n",
              "    .colab-df-container {\n",
              "      display:flex;\n",
              "      gap: 12px;\n",
              "    }\n",
              "\n",
              "    .colab-df-convert {\n",
              "      background-color: #E8F0FE;\n",
              "      border: none;\n",
              "      border-radius: 50%;\n",
              "      cursor: pointer;\n",
              "      display: none;\n",
              "      fill: #1967D2;\n",
              "      height: 32px;\n",
              "      padding: 0 0 0 0;\n",
              "      width: 32px;\n",
              "    }\n",
              "\n",
              "    .colab-df-convert:hover {\n",
              "      background-color: #E2EBFA;\n",
              "      box-shadow: 0px 1px 2px rgba(60, 64, 67, 0.3), 0px 1px 3px 1px rgba(60, 64, 67, 0.15);\n",
              "      fill: #174EA6;\n",
              "    }\n",
              "\n",
              "    .colab-df-buttons div {\n",
              "      margin-bottom: 4px;\n",
              "    }\n",
              "\n",
              "    [theme=dark] .colab-df-convert {\n",
              "      background-color: #3B4455;\n",
              "      fill: #D2E3FC;\n",
              "    }\n",
              "\n",
              "    [theme=dark] .colab-df-convert:hover {\n",
              "      background-color: #434B5C;\n",
              "      box-shadow: 0px 1px 3px 1px rgba(0, 0, 0, 0.15);\n",
              "      filter: drop-shadow(0px 1px 2px rgba(0, 0, 0, 0.3));\n",
              "      fill: #FFFFFF;\n",
              "    }\n",
              "  </style>\n",
              "\n",
              "    <script>\n",
              "      const buttonEl =\n",
              "        document.querySelector('#df-d9a815e0-b587-4a5a-a6db-1d06e888bc6f button.colab-df-convert');\n",
              "      buttonEl.style.display =\n",
              "        google.colab.kernel.accessAllowed ? 'block' : 'none';\n",
              "\n",
              "      async function convertToInteractive(key) {\n",
              "        const element = document.querySelector('#df-d9a815e0-b587-4a5a-a6db-1d06e888bc6f');\n",
              "        const dataTable =\n",
              "          await google.colab.kernel.invokeFunction('convertToInteractive',\n",
              "                                                    [key], {});\n",
              "        if (!dataTable) return;\n",
              "\n",
              "        const docLinkHtml = 'Like what you see? Visit the ' +\n",
              "          '<a target=\"_blank\" href=https://colab.research.google.com/notebooks/data_table.ipynb>data table notebook</a>'\n",
              "          + ' to learn more about interactive tables.';\n",
              "        element.innerHTML = '';\n",
              "        dataTable['output_type'] = 'display_data';\n",
              "        await google.colab.output.renderOutput(dataTable, element);\n",
              "        const docLink = document.createElement('div');\n",
              "        docLink.innerHTML = docLinkHtml;\n",
              "        element.appendChild(docLink);\n",
              "      }\n",
              "    </script>\n",
              "  </div>\n",
              "\n",
              "\n",
              "<div id=\"df-38a1651e-8650-42aa-b6a8-9fa384010b71\">\n",
              "  <button class=\"colab-df-quickchart\" onclick=\"quickchart('df-38a1651e-8650-42aa-b6a8-9fa384010b71')\"\n",
              "            title=\"Suggest charts\"\n",
              "            style=\"display:none;\">\n",
              "\n",
              "<svg xmlns=\"http://www.w3.org/2000/svg\" height=\"24px\"viewBox=\"0 0 24 24\"\n",
              "     width=\"24px\">\n",
              "    <g>\n",
              "        <path d=\"M19 3H5c-1.1 0-2 .9-2 2v14c0 1.1.9 2 2 2h14c1.1 0 2-.9 2-2V5c0-1.1-.9-2-2-2zM9 17H7v-7h2v7zm4 0h-2V7h2v10zm4 0h-2v-4h2v4z\"/>\n",
              "    </g>\n",
              "</svg>\n",
              "  </button>\n",
              "\n",
              "<style>\n",
              "  .colab-df-quickchart {\n",
              "      --bg-color: #E8F0FE;\n",
              "      --fill-color: #1967D2;\n",
              "      --hover-bg-color: #E2EBFA;\n",
              "      --hover-fill-color: #174EA6;\n",
              "      --disabled-fill-color: #AAA;\n",
              "      --disabled-bg-color: #DDD;\n",
              "  }\n",
              "\n",
              "  [theme=dark] .colab-df-quickchart {\n",
              "      --bg-color: #3B4455;\n",
              "      --fill-color: #D2E3FC;\n",
              "      --hover-bg-color: #434B5C;\n",
              "      --hover-fill-color: #FFFFFF;\n",
              "      --disabled-bg-color: #3B4455;\n",
              "      --disabled-fill-color: #666;\n",
              "  }\n",
              "\n",
              "  .colab-df-quickchart {\n",
              "    background-color: var(--bg-color);\n",
              "    border: none;\n",
              "    border-radius: 50%;\n",
              "    cursor: pointer;\n",
              "    display: none;\n",
              "    fill: var(--fill-color);\n",
              "    height: 32px;\n",
              "    padding: 0;\n",
              "    width: 32px;\n",
              "  }\n",
              "\n",
              "  .colab-df-quickchart:hover {\n",
              "    background-color: var(--hover-bg-color);\n",
              "    box-shadow: 0 1px 2px rgba(60, 64, 67, 0.3), 0 1px 3px 1px rgba(60, 64, 67, 0.15);\n",
              "    fill: var(--button-hover-fill-color);\n",
              "  }\n",
              "\n",
              "  .colab-df-quickchart-complete:disabled,\n",
              "  .colab-df-quickchart-complete:disabled:hover {\n",
              "    background-color: var(--disabled-bg-color);\n",
              "    fill: var(--disabled-fill-color);\n",
              "    box-shadow: none;\n",
              "  }\n",
              "\n",
              "  .colab-df-spinner {\n",
              "    border: 2px solid var(--fill-color);\n",
              "    border-color: transparent;\n",
              "    border-bottom-color: var(--fill-color);\n",
              "    animation:\n",
              "      spin 1s steps(1) infinite;\n",
              "  }\n",
              "\n",
              "  @keyframes spin {\n",
              "    0% {\n",
              "      border-color: transparent;\n",
              "      border-bottom-color: var(--fill-color);\n",
              "      border-left-color: var(--fill-color);\n",
              "    }\n",
              "    20% {\n",
              "      border-color: transparent;\n",
              "      border-left-color: var(--fill-color);\n",
              "      border-top-color: var(--fill-color);\n",
              "    }\n",
              "    30% {\n",
              "      border-color: transparent;\n",
              "      border-left-color: var(--fill-color);\n",
              "      border-top-color: var(--fill-color);\n",
              "      border-right-color: var(--fill-color);\n",
              "    }\n",
              "    40% {\n",
              "      border-color: transparent;\n",
              "      border-right-color: var(--fill-color);\n",
              "      border-top-color: var(--fill-color);\n",
              "    }\n",
              "    60% {\n",
              "      border-color: transparent;\n",
              "      border-right-color: var(--fill-color);\n",
              "    }\n",
              "    80% {\n",
              "      border-color: transparent;\n",
              "      border-right-color: var(--fill-color);\n",
              "      border-bottom-color: var(--fill-color);\n",
              "    }\n",
              "    90% {\n",
              "      border-color: transparent;\n",
              "      border-bottom-color: var(--fill-color);\n",
              "    }\n",
              "  }\n",
              "</style>\n",
              "\n",
              "  <script>\n",
              "    async function quickchart(key) {\n",
              "      const quickchartButtonEl =\n",
              "        document.querySelector('#' + key + ' button');\n",
              "      quickchartButtonEl.disabled = true;  // To prevent multiple clicks.\n",
              "      quickchartButtonEl.classList.add('colab-df-spinner');\n",
              "      try {\n",
              "        const charts = await google.colab.kernel.invokeFunction(\n",
              "            'suggestCharts', [key], {});\n",
              "      } catch (error) {\n",
              "        console.error('Error during call to suggestCharts:', error);\n",
              "      }\n",
              "      quickchartButtonEl.classList.remove('colab-df-spinner');\n",
              "      quickchartButtonEl.classList.add('colab-df-quickchart-complete');\n",
              "    }\n",
              "    (() => {\n",
              "      let quickchartButtonEl =\n",
              "        document.querySelector('#df-38a1651e-8650-42aa-b6a8-9fa384010b71 button');\n",
              "      quickchartButtonEl.style.display =\n",
              "        google.colab.kernel.accessAllowed ? 'block' : 'none';\n",
              "    })();\n",
              "  </script>\n",
              "</div>\n",
              "\n",
              "  <div id=\"id_4870e8e4-b733-4c24-b305-98e597bd3781\">\n",
              "    <style>\n",
              "      .colab-df-generate {\n",
              "        background-color: #E8F0FE;\n",
              "        border: none;\n",
              "        border-radius: 50%;\n",
              "        cursor: pointer;\n",
              "        display: none;\n",
              "        fill: #1967D2;\n",
              "        height: 32px;\n",
              "        padding: 0 0 0 0;\n",
              "        width: 32px;\n",
              "      }\n",
              "\n",
              "      .colab-df-generate:hover {\n",
              "        background-color: #E2EBFA;\n",
              "        box-shadow: 0px 1px 2px rgba(60, 64, 67, 0.3), 0px 1px 3px 1px rgba(60, 64, 67, 0.15);\n",
              "        fill: #174EA6;\n",
              "      }\n",
              "\n",
              "      [theme=dark] .colab-df-generate {\n",
              "        background-color: #3B4455;\n",
              "        fill: #D2E3FC;\n",
              "      }\n",
              "\n",
              "      [theme=dark] .colab-df-generate:hover {\n",
              "        background-color: #434B5C;\n",
              "        box-shadow: 0px 1px 3px 1px rgba(0, 0, 0, 0.15);\n",
              "        filter: drop-shadow(0px 1px 2px rgba(0, 0, 0, 0.3));\n",
              "        fill: #FFFFFF;\n",
              "      }\n",
              "    </style>\n",
              "    <button class=\"colab-df-generate\" onclick=\"generateWithVariable('data')\"\n",
              "            title=\"Generate code using this dataframe.\"\n",
              "            style=\"display:none;\">\n",
              "\n",
              "  <svg xmlns=\"http://www.w3.org/2000/svg\" height=\"24px\"viewBox=\"0 0 24 24\"\n",
              "       width=\"24px\">\n",
              "    <path d=\"M7,19H8.4L18.45,9,17,7.55,7,17.6ZM5,21V16.75L18.45,3.32a2,2,0,0,1,2.83,0l1.4,1.43a1.91,1.91,0,0,1,.58,1.4,1.91,1.91,0,0,1-.58,1.4L9.25,21ZM18.45,9,17,7.55Zm-12,3A5.31,5.31,0,0,0,4.9,8.1,5.31,5.31,0,0,0,1,6.5,5.31,5.31,0,0,0,4.9,4.9,5.31,5.31,0,0,0,6.5,1,5.31,5.31,0,0,0,8.1,4.9,5.31,5.31,0,0,0,12,6.5,5.46,5.46,0,0,0,6.5,12Z\"/>\n",
              "  </svg>\n",
              "    </button>\n",
              "    <script>\n",
              "      (() => {\n",
              "      const buttonEl =\n",
              "        document.querySelector('#id_4870e8e4-b733-4c24-b305-98e597bd3781 button.colab-df-generate');\n",
              "      buttonEl.style.display =\n",
              "        google.colab.kernel.accessAllowed ? 'block' : 'none';\n",
              "\n",
              "      buttonEl.onclick = () => {\n",
              "        google.colab.notebook.generateWithVariable('data');\n",
              "      }\n",
              "      })();\n",
              "    </script>\n",
              "  </div>\n",
              "\n",
              "    </div>\n",
              "  </div>\n"
            ],
            "application/vnd.google.colaboratory.intrinsic+json": {
              "type": "dataframe",
              "variable_name": "data",
              "summary": "{\n  \"name\": \"data\",\n  \"rows\": 15303,\n  \"fields\": [\n    {\n      \"column\": \"stint\",\n      \"properties\": {\n        \"dtype\": \"number\",\n        \"std\": 0,\n        \"min\": 1,\n        \"max\": 4,\n        \"num_unique_values\": 4,\n        \"samples\": [\n          2,\n          4,\n          1\n        ],\n        \"semantic_type\": \"\",\n        \"description\": \"\"\n      }\n    },\n    {\n      \"column\": \"w\",\n      \"properties\": {\n        \"dtype\": \"number\",\n        \"std\": 0,\n        \"min\": 0,\n        \"max\": 1,\n        \"num_unique_values\": 2,\n        \"samples\": [\n          1,\n          0\n        ],\n        \"semantic_type\": \"\",\n        \"description\": \"\"\n      }\n    },\n    {\n      \"column\": \"l\",\n      \"properties\": {\n        \"dtype\": \"number\",\n        \"std\": 3,\n        \"min\": 0,\n        \"max\": 21,\n        \"num_unique_values\": 22,\n        \"samples\": [\n          13,\n          14\n        ],\n        \"semantic_type\": \"\",\n        \"description\": \"\"\n      }\n    },\n    {\n      \"column\": \"g\",\n      \"properties\": {\n        \"dtype\": \"number\",\n        \"std\": 19,\n        \"min\": 1,\n        \"max\": 94,\n        \"num_unique_values\": 92,\n        \"samples\": [\n          43,\n          56\n        ],\n        \"semantic_type\": \"\",\n        \"description\": \"\"\n      }\n    },\n    {\n      \"column\": \"gs\",\n      \"properties\": {\n        \"dtype\": \"number\",\n        \"std\": 12,\n        \"min\": 0,\n        \"max\": 40,\n        \"num_unique_values\": 41,\n        \"samples\": [\n          27,\n          6\n        ],\n        \"semantic_type\": \"\",\n        \"description\": \"\"\n      }\n    },\n    {\n      \"column\": \"cg\",\n      \"properties\": {\n        \"dtype\": \"number\",\n        \"std\": 1,\n        \"min\": 0,\n        \"max\": 28,\n        \"num_unique_values\": 24,\n        \"samples\": [\n          4,\n          9\n        ],\n        \"semantic_type\": \"\",\n        \"description\": \"\"\n      }\n    },\n    {\n      \"column\": \"sho\",\n      \"properties\": {\n        \"dtype\": \"number\",\n        \"std\": 0,\n        \"min\": 0,\n        \"max\": 10,\n        \"num_unique_values\": 10,\n        \"samples\": [\n          10,\n          2\n        ],\n        \"semantic_type\": \"\",\n        \"description\": \"\"\n      }\n    },\n    {\n      \"column\": \"sv\",\n      \"properties\": {\n        \"dtype\": \"number\",\n        \"std\": 7,\n        \"min\": 0,\n        \"max\": 62,\n        \"num_unique_values\": 57,\n        \"samples\": [\n          2,\n          5\n        ],\n        \"semantic_type\": \"\",\n        \"description\": \"\"\n      }\n    },\n    {\n      \"column\": \"h\",\n      \"properties\": {\n        \"dtype\": \"number\",\n        \"std\": 64,\n        \"min\": 0,\n        \"max\": 287,\n        \"num_unique_values\": 282,\n        \"samples\": [\n          50,\n          78\n        ],\n        \"semantic_type\": \"\",\n        \"description\": \"\"\n      }\n    },\n    {\n      \"column\": \"er\",\n      \"properties\": {\n        \"dtype\": \"number\",\n        \"std\": 29,\n        \"min\": 0,\n        \"max\": 145,\n        \"num_unique_values\": 139,\n        \"samples\": [\n          136,\n          34\n        ],\n        \"semantic_type\": \"\",\n        \"description\": \"\"\n      }\n    },\n    {\n      \"column\": \"hr\",\n      \"properties\": {\n        \"dtype\": \"number\",\n        \"std\": 7,\n        \"min\": 0,\n        \"max\": 50,\n        \"num_unique_values\": 47,\n        \"samples\": [\n          30,\n          40\n        ],\n        \"semantic_type\": \"\",\n        \"description\": \"\"\n      }\n    },\n    {\n      \"column\": \"bb\",\n      \"properties\": {\n        \"dtype\": \"number\",\n        \"std\": 22,\n        \"min\": 0,\n        \"max\": 152,\n        \"num_unique_values\": 130,\n        \"samples\": [\n          78,\n          27\n        ],\n        \"semantic_type\": \"\",\n        \"description\": \"\"\n      }\n    },\n    {\n      \"column\": \"so\",\n      \"properties\": {\n        \"dtype\": \"number\",\n        \"std\": 48,\n        \"min\": 0,\n        \"max\": 372,\n        \"num_unique_values\": 280,\n        \"samples\": [\n          33,\n          73\n        ],\n        \"semantic_type\": \"\",\n        \"description\": \"\"\n      }\n    },\n    {\n      \"column\": \"bk\",\n      \"properties\": {\n        \"dtype\": \"number\",\n        \"std\": 1,\n        \"min\": 0,\n        \"max\": 16,\n        \"num_unique_values\": 16,\n        \"samples\": [\n          1,\n          0\n        ],\n        \"semantic_type\": \"\",\n        \"description\": \"\"\n      }\n    },\n    {\n      \"column\": \"r\",\n      \"properties\": {\n        \"dtype\": \"number\",\n        \"std\": 31,\n        \"min\": 0,\n        \"max\": 160,\n        \"num_unique_values\": 153,\n        \"samples\": [\n          56,\n          62\n        ],\n        \"semantic_type\": \"\",\n        \"description\": \"\"\n      }\n    }\n  ]\n}"
            }
          },
          "metadata": {},
          "execution_count": 25
        }
      ],
      "source": [
        "data = data.drop(columns = ['player_id', 'year', 'team_id'])\n",
        "data"
      ]
    },
    {
      "cell_type": "markdown",
      "id": "fcbe27ac",
      "metadata": {
        "id": "fcbe27ac"
      },
      "source": [
        "1.12 SMOTE 기법을 활용해 w의 balance를 맞추세요(sampling_strategy='auto', random_state = 123)."
      ]
    },
    {
      "cell_type": "code",
      "execution_count": 26,
      "id": "a51eb9d3",
      "metadata": {
        "id": "a51eb9d3"
      },
      "outputs": [],
      "source": [
        "smote = SMOTE(sampling_strategy='auto', random_state=123)\n",
        "X, y = smote.fit_resample(data.drop(columns=['w']) , data['w'])"
      ]
    },
    {
      "cell_type": "markdown",
      "id": "a091c7c2",
      "metadata": {
        "id": "a091c7c2"
      },
      "source": [
        "1.13 balance가 잘 맞춰졌는지 확인하세요."
      ]
    },
    {
      "cell_type": "code",
      "execution_count": 27,
      "id": "c5394d07",
      "metadata": {
        "id": "c5394d07",
        "outputId": "14fceb2e-0c11-4076-f346-ec77e0ff9dd1",
        "colab": {
          "base_uri": "https://localhost:8080/"
        }
      },
      "outputs": [
        {
          "output_type": "stream",
          "name": "stdout",
          "text": [
            "전 w\n",
            "0    12589\n",
            "1     2714\n",
            "Name: count, dtype: int64\n",
            "후 w\n",
            "0    12589\n",
            "1    12589\n",
            "Name: count, dtype: int64\n"
          ]
        }
      ],
      "source": [
        "print(\"전\",data['w'].value_counts())\n",
        "print(\"후\",y.value_counts())"
      ]
    },
    {
      "cell_type": "markdown",
      "id": "9545facf",
      "metadata": {
        "id": "9545facf"
      },
      "source": [
        "1.14 SMOTE의 동작 방식에 대해 작성하고 Over Sampling의 장/단점에 대해 작성하세요."
      ]
    },
    {
      "cell_type": "markdown",
      "source": [
        "SMOTE는 부트스트래핑이나 KNN(최근접이웃) 모델 기법을 이용하여, 다수 클래스를 샘플링하고 기존 소수 샘플을 보간하여 클래스의 불균형을 해결한다.\n",
        "데이터를 증가시키기 때문에 정보 손실이 없으나, 과적합 가능성과 노이즈나 이상치에 민감하다는 단점이 있다."
      ],
      "metadata": {
        "id": "hXnpH6mV8OH3"
      },
      "id": "hXnpH6mV8OH3"
    },
    {
      "cell_type": "markdown",
      "id": "3129e213",
      "metadata": {
        "id": "3129e213"
      },
      "source": [
        "1.15 다른 Over Sampling 기법들엔 어떤 것들이 있는지 작성하세요(2개 이상)."
      ]
    },
    {
      "cell_type": "markdown",
      "source": [
        "\n",
        "**1. ADASYN**\n",
        "\n",
        "ADASYN 방법은 Borderline SMOTE 방법과 비슷하지만 샘플링 개수를 데이터 위치에 따라 다르게 설정하는 것이 차이점이다.\n",
        "\n",
        "\n",
        "**2. GAN**\n",
        "\n",
        "GAN (Generative Adversarial Nets) 는 생성자와 구분자로 구성되어 있고 모델은 딥러닝을 사용하는 최신 오버 샘플링 기법이다."
      ],
      "metadata": {
        "id": "0VX_eRkQ98N2"
      },
      "id": "0VX_eRkQ98N2"
    },
    {
      "cell_type": "markdown",
      "id": "8b7f1aef",
      "metadata": {
        "id": "8b7f1aef"
      },
      "source": [
        "### 2. 예측 및 분석"
      ]
    },
    {
      "cell_type": "markdown",
      "id": "49fb276a",
      "metadata": {
        "id": "49fb276a"
      },
      "source": [
        "2.1 본격적으로 분석을 진행하겠습니다. 본 차시는 Hyperparameter Tuning에 대해 학습하는 것이 목적이므로 모델은 RandomForest Classifier 하나만 사용하도록 하겠습니다. 먼저 데이터를 train, validation, test 3개로 나누세요(trian-60%, val-20%, test-20%)."
      ]
    },
    {
      "cell_type": "code",
      "execution_count": 28,
      "id": "c2a7f4d6",
      "metadata": {
        "id": "c2a7f4d6",
        "colab": {
          "base_uri": "https://localhost:8080/"
        },
        "outputId": "a8374b5a-9853-4aee-9ae3-92d9ea0c0723"
      },
      "outputs": [
        {
          "output_type": "stream",
          "name": "stdout",
          "text": [
            "Train set size:  16113\n",
            "Validation set size:  4029\n",
            "Test set size:  5036\n"
          ]
        }
      ],
      "source": [
        "X_train, X_test, y_train, y_test = train_test_split(X, y, test_size=0.2, random_state=123)\n",
        "X_train, X_val, y_train, y_val = train_test_split(X_train, y_train, test_size=0.2, random_state=123, stratify=y_train)\n",
        "\n",
        "print('Train set size: ', len(X_train))\n",
        "print('Validation set size: ', len(X_val))\n",
        "print('Test set size: ', len(X_test))"
      ]
    },
    {
      "cell_type": "markdown",
      "id": "cdccaac8",
      "metadata": {
        "id": "cdccaac8"
      },
      "source": [
        "2.2 train test에 validation set을 추가하는 이유가 뭔지 작성하세요."
      ]
    },
    {
      "cell_type": "markdown",
      "source": [
        "**train set을 validation set으로 분리함으로써, 과적합을 방지하고 학습의 성능 평가하기 위함이다.**"
      ],
      "metadata": {
        "id": "UShobfGfC5dX"
      },
      "id": "UShobfGfC5dX"
    },
    {
      "cell_type": "markdown",
      "id": "534c32ee",
      "metadata": {
        "id": "534c32ee"
      },
      "source": [
        "2.3 Randomized SearchCV로 최적의 파라미터 셋을 찾으세요(성능 지표는 accuracy score)."
      ]
    },
    {
      "cell_type": "code",
      "execution_count": 29,
      "id": "d1264a9a",
      "metadata": {
        "id": "d1264a9a",
        "colab": {
          "base_uri": "https://localhost:8080/"
        },
        "outputId": "420e6770-e65a-440b-e263-70fbe1a4357f"
      },
      "outputs": [
        {
          "output_type": "stream",
          "name": "stdout",
          "text": [
            "최적의 파라미터:  {'n_estimators': 200, 'min_samples_split': 5, 'min_samples_leaf': 1, 'max_depth': None, 'criterion': 'entropy', 'bootstrap': True} accuracy score:  0.9532059782140816\n"
          ]
        }
      ],
      "source": [
        "param_grid = {\n",
        "    'n_estimators': [10, 50, 100, 200],\n",
        "    'max_depth': [None, 10, 20, 30],\n",
        "    'min_samples_split': [2, 5, 10],\n",
        "    'min_samples_leaf': [1, 2, 4],\n",
        "    'bootstrap': [True, False],\n",
        "    'criterion': ['gini', 'entropy']\n",
        "}\n",
        "\n",
        "\n",
        "\n",
        "randomforest = RandomForestClassifier()\n",
        "randomsearch = RandomizedSearchCV(estimator = randomforest, param_distributions = param_grid, scoring = 'accuracy', random_state = 123)\n",
        "randomsearch.fit(X_train, y_train)\n",
        "\n",
        "print('최적의 파라미터: ', randomsearch.best_params_, 'accuracy score: ',randomsearch.best_score_)"
      ]
    },
    {
      "cell_type": "markdown",
      "id": "904383dd",
      "metadata": {
        "id": "904383dd"
      },
      "source": [
        "2.4 위에서 지정한 hyperparameter들이 각각 무엇을 의미하는지 작성하세요."
      ]
    },
    {
      "cell_type": "markdown",
      "source": [
        "* n_estimators: 랜덤 포레스트에서 사용할 결정 트리 개수 지정\n",
        "\n",
        "* min_samples_split: 노드 분할을 위한 최소 데이터 수 지정\n",
        "\n",
        "* min_samples_leaf: 말단 노드가 되기 위한 최소 데이터 개수 지정\n",
        "\n",
        "* max_depth: 트리의 최대 깊이 지정\n",
        "\n",
        "* criterion: 노드 분할 기준 지정. 'gini'는 지니 불순도를 사용, 'entropy'는 정보 이득을 사용\n",
        "\n",
        "* booststrap: 부트스트랩 샘플링은 데이터에서 중복을 허용하고 무작위로 샘플을 추출하는 방법으로, 이 데이터 샘플링을 사용하여 트리를 학습할지를 결정"
      ],
      "metadata": {
        "id": "wsLFAjXYGKuf"
      },
      "id": "wsLFAjXYGKuf"
    },
    {
      "cell_type": "markdown",
      "id": "9af9bb2a",
      "metadata": {
        "id": "9af9bb2a"
      },
      "source": [
        "2.5 Grid SearchCV로 최적의 파라미터 셋을 찾으세요."
      ]
    },
    {
      "cell_type": "code",
      "execution_count": 30,
      "id": "2c33642b",
      "metadata": {
        "id": "2c33642b"
      },
      "outputs": [],
      "source": [
        "param_grid = {\n",
        "    'n_estimators': [10, 50, 100, 200],\n",
        "    'max_depth': [None, 10, 20, 30],\n",
        "    'min_samples_split': [2, 5, 10],\n",
        "    'min_samples_leaf': [1, 2, 4],\n",
        "    'bootstrap': [True, False],\n",
        "    'criterion': ['gini', 'entropy']\n",
        "}"
      ]
    },
    {
      "cell_type": "code",
      "execution_count": 31,
      "id": "be570aff",
      "metadata": {
        "id": "be570aff",
        "colab": {
          "base_uri": "https://localhost:8080/"
        },
        "outputId": "bc6d1c16-74d6-4c8c-8bc8-2d49d7bbcd57"
      },
      "outputs": [
        {
          "output_type": "stream",
          "name": "stdout",
          "text": [
            "최적의 파라미터:  {'bootstrap': False, 'criterion': 'entropy', 'max_depth': None, 'min_samples_leaf': 1, 'min_samples_split': 2, 'n_estimators': 100} accuracy score:  0.9596602284210727\n"
          ]
        }
      ],
      "source": [
        "randomforest = RandomForestClassifier()\n",
        "gridsearch = GridSearchCV(estimator = randomforest, param_grid = param_grid, scoring = 'accuracy', cv = 5)\n",
        "gridsearch.fit(X_train, y_train)\n",
        "\n",
        "print('최적의 파라미터: ', gridsearch.best_params_, 'accuracy score: ',gridsearch.best_score_)"
      ]
    },
    {
      "cell_type": "markdown",
      "id": "af736507",
      "metadata": {
        "id": "af736507"
      },
      "source": [
        "2.6 Randomized SearchCV와 Grid SearchCV의 차이와 장단점에 대해 설명하세요."
      ]
    },
    {
      "cell_type": "markdown",
      "id": "71357aac",
      "metadata": {
        "id": "71357aac"
      },
      "source": [
        "<figure>\n",
        "    <img src=\"https://miro.medium.com/v2/resize:fit:781/1*8uSZqUSGa-UGF-0CDBd4Jw.png\">\n",
        "</figure>"
      ]
    },
    {
      "cell_type": "markdown",
      "source": [
        "*  **Grid SearchCV:**\n",
        "\n",
        " Grid SearchCV는 주어진 하이퍼파라미터 그리드에서 모든 조합을 시도해 최적의 조합을 찾는다. 완전한 탐색으로 최적의 조합을 찾을 수 있으나 비용과 시간이 많이 소모된다.\n",
        "\n",
        "* **Randomized SearchCV:**\n",
        "\n",
        " Randomized SearchCV는 주어진 하이퍼파라미터 분포에서 무작위로 조합을 선택하여 탐색한다. 계산이 적고 비교적 효율적으로 탐색이 가능하나 주어진 공간내에서만 무작위로 탐색하기 때문에 최적의조합을 찾을 확률이 위보다 낮다."
      ],
      "metadata": {
        "id": "WPZwB9uFKCtK"
      },
      "id": "WPZwB9uFKCtK"
    },
    {
      "cell_type": "markdown",
      "id": "e7f88421",
      "metadata": {
        "id": "e7f88421"
      },
      "source": [
        "2.7 이번엔 Bayesian Optimization을 사용해 파라미터 튜닝을 진행해보겠습니다."
      ]
    },
    {
      "cell_type": "code",
      "execution_count": 32,
      "id": "d3a8dff0",
      "metadata": {
        "id": "d3a8dff0"
      },
      "outputs": [],
      "source": [
        "param_grid = {\n",
        "    'n_estimators': [10, 50, 100, 200],\n",
        "    'max_depth': [None, 10, 20, 30],\n",
        "    'min_samples_split': [2, 5, 10],\n",
        "    'min_samples_leaf': [1, 2, 4],\n",
        "    'bootstrap': [True, False],\n",
        "    'criterion': ['gini', 'entropy']\n",
        "}"
      ]
    },
    {
      "cell_type": "code",
      "source": [
        "pip install scikit-optimize"
      ],
      "metadata": {
        "colab": {
          "base_uri": "https://localhost:8080/"
        },
        "id": "wWcsdT7nOlG7",
        "outputId": "300965c0-7d73-4916-e608-9d6fa50bee87"
      },
      "id": "wWcsdT7nOlG7",
      "execution_count": 36,
      "outputs": [
        {
          "output_type": "stream",
          "name": "stdout",
          "text": [
            "Collecting scikit-optimize\n",
            "  Downloading scikit_optimize-0.10.1-py2.py3-none-any.whl (107 kB)\n",
            "\u001b[?25l     \u001b[90m━━━━━━━━━━━━━━━━━━━━━━━━━━━━━━━━━━━━━━━━\u001b[0m \u001b[32m0.0/107.7 kB\u001b[0m \u001b[31m?\u001b[0m eta \u001b[36m-:--:--\u001b[0m\r\u001b[2K     \u001b[91m━━━━━━━━━━━━━━━\u001b[0m\u001b[90m╺\u001b[0m\u001b[90m━━━━━━━━━━━━━━━━━━━━━━━━\u001b[0m \u001b[32m41.0/107.7 kB\u001b[0m \u001b[31m923.3 kB/s\u001b[0m eta \u001b[36m0:00:01\u001b[0m\r\u001b[2K     \u001b[91m━━━━━━━━━━━━━━━━━━━━━━━━━━━━━━━━━━\u001b[0m\u001b[90m╺\u001b[0m\u001b[90m━━━━━\u001b[0m \u001b[32m92.2/107.7 kB\u001b[0m \u001b[31m1.3 MB/s\u001b[0m eta \u001b[36m0:00:01\u001b[0m\r\u001b[2K     \u001b[90m━━━━━━━━━━━━━━━━━━━━━━━━━━━━━━━━━━━━━━━━\u001b[0m \u001b[32m107.7/107.7 kB\u001b[0m \u001b[31m1.2 MB/s\u001b[0m eta \u001b[36m0:00:00\u001b[0m\n",
            "\u001b[?25hRequirement already satisfied: joblib>=0.11 in /usr/local/lib/python3.10/dist-packages (from scikit-optimize) (1.3.2)\n",
            "Collecting pyaml>=16.9 (from scikit-optimize)\n",
            "  Downloading pyaml-23.12.0-py3-none-any.whl (23 kB)\n",
            "Requirement already satisfied: numpy>=1.20.3 in /usr/local/lib/python3.10/dist-packages (from scikit-optimize) (1.25.2)\n",
            "Requirement already satisfied: scipy>=1.1.0 in /usr/local/lib/python3.10/dist-packages (from scikit-optimize) (1.11.4)\n",
            "Requirement already satisfied: scikit-learn>=1.0.0 in /usr/local/lib/python3.10/dist-packages (from scikit-optimize) (1.2.2)\n",
            "Requirement already satisfied: packaging>=21.3 in /usr/local/lib/python3.10/dist-packages (from scikit-optimize) (24.0)\n",
            "Requirement already satisfied: PyYAML in /usr/local/lib/python3.10/dist-packages (from pyaml>=16.9->scikit-optimize) (6.0.1)\n",
            "Requirement already satisfied: threadpoolctl>=2.0.0 in /usr/local/lib/python3.10/dist-packages (from scikit-learn>=1.0.0->scikit-optimize) (3.4.0)\n",
            "Installing collected packages: pyaml, scikit-optimize\n",
            "Successfully installed pyaml-23.12.0 scikit-optimize-0.10.1\n"
          ]
        }
      ]
    },
    {
      "cell_type": "code",
      "execution_count": 45,
      "id": "aeebd443",
      "metadata": {
        "id": "aeebd443",
        "colab": {
          "base_uri": "https://localhost:8080/"
        },
        "outputId": "fcf4c962-6a8c-45e3-c71a-12ecfa295aef"
      },
      "outputs": [
        {
          "output_type": "stream",
          "name": "stdout",
          "text": [
            "최적의 파라미터:  OrderedDict([('bootstrap', False), ('criterion', 'gini'), ('max_depth', 30), ('min_samples_leaf', 1), ('min_samples_split', 2), ('n_estimators', 200)]) accuracy score:  0.9599705176153781\n"
          ]
        }
      ],
      "source": [
        "from skopt import BayesSearchCV\n",
        "\n",
        "randomforest = RandomForestClassifier()\n",
        "bayessearch = BayesSearchCV(estimator=randomforest, search_spaces=param_grid, scoring='accuracy')\n",
        "bayessearch.fit(X_train, y_train)\n",
        "\n",
        "print('최적의 파라미터: ', bayessearch.best_params_, 'accuracy score: ',bayessearch.best_score_)"
      ]
    },
    {
      "cell_type": "markdown",
      "id": "84c3e856",
      "metadata": {
        "id": "84c3e856"
      },
      "source": [
        "2.8 진행한 튜닝 과정에서 찾은 최적의 파라미터 셋으로 다시 학습을 진행한 후 최종 accuracy score을 출력하세요."
      ]
    },
    {
      "cell_type": "code",
      "execution_count": 50,
      "id": "a07f05a5",
      "metadata": {
        "id": "a07f05a5",
        "colab": {
          "base_uri": "https://localhost:8080/"
        },
        "outputId": "8a68a9ca-3274-4504-f4d2-018658b3180c"
      },
      "outputs": [
        {
          "output_type": "stream",
          "name": "stdout",
          "text": [
            "accuracy score: 0.9589654314847053\n"
          ]
        }
      ],
      "source": [
        "best_params = bayessearch.best_params_\n",
        "best_rf_model = RandomForestClassifier(**best_params)\n",
        "best_rf_model.fit(X_train, y_train)\n",
        "\n",
        "y_val_pred = best_rf_model.predict(X_val)\n",
        "print(\"accuracy score:\", accuracy_score(y_val, y_val_pred))"
      ]
    },
    {
      "cell_type": "markdown",
      "id": "e9b15317",
      "metadata": {
        "id": "e9b15317"
      },
      "source": [
        "### 3. 자유분석"
      ]
    },
    {
      "cell_type": "markdown",
      "id": "b7fcbd3a",
      "metadata": {
        "id": "b7fcbd3a"
      },
      "source": [
        "최적의 파라미터 셋을 찾고 성능을 높여보세요."
      ]
    },
    {
      "cell_type": "markdown",
      "source": [
        "**'ADASYN'이라는 OverSampling 기법을 사용해서 위와 동일하게 Randomized SearchCV와 Grid SearchCV를 통해 최적의 하이퍼파라미터를 찾고 최종 정확도를 출력해보자.**"
      ],
      "metadata": {
        "id": "qs2I5EJbRBp_"
      },
      "id": "qs2I5EJbRBp_"
    },
    {
      "cell_type": "code",
      "execution_count": 47,
      "id": "7b26a00f",
      "metadata": {
        "id": "7b26a00f",
        "colab": {
          "base_uri": "https://localhost:8080/"
        },
        "outputId": "06c76d50-2168-40f0-aa14-f80d6de2e8cf"
      },
      "outputs": [
        {
          "output_type": "stream",
          "name": "stdout",
          "text": [
            "최적의 파라미터:  {'n_estimators': 200, 'min_samples_split': 5, 'min_samples_leaf': 1, 'max_depth': None, 'criterion': 'entropy', 'bootstrap': True} accuracy score:  0.9503200696857645\n",
            "accuracy score:  0.95026112907237\n"
          ]
        }
      ],
      "source": [
        "from imblearn.over_sampling import ADASYN\n",
        "\n",
        "adasyn = ADASYN(random_state=123)\n",
        "X, y = adasyn.fit_resample(data.drop(columns=['w']) , data['w'])\n",
        "X_train, X_test, y_train, y_test = train_test_split(X, y, test_size=0.2, random_state=123)\n",
        "X_train, X_val, y_train, y_val = train_test_split(X_train, y_train, test_size=0.2, random_state=123, stratify=y_train)\n",
        "\n",
        "\n",
        "param_grid = {\n",
        "    'n_estimators': [10, 50, 100, 200],\n",
        "    'max_depth': [None, 10, 20, 30],\n",
        "    'min_samples_split': [2, 5, 10],\n",
        "    'min_samples_leaf': [1, 2, 4],\n",
        "    'bootstrap': [True, False],\n",
        "    'criterion': ['gini', 'entropy']\n",
        "}\n",
        "\n",
        "randomforest = RandomForestClassifier()\n",
        "randomsearch = RandomizedSearchCV(estimator = randomforest, param_distributions = param_grid, scoring = 'accuracy', random_state = 123)\n",
        "randomsearch.fit(X_train, y_train)\n",
        "print('최적의 파라미터: ', randomsearch.best_params_, 'accuracy score: ',randomsearch.best_score_)\n",
        "\n",
        "randomforest = RandomForestClassifier(randomsearch.best_params_)\n",
        "randomsearch.fit(X_train, y_train)\n",
        "\n",
        "y_val_grid = randomsearch.predict(X_val)\n",
        "accuracy = accuracy_score(y_val, y_val_grid)\n",
        "print('accuracy score: ', accuracy)"
      ]
    },
    {
      "cell_type": "code",
      "source": [
        "param_grid = {\n",
        "    'n_estimators': [10, 50, 100, 200],\n",
        "    'max_depth': [None, 10, 20, 30],\n",
        "    'min_samples_split': [2, 5, 10],\n",
        "    'min_samples_leaf': [1, 2, 4],\n",
        "    'bootstrap': [True, False],\n",
        "    'criterion': ['gini', 'entropy']\n",
        "}\n",
        "\n",
        "randomforest = RandomForestClassifier()\n",
        "gridsearch = GridSearchCV(estimator = randomforest, param_grid = param_grid, scoring = 'accuracy', cv = 5)\n",
        "gridsearch.fit(X_train, y_train)\n",
        "print('최적의 파라미터: ', gridsearch.best_params_, 'accuracy score: ',gridsearch.best_score_)\n",
        "\n",
        "\n",
        "randomforest = RandomForestClassifier(**gridsearch.best_params_)\n",
        "gridsearch.fit(X_train, y_train)\n",
        "\n",
        "y_val_grid = randomsearch.predict(X_val)\n",
        "accuracy = accuracy_score(y_val, y_val_grid)\n",
        "print('accuracy score: ', accuracy)"
      ],
      "metadata": {
        "id": "qbhTKGTqRAuT",
        "colab": {
          "base_uri": "https://localhost:8080/"
        },
        "outputId": "01d742c2-8c63-4371-d937-9e75f5607628"
      },
      "id": "qbhTKGTqRAuT",
      "execution_count": 48,
      "outputs": [
        {
          "output_type": "stream",
          "name": "stdout",
          "text": [
            "최적의 파라미터:  {'bootstrap': False, 'criterion': 'entropy', 'max_depth': 30, 'min_samples_leaf': 1, 'min_samples_split': 2, 'n_estimators': 200} accuracy score:  0.9572218562147299\n",
            "accuracy score:  0.95026112907237\n"
          ]
        }
      ]
    }
  ],
  "metadata": {
    "kernelspec": {
      "display_name": "Python 3 (ipykernel)",
      "language": "python",
      "name": "python3"
    },
    "language_info": {
      "codemirror_mode": {
        "name": "ipython",
        "version": 3
      },
      "file_extension": ".py",
      "mimetype": "text/x-python",
      "name": "python",
      "nbconvert_exporter": "python",
      "pygments_lexer": "ipython3",
      "version": "3.10.9"
    },
    "colab": {
      "provenance": []
    }
  },
  "nbformat": 4,
  "nbformat_minor": 5
}