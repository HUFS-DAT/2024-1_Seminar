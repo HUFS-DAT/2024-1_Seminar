{
 "cells": [
  {
   "cell_type": "markdown",
   "id": "3624d070",
   "metadata": {},
   "source": [
    "## 4차 과제 - Hyperparameter Tuning을 해보자\n",
    "- 주제: 하이퍼파라미터 튜닝 기법 학습\n",
    "- 데이터: The History of Baseball(Pitching Data) https://www.kaggle.com/datasets/seanlahman/the-history-of-baseball?select=pitching.csv\n",
    "- 사용 라이브러리: pandas, numpy, matplotlib, sklearn, imblearn, bayes_opt"
   ]
  },
  {
   "cell_type": "markdown",
   "id": "bd5e2107",
   "metadata": {},
   "source": [
    "### 1. EDA, 전처리"
   ]
  },
  {
   "cell_type": "markdown",
   "id": "1671de09",
   "metadata": {},
   "source": [
    "1.1 분석을 위해 사용될 라이브러리들을 import 하세요.\n",
    "\n",
    "numpy, pandas, matplotlib, SMOTE, train_test_split, RandomForestClassifier, RandomizedSearchCV, GridSearchCV, BayesianOptimization, accuracy_score"
   ]
  },
  {
   "cell_type": "code",
   "execution_count": 1,
   "id": "92b33237",
   "metadata": {},
   "outputs": [],
   "source": [
    "import pandas as pd\n",
    "import numpy as np"
   ]
  },
  {
   "cell_type": "markdown",
   "id": "49bc4c60",
   "metadata": {},
   "source": [
    "1.2 데이터를 불러오고 info()를 통해 데이터를 살펴보세요."
   ]
  },
  {
   "cell_type": "code",
   "execution_count": 2,
   "id": "b2b8143b",
   "metadata": {
    "scrolled": false
   },
   "outputs": [
    {
     "name": "stdout",
     "output_type": "stream",
     "text": [
      "<class 'pandas.core.frame.DataFrame'>\n",
      "RangeIndex: 44139 entries, 0 to 44138\n",
      "Data columns (total 30 columns):\n",
      " #   Column     Non-Null Count  Dtype  \n",
      "---  ------     --------------  -----  \n",
      " 0   player_id  44139 non-null  object \n",
      " 1   year       44139 non-null  int64  \n",
      " 2   stint      44139 non-null  int64  \n",
      " 3   team_id    44139 non-null  object \n",
      " 4   league_id  44008 non-null  object \n",
      " 5   w          44139 non-null  int64  \n",
      " 6   l          44139 non-null  int64  \n",
      " 7   g          44139 non-null  int64  \n",
      " 8   gs         44139 non-null  int64  \n",
      " 9   cg         44139 non-null  int64  \n",
      " 10  sho        44139 non-null  int64  \n",
      " 11  sv         44139 non-null  int64  \n",
      " 12  ipouts     44138 non-null  float64\n",
      " 13  h          44139 non-null  int64  \n",
      " 14  er         44139 non-null  int64  \n",
      " 15  hr         44139 non-null  int64  \n",
      " 16  bb         44139 non-null  int64  \n",
      " 17  so         44139 non-null  int64  \n",
      " 18  baopp      42614 non-null  float64\n",
      " 19  era        44049 non-null  float64\n",
      " 20  ibb        29564 non-null  float64\n",
      " 21  wp         44006 non-null  float64\n",
      " 22  hbp        43580 non-null  float64\n",
      " 23  bk         44139 non-null  int64  \n",
      " 24  bfp        43900 non-null  float64\n",
      " 25  gf         44006 non-null  float64\n",
      " 26  r          44139 non-null  int64  \n",
      " 27  sh         11239 non-null  float64\n",
      " 28  sf         11239 non-null  float64\n",
      " 29  g_idp      745 non-null    float64\n",
      "dtypes: float64(11), int64(16), object(3)\n",
      "memory usage: 10.1+ MB\n"
     ]
    }
   ],
   "source": [
    "pitching = pd.read_csv(\"pitching.csv\")\n",
    "pitching.info()"
   ]
  },
  {
   "cell_type": "markdown",
   "id": "4be43ab2",
   "metadata": {},
   "source": [
    "1.3 null 값이 있는 컬럼은 모두 삭제하겠습니다(원래는 다른 처리를 해야 하지만 컬럼 수는 충분하니까..ㅎㅎ 야구 잘 몰라서 그런 거 아닙니다.)."
   ]
  },
  {
   "cell_type": "code",
   "execution_count": 3,
   "id": "fb0d15f0",
   "metadata": {},
   "outputs": [
    {
     "data": {
      "text/plain": [
       "player_id        0\n",
       "year             0\n",
       "stint            0\n",
       "team_id          0\n",
       "league_id      131\n",
       "w                0\n",
       "l                0\n",
       "g                0\n",
       "gs               0\n",
       "cg               0\n",
       "sho              0\n",
       "sv               0\n",
       "ipouts           1\n",
       "h                0\n",
       "er               0\n",
       "hr               0\n",
       "bb               0\n",
       "so               0\n",
       "baopp         1525\n",
       "era             90\n",
       "ibb          14575\n",
       "wp             133\n",
       "hbp            559\n",
       "bk               0\n",
       "bfp            239\n",
       "gf             133\n",
       "r                0\n",
       "sh           32900\n",
       "sf           32900\n",
       "g_idp        43394\n",
       "dtype: int64"
      ]
     },
     "execution_count": 3,
     "metadata": {},
     "output_type": "execute_result"
    }
   ],
   "source": [
    "pitching.isna().sum()"
   ]
  },
  {
   "cell_type": "code",
   "execution_count": 4,
   "id": "793bae0c",
   "metadata": {
    "scrolled": false
   },
   "outputs": [
    {
     "data": {
      "text/html": [
       "<div>\n",
       "<style scoped>\n",
       "    .dataframe tbody tr th:only-of-type {\n",
       "        vertical-align: middle;\n",
       "    }\n",
       "\n",
       "    .dataframe tbody tr th {\n",
       "        vertical-align: top;\n",
       "    }\n",
       "\n",
       "    .dataframe thead th {\n",
       "        text-align: right;\n",
       "    }\n",
       "</style>\n",
       "<table border=\"1\" class=\"dataframe\">\n",
       "  <thead>\n",
       "    <tr style=\"text-align: right;\">\n",
       "      <th></th>\n",
       "      <th>player_id</th>\n",
       "      <th>year</th>\n",
       "      <th>stint</th>\n",
       "      <th>team_id</th>\n",
       "      <th>w</th>\n",
       "      <th>l</th>\n",
       "      <th>g</th>\n",
       "      <th>gs</th>\n",
       "      <th>cg</th>\n",
       "      <th>sho</th>\n",
       "      <th>sv</th>\n",
       "      <th>h</th>\n",
       "      <th>er</th>\n",
       "      <th>hr</th>\n",
       "      <th>bb</th>\n",
       "      <th>so</th>\n",
       "      <th>bk</th>\n",
       "      <th>r</th>\n",
       "    </tr>\n",
       "  </thead>\n",
       "  <tbody>\n",
       "    <tr>\n",
       "      <th>0</th>\n",
       "      <td>bechtge01</td>\n",
       "      <td>1871</td>\n",
       "      <td>1</td>\n",
       "      <td>PH1</td>\n",
       "      <td>1</td>\n",
       "      <td>2</td>\n",
       "      <td>3</td>\n",
       "      <td>3</td>\n",
       "      <td>2</td>\n",
       "      <td>0</td>\n",
       "      <td>0</td>\n",
       "      <td>43</td>\n",
       "      <td>23</td>\n",
       "      <td>0</td>\n",
       "      <td>11</td>\n",
       "      <td>1</td>\n",
       "      <td>0</td>\n",
       "      <td>42</td>\n",
       "    </tr>\n",
       "    <tr>\n",
       "      <th>1</th>\n",
       "      <td>brainas01</td>\n",
       "      <td>1871</td>\n",
       "      <td>1</td>\n",
       "      <td>WS3</td>\n",
       "      <td>12</td>\n",
       "      <td>15</td>\n",
       "      <td>30</td>\n",
       "      <td>30</td>\n",
       "      <td>30</td>\n",
       "      <td>0</td>\n",
       "      <td>0</td>\n",
       "      <td>361</td>\n",
       "      <td>132</td>\n",
       "      <td>4</td>\n",
       "      <td>37</td>\n",
       "      <td>13</td>\n",
       "      <td>0</td>\n",
       "      <td>292</td>\n",
       "    </tr>\n",
       "    <tr>\n",
       "      <th>2</th>\n",
       "      <td>fergubo01</td>\n",
       "      <td>1871</td>\n",
       "      <td>1</td>\n",
       "      <td>NY2</td>\n",
       "      <td>0</td>\n",
       "      <td>0</td>\n",
       "      <td>1</td>\n",
       "      <td>0</td>\n",
       "      <td>0</td>\n",
       "      <td>0</td>\n",
       "      <td>0</td>\n",
       "      <td>8</td>\n",
       "      <td>3</td>\n",
       "      <td>0</td>\n",
       "      <td>0</td>\n",
       "      <td>0</td>\n",
       "      <td>0</td>\n",
       "      <td>9</td>\n",
       "    </tr>\n",
       "    <tr>\n",
       "      <th>3</th>\n",
       "      <td>fishech01</td>\n",
       "      <td>1871</td>\n",
       "      <td>1</td>\n",
       "      <td>RC1</td>\n",
       "      <td>4</td>\n",
       "      <td>16</td>\n",
       "      <td>24</td>\n",
       "      <td>24</td>\n",
       "      <td>22</td>\n",
       "      <td>1</td>\n",
       "      <td>0</td>\n",
       "      <td>295</td>\n",
       "      <td>103</td>\n",
       "      <td>3</td>\n",
       "      <td>31</td>\n",
       "      <td>15</td>\n",
       "      <td>0</td>\n",
       "      <td>257</td>\n",
       "    </tr>\n",
       "    <tr>\n",
       "      <th>4</th>\n",
       "      <td>fleetfr01</td>\n",
       "      <td>1871</td>\n",
       "      <td>1</td>\n",
       "      <td>NY2</td>\n",
       "      <td>0</td>\n",
       "      <td>1</td>\n",
       "      <td>1</td>\n",
       "      <td>1</td>\n",
       "      <td>1</td>\n",
       "      <td>0</td>\n",
       "      <td>0</td>\n",
       "      <td>20</td>\n",
       "      <td>10</td>\n",
       "      <td>0</td>\n",
       "      <td>3</td>\n",
       "      <td>0</td>\n",
       "      <td>0</td>\n",
       "      <td>21</td>\n",
       "    </tr>\n",
       "  </tbody>\n",
       "</table>\n",
       "</div>"
      ],
      "text/plain": [
       "   player_id  year  stint team_id   w   l   g  gs  cg  sho  sv    h   er  hr  \\\n",
       "0  bechtge01  1871      1     PH1   1   2   3   3   2    0   0   43   23   0   \n",
       "1  brainas01  1871      1     WS3  12  15  30  30  30    0   0  361  132   4   \n",
       "2  fergubo01  1871      1     NY2   0   0   1   0   0    0   0    8    3   0   \n",
       "3  fishech01  1871      1     RC1   4  16  24  24  22    1   0  295  103   3   \n",
       "4  fleetfr01  1871      1     NY2   0   1   1   1   1    0   0   20   10   0   \n",
       "\n",
       "   bb  so  bk    r  \n",
       "0  11   1   0   42  \n",
       "1  37  13   0  292  \n",
       "2   0   0   0    9  \n",
       "3  31  15   0  257  \n",
       "4   3   0   0   21  "
      ]
     },
     "execution_count": 4,
     "metadata": {},
     "output_type": "execute_result"
    }
   ],
   "source": [
    "pitching = pitching.dropna(axis=1)\n",
    "pitching.head()"
   ]
  },
  {
   "cell_type": "markdown",
   "id": "b6ec78ec",
   "metadata": {},
   "source": [
    "1.4 연도 별로 몇개의 데이터가 있는 지 확인 후 데이터가 얼마 없는 과거 데이터는 삭제하겠습니다. 이를 위해 연도 별 데이터 수를 계산하고 line plot으로 그리세요."
   ]
  },
  {
   "cell_type": "code",
   "execution_count": 5,
   "id": "6963430c",
   "metadata": {},
   "outputs": [
    {
     "data": {
      "text/plain": [
       "year\n",
       "1871     19\n",
       "1872     23\n",
       "1873     25\n",
       "1874     17\n",
       "1875     47\n",
       "       ... \n",
       "2011    707\n",
       "2012    722\n",
       "2013    726\n",
       "2014    746\n",
       "2015    809\n",
       "Length: 145, dtype: int64"
      ]
     },
     "execution_count": 5,
     "metadata": {},
     "output_type": "execute_result"
    }
   ],
   "source": [
    "year = pitching.groupby(pitching['year']).size()\n",
    "year"
   ]
  },
  {
   "cell_type": "code",
   "execution_count": 6,
   "id": "76e48703",
   "metadata": {},
   "outputs": [],
   "source": [
    "import matplotlib.pyplot as plt"
   ]
  },
  {
   "cell_type": "code",
   "execution_count": 7,
   "id": "7d2dcafa",
   "metadata": {
    "scrolled": false
   },
   "outputs": [
    {
     "data": {
      "image/png": "[encoded data removed]",
      "text/plain": [
       "<Figure size 1000x600 with 1 Axes>"
      ]
     },
     "metadata": {},
     "output_type": "display_data"
    }
   ],
   "source": [
    "plt.figure(figsize=(10, 6))\n",
    "plt.title('Number of Records by Year')\n",
    "plt.xlabel('Year')\n",
    "plt.ylabel('Number of Records')\n",
    "plt.plot(year.index, year.values, marker='o', color='orange')\n",
    "plt.grid(True)\n",
    "plt.show()"
   ]
  },
  {
   "cell_type": "markdown",
   "id": "9757fcdb",
   "metadata": {},
   "source": [
    "1.5 보다 최신 분석을 위해 1980년 이후의 데이터만 남기고 몇개의 데이터가 남았는지 확인하세요."
   ]
  },
  {
   "cell_type": "code",
   "execution_count": 8,
   "id": "f62a7baa",
   "metadata": {},
   "outputs": [
    {
     "data": {
      "text/plain": [
       "21157"
      ]
     },
     "execution_count": 8,
     "metadata": {},
     "output_type": "execute_result"
    }
   ],
   "source": [
    "pitching = pitching[pitching['year'] >= 1980]\n",
    "len(pitching)"
   ]
  },
  {
   "cell_type": "code",
   "execution_count": 9,
   "id": "620ee8bd",
   "metadata": {},
   "outputs": [
    {
     "data": {
      "text/html": [
       "<div>\n",
       "<style scoped>\n",
       "    .dataframe tbody tr th:only-of-type {\n",
       "        vertical-align: middle;\n",
       "    }\n",
       "\n",
       "    .dataframe tbody tr th {\n",
       "        vertical-align: top;\n",
       "    }\n",
       "\n",
       "    .dataframe thead th {\n",
       "        text-align: right;\n",
       "    }\n",
       "</style>\n",
       "<table border=\"1\" class=\"dataframe\">\n",
       "  <thead>\n",
       "    <tr style=\"text-align: right;\">\n",
       "      <th></th>\n",
       "      <th>player_id</th>\n",
       "      <th>year</th>\n",
       "      <th>stint</th>\n",
       "      <th>team_id</th>\n",
       "      <th>w</th>\n",
       "      <th>l</th>\n",
       "      <th>g</th>\n",
       "      <th>gs</th>\n",
       "      <th>cg</th>\n",
       "      <th>sho</th>\n",
       "      <th>sv</th>\n",
       "      <th>h</th>\n",
       "      <th>er</th>\n",
       "      <th>hr</th>\n",
       "      <th>bb</th>\n",
       "      <th>so</th>\n",
       "      <th>bk</th>\n",
       "      <th>r</th>\n",
       "    </tr>\n",
       "  </thead>\n",
       "  <tbody>\n",
       "    <tr>\n",
       "      <th>22982</th>\n",
       "      <td>aasedo01</td>\n",
       "      <td>1980</td>\n",
       "      <td>1</td>\n",
       "      <td>CAL</td>\n",
       "      <td>8</td>\n",
       "      <td>13</td>\n",
       "      <td>40</td>\n",
       "      <td>21</td>\n",
       "      <td>5</td>\n",
       "      <td>1</td>\n",
       "      <td>2</td>\n",
       "      <td>193</td>\n",
       "      <td>79</td>\n",
       "      <td>13</td>\n",
       "      <td>66</td>\n",
       "      <td>74</td>\n",
       "      <td>1</td>\n",
       "      <td>83</td>\n",
       "    </tr>\n",
       "    <tr>\n",
       "      <th>22983</th>\n",
       "      <td>abbotgl01</td>\n",
       "      <td>1980</td>\n",
       "      <td>1</td>\n",
       "      <td>SEA</td>\n",
       "      <td>12</td>\n",
       "      <td>12</td>\n",
       "      <td>31</td>\n",
       "      <td>31</td>\n",
       "      <td>7</td>\n",
       "      <td>2</td>\n",
       "      <td>0</td>\n",
       "      <td>228</td>\n",
       "      <td>98</td>\n",
       "      <td>27</td>\n",
       "      <td>49</td>\n",
       "      <td>78</td>\n",
       "      <td>1</td>\n",
       "      <td>110</td>\n",
       "    </tr>\n",
       "    <tr>\n",
       "      <th>22984</th>\n",
       "      <td>alexado01</td>\n",
       "      <td>1980</td>\n",
       "      <td>1</td>\n",
       "      <td>ATL</td>\n",
       "      <td>14</td>\n",
       "      <td>11</td>\n",
       "      <td>35</td>\n",
       "      <td>35</td>\n",
       "      <td>7</td>\n",
       "      <td>1</td>\n",
       "      <td>0</td>\n",
       "      <td>227</td>\n",
       "      <td>108</td>\n",
       "      <td>20</td>\n",
       "      <td>74</td>\n",
       "      <td>114</td>\n",
       "      <td>0</td>\n",
       "      <td>120</td>\n",
       "    </tr>\n",
       "    <tr>\n",
       "      <th>22985</th>\n",
       "      <td>allarbr01</td>\n",
       "      <td>1980</td>\n",
       "      <td>1</td>\n",
       "      <td>TEX</td>\n",
       "      <td>0</td>\n",
       "      <td>1</td>\n",
       "      <td>5</td>\n",
       "      <td>2</td>\n",
       "      <td>0</td>\n",
       "      <td>0</td>\n",
       "      <td>0</td>\n",
       "      <td>13</td>\n",
       "      <td>9</td>\n",
       "      <td>0</td>\n",
       "      <td>10</td>\n",
       "      <td>10</td>\n",
       "      <td>0</td>\n",
       "      <td>13</td>\n",
       "    </tr>\n",
       "    <tr>\n",
       "      <th>22986</th>\n",
       "      <td>allenne01</td>\n",
       "      <td>1980</td>\n",
       "      <td>1</td>\n",
       "      <td>NYN</td>\n",
       "      <td>7</td>\n",
       "      <td>10</td>\n",
       "      <td>59</td>\n",
       "      <td>0</td>\n",
       "      <td>0</td>\n",
       "      <td>0</td>\n",
       "      <td>22</td>\n",
       "      <td>87</td>\n",
       "      <td>40</td>\n",
       "      <td>7</td>\n",
       "      <td>40</td>\n",
       "      <td>79</td>\n",
       "      <td>1</td>\n",
       "      <td>43</td>\n",
       "    </tr>\n",
       "    <tr>\n",
       "      <th>...</th>\n",
       "      <td>...</td>\n",
       "      <td>...</td>\n",
       "      <td>...</td>\n",
       "      <td>...</td>\n",
       "      <td>...</td>\n",
       "      <td>...</td>\n",
       "      <td>...</td>\n",
       "      <td>...</td>\n",
       "      <td>...</td>\n",
       "      <td>...</td>\n",
       "      <td>...</td>\n",
       "      <td>...</td>\n",
       "      <td>...</td>\n",
       "      <td>...</td>\n",
       "      <td>...</td>\n",
       "      <td>...</td>\n",
       "      <td>...</td>\n",
       "      <td>...</td>\n",
       "    </tr>\n",
       "    <tr>\n",
       "      <th>44134</th>\n",
       "      <td>youngch03</td>\n",
       "      <td>2015</td>\n",
       "      <td>1</td>\n",
       "      <td>KCA</td>\n",
       "      <td>11</td>\n",
       "      <td>6</td>\n",
       "      <td>34</td>\n",
       "      <td>18</td>\n",
       "      <td>0</td>\n",
       "      <td>0</td>\n",
       "      <td>0</td>\n",
       "      <td>91</td>\n",
       "      <td>42</td>\n",
       "      <td>16</td>\n",
       "      <td>43</td>\n",
       "      <td>83</td>\n",
       "      <td>0</td>\n",
       "      <td>44</td>\n",
       "    </tr>\n",
       "    <tr>\n",
       "      <th>44135</th>\n",
       "      <td>zieglbr01</td>\n",
       "      <td>2015</td>\n",
       "      <td>1</td>\n",
       "      <td>ARI</td>\n",
       "      <td>0</td>\n",
       "      <td>3</td>\n",
       "      <td>66</td>\n",
       "      <td>0</td>\n",
       "      <td>0</td>\n",
       "      <td>0</td>\n",
       "      <td>30</td>\n",
       "      <td>48</td>\n",
       "      <td>14</td>\n",
       "      <td>3</td>\n",
       "      <td>17</td>\n",
       "      <td>36</td>\n",
       "      <td>0</td>\n",
       "      <td>17</td>\n",
       "    </tr>\n",
       "    <tr>\n",
       "      <th>44136</th>\n",
       "      <td>zimmejo02</td>\n",
       "      <td>2015</td>\n",
       "      <td>1</td>\n",
       "      <td>WAS</td>\n",
       "      <td>13</td>\n",
       "      <td>10</td>\n",
       "      <td>33</td>\n",
       "      <td>33</td>\n",
       "      <td>0</td>\n",
       "      <td>0</td>\n",
       "      <td>0</td>\n",
       "      <td>204</td>\n",
       "      <td>82</td>\n",
       "      <td>24</td>\n",
       "      <td>39</td>\n",
       "      <td>164</td>\n",
       "      <td>1</td>\n",
       "      <td>89</td>\n",
       "    </tr>\n",
       "    <tr>\n",
       "      <th>44137</th>\n",
       "      <td>zitoba01</td>\n",
       "      <td>2015</td>\n",
       "      <td>1</td>\n",
       "      <td>OAK</td>\n",
       "      <td>0</td>\n",
       "      <td>0</td>\n",
       "      <td>3</td>\n",
       "      <td>2</td>\n",
       "      <td>0</td>\n",
       "      <td>0</td>\n",
       "      <td>0</td>\n",
       "      <td>12</td>\n",
       "      <td>8</td>\n",
       "      <td>4</td>\n",
       "      <td>6</td>\n",
       "      <td>2</td>\n",
       "      <td>0</td>\n",
       "      <td>8</td>\n",
       "    </tr>\n",
       "    <tr>\n",
       "      <th>44138</th>\n",
       "      <td>zychto01</td>\n",
       "      <td>2015</td>\n",
       "      <td>1</td>\n",
       "      <td>SEA</td>\n",
       "      <td>0</td>\n",
       "      <td>0</td>\n",
       "      <td>13</td>\n",
       "      <td>1</td>\n",
       "      <td>0</td>\n",
       "      <td>0</td>\n",
       "      <td>0</td>\n",
       "      <td>17</td>\n",
       "      <td>5</td>\n",
       "      <td>1</td>\n",
       "      <td>3</td>\n",
       "      <td>24</td>\n",
       "      <td>0</td>\n",
       "      <td>6</td>\n",
       "    </tr>\n",
       "  </tbody>\n",
       "</table>\n",
       "<p>21157 rows × 18 columns</p>\n",
       "</div>"
      ],
      "text/plain": [
       "       player_id  year  stint team_id   w   l   g  gs  cg  sho  sv    h   er  \\\n",
       "22982   aasedo01  1980      1     CAL   8  13  40  21   5    1   2  193   79   \n",
       "22983  abbotgl01  1980      1     SEA  12  12  31  31   7    2   0  228   98   \n",
       "22984  alexado01  1980      1     ATL  14  11  35  35   7    1   0  227  108   \n",
       "22985  allarbr01  1980      1     TEX   0   1   5   2   0    0   0   13    9   \n",
       "22986  allenne01  1980      1     NYN   7  10  59   0   0    0  22   87   40   \n",
       "...          ...   ...    ...     ...  ..  ..  ..  ..  ..  ...  ..  ...  ...   \n",
       "44134  youngch03  2015      1     KCA  11   6  34  18   0    0   0   91   42   \n",
       "44135  zieglbr01  2015      1     ARI   0   3  66   0   0    0  30   48   14   \n",
       "44136  zimmejo02  2015      1     WAS  13  10  33  33   0    0   0  204   82   \n",
       "44137   zitoba01  2015      1     OAK   0   0   3   2   0    0   0   12    8   \n",
       "44138   zychto01  2015      1     SEA   0   0  13   1   0    0   0   17    5   \n",
       "\n",
       "       hr  bb   so  bk    r  \n",
       "22982  13  66   74   1   83  \n",
       "22983  27  49   78   1  110  \n",
       "22984  20  74  114   0  120  \n",
       "22985   0  10   10   0   13  \n",
       "22986   7  40   79   1   43  \n",
       "...    ..  ..  ...  ..  ...  \n",
       "44134  16  43   83   0   44  \n",
       "44135   3  17   36   0   17  \n",
       "44136  24  39  164   1   89  \n",
       "44137   4   6    2   0    8  \n",
       "44138   1   3   24   0    6  \n",
       "\n",
       "[21157 rows x 18 columns]"
      ]
     },
     "execution_count": 9,
     "metadata": {},
     "output_type": "execute_result"
    }
   ],
   "source": [
    "pitching"
   ]
  },
  {
   "cell_type": "markdown",
   "id": "f7d0b952",
   "metadata": {},
   "source": [
    "1.6 reset_index()를 통해 재배열하세요."
   ]
  },
  {
   "cell_type": "code",
   "execution_count": 10,
   "id": "db991e66",
   "metadata": {},
   "outputs": [
    {
     "data": {
      "text/html": [
       "<div>\n",
       "<style scoped>\n",
       "    .dataframe tbody tr th:only-of-type {\n",
       "        vertical-align: middle;\n",
       "    }\n",
       "\n",
       "    .dataframe tbody tr th {\n",
       "        vertical-align: top;\n",
       "    }\n",
       "\n",
       "    .dataframe thead th {\n",
       "        text-align: right;\n",
       "    }\n",
       "</style>\n",
       "<table border=\"1\" class=\"dataframe\">\n",
       "  <thead>\n",
       "    <tr style=\"text-align: right;\">\n",
       "      <th></th>\n",
       "      <th>player_id</th>\n",
       "      <th>year</th>\n",
       "      <th>stint</th>\n",
       "      <th>team_id</th>\n",
       "      <th>w</th>\n",
       "      <th>l</th>\n",
       "      <th>g</th>\n",
       "      <th>gs</th>\n",
       "      <th>cg</th>\n",
       "      <th>sho</th>\n",
       "      <th>sv</th>\n",
       "      <th>h</th>\n",
       "      <th>er</th>\n",
       "      <th>hr</th>\n",
       "      <th>bb</th>\n",
       "      <th>so</th>\n",
       "      <th>bk</th>\n",
       "      <th>r</th>\n",
       "    </tr>\n",
       "  </thead>\n",
       "  <tbody>\n",
       "    <tr>\n",
       "      <th>0</th>\n",
       "      <td>aasedo01</td>\n",
       "      <td>1980</td>\n",
       "      <td>1</td>\n",
       "      <td>CAL</td>\n",
       "      <td>8</td>\n",
       "      <td>13</td>\n",
       "      <td>40</td>\n",
       "      <td>21</td>\n",
       "      <td>5</td>\n",
       "      <td>1</td>\n",
       "      <td>2</td>\n",
       "      <td>193</td>\n",
       "      <td>79</td>\n",
       "      <td>13</td>\n",
       "      <td>66</td>\n",
       "      <td>74</td>\n",
       "      <td>1</td>\n",
       "      <td>83</td>\n",
       "    </tr>\n",
       "    <tr>\n",
       "      <th>1</th>\n",
       "      <td>abbotgl01</td>\n",
       "      <td>1980</td>\n",
       "      <td>1</td>\n",
       "      <td>SEA</td>\n",
       "      <td>12</td>\n",
       "      <td>12</td>\n",
       "      <td>31</td>\n",
       "      <td>31</td>\n",
       "      <td>7</td>\n",
       "      <td>2</td>\n",
       "      <td>0</td>\n",
       "      <td>228</td>\n",
       "      <td>98</td>\n",
       "      <td>27</td>\n",
       "      <td>49</td>\n",
       "      <td>78</td>\n",
       "      <td>1</td>\n",
       "      <td>110</td>\n",
       "    </tr>\n",
       "    <tr>\n",
       "      <th>2</th>\n",
       "      <td>alexado01</td>\n",
       "      <td>1980</td>\n",
       "      <td>1</td>\n",
       "      <td>ATL</td>\n",
       "      <td>14</td>\n",
       "      <td>11</td>\n",
       "      <td>35</td>\n",
       "      <td>35</td>\n",
       "      <td>7</td>\n",
       "      <td>1</td>\n",
       "      <td>0</td>\n",
       "      <td>227</td>\n",
       "      <td>108</td>\n",
       "      <td>20</td>\n",
       "      <td>74</td>\n",
       "      <td>114</td>\n",
       "      <td>0</td>\n",
       "      <td>120</td>\n",
       "    </tr>\n",
       "    <tr>\n",
       "      <th>3</th>\n",
       "      <td>allarbr01</td>\n",
       "      <td>1980</td>\n",
       "      <td>1</td>\n",
       "      <td>TEX</td>\n",
       "      <td>0</td>\n",
       "      <td>1</td>\n",
       "      <td>5</td>\n",
       "      <td>2</td>\n",
       "      <td>0</td>\n",
       "      <td>0</td>\n",
       "      <td>0</td>\n",
       "      <td>13</td>\n",
       "      <td>9</td>\n",
       "      <td>0</td>\n",
       "      <td>10</td>\n",
       "      <td>10</td>\n",
       "      <td>0</td>\n",
       "      <td>13</td>\n",
       "    </tr>\n",
       "    <tr>\n",
       "      <th>4</th>\n",
       "      <td>allenne01</td>\n",
       "      <td>1980</td>\n",
       "      <td>1</td>\n",
       "      <td>NYN</td>\n",
       "      <td>7</td>\n",
       "      <td>10</td>\n",
       "      <td>59</td>\n",
       "      <td>0</td>\n",
       "      <td>0</td>\n",
       "      <td>0</td>\n",
       "      <td>22</td>\n",
       "      <td>87</td>\n",
       "      <td>40</td>\n",
       "      <td>7</td>\n",
       "      <td>40</td>\n",
       "      <td>79</td>\n",
       "      <td>1</td>\n",
       "      <td>43</td>\n",
       "    </tr>\n",
       "    <tr>\n",
       "      <th>...</th>\n",
       "      <td>...</td>\n",
       "      <td>...</td>\n",
       "      <td>...</td>\n",
       "      <td>...</td>\n",
       "      <td>...</td>\n",
       "      <td>...</td>\n",
       "      <td>...</td>\n",
       "      <td>...</td>\n",
       "      <td>...</td>\n",
       "      <td>...</td>\n",
       "      <td>...</td>\n",
       "      <td>...</td>\n",
       "      <td>...</td>\n",
       "      <td>...</td>\n",
       "      <td>...</td>\n",
       "      <td>...</td>\n",
       "      <td>...</td>\n",
       "      <td>...</td>\n",
       "    </tr>\n",
       "    <tr>\n",
       "      <th>21152</th>\n",
       "      <td>youngch03</td>\n",
       "      <td>2015</td>\n",
       "      <td>1</td>\n",
       "      <td>KCA</td>\n",
       "      <td>11</td>\n",
       "      <td>6</td>\n",
       "      <td>34</td>\n",
       "      <td>18</td>\n",
       "      <td>0</td>\n",
       "      <td>0</td>\n",
       "      <td>0</td>\n",
       "      <td>91</td>\n",
       "      <td>42</td>\n",
       "      <td>16</td>\n",
       "      <td>43</td>\n",
       "      <td>83</td>\n",
       "      <td>0</td>\n",
       "      <td>44</td>\n",
       "    </tr>\n",
       "    <tr>\n",
       "      <th>21153</th>\n",
       "      <td>zieglbr01</td>\n",
       "      <td>2015</td>\n",
       "      <td>1</td>\n",
       "      <td>ARI</td>\n",
       "      <td>0</td>\n",
       "      <td>3</td>\n",
       "      <td>66</td>\n",
       "      <td>0</td>\n",
       "      <td>0</td>\n",
       "      <td>0</td>\n",
       "      <td>30</td>\n",
       "      <td>48</td>\n",
       "      <td>14</td>\n",
       "      <td>3</td>\n",
       "      <td>17</td>\n",
       "      <td>36</td>\n",
       "      <td>0</td>\n",
       "      <td>17</td>\n",
       "    </tr>\n",
       "    <tr>\n",
       "      <th>21154</th>\n",
       "      <td>zimmejo02</td>\n",
       "      <td>2015</td>\n",
       "      <td>1</td>\n",
       "      <td>WAS</td>\n",
       "      <td>13</td>\n",
       "      <td>10</td>\n",
       "      <td>33</td>\n",
       "      <td>33</td>\n",
       "      <td>0</td>\n",
       "      <td>0</td>\n",
       "      <td>0</td>\n",
       "      <td>204</td>\n",
       "      <td>82</td>\n",
       "      <td>24</td>\n",
       "      <td>39</td>\n",
       "      <td>164</td>\n",
       "      <td>1</td>\n",
       "      <td>89</td>\n",
       "    </tr>\n",
       "    <tr>\n",
       "      <th>21155</th>\n",
       "      <td>zitoba01</td>\n",
       "      <td>2015</td>\n",
       "      <td>1</td>\n",
       "      <td>OAK</td>\n",
       "      <td>0</td>\n",
       "      <td>0</td>\n",
       "      <td>3</td>\n",
       "      <td>2</td>\n",
       "      <td>0</td>\n",
       "      <td>0</td>\n",
       "      <td>0</td>\n",
       "      <td>12</td>\n",
       "      <td>8</td>\n",
       "      <td>4</td>\n",
       "      <td>6</td>\n",
       "      <td>2</td>\n",
       "      <td>0</td>\n",
       "      <td>8</td>\n",
       "    </tr>\n",
       "    <tr>\n",
       "      <th>21156</th>\n",
       "      <td>zychto01</td>\n",
       "      <td>2015</td>\n",
       "      <td>1</td>\n",
       "      <td>SEA</td>\n",
       "      <td>0</td>\n",
       "      <td>0</td>\n",
       "      <td>13</td>\n",
       "      <td>1</td>\n",
       "      <td>0</td>\n",
       "      <td>0</td>\n",
       "      <td>0</td>\n",
       "      <td>17</td>\n",
       "      <td>5</td>\n",
       "      <td>1</td>\n",
       "      <td>3</td>\n",
       "      <td>24</td>\n",
       "      <td>0</td>\n",
       "      <td>6</td>\n",
       "    </tr>\n",
       "  </tbody>\n",
       "</table>\n",
       "<p>21157 rows × 18 columns</p>\n",
       "</div>"
      ],
      "text/plain": [
       "       player_id  year  stint team_id   w   l   g  gs  cg  sho  sv    h   er  \\\n",
       "0       aasedo01  1980      1     CAL   8  13  40  21   5    1   2  193   79   \n",
       "1      abbotgl01  1980      1     SEA  12  12  31  31   7    2   0  228   98   \n",
       "2      alexado01  1980      1     ATL  14  11  35  35   7    1   0  227  108   \n",
       "3      allarbr01  1980      1     TEX   0   1   5   2   0    0   0   13    9   \n",
       "4      allenne01  1980      1     NYN   7  10  59   0   0    0  22   87   40   \n",
       "...          ...   ...    ...     ...  ..  ..  ..  ..  ..  ...  ..  ...  ...   \n",
       "21152  youngch03  2015      1     KCA  11   6  34  18   0    0   0   91   42   \n",
       "21153  zieglbr01  2015      1     ARI   0   3  66   0   0    0  30   48   14   \n",
       "21154  zimmejo02  2015      1     WAS  13  10  33  33   0    0   0  204   82   \n",
       "21155   zitoba01  2015      1     OAK   0   0   3   2   0    0   0   12    8   \n",
       "21156   zychto01  2015      1     SEA   0   0  13   1   0    0   0   17    5   \n",
       "\n",
       "       hr  bb   so  bk    r  \n",
       "0      13  66   74   1   83  \n",
       "1      27  49   78   1  110  \n",
       "2      20  74  114   0  120  \n",
       "3       0  10   10   0   13  \n",
       "4       7  40   79   1   43  \n",
       "...    ..  ..  ...  ..  ...  \n",
       "21152  16  43   83   0   44  \n",
       "21153   3  17   36   0   17  \n",
       "21154  24  39  164   1   89  \n",
       "21155   4   6    2   0    8  \n",
       "21156   1   3   24   0    6  \n",
       "\n",
       "[21157 rows x 18 columns]"
      ]
     },
     "execution_count": 10,
     "metadata": {},
     "output_type": "execute_result"
    }
   ],
   "source": [
    "pitching.reset_index(drop=True, inplace=True)\n",
    "pitching"
   ]
  },
  {
   "cell_type": "markdown",
   "id": "6d99d662",
   "metadata": {},
   "source": [
    "1.7 투수의 승리 수를 예측해보겠습니다. w 컬럼의 value를 확인해보세요."
   ]
  },
  {
   "cell_type": "code",
   "execution_count": 11,
   "id": "421edcc7",
   "metadata": {},
   "outputs": [
    {
     "data": {
      "text/plain": [
       "w\n",
       "0     5854\n",
       "1     3197\n",
       "2     2356\n",
       "3     1744\n",
       "4     1453\n",
       "5     1114\n",
       "6      878\n",
       "7      730\n",
       "9      560\n",
       "8      557\n",
       "10     450\n",
       "11     434\n",
       "12     384\n",
       "13     317\n",
       "14     287\n",
       "15     242\n",
       "16     193\n",
       "17     125\n",
       "18     102\n",
       "19      61\n",
       "20      53\n",
       "21      32\n",
       "22      17\n",
       "24       8\n",
       "23       7\n",
       "25       1\n",
       "27       1\n",
       "Name: count, dtype: int64"
      ]
     },
     "execution_count": 11,
     "metadata": {},
     "output_type": "execute_result"
    }
   ],
   "source": [
    "pitching['w'].value_counts()"
   ]
  },
  {
   "cell_type": "markdown",
   "id": "2286f0a8",
   "metadata": {},
   "source": [
    "1.8 0승 투수(출전하지 않은 경우도 존재)가 많으므로 승리 수가 0인 데이터는 삭제하겠습니다."
   ]
  },
  {
   "cell_type": "code",
   "execution_count": 12,
   "id": "c35c4577",
   "metadata": {},
   "outputs": [
    {
     "data": {
      "text/plain": [
       "15303"
      ]
     },
     "execution_count": 12,
     "metadata": {},
     "output_type": "execute_result"
    }
   ],
   "source": [
    "pitching = pitching[pitching['w'] != 0]\n",
    "len(pitching)"
   ]
  },
  {
   "cell_type": "markdown",
   "id": "95f5accb",
   "metadata": {},
   "source": [
    "1.9 Regression이 아닌 Classification으로 분석해보겠습니다. 이를 위해 10을 기준으로 w를 10승 이상이면 1, 10승 미만이면 0인 Binary 형태로 변환하세요."
   ]
  },
  {
   "cell_type": "code",
   "execution_count": 13,
   "id": "a1191b9d",
   "metadata": {},
   "outputs": [
    {
     "name": "stderr",
     "output_type": "stream",
     "text": [
      "/var/folders/c6/kvlszyfj2q9_tv_8pb0y40qm0000gn/T/ipykernel_49968/1956097475.py:1: SettingWithCopyWarning: \n",
      "A value is trying to be set on a copy of a slice from a DataFrame.\n",
      "Try using .loc[row_indexer,col_indexer] = value instead\n",
      "\n",
      "See the caveats in the documentation: https://pandas.pydata.org/pandas-docs/stable/user_guide/indexing.html#returning-a-view-versus-a-copy\n",
      "  pitching['w'] = (pitching['w'] >= 10).astype(int)\n"
     ]
    },
    {
     "data": {
      "text/html": [
       "<div>\n",
       "<style scoped>\n",
       "    .dataframe tbody tr th:only-of-type {\n",
       "        vertical-align: middle;\n",
       "    }\n",
       "\n",
       "    .dataframe tbody tr th {\n",
       "        vertical-align: top;\n",
       "    }\n",
       "\n",
       "    .dataframe thead th {\n",
       "        text-align: right;\n",
       "    }\n",
       "</style>\n",
       "<table border=\"1\" class=\"dataframe\">\n",
       "  <thead>\n",
       "    <tr style=\"text-align: right;\">\n",
       "      <th></th>\n",
       "      <th>player_id</th>\n",
       "      <th>year</th>\n",
       "      <th>stint</th>\n",
       "      <th>team_id</th>\n",
       "      <th>w</th>\n",
       "      <th>l</th>\n",
       "      <th>g</th>\n",
       "      <th>gs</th>\n",
       "      <th>cg</th>\n",
       "      <th>sho</th>\n",
       "      <th>sv</th>\n",
       "      <th>h</th>\n",
       "      <th>er</th>\n",
       "      <th>hr</th>\n",
       "      <th>bb</th>\n",
       "      <th>so</th>\n",
       "      <th>bk</th>\n",
       "      <th>r</th>\n",
       "    </tr>\n",
       "  </thead>\n",
       "  <tbody>\n",
       "    <tr>\n",
       "      <th>0</th>\n",
       "      <td>aasedo01</td>\n",
       "      <td>1980</td>\n",
       "      <td>1</td>\n",
       "      <td>CAL</td>\n",
       "      <td>0</td>\n",
       "      <td>13</td>\n",
       "      <td>40</td>\n",
       "      <td>21</td>\n",
       "      <td>5</td>\n",
       "      <td>1</td>\n",
       "      <td>2</td>\n",
       "      <td>193</td>\n",
       "      <td>79</td>\n",
       "      <td>13</td>\n",
       "      <td>66</td>\n",
       "      <td>74</td>\n",
       "      <td>1</td>\n",
       "      <td>83</td>\n",
       "    </tr>\n",
       "    <tr>\n",
       "      <th>1</th>\n",
       "      <td>abbotgl01</td>\n",
       "      <td>1980</td>\n",
       "      <td>1</td>\n",
       "      <td>SEA</td>\n",
       "      <td>1</td>\n",
       "      <td>12</td>\n",
       "      <td>31</td>\n",
       "      <td>31</td>\n",
       "      <td>7</td>\n",
       "      <td>2</td>\n",
       "      <td>0</td>\n",
       "      <td>228</td>\n",
       "      <td>98</td>\n",
       "      <td>27</td>\n",
       "      <td>49</td>\n",
       "      <td>78</td>\n",
       "      <td>1</td>\n",
       "      <td>110</td>\n",
       "    </tr>\n",
       "    <tr>\n",
       "      <th>2</th>\n",
       "      <td>alexado01</td>\n",
       "      <td>1980</td>\n",
       "      <td>1</td>\n",
       "      <td>ATL</td>\n",
       "      <td>1</td>\n",
       "      <td>11</td>\n",
       "      <td>35</td>\n",
       "      <td>35</td>\n",
       "      <td>7</td>\n",
       "      <td>1</td>\n",
       "      <td>0</td>\n",
       "      <td>227</td>\n",
       "      <td>108</td>\n",
       "      <td>20</td>\n",
       "      <td>74</td>\n",
       "      <td>114</td>\n",
       "      <td>0</td>\n",
       "      <td>120</td>\n",
       "    </tr>\n",
       "    <tr>\n",
       "      <th>4</th>\n",
       "      <td>allenne01</td>\n",
       "      <td>1980</td>\n",
       "      <td>1</td>\n",
       "      <td>NYN</td>\n",
       "      <td>0</td>\n",
       "      <td>10</td>\n",
       "      <td>59</td>\n",
       "      <td>0</td>\n",
       "      <td>0</td>\n",
       "      <td>0</td>\n",
       "      <td>22</td>\n",
       "      <td>87</td>\n",
       "      <td>40</td>\n",
       "      <td>7</td>\n",
       "      <td>40</td>\n",
       "      <td>79</td>\n",
       "      <td>1</td>\n",
       "      <td>43</td>\n",
       "    </tr>\n",
       "    <tr>\n",
       "      <th>6</th>\n",
       "      <td>andujjo01</td>\n",
       "      <td>1980</td>\n",
       "      <td>1</td>\n",
       "      <td>HOU</td>\n",
       "      <td>0</td>\n",
       "      <td>8</td>\n",
       "      <td>35</td>\n",
       "      <td>14</td>\n",
       "      <td>0</td>\n",
       "      <td>0</td>\n",
       "      <td>2</td>\n",
       "      <td>132</td>\n",
       "      <td>53</td>\n",
       "      <td>8</td>\n",
       "      <td>43</td>\n",
       "      <td>75</td>\n",
       "      <td>0</td>\n",
       "      <td>59</td>\n",
       "    </tr>\n",
       "    <tr>\n",
       "      <th>...</th>\n",
       "      <td>...</td>\n",
       "      <td>...</td>\n",
       "      <td>...</td>\n",
       "      <td>...</td>\n",
       "      <td>...</td>\n",
       "      <td>...</td>\n",
       "      <td>...</td>\n",
       "      <td>...</td>\n",
       "      <td>...</td>\n",
       "      <td>...</td>\n",
       "      <td>...</td>\n",
       "      <td>...</td>\n",
       "      <td>...</td>\n",
       "      <td>...</td>\n",
       "      <td>...</td>\n",
       "      <td>...</td>\n",
       "      <td>...</td>\n",
       "      <td>...</td>\n",
       "    </tr>\n",
       "    <tr>\n",
       "      <th>21147</th>\n",
       "      <td>wrighmi01</td>\n",
       "      <td>2015</td>\n",
       "      <td>1</td>\n",
       "      <td>BAL</td>\n",
       "      <td>0</td>\n",
       "      <td>5</td>\n",
       "      <td>12</td>\n",
       "      <td>9</td>\n",
       "      <td>0</td>\n",
       "      <td>0</td>\n",
       "      <td>0</td>\n",
       "      <td>52</td>\n",
       "      <td>30</td>\n",
       "      <td>9</td>\n",
       "      <td>18</td>\n",
       "      <td>26</td>\n",
       "      <td>0</td>\n",
       "      <td>30</td>\n",
       "    </tr>\n",
       "    <tr>\n",
       "      <th>21148</th>\n",
       "      <td>wrighst01</td>\n",
       "      <td>2015</td>\n",
       "      <td>1</td>\n",
       "      <td>BOS</td>\n",
       "      <td>0</td>\n",
       "      <td>4</td>\n",
       "      <td>16</td>\n",
       "      <td>9</td>\n",
       "      <td>0</td>\n",
       "      <td>0</td>\n",
       "      <td>0</td>\n",
       "      <td>67</td>\n",
       "      <td>33</td>\n",
       "      <td>12</td>\n",
       "      <td>27</td>\n",
       "      <td>52</td>\n",
       "      <td>0</td>\n",
       "      <td>38</td>\n",
       "    </tr>\n",
       "    <tr>\n",
       "      <th>21151</th>\n",
       "      <td>yateski01</td>\n",
       "      <td>2015</td>\n",
       "      <td>1</td>\n",
       "      <td>TBA</td>\n",
       "      <td>0</td>\n",
       "      <td>0</td>\n",
       "      <td>20</td>\n",
       "      <td>0</td>\n",
       "      <td>0</td>\n",
       "      <td>0</td>\n",
       "      <td>0</td>\n",
       "      <td>23</td>\n",
       "      <td>18</td>\n",
       "      <td>10</td>\n",
       "      <td>7</td>\n",
       "      <td>21</td>\n",
       "      <td>0</td>\n",
       "      <td>18</td>\n",
       "    </tr>\n",
       "    <tr>\n",
       "      <th>21152</th>\n",
       "      <td>youngch03</td>\n",
       "      <td>2015</td>\n",
       "      <td>1</td>\n",
       "      <td>KCA</td>\n",
       "      <td>1</td>\n",
       "      <td>6</td>\n",
       "      <td>34</td>\n",
       "      <td>18</td>\n",
       "      <td>0</td>\n",
       "      <td>0</td>\n",
       "      <td>0</td>\n",
       "      <td>91</td>\n",
       "      <td>42</td>\n",
       "      <td>16</td>\n",
       "      <td>43</td>\n",
       "      <td>83</td>\n",
       "      <td>0</td>\n",
       "      <td>44</td>\n",
       "    </tr>\n",
       "    <tr>\n",
       "      <th>21154</th>\n",
       "      <td>zimmejo02</td>\n",
       "      <td>2015</td>\n",
       "      <td>1</td>\n",
       "      <td>WAS</td>\n",
       "      <td>1</td>\n",
       "      <td>10</td>\n",
       "      <td>33</td>\n",
       "      <td>33</td>\n",
       "      <td>0</td>\n",
       "      <td>0</td>\n",
       "      <td>0</td>\n",
       "      <td>204</td>\n",
       "      <td>82</td>\n",
       "      <td>24</td>\n",
       "      <td>39</td>\n",
       "      <td>164</td>\n",
       "      <td>1</td>\n",
       "      <td>89</td>\n",
       "    </tr>\n",
       "  </tbody>\n",
       "</table>\n",
       "<p>15303 rows × 18 columns</p>\n",
       "</div>"
      ],
      "text/plain": [
       "       player_id  year  stint team_id  w   l   g  gs  cg  sho  sv    h   er  \\\n",
       "0       aasedo01  1980      1     CAL  0  13  40  21   5    1   2  193   79   \n",
       "1      abbotgl01  1980      1     SEA  1  12  31  31   7    2   0  228   98   \n",
       "2      alexado01  1980      1     ATL  1  11  35  35   7    1   0  227  108   \n",
       "4      allenne01  1980      1     NYN  0  10  59   0   0    0  22   87   40   \n",
       "6      andujjo01  1980      1     HOU  0   8  35  14   0    0   2  132   53   \n",
       "...          ...   ...    ...     ... ..  ..  ..  ..  ..  ...  ..  ...  ...   \n",
       "21147  wrighmi01  2015      1     BAL  0   5  12   9   0    0   0   52   30   \n",
       "21148  wrighst01  2015      1     BOS  0   4  16   9   0    0   0   67   33   \n",
       "21151  yateski01  2015      1     TBA  0   0  20   0   0    0   0   23   18   \n",
       "21152  youngch03  2015      1     KCA  1   6  34  18   0    0   0   91   42   \n",
       "21154  zimmejo02  2015      1     WAS  1  10  33  33   0    0   0  204   82   \n",
       "\n",
       "       hr  bb   so  bk    r  \n",
       "0      13  66   74   1   83  \n",
       "1      27  49   78   1  110  \n",
       "2      20  74  114   0  120  \n",
       "4       7  40   79   1   43  \n",
       "6       8  43   75   0   59  \n",
       "...    ..  ..  ...  ..  ...  \n",
       "21147   9  18   26   0   30  \n",
       "21148  12  27   52   0   38  \n",
       "21151  10   7   21   0   18  \n",
       "21152  16  43   83   0   44  \n",
       "21154  24  39  164   1   89  \n",
       "\n",
       "[15303 rows x 18 columns]"
      ]
     },
     "execution_count": 13,
     "metadata": {},
     "output_type": "execute_result"
    }
   ],
   "source": [
    "pitching['w'] = (pitching['w'] >= 10).astype(int)\n",
    "pitching"
   ]
  },
  {
   "cell_type": "markdown",
   "id": "f0cda52e",
   "metadata": {},
   "source": [
    "1.10 value_counts()를 통해 잘 나눠졌는지 확인해보세요."
   ]
  },
  {
   "cell_type": "code",
   "execution_count": 14,
   "id": "0099641a",
   "metadata": {
    "scrolled": true
   },
   "outputs": [
    {
     "data": {
      "text/plain": [
       "w\n",
       "0    12589\n",
       "1     2714\n",
       "Name: count, dtype: int64"
      ]
     },
     "execution_count": 14,
     "metadata": {},
     "output_type": "execute_result"
    }
   ],
   "source": [
    "pitching['w'].value_counts()"
   ]
  },
  {
   "cell_type": "markdown",
   "id": "1fc961f8",
   "metadata": {},
   "source": [
    "1.11 종속 변수의 밸런스가 맞지 않는 것으로 확인됩니다. 이를 해결하기 위해 Under Sampling 혹은 Over Sampling 기법을 사용할 수 있는데 Under Sampling의 경우 데이터가 많지 않는 상황에서 사라지는 데이터가 과도하게 많으므로 Over Sampling 기법 중 SMOTE 기법을 사용해보겠습니다. 사용하기 전에 player_id, year, team_id 컬럼은 지우고 가겠습니다."
   ]
  },
  {
   "cell_type": "code",
   "execution_count": 15,
   "id": "64f49881",
   "metadata": {},
   "outputs": [
    {
     "name": "stderr",
     "output_type": "stream",
     "text": [
      "/var/folders/c6/kvlszyfj2q9_tv_8pb0y40qm0000gn/T/ipykernel_49968/2360947009.py:1: SettingWithCopyWarning: \n",
      "A value is trying to be set on a copy of a slice from a DataFrame\n",
      "\n",
      "See the caveats in the documentation: https://pandas.pydata.org/pandas-docs/stable/user_guide/indexing.html#returning-a-view-versus-a-copy\n",
      "  pitching.drop(['player_id', 'year', 'team_id'], axis=1, inplace=True)\n"
     ]
    }
   ],
   "source": [
    "pitching.drop(['player_id', 'year', 'team_id'], axis=1, inplace=True)"
   ]
  },
  {
   "cell_type": "markdown",
   "id": "fcbe27ac",
   "metadata": {},
   "source": [
    "1.12 SMOTE 기법을 활용해 w의 balance를 맞추세요(sampling_strategy='auto', random_state = 123)."
   ]
  },
  {
   "cell_type": "code",
   "execution_count": 16,
   "id": "6dba3e40",
   "metadata": {},
   "outputs": [],
   "source": [
    "X = pitching.loc[:, pitching.columns != 'w'] #features\n",
    "y = pitching['w'] #target"
   ]
  },
  {
   "cell_type": "code",
   "execution_count": 17,
   "id": "84145a88",
   "metadata": {},
   "outputs": [],
   "source": [
    "#conda install -c conda-forge imbalanced-learn"
   ]
  },
  {
   "cell_type": "code",
   "execution_count": 18,
   "id": "a51eb9d3",
   "metadata": {},
   "outputs": [
    {
     "name": "stdout",
     "output_type": "stream",
     "text": [
      "SMOTE 적용 전 피처/레이블 데이터셋:  (15303, 14) (15303,)\n",
      "SMOTE 적용 후 피처/레이블 데이터셋:  (25178, 14) (25178,)\n"
     ]
    }
   ],
   "source": [
    "from imblearn.over_sampling import SMOTE\n",
    "\n",
    "smote = SMOTE(sampling_strategy='auto', random_state=123)\n",
    "\n",
    "X_smote, y_smote = smote.fit_resample(X, y)\n",
    "\n",
    "print('SMOTE 적용 전 피처/레이블 데이터셋: ', X.shape, y.shape)\n",
    "print('SMOTE 적용 후 피처/레이블 데이터셋: ', X_smote.shape, y_smote.shape)"
   ]
  },
  {
   "cell_type": "markdown",
   "id": "a091c7c2",
   "metadata": {},
   "source": [
    "1.13 balance가 잘 맞춰졌는지 확인하세요."
   ]
  },
  {
   "cell_type": "code",
   "execution_count": 19,
   "id": "c5394d07",
   "metadata": {
    "scrolled": true
   },
   "outputs": [
    {
     "data": {
      "text/plain": [
       "w\n",
       "0    12589\n",
       "1    12589\n",
       "Name: count, dtype: int64"
      ]
     },
     "execution_count": 19,
     "metadata": {},
     "output_type": "execute_result"
    }
   ],
   "source": [
    "y_smote.value_counts()"
   ]
  },
  {
   "cell_type": "code",
   "execution_count": 20,
   "id": "69c43704",
   "metadata": {},
   "outputs": [
    {
     "data": {
      "text/html": [
       "<div>\n",
       "<style scoped>\n",
       "    .dataframe tbody tr th:only-of-type {\n",
       "        vertical-align: middle;\n",
       "    }\n",
       "\n",
       "    .dataframe tbody tr th {\n",
       "        vertical-align: top;\n",
       "    }\n",
       "\n",
       "    .dataframe thead th {\n",
       "        text-align: right;\n",
       "    }\n",
       "</style>\n",
       "<table border=\"1\" class=\"dataframe\">\n",
       "  <thead>\n",
       "    <tr style=\"text-align: right;\">\n",
       "      <th></th>\n",
       "      <th>stint</th>\n",
       "      <th>l</th>\n",
       "      <th>g</th>\n",
       "      <th>gs</th>\n",
       "      <th>cg</th>\n",
       "      <th>sho</th>\n",
       "      <th>sv</th>\n",
       "      <th>h</th>\n",
       "      <th>er</th>\n",
       "      <th>hr</th>\n",
       "      <th>bb</th>\n",
       "      <th>so</th>\n",
       "      <th>bk</th>\n",
       "      <th>r</th>\n",
       "    </tr>\n",
       "  </thead>\n",
       "  <tbody>\n",
       "    <tr>\n",
       "      <th>0</th>\n",
       "      <td>1</td>\n",
       "      <td>13</td>\n",
       "      <td>40</td>\n",
       "      <td>21</td>\n",
       "      <td>5</td>\n",
       "      <td>1</td>\n",
       "      <td>2</td>\n",
       "      <td>193</td>\n",
       "      <td>79</td>\n",
       "      <td>13</td>\n",
       "      <td>66</td>\n",
       "      <td>74</td>\n",
       "      <td>1</td>\n",
       "      <td>83</td>\n",
       "    </tr>\n",
       "    <tr>\n",
       "      <th>1</th>\n",
       "      <td>1</td>\n",
       "      <td>12</td>\n",
       "      <td>31</td>\n",
       "      <td>31</td>\n",
       "      <td>7</td>\n",
       "      <td>2</td>\n",
       "      <td>0</td>\n",
       "      <td>228</td>\n",
       "      <td>98</td>\n",
       "      <td>27</td>\n",
       "      <td>49</td>\n",
       "      <td>78</td>\n",
       "      <td>1</td>\n",
       "      <td>110</td>\n",
       "    </tr>\n",
       "    <tr>\n",
       "      <th>2</th>\n",
       "      <td>1</td>\n",
       "      <td>11</td>\n",
       "      <td>35</td>\n",
       "      <td>35</td>\n",
       "      <td>7</td>\n",
       "      <td>1</td>\n",
       "      <td>0</td>\n",
       "      <td>227</td>\n",
       "      <td>108</td>\n",
       "      <td>20</td>\n",
       "      <td>74</td>\n",
       "      <td>114</td>\n",
       "      <td>0</td>\n",
       "      <td>120</td>\n",
       "    </tr>\n",
       "    <tr>\n",
       "      <th>3</th>\n",
       "      <td>1</td>\n",
       "      <td>10</td>\n",
       "      <td>59</td>\n",
       "      <td>0</td>\n",
       "      <td>0</td>\n",
       "      <td>0</td>\n",
       "      <td>22</td>\n",
       "      <td>87</td>\n",
       "      <td>40</td>\n",
       "      <td>7</td>\n",
       "      <td>40</td>\n",
       "      <td>79</td>\n",
       "      <td>1</td>\n",
       "      <td>43</td>\n",
       "    </tr>\n",
       "    <tr>\n",
       "      <th>4</th>\n",
       "      <td>1</td>\n",
       "      <td>8</td>\n",
       "      <td>35</td>\n",
       "      <td>14</td>\n",
       "      <td>0</td>\n",
       "      <td>0</td>\n",
       "      <td>2</td>\n",
       "      <td>132</td>\n",
       "      <td>53</td>\n",
       "      <td>8</td>\n",
       "      <td>43</td>\n",
       "      <td>75</td>\n",
       "      <td>0</td>\n",
       "      <td>59</td>\n",
       "    </tr>\n",
       "    <tr>\n",
       "      <th>...</th>\n",
       "      <td>...</td>\n",
       "      <td>...</td>\n",
       "      <td>...</td>\n",
       "      <td>...</td>\n",
       "      <td>...</td>\n",
       "      <td>...</td>\n",
       "      <td>...</td>\n",
       "      <td>...</td>\n",
       "      <td>...</td>\n",
       "      <td>...</td>\n",
       "      <td>...</td>\n",
       "      <td>...</td>\n",
       "      <td>...</td>\n",
       "      <td>...</td>\n",
       "    </tr>\n",
       "    <tr>\n",
       "      <th>25173</th>\n",
       "      <td>1</td>\n",
       "      <td>14</td>\n",
       "      <td>34</td>\n",
       "      <td>34</td>\n",
       "      <td>3</td>\n",
       "      <td>0</td>\n",
       "      <td>0</td>\n",
       "      <td>267</td>\n",
       "      <td>131</td>\n",
       "      <td>24</td>\n",
       "      <td>86</td>\n",
       "      <td>139</td>\n",
       "      <td>0</td>\n",
       "      <td>142</td>\n",
       "    </tr>\n",
       "    <tr>\n",
       "      <th>25174</th>\n",
       "      <td>1</td>\n",
       "      <td>7</td>\n",
       "      <td>32</td>\n",
       "      <td>32</td>\n",
       "      <td>1</td>\n",
       "      <td>0</td>\n",
       "      <td>0</td>\n",
       "      <td>210</td>\n",
       "      <td>88</td>\n",
       "      <td>21</td>\n",
       "      <td>69</td>\n",
       "      <td>105</td>\n",
       "      <td>0</td>\n",
       "      <td>100</td>\n",
       "    </tr>\n",
       "    <tr>\n",
       "      <th>25175</th>\n",
       "      <td>1</td>\n",
       "      <td>7</td>\n",
       "      <td>29</td>\n",
       "      <td>29</td>\n",
       "      <td>4</td>\n",
       "      <td>1</td>\n",
       "      <td>0</td>\n",
       "      <td>172</td>\n",
       "      <td>68</td>\n",
       "      <td>16</td>\n",
       "      <td>52</td>\n",
       "      <td>129</td>\n",
       "      <td>1</td>\n",
       "      <td>72</td>\n",
       "    </tr>\n",
       "    <tr>\n",
       "      <th>25176</th>\n",
       "      <td>1</td>\n",
       "      <td>5</td>\n",
       "      <td>71</td>\n",
       "      <td>0</td>\n",
       "      <td>0</td>\n",
       "      <td>0</td>\n",
       "      <td>6</td>\n",
       "      <td>90</td>\n",
       "      <td>35</td>\n",
       "      <td>6</td>\n",
       "      <td>43</td>\n",
       "      <td>97</td>\n",
       "      <td>2</td>\n",
       "      <td>43</td>\n",
       "    </tr>\n",
       "    <tr>\n",
       "      <th>25177</th>\n",
       "      <td>1</td>\n",
       "      <td>9</td>\n",
       "      <td>34</td>\n",
       "      <td>34</td>\n",
       "      <td>1</td>\n",
       "      <td>1</td>\n",
       "      <td>0</td>\n",
       "      <td>209</td>\n",
       "      <td>88</td>\n",
       "      <td>20</td>\n",
       "      <td>106</td>\n",
       "      <td>210</td>\n",
       "      <td>0</td>\n",
       "      <td>99</td>\n",
       "    </tr>\n",
       "  </tbody>\n",
       "</table>\n",
       "<p>25178 rows × 14 columns</p>\n",
       "</div>"
      ],
      "text/plain": [
       "       stint   l   g  gs  cg  sho  sv    h   er  hr   bb   so  bk    r\n",
       "0          1  13  40  21   5    1   2  193   79  13   66   74   1   83\n",
       "1          1  12  31  31   7    2   0  228   98  27   49   78   1  110\n",
       "2          1  11  35  35   7    1   0  227  108  20   74  114   0  120\n",
       "3          1  10  59   0   0    0  22   87   40   7   40   79   1   43\n",
       "4          1   8  35  14   0    0   2  132   53   8   43   75   0   59\n",
       "...      ...  ..  ..  ..  ..  ...  ..  ...  ...  ..  ...  ...  ..  ...\n",
       "25173      1  14  34  34   3    0   0  267  131  24   86  139   0  142\n",
       "25174      1   7  32  32   1    0   0  210   88  21   69  105   0  100\n",
       "25175      1   7  29  29   4    1   0  172   68  16   52  129   1   72\n",
       "25176      1   5  71   0   0    0   6   90   35   6   43   97   2   43\n",
       "25177      1   9  34  34   1    1   0  209   88  20  106  210   0   99\n",
       "\n",
       "[25178 rows x 14 columns]"
      ]
     },
     "execution_count": 20,
     "metadata": {},
     "output_type": "execute_result"
    }
   ],
   "source": [
    "X_smote"
   ]
  },
  {
   "cell_type": "markdown",
   "id": "9545facf",
   "metadata": {},
   "source": [
    "1.14 SMOTE의 동작 방식에 대해 작성하고 Over Sampling의 장/단점에 대해 작성하세요."
   ]
  },
  {
   "cell_type": "markdown",
   "id": "6b3f4d44",
   "metadata": {},
   "source": [
    "- SMOTE 동작 방식: 소수 데이터 중 특정 샘플을 기준으로 해당 데이터와 가장 가까운 k개의 이웃 데이터를 찾는다. 그리고 선별된 데이터들과 처음 기준이 된 데이터와의 연결선 상에 새로운 데이터를 만든다. 이 과정을 반복해 데이터 수를 늘린다.\n",
    "- 오버샘플링은 정보 손실이 없고 언더 샘플링에 비해 분류 정확도가 높지만, 오버피팅 가능성이 존재하고 노이즈에 민감하다. "
   ]
  },
  {
   "cell_type": "markdown",
   "id": "3129e213",
   "metadata": {},
   "source": [
    "1.15 다른 Over Sampling 기법들엔 어떤 것들이 있는지 작성하세요(2개 이상)."
   ]
  },
  {
   "cell_type": "markdown",
   "id": "731c25d2",
   "metadata": {},
   "source": [
    "- Resampling: 소수 범주의 데이터 수를 다수 범주의 데이터 수와 비슷해지도록 증가시키는 방법\n",
    "- Borderline SMOTE: Borderline 부분에 대해서만 SMOTE 방식을 사용하는 것\n",
    "- GAN: 생성자는 가짜 샘플을 만들고 구분자는 샘플의 진위를 판별하며 진짜 샘플과 매우 유사한 가짜 샘플을 만들어내는 방법"
   ]
  },
  {
   "cell_type": "markdown",
   "id": "8b7f1aef",
   "metadata": {},
   "source": [
    "### 2. 예측 및 분석"
   ]
  },
  {
   "cell_type": "markdown",
   "id": "49fb276a",
   "metadata": {},
   "source": [
    "2.1 본격적으로 분석을 진행하겠습니다. 본 차시는 Hyperparameter Tuning에 대해 학습하는 것이 목적이므로 모델은 RandomForest Classifier 하나만 사용하도록 하겠습니다. 먼저 데이터를 train, validation, test 3개로 나누세요(trian-60%, val-20%, test-20%)."
   ]
  },
  {
   "cell_type": "code",
   "execution_count": 22,
   "id": "c2a7f4d6",
   "metadata": {},
   "outputs": [],
   "source": [
    "from sklearn.model_selection import train_test_split"
   ]
  },
  {
   "cell_type": "code",
   "execution_count": 23,
   "id": "6b9d9ee0",
   "metadata": {},
   "outputs": [],
   "source": [
    "# train, test 분리\n",
    "X_train, X_test, y_train, y_test = train_test_split(X_smote, y_smote,\n",
    "                                                   test_size=0.2,\n",
    "                                                   stratify=y_smote, #target의 클래스 비율에 맞춰 분할\n",
    "                                                   random_state=123)"
   ]
  },
  {
   "cell_type": "code",
   "execution_count": 24,
   "id": "a3449691",
   "metadata": {},
   "outputs": [],
   "source": [
    "# train set을 train, validation으로 분리\n",
    "X_train, X_val, y_train, y_val = train_test_split(X_train, y_train,\n",
    "                                                 test_size=0.2,\n",
    "                                                 stratify=y_train,\n",
    "                                                 random_state=123)"
   ]
  },
  {
   "cell_type": "code",
   "execution_count": 25,
   "id": "b56eb4c4",
   "metadata": {},
   "outputs": [
    {
     "name": "stdout",
     "output_type": "stream",
     "text": [
      "Train set: (16113, 14) (16113,)\n",
      "Validation set: (4029, 14) (4029,)\n",
      "Test set: (5036, 14) (5036,)\n"
     ]
    }
   ],
   "source": [
    "print('Train set:', X_train.shape, y_train.shape)\n",
    "print('Validation set:', X_val.shape, y_val.shape)\n",
    "print('Test set:', X_test.shape, y_test.shape)"
   ]
  },
  {
   "cell_type": "markdown",
   "id": "cdccaac8",
   "metadata": {},
   "source": [
    "2.2 train test에 validation set을 추가하는 이유가 뭔지 작성하세요."
   ]
  },
  {
   "cell_type": "markdown",
   "id": "6f6b5114",
   "metadata": {},
   "source": [
    "- test accuracy를 예측해볼 수 있고, 모델 튜닝을 통해 오버피팅을 방지할 수 있다."
   ]
  },
  {
   "cell_type": "code",
   "execution_count": 26,
   "id": "aa174dc0",
   "metadata": {},
   "outputs": [],
   "source": [
    "from sklearn.ensemble import RandomForestClassifier\n",
    "from sklearn.model_selection import RandomizedSearchCV, GridSearchCV\n",
    "from bayes_opt import BayesianOptimization\n",
    "from sklearn.metrics import accuracy_score\n",
    "from sklearn.model_selection import cross_val_score"
   ]
  },
  {
   "cell_type": "markdown",
   "id": "534c32ee",
   "metadata": {},
   "source": [
    "2.3 Randomized SearchCV로 최적의 파라미터 셋을 찾으세요(성능 지표는 accuracy score)."
   ]
  },
  {
   "cell_type": "code",
   "execution_count": 27,
   "id": "47b6ab9f",
   "metadata": {},
   "outputs": [],
   "source": [
    "# random forest 모델\n",
    "model = RandomForestClassifier()"
   ]
  },
  {
   "cell_type": "code",
   "execution_count": 28,
   "id": "d1264a9a",
   "metadata": {},
   "outputs": [],
   "source": [
    "param_grid = {\n",
    "    'n_estimators': [10, 50, 100, 200],\n",
    "    'max_depth': [None, 10, 20, 30],\n",
    "    'min_samples_split': [2, 5, 10],\n",
    "    'min_samples_leaf': [1, 2, 4],\n",
    "    'bootstrap': [True, False],\n",
    "    'criterion': ['gini', 'entropy']\n",
    "}"
   ]
  },
  {
   "cell_type": "code",
   "execution_count": 29,
   "id": "6de098f2",
   "metadata": {},
   "outputs": [
    {
     "data": {
      "text/html": [
       "<style>#sk-container-id-1 {color: black;}#sk-container-id-1 pre{padding: 0;}#sk-container-id-1 div.sk-toggleable {background-color: white;}#sk-container-id-1 label.sk-toggleable__label {cursor: pointer;display: block;width: 100%;margin-bottom: 0;padding: 0.3em;box-sizing: border-box;text-align: center;}#sk-container-id-1 label.sk-toggleable__label-arrow:before {content: \"▸\";float: left;margin-right: 0.25em;color: #696969;}#sk-container-id-1 label.sk-toggleable__label-arrow:hover:before {color: black;}#sk-container-id-1 div.sk-estimator:hover label.sk-toggleable__label-arrow:before {color: black;}#sk-container-id-1 div.sk-toggleable__content {max-height: 0;max-width: 0;overflow: hidden;text-align: left;background-color: #f0f8ff;}#sk-container-id-1 div.sk-toggleable__content pre {margin: 0.2em;color: black;border-radius: 0.25em;background-color: #f0f8ff;}#sk-container-id-1 input.sk-toggleable__control:checked~div.sk-toggleable__content {max-height: 200px;max-width: 100%;overflow: auto;}#sk-container-id-1 input.sk-toggleable__control:checked~label.sk-toggleable__label-arrow:before {content: \"▾\";}#sk-container-id-1 div.sk-estimator input.sk-toggleable__control:checked~label.sk-toggleable__label {background-color: #d4ebff;}#sk-container-id-1 div.sk-label input.sk-toggleable__control:checked~label.sk-toggleable__label {background-color: #d4ebff;}#sk-container-id-1 input.sk-hidden--visually {border: 0;clip: rect(1px 1px 1px 1px);clip: rect(1px, 1px, 1px, 1px);height: 1px;margin: -1px;overflow: hidden;padding: 0;position: absolute;width: 1px;}#sk-container-id-1 div.sk-estimator {font-family: monospace;background-color: #f0f8ff;border: 1px dotted black;border-radius: 0.25em;box-sizing: border-box;margin-bottom: 0.5em;}#sk-container-id-1 div.sk-estimator:hover {background-color: #d4ebff;}#sk-container-id-1 div.sk-parallel-item::after {content: \"\";width: 100%;border-bottom: 1px solid gray;flex-grow: 1;}#sk-container-id-1 div.sk-label:hover label.sk-toggleable__label {background-color: #d4ebff;}#sk-container-id-1 div.sk-serial::before {content: \"\";position: absolute;border-left: 1px solid gray;box-sizing: border-box;top: 0;bottom: 0;left: 50%;z-index: 0;}#sk-container-id-1 div.sk-serial {display: flex;flex-direction: column;align-items: center;background-color: white;padding-right: 0.2em;padding-left: 0.2em;position: relative;}#sk-container-id-1 div.sk-item {position: relative;z-index: 1;}#sk-container-id-1 div.sk-parallel {display: flex;align-items: stretch;justify-content: center;background-color: white;position: relative;}#sk-container-id-1 div.sk-item::before, #sk-container-id-1 div.sk-parallel-item::before {content: \"\";position: absolute;border-left: 1px solid gray;box-sizing: border-box;top: 0;bottom: 0;left: 50%;z-index: -1;}#sk-container-id-1 div.sk-parallel-item {display: flex;flex-direction: column;z-index: 1;position: relative;background-color: white;}#sk-container-id-1 div.sk-parallel-item:first-child::after {align-self: flex-end;width: 50%;}#sk-container-id-1 div.sk-parallel-item:last-child::after {align-self: flex-start;width: 50%;}#sk-container-id-1 div.sk-parallel-item:only-child::after {width: 0;}#sk-container-id-1 div.sk-dashed-wrapped {border: 1px dashed gray;margin: 0 0.4em 0.5em 0.4em;box-sizing: border-box;padding-bottom: 0.4em;background-color: white;}#sk-container-id-1 div.sk-label label {font-family: monospace;font-weight: bold;display: inline-block;line-height: 1.2em;}#sk-container-id-1 div.sk-label-container {text-align: center;}#sk-container-id-1 div.sk-container {/* jupyter's `normalize.less` sets `[hidden] { display: none; }` but bootstrap.min.css set `[hidden] { display: none !important; }` so we also need the `!important` here to be able to override the default hidden behavior on the sphinx rendered scikit-learn.org. See: https://github.com/scikit-learn/scikit-learn/issues/21755 */display: inline-block !important;position: relative;}#sk-container-id-1 div.sk-text-repr-fallback {display: none;}</style><div id=\"sk-container-id-1\" class=\"sk-top-container\"><div class=\"sk-text-repr-fallback\"><pre>RandomizedSearchCV(estimator=RandomForestClassifier(),\n",
       "                   param_distributions={&#x27;bootstrap&#x27;: [True, False],\n",
       "                                        &#x27;criterion&#x27;: [&#x27;gini&#x27;, &#x27;entropy&#x27;],\n",
       "                                        &#x27;max_depth&#x27;: [None, 10, 20, 30],\n",
       "                                        &#x27;min_samples_leaf&#x27;: [1, 2, 4],\n",
       "                                        &#x27;min_samples_split&#x27;: [2, 5, 10],\n",
       "                                        &#x27;n_estimators&#x27;: [10, 50, 100, 200]})</pre><b>In a Jupyter environment, please rerun this cell to show the HTML representation or trust the notebook. <br />On GitHub, the HTML representation is unable to render, please try loading this page with nbviewer.org.</b></div><div class=\"sk-container\" hidden><div class=\"sk-item sk-dashed-wrapped\"><div class=\"sk-label-container\"><div class=\"sk-label sk-toggleable\"><input class=\"sk-toggleable__control sk-hidden--visually\" id=\"sk-estimator-id-1\" type=\"checkbox\" ><label for=\"sk-estimator-id-1\" class=\"sk-toggleable__label sk-toggleable__label-arrow\">RandomizedSearchCV</label><div class=\"sk-toggleable__content\"><pre>RandomizedSearchCV(estimator=RandomForestClassifier(),\n",
       "                   param_distributions={&#x27;bootstrap&#x27;: [True, False],\n",
       "                                        &#x27;criterion&#x27;: [&#x27;gini&#x27;, &#x27;entropy&#x27;],\n",
       "                                        &#x27;max_depth&#x27;: [None, 10, 20, 30],\n",
       "                                        &#x27;min_samples_leaf&#x27;: [1, 2, 4],\n",
       "                                        &#x27;min_samples_split&#x27;: [2, 5, 10],\n",
       "                                        &#x27;n_estimators&#x27;: [10, 50, 100, 200]})</pre></div></div></div><div class=\"sk-parallel\"><div class=\"sk-parallel-item\"><div class=\"sk-item\"><div class=\"sk-label-container\"><div class=\"sk-label sk-toggleable\"><input class=\"sk-toggleable__control sk-hidden--visually\" id=\"sk-estimator-id-2\" type=\"checkbox\" ><label for=\"sk-estimator-id-2\" class=\"sk-toggleable__label sk-toggleable__label-arrow\">estimator: RandomForestClassifier</label><div class=\"sk-toggleable__content\"><pre>RandomForestClassifier()</pre></div></div></div><div class=\"sk-serial\"><div class=\"sk-item\"><div class=\"sk-estimator sk-toggleable\"><input class=\"sk-toggleable__control sk-hidden--visually\" id=\"sk-estimator-id-3\" type=\"checkbox\" ><label for=\"sk-estimator-id-3\" class=\"sk-toggleable__label sk-toggleable__label-arrow\">RandomForestClassifier</label><div class=\"sk-toggleable__content\"><pre>RandomForestClassifier()</pre></div></div></div></div></div></div></div></div></div></div>"
      ],
      "text/plain": [
       "RandomizedSearchCV(estimator=RandomForestClassifier(),\n",
       "                   param_distributions={'bootstrap': [True, False],\n",
       "                                        'criterion': ['gini', 'entropy'],\n",
       "                                        'max_depth': [None, 10, 20, 30],\n",
       "                                        'min_samples_leaf': [1, 2, 4],\n",
       "                                        'min_samples_split': [2, 5, 10],\n",
       "                                        'n_estimators': [10, 50, 100, 200]})"
      ]
     },
     "execution_count": 29,
     "metadata": {},
     "output_type": "execute_result"
    }
   ],
   "source": [
    "# randomized search\n",
    "random_search = RandomizedSearchCV(model, param_distributions=param_grid)\n",
    "\n",
    "random_search.fit(X_train, y_train)"
   ]
  },
  {
   "cell_type": "code",
   "execution_count": 30,
   "id": "5b800e7f",
   "metadata": {},
   "outputs": [
    {
     "data": {
      "text/plain": [
       "{'n_estimators': 200,\n",
       " 'min_samples_split': 5,\n",
       " 'min_samples_leaf': 1,\n",
       " 'max_depth': 30,\n",
       " 'criterion': 'gini',\n",
       " 'bootstrap': False}"
      ]
     },
     "execution_count": 30,
     "metadata": {},
     "output_type": "execute_result"
    }
   ],
   "source": [
    "# 최적 파라미터\n",
    "random_search.best_params_"
   ]
  },
  {
   "cell_type": "code",
   "execution_count": 31,
   "id": "f1ddd0f3",
   "metadata": {},
   "outputs": [
    {
     "name": "stdout",
     "output_type": "stream",
     "text": [
      "Accuracy: 0.9620730738681493\n"
     ]
    }
   ],
   "source": [
    "# accuracy score\n",
    "y_pred = random_search.best_estimator_.predict(X_test)\n",
    "accuracy = accuracy_score(y_test, y_pred)\n",
    "print('Accuracy:', accuracy)"
   ]
  },
  {
   "cell_type": "markdown",
   "id": "904383dd",
   "metadata": {},
   "source": [
    "2.4 위에서 지정한 hyperparameter들이 각각 무엇을 의미하는지 작성하세요."
   ]
  },
  {
   "cell_type": "markdown",
   "id": "9f368fc2",
   "metadata": {},
   "source": [
    "- n_estimators: 트리의 수\n",
    "- max_depth: 트리의 최대 깊이\n",
    "- min_samples_split: 분할 할 수 있는 샘플 수를 지정\n",
    "- min_samples_leaf: 분할해서 leaf가 될 수 있는 샘플 수를 지정\n",
    "- bootstrap: 부트스트래핑은 중복을 허용하여 샘플을 랜덤 하게 선택하는 방식, 모델의 다양성을 증가\n",
    "- criterion: 노드의 분할 기준을 결정하는 데 사용되는 평가 지표"
   ]
  },
  {
   "cell_type": "markdown",
   "id": "9af9bb2a",
   "metadata": {},
   "source": [
    "2.5 Grid SearchCV로 최적의 파라미터 셋을 찾으세요."
   ]
  },
  {
   "cell_type": "code",
   "execution_count": 32,
   "id": "2c33642b",
   "metadata": {},
   "outputs": [],
   "source": [
    "param_grid = {\n",
    "    'n_estimators': [10, 50, 100, 200],\n",
    "    'max_depth': [None, 10, 20, 30],\n",
    "    'min_samples_split': [2, 5, 10],\n",
    "    'min_samples_leaf': [1, 2, 4],\n",
    "    'bootstrap': [True, False],\n",
    "    'criterion': ['gini', 'entropy']\n",
    "}"
   ]
  },
  {
   "cell_type": "code",
   "execution_count": 39,
   "id": "be570aff",
   "metadata": {},
   "outputs": [
    {
     "data": {
      "text/html": [
       "<style>#sk-container-id-2 {color: black;}#sk-container-id-2 pre{padding: 0;}#sk-container-id-2 div.sk-toggleable {background-color: white;}#sk-container-id-2 label.sk-toggleable__label {cursor: pointer;display: block;width: 100%;margin-bottom: 0;padding: 0.3em;box-sizing: border-box;text-align: center;}#sk-container-id-2 label.sk-toggleable__label-arrow:before {content: \"▸\";float: left;margin-right: 0.25em;color: #696969;}#sk-container-id-2 label.sk-toggleable__label-arrow:hover:before {color: black;}#sk-container-id-2 div.sk-estimator:hover label.sk-toggleable__label-arrow:before {color: black;}#sk-container-id-2 div.sk-toggleable__content {max-height: 0;max-width: 0;overflow: hidden;text-align: left;background-color: #f0f8ff;}#sk-container-id-2 div.sk-toggleable__content pre {margin: 0.2em;color: black;border-radius: 0.25em;background-color: #f0f8ff;}#sk-container-id-2 input.sk-toggleable__control:checked~div.sk-toggleable__content {max-height: 200px;max-width: 100%;overflow: auto;}#sk-container-id-2 input.sk-toggleable__control:checked~label.sk-toggleable__label-arrow:before {content: \"▾\";}#sk-container-id-2 div.sk-estimator input.sk-toggleable__control:checked~label.sk-toggleable__label {background-color: #d4ebff;}#sk-container-id-2 div.sk-label input.sk-toggleable__control:checked~label.sk-toggleable__label {background-color: #d4ebff;}#sk-container-id-2 input.sk-hidden--visually {border: 0;clip: rect(1px 1px 1px 1px);clip: rect(1px, 1px, 1px, 1px);height: 1px;margin: -1px;overflow: hidden;padding: 0;position: absolute;width: 1px;}#sk-container-id-2 div.sk-estimator {font-family: monospace;background-color: #f0f8ff;border: 1px dotted black;border-radius: 0.25em;box-sizing: border-box;margin-bottom: 0.5em;}#sk-container-id-2 div.sk-estimator:hover {background-color: #d4ebff;}#sk-container-id-2 div.sk-parallel-item::after {content: \"\";width: 100%;border-bottom: 1px solid gray;flex-grow: 1;}#sk-container-id-2 div.sk-label:hover label.sk-toggleable__label {background-color: #d4ebff;}#sk-container-id-2 div.sk-serial::before {content: \"\";position: absolute;border-left: 1px solid gray;box-sizing: border-box;top: 0;bottom: 0;left: 50%;z-index: 0;}#sk-container-id-2 div.sk-serial {display: flex;flex-direction: column;align-items: center;background-color: white;padding-right: 0.2em;padding-left: 0.2em;position: relative;}#sk-container-id-2 div.sk-item {position: relative;z-index: 1;}#sk-container-id-2 div.sk-parallel {display: flex;align-items: stretch;justify-content: center;background-color: white;position: relative;}#sk-container-id-2 div.sk-item::before, #sk-container-id-2 div.sk-parallel-item::before {content: \"\";position: absolute;border-left: 1px solid gray;box-sizing: border-box;top: 0;bottom: 0;left: 50%;z-index: -1;}#sk-container-id-2 div.sk-parallel-item {display: flex;flex-direction: column;z-index: 1;position: relative;background-color: white;}#sk-container-id-2 div.sk-parallel-item:first-child::after {align-self: flex-end;width: 50%;}#sk-container-id-2 div.sk-parallel-item:last-child::after {align-self: flex-start;width: 50%;}#sk-container-id-2 div.sk-parallel-item:only-child::after {width: 0;}#sk-container-id-2 div.sk-dashed-wrapped {border: 1px dashed gray;margin: 0 0.4em 0.5em 0.4em;box-sizing: border-box;padding-bottom: 0.4em;background-color: white;}#sk-container-id-2 div.sk-label label {font-family: monospace;font-weight: bold;display: inline-block;line-height: 1.2em;}#sk-container-id-2 div.sk-label-container {text-align: center;}#sk-container-id-2 div.sk-container {/* jupyter's `normalize.less` sets `[hidden] { display: none; }` but bootstrap.min.css set `[hidden] { display: none !important; }` so we also need the `!important` here to be able to override the default hidden behavior on the sphinx rendered scikit-learn.org. See: https://github.com/scikit-learn/scikit-learn/issues/21755 */display: inline-block !important;position: relative;}#sk-container-id-2 div.sk-text-repr-fallback {display: none;}</style><div id=\"sk-container-id-2\" class=\"sk-top-container\"><div class=\"sk-text-repr-fallback\"><pre>GridSearchCV(estimator=RandomForestClassifier(),\n",
       "             param_grid={&#x27;bootstrap&#x27;: [True, False],\n",
       "                         &#x27;criterion&#x27;: [&#x27;gini&#x27;, &#x27;entropy&#x27;],\n",
       "                         &#x27;max_depth&#x27;: [None, 10, 20, 30],\n",
       "                         &#x27;min_samples_leaf&#x27;: [1, 2, 4],\n",
       "                         &#x27;min_samples_split&#x27;: [2, 5, 10],\n",
       "                         &#x27;n_estimators&#x27;: [10, 50, 100, 200]})</pre><b>In a Jupyter environment, please rerun this cell to show the HTML representation or trust the notebook. <br />On GitHub, the HTML representation is unable to render, please try loading this page with nbviewer.org.</b></div><div class=\"sk-container\" hidden><div class=\"sk-item sk-dashed-wrapped\"><div class=\"sk-label-container\"><div class=\"sk-label sk-toggleable\"><input class=\"sk-toggleable__control sk-hidden--visually\" id=\"sk-estimator-id-4\" type=\"checkbox\" ><label for=\"sk-estimator-id-4\" class=\"sk-toggleable__label sk-toggleable__label-arrow\">GridSearchCV</label><div class=\"sk-toggleable__content\"><pre>GridSearchCV(estimator=RandomForestClassifier(),\n",
       "             param_grid={&#x27;bootstrap&#x27;: [True, False],\n",
       "                         &#x27;criterion&#x27;: [&#x27;gini&#x27;, &#x27;entropy&#x27;],\n",
       "                         &#x27;max_depth&#x27;: [None, 10, 20, 30],\n",
       "                         &#x27;min_samples_leaf&#x27;: [1, 2, 4],\n",
       "                         &#x27;min_samples_split&#x27;: [2, 5, 10],\n",
       "                         &#x27;n_estimators&#x27;: [10, 50, 100, 200]})</pre></div></div></div><div class=\"sk-parallel\"><div class=\"sk-parallel-item\"><div class=\"sk-item\"><div class=\"sk-label-container\"><div class=\"sk-label sk-toggleable\"><input class=\"sk-toggleable__control sk-hidden--visually\" id=\"sk-estimator-id-5\" type=\"checkbox\" ><label for=\"sk-estimator-id-5\" class=\"sk-toggleable__label sk-toggleable__label-arrow\">estimator: RandomForestClassifier</label><div class=\"sk-toggleable__content\"><pre>RandomForestClassifier()</pre></div></div></div><div class=\"sk-serial\"><div class=\"sk-item\"><div class=\"sk-estimator sk-toggleable\"><input class=\"sk-toggleable__control sk-hidden--visually\" id=\"sk-estimator-id-6\" type=\"checkbox\" ><label for=\"sk-estimator-id-6\" class=\"sk-toggleable__label sk-toggleable__label-arrow\">RandomForestClassifier</label><div class=\"sk-toggleable__content\"><pre>RandomForestClassifier()</pre></div></div></div></div></div></div></div></div></div></div>"
      ],
      "text/plain": [
       "GridSearchCV(estimator=RandomForestClassifier(),\n",
       "             param_grid={'bootstrap': [True, False],\n",
       "                         'criterion': ['gini', 'entropy'],\n",
       "                         'max_depth': [None, 10, 20, 30],\n",
       "                         'min_samples_leaf': [1, 2, 4],\n",
       "                         'min_samples_split': [2, 5, 10],\n",
       "                         'n_estimators': [10, 50, 100, 200]})"
      ]
     },
     "execution_count": 39,
     "metadata": {},
     "output_type": "execute_result"
    }
   ],
   "source": [
    "# grid search\n",
    "grid_search = GridSearchCV(model, param_grid=param_grid)\n",
    "\n",
    "grid_search.fit(X_train, y_train)"
   ]
  },
  {
   "cell_type": "code",
   "execution_count": 40,
   "id": "d88632de",
   "metadata": {},
   "outputs": [
    {
     "data": {
      "text/plain": [
       "{'bootstrap': False,\n",
       " 'criterion': 'gini',\n",
       " 'max_depth': 30,\n",
       " 'min_samples_leaf': 1,\n",
       " 'min_samples_split': 2,\n",
       " 'n_estimators': 200}"
      ]
     },
     "execution_count": 40,
     "metadata": {},
     "output_type": "execute_result"
    }
   ],
   "source": [
    "# 최적 파라미터\n",
    "grid_search.best_params_"
   ]
  },
  {
   "cell_type": "code",
   "execution_count": 41,
   "id": "03b7af46",
   "metadata": {},
   "outputs": [
    {
     "name": "stdout",
     "output_type": "stream",
     "text": [
      "Accuracy: 0.9622716441620334\n"
     ]
    }
   ],
   "source": [
    "# accuracy score\n",
    "y_pred = grid_search.best_estimator_.predict(X_test)\n",
    "accuracy = accuracy_score(y_test, y_pred)\n",
    "print('Accuracy:', accuracy)"
   ]
  },
  {
   "cell_type": "markdown",
   "id": "af736507",
   "metadata": {},
   "source": [
    "2.6 Randomized SearchCV와 Grid SearchCV의 차이와 장단점에 대해 설명하세요."
   ]
  },
  {
   "cell_type": "markdown",
   "id": "71357aac",
   "metadata": {},
   "source": [
    "<figure>\n",
    "    <img src=\"https://miro.medium.com/v2/resize:fit:781/1*8uSZqUSGa-UGF-0CDBd4Jw.png\">\n",
    "</figure>"
   ]
  },
  {
   "cell_type": "markdown",
   "id": "5ff50e21",
   "metadata": {},
   "source": [
    "-> Randomized SearchCV는 파라미터 범위 내에서 랜덤하게 조합하는 것을 반복하여 최적의 파라미터를 찾는다. 반면 GridSearchCV는 범위 전체에 대한 모든 조합을 다 살펴본다. 성능 개선 면에서는 그리드서치가 더 뛰어나지만, 모든 조합을 다 살펴보기 때문에 시간이 오래 걸린다."
   ]
  },
  {
   "cell_type": "markdown",
   "id": "e7f88421",
   "metadata": {},
   "source": [
    "2.7 이번엔 Bayesian Optimization을 사용해 파라미터 튜닝을 진행해보겠습니다."
   ]
  },
  {
   "cell_type": "code",
   "execution_count": 34,
   "id": "54ec8277",
   "metadata": {},
   "outputs": [],
   "source": [
    "param_grid = {\n",
    "    'n_estimators': [10, 50, 100, 200],\n",
    "    'max_depth': [None, 10, 20, 30],\n",
    "    'min_samples_split': [2, 5, 10],\n",
    "    'min_samples_leaf': [1, 2, 4],\n",
    "    'bootstrap': [True, False],\n",
    "    'criterion': ['gini', 'entropy']\n",
    "}"
   ]
  },
  {
   "cell_type": "code",
   "execution_count": 42,
   "id": "ed90cd02",
   "metadata": {},
   "outputs": [],
   "source": [
    "params = {\n",
    "    'n_estimators': (10, 200),\n",
    "    'max_depth': (2, 30),\n",
    "    'min_samples_split': (2, 10),\n",
    "    'min_samples_leaf': (1, 4)\n",
    "}\n",
    "\n",
    "def bayesian_rf(n_estimators, max_depth, min_samples_split, min_samples_leaf):\n",
    "  \n",
    "    n_estimators = int(n_estimators)\n",
    "    max_depth = int(max_depth)\n",
    "    min_samples_split = int(min_samples_split)\n",
    "    min_samples_leaf = int(min_samples_leaf)\n",
    "                    \n",
    "    rf = RandomForestClassifier(n_estimators = n_estimators,\n",
    "                                max_depth = max_depth,\n",
    "                                min_samples_split = min_samples_split,\n",
    "                                min_samples_leaf = min_samples_leaf,\n",
    "                                bootstrap = False,\n",
    "                                criterion = 'gini')\n",
    "    \n",
    "    scores = cross_val_score(rf, X_train, y_train, cv=3, scoring='accuracy')\n",
    "    return np.round(np.mean(scores),4)"
   ]
  },
  {
   "cell_type": "code",
   "execution_count": 43,
   "id": "aeebd443",
   "metadata": {},
   "outputs": [
    {
     "name": "stdout",
     "output_type": "stream",
     "text": [
      "|   iter    |  target   | max_depth | min_sa... | min_sa... | n_esti... |\n",
      "-------------------------------------------------------------------------\n",
      "| \u001b[0m1        \u001b[0m | \u001b[0m0.953    \u001b[0m | \u001b[0m21.5     \u001b[0m | \u001b[0m1.858    \u001b[0m | \u001b[0m3.815    \u001b[0m | \u001b[0m114.7    \u001b[0m |\n",
      "| \u001b[0m2        \u001b[0m | \u001b[0m0.9479   \u001b[0m | \u001b[0m22.15    \u001b[0m | \u001b[0m2.269    \u001b[0m | \u001b[0m9.846    \u001b[0m | \u001b[0m140.1    \u001b[0m |\n",
      "| \u001b[0m3        \u001b[0m | \u001b[0m0.9502   \u001b[0m | \u001b[0m15.47    \u001b[0m | \u001b[0m2.176    \u001b[0m | \u001b[0m4.745    \u001b[0m | \u001b[0m148.5    \u001b[0m |\n",
      "| \u001b[0m4        \u001b[0m | \u001b[0m0.9512   \u001b[0m | \u001b[0m14.28    \u001b[0m | \u001b[0m1.179    \u001b[0m | \u001b[0m5.184    \u001b[0m | \u001b[0m150.2    \u001b[0m |\n",
      "| \u001b[0m5        \u001b[0m | \u001b[0m0.9325   \u001b[0m | \u001b[0m7.11     \u001b[0m | \u001b[0m1.526    \u001b[0m | \u001b[0m6.252    \u001b[0m | \u001b[0m111.0    \u001b[0m |\n",
      "| \u001b[95m6        \u001b[0m | \u001b[95m0.9532   \u001b[0m | \u001b[95m30.0     \u001b[0m | \u001b[95m1.339    \u001b[0m | \u001b[95m2.0      \u001b[0m | \u001b[95m120.3    \u001b[0m |\n",
      "| \u001b[0m7        \u001b[0m | \u001b[0m0.9517   \u001b[0m | \u001b[0m30.0     \u001b[0m | \u001b[0m2.181    \u001b[0m | \u001b[0m2.0      \u001b[0m | \u001b[0m106.1    \u001b[0m |\n",
      "| \u001b[0m8        \u001b[0m | \u001b[0m0.9235   \u001b[0m | \u001b[0m5.959    \u001b[0m | \u001b[0m1.755    \u001b[0m | \u001b[0m4.458    \u001b[0m | \u001b[0m166.5    \u001b[0m |\n",
      "| \u001b[0m9        \u001b[0m | \u001b[0m0.949    \u001b[0m | \u001b[0m29.73    \u001b[0m | \u001b[0m1.165    \u001b[0m | \u001b[0m9.886    \u001b[0m | \u001b[0m87.53    \u001b[0m |\n",
      "| \u001b[0m10       \u001b[0m | \u001b[0m0.949    \u001b[0m | \u001b[0m29.45    \u001b[0m | \u001b[0m1.769    \u001b[0m | \u001b[0m9.807    \u001b[0m | \u001b[0m113.3    \u001b[0m |\n",
      "| \u001b[0m11       \u001b[0m | \u001b[0m0.9526   \u001b[0m | \u001b[0m29.01    \u001b[0m | \u001b[0m1.128    \u001b[0m | \u001b[0m2.371    \u001b[0m | \u001b[0m68.87    \u001b[0m |\n",
      "| \u001b[0m12       \u001b[0m | \u001b[0m0.9481   \u001b[0m | \u001b[0m16.3     \u001b[0m | \u001b[0m2.856    \u001b[0m | \u001b[0m9.988    \u001b[0m | \u001b[0m69.26    \u001b[0m |\n",
      "| \u001b[0m13       \u001b[0m | \u001b[0m0.9528   \u001b[0m | \u001b[0m29.66    \u001b[0m | \u001b[0m1.865    \u001b[0m | \u001b[0m2.654    \u001b[0m | \u001b[0m53.89    \u001b[0m |\n",
      "| \u001b[0m14       \u001b[0m | \u001b[0m0.9523   \u001b[0m | \u001b[0m14.81    \u001b[0m | \u001b[0m1.0      \u001b[0m | \u001b[0m2.0      \u001b[0m | \u001b[0m50.64    \u001b[0m |\n",
      "| \u001b[0m15       \u001b[0m | \u001b[0m0.9467   \u001b[0m | \u001b[0m23.69    \u001b[0m | \u001b[0m3.98     \u001b[0m | \u001b[0m10.0     \u001b[0m | \u001b[0m40.49    \u001b[0m |\n",
      "=========================================================================\n"
     ]
    }
   ],
   "source": [
    "#!pip install bayesian-optimization\n",
    "from bayes_opt import BayesianOptimization\n",
    "\n",
    "optimizer = BayesianOptimization(f=bayesian_rf, pbounds=params, random_state=123)\n",
    "\n",
    "# 베이지안 최적화 수행\n",
    "optimizer.maximize(init_points=5, n_iter=10)"
   ]
  },
  {
   "cell_type": "code",
   "execution_count": 44,
   "id": "529ec03a",
   "metadata": {},
   "outputs": [
    {
     "data": {
      "text/plain": [
       "{'max_depth': 30.0,\n",
       " 'min_samples_leaf': 1.338533745874231,\n",
       " 'min_samples_split': 2.0,\n",
       " 'n_estimators': 120.25257802318565}"
      ]
     },
     "execution_count": 44,
     "metadata": {},
     "output_type": "execute_result"
    }
   ],
   "source": [
    "# 최적 파라미터\n",
    "best_param = optimizer.max['params']\n",
    "best_param"
   ]
  },
  {
   "cell_type": "code",
   "execution_count": 45,
   "id": "48d1de85",
   "metadata": {},
   "outputs": [
    {
     "name": "stdout",
     "output_type": "stream",
     "text": [
      "Accuracy: 0.9532\n"
     ]
    }
   ],
   "source": [
    "# accuracy score\n",
    "print('Accuracy:', optimizer.max['target'])"
   ]
  },
  {
   "cell_type": "markdown",
   "id": "84c3e856",
   "metadata": {},
   "source": [
    "2.8 진행한 튜닝 과정에서 찾은 최적의 파라미터 셋으로 다시 학습을 진행한 후 최종 accuracy score을 출력하세요."
   ]
  },
  {
   "cell_type": "code",
   "execution_count": 46,
   "id": "a07f05a5",
   "metadata": {},
   "outputs": [
    {
     "data": {
      "text/plain": [
       "{'bootstrap': False,\n",
       " 'criterion': 'gini',\n",
       " 'max_depth': 30,\n",
       " 'min_samples_leaf': 1,\n",
       " 'min_samples_split': 2,\n",
       " 'n_estimators': 200}"
      ]
     },
     "execution_count": 46,
     "metadata": {},
     "output_type": "execute_result"
    }
   ],
   "source": [
    "# 최적 파라미터\n",
    "grid_search.best_params_"
   ]
  },
  {
   "cell_type": "code",
   "execution_count": 47,
   "id": "d7077cb4",
   "metadata": {},
   "outputs": [
    {
     "name": "stdout",
     "output_type": "stream",
     "text": [
      "Accuracy: 0.9632644956314536\n"
     ]
    }
   ],
   "source": [
    "rf_model = RandomForestClassifier(max_depth = 30,\n",
    "                                  min_samples_leaf = 1,\n",
    "                                  min_samples_split = 2,\n",
    "                                  n_estimators = 200,\n",
    "                                  bootstrap = False,\n",
    "                                  criterion = 'gini')\n",
    "\n",
    "rf_model.fit(X_train, y_train)\n",
    "\n",
    "pred = rf_model.predict(X_test)\n",
    "print('Accuracy:', accuracy_score(pred, y_test))"
   ]
  },
  {
   "cell_type": "markdown",
   "id": "e9b15317",
   "metadata": {},
   "source": [
    "### 3. 자유분석"
   ]
  },
  {
   "cell_type": "markdown",
   "id": "b7fcbd3a",
   "metadata": {},
   "source": [
    "최적의 파라미터 셋을 찾고 성능을 높여보세요."
   ]
  },
  {
   "cell_type": "code",
   "execution_count": 49,
   "id": "7b26a00f",
   "metadata": {},
   "outputs": [],
   "source": [
    "# 데이터셋 나누기 (validation 데이터를 따로 나누지 않음)\n",
    "X_train2, X_test2, y_train2, y_test2 = train_test_split(X_smote, y_smote,\n",
    "                                                   test_size=0.2,\n",
    "                                                   stratify=y_smote,\n",
    "                                                   random_state=123)"
   ]
  },
  {
   "cell_type": "code",
   "execution_count": 50,
   "id": "f1fd461e",
   "metadata": {},
   "outputs": [],
   "source": [
    "# 앞서 나온 최적 파라미터를 참고해 범위를 변경\n",
    "\n",
    "#'bootstrap': False\n",
    "#'criterion': 'gini'\n",
    "#'max_depth': 30\n",
    "#'min_samples_leaf': 1\n",
    "#'min_samples_split': 2\n",
    "#'n_estimators': 200\n",
    "\n",
    "param_grid = {\n",
    "    'n_estimators' : (150, 500),\n",
    "    'max_depth': (20, 50),\n",
    "    'min_samples_split': (2, 5),\n",
    "    'min_samples_leaf': (1, 4),\n",
    "    'bootstrap': [True, False],\n",
    "    'criterion': ['gini', 'entropy']\n",
    "}"
   ]
  },
  {
   "cell_type": "code",
   "execution_count": 51,
   "id": "1a20fb86",
   "metadata": {},
   "outputs": [],
   "source": [
    "# random forest 모델\n",
    "model = RandomForestClassifier()"
   ]
  },
  {
   "cell_type": "code",
   "execution_count": 52,
   "id": "aab82d2d",
   "metadata": {},
   "outputs": [
    {
     "data": {
      "text/html": [
       "<style>#sk-container-id-3 {color: black;}#sk-container-id-3 pre{padding: 0;}#sk-container-id-3 div.sk-toggleable {background-color: white;}#sk-container-id-3 label.sk-toggleable__label {cursor: pointer;display: block;width: 100%;margin-bottom: 0;padding: 0.3em;box-sizing: border-box;text-align: center;}#sk-container-id-3 label.sk-toggleable__label-arrow:before {content: \"▸\";float: left;margin-right: 0.25em;color: #696969;}#sk-container-id-3 label.sk-toggleable__label-arrow:hover:before {color: black;}#sk-container-id-3 div.sk-estimator:hover label.sk-toggleable__label-arrow:before {color: black;}#sk-container-id-3 div.sk-toggleable__content {max-height: 0;max-width: 0;overflow: hidden;text-align: left;background-color: #f0f8ff;}#sk-container-id-3 div.sk-toggleable__content pre {margin: 0.2em;color: black;border-radius: 0.25em;background-color: #f0f8ff;}#sk-container-id-3 input.sk-toggleable__control:checked~div.sk-toggleable__content {max-height: 200px;max-width: 100%;overflow: auto;}#sk-container-id-3 input.sk-toggleable__control:checked~label.sk-toggleable__label-arrow:before {content: \"▾\";}#sk-container-id-3 div.sk-estimator input.sk-toggleable__control:checked~label.sk-toggleable__label {background-color: #d4ebff;}#sk-container-id-3 div.sk-label input.sk-toggleable__control:checked~label.sk-toggleable__label {background-color: #d4ebff;}#sk-container-id-3 input.sk-hidden--visually {border: 0;clip: rect(1px 1px 1px 1px);clip: rect(1px, 1px, 1px, 1px);height: 1px;margin: -1px;overflow: hidden;padding: 0;position: absolute;width: 1px;}#sk-container-id-3 div.sk-estimator {font-family: monospace;background-color: #f0f8ff;border: 1px dotted black;border-radius: 0.25em;box-sizing: border-box;margin-bottom: 0.5em;}#sk-container-id-3 div.sk-estimator:hover {background-color: #d4ebff;}#sk-container-id-3 div.sk-parallel-item::after {content: \"\";width: 100%;border-bottom: 1px solid gray;flex-grow: 1;}#sk-container-id-3 div.sk-label:hover label.sk-toggleable__label {background-color: #d4ebff;}#sk-container-id-3 div.sk-serial::before {content: \"\";position: absolute;border-left: 1px solid gray;box-sizing: border-box;top: 0;bottom: 0;left: 50%;z-index: 0;}#sk-container-id-3 div.sk-serial {display: flex;flex-direction: column;align-items: center;background-color: white;padding-right: 0.2em;padding-left: 0.2em;position: relative;}#sk-container-id-3 div.sk-item {position: relative;z-index: 1;}#sk-container-id-3 div.sk-parallel {display: flex;align-items: stretch;justify-content: center;background-color: white;position: relative;}#sk-container-id-3 div.sk-item::before, #sk-container-id-3 div.sk-parallel-item::before {content: \"\";position: absolute;border-left: 1px solid gray;box-sizing: border-box;top: 0;bottom: 0;left: 50%;z-index: -1;}#sk-container-id-3 div.sk-parallel-item {display: flex;flex-direction: column;z-index: 1;position: relative;background-color: white;}#sk-container-id-3 div.sk-parallel-item:first-child::after {align-self: flex-end;width: 50%;}#sk-container-id-3 div.sk-parallel-item:last-child::after {align-self: flex-start;width: 50%;}#sk-container-id-3 div.sk-parallel-item:only-child::after {width: 0;}#sk-container-id-3 div.sk-dashed-wrapped {border: 1px dashed gray;margin: 0 0.4em 0.5em 0.4em;box-sizing: border-box;padding-bottom: 0.4em;background-color: white;}#sk-container-id-3 div.sk-label label {font-family: monospace;font-weight: bold;display: inline-block;line-height: 1.2em;}#sk-container-id-3 div.sk-label-container {text-align: center;}#sk-container-id-3 div.sk-container {/* jupyter's `normalize.less` sets `[hidden] { display: none; }` but bootstrap.min.css set `[hidden] { display: none !important; }` so we also need the `!important` here to be able to override the default hidden behavior on the sphinx rendered scikit-learn.org. See: https://github.com/scikit-learn/scikit-learn/issues/21755 */display: inline-block !important;position: relative;}#sk-container-id-3 div.sk-text-repr-fallback {display: none;}</style><div id=\"sk-container-id-3\" class=\"sk-top-container\"><div class=\"sk-text-repr-fallback\"><pre>RandomizedSearchCV(estimator=RandomForestClassifier(),\n",
       "                   param_distributions={&#x27;bootstrap&#x27;: [True, False],\n",
       "                                        &#x27;criterion&#x27;: [&#x27;gini&#x27;, &#x27;entropy&#x27;],\n",
       "                                        &#x27;max_depth&#x27;: (20, 50),\n",
       "                                        &#x27;min_samples_leaf&#x27;: (1, 4),\n",
       "                                        &#x27;min_samples_split&#x27;: (2, 5),\n",
       "                                        &#x27;n_estimators&#x27;: (150, 500)})</pre><b>In a Jupyter environment, please rerun this cell to show the HTML representation or trust the notebook. <br />On GitHub, the HTML representation is unable to render, please try loading this page with nbviewer.org.</b></div><div class=\"sk-container\" hidden><div class=\"sk-item sk-dashed-wrapped\"><div class=\"sk-label-container\"><div class=\"sk-label sk-toggleable\"><input class=\"sk-toggleable__control sk-hidden--visually\" id=\"sk-estimator-id-7\" type=\"checkbox\" ><label for=\"sk-estimator-id-7\" class=\"sk-toggleable__label sk-toggleable__label-arrow\">RandomizedSearchCV</label><div class=\"sk-toggleable__content\"><pre>RandomizedSearchCV(estimator=RandomForestClassifier(),\n",
       "                   param_distributions={&#x27;bootstrap&#x27;: [True, False],\n",
       "                                        &#x27;criterion&#x27;: [&#x27;gini&#x27;, &#x27;entropy&#x27;],\n",
       "                                        &#x27;max_depth&#x27;: (20, 50),\n",
       "                                        &#x27;min_samples_leaf&#x27;: (1, 4),\n",
       "                                        &#x27;min_samples_split&#x27;: (2, 5),\n",
       "                                        &#x27;n_estimators&#x27;: (150, 500)})</pre></div></div></div><div class=\"sk-parallel\"><div class=\"sk-parallel-item\"><div class=\"sk-item\"><div class=\"sk-label-container\"><div class=\"sk-label sk-toggleable\"><input class=\"sk-toggleable__control sk-hidden--visually\" id=\"sk-estimator-id-8\" type=\"checkbox\" ><label for=\"sk-estimator-id-8\" class=\"sk-toggleable__label sk-toggleable__label-arrow\">estimator: RandomForestClassifier</label><div class=\"sk-toggleable__content\"><pre>RandomForestClassifier()</pre></div></div></div><div class=\"sk-serial\"><div class=\"sk-item\"><div class=\"sk-estimator sk-toggleable\"><input class=\"sk-toggleable__control sk-hidden--visually\" id=\"sk-estimator-id-9\" type=\"checkbox\" ><label for=\"sk-estimator-id-9\" class=\"sk-toggleable__label sk-toggleable__label-arrow\">RandomForestClassifier</label><div class=\"sk-toggleable__content\"><pre>RandomForestClassifier()</pre></div></div></div></div></div></div></div></div></div></div>"
      ],
      "text/plain": [
       "RandomizedSearchCV(estimator=RandomForestClassifier(),\n",
       "                   param_distributions={'bootstrap': [True, False],\n",
       "                                        'criterion': ['gini', 'entropy'],\n",
       "                                        'max_depth': (20, 50),\n",
       "                                        'min_samples_leaf': (1, 4),\n",
       "                                        'min_samples_split': (2, 5),\n",
       "                                        'n_estimators': (150, 500)})"
      ]
     },
     "execution_count": 52,
     "metadata": {},
     "output_type": "execute_result"
    }
   ],
   "source": [
    "# randomized search (그리드서치가 성능이 더 좋았지만 시간이 너무 오래 걸림..)\n",
    "random_search = RandomizedSearchCV(model, param_distributions=param_grid)\n",
    "\n",
    "random_search.fit(X_train2, y_train2)"
   ]
  },
  {
   "cell_type": "code",
   "execution_count": 54,
   "id": "0fc3fccc",
   "metadata": {},
   "outputs": [
    {
     "data": {
      "text/plain": [
       "{'n_estimators': 150,\n",
       " 'min_samples_split': 2,\n",
       " 'min_samples_leaf': 1,\n",
       " 'max_depth': 50,\n",
       " 'criterion': 'entropy',\n",
       " 'bootstrap': False}"
      ]
     },
     "execution_count": 54,
     "metadata": {},
     "output_type": "execute_result"
    }
   ],
   "source": [
    "# 새로운 최적 파라미터\n",
    "random_search.best_params_"
   ]
  },
  {
   "cell_type": "code",
   "execution_count": 53,
   "id": "ddc1037b",
   "metadata": {},
   "outputs": [
    {
     "name": "stdout",
     "output_type": "stream",
     "text": [
      "Accuracy: 0.965845909451946\n"
     ]
    }
   ],
   "source": [
    "# accuracy score\n",
    "y_pred2 = random_search.best_estimator_.predict(X_test2)\n",
    "accuracy = accuracy_score(y_test2, y_pred2)\n",
    "print('Accuracy:', accuracy)"
   ]
  }
 ],
 "metadata": {
  "kernelspec": {
   "display_name": "Python 3 (ipykernel)",
   "language": "python",
   "name": "python3"
  },
  "language_info": {
   "codemirror_mode": {
    "name": "ipython",
    "version": 3
   },
   "file_extension": ".py",
   "mimetype": "text/x-python",
   "name": "python",
   "nbconvert_exporter": "python",
   "pygments_lexer": "ipython3",
   "version": "3.11.5"
  }
 },
 "nbformat": 4,
 "nbformat_minor": 5
}
