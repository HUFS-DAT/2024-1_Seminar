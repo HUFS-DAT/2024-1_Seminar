{
 "cells": [
  {
   "cell_type": "markdown",
   "id": "3624d070",
   "metadata": {},
   "source": [
    "## 4차 과제 - Hyperparameter Tuning을 해보자\n",
    "- 주제: 하이퍼파라미터 튜닝 기법 학습\n",
    "- 데이터: The History of Baseball(Pitching Data) https://www.kaggle.com/datasets/seanlahman/the-history-of-baseball?select=pitching.csv\n",
    "- 사용 라이브러리: pandas, numpy, matplotlib, sklearn, imblearn, bayes_opt"
   ]
  },
  {
   "cell_type": "markdown",
   "id": "bd5e2107",
   "metadata": {},
   "source": [
    "### 1. EDA, 전처리"
   ]
  },
  {
   "cell_type": "markdown",
   "id": "1671de09",
   "metadata": {},
   "source": [
    "1.1 분석을 위해 사용될 라이브러리들을 import 하세요.\n",
    "\n",
    "numpy, pandas, matplotlib, SMOTE, train_test_split, RandomForestClassifier, RandomizedSearchCV, GridSearchCV, BayesianOptimization, accuracy_score"
   ]
  },
  {
   "cell_type": "code",
   "execution_count": 1,
   "id": "92b33237",
   "metadata": {
    "ExecuteTime": {
     "end_time": "2024-04-05T07:22:11.046968Z",
     "start_time": "2024-04-05T07:22:10.216303Z"
    }
   },
   "outputs": [],
   "source": [
    "import numpy as np\n",
    "import pandas as pd"
   ]
  },
  {
   "cell_type": "markdown",
   "id": "49bc4c60",
   "metadata": {},
   "source": [
    "1.2 데이터를 불러오고 info()를 통해 데이터를 살펴보세요."
   ]
  },
  {
   "cell_type": "code",
   "execution_count": 2,
   "id": "b2b8143b",
   "metadata": {
    "ExecuteTime": {
     "end_time": "2024-04-05T07:22:11.171637Z",
     "start_time": "2024-04-05T07:22:11.048967Z"
    },
    "scrolled": true
   },
   "outputs": [],
   "source": [
    "train=pd.read_csv('pitching.csv')"
   ]
  },
  {
   "cell_type": "code",
   "execution_count": 3,
   "id": "cb5368f9",
   "metadata": {
    "ExecuteTime": {
     "end_time": "2024-04-05T07:22:11.219847Z",
     "start_time": "2024-04-05T07:22:11.172114Z"
    }
   },
   "outputs": [
    {
     "data": {
      "text/html": [
       "<div>\n",
       "<style scoped>\n",
       "    .dataframe tbody tr th:only-of-type {\n",
       "        vertical-align: middle;\n",
       "    }\n",
       "\n",
       "    .dataframe tbody tr th {\n",
       "        vertical-align: top;\n",
       "    }\n",
       "\n",
       "    .dataframe thead th {\n",
       "        text-align: right;\n",
       "    }\n",
       "</style>\n",
       "<table border=\"1\" class=\"dataframe\">\n",
       "  <thead>\n",
       "    <tr style=\"text-align: right;\">\n",
       "      <th></th>\n",
       "      <th>player_id</th>\n",
       "      <th>year</th>\n",
       "      <th>stint</th>\n",
       "      <th>team_id</th>\n",
       "      <th>league_id</th>\n",
       "      <th>w</th>\n",
       "      <th>l</th>\n",
       "      <th>g</th>\n",
       "      <th>gs</th>\n",
       "      <th>cg</th>\n",
       "      <th>...</th>\n",
       "      <th>ibb</th>\n",
       "      <th>wp</th>\n",
       "      <th>hbp</th>\n",
       "      <th>bk</th>\n",
       "      <th>bfp</th>\n",
       "      <th>gf</th>\n",
       "      <th>r</th>\n",
       "      <th>sh</th>\n",
       "      <th>sf</th>\n",
       "      <th>g_idp</th>\n",
       "    </tr>\n",
       "  </thead>\n",
       "  <tbody>\n",
       "    <tr>\n",
       "      <th>0</th>\n",
       "      <td>bechtge01</td>\n",
       "      <td>1871</td>\n",
       "      <td>1</td>\n",
       "      <td>PH1</td>\n",
       "      <td>NaN</td>\n",
       "      <td>1</td>\n",
       "      <td>2</td>\n",
       "      <td>3</td>\n",
       "      <td>3</td>\n",
       "      <td>2</td>\n",
       "      <td>...</td>\n",
       "      <td>NaN</td>\n",
       "      <td>NaN</td>\n",
       "      <td>NaN</td>\n",
       "      <td>0</td>\n",
       "      <td>NaN</td>\n",
       "      <td>NaN</td>\n",
       "      <td>42</td>\n",
       "      <td>NaN</td>\n",
       "      <td>NaN</td>\n",
       "      <td>NaN</td>\n",
       "    </tr>\n",
       "    <tr>\n",
       "      <th>1</th>\n",
       "      <td>brainas01</td>\n",
       "      <td>1871</td>\n",
       "      <td>1</td>\n",
       "      <td>WS3</td>\n",
       "      <td>NaN</td>\n",
       "      <td>12</td>\n",
       "      <td>15</td>\n",
       "      <td>30</td>\n",
       "      <td>30</td>\n",
       "      <td>30</td>\n",
       "      <td>...</td>\n",
       "      <td>NaN</td>\n",
       "      <td>NaN</td>\n",
       "      <td>NaN</td>\n",
       "      <td>0</td>\n",
       "      <td>NaN</td>\n",
       "      <td>NaN</td>\n",
       "      <td>292</td>\n",
       "      <td>NaN</td>\n",
       "      <td>NaN</td>\n",
       "      <td>NaN</td>\n",
       "    </tr>\n",
       "    <tr>\n",
       "      <th>2</th>\n",
       "      <td>fergubo01</td>\n",
       "      <td>1871</td>\n",
       "      <td>1</td>\n",
       "      <td>NY2</td>\n",
       "      <td>NaN</td>\n",
       "      <td>0</td>\n",
       "      <td>0</td>\n",
       "      <td>1</td>\n",
       "      <td>0</td>\n",
       "      <td>0</td>\n",
       "      <td>...</td>\n",
       "      <td>NaN</td>\n",
       "      <td>NaN</td>\n",
       "      <td>NaN</td>\n",
       "      <td>0</td>\n",
       "      <td>NaN</td>\n",
       "      <td>NaN</td>\n",
       "      <td>9</td>\n",
       "      <td>NaN</td>\n",
       "      <td>NaN</td>\n",
       "      <td>NaN</td>\n",
       "    </tr>\n",
       "    <tr>\n",
       "      <th>3</th>\n",
       "      <td>fishech01</td>\n",
       "      <td>1871</td>\n",
       "      <td>1</td>\n",
       "      <td>RC1</td>\n",
       "      <td>NaN</td>\n",
       "      <td>4</td>\n",
       "      <td>16</td>\n",
       "      <td>24</td>\n",
       "      <td>24</td>\n",
       "      <td>22</td>\n",
       "      <td>...</td>\n",
       "      <td>NaN</td>\n",
       "      <td>NaN</td>\n",
       "      <td>NaN</td>\n",
       "      <td>0</td>\n",
       "      <td>NaN</td>\n",
       "      <td>NaN</td>\n",
       "      <td>257</td>\n",
       "      <td>NaN</td>\n",
       "      <td>NaN</td>\n",
       "      <td>NaN</td>\n",
       "    </tr>\n",
       "    <tr>\n",
       "      <th>4</th>\n",
       "      <td>fleetfr01</td>\n",
       "      <td>1871</td>\n",
       "      <td>1</td>\n",
       "      <td>NY2</td>\n",
       "      <td>NaN</td>\n",
       "      <td>0</td>\n",
       "      <td>1</td>\n",
       "      <td>1</td>\n",
       "      <td>1</td>\n",
       "      <td>1</td>\n",
       "      <td>...</td>\n",
       "      <td>NaN</td>\n",
       "      <td>NaN</td>\n",
       "      <td>NaN</td>\n",
       "      <td>0</td>\n",
       "      <td>NaN</td>\n",
       "      <td>NaN</td>\n",
       "      <td>21</td>\n",
       "      <td>NaN</td>\n",
       "      <td>NaN</td>\n",
       "      <td>NaN</td>\n",
       "    </tr>\n",
       "    <tr>\n",
       "      <th>...</th>\n",
       "      <td>...</td>\n",
       "      <td>...</td>\n",
       "      <td>...</td>\n",
       "      <td>...</td>\n",
       "      <td>...</td>\n",
       "      <td>...</td>\n",
       "      <td>...</td>\n",
       "      <td>...</td>\n",
       "      <td>...</td>\n",
       "      <td>...</td>\n",
       "      <td>...</td>\n",
       "      <td>...</td>\n",
       "      <td>...</td>\n",
       "      <td>...</td>\n",
       "      <td>...</td>\n",
       "      <td>...</td>\n",
       "      <td>...</td>\n",
       "      <td>...</td>\n",
       "      <td>...</td>\n",
       "      <td>...</td>\n",
       "      <td>...</td>\n",
       "    </tr>\n",
       "    <tr>\n",
       "      <th>44134</th>\n",
       "      <td>youngch03</td>\n",
       "      <td>2015</td>\n",
       "      <td>1</td>\n",
       "      <td>KCA</td>\n",
       "      <td>AL</td>\n",
       "      <td>11</td>\n",
       "      <td>6</td>\n",
       "      <td>34</td>\n",
       "      <td>18</td>\n",
       "      <td>0</td>\n",
       "      <td>...</td>\n",
       "      <td>0.0</td>\n",
       "      <td>5.0</td>\n",
       "      <td>0.0</td>\n",
       "      <td>0</td>\n",
       "      <td>500.0</td>\n",
       "      <td>3.0</td>\n",
       "      <td>44</td>\n",
       "      <td>4.0</td>\n",
       "      <td>2.0</td>\n",
       "      <td>NaN</td>\n",
       "    </tr>\n",
       "    <tr>\n",
       "      <th>44135</th>\n",
       "      <td>zieglbr01</td>\n",
       "      <td>2015</td>\n",
       "      <td>1</td>\n",
       "      <td>ARI</td>\n",
       "      <td>NL</td>\n",
       "      <td>0</td>\n",
       "      <td>3</td>\n",
       "      <td>66</td>\n",
       "      <td>0</td>\n",
       "      <td>0</td>\n",
       "      <td>...</td>\n",
       "      <td>3.0</td>\n",
       "      <td>2.0</td>\n",
       "      <td>1.0</td>\n",
       "      <td>0</td>\n",
       "      <td>263.0</td>\n",
       "      <td>46.0</td>\n",
       "      <td>17</td>\n",
       "      <td>1.0</td>\n",
       "      <td>0.0</td>\n",
       "      <td>NaN</td>\n",
       "    </tr>\n",
       "    <tr>\n",
       "      <th>44136</th>\n",
       "      <td>zimmejo02</td>\n",
       "      <td>2015</td>\n",
       "      <td>1</td>\n",
       "      <td>WAS</td>\n",
       "      <td>NL</td>\n",
       "      <td>13</td>\n",
       "      <td>10</td>\n",
       "      <td>33</td>\n",
       "      <td>33</td>\n",
       "      <td>0</td>\n",
       "      <td>...</td>\n",
       "      <td>3.0</td>\n",
       "      <td>2.0</td>\n",
       "      <td>8.0</td>\n",
       "      <td>1</td>\n",
       "      <td>831.0</td>\n",
       "      <td>0.0</td>\n",
       "      <td>89</td>\n",
       "      <td>8.0</td>\n",
       "      <td>2.0</td>\n",
       "      <td>NaN</td>\n",
       "    </tr>\n",
       "    <tr>\n",
       "      <th>44137</th>\n",
       "      <td>zitoba01</td>\n",
       "      <td>2015</td>\n",
       "      <td>1</td>\n",
       "      <td>OAK</td>\n",
       "      <td>AL</td>\n",
       "      <td>0</td>\n",
       "      <td>0</td>\n",
       "      <td>3</td>\n",
       "      <td>2</td>\n",
       "      <td>0</td>\n",
       "      <td>...</td>\n",
       "      <td>0.0</td>\n",
       "      <td>0.0</td>\n",
       "      <td>0.0</td>\n",
       "      <td>0</td>\n",
       "      <td>37.0</td>\n",
       "      <td>1.0</td>\n",
       "      <td>8</td>\n",
       "      <td>0.0</td>\n",
       "      <td>0.0</td>\n",
       "      <td>NaN</td>\n",
       "    </tr>\n",
       "    <tr>\n",
       "      <th>44138</th>\n",
       "      <td>zychto01</td>\n",
       "      <td>2015</td>\n",
       "      <td>1</td>\n",
       "      <td>SEA</td>\n",
       "      <td>AL</td>\n",
       "      <td>0</td>\n",
       "      <td>0</td>\n",
       "      <td>13</td>\n",
       "      <td>1</td>\n",
       "      <td>0</td>\n",
       "      <td>...</td>\n",
       "      <td>0.0</td>\n",
       "      <td>1.0</td>\n",
       "      <td>2.0</td>\n",
       "      <td>0</td>\n",
       "      <td>76.0</td>\n",
       "      <td>4.0</td>\n",
       "      <td>6</td>\n",
       "      <td>0.0</td>\n",
       "      <td>0.0</td>\n",
       "      <td>NaN</td>\n",
       "    </tr>\n",
       "  </tbody>\n",
       "</table>\n",
       "<p>44139 rows × 30 columns</p>\n",
       "</div>"
      ],
      "text/plain": [
       "       player_id  year  stint team_id league_id   w   l   g  gs  cg  ...  ibb  \\\n",
       "0      bechtge01  1871      1     PH1       NaN   1   2   3   3   2  ...  NaN   \n",
       "1      brainas01  1871      1     WS3       NaN  12  15  30  30  30  ...  NaN   \n",
       "2      fergubo01  1871      1     NY2       NaN   0   0   1   0   0  ...  NaN   \n",
       "3      fishech01  1871      1     RC1       NaN   4  16  24  24  22  ...  NaN   \n",
       "4      fleetfr01  1871      1     NY2       NaN   0   1   1   1   1  ...  NaN   \n",
       "...          ...   ...    ...     ...       ...  ..  ..  ..  ..  ..  ...  ...   \n",
       "44134  youngch03  2015      1     KCA        AL  11   6  34  18   0  ...  0.0   \n",
       "44135  zieglbr01  2015      1     ARI        NL   0   3  66   0   0  ...  3.0   \n",
       "44136  zimmejo02  2015      1     WAS        NL  13  10  33  33   0  ...  3.0   \n",
       "44137   zitoba01  2015      1     OAK        AL   0   0   3   2   0  ...  0.0   \n",
       "44138   zychto01  2015      1     SEA        AL   0   0  13   1   0  ...  0.0   \n",
       "\n",
       "        wp  hbp  bk    bfp    gf    r   sh   sf  g_idp  \n",
       "0      NaN  NaN   0    NaN   NaN   42  NaN  NaN    NaN  \n",
       "1      NaN  NaN   0    NaN   NaN  292  NaN  NaN    NaN  \n",
       "2      NaN  NaN   0    NaN   NaN    9  NaN  NaN    NaN  \n",
       "3      NaN  NaN   0    NaN   NaN  257  NaN  NaN    NaN  \n",
       "4      NaN  NaN   0    NaN   NaN   21  NaN  NaN    NaN  \n",
       "...    ...  ...  ..    ...   ...  ...  ...  ...    ...  \n",
       "44134  5.0  0.0   0  500.0   3.0   44  4.0  2.0    NaN  \n",
       "44135  2.0  1.0   0  263.0  46.0   17  1.0  0.0    NaN  \n",
       "44136  2.0  8.0   1  831.0   0.0   89  8.0  2.0    NaN  \n",
       "44137  0.0  0.0   0   37.0   1.0    8  0.0  0.0    NaN  \n",
       "44138  1.0  2.0   0   76.0   4.0    6  0.0  0.0    NaN  \n",
       "\n",
       "[44139 rows x 30 columns]"
      ]
     },
     "execution_count": 3,
     "metadata": {},
     "output_type": "execute_result"
    }
   ],
   "source": [
    "train"
   ]
  },
  {
   "cell_type": "code",
   "execution_count": 4,
   "id": "7210010a",
   "metadata": {
    "ExecuteTime": {
     "end_time": "2024-04-05T07:22:11.224666Z",
     "start_time": "2024-04-05T07:22:11.220847Z"
    }
   },
   "outputs": [],
   "source": [
    "#playerID       Player ID code\n",
    "#yearID         Year\n",
    "#stint          player's stint (order of appearances within a season)\n",
    "#teamID         Team\n",
    "#lgID           League\n",
    "#W              Wins\n",
    "#L              Losses\n",
    "#G              Games\n",
    "#GS             Games Started\n",
    "#CG             Complete Games \n",
    "#SHO            Shutouts\n",
    "#SV             Saves\n",
    "#IPOuts         Outs Pitched (innings pitched x 3)\n",
    "#H              Hits\n",
    "#ER             Earned Runs\n",
    "#HR             Homeruns\n",
    "#BB             Walks\n",
    "#SO             Strikeouts\n",
    "#BAOpp          Opponent's Batting Average\n",
    "#ERA            Earned Run Average\n",
    "#IBB            Intentional Walks\n",
    "#WP             Wild Pitches\n",
    "#HBP            Batters Hit By Pitch\n",
    "#BK             Balks\n",
    "#BFP            Batters faced by Pitcher\n",
    "#GF             Games Finished\n",
    "#R              Runs Allowed\n",
    "#SH             Sacrifices by opposing batters\n",
    "#SF             Sacrifice flies by opposing batters\n",
    "#GIDP           Grounded into double plays by opposing batter"
   ]
  },
  {
   "cell_type": "code",
   "execution_count": 5,
   "id": "2de30148",
   "metadata": {
    "ExecuteTime": {
     "end_time": "2024-04-05T07:22:11.244580Z",
     "start_time": "2024-04-05T07:22:11.226663Z"
    }
   },
   "outputs": [
    {
     "name": "stdout",
     "output_type": "stream",
     "text": [
      "<class 'pandas.core.frame.DataFrame'>\n",
      "RangeIndex: 44139 entries, 0 to 44138\n",
      "Data columns (total 30 columns):\n",
      " #   Column     Non-Null Count  Dtype  \n",
      "---  ------     --------------  -----  \n",
      " 0   player_id  44139 non-null  object \n",
      " 1   year       44139 non-null  int64  \n",
      " 2   stint      44139 non-null  int64  \n",
      " 3   team_id    44139 non-null  object \n",
      " 4   league_id  44008 non-null  object \n",
      " 5   w          44139 non-null  int64  \n",
      " 6   l          44139 non-null  int64  \n",
      " 7   g          44139 non-null  int64  \n",
      " 8   gs         44139 non-null  int64  \n",
      " 9   cg         44139 non-null  int64  \n",
      " 10  sho        44139 non-null  int64  \n",
      " 11  sv         44139 non-null  int64  \n",
      " 12  ipouts     44138 non-null  float64\n",
      " 13  h          44139 non-null  int64  \n",
      " 14  er         44139 non-null  int64  \n",
      " 15  hr         44139 non-null  int64  \n",
      " 16  bb         44139 non-null  int64  \n",
      " 17  so         44139 non-null  int64  \n",
      " 18  baopp      42614 non-null  float64\n",
      " 19  era        44049 non-null  float64\n",
      " 20  ibb        29564 non-null  float64\n",
      " 21  wp         44006 non-null  float64\n",
      " 22  hbp        43580 non-null  float64\n",
      " 23  bk         44139 non-null  int64  \n",
      " 24  bfp        43900 non-null  float64\n",
      " 25  gf         44006 non-null  float64\n",
      " 26  r          44139 non-null  int64  \n",
      " 27  sh         11239 non-null  float64\n",
      " 28  sf         11239 non-null  float64\n",
      " 29  g_idp      745 non-null    float64\n",
      "dtypes: float64(11), int64(16), object(3)\n",
      "memory usage: 10.1+ MB\n"
     ]
    }
   ],
   "source": [
    "train.info()"
   ]
  },
  {
   "cell_type": "markdown",
   "id": "4be43ab2",
   "metadata": {},
   "source": [
    "1.3 null 값이 있는 컬럼은 모두 삭제하겠습니다(원래는 다른 처리를 해야 하지만 컬럼 수는 충분하니까..ㅎㅎ 야구 잘 몰라서 그런 거 아닙니다.)."
   ]
  },
  {
   "cell_type": "code",
   "execution_count": 6,
   "id": "793bae0c",
   "metadata": {
    "ExecuteTime": {
     "end_time": "2024-04-05T07:22:11.258751Z",
     "start_time": "2024-04-05T07:22:11.245580Z"
    },
    "scrolled": true
   },
   "outputs": [],
   "source": [
    "train.dropna(axis=1,inplace=True)"
   ]
  },
  {
   "cell_type": "code",
   "execution_count": 7,
   "id": "29ba7531",
   "metadata": {
    "ExecuteTime": {
     "end_time": "2024-04-05T07:22:11.265373Z",
     "start_time": "2024-04-05T07:22:11.260744Z"
    }
   },
   "outputs": [
    {
     "data": {
      "text/plain": [
       "Index(['player_id', 'year', 'stint', 'team_id', 'w', 'l', 'g', 'gs', 'cg',\n",
       "       'sho', 'sv', 'h', 'er', 'hr', 'bb', 'so', 'bk', 'r'],\n",
       "      dtype='object')"
      ]
     },
     "execution_count": 7,
     "metadata": {},
     "output_type": "execute_result"
    }
   ],
   "source": [
    "train.columns"
   ]
  },
  {
   "cell_type": "markdown",
   "id": "b6ec78ec",
   "metadata": {},
   "source": [
    "1.4 연도 별로 몇개의 데이터가 있는 지 확인 후 데이터가 얼마 없는 과거 데이터는 삭제하겠습니다. 이를 위해 연도 별 데이터 수를 계산하고 line plot으로 그리세요."
   ]
  },
  {
   "cell_type": "code",
   "execution_count": 8,
   "id": "8c0eec99",
   "metadata": {
    "ExecuteTime": {
     "end_time": "2024-04-05T07:22:12.941575Z",
     "start_time": "2024-04-05T07:22:11.267365Z"
    }
   },
   "outputs": [
    {
     "data": {
      "text/plain": [
       "<Axes: xlabel='year', ylabel='Number of Records'>"
      ]
     },
     "execution_count": 8,
     "metadata": {},
     "output_type": "execute_result"
    },
    {
     "data": {
      "image/png": "[encoded data removed]",
      "text/plain": [
       "<Figure size 1000x600 with 1 Axes>"
      ]
     },
     "metadata": {},
     "output_type": "display_data"
    }
   ],
   "source": [
    "import seaborn as sns\n",
    "import matplotlib.pyplot as plt\n",
    "plt.figure(figsize=(10, 6))\n",
    "plt.xlabel('year')\n",
    "plt.ylabel('Number of Records')\n",
    "plt.grid()\n",
    "sns.lineplot(x=train['year'].unique(),y=train['year'].value_counts(sort=False),marker='o')"
   ]
  },
  {
   "cell_type": "markdown",
   "id": "9757fcdb",
   "metadata": {},
   "source": [
    "1.5 보다 최신 분석을 위해 1980년 이후의 데이터만 남기고 몇개의 데이터가 남았는지 확인하세요."
   ]
  },
  {
   "cell_type": "code",
   "execution_count": 9,
   "id": "7d2dcafa",
   "metadata": {
    "ExecuteTime": {
     "end_time": "2024-04-05T07:22:12.947941Z",
     "start_time": "2024-04-05T07:22:12.942576Z"
    }
   },
   "outputs": [],
   "source": [
    "train=train[train['year']>=1980]"
   ]
  },
  {
   "cell_type": "code",
   "execution_count": 10,
   "id": "bf1973fb",
   "metadata": {
    "ExecuteTime": {
     "end_time": "2024-04-05T07:22:12.961936Z",
     "start_time": "2024-04-05T07:22:12.948942Z"
    }
   },
   "outputs": [
    {
     "data": {
      "text/html": [
       "<div>\n",
       "<style scoped>\n",
       "    .dataframe tbody tr th:only-of-type {\n",
       "        vertical-align: middle;\n",
       "    }\n",
       "\n",
       "    .dataframe tbody tr th {\n",
       "        vertical-align: top;\n",
       "    }\n",
       "\n",
       "    .dataframe thead th {\n",
       "        text-align: right;\n",
       "    }\n",
       "</style>\n",
       "<table border=\"1\" class=\"dataframe\">\n",
       "  <thead>\n",
       "    <tr style=\"text-align: right;\">\n",
       "      <th></th>\n",
       "      <th>player_id</th>\n",
       "      <th>year</th>\n",
       "      <th>stint</th>\n",
       "      <th>team_id</th>\n",
       "      <th>w</th>\n",
       "      <th>l</th>\n",
       "      <th>g</th>\n",
       "      <th>gs</th>\n",
       "      <th>cg</th>\n",
       "      <th>sho</th>\n",
       "      <th>sv</th>\n",
       "      <th>h</th>\n",
       "      <th>er</th>\n",
       "      <th>hr</th>\n",
       "      <th>bb</th>\n",
       "      <th>so</th>\n",
       "      <th>bk</th>\n",
       "      <th>r</th>\n",
       "    </tr>\n",
       "  </thead>\n",
       "  <tbody>\n",
       "    <tr>\n",
       "      <th>22982</th>\n",
       "      <td>aasedo01</td>\n",
       "      <td>1980</td>\n",
       "      <td>1</td>\n",
       "      <td>CAL</td>\n",
       "      <td>8</td>\n",
       "      <td>13</td>\n",
       "      <td>40</td>\n",
       "      <td>21</td>\n",
       "      <td>5</td>\n",
       "      <td>1</td>\n",
       "      <td>2</td>\n",
       "      <td>193</td>\n",
       "      <td>79</td>\n",
       "      <td>13</td>\n",
       "      <td>66</td>\n",
       "      <td>74</td>\n",
       "      <td>1</td>\n",
       "      <td>83</td>\n",
       "    </tr>\n",
       "    <tr>\n",
       "      <th>22983</th>\n",
       "      <td>abbotgl01</td>\n",
       "      <td>1980</td>\n",
       "      <td>1</td>\n",
       "      <td>SEA</td>\n",
       "      <td>12</td>\n",
       "      <td>12</td>\n",
       "      <td>31</td>\n",
       "      <td>31</td>\n",
       "      <td>7</td>\n",
       "      <td>2</td>\n",
       "      <td>0</td>\n",
       "      <td>228</td>\n",
       "      <td>98</td>\n",
       "      <td>27</td>\n",
       "      <td>49</td>\n",
       "      <td>78</td>\n",
       "      <td>1</td>\n",
       "      <td>110</td>\n",
       "    </tr>\n",
       "    <tr>\n",
       "      <th>22984</th>\n",
       "      <td>alexado01</td>\n",
       "      <td>1980</td>\n",
       "      <td>1</td>\n",
       "      <td>ATL</td>\n",
       "      <td>14</td>\n",
       "      <td>11</td>\n",
       "      <td>35</td>\n",
       "      <td>35</td>\n",
       "      <td>7</td>\n",
       "      <td>1</td>\n",
       "      <td>0</td>\n",
       "      <td>227</td>\n",
       "      <td>108</td>\n",
       "      <td>20</td>\n",
       "      <td>74</td>\n",
       "      <td>114</td>\n",
       "      <td>0</td>\n",
       "      <td>120</td>\n",
       "    </tr>\n",
       "    <tr>\n",
       "      <th>22985</th>\n",
       "      <td>allarbr01</td>\n",
       "      <td>1980</td>\n",
       "      <td>1</td>\n",
       "      <td>TEX</td>\n",
       "      <td>0</td>\n",
       "      <td>1</td>\n",
       "      <td>5</td>\n",
       "      <td>2</td>\n",
       "      <td>0</td>\n",
       "      <td>0</td>\n",
       "      <td>0</td>\n",
       "      <td>13</td>\n",
       "      <td>9</td>\n",
       "      <td>0</td>\n",
       "      <td>10</td>\n",
       "      <td>10</td>\n",
       "      <td>0</td>\n",
       "      <td>13</td>\n",
       "    </tr>\n",
       "    <tr>\n",
       "      <th>22986</th>\n",
       "      <td>allenne01</td>\n",
       "      <td>1980</td>\n",
       "      <td>1</td>\n",
       "      <td>NYN</td>\n",
       "      <td>7</td>\n",
       "      <td>10</td>\n",
       "      <td>59</td>\n",
       "      <td>0</td>\n",
       "      <td>0</td>\n",
       "      <td>0</td>\n",
       "      <td>22</td>\n",
       "      <td>87</td>\n",
       "      <td>40</td>\n",
       "      <td>7</td>\n",
       "      <td>40</td>\n",
       "      <td>79</td>\n",
       "      <td>1</td>\n",
       "      <td>43</td>\n",
       "    </tr>\n",
       "    <tr>\n",
       "      <th>...</th>\n",
       "      <td>...</td>\n",
       "      <td>...</td>\n",
       "      <td>...</td>\n",
       "      <td>...</td>\n",
       "      <td>...</td>\n",
       "      <td>...</td>\n",
       "      <td>...</td>\n",
       "      <td>...</td>\n",
       "      <td>...</td>\n",
       "      <td>...</td>\n",
       "      <td>...</td>\n",
       "      <td>...</td>\n",
       "      <td>...</td>\n",
       "      <td>...</td>\n",
       "      <td>...</td>\n",
       "      <td>...</td>\n",
       "      <td>...</td>\n",
       "      <td>...</td>\n",
       "    </tr>\n",
       "    <tr>\n",
       "      <th>44134</th>\n",
       "      <td>youngch03</td>\n",
       "      <td>2015</td>\n",
       "      <td>1</td>\n",
       "      <td>KCA</td>\n",
       "      <td>11</td>\n",
       "      <td>6</td>\n",
       "      <td>34</td>\n",
       "      <td>18</td>\n",
       "      <td>0</td>\n",
       "      <td>0</td>\n",
       "      <td>0</td>\n",
       "      <td>91</td>\n",
       "      <td>42</td>\n",
       "      <td>16</td>\n",
       "      <td>43</td>\n",
       "      <td>83</td>\n",
       "      <td>0</td>\n",
       "      <td>44</td>\n",
       "    </tr>\n",
       "    <tr>\n",
       "      <th>44135</th>\n",
       "      <td>zieglbr01</td>\n",
       "      <td>2015</td>\n",
       "      <td>1</td>\n",
       "      <td>ARI</td>\n",
       "      <td>0</td>\n",
       "      <td>3</td>\n",
       "      <td>66</td>\n",
       "      <td>0</td>\n",
       "      <td>0</td>\n",
       "      <td>0</td>\n",
       "      <td>30</td>\n",
       "      <td>48</td>\n",
       "      <td>14</td>\n",
       "      <td>3</td>\n",
       "      <td>17</td>\n",
       "      <td>36</td>\n",
       "      <td>0</td>\n",
       "      <td>17</td>\n",
       "    </tr>\n",
       "    <tr>\n",
       "      <th>44136</th>\n",
       "      <td>zimmejo02</td>\n",
       "      <td>2015</td>\n",
       "      <td>1</td>\n",
       "      <td>WAS</td>\n",
       "      <td>13</td>\n",
       "      <td>10</td>\n",
       "      <td>33</td>\n",
       "      <td>33</td>\n",
       "      <td>0</td>\n",
       "      <td>0</td>\n",
       "      <td>0</td>\n",
       "      <td>204</td>\n",
       "      <td>82</td>\n",
       "      <td>24</td>\n",
       "      <td>39</td>\n",
       "      <td>164</td>\n",
       "      <td>1</td>\n",
       "      <td>89</td>\n",
       "    </tr>\n",
       "    <tr>\n",
       "      <th>44137</th>\n",
       "      <td>zitoba01</td>\n",
       "      <td>2015</td>\n",
       "      <td>1</td>\n",
       "      <td>OAK</td>\n",
       "      <td>0</td>\n",
       "      <td>0</td>\n",
       "      <td>3</td>\n",
       "      <td>2</td>\n",
       "      <td>0</td>\n",
       "      <td>0</td>\n",
       "      <td>0</td>\n",
       "      <td>12</td>\n",
       "      <td>8</td>\n",
       "      <td>4</td>\n",
       "      <td>6</td>\n",
       "      <td>2</td>\n",
       "      <td>0</td>\n",
       "      <td>8</td>\n",
       "    </tr>\n",
       "    <tr>\n",
       "      <th>44138</th>\n",
       "      <td>zychto01</td>\n",
       "      <td>2015</td>\n",
       "      <td>1</td>\n",
       "      <td>SEA</td>\n",
       "      <td>0</td>\n",
       "      <td>0</td>\n",
       "      <td>13</td>\n",
       "      <td>1</td>\n",
       "      <td>0</td>\n",
       "      <td>0</td>\n",
       "      <td>0</td>\n",
       "      <td>17</td>\n",
       "      <td>5</td>\n",
       "      <td>1</td>\n",
       "      <td>3</td>\n",
       "      <td>24</td>\n",
       "      <td>0</td>\n",
       "      <td>6</td>\n",
       "    </tr>\n",
       "  </tbody>\n",
       "</table>\n",
       "<p>21157 rows × 18 columns</p>\n",
       "</div>"
      ],
      "text/plain": [
       "       player_id  year  stint team_id   w   l   g  gs  cg  sho  sv    h   er  \\\n",
       "22982   aasedo01  1980      1     CAL   8  13  40  21   5    1   2  193   79   \n",
       "22983  abbotgl01  1980      1     SEA  12  12  31  31   7    2   0  228   98   \n",
       "22984  alexado01  1980      1     ATL  14  11  35  35   7    1   0  227  108   \n",
       "22985  allarbr01  1980      1     TEX   0   1   5   2   0    0   0   13    9   \n",
       "22986  allenne01  1980      1     NYN   7  10  59   0   0    0  22   87   40   \n",
       "...          ...   ...    ...     ...  ..  ..  ..  ..  ..  ...  ..  ...  ...   \n",
       "44134  youngch03  2015      1     KCA  11   6  34  18   0    0   0   91   42   \n",
       "44135  zieglbr01  2015      1     ARI   0   3  66   0   0    0  30   48   14   \n",
       "44136  zimmejo02  2015      1     WAS  13  10  33  33   0    0   0  204   82   \n",
       "44137   zitoba01  2015      1     OAK   0   0   3   2   0    0   0   12    8   \n",
       "44138   zychto01  2015      1     SEA   0   0  13   1   0    0   0   17    5   \n",
       "\n",
       "       hr  bb   so  bk    r  \n",
       "22982  13  66   74   1   83  \n",
       "22983  27  49   78   1  110  \n",
       "22984  20  74  114   0  120  \n",
       "22985   0  10   10   0   13  \n",
       "22986   7  40   79   1   43  \n",
       "...    ..  ..  ...  ..  ...  \n",
       "44134  16  43   83   0   44  \n",
       "44135   3  17   36   0   17  \n",
       "44136  24  39  164   1   89  \n",
       "44137   4   6    2   0    8  \n",
       "44138   1   3   24   0    6  \n",
       "\n",
       "[21157 rows x 18 columns]"
      ]
     },
     "execution_count": 10,
     "metadata": {},
     "output_type": "execute_result"
    }
   ],
   "source": [
    "train"
   ]
  },
  {
   "cell_type": "markdown",
   "id": "f7d0b952",
   "metadata": {},
   "source": [
    "1.6 reset_index()를 통해 재배열하세요."
   ]
  },
  {
   "cell_type": "code",
   "execution_count": 11,
   "id": "34a7362e",
   "metadata": {
    "ExecuteTime": {
     "end_time": "2024-04-05T07:22:12.967038Z",
     "start_time": "2024-04-05T07:22:12.962936Z"
    }
   },
   "outputs": [],
   "source": [
    "train.reset_index(inplace=True)"
   ]
  },
  {
   "cell_type": "code",
   "execution_count": 12,
   "id": "fd699ed7",
   "metadata": {
    "ExecuteTime": {
     "end_time": "2024-04-05T07:22:12.983423Z",
     "start_time": "2024-04-05T07:22:12.969031Z"
    }
   },
   "outputs": [
    {
     "data": {
      "text/html": [
       "<div>\n",
       "<style scoped>\n",
       "    .dataframe tbody tr th:only-of-type {\n",
       "        vertical-align: middle;\n",
       "    }\n",
       "\n",
       "    .dataframe tbody tr th {\n",
       "        vertical-align: top;\n",
       "    }\n",
       "\n",
       "    .dataframe thead th {\n",
       "        text-align: right;\n",
       "    }\n",
       "</style>\n",
       "<table border=\"1\" class=\"dataframe\">\n",
       "  <thead>\n",
       "    <tr style=\"text-align: right;\">\n",
       "      <th></th>\n",
       "      <th>index</th>\n",
       "      <th>player_id</th>\n",
       "      <th>year</th>\n",
       "      <th>stint</th>\n",
       "      <th>team_id</th>\n",
       "      <th>w</th>\n",
       "      <th>l</th>\n",
       "      <th>g</th>\n",
       "      <th>gs</th>\n",
       "      <th>cg</th>\n",
       "      <th>sho</th>\n",
       "      <th>sv</th>\n",
       "      <th>h</th>\n",
       "      <th>er</th>\n",
       "      <th>hr</th>\n",
       "      <th>bb</th>\n",
       "      <th>so</th>\n",
       "      <th>bk</th>\n",
       "      <th>r</th>\n",
       "    </tr>\n",
       "  </thead>\n",
       "  <tbody>\n",
       "    <tr>\n",
       "      <th>0</th>\n",
       "      <td>22982</td>\n",
       "      <td>aasedo01</td>\n",
       "      <td>1980</td>\n",
       "      <td>1</td>\n",
       "      <td>CAL</td>\n",
       "      <td>8</td>\n",
       "      <td>13</td>\n",
       "      <td>40</td>\n",
       "      <td>21</td>\n",
       "      <td>5</td>\n",
       "      <td>1</td>\n",
       "      <td>2</td>\n",
       "      <td>193</td>\n",
       "      <td>79</td>\n",
       "      <td>13</td>\n",
       "      <td>66</td>\n",
       "      <td>74</td>\n",
       "      <td>1</td>\n",
       "      <td>83</td>\n",
       "    </tr>\n",
       "    <tr>\n",
       "      <th>1</th>\n",
       "      <td>22983</td>\n",
       "      <td>abbotgl01</td>\n",
       "      <td>1980</td>\n",
       "      <td>1</td>\n",
       "      <td>SEA</td>\n",
       "      <td>12</td>\n",
       "      <td>12</td>\n",
       "      <td>31</td>\n",
       "      <td>31</td>\n",
       "      <td>7</td>\n",
       "      <td>2</td>\n",
       "      <td>0</td>\n",
       "      <td>228</td>\n",
       "      <td>98</td>\n",
       "      <td>27</td>\n",
       "      <td>49</td>\n",
       "      <td>78</td>\n",
       "      <td>1</td>\n",
       "      <td>110</td>\n",
       "    </tr>\n",
       "    <tr>\n",
       "      <th>2</th>\n",
       "      <td>22984</td>\n",
       "      <td>alexado01</td>\n",
       "      <td>1980</td>\n",
       "      <td>1</td>\n",
       "      <td>ATL</td>\n",
       "      <td>14</td>\n",
       "      <td>11</td>\n",
       "      <td>35</td>\n",
       "      <td>35</td>\n",
       "      <td>7</td>\n",
       "      <td>1</td>\n",
       "      <td>0</td>\n",
       "      <td>227</td>\n",
       "      <td>108</td>\n",
       "      <td>20</td>\n",
       "      <td>74</td>\n",
       "      <td>114</td>\n",
       "      <td>0</td>\n",
       "      <td>120</td>\n",
       "    </tr>\n",
       "    <tr>\n",
       "      <th>3</th>\n",
       "      <td>22985</td>\n",
       "      <td>allarbr01</td>\n",
       "      <td>1980</td>\n",
       "      <td>1</td>\n",
       "      <td>TEX</td>\n",
       "      <td>0</td>\n",
       "      <td>1</td>\n",
       "      <td>5</td>\n",
       "      <td>2</td>\n",
       "      <td>0</td>\n",
       "      <td>0</td>\n",
       "      <td>0</td>\n",
       "      <td>13</td>\n",
       "      <td>9</td>\n",
       "      <td>0</td>\n",
       "      <td>10</td>\n",
       "      <td>10</td>\n",
       "      <td>0</td>\n",
       "      <td>13</td>\n",
       "    </tr>\n",
       "    <tr>\n",
       "      <th>4</th>\n",
       "      <td>22986</td>\n",
       "      <td>allenne01</td>\n",
       "      <td>1980</td>\n",
       "      <td>1</td>\n",
       "      <td>NYN</td>\n",
       "      <td>7</td>\n",
       "      <td>10</td>\n",
       "      <td>59</td>\n",
       "      <td>0</td>\n",
       "      <td>0</td>\n",
       "      <td>0</td>\n",
       "      <td>22</td>\n",
       "      <td>87</td>\n",
       "      <td>40</td>\n",
       "      <td>7</td>\n",
       "      <td>40</td>\n",
       "      <td>79</td>\n",
       "      <td>1</td>\n",
       "      <td>43</td>\n",
       "    </tr>\n",
       "    <tr>\n",
       "      <th>...</th>\n",
       "      <td>...</td>\n",
       "      <td>...</td>\n",
       "      <td>...</td>\n",
       "      <td>...</td>\n",
       "      <td>...</td>\n",
       "      <td>...</td>\n",
       "      <td>...</td>\n",
       "      <td>...</td>\n",
       "      <td>...</td>\n",
       "      <td>...</td>\n",
       "      <td>...</td>\n",
       "      <td>...</td>\n",
       "      <td>...</td>\n",
       "      <td>...</td>\n",
       "      <td>...</td>\n",
       "      <td>...</td>\n",
       "      <td>...</td>\n",
       "      <td>...</td>\n",
       "      <td>...</td>\n",
       "    </tr>\n",
       "    <tr>\n",
       "      <th>21152</th>\n",
       "      <td>44134</td>\n",
       "      <td>youngch03</td>\n",
       "      <td>2015</td>\n",
       "      <td>1</td>\n",
       "      <td>KCA</td>\n",
       "      <td>11</td>\n",
       "      <td>6</td>\n",
       "      <td>34</td>\n",
       "      <td>18</td>\n",
       "      <td>0</td>\n",
       "      <td>0</td>\n",
       "      <td>0</td>\n",
       "      <td>91</td>\n",
       "      <td>42</td>\n",
       "      <td>16</td>\n",
       "      <td>43</td>\n",
       "      <td>83</td>\n",
       "      <td>0</td>\n",
       "      <td>44</td>\n",
       "    </tr>\n",
       "    <tr>\n",
       "      <th>21153</th>\n",
       "      <td>44135</td>\n",
       "      <td>zieglbr01</td>\n",
       "      <td>2015</td>\n",
       "      <td>1</td>\n",
       "      <td>ARI</td>\n",
       "      <td>0</td>\n",
       "      <td>3</td>\n",
       "      <td>66</td>\n",
       "      <td>0</td>\n",
       "      <td>0</td>\n",
       "      <td>0</td>\n",
       "      <td>30</td>\n",
       "      <td>48</td>\n",
       "      <td>14</td>\n",
       "      <td>3</td>\n",
       "      <td>17</td>\n",
       "      <td>36</td>\n",
       "      <td>0</td>\n",
       "      <td>17</td>\n",
       "    </tr>\n",
       "    <tr>\n",
       "      <th>21154</th>\n",
       "      <td>44136</td>\n",
       "      <td>zimmejo02</td>\n",
       "      <td>2015</td>\n",
       "      <td>1</td>\n",
       "      <td>WAS</td>\n",
       "      <td>13</td>\n",
       "      <td>10</td>\n",
       "      <td>33</td>\n",
       "      <td>33</td>\n",
       "      <td>0</td>\n",
       "      <td>0</td>\n",
       "      <td>0</td>\n",
       "      <td>204</td>\n",
       "      <td>82</td>\n",
       "      <td>24</td>\n",
       "      <td>39</td>\n",
       "      <td>164</td>\n",
       "      <td>1</td>\n",
       "      <td>89</td>\n",
       "    </tr>\n",
       "    <tr>\n",
       "      <th>21155</th>\n",
       "      <td>44137</td>\n",
       "      <td>zitoba01</td>\n",
       "      <td>2015</td>\n",
       "      <td>1</td>\n",
       "      <td>OAK</td>\n",
       "      <td>0</td>\n",
       "      <td>0</td>\n",
       "      <td>3</td>\n",
       "      <td>2</td>\n",
       "      <td>0</td>\n",
       "      <td>0</td>\n",
       "      <td>0</td>\n",
       "      <td>12</td>\n",
       "      <td>8</td>\n",
       "      <td>4</td>\n",
       "      <td>6</td>\n",
       "      <td>2</td>\n",
       "      <td>0</td>\n",
       "      <td>8</td>\n",
       "    </tr>\n",
       "    <tr>\n",
       "      <th>21156</th>\n",
       "      <td>44138</td>\n",
       "      <td>zychto01</td>\n",
       "      <td>2015</td>\n",
       "      <td>1</td>\n",
       "      <td>SEA</td>\n",
       "      <td>0</td>\n",
       "      <td>0</td>\n",
       "      <td>13</td>\n",
       "      <td>1</td>\n",
       "      <td>0</td>\n",
       "      <td>0</td>\n",
       "      <td>0</td>\n",
       "      <td>17</td>\n",
       "      <td>5</td>\n",
       "      <td>1</td>\n",
       "      <td>3</td>\n",
       "      <td>24</td>\n",
       "      <td>0</td>\n",
       "      <td>6</td>\n",
       "    </tr>\n",
       "  </tbody>\n",
       "</table>\n",
       "<p>21157 rows × 19 columns</p>\n",
       "</div>"
      ],
      "text/plain": [
       "       index  player_id  year  stint team_id   w   l   g  gs  cg  sho  sv  \\\n",
       "0      22982   aasedo01  1980      1     CAL   8  13  40  21   5    1   2   \n",
       "1      22983  abbotgl01  1980      1     SEA  12  12  31  31   7    2   0   \n",
       "2      22984  alexado01  1980      1     ATL  14  11  35  35   7    1   0   \n",
       "3      22985  allarbr01  1980      1     TEX   0   1   5   2   0    0   0   \n",
       "4      22986  allenne01  1980      1     NYN   7  10  59   0   0    0  22   \n",
       "...      ...        ...   ...    ...     ...  ..  ..  ..  ..  ..  ...  ..   \n",
       "21152  44134  youngch03  2015      1     KCA  11   6  34  18   0    0   0   \n",
       "21153  44135  zieglbr01  2015      1     ARI   0   3  66   0   0    0  30   \n",
       "21154  44136  zimmejo02  2015      1     WAS  13  10  33  33   0    0   0   \n",
       "21155  44137   zitoba01  2015      1     OAK   0   0   3   2   0    0   0   \n",
       "21156  44138   zychto01  2015      1     SEA   0   0  13   1   0    0   0   \n",
       "\n",
       "         h   er  hr  bb   so  bk    r  \n",
       "0      193   79  13  66   74   1   83  \n",
       "1      228   98  27  49   78   1  110  \n",
       "2      227  108  20  74  114   0  120  \n",
       "3       13    9   0  10   10   0   13  \n",
       "4       87   40   7  40   79   1   43  \n",
       "...    ...  ...  ..  ..  ...  ..  ...  \n",
       "21152   91   42  16  43   83   0   44  \n",
       "21153   48   14   3  17   36   0   17  \n",
       "21154  204   82  24  39  164   1   89  \n",
       "21155   12    8   4   6    2   0    8  \n",
       "21156   17    5   1   3   24   0    6  \n",
       "\n",
       "[21157 rows x 19 columns]"
      ]
     },
     "execution_count": 12,
     "metadata": {},
     "output_type": "execute_result"
    }
   ],
   "source": [
    "train"
   ]
  },
  {
   "cell_type": "markdown",
   "id": "6d99d662",
   "metadata": {},
   "source": [
    "1.7 투수의 승리 수를 예측해보겠습니다. w 컬럼의 value를 확인해보세요."
   ]
  },
  {
   "cell_type": "code",
   "execution_count": 13,
   "id": "0a09df0a",
   "metadata": {
    "ExecuteTime": {
     "end_time": "2024-04-05T07:22:12.989918Z",
     "start_time": "2024-04-05T07:22:12.984422Z"
    }
   },
   "outputs": [
    {
     "data": {
      "text/plain": [
       "w\n",
       "0     5854\n",
       "1     3197\n",
       "2     2356\n",
       "3     1744\n",
       "4     1453\n",
       "5     1114\n",
       "6      878\n",
       "7      730\n",
       "9      560\n",
       "8      557\n",
       "10     450\n",
       "11     434\n",
       "12     384\n",
       "13     317\n",
       "14     287\n",
       "15     242\n",
       "16     193\n",
       "17     125\n",
       "18     102\n",
       "19      61\n",
       "20      53\n",
       "21      32\n",
       "22      17\n",
       "24       8\n",
       "23       7\n",
       "25       1\n",
       "27       1\n",
       "Name: count, dtype: int64"
      ]
     },
     "execution_count": 13,
     "metadata": {},
     "output_type": "execute_result"
    }
   ],
   "source": [
    "train['w'].value_counts()"
   ]
  },
  {
   "cell_type": "markdown",
   "id": "2286f0a8",
   "metadata": {},
   "source": [
    "1.8 0승 투수(출전하지 않은 경우도 존재)가 많으므로 승리 수가 0인 데이터는 삭제하겠습니다."
   ]
  },
  {
   "cell_type": "code",
   "execution_count": 14,
   "id": "47b89975",
   "metadata": {
    "ExecuteTime": {
     "end_time": "2024-04-05T07:22:12.999411Z",
     "start_time": "2024-04-05T07:22:12.994420Z"
    }
   },
   "outputs": [],
   "source": [
    "train=train[train['w']>0]"
   ]
  },
  {
   "cell_type": "code",
   "execution_count": 15,
   "id": "01eed950",
   "metadata": {
    "ExecuteTime": {
     "end_time": "2024-04-05T07:22:13.005315Z",
     "start_time": "2024-04-05T07:22:13.001409Z"
    }
   },
   "outputs": [
    {
     "data": {
      "text/plain": [
       "15303"
      ]
     },
     "execution_count": 15,
     "metadata": {},
     "output_type": "execute_result"
    }
   ],
   "source": [
    "train['w'].count()"
   ]
  },
  {
   "cell_type": "markdown",
   "id": "95f5accb",
   "metadata": {},
   "source": [
    "1.9 Regression이 아닌 Classification으로 분석해보겠습니다. 이를 위해 10을 기준으로 w를 10승 이상이면 1, 10승 미만이면 0인 Binary 형태로 변환하세요."
   ]
  },
  {
   "cell_type": "code",
   "execution_count": 16,
   "id": "53eaa5e5",
   "metadata": {
    "ExecuteTime": {
     "end_time": "2024-04-05T07:22:13.011098Z",
     "start_time": "2024-04-05T07:22:13.006315Z"
    },
    "scrolled": true
   },
   "outputs": [],
   "source": [
    "train.loc[train['w'] < 10, 'w'] = 0\n",
    "train.loc[train['w'] >= 10, 'w'] = 1"
   ]
  },
  {
   "cell_type": "markdown",
   "id": "f0cda52e",
   "metadata": {},
   "source": [
    "1.10 value_counts()를 통해 잘 나눠졌는지 확인해보세요."
   ]
  },
  {
   "cell_type": "code",
   "execution_count": 17,
   "id": "987661b0",
   "metadata": {
    "ExecuteTime": {
     "end_time": "2024-04-05T07:22:13.017830Z",
     "start_time": "2024-04-05T07:22:13.013098Z"
    }
   },
   "outputs": [
    {
     "data": {
      "text/plain": [
       "w\n",
       "0    12589\n",
       "1     2714\n",
       "Name: count, dtype: int64"
      ]
     },
     "execution_count": 17,
     "metadata": {},
     "output_type": "execute_result"
    }
   ],
   "source": [
    "train['w'].value_counts()"
   ]
  },
  {
   "cell_type": "markdown",
   "id": "1fc961f8",
   "metadata": {},
   "source": [
    "1.11 종속 변수의 밸런스가 맞지 않는 것으로 확인됩니다. 이를 해결하기 위해 Under Sampling 혹은 Over Sampling 기법을 사용할 수 있는데 Under Sampling의 경우 데이터가 많지 않는 상황에서 사라지는 데이터가 과도하게 많으므로 Over Sampling 기법 중 SMOTE 기법을 사용해보겠습니다. 사용하기 전에 player_id, year, team_id 컬럼은 지우고 가겠습니다."
   ]
  },
  {
   "cell_type": "code",
   "execution_count": 18,
   "id": "64f49881",
   "metadata": {
    "ExecuteTime": {
     "end_time": "2024-04-05T07:22:13.027782Z",
     "start_time": "2024-04-05T07:22:13.018832Z"
    }
   },
   "outputs": [
    {
     "name": "stderr",
     "output_type": "stream",
     "text": [
      "C:\\Users\\yeonn\\AppData\\Local\\Temp\\ipykernel_29980\\4144338324.py:1: SettingWithCopyWarning: \n",
      "A value is trying to be set on a copy of a slice from a DataFrame\n",
      "\n",
      "See the caveats in the documentation: https://pandas.pydata.org/pandas-docs/stable/user_guide/indexing.html#returning-a-view-versus-a-copy\n",
      "  train.drop(axis=1,columns='player_id',inplace=True)\n",
      "C:\\Users\\yeonn\\AppData\\Local\\Temp\\ipykernel_29980\\4144338324.py:2: SettingWithCopyWarning: \n",
      "A value is trying to be set on a copy of a slice from a DataFrame\n",
      "\n",
      "See the caveats in the documentation: https://pandas.pydata.org/pandas-docs/stable/user_guide/indexing.html#returning-a-view-versus-a-copy\n",
      "  train.drop(axis=1,columns='year',inplace=True)\n",
      "C:\\Users\\yeonn\\AppData\\Local\\Temp\\ipykernel_29980\\4144338324.py:3: SettingWithCopyWarning: \n",
      "A value is trying to be set on a copy of a slice from a DataFrame\n",
      "\n",
      "See the caveats in the documentation: https://pandas.pydata.org/pandas-docs/stable/user_guide/indexing.html#returning-a-view-versus-a-copy\n",
      "  train.drop(axis=1,columns='team_id',inplace=True)\n"
     ]
    }
   ],
   "source": [
    "train.drop(axis=1,columns='player_id',inplace=True)\n",
    "train.drop(axis=1,columns='year',inplace=True)\n",
    "train.drop(axis=1,columns='team_id',inplace=True)"
   ]
  },
  {
   "cell_type": "code",
   "execution_count": 19,
   "id": "5fb91e7a",
   "metadata": {
    "ExecuteTime": {
     "end_time": "2024-04-05T07:22:13.041377Z",
     "start_time": "2024-04-05T07:22:13.028783Z"
    }
   },
   "outputs": [
    {
     "data": {
      "text/html": [
       "<div>\n",
       "<style scoped>\n",
       "    .dataframe tbody tr th:only-of-type {\n",
       "        vertical-align: middle;\n",
       "    }\n",
       "\n",
       "    .dataframe tbody tr th {\n",
       "        vertical-align: top;\n",
       "    }\n",
       "\n",
       "    .dataframe thead th {\n",
       "        text-align: right;\n",
       "    }\n",
       "</style>\n",
       "<table border=\"1\" class=\"dataframe\">\n",
       "  <thead>\n",
       "    <tr style=\"text-align: right;\">\n",
       "      <th></th>\n",
       "      <th>index</th>\n",
       "      <th>stint</th>\n",
       "      <th>w</th>\n",
       "      <th>l</th>\n",
       "      <th>g</th>\n",
       "      <th>gs</th>\n",
       "      <th>cg</th>\n",
       "      <th>sho</th>\n",
       "      <th>sv</th>\n",
       "      <th>h</th>\n",
       "      <th>er</th>\n",
       "      <th>hr</th>\n",
       "      <th>bb</th>\n",
       "      <th>so</th>\n",
       "      <th>bk</th>\n",
       "      <th>r</th>\n",
       "    </tr>\n",
       "  </thead>\n",
       "  <tbody>\n",
       "    <tr>\n",
       "      <th>0</th>\n",
       "      <td>22982</td>\n",
       "      <td>1</td>\n",
       "      <td>0</td>\n",
       "      <td>13</td>\n",
       "      <td>40</td>\n",
       "      <td>21</td>\n",
       "      <td>5</td>\n",
       "      <td>1</td>\n",
       "      <td>2</td>\n",
       "      <td>193</td>\n",
       "      <td>79</td>\n",
       "      <td>13</td>\n",
       "      <td>66</td>\n",
       "      <td>74</td>\n",
       "      <td>1</td>\n",
       "      <td>83</td>\n",
       "    </tr>\n",
       "    <tr>\n",
       "      <th>1</th>\n",
       "      <td>22983</td>\n",
       "      <td>1</td>\n",
       "      <td>1</td>\n",
       "      <td>12</td>\n",
       "      <td>31</td>\n",
       "      <td>31</td>\n",
       "      <td>7</td>\n",
       "      <td>2</td>\n",
       "      <td>0</td>\n",
       "      <td>228</td>\n",
       "      <td>98</td>\n",
       "      <td>27</td>\n",
       "      <td>49</td>\n",
       "      <td>78</td>\n",
       "      <td>1</td>\n",
       "      <td>110</td>\n",
       "    </tr>\n",
       "    <tr>\n",
       "      <th>2</th>\n",
       "      <td>22984</td>\n",
       "      <td>1</td>\n",
       "      <td>1</td>\n",
       "      <td>11</td>\n",
       "      <td>35</td>\n",
       "      <td>35</td>\n",
       "      <td>7</td>\n",
       "      <td>1</td>\n",
       "      <td>0</td>\n",
       "      <td>227</td>\n",
       "      <td>108</td>\n",
       "      <td>20</td>\n",
       "      <td>74</td>\n",
       "      <td>114</td>\n",
       "      <td>0</td>\n",
       "      <td>120</td>\n",
       "    </tr>\n",
       "    <tr>\n",
       "      <th>4</th>\n",
       "      <td>22986</td>\n",
       "      <td>1</td>\n",
       "      <td>0</td>\n",
       "      <td>10</td>\n",
       "      <td>59</td>\n",
       "      <td>0</td>\n",
       "      <td>0</td>\n",
       "      <td>0</td>\n",
       "      <td>22</td>\n",
       "      <td>87</td>\n",
       "      <td>40</td>\n",
       "      <td>7</td>\n",
       "      <td>40</td>\n",
       "      <td>79</td>\n",
       "      <td>1</td>\n",
       "      <td>43</td>\n",
       "    </tr>\n",
       "    <tr>\n",
       "      <th>6</th>\n",
       "      <td>22988</td>\n",
       "      <td>1</td>\n",
       "      <td>0</td>\n",
       "      <td>8</td>\n",
       "      <td>35</td>\n",
       "      <td>14</td>\n",
       "      <td>0</td>\n",
       "      <td>0</td>\n",
       "      <td>2</td>\n",
       "      <td>132</td>\n",
       "      <td>53</td>\n",
       "      <td>8</td>\n",
       "      <td>43</td>\n",
       "      <td>75</td>\n",
       "      <td>0</td>\n",
       "      <td>59</td>\n",
       "    </tr>\n",
       "    <tr>\n",
       "      <th>...</th>\n",
       "      <td>...</td>\n",
       "      <td>...</td>\n",
       "      <td>...</td>\n",
       "      <td>...</td>\n",
       "      <td>...</td>\n",
       "      <td>...</td>\n",
       "      <td>...</td>\n",
       "      <td>...</td>\n",
       "      <td>...</td>\n",
       "      <td>...</td>\n",
       "      <td>...</td>\n",
       "      <td>...</td>\n",
       "      <td>...</td>\n",
       "      <td>...</td>\n",
       "      <td>...</td>\n",
       "      <td>...</td>\n",
       "    </tr>\n",
       "    <tr>\n",
       "      <th>21147</th>\n",
       "      <td>44129</td>\n",
       "      <td>1</td>\n",
       "      <td>0</td>\n",
       "      <td>5</td>\n",
       "      <td>12</td>\n",
       "      <td>9</td>\n",
       "      <td>0</td>\n",
       "      <td>0</td>\n",
       "      <td>0</td>\n",
       "      <td>52</td>\n",
       "      <td>30</td>\n",
       "      <td>9</td>\n",
       "      <td>18</td>\n",
       "      <td>26</td>\n",
       "      <td>0</td>\n",
       "      <td>30</td>\n",
       "    </tr>\n",
       "    <tr>\n",
       "      <th>21148</th>\n",
       "      <td>44130</td>\n",
       "      <td>1</td>\n",
       "      <td>0</td>\n",
       "      <td>4</td>\n",
       "      <td>16</td>\n",
       "      <td>9</td>\n",
       "      <td>0</td>\n",
       "      <td>0</td>\n",
       "      <td>0</td>\n",
       "      <td>67</td>\n",
       "      <td>33</td>\n",
       "      <td>12</td>\n",
       "      <td>27</td>\n",
       "      <td>52</td>\n",
       "      <td>0</td>\n",
       "      <td>38</td>\n",
       "    </tr>\n",
       "    <tr>\n",
       "      <th>21151</th>\n",
       "      <td>44133</td>\n",
       "      <td>1</td>\n",
       "      <td>0</td>\n",
       "      <td>0</td>\n",
       "      <td>20</td>\n",
       "      <td>0</td>\n",
       "      <td>0</td>\n",
       "      <td>0</td>\n",
       "      <td>0</td>\n",
       "      <td>23</td>\n",
       "      <td>18</td>\n",
       "      <td>10</td>\n",
       "      <td>7</td>\n",
       "      <td>21</td>\n",
       "      <td>0</td>\n",
       "      <td>18</td>\n",
       "    </tr>\n",
       "    <tr>\n",
       "      <th>21152</th>\n",
       "      <td>44134</td>\n",
       "      <td>1</td>\n",
       "      <td>1</td>\n",
       "      <td>6</td>\n",
       "      <td>34</td>\n",
       "      <td>18</td>\n",
       "      <td>0</td>\n",
       "      <td>0</td>\n",
       "      <td>0</td>\n",
       "      <td>91</td>\n",
       "      <td>42</td>\n",
       "      <td>16</td>\n",
       "      <td>43</td>\n",
       "      <td>83</td>\n",
       "      <td>0</td>\n",
       "      <td>44</td>\n",
       "    </tr>\n",
       "    <tr>\n",
       "      <th>21154</th>\n",
       "      <td>44136</td>\n",
       "      <td>1</td>\n",
       "      <td>1</td>\n",
       "      <td>10</td>\n",
       "      <td>33</td>\n",
       "      <td>33</td>\n",
       "      <td>0</td>\n",
       "      <td>0</td>\n",
       "      <td>0</td>\n",
       "      <td>204</td>\n",
       "      <td>82</td>\n",
       "      <td>24</td>\n",
       "      <td>39</td>\n",
       "      <td>164</td>\n",
       "      <td>1</td>\n",
       "      <td>89</td>\n",
       "    </tr>\n",
       "  </tbody>\n",
       "</table>\n",
       "<p>15303 rows × 16 columns</p>\n",
       "</div>"
      ],
      "text/plain": [
       "       index  stint  w   l   g  gs  cg  sho  sv    h   er  hr  bb   so  bk  \\\n",
       "0      22982      1  0  13  40  21   5    1   2  193   79  13  66   74   1   \n",
       "1      22983      1  1  12  31  31   7    2   0  228   98  27  49   78   1   \n",
       "2      22984      1  1  11  35  35   7    1   0  227  108  20  74  114   0   \n",
       "4      22986      1  0  10  59   0   0    0  22   87   40   7  40   79   1   \n",
       "6      22988      1  0   8  35  14   0    0   2  132   53   8  43   75   0   \n",
       "...      ...    ... ..  ..  ..  ..  ..  ...  ..  ...  ...  ..  ..  ...  ..   \n",
       "21147  44129      1  0   5  12   9   0    0   0   52   30   9  18   26   0   \n",
       "21148  44130      1  0   4  16   9   0    0   0   67   33  12  27   52   0   \n",
       "21151  44133      1  0   0  20   0   0    0   0   23   18  10   7   21   0   \n",
       "21152  44134      1  1   6  34  18   0    0   0   91   42  16  43   83   0   \n",
       "21154  44136      1  1  10  33  33   0    0   0  204   82  24  39  164   1   \n",
       "\n",
       "         r  \n",
       "0       83  \n",
       "1      110  \n",
       "2      120  \n",
       "4       43  \n",
       "6       59  \n",
       "...    ...  \n",
       "21147   30  \n",
       "21148   38  \n",
       "21151   18  \n",
       "21152   44  \n",
       "21154   89  \n",
       "\n",
       "[15303 rows x 16 columns]"
      ]
     },
     "execution_count": 19,
     "metadata": {},
     "output_type": "execute_result"
    }
   ],
   "source": [
    "train"
   ]
  },
  {
   "cell_type": "markdown",
   "id": "fcbe27ac",
   "metadata": {},
   "source": [
    "1.12 SMOTE 기법을 활용해 w의 balance를 맞추세요(sampling_strategy='auto', random_state = 123)."
   ]
  },
  {
   "cell_type": "code",
   "execution_count": 21,
   "id": "a51eb9d3",
   "metadata": {
    "ExecuteTime": {
     "end_time": "2024-04-05T07:22:20.774071Z",
     "start_time": "2024-04-05T07:22:20.077726Z"
    }
   },
   "outputs": [],
   "source": [
    "from imblearn.over_sampling import SMOTE"
   ]
  },
  {
   "cell_type": "code",
   "execution_count": 22,
   "id": "00655a1c",
   "metadata": {
    "ExecuteTime": {
     "end_time": "2024-04-05T07:22:20.777927Z",
     "start_time": "2024-04-05T07:22:20.775071Z"
    }
   },
   "outputs": [],
   "source": [
    "sm= SMOTE(sampling_strategy='auto',random_state=123)"
   ]
  },
  {
   "cell_type": "code",
   "execution_count": 23,
   "id": "d9a96ec8",
   "metadata": {
    "ExecuteTime": {
     "end_time": "2024-04-05T07:22:20.794312Z",
     "start_time": "2024-04-05T07:22:20.778929Z"
    }
   },
   "outputs": [],
   "source": [
    "test=train['w']\n",
    "train=train.drop(columns='w',axis=1)"
   ]
  },
  {
   "cell_type": "code",
   "execution_count": 24,
   "id": "dbc6fe8d",
   "metadata": {
    "ExecuteTime": {
     "end_time": "2024-04-05T07:22:20.831066Z",
     "start_time": "2024-04-05T07:22:20.795309Z"
    }
   },
   "outputs": [],
   "source": [
    "os_train,os_test =sm.fit_resample(train,test)"
   ]
  },
  {
   "cell_type": "markdown",
   "id": "a091c7c2",
   "metadata": {},
   "source": [
    "1.13 balance가 잘 맞춰졌는지 확인하세요."
   ]
  },
  {
   "cell_type": "code",
   "execution_count": 25,
   "id": "9fd28a66",
   "metadata": {
    "ExecuteTime": {
     "end_time": "2024-04-05T07:22:20.837687Z",
     "start_time": "2024-04-05T07:22:20.832066Z"
    }
   },
   "outputs": [
    {
     "data": {
      "text/plain": [
       "w\n",
       "0    12589\n",
       "1    12589\n",
       "Name: count, dtype: int64"
      ]
     },
     "execution_count": 25,
     "metadata": {},
     "output_type": "execute_result"
    }
   ],
   "source": [
    "os_test.value_counts()"
   ]
  },
  {
   "cell_type": "markdown",
   "id": "9545facf",
   "metadata": {},
   "source": [
    "1.14 SMOTE의 동작 방식에 대해 작성하고 Over Sampling의 장/단점에 대해 작성하세요."
   ]
  },
  {
   "cell_type": "markdown",
   "id": "3ad2d25b",
   "metadata": {
    "ExecuteTime": {
     "end_time": "2024-04-05T06:55:24.541850Z",
     "start_time": "2024-04-05T06:55:24.536864Z"
    }
   },
   "source": [
    "오버샘플링 방식으로 소수 데이터중 가장 잔차가 작은 데이터를 가져온 다음 난수를 곱해서 추가한다.\n",
    "언더샘플링과 다르게 중요한 데이터를 제거하지 않는다.\n",
    "새로운 특성을 추가할때는 어려움을 보인다"
   ]
  },
  {
   "cell_type": "markdown",
   "id": "3129e213",
   "metadata": {},
   "source": [
    "1.15 다른 Over Sampling 기법들엔 어떤 것들이 있는지 작성하세요(2개 이상)."
   ]
  },
  {
   "cell_type": "markdown",
   "id": "ecbc3d10",
   "metadata": {},
   "source": [
    "ADASYN (Adaptive Synthetic Sampling):\n",
    "ADASYN은 SMOTE의 확장된 버전으로, 소수 클래스 샘플에 대한 이웃의 밀도(density)를 고려하여 샘플을 생성"
   ]
  },
  {
   "cell_type": "markdown",
   "id": "f6ed50b2",
   "metadata": {},
   "source": [
    "SMOTE-NC (SMOTE for Nominal and Continuous Features):\n",
    "\n",
    "SMOTE-NC는 범주형(categorical) 및 연속형(continuous) 특성을 모두 고려하는 SMOTE의 확장된 버전"
   ]
  },
  {
   "cell_type": "markdown",
   "id": "8b7f1aef",
   "metadata": {},
   "source": [
    "### 2. 예측 및 분석"
   ]
  },
  {
   "cell_type": "markdown",
   "id": "49fb276a",
   "metadata": {},
   "source": [
    "2.1 본격적으로 분석을 진행하겠습니다. 본 차시는 Hyperparameter Tuning에 대해 학습하는 것이 목적이므로 모델은 RandomForest Classifier 하나만 사용하도록 하겠습니다. 먼저 데이터를 train, validation, test 3개로 나누세요(trian-60%, val-20%, test-20%)."
   ]
  },
  {
   "cell_type": "code",
   "execution_count": 26,
   "id": "c2a7f4d6",
   "metadata": {
    "ExecuteTime": {
     "end_time": "2024-04-05T07:22:20.841580Z",
     "start_time": "2024-04-05T07:22:20.838688Z"
    }
   },
   "outputs": [],
   "source": [
    "from sklearn.model_selection import train_test_split\n",
    "from sklearn.ensemble import RandomForestClassifier"
   ]
  },
  {
   "cell_type": "code",
   "execution_count": 27,
   "id": "6b9d9ee0",
   "metadata": {
    "ExecuteTime": {
     "end_time": "2024-04-05T07:22:20.849257Z",
     "start_time": "2024-04-05T07:22:20.842581Z"
    }
   },
   "outputs": [],
   "source": [
    "X_train,X_test,y_train,y_test=train_test_split(train,test,test_size=0.2)"
   ]
  },
  {
   "cell_type": "code",
   "execution_count": 28,
   "id": "23b07aae",
   "metadata": {
    "ExecuteTime": {
     "end_time": "2024-04-05T07:22:20.856935Z",
     "start_time": "2024-04-05T07:22:20.850258Z"
    }
   },
   "outputs": [],
   "source": [
    "X_train,X_val,y_train,y_val =train_test_split(X_train,y_train,test_size=0.25)"
   ]
  },
  {
   "cell_type": "markdown",
   "id": "cdccaac8",
   "metadata": {},
   "source": [
    "2.2 train test에 validation set을 추가하는 이유가 뭔지 작성하세요."
   ]
  },
  {
   "cell_type": "markdown",
   "id": "fa10a139",
   "metadata": {},
   "source": [
    "검증데이터를 확보해서 파라미터와 유효성을 파악하기 위해"
   ]
  },
  {
   "cell_type": "markdown",
   "id": "534c32ee",
   "metadata": {},
   "source": [
    "2.3 Randomized SearchCV로 최적의 파라미터 셋을 찾으세요(성능 지표는 accuracy score)."
   ]
  },
  {
   "cell_type": "code",
   "execution_count": 29,
   "id": "6de098f2",
   "metadata": {
    "ExecuteTime": {
     "end_time": "2024-04-05T07:22:20.862047Z",
     "start_time": "2024-04-05T07:22:20.857936Z"
    }
   },
   "outputs": [],
   "source": [
    "from sklearn.model_selection import GridSearchCV\n",
    "from sklearn.model_selection import RandomizedSearchCV"
   ]
  },
  {
   "cell_type": "code",
   "execution_count": 30,
   "id": "d1264a9a",
   "metadata": {
    "ExecuteTime": {
     "end_time": "2024-04-05T07:22:20.869156Z",
     "start_time": "2024-04-05T07:22:20.864046Z"
    }
   },
   "outputs": [],
   "source": [
    "parameters = {\n",
    "    'n_estimators': [10, 50, 100, 200],\n",
    "    'max_depth': [None, 10, 20, 30],\n",
    "    'min_samples_split': [2, 5, 10],\n",
    "    'min_samples_leaf': [1, 2, 4],\n",
    "    'bootstrap': [True, False],\n",
    "    'criterion': ['gini', 'entropy']\n",
    "}"
   ]
  },
  {
   "cell_type": "code",
   "execution_count": 31,
   "id": "73463fae",
   "metadata": {
    "ExecuteTime": {
     "end_time": "2024-04-05T07:22:20.874581Z",
     "start_time": "2024-04-05T07:22:20.871156Z"
    }
   },
   "outputs": [],
   "source": [
    "rf= RandomForestClassifier()"
   ]
  },
  {
   "cell_type": "code",
   "execution_count": null,
   "id": "57b2aacd",
   "metadata": {
    "ExecuteTime": {
     "end_time": "2024-04-05T07:55:22.434384Z",
     "start_time": "2024-04-05T07:55:22.434384Z"
    }
   },
   "outputs": [],
   "source": [
    "from sklearn.metrics import accuracy_score"
   ]
  },
  {
   "cell_type": "code",
   "execution_count": 35,
   "id": "29a26042",
   "metadata": {
    "ExecuteTime": {
     "end_time": "2024-04-05T07:55:22.286023Z",
     "start_time": "2024-04-05T07:54:47.082417Z"
    }
   },
   "outputs": [
    {
     "name": "stdout",
     "output_type": "stream",
     "text": [
      "최적 하이퍼 파라미터 : {'n_estimators': 100, 'min_samples_split': 5, 'min_samples_leaf': 4, 'max_depth': None, 'criterion': 'gini', 'bootstrap': False}\n",
      "최적 정확도 : 0.9424885819567045\n",
      "테스트 세트에서의 randomforest 정확도:0.943155831427638\n"
     ]
    }
   ],
   "source": [
    "rand_clf=RandomizedSearchCV(rf,parameters,scoring='accuracy')\n",
    "rand_clf.fit(X_train,y_train)\n",
    "print('최적 하이퍼 파라미터 :',rand_clf.best_params_)\n",
    "print('최적 정확도 :',rand_clf.best_score_)\n",
    "best_dclf=rand_clf.best_estimator_\n",
    "dpredictions =best_dclf.predict(X_val)\n",
    "accuracy=accuracy_score(y_val,dpredictions)\n",
    "print(f'테스트 세트에서의 randomforest 정확도:{accuracy}')"
   ]
  },
  {
   "cell_type": "markdown",
   "id": "c37ab1ae",
   "metadata": {},
   "source": [
    "2.4 위에서 지정한 hyperparameter들이 각각 무엇을 의미하는지 작성하세요."
   ]
  },
  {
   "cell_type": "markdown",
   "id": "13ce0e9d",
   "metadata": {
    "ExecuteTime": {
     "start_time": "2024-04-05T07:14:07.124Z"
    }
   },
   "source": [
    "n_estimators:\n",
    "랜덤 포레스트에서 생성할 의사결정 트리의 개수\n",
    "값이 클수록 더 많은 트리를 사용하여 앙상블이 강력해지지만, 학습 시간이 늘어날 수 있음\n",
    "max_depth:\n",
    "각 의사결정 트리의 최대 깊이를 지정\n",
    "트리의 깊이가 깊어질수록 모델이 더 복잡해지지만, 과적합(overfitting)의 위험이 있음\n",
    "min_samples_split:\n",
    "노드를 분할하기 위해 필요한 최소 샘플 수를 지정\n",
    "이 값을 높게 설정하면 노드가 더 적게 분할되어 모델이 단순해지고 과적합을 줄일 수 있음\n",
    "min_samples_leaf:\n",
    "리프 노드가 되기 위해 필요한 최소 샘플 수를 지정\n",
    "이 값을 높게 설정하면 리프 노드의 순도가 높아지고 과적합을 줄일 수 있음.\n",
    "bootstrap:\n",
    "데이터를 무작위로 샘플링할지 여부를 지정\n",
    "True로 설정하면 부트스트래핑(bootstrap sampling)을 사용하여 데이터를 샘플링\n",
    "criterion:\n",
    "트리의 분할 기준을 지정\n",
    "'gini'는 지니 불순도(Gini impurity), 'entropy'는 정보 이득(Information gain)을 사용"
   ]
  },
  {
   "cell_type": "markdown",
   "id": "9af9bb2a",
   "metadata": {},
   "source": [
    "2.5 Grid SearchCV로 최적의 파라미터 셋을 찾으세요."
   ]
  },
  {
   "cell_type": "code",
   "execution_count": 32,
   "id": "657d2a92",
   "metadata": {
    "ExecuteTime": {
     "end_time": "2024-04-05T07:53:24.005674Z",
     "start_time": "2024-04-05T07:22:20.875583Z"
    }
   },
   "outputs": [
    {
     "name": "stdout",
     "output_type": "stream",
     "text": [
      "최적 하이퍼 파라미터 : {'bootstrap': True, 'criterion': 'gini', 'max_depth': None, 'min_samples_leaf': 2, 'min_samples_split': 5, 'n_estimators': 100}\n",
      "최적 정확도 : 0.9435778472763326\n"
     ]
    },
    {
     "ename": "NameError",
     "evalue": "name 'accuracy_score' is not defined",
     "output_type": "error",
     "traceback": [
      "\u001b[1;31m---------------------------------------------------------------------------\u001b[0m",
      "\u001b[1;31mNameError\u001b[0m                                 Traceback (most recent call last)",
      "Cell \u001b[1;32mIn[32], line 7\u001b[0m\n\u001b[0;32m      5\u001b[0m best_dclf\u001b[38;5;241m=\u001b[39mgrid_dclf\u001b[38;5;241m.\u001b[39mbest_estimator_\n\u001b[0;32m      6\u001b[0m dpredictions \u001b[38;5;241m=\u001b[39mbest_dclf\u001b[38;5;241m.\u001b[39mpredict(X_val)\n\u001b[1;32m----> 7\u001b[0m accuracy\u001b[38;5;241m=\u001b[39maccuracy_score(y_val,dpredictions)\n\u001b[0;32m      8\u001b[0m \u001b[38;5;28mprint\u001b[39m(\u001b[38;5;124mf\u001b[39m\u001b[38;5;124m'\u001b[39m\u001b[38;5;124m테스트 세트에서의 randomforest 정확도:\u001b[39m\u001b[38;5;132;01m{\u001b[39;00maccuracy\u001b[38;5;132;01m}\u001b[39;00m\u001b[38;5;124m'\u001b[39m)\n",
      "\u001b[1;31mNameError\u001b[0m: name 'accuracy_score' is not defined"
     ]
    }
   ],
   "source": [
    "grid_dclf=GridSearchCV(rf,param_grid=parameters,scoring='accuracy')\n",
    "grid_dclf.fit(X_train,y_train)\n",
    "print('최적 하이퍼 파라미터 :',grid_dclf.best_params_)\n",
    "print('최적 정확도 :',grid_dclf.best_score_)"
   ]
  },
  {
   "cell_type": "code",
   "execution_count": 33,
   "id": "ce8cea6b",
   "metadata": {
    "ExecuteTime": {
     "end_time": "2024-04-05T07:54:10.161749Z",
     "start_time": "2024-04-05T07:54:10.127003Z"
    }
   },
   "outputs": [
    {
     "name": "stdout",
     "output_type": "stream",
     "text": [
      "테스트 세트에서의 randomforest 정확도:0.9405423064358053\n"
     ]
    }
   ],
   "source": [
    "best_dclf=grid_dclf.best_estimator_\n",
    "dpredictions =best_dclf.predict(X_val)\n",
    "accuracy=accuracy_score(y_val,dpredictions)\n",
    "print(f'테스트 세트에서의 randomforest 정확도:{accuracy}')"
   ]
  },
  {
   "cell_type": "markdown",
   "id": "af736507",
   "metadata": {},
   "source": [
    "2.6 Randomized SearchCV와 Grid SearchCV의 차이와 장단점에 대해 설명하세요."
   ]
  },
  {
   "cell_type": "markdown",
   "id": "71357aac",
   "metadata": {},
   "source": [
    "<figure>\n",
    "    <img src=\"https://miro.medium.com/v2/resize:fit:781/1*8uSZqUSGa-UGF-0CDBd4Jw.png\">\n",
    "</figure>"
   ]
  },
  {
   "cell_type": "markdown",
   "id": "297c14b8",
   "metadata": {},
   "source": [
    "Randomized SearchCV는 하이퍼파라미터 탐색 공간에서 임의의 조합을 선택하여 탐색합니다. 따라서 그리드 탐색보다 무작위성이 높다."
   ]
  },
  {
   "cell_type": "markdown",
   "id": "806b1ec0",
   "metadata": {},
   "source": [
    "Grid SearchCV는 보다 체계적이고 완전한 탐색을 수행하지만, 계산 비용이 높고 최적의 조합을 찾는 데 시간이 오래 걸릴 수 있다. Randomized SearchCV는 보다 효율적인 무작위 탐색을 수행하여 계산 비용을 줄이지만, 최적의 조합을 찾는 데 정확성과 일관성이 낮을 수 있다."
   ]
  },
  {
   "cell_type": "markdown",
   "id": "e7f88421",
   "metadata": {},
   "source": [
    "2.7 이번엔 Bayesian Optimization을 사용해 파라미터 튜닝을 진행해보겠습니다."
   ]
  },
  {
   "cell_type": "code",
   "execution_count": 36,
   "id": "aeebd443",
   "metadata": {
    "ExecuteTime": {
     "end_time": "2024-04-05T07:56:49.101759Z",
     "start_time": "2024-04-05T07:56:41.262910Z"
    }
   },
   "outputs": [
    {
     "name": "stdout",
     "output_type": "stream",
     "text": [
      "Collecting scikit-optimize\n",
      "  Obtaining dependency information for scikit-optimize from https://files.pythonhosted.org/packages/90/0e/15deb91b3db0003843e34e72fa865e1d92013781d986fdc65483c99a9f69/scikit_optimize-0.10.1-py2.py3-none-any.whl.metadata\n",
      "  Downloading scikit_optimize-0.10.1-py2.py3-none-any.whl.metadata (9.7 kB)\n",
      "Requirement already satisfied: joblib>=0.11 in c:\\users\\yeonn\\anaconda3\\lib\\site-packages (from scikit-optimize) (1.2.0)\n",
      "Collecting pyaml>=16.9 (from scikit-optimize)\n",
      "  Obtaining dependency information for pyaml>=16.9 from https://files.pythonhosted.org/packages/25/ec/8aaf0d127751f84d8b10395fe47def9ac3552990b70abffdd92714836d39/pyaml-23.12.0-py3-none-any.whl.metadata\n",
      "  Downloading pyaml-23.12.0-py3-none-any.whl.metadata (11 kB)\n",
      "Requirement already satisfied: numpy>=1.20.3 in c:\\users\\yeonn\\anaconda3\\lib\\site-packages (from scikit-optimize) (1.24.3)\n",
      "Requirement already satisfied: scipy>=1.1.0 in c:\\users\\yeonn\\anaconda3\\lib\\site-packages (from scikit-optimize) (1.11.1)\n",
      "Requirement already satisfied: scikit-learn>=1.0.0 in c:\\users\\yeonn\\anaconda3\\lib\\site-packages (from scikit-optimize) (1.4.1.post1)\n",
      "Requirement already satisfied: packaging>=21.3 in c:\\users\\yeonn\\anaconda3\\lib\\site-packages (from scikit-optimize) (23.1)\n",
      "Requirement already satisfied: PyYAML in c:\\users\\yeonn\\anaconda3\\lib\\site-packages (from pyaml>=16.9->scikit-optimize) (6.0)\n",
      "Requirement already satisfied: threadpoolctl>=2.0.0 in c:\\users\\yeonn\\anaconda3\\lib\\site-packages (from scikit-learn>=1.0.0->scikit-optimize) (2.2.0)\n",
      "Downloading scikit_optimize-0.10.1-py2.py3-none-any.whl (107 kB)\n",
      "   ---------------------------------------- 0.0/107.7 kB ? eta -:--:--\n",
      "   --------------- ------------------------ 41.0/107.7 kB 2.0 MB/s eta 0:00:01\n",
      "   ---------------------------------------- 107.7/107.7 kB 3.1 MB/s eta 0:00:00\n",
      "Downloading pyaml-23.12.0-py3-none-any.whl (23 kB)\n",
      "Installing collected packages: pyaml, scikit-optimize\n",
      "Successfully installed pyaml-23.12.0 scikit-optimize-0.10.1\n",
      "Note: you may need to restart the kernel to use updated packages.\n"
     ]
    }
   ],
   "source": [
    "pip install scikit-optimize"
   ]
  },
  {
   "cell_type": "code",
   "execution_count": 37,
   "id": "48d1de85",
   "metadata": {
    "ExecuteTime": {
     "end_time": "2024-04-05T07:57:26.106962Z",
     "start_time": "2024-04-05T07:57:26.010750Z"
    }
   },
   "outputs": [],
   "source": [
    "from skopt import BayesSearchCV"
   ]
  },
  {
   "cell_type": "code",
   "execution_count": 38,
   "id": "47dece14",
   "metadata": {
    "ExecuteTime": {
     "end_time": "2024-04-05T08:02:35.048610Z",
     "start_time": "2024-04-05T07:58:17.434242Z"
    }
   },
   "outputs": [
    {
     "name": "stdout",
     "output_type": "stream",
     "text": [
      "최적 하이퍼 파라미터 : OrderedDict([('bootstrap', True), ('criterion', 'gini'), ('max_depth', None), ('min_samples_leaf', 4), ('min_samples_split', 2), ('n_estimators', 200)])\n",
      "최적 정확도 : 0.9430331849669645\n",
      "테스트 세트에서의 randomforest 정확도:0.9411956876837635\n"
     ]
    }
   ],
   "source": [
    "Bayes_clf=BayesSearchCV(rf,parameters,scoring='accuracy')\n",
    "Bayes_clf.fit(X_train,y_train)\n",
    "print('최적 하이퍼 파라미터 :',Bayes_clf.best_params_)\n",
    "print('최적 정확도 :',Bayes_clf.best_score_)\n",
    "best_dclf=Bayes_clf.best_estimator_\n",
    "dpredictions =best_dclf.predict(X_val)\n",
    "accuracy=accuracy_score(y_val,dpredictions)\n",
    "print(f'테스트 세트에서의 randomforest 정확도:{accuracy}')"
   ]
  },
  {
   "cell_type": "markdown",
   "id": "84c3e856",
   "metadata": {},
   "source": [
    "2.8 진행한 튜닝 과정에서 찾은 최적의 파라미터 셋으로 다시 학습을 진행한 후 최종 accuracy score을 출력하세요."
   ]
  },
  {
   "cell_type": "code",
   "execution_count": 42,
   "id": "a07f05a5",
   "metadata": {
    "ExecuteTime": {
     "end_time": "2024-04-05T08:09:37.632905Z",
     "start_time": "2024-04-05T08:09:37.629668Z"
    }
   },
   "outputs": [],
   "source": [
    "rand_param=rand_clf.best_estimator_\n",
    "grid_param=grid_dclf.best_estimator_\n",
    "bayes_param=Bayes_clf.best_estimator_"
   ]
  },
  {
   "cell_type": "code",
   "execution_count": 43,
   "id": "42e9be88",
   "metadata": {
    "ExecuteTime": {
     "end_time": "2024-04-05T08:09:39.616324Z",
     "start_time": "2024-04-05T08:09:39.514049Z"
    }
   },
   "outputs": [],
   "source": [
    "dpredictions1 =rand_param.predict(X_val)\n",
    "dpredictions2 =grid_param.predict(X_val)\n",
    "dpredictions3 =bayes_param.predict(X_val)"
   ]
  },
  {
   "cell_type": "code",
   "execution_count": 45,
   "id": "3e076388",
   "metadata": {
    "ExecuteTime": {
     "end_time": "2024-04-05T08:11:20.433026Z",
     "start_time": "2024-04-05T08:11:20.427147Z"
    }
   },
   "outputs": [
    {
     "name": "stdout",
     "output_type": "stream",
     "text": [
      "randcv: 0.943155831427638\n",
      "gridcv: 0.9405423064358053\n",
      "bayescv: 0.9411956876837635\n"
     ]
    }
   ],
   "source": [
    "print(f'randcv: {accuracy_score(y_val,dpredictions1)}')\n",
    "print(f'gridcv: {accuracy_score(y_val,dpredictions2)}')\n",
    "print(f'bayescv: {accuracy_score(y_val,dpredictions3)}')"
   ]
  },
  {
   "cell_type": "markdown",
   "id": "e9b15317",
   "metadata": {},
   "source": [
    "### 3. 자유분석"
   ]
  },
  {
   "cell_type": "markdown",
   "id": "b7fcbd3a",
   "metadata": {},
   "source": [
    "최적의 파라미터 셋을 찾고 성능을 높여보세요."
   ]
  },
  {
   "cell_type": "code",
   "execution_count": 47,
   "id": "80f4a00f",
   "metadata": {
    "ExecuteTime": {
     "end_time": "2024-04-05T08:16:51.253053Z",
     "start_time": "2024-04-05T08:16:41.334341Z"
    }
   },
   "outputs": [
    {
     "name": "stdout",
     "output_type": "stream",
     "text": [
      "Collecting optuna\n",
      "  Obtaining dependency information for optuna from https://files.pythonhosted.org/packages/15/da/68883911855d8b4d521f9a370e4e6aab8232b91c1d8d5a8348c4680c6642/optuna-3.6.1-py3-none-any.whl.metadata\n",
      "  Downloading optuna-3.6.1-py3-none-any.whl.metadata (17 kB)\n",
      "Collecting alembic>=1.5.0 (from optuna)\n",
      "  Obtaining dependency information for alembic>=1.5.0 from https://files.pythonhosted.org/packages/7f/50/9fb3a5c80df6eb6516693270621676980acd6d5a9a7efdbfa273f8d616c7/alembic-1.13.1-py3-none-any.whl.metadata\n",
      "  Downloading alembic-1.13.1-py3-none-any.whl.metadata (7.4 kB)\n",
      "Collecting colorlog (from optuna)\n",
      "  Obtaining dependency information for colorlog from https://files.pythonhosted.org/packages/f3/18/3e867ab37a24fdf073c1617b9c7830e06ec270b1ea4694a624038fc40a03/colorlog-6.8.2-py3-none-any.whl.metadata\n",
      "  Downloading colorlog-6.8.2-py3-none-any.whl.metadata (10 kB)\n",
      "Requirement already satisfied: numpy in c:\\users\\yeonn\\anaconda3\\lib\\site-packages (from optuna) (1.24.3)\n",
      "Requirement already satisfied: packaging>=20.0 in c:\\users\\yeonn\\anaconda3\\lib\\site-packages (from optuna) (23.1)\n",
      "Requirement already satisfied: sqlalchemy>=1.3.0 in c:\\users\\yeonn\\anaconda3\\lib\\site-packages (from optuna) (1.4.39)\n",
      "Requirement already satisfied: tqdm in c:\\users\\yeonn\\anaconda3\\lib\\site-packages (from optuna) (4.65.0)\n",
      "Requirement already satisfied: PyYAML in c:\\users\\yeonn\\anaconda3\\lib\\site-packages (from optuna) (6.0)\n",
      "Collecting Mako (from alembic>=1.5.0->optuna)\n",
      "  Obtaining dependency information for Mako from https://files.pythonhosted.org/packages/2b/8d/9f11d0b9ac521febb806e7f30dc5982d0f4f5821217712c59005fbc5c1e3/Mako-1.3.2-py3-none-any.whl.metadata\n",
      "  Downloading Mako-1.3.2-py3-none-any.whl.metadata (2.9 kB)\n",
      "Requirement already satisfied: typing-extensions>=4 in c:\\users\\yeonn\\anaconda3\\lib\\site-packages (from alembic>=1.5.0->optuna) (4.10.0)\n",
      "Requirement already satisfied: greenlet!=0.4.17 in c:\\users\\yeonn\\anaconda3\\lib\\site-packages (from sqlalchemy>=1.3.0->optuna) (2.0.1)\n",
      "Requirement already satisfied: colorama in c:\\users\\yeonn\\anaconda3\\lib\\site-packages (from colorlog->optuna) (0.4.6)\n",
      "Requirement already satisfied: MarkupSafe>=0.9.2 in c:\\users\\yeonn\\anaconda3\\lib\\site-packages (from Mako->alembic>=1.5.0->optuna) (2.1.1)\n",
      "Downloading optuna-3.6.1-py3-none-any.whl (380 kB)\n",
      "   ---------------------------------------- 0.0/380.1 kB ? eta -:--:--\n",
      "   ------------------ --------------------- 174.1/380.1 kB 3.5 MB/s eta 0:00:01\n",
      "   ---------------------------------------- 380.1/380.1 kB 6.0 MB/s eta 0:00:00\n",
      "Downloading alembic-1.13.1-py3-none-any.whl (233 kB)\n",
      "   ---------------------------------------- 0.0/233.4 kB ? eta -:--:--\n",
      "   ---------------------------------------- 233.4/233.4 kB 7.2 MB/s eta 0:00:00\n",
      "Downloading colorlog-6.8.2-py3-none-any.whl (11 kB)\n",
      "Downloading Mako-1.3.2-py3-none-any.whl (78 kB)\n",
      "   ---------------------------------------- 0.0/78.7 kB ? eta -:--:--\n",
      "   ---------------------------------------- 78.7/78.7 kB ? eta 0:00:00\n",
      "Installing collected packages: Mako, colorlog, alembic, optuna\n",
      "Successfully installed Mako-1.3.2 alembic-1.13.1 colorlog-6.8.2 optuna-3.6.1\n",
      "Note: you may need to restart the kernel to use updated packages.\n"
     ]
    }
   ],
   "source": [
    "pip install optuna"
   ]
  },
  {
   "cell_type": "code",
   "execution_count": 48,
   "id": "7b26a00f",
   "metadata": {
    "ExecuteTime": {
     "end_time": "2024-04-05T08:16:58.223331Z",
     "start_time": "2024-04-05T08:16:58.090434Z"
    }
   },
   "outputs": [],
   "source": [
    "import optuna"
   ]
  },
  {
   "cell_type": "code",
   "execution_count": 50,
   "id": "746fc9f1",
   "metadata": {
    "ExecuteTime": {
     "end_time": "2024-04-05T08:20:39.076846Z",
     "start_time": "2024-04-05T08:20:39.071191Z"
    }
   },
   "outputs": [],
   "source": [
    "# Objective 함수 정의\n",
    "def objective(trial):\n",
    "    # 하이퍼파라미터 탐색 공간 정의\n",
    "    n_estimators = trial.suggest_int('n_estimators', 10, 200)\n",
    "    max_depth = trial.suggest_int('max_depth', 1, 30)\n",
    "    min_samples_split = trial.suggest_int('min_samples_split', 2, 10)\n",
    "    min_samples_leaf = trial.suggest_int('min_samples_leaf', 1, 5)\n",
    "    bootstrap = trial.suggest_categorical('bootstrap', [True, False])\n",
    "    criterion = trial.suggest_categorical('criterion', ['gini', 'entropy'])\n",
    "    \n",
    "    # RandomForestClassifier 모델 생성\n",
    "    rf_model = RandomForestClassifier(\n",
    "        n_estimators=n_estimators, \n",
    "        max_depth=max_depth, \n",
    "        min_samples_split=min_samples_split, \n",
    "        min_samples_leaf=min_samples_leaf, \n",
    "        bootstrap=bootstrap, \n",
    "        criterion=criterion,\n",
    "    )\n",
    "    \n",
    "    # 모델을 사용하여 학습 및 평가\n",
    "    rf_model.fit(X_train, y_train)\n",
    "    y_pred = rf_model.predict(X_val)\n",
    "    accuracy = accuracy_score(y_val, y_pred)\n",
    "    \n",
    "    return accuracy"
   ]
  },
  {
   "cell_type": "code",
   "execution_count": 52,
   "id": "23559ed5",
   "metadata": {
    "ExecuteTime": {
     "end_time": "2024-04-05T08:22:23.219801Z",
     "start_time": "2024-04-05T08:21:04.543676Z"
    }
   },
   "outputs": [
    {
     "name": "stderr",
     "output_type": "stream",
     "text": [
      "[I 2024-04-05 17:21:04,545] A new study created in memory with name: no-name-044486e6-630d-48ef-99d6-c02166f53c20\n",
      "[I 2024-04-05 17:21:05,181] Trial 0 finished with value: 0.9415223783077425 and parameters: {'n_estimators': 85, 'max_depth': 30, 'min_samples_split': 5, 'min_samples_leaf': 3, 'bootstrap': True, 'criterion': 'entropy'}. Best is trial 0 with value: 0.9415223783077425.\n",
      "[I 2024-04-05 17:21:05,308] Trial 1 finished with value: 0.9425024501796798 and parameters: {'n_estimators': 20, 'max_depth': 6, 'min_samples_split': 8, 'min_samples_leaf': 4, 'bootstrap': False, 'criterion': 'gini'}. Best is trial 1 with value: 0.9425024501796798.\n",
      "[I 2024-04-05 17:21:06,202] Trial 2 finished with value: 0.9438092126755963 and parameters: {'n_estimators': 114, 'max_depth': 8, 'min_samples_split': 4, 'min_samples_leaf': 3, 'bootstrap': False, 'criterion': 'gini'}. Best is trial 2 with value: 0.9438092126755963.\n",
      "[I 2024-04-05 17:21:08,122] Trial 3 finished with value: 0.9411956876837635 and parameters: {'n_estimators': 179, 'max_depth': 29, 'min_samples_split': 2, 'min_samples_leaf': 2, 'bootstrap': False, 'criterion': 'entropy'}. Best is trial 2 with value: 0.9438092126755963.\n",
      "[I 2024-04-05 17:21:09,268] Trial 4 finished with value: 0.9438092126755963 and parameters: {'n_estimators': 162, 'max_depth': 30, 'min_samples_split': 8, 'min_samples_leaf': 5, 'bootstrap': True, 'criterion': 'entropy'}. Best is trial 2 with value: 0.9438092126755963.\n",
      "[I 2024-04-05 17:21:09,835] Trial 5 finished with value: 0.943155831427638 and parameters: {'n_estimators': 115, 'max_depth': 6, 'min_samples_split': 4, 'min_samples_leaf': 5, 'bootstrap': True, 'criterion': 'gini'}. Best is trial 2 with value: 0.9438092126755963.\n",
      "[I 2024-04-05 17:21:10,924] Trial 6 finished with value: 0.942829140803659 and parameters: {'n_estimators': 189, 'max_depth': 7, 'min_samples_split': 8, 'min_samples_leaf': 4, 'bootstrap': True, 'criterion': 'entropy'}. Best is trial 2 with value: 0.9438092126755963.\n",
      "[I 2024-04-05 17:21:11,253] Trial 7 finished with value: 0.9415223783077425 and parameters: {'n_estimators': 54, 'max_depth': 7, 'min_samples_split': 6, 'min_samples_leaf': 4, 'bootstrap': True, 'criterion': 'entropy'}. Best is trial 2 with value: 0.9438092126755963.\n",
      "[I 2024-04-05 17:21:11,872] Trial 8 finished with value: 0.9451159751715126 and parameters: {'n_estimators': 59, 'max_depth': 16, 'min_samples_split': 6, 'min_samples_leaf': 3, 'bootstrap': False, 'criterion': 'entropy'}. Best is trial 8 with value: 0.9451159751715126.\n",
      "[I 2024-04-05 17:21:13,535] Trial 9 finished with value: 0.9425024501796798 and parameters: {'n_estimators': 169, 'max_depth': 13, 'min_samples_split': 9, 'min_samples_leaf': 4, 'bootstrap': False, 'criterion': 'entropy'}. Best is trial 8 with value: 0.9451159751715126.\n",
      "[I 2024-04-05 17:21:13,726] Trial 10 finished with value: 0.9376020908199935 and parameters: {'n_estimators': 14, 'max_depth': 21, 'min_samples_split': 10, 'min_samples_leaf': 1, 'bootstrap': False, 'criterion': 'gini'}. Best is trial 8 with value: 0.9451159751715126.\n",
      "[I 2024-04-05 17:21:14,935] Trial 11 finished with value: 0.9425024501796798 and parameters: {'n_estimators': 117, 'max_depth': 15, 'min_samples_split': 3, 'min_samples_leaf': 2, 'bootstrap': False, 'criterion': 'gini'}. Best is trial 8 with value: 0.9451159751715126.\n",
      "[I 2024-04-05 17:21:15,729] Trial 12 finished with value: 0.9402156158118262 and parameters: {'n_estimators': 77, 'max_depth': 20, 'min_samples_split': 6, 'min_samples_leaf': 3, 'bootstrap': False, 'criterion': 'gini'}. Best is trial 8 with value: 0.9451159751715126.\n",
      "[I 2024-04-05 17:21:16,014] Trial 13 finished with value: 0.9274746814766416 and parameters: {'n_estimators': 131, 'max_depth': 1, 'min_samples_split': 4, 'min_samples_leaf': 2, 'bootstrap': False, 'criterion': 'gini'}. Best is trial 8 with value: 0.9451159751715126.\n",
      "[I 2024-04-05 17:21:16,515] Trial 14 finished with value: 0.9408689970597843 and parameters: {'n_estimators': 49, 'max_depth': 12, 'min_samples_split': 5, 'min_samples_leaf': 3, 'bootstrap': False, 'criterion': 'entropy'}. Best is trial 8 with value: 0.9451159751715126.\n",
      "[I 2024-04-05 17:21:18,027] Trial 15 finished with value: 0.9415223783077425 and parameters: {'n_estimators': 140, 'max_depth': 21, 'min_samples_split': 2, 'min_samples_leaf': 1, 'bootstrap': False, 'criterion': 'gini'}. Best is trial 8 with value: 0.9451159751715126.\n",
      "[I 2024-04-05 17:21:18,826] Trial 16 finished with value: 0.9421757595557008 and parameters: {'n_estimators': 84, 'max_depth': 11, 'min_samples_split': 7, 'min_samples_leaf': 2, 'bootstrap': False, 'criterion': 'entropy'}. Best is trial 8 with value: 0.9451159751715126.\n",
      "[I 2024-04-05 17:21:19,374] Trial 17 finished with value: 0.942829140803659 and parameters: {'n_estimators': 51, 'max_depth': 17, 'min_samples_split': 4, 'min_samples_leaf': 3, 'bootstrap': False, 'criterion': 'gini'}. Best is trial 8 with value: 0.9451159751715126.\n",
      "[I 2024-04-05 17:21:20,309] Trial 18 finished with value: 0.9425024501796798 and parameters: {'n_estimators': 90, 'max_depth': 25, 'min_samples_split': 6, 'min_samples_leaf': 2, 'bootstrap': False, 'criterion': 'gini'}. Best is trial 8 with value: 0.9451159751715126.\n",
      "[I 2024-04-05 17:21:20,536] Trial 19 finished with value: 0.9300882064684743 and parameters: {'n_estimators': 66, 'max_depth': 2, 'min_samples_split': 3, 'min_samples_leaf': 4, 'bootstrap': False, 'criterion': 'entropy'}. Best is trial 8 with value: 0.9451159751715126.\n",
      "[I 2024-04-05 17:21:20,873] Trial 20 finished with value: 0.9434825220516171 and parameters: {'n_estimators': 35, 'max_depth': 10, 'min_samples_split': 5, 'min_samples_leaf': 3, 'bootstrap': False, 'criterion': 'entropy'}. Best is trial 8 with value: 0.9451159751715126.\n",
      "[I 2024-04-05 17:21:22,011] Trial 21 finished with value: 0.9408689970597843 and parameters: {'n_estimators': 156, 'max_depth': 26, 'min_samples_split': 7, 'min_samples_leaf': 5, 'bootstrap': True, 'criterion': 'entropy'}. Best is trial 8 with value: 0.9451159751715126.\n",
      "[I 2024-04-05 17:21:23,037] Trial 22 finished with value: 0.9421757595557008 and parameters: {'n_estimators': 143, 'max_depth': 18, 'min_samples_split': 8, 'min_samples_leaf': 5, 'bootstrap': True, 'criterion': 'entropy'}. Best is trial 8 with value: 0.9451159751715126.\n",
      "[I 2024-04-05 17:21:23,815] Trial 23 finished with value: 0.943155831427638 and parameters: {'n_estimators': 105, 'max_depth': 24, 'min_samples_split': 7, 'min_samples_leaf': 4, 'bootstrap': True, 'criterion': 'entropy'}. Best is trial 8 with value: 0.9451159751715126.\n",
      "[I 2024-04-05 17:21:25,277] Trial 24 finished with value: 0.9408689970597843 and parameters: {'n_estimators': 198, 'max_depth': 15, 'min_samples_split': 10, 'min_samples_leaf': 3, 'bootstrap': True, 'criterion': 'entropy'}. Best is trial 8 with value: 0.9451159751715126.\n",
      "[I 2024-04-05 17:21:25,992] Trial 25 finished with value: 0.9369487095720352 and parameters: {'n_estimators': 159, 'max_depth': 4, 'min_samples_split': 9, 'min_samples_leaf': 5, 'bootstrap': True, 'criterion': 'entropy'}. Best is trial 8 with value: 0.9451159751715126.\n",
      "[I 2024-04-05 17:21:26,647] Trial 26 finished with value: 0.9441359032995753 and parameters: {'n_estimators': 98, 'max_depth': 9, 'min_samples_split': 5, 'min_samples_leaf': 3, 'bootstrap': True, 'criterion': 'gini'}. Best is trial 8 with value: 0.9451159751715126.\n",
      "[I 2024-04-05 17:21:27,573] Trial 27 finished with value: 0.9421757595557008 and parameters: {'n_estimators': 100, 'max_depth': 10, 'min_samples_split': 5, 'min_samples_leaf': 3, 'bootstrap': False, 'criterion': 'gini'}. Best is trial 8 with value: 0.9451159751715126.\n",
      "[I 2024-04-05 17:21:28,066] Trial 28 finished with value: 0.9405423064358053 and parameters: {'n_estimators': 70, 'max_depth': 9, 'min_samples_split': 3, 'min_samples_leaf': 2, 'bootstrap': True, 'criterion': 'gini'}. Best is trial 8 with value: 0.9451159751715126.\n",
      "[I 2024-04-05 17:21:28,956] Trial 29 finished with value: 0.943155831427638 and parameters: {'n_estimators': 121, 'max_depth': 13, 'min_samples_split': 4, 'min_samples_leaf': 3, 'bootstrap': True, 'criterion': 'gini'}. Best is trial 8 with value: 0.9451159751715126.\n",
      "[I 2024-04-05 17:21:29,687] Trial 30 finished with value: 0.9415223783077425 and parameters: {'n_estimators': 93, 'max_depth': 8, 'min_samples_split': 5, 'min_samples_leaf': 3, 'bootstrap': False, 'criterion': 'gini'}. Best is trial 8 with value: 0.9451159751715126.\n",
      "[I 2024-04-05 17:21:30,206] Trial 31 finished with value: 0.9369487095720352 and parameters: {'n_estimators': 131, 'max_depth': 4, 'min_samples_split': 6, 'min_samples_leaf': 4, 'bootstrap': True, 'criterion': 'gini'}. Best is trial 8 with value: 0.9451159751715126.\n",
      "[I 2024-04-05 17:21:30,505] Trial 32 finished with value: 0.9418490689317217 and parameters: {'n_estimators': 37, 'max_depth': 30, 'min_samples_split': 7, 'min_samples_leaf': 4, 'bootstrap': True, 'criterion': 'entropy'}. Best is trial 8 with value: 0.9451159751715126.\n",
      "[I 2024-04-05 17:21:30,752] Trial 33 finished with value: 0.9411956876837635 and parameters: {'n_estimators': 31, 'max_depth': 27, 'min_samples_split': 5, 'min_samples_leaf': 2, 'bootstrap': True, 'criterion': 'gini'}. Best is trial 8 with value: 0.9451159751715126.\n",
      "[I 2024-04-05 17:21:31,222] Trial 34 finished with value: 0.9362953283240771 and parameters: {'n_estimators': 104, 'max_depth': 4, 'min_samples_split': 4, 'min_samples_leaf': 3, 'bootstrap': True, 'criterion': 'entropy'}. Best is trial 8 with value: 0.9451159751715126.\n",
      "[I 2024-04-05 17:21:31,732] Trial 35 finished with value: 0.9425024501796798 and parameters: {'n_estimators': 65, 'max_depth': 17, 'min_samples_split': 9, 'min_samples_leaf': 3, 'bootstrap': True, 'criterion': 'gini'}. Best is trial 8 with value: 0.9451159751715126.\n",
      "[I 2024-04-05 17:21:32,878] Trial 36 finished with value: 0.9434825220516171 and parameters: {'n_estimators': 154, 'max_depth': 23, 'min_samples_split': 8, 'min_samples_leaf': 4, 'bootstrap': True, 'criterion': 'entropy'}. Best is trial 8 with value: 0.9451159751715126.\n",
      "[I 2024-04-05 17:21:34,783] Trial 37 finished with value: 0.9415223783077425 and parameters: {'n_estimators': 183, 'max_depth': 28, 'min_samples_split': 6, 'min_samples_leaf': 3, 'bootstrap': False, 'criterion': 'entropy'}. Best is trial 8 with value: 0.9451159751715126.\n",
      "[I 2024-04-05 17:21:35,655] Trial 38 finished with value: 0.943155831427638 and parameters: {'n_estimators': 172, 'max_depth': 6, 'min_samples_split': 6, 'min_samples_leaf': 4, 'bootstrap': True, 'criterion': 'gini'}. Best is trial 8 with value: 0.9451159751715126.\n",
      "[I 2024-04-05 17:21:36,769] Trial 39 finished with value: 0.9421757595557008 and parameters: {'n_estimators': 113, 'max_depth': 14, 'min_samples_split': 8, 'min_samples_leaf': 5, 'bootstrap': False, 'criterion': 'entropy'}. Best is trial 8 with value: 0.9451159751715126.\n",
      "[I 2024-04-05 17:21:37,304] Trial 40 finished with value: 0.943155831427638 and parameters: {'n_estimators': 78, 'max_depth': 8, 'min_samples_split': 3, 'min_samples_leaf': 2, 'bootstrap': True, 'criterion': 'gini'}. Best is trial 8 with value: 0.9451159751715126.\n",
      "[I 2024-04-05 17:21:37,636] Trial 41 finished with value: 0.9438092126755963 and parameters: {'n_estimators': 33, 'max_depth': 10, 'min_samples_split': 5, 'min_samples_leaf': 3, 'bootstrap': False, 'criterion': 'entropy'}. Best is trial 8 with value: 0.9451159751715126.\n",
      "[I 2024-04-05 17:21:37,831] Trial 42 finished with value: 0.9402156158118262 and parameters: {'n_estimators': 16, 'max_depth': 11, 'min_samples_split': 5, 'min_samples_leaf': 3, 'bootstrap': False, 'criterion': 'entropy'}. Best is trial 8 with value: 0.9451159751715126.\n",
      "[I 2024-04-05 17:21:38,047] Trial 43 finished with value: 0.9411956876837635 and parameters: {'n_estimators': 23, 'max_depth': 7, 'min_samples_split': 4, 'min_samples_leaf': 4, 'bootstrap': False, 'criterion': 'entropy'}. Best is trial 8 with value: 0.9451159751715126.\n",
      "[I 2024-04-05 17:21:38,441] Trial 44 finished with value: 0.9398889251878471 and parameters: {'n_estimators': 57, 'max_depth': 5, 'min_samples_split': 5, 'min_samples_leaf': 3, 'bootstrap': False, 'criterion': 'entropy'}. Best is trial 8 with value: 0.9451159751715126.\n",
      "[I 2024-04-05 17:21:38,876] Trial 45 finished with value: 0.9405423064358053 and parameters: {'n_estimators': 40, 'max_depth': 12, 'min_samples_split': 6, 'min_samples_leaf': 3, 'bootstrap': False, 'criterion': 'entropy'}. Best is trial 8 with value: 0.9451159751715126.\n",
      "[I 2024-04-05 17:21:39,310] Trial 46 finished with value: 0.9408689970597843 and parameters: {'n_estimators': 45, 'max_depth': 9, 'min_samples_split': 4, 'min_samples_leaf': 2, 'bootstrap': False, 'criterion': 'gini'}. Best is trial 8 with value: 0.9451159751715126.\n",
      "[I 2024-04-05 17:21:39,435] Trial 47 finished with value: 0.9264946096047043 and parameters: {'n_estimators': 27, 'max_depth': 2, 'min_samples_split': 7, 'min_samples_leaf': 1, 'bootstrap': False, 'criterion': 'entropy'}. Best is trial 8 with value: 0.9451159751715126.\n",
      "[I 2024-04-05 17:21:40,786] Trial 48 finished with value: 0.9411956876837635 and parameters: {'n_estimators': 122, 'max_depth': 19, 'min_samples_split': 6, 'min_samples_leaf': 3, 'bootstrap': False, 'criterion': 'gini'}. Best is trial 8 with value: 0.9451159751715126.\n",
      "[I 2024-04-05 17:21:42,328] Trial 49 finished with value: 0.9411956876837635 and parameters: {'n_estimators': 145, 'max_depth': 16, 'min_samples_split': 5, 'min_samples_leaf': 4, 'bootstrap': False, 'criterion': 'entropy'}. Best is trial 8 with value: 0.9451159751715126.\n",
      "[I 2024-04-05 17:21:43,019] Trial 50 finished with value: 0.9389088533159098 and parameters: {'n_estimators': 56, 'max_depth': 22, 'min_samples_split': 3, 'min_samples_leaf': 2, 'bootstrap': False, 'criterion': 'entropy'}. Best is trial 8 with value: 0.9451159751715126.\n",
      "[I 2024-04-05 17:21:43,231] Trial 51 finished with value: 0.9376020908199935 and parameters: {'n_estimators': 19, 'max_depth': 10, 'min_samples_split': 5, 'min_samples_leaf': 3, 'bootstrap': False, 'criterion': 'entropy'}. Best is trial 8 with value: 0.9451159751715126.\n",
      "[I 2024-04-05 17:21:43,578] Trial 52 finished with value: 0.939562234563868 and parameters: {'n_estimators': 30, 'max_depth': 13, 'min_samples_split': 5, 'min_samples_leaf': 3, 'bootstrap': False, 'criterion': 'entropy'}. Best is trial 8 with value: 0.9451159751715126.\n",
      "[I 2024-04-05 17:21:44,037] Trial 53 finished with value: 0.9418490689317217 and parameters: {'n_estimators': 43, 'max_depth': 11, 'min_samples_split': 4, 'min_samples_leaf': 3, 'bootstrap': False, 'criterion': 'entropy'}. Best is trial 8 with value: 0.9451159751715126.\n",
      "[I 2024-04-05 17:21:44,648] Trial 54 finished with value: 0.9421757595557008 and parameters: {'n_estimators': 75, 'max_depth': 7, 'min_samples_split': 2, 'min_samples_leaf': 3, 'bootstrap': False, 'criterion': 'entropy'}. Best is trial 8 with value: 0.9451159751715126.\n",
      "[I 2024-04-05 17:21:44,996] Trial 55 finished with value: 0.943155831427638 and parameters: {'n_estimators': 35, 'max_depth': 9, 'min_samples_split': 6, 'min_samples_leaf': 3, 'bootstrap': False, 'criterion': 'entropy'}. Best is trial 8 with value: 0.9451159751715126.\n",
      "[I 2024-04-05 17:21:45,096] Trial 56 finished with value: 0.9415223783077425 and parameters: {'n_estimators': 10, 'max_depth': 6, 'min_samples_split': 4, 'min_samples_leaf': 3, 'bootstrap': False, 'criterion': 'gini'}. Best is trial 8 with value: 0.9451159751715126.\n",
      "[I 2024-04-05 17:21:45,763] Trial 57 finished with value: 0.9421757595557008 and parameters: {'n_estimators': 86, 'max_depth': 12, 'min_samples_split': 7, 'min_samples_leaf': 2, 'bootstrap': True, 'criterion': 'entropy'}. Best is trial 8 with value: 0.9451159751715126.\n",
      "[I 2024-04-05 17:21:46,409] Trial 58 finished with value: 0.9425024501796798 and parameters: {'n_estimators': 63, 'max_depth': 10, 'min_samples_split': 5, 'min_samples_leaf': 3, 'bootstrap': False, 'criterion': 'gini'}. Best is trial 8 with value: 0.9451159751715126.\n",
      "[I 2024-04-05 17:21:47,771] Trial 59 finished with value: 0.9441359032995753 and parameters: {'n_estimators': 200, 'max_depth': 8, 'min_samples_split': 5, 'min_samples_leaf': 4, 'bootstrap': True, 'criterion': 'entropy'}. Best is trial 8 with value: 0.9451159751715126.\n",
      "[I 2024-04-05 17:21:49,024] Trial 60 finished with value: 0.943155831427638 and parameters: {'n_estimators': 200, 'max_depth': 8, 'min_samples_split': 4, 'min_samples_leaf': 5, 'bootstrap': True, 'criterion': 'entropy'}. Best is trial 8 with value: 0.9451159751715126.\n",
      "[I 2024-04-05 17:21:49,884] Trial 61 finished with value: 0.9405423064358053 and parameters: {'n_estimators': 165, 'max_depth': 5, 'min_samples_split': 5, 'min_samples_leaf': 4, 'bootstrap': True, 'criterion': 'entropy'}. Best is trial 8 with value: 0.9451159751715126.\n",
      "[I 2024-04-05 17:21:51,013] Trial 62 finished with value: 0.9421757595557008 and parameters: {'n_estimators': 179, 'max_depth': 8, 'min_samples_split': 6, 'min_samples_leaf': 5, 'bootstrap': True, 'criterion': 'entropy'}. Best is trial 8 with value: 0.9451159751715126.\n",
      "[I 2024-04-05 17:21:51,359] Trial 63 finished with value: 0.9421757595557008 and parameters: {'n_estimators': 48, 'max_depth': 9, 'min_samples_split': 5, 'min_samples_leaf': 4, 'bootstrap': True, 'criterion': 'entropy'}. Best is trial 8 with value: 0.9451159751715126.\n",
      "[I 2024-04-05 17:21:52,425] Trial 64 finished with value: 0.943155831427638 and parameters: {'n_estimators': 133, 'max_depth': 11, 'min_samples_split': 6, 'min_samples_leaf': 4, 'bootstrap': True, 'criterion': 'entropy'}. Best is trial 8 with value: 0.9451159751715126.\n",
      "[I 2024-04-05 17:21:53,400] Trial 65 finished with value: 0.9411956876837635 and parameters: {'n_estimators': 188, 'max_depth': 5, 'min_samples_split': 10, 'min_samples_leaf': 3, 'bootstrap': True, 'criterion': 'gini'}. Best is trial 8 with value: 0.9451159751715126.\n",
      "[I 2024-04-05 17:21:54,550] Trial 66 finished with value: 0.9411956876837635 and parameters: {'n_estimators': 96, 'max_depth': 13, 'min_samples_split': 4, 'min_samples_leaf': 3, 'bootstrap': False, 'criterion': 'entropy'}. Best is trial 8 with value: 0.9451159751715126.\n",
      "[I 2024-04-05 17:21:55,476] Trial 67 finished with value: 0.943155831427638 and parameters: {'n_estimators': 109, 'max_depth': 25, 'min_samples_split': 5, 'min_samples_leaf': 5, 'bootstrap': True, 'criterion': 'entropy'}. Best is trial 8 with value: 0.9451159751715126.\n",
      "[I 2024-04-05 17:21:56,205] Trial 68 finished with value: 0.9356419470761189 and parameters: {'n_estimators': 193, 'max_depth': 3, 'min_samples_split': 6, 'min_samples_leaf': 3, 'bootstrap': True, 'criterion': 'gini'}. Best is trial 8 with value: 0.9451159751715126.\n",
      "[I 2024-04-05 17:21:58,103] Trial 69 finished with value: 0.9421757595557008 and parameters: {'n_estimators': 172, 'max_depth': 14, 'min_samples_split': 5, 'min_samples_leaf': 3, 'bootstrap': False, 'criterion': 'entropy'}. Best is trial 8 with value: 0.9451159751715126.\n",
      "[I 2024-04-05 17:21:58,936] Trial 70 finished with value: 0.9438092126755963 and parameters: {'n_estimators': 124, 'max_depth': 7, 'min_samples_split': 7, 'min_samples_leaf': 4, 'bootstrap': True, 'criterion': 'gini'}. Best is trial 8 with value: 0.9451159751715126.\n",
      "[I 2024-04-05 17:21:59,850] Trial 71 finished with value: 0.942829140803659 and parameters: {'n_estimators': 151, 'max_depth': 7, 'min_samples_split': 8, 'min_samples_leaf': 5, 'bootstrap': True, 'criterion': 'gini'}. Best is trial 8 with value: 0.9451159751715126.\n",
      "[I 2024-04-05 17:22:00,535] Trial 72 finished with value: 0.942829140803659 and parameters: {'n_estimators': 124, 'max_depth': 6, 'min_samples_split': 7, 'min_samples_leaf': 4, 'bootstrap': True, 'criterion': 'gini'}. Best is trial 8 with value: 0.9451159751715126.\n",
      "[I 2024-04-05 17:22:01,580] Trial 73 finished with value: 0.9418490689317217 and parameters: {'n_estimators': 135, 'max_depth': 10, 'min_samples_split': 8, 'min_samples_leaf': 3, 'bootstrap': True, 'criterion': 'gini'}. Best is trial 8 with value: 0.9451159751715126.\n",
      "[I 2024-04-05 17:22:02,490] Trial 74 finished with value: 0.9434825220516171 and parameters: {'n_estimators': 127, 'max_depth': 9, 'min_samples_split': 9, 'min_samples_leaf': 4, 'bootstrap': True, 'criterion': 'gini'}. Best is trial 8 with value: 0.9451159751715126.\n",
      "[I 2024-04-05 17:22:03,395] Trial 75 finished with value: 0.943155831427638 and parameters: {'n_estimators': 116, 'max_depth': 20, 'min_samples_split': 7, 'min_samples_leaf': 3, 'bootstrap': True, 'criterion': 'gini'}. Best is trial 8 with value: 0.9451159751715126.\n",
      "[I 2024-04-05 17:22:05,111] Trial 76 finished with value: 0.942829140803659 and parameters: {'n_estimators': 165, 'max_depth': 29, 'min_samples_split': 6, 'min_samples_leaf': 5, 'bootstrap': False, 'criterion': 'gini'}. Best is trial 8 with value: 0.9451159751715126.\n",
      "[I 2024-04-05 17:22:05,887] Trial 77 finished with value: 0.9415223783077425 and parameters: {'n_estimators': 102, 'max_depth': 12, 'min_samples_split': 3, 'min_samples_leaf': 3, 'bootstrap': True, 'criterion': 'entropy'}. Best is trial 8 with value: 0.9451159751715126.\n",
      "[I 2024-04-05 17:22:06,658] Trial 78 finished with value: 0.942829140803659 and parameters: {'n_estimators': 111, 'max_depth': 6, 'min_samples_split': 7, 'min_samples_leaf': 4, 'bootstrap': False, 'criterion': 'entropy'}. Best is trial 8 with value: 0.9451159751715126.\n",
      "[I 2024-04-05 17:22:07,456] Trial 79 finished with value: 0.9444625939235544 and parameters: {'n_estimators': 140, 'max_depth': 7, 'min_samples_split': 4, 'min_samples_leaf': 3, 'bootstrap': True, 'criterion': 'gini'}. Best is trial 8 with value: 0.9451159751715126.\n",
      "[I 2024-04-05 17:22:07,978] Trial 80 finished with value: 0.9349885658281607 and parameters: {'n_estimators': 149, 'max_depth': 3, 'min_samples_split': 4, 'min_samples_leaf': 3, 'bootstrap': True, 'criterion': 'gini'}. Best is trial 8 with value: 0.9451159751715126.\n",
      "[I 2024-04-05 17:22:08,801] Trial 81 finished with value: 0.9438092126755963 and parameters: {'n_estimators': 129, 'max_depth': 8, 'min_samples_split': 4, 'min_samples_leaf': 3, 'bootstrap': True, 'criterion': 'gini'}. Best is trial 8 with value: 0.9451159751715126.\n",
      "[I 2024-04-05 17:22:09,585] Trial 82 finished with value: 0.943155831427638 and parameters: {'n_estimators': 139, 'max_depth': 7, 'min_samples_split': 3, 'min_samples_leaf': 3, 'bootstrap': True, 'criterion': 'gini'}. Best is trial 8 with value: 0.9451159751715126.\n",
      "[I 2024-04-05 17:22:10,475] Trial 83 finished with value: 0.942829140803659 and parameters: {'n_estimators': 139, 'max_depth': 8, 'min_samples_split': 4, 'min_samples_leaf': 3, 'bootstrap': True, 'criterion': 'gini'}. Best is trial 8 with value: 0.9451159751715126.\n",
      "[I 2024-04-05 17:22:11,106] Trial 84 finished with value: 0.9411956876837635 and parameters: {'n_estimators': 128, 'max_depth': 5, 'min_samples_split': 4, 'min_samples_leaf': 3, 'bootstrap': True, 'criterion': 'gini'}. Best is trial 8 with value: 0.9451159751715126.\n",
      "[I 2024-04-05 17:22:11,816] Trial 85 finished with value: 0.9415223783077425 and parameters: {'n_estimators': 117, 'max_depth': 7, 'min_samples_split': 3, 'min_samples_leaf': 2, 'bootstrap': True, 'criterion': 'gini'}. Best is trial 8 with value: 0.9451159751715126.\n",
      "[I 2024-04-05 17:22:12,780] Trial 86 finished with value: 0.942829140803659 and parameters: {'n_estimators': 160, 'max_depth': 8, 'min_samples_split': 4, 'min_samples_leaf': 3, 'bootstrap': True, 'criterion': 'gini'}. Best is trial 8 with value: 0.9451159751715126.\n",
      "[I 2024-04-05 17:22:13,270] Trial 87 finished with value: 0.9379287814439725 and parameters: {'n_estimators': 123, 'max_depth': 4, 'min_samples_split': 5, 'min_samples_leaf': 3, 'bootstrap': True, 'criterion': 'gini'}. Best is trial 8 with value: 0.9451159751715126.\n",
      "[I 2024-04-05 17:22:14,263] Trial 88 finished with value: 0.9421757595557008 and parameters: {'n_estimators': 145, 'max_depth': 9, 'min_samples_split': 8, 'min_samples_leaf': 4, 'bootstrap': True, 'criterion': 'gini'}. Best is trial 8 with value: 0.9451159751715126.\n",
      "[I 2024-04-05 17:22:14,982] Trial 89 finished with value: 0.9421757595557008 and parameters: {'n_estimators': 96, 'max_depth': 10, 'min_samples_split': 9, 'min_samples_leaf': 2, 'bootstrap': True, 'criterion': 'gini'}. Best is trial 8 with value: 0.9451159751715126.\n",
      "[I 2024-04-05 17:22:15,940] Trial 90 finished with value: 0.943155831427638 and parameters: {'n_estimators': 119, 'max_depth': 11, 'min_samples_split': 4, 'min_samples_leaf': 3, 'bootstrap': True, 'criterion': 'gini'}. Best is trial 8 with value: 0.9451159751715126.\n",
      "[I 2024-04-05 17:22:16,819] Trial 91 finished with value: 0.9425024501796798 and parameters: {'n_estimators': 108, 'max_depth': 6, 'min_samples_split': 5, 'min_samples_leaf': 3, 'bootstrap': False, 'criterion': 'entropy'}. Best is trial 8 with value: 0.9451159751715126.\n",
      "[I 2024-04-05 17:22:17,093] Trial 92 finished with value: 0.9402156158118262 and parameters: {'n_estimators': 24, 'max_depth': 8, 'min_samples_split': 6, 'min_samples_leaf': 3, 'bootstrap': False, 'criterion': 'entropy'}. Best is trial 8 with value: 0.9451159751715126.\n",
      "[I 2024-04-05 17:22:19,007] Trial 93 finished with value: 0.9415223783077425 and parameters: {'n_estimators': 180, 'max_depth': 10, 'min_samples_split': 5, 'min_samples_leaf': 3, 'bootstrap': False, 'criterion': 'gini'}. Best is trial 8 with value: 0.9451159751715126.\n",
      "[I 2024-04-05 17:22:19,916] Trial 94 finished with value: 0.9418490689317217 and parameters: {'n_estimators': 129, 'max_depth': 7, 'min_samples_split': 4, 'min_samples_leaf': 3, 'bootstrap': True, 'criterion': 'entropy'}. Best is trial 8 with value: 0.9451159751715126.\n",
      "[I 2024-04-05 17:22:20,531] Trial 95 finished with value: 0.9434825220516171 and parameters: {'n_estimators': 53, 'max_depth': 9, 'min_samples_split': 5, 'min_samples_leaf': 3, 'bootstrap': False, 'criterion': 'entropy'}. Best is trial 8 with value: 0.9451159751715126.\n",
      "[I 2024-04-05 17:22:20,824] Trial 96 finished with value: 0.9408689970597843 and parameters: {'n_estimators': 31, 'max_depth': 18, 'min_samples_split': 5, 'min_samples_leaf': 4, 'bootstrap': True, 'criterion': 'gini'}. Best is trial 8 with value: 0.9451159751715126.\n",
      "[I 2024-04-05 17:22:21,525] Trial 97 finished with value: 0.9415223783077425 and parameters: {'n_estimators': 61, 'max_depth': 14, 'min_samples_split': 4, 'min_samples_leaf': 3, 'bootstrap': False, 'criterion': 'entropy'}. Best is trial 8 with value: 0.9451159751715126.\n",
      "[I 2024-04-05 17:22:22,530] Trial 98 finished with value: 0.9434825220516171 and parameters: {'n_estimators': 135, 'max_depth': 9, 'min_samples_split': 6, 'min_samples_leaf': 3, 'bootstrap': True, 'criterion': 'gini'}. Best is trial 8 with value: 0.9451159751715126.\n",
      "[I 2024-04-05 17:22:23,218] Trial 99 finished with value: 0.939235543939889 and parameters: {'n_estimators': 75, 'max_depth': 6, 'min_samples_split': 5, 'min_samples_leaf': 3, 'bootstrap': False, 'criterion': 'entropy'}. Best is trial 8 with value: 0.9451159751715126.\n"
     ]
    }
   ],
   "source": [
    "study = optuna.create_study(direction='maximize')  \n",
    "study.optimize(objective,n_trials=100)"
   ]
  },
  {
   "cell_type": "code",
   "execution_count": 53,
   "id": "f1fd461e",
   "metadata": {
    "ExecuteTime": {
     "end_time": "2024-04-05T08:23:09.745401Z",
     "start_time": "2024-04-05T08:23:09.742542Z"
    }
   },
   "outputs": [
    {
     "name": "stdout",
     "output_type": "stream",
     "text": [
      "{'n_estimators': 59, 'max_depth': 16, 'min_samples_split': 6, 'min_samples_leaf': 3, 'bootstrap': False, 'criterion': 'entropy'}\n"
     ]
    }
   ],
   "source": [
    "print(study.best_trial.params)"
   ]
  },
  {
   "cell_type": "code",
   "execution_count": 59,
   "id": "3526c324",
   "metadata": {
    "ExecuteTime": {
     "end_time": "2024-04-05T08:27:06.785032Z",
     "start_time": "2024-04-05T08:27:06.191085Z"
    }
   },
   "outputs": [],
   "source": [
    "rf_optuna=RandomForestClassifier(n_estimators= 59, max_depth= 16,\n",
    "                                  min_samples_split= 6, min_samples_leaf= 3,\n",
    "                                  bootstrap= False, criterion= 'entropy')\n",
    "rf_optuna.fit(X_train,y_train)\n",
    "dpredictions4=rf_optuna.predict(X_val)"
   ]
  },
  {
   "cell_type": "code",
   "execution_count": 67,
   "id": "d97e5be7",
   "metadata": {
    "ExecuteTime": {
     "end_time": "2024-04-05T08:33:27.111329Z",
     "start_time": "2024-04-05T08:33:27.103841Z"
    }
   },
   "outputs": [
    {
     "name": "stdout",
     "output_type": "stream",
     "text": [
      "randcv: 0.943155831427638\n",
      "gridcv: 0.9405423064358053\n",
      "bayescv: 0.9411956876837635\n",
      "optuna: 0.942829140803659\n"
     ]
    }
   ],
   "source": [
    "print(f'randcv: {accuracy_score(y_val,dpredictions1)}')\n",
    "print(f'gridcv: {accuracy_score(y_val,dpredictions2)}')\n",
    "print(f'bayescv: {accuracy_score(y_val,dpredictions3)}')\n",
    "print(f'optuna: {accuracy_score(y_val,dpredictions4)}')"
   ]
  },
  {
   "cell_type": "code",
   "execution_count": 68,
   "id": "c581be2c",
   "metadata": {
    "ExecuteTime": {
     "end_time": "2024-04-05T08:34:33.374692Z",
     "start_time": "2024-04-05T08:34:33.271343Z"
    }
   },
   "outputs": [],
   "source": [
    "train=pd.read_csv('pitching.csv')"
   ]
  },
  {
   "cell_type": "code",
   "execution_count": 69,
   "id": "a78d2a19",
   "metadata": {
    "ExecuteTime": {
     "end_time": "2024-04-05T08:34:50.158425Z",
     "start_time": "2024-04-05T08:34:50.146519Z"
    }
   },
   "outputs": [],
   "source": [
    "train.dropna(axis=1,inplace=True)"
   ]
  },
  {
   "cell_type": "code",
   "execution_count": 70,
   "id": "38a04335",
   "metadata": {
    "ExecuteTime": {
     "end_time": "2024-04-05T08:35:08.409372Z",
     "start_time": "2024-04-05T08:35:08.402729Z"
    }
   },
   "outputs": [],
   "source": [
    "train=train[train['year']>=1980]"
   ]
  },
  {
   "cell_type": "code",
   "execution_count": 71,
   "id": "82d890f0",
   "metadata": {
    "ExecuteTime": {
     "end_time": "2024-04-05T08:35:24.000982Z",
     "start_time": "2024-04-05T08:35:23.995012Z"
    }
   },
   "outputs": [],
   "source": [
    "train.loc[train['w'] < 10, 'w'] = 0\n",
    "train.loc[train['w'] >= 10, 'w'] = 1"
   ]
  },
  {
   "cell_type": "code",
   "execution_count": 72,
   "id": "fea0e3ec",
   "metadata": {
    "ExecuteTime": {
     "end_time": "2024-04-05T08:35:45.947672Z",
     "start_time": "2024-04-05T08:35:45.938697Z"
    }
   },
   "outputs": [],
   "source": [
    "train.drop(axis=1,columns='player_id',inplace=True)\n",
    "train.drop(axis=1,columns='year',inplace=True)\n",
    "train.drop(axis=1,columns='team_id',inplace=True)"
   ]
  },
  {
   "cell_type": "code",
   "execution_count": 73,
   "id": "67ea99ee",
   "metadata": {
    "ExecuteTime": {
     "end_time": "2024-04-05T08:35:56.084051Z",
     "start_time": "2024-04-05T08:35:56.079065Z"
    }
   },
   "outputs": [],
   "source": [
    "test=train['w']\n",
    "train=train.drop(columns='w',axis=1)"
   ]
  },
  {
   "cell_type": "code",
   "execution_count": 75,
   "id": "696b6b7b",
   "metadata": {
    "ExecuteTime": {
     "end_time": "2024-04-05T08:36:34.713363Z",
     "start_time": "2024-04-05T08:36:34.706871Z"
    }
   },
   "outputs": [],
   "source": [
    "X_train,X_test,y_train,y_test=train_test_split(train,test,test_size=0.2)"
   ]
  },
  {
   "cell_type": "code",
   "execution_count": 77,
   "id": "df727b6d",
   "metadata": {
    "ExecuteTime": {
     "end_time": "2024-04-05T08:39:18.459970Z",
     "start_time": "2024-04-05T08:39:18.454669Z"
    }
   },
   "outputs": [
    {
     "data": {
      "text/html": [
       "<style>#sk-container-id-1 {\n",
       "  /* Definition of color scheme common for light and dark mode */\n",
       "  --sklearn-color-text: black;\n",
       "  --sklearn-color-line: gray;\n",
       "  /* Definition of color scheme for unfitted estimators */\n",
       "  --sklearn-color-unfitted-level-0: #fff5e6;\n",
       "  --sklearn-color-unfitted-level-1: #f6e4d2;\n",
       "  --sklearn-color-unfitted-level-2: #ffe0b3;\n",
       "  --sklearn-color-unfitted-level-3: chocolate;\n",
       "  /* Definition of color scheme for fitted estimators */\n",
       "  --sklearn-color-fitted-level-0: #f0f8ff;\n",
       "  --sklearn-color-fitted-level-1: #d4ebff;\n",
       "  --sklearn-color-fitted-level-2: #b3dbfd;\n",
       "  --sklearn-color-fitted-level-3: cornflowerblue;\n",
       "\n",
       "  /* Specific color for light theme */\n",
       "  --sklearn-color-text-on-default-background: var(--sg-text-color, var(--theme-code-foreground, var(--jp-content-font-color1, black)));\n",
       "  --sklearn-color-background: var(--sg-background-color, var(--theme-background, var(--jp-layout-color0, white)));\n",
       "  --sklearn-color-border-box: var(--sg-text-color, var(--theme-code-foreground, var(--jp-content-font-color1, black)));\n",
       "  --sklearn-color-icon: #696969;\n",
       "\n",
       "  @media (prefers-color-scheme: dark) {\n",
       "    /* Redefinition of color scheme for dark theme */\n",
       "    --sklearn-color-text-on-default-background: var(--sg-text-color, var(--theme-code-foreground, var(--jp-content-font-color1, white)));\n",
       "    --sklearn-color-background: var(--sg-background-color, var(--theme-background, var(--jp-layout-color0, #111)));\n",
       "    --sklearn-color-border-box: var(--sg-text-color, var(--theme-code-foreground, var(--jp-content-font-color1, white)));\n",
       "    --sklearn-color-icon: #878787;\n",
       "  }\n",
       "}\n",
       "\n",
       "#sk-container-id-1 {\n",
       "  color: var(--sklearn-color-text);\n",
       "}\n",
       "\n",
       "#sk-container-id-1 pre {\n",
       "  padding: 0;\n",
       "}\n",
       "\n",
       "#sk-container-id-1 input.sk-hidden--visually {\n",
       "  border: 0;\n",
       "  clip: rect(1px 1px 1px 1px);\n",
       "  clip: rect(1px, 1px, 1px, 1px);\n",
       "  height: 1px;\n",
       "  margin: -1px;\n",
       "  overflow: hidden;\n",
       "  padding: 0;\n",
       "  position: absolute;\n",
       "  width: 1px;\n",
       "}\n",
       "\n",
       "#sk-container-id-1 div.sk-dashed-wrapped {\n",
       "  border: 1px dashed var(--sklearn-color-line);\n",
       "  margin: 0 0.4em 0.5em 0.4em;\n",
       "  box-sizing: border-box;\n",
       "  padding-bottom: 0.4em;\n",
       "  background-color: var(--sklearn-color-background);\n",
       "}\n",
       "\n",
       "#sk-container-id-1 div.sk-container {\n",
       "  /* jupyter's `normalize.less` sets `[hidden] { display: none; }`\n",
       "     but bootstrap.min.css set `[hidden] { display: none !important; }`\n",
       "     so we also need the `!important` here to be able to override the\n",
       "     default hidden behavior on the sphinx rendered scikit-learn.org.\n",
       "     See: https://github.com/scikit-learn/scikit-learn/issues/21755 */\n",
       "  display: inline-block !important;\n",
       "  position: relative;\n",
       "}\n",
       "\n",
       "#sk-container-id-1 div.sk-text-repr-fallback {\n",
       "  display: none;\n",
       "}\n",
       "\n",
       "div.sk-parallel-item,\n",
       "div.sk-serial,\n",
       "div.sk-item {\n",
       "  /* draw centered vertical line to link estimators */\n",
       "  background-image: linear-gradient(var(--sklearn-color-text-on-default-background), var(--sklearn-color-text-on-default-background));\n",
       "  background-size: 2px 100%;\n",
       "  background-repeat: no-repeat;\n",
       "  background-position: center center;\n",
       "}\n",
       "\n",
       "/* Parallel-specific style estimator block */\n",
       "\n",
       "#sk-container-id-1 div.sk-parallel-item::after {\n",
       "  content: \"\";\n",
       "  width: 100%;\n",
       "  border-bottom: 2px solid var(--sklearn-color-text-on-default-background);\n",
       "  flex-grow: 1;\n",
       "}\n",
       "\n",
       "#sk-container-id-1 div.sk-parallel {\n",
       "  display: flex;\n",
       "  align-items: stretch;\n",
       "  justify-content: center;\n",
       "  background-color: var(--sklearn-color-background);\n",
       "  position: relative;\n",
       "}\n",
       "\n",
       "#sk-container-id-1 div.sk-parallel-item {\n",
       "  display: flex;\n",
       "  flex-direction: column;\n",
       "}\n",
       "\n",
       "#sk-container-id-1 div.sk-parallel-item:first-child::after {\n",
       "  align-self: flex-end;\n",
       "  width: 50%;\n",
       "}\n",
       "\n",
       "#sk-container-id-1 div.sk-parallel-item:last-child::after {\n",
       "  align-self: flex-start;\n",
       "  width: 50%;\n",
       "}\n",
       "\n",
       "#sk-container-id-1 div.sk-parallel-item:only-child::after {\n",
       "  width: 0;\n",
       "}\n",
       "\n",
       "/* Serial-specific style estimator block */\n",
       "\n",
       "#sk-container-id-1 div.sk-serial {\n",
       "  display: flex;\n",
       "  flex-direction: column;\n",
       "  align-items: center;\n",
       "  background-color: var(--sklearn-color-background);\n",
       "  padding-right: 1em;\n",
       "  padding-left: 1em;\n",
       "}\n",
       "\n",
       "\n",
       "/* Toggleable style: style used for estimator/Pipeline/ColumnTransformer box that is\n",
       "clickable and can be expanded/collapsed.\n",
       "- Pipeline and ColumnTransformer use this feature and define the default style\n",
       "- Estimators will overwrite some part of the style using the `sk-estimator` class\n",
       "*/\n",
       "\n",
       "/* Pipeline and ColumnTransformer style (default) */\n",
       "\n",
       "#sk-container-id-1 div.sk-toggleable {\n",
       "  /* Default theme specific background. It is overwritten whether we have a\n",
       "  specific estimator or a Pipeline/ColumnTransformer */\n",
       "  background-color: var(--sklearn-color-background);\n",
       "}\n",
       "\n",
       "/* Toggleable label */\n",
       "#sk-container-id-1 label.sk-toggleable__label {\n",
       "  cursor: pointer;\n",
       "  display: block;\n",
       "  width: 100%;\n",
       "  margin-bottom: 0;\n",
       "  padding: 0.5em;\n",
       "  box-sizing: border-box;\n",
       "  text-align: center;\n",
       "}\n",
       "\n",
       "#sk-container-id-1 label.sk-toggleable__label-arrow:before {\n",
       "  /* Arrow on the left of the label */\n",
       "  content: \"▸\";\n",
       "  float: left;\n",
       "  margin-right: 0.25em;\n",
       "  color: var(--sklearn-color-icon);\n",
       "}\n",
       "\n",
       "#sk-container-id-1 label.sk-toggleable__label-arrow:hover:before {\n",
       "  color: var(--sklearn-color-text);\n",
       "}\n",
       "\n",
       "/* Toggleable content - dropdown */\n",
       "\n",
       "#sk-container-id-1 div.sk-toggleable__content {\n",
       "  max-height: 0;\n",
       "  max-width: 0;\n",
       "  overflow: hidden;\n",
       "  text-align: left;\n",
       "  /* unfitted */\n",
       "  background-color: var(--sklearn-color-unfitted-level-0);\n",
       "}\n",
       "\n",
       "#sk-container-id-1 div.sk-toggleable__content.fitted {\n",
       "  /* fitted */\n",
       "  background-color: var(--sklearn-color-fitted-level-0);\n",
       "}\n",
       "\n",
       "#sk-container-id-1 div.sk-toggleable__content pre {\n",
       "  margin: 0.2em;\n",
       "  border-radius: 0.25em;\n",
       "  color: var(--sklearn-color-text);\n",
       "  /* unfitted */\n",
       "  background-color: var(--sklearn-color-unfitted-level-0);\n",
       "}\n",
       "\n",
       "#sk-container-id-1 div.sk-toggleable__content.fitted pre {\n",
       "  /* unfitted */\n",
       "  background-color: var(--sklearn-color-fitted-level-0);\n",
       "}\n",
       "\n",
       "#sk-container-id-1 input.sk-toggleable__control:checked~div.sk-toggleable__content {\n",
       "  /* Expand drop-down */\n",
       "  max-height: 200px;\n",
       "  max-width: 100%;\n",
       "  overflow: auto;\n",
       "}\n",
       "\n",
       "#sk-container-id-1 input.sk-toggleable__control:checked~label.sk-toggleable__label-arrow:before {\n",
       "  content: \"▾\";\n",
       "}\n",
       "\n",
       "/* Pipeline/ColumnTransformer-specific style */\n",
       "\n",
       "#sk-container-id-1 div.sk-label input.sk-toggleable__control:checked~label.sk-toggleable__label {\n",
       "  color: var(--sklearn-color-text);\n",
       "  background-color: var(--sklearn-color-unfitted-level-2);\n",
       "}\n",
       "\n",
       "#sk-container-id-1 div.sk-label.fitted input.sk-toggleable__control:checked~label.sk-toggleable__label {\n",
       "  background-color: var(--sklearn-color-fitted-level-2);\n",
       "}\n",
       "\n",
       "/* Estimator-specific style */\n",
       "\n",
       "/* Colorize estimator box */\n",
       "#sk-container-id-1 div.sk-estimator input.sk-toggleable__control:checked~label.sk-toggleable__label {\n",
       "  /* unfitted */\n",
       "  background-color: var(--sklearn-color-unfitted-level-2);\n",
       "}\n",
       "\n",
       "#sk-container-id-1 div.sk-estimator.fitted input.sk-toggleable__control:checked~label.sk-toggleable__label {\n",
       "  /* fitted */\n",
       "  background-color: var(--sklearn-color-fitted-level-2);\n",
       "}\n",
       "\n",
       "#sk-container-id-1 div.sk-label label.sk-toggleable__label,\n",
       "#sk-container-id-1 div.sk-label label {\n",
       "  /* The background is the default theme color */\n",
       "  color: var(--sklearn-color-text-on-default-background);\n",
       "}\n",
       "\n",
       "/* On hover, darken the color of the background */\n",
       "#sk-container-id-1 div.sk-label:hover label.sk-toggleable__label {\n",
       "  color: var(--sklearn-color-text);\n",
       "  background-color: var(--sklearn-color-unfitted-level-2);\n",
       "}\n",
       "\n",
       "/* Label box, darken color on hover, fitted */\n",
       "#sk-container-id-1 div.sk-label.fitted:hover label.sk-toggleable__label.fitted {\n",
       "  color: var(--sklearn-color-text);\n",
       "  background-color: var(--sklearn-color-fitted-level-2);\n",
       "}\n",
       "\n",
       "/* Estimator label */\n",
       "\n",
       "#sk-container-id-1 div.sk-label label {\n",
       "  font-family: monospace;\n",
       "  font-weight: bold;\n",
       "  display: inline-block;\n",
       "  line-height: 1.2em;\n",
       "}\n",
       "\n",
       "#sk-container-id-1 div.sk-label-container {\n",
       "  text-align: center;\n",
       "}\n",
       "\n",
       "/* Estimator-specific */\n",
       "#sk-container-id-1 div.sk-estimator {\n",
       "  font-family: monospace;\n",
       "  border: 1px dotted var(--sklearn-color-border-box);\n",
       "  border-radius: 0.25em;\n",
       "  box-sizing: border-box;\n",
       "  margin-bottom: 0.5em;\n",
       "  /* unfitted */\n",
       "  background-color: var(--sklearn-color-unfitted-level-0);\n",
       "}\n",
       "\n",
       "#sk-container-id-1 div.sk-estimator.fitted {\n",
       "  /* fitted */\n",
       "  background-color: var(--sklearn-color-fitted-level-0);\n",
       "}\n",
       "\n",
       "/* on hover */\n",
       "#sk-container-id-1 div.sk-estimator:hover {\n",
       "  /* unfitted */\n",
       "  background-color: var(--sklearn-color-unfitted-level-2);\n",
       "}\n",
       "\n",
       "#sk-container-id-1 div.sk-estimator.fitted:hover {\n",
       "  /* fitted */\n",
       "  background-color: var(--sklearn-color-fitted-level-2);\n",
       "}\n",
       "\n",
       "/* Specification for estimator info (e.g. \"i\" and \"?\") */\n",
       "\n",
       "/* Common style for \"i\" and \"?\" */\n",
       "\n",
       ".sk-estimator-doc-link,\n",
       "a:link.sk-estimator-doc-link,\n",
       "a:visited.sk-estimator-doc-link {\n",
       "  float: right;\n",
       "  font-size: smaller;\n",
       "  line-height: 1em;\n",
       "  font-family: monospace;\n",
       "  background-color: var(--sklearn-color-background);\n",
       "  border-radius: 1em;\n",
       "  height: 1em;\n",
       "  width: 1em;\n",
       "  text-decoration: none !important;\n",
       "  margin-left: 1ex;\n",
       "  /* unfitted */\n",
       "  border: var(--sklearn-color-unfitted-level-1) 1pt solid;\n",
       "  color: var(--sklearn-color-unfitted-level-1);\n",
       "}\n",
       "\n",
       ".sk-estimator-doc-link.fitted,\n",
       "a:link.sk-estimator-doc-link.fitted,\n",
       "a:visited.sk-estimator-doc-link.fitted {\n",
       "  /* fitted */\n",
       "  border: var(--sklearn-color-fitted-level-1) 1pt solid;\n",
       "  color: var(--sklearn-color-fitted-level-1);\n",
       "}\n",
       "\n",
       "/* On hover */\n",
       "div.sk-estimator:hover .sk-estimator-doc-link:hover,\n",
       ".sk-estimator-doc-link:hover,\n",
       "div.sk-label-container:hover .sk-estimator-doc-link:hover,\n",
       ".sk-estimator-doc-link:hover {\n",
       "  /* unfitted */\n",
       "  background-color: var(--sklearn-color-unfitted-level-3);\n",
       "  color: var(--sklearn-color-background);\n",
       "  text-decoration: none;\n",
       "}\n",
       "\n",
       "div.sk-estimator.fitted:hover .sk-estimator-doc-link.fitted:hover,\n",
       ".sk-estimator-doc-link.fitted:hover,\n",
       "div.sk-label-container:hover .sk-estimator-doc-link.fitted:hover,\n",
       ".sk-estimator-doc-link.fitted:hover {\n",
       "  /* fitted */\n",
       "  background-color: var(--sklearn-color-fitted-level-3);\n",
       "  color: var(--sklearn-color-background);\n",
       "  text-decoration: none;\n",
       "}\n",
       "\n",
       "/* Span, style for the box shown on hovering the info icon */\n",
       ".sk-estimator-doc-link span {\n",
       "  display: none;\n",
       "  z-index: 9999;\n",
       "  position: relative;\n",
       "  font-weight: normal;\n",
       "  right: .2ex;\n",
       "  padding: .5ex;\n",
       "  margin: .5ex;\n",
       "  width: min-content;\n",
       "  min-width: 20ex;\n",
       "  max-width: 50ex;\n",
       "  color: var(--sklearn-color-text);\n",
       "  box-shadow: 2pt 2pt 4pt #999;\n",
       "  /* unfitted */\n",
       "  background: var(--sklearn-color-unfitted-level-0);\n",
       "  border: .5pt solid var(--sklearn-color-unfitted-level-3);\n",
       "}\n",
       "\n",
       ".sk-estimator-doc-link.fitted span {\n",
       "  /* fitted */\n",
       "  background: var(--sklearn-color-fitted-level-0);\n",
       "  border: var(--sklearn-color-fitted-level-3);\n",
       "}\n",
       "\n",
       ".sk-estimator-doc-link:hover span {\n",
       "  display: block;\n",
       "}\n",
       "\n",
       "/* \"?\"-specific style due to the `<a>` HTML tag */\n",
       "\n",
       "#sk-container-id-1 a.estimator_doc_link {\n",
       "  float: right;\n",
       "  font-size: 1rem;\n",
       "  line-height: 1em;\n",
       "  font-family: monospace;\n",
       "  background-color: var(--sklearn-color-background);\n",
       "  border-radius: 1rem;\n",
       "  height: 1rem;\n",
       "  width: 1rem;\n",
       "  text-decoration: none;\n",
       "  /* unfitted */\n",
       "  color: var(--sklearn-color-unfitted-level-1);\n",
       "  border: var(--sklearn-color-unfitted-level-1) 1pt solid;\n",
       "}\n",
       "\n",
       "#sk-container-id-1 a.estimator_doc_link.fitted {\n",
       "  /* fitted */\n",
       "  border: var(--sklearn-color-fitted-level-1) 1pt solid;\n",
       "  color: var(--sklearn-color-fitted-level-1);\n",
       "}\n",
       "\n",
       "/* On hover */\n",
       "#sk-container-id-1 a.estimator_doc_link:hover {\n",
       "  /* unfitted */\n",
       "  background-color: var(--sklearn-color-unfitted-level-3);\n",
       "  color: var(--sklearn-color-background);\n",
       "  text-decoration: none;\n",
       "}\n",
       "\n",
       "#sk-container-id-1 a.estimator_doc_link.fitted:hover {\n",
       "  /* fitted */\n",
       "  background-color: var(--sklearn-color-fitted-level-3);\n",
       "}\n",
       "</style><div id=\"sk-container-id-1\" class=\"sk-top-container\"><div class=\"sk-text-repr-fallback\"><pre>RandomForestClassifier(bootstrap=False, min_samples_leaf=4, min_samples_split=5)</pre><b>In a Jupyter environment, please rerun this cell to show the HTML representation or trust the notebook. <br />On GitHub, the HTML representation is unable to render, please try loading this page with nbviewer.org.</b></div><div class=\"sk-container\" hidden><div class=\"sk-item\"><div class=\"sk-estimator fitted sk-toggleable\"><input class=\"sk-toggleable__control sk-hidden--visually\" id=\"sk-estimator-id-1\" type=\"checkbox\" checked><label for=\"sk-estimator-id-1\" class=\"sk-toggleable__label fitted sk-toggleable__label-arrow fitted\">&nbsp;&nbsp;RandomForestClassifier<a class=\"sk-estimator-doc-link fitted\" rel=\"noreferrer\" target=\"_blank\" href=\"https://scikit-learn.org/1.4/modules/generated/sklearn.ensemble.RandomForestClassifier.html\">?<span>Documentation for RandomForestClassifier</span></a><span class=\"sk-estimator-doc-link fitted\">i<span>Fitted</span></span></label><div class=\"sk-toggleable__content fitted\"><pre>RandomForestClassifier(bootstrap=False, min_samples_leaf=4, min_samples_split=5)</pre></div> </div></div></div></div>"
      ],
      "text/plain": [
       "RandomForestClassifier(bootstrap=False, min_samples_leaf=4, min_samples_split=5)"
      ]
     },
     "execution_count": 77,
     "metadata": {},
     "output_type": "execute_result"
    }
   ],
   "source": []
  },
  {
   "cell_type": "code",
   "execution_count": 79,
   "id": "dd726b6b",
   "metadata": {
    "ExecuteTime": {
     "end_time": "2024-04-05T08:39:47.852805Z",
     "start_time": "2024-04-05T08:39:46.502464Z"
    }
   },
   "outputs": [],
   "source": [
    "rand_param.fit(X_train,y_train)\n",
    "dpredictions1=rand_param.predict(X_test)"
   ]
  },
  {
   "cell_type": "code",
   "execution_count": 83,
   "id": "430ebc77",
   "metadata": {
    "ExecuteTime": {
     "end_time": "2024-04-05T08:41:20.055355Z",
     "start_time": "2024-04-05T08:41:16.951498Z"
    }
   },
   "outputs": [],
   "source": [
    "grid_param.fit(X_train,y_train)\n",
    "dpredictions2=grid_param.predict(X_test)\n",
    "bayes_param.fit(X_train,y_train)\n",
    "dpredictions3=bayes_param.predict(X_test)"
   ]
  },
  {
   "cell_type": "code",
   "execution_count": 89,
   "id": "13c67177",
   "metadata": {
    "ExecuteTime": {
     "end_time": "2024-04-05T08:43:06.783478Z",
     "start_time": "2024-04-05T08:43:06.062704Z"
    }
   },
   "outputs": [],
   "source": [
    "rf_optuna.fit(X_train,y_train)\n",
    "dpredictions4=rf_optuna.predict(X_test)"
   ]
  },
  {
   "cell_type": "code",
   "execution_count": 90,
   "id": "520eee5a",
   "metadata": {
    "ExecuteTime": {
     "end_time": "2024-04-05T08:43:08.114599Z",
     "start_time": "2024-04-05T08:43:08.107297Z"
    }
   },
   "outputs": [
    {
     "name": "stdout",
     "output_type": "stream",
     "text": [
      "randcv: 0.9565217391304348\n",
      "gridcv: 0.9560491493383743\n",
      "bayescv: 0.956758034026465\n",
      "optuna: 0.9572306238185255\n"
     ]
    }
   ],
   "source": [
    "print(f'randcv: {accuracy_score(y_test,dpredictions1)}')\n",
    "print(f'gridcv: {accuracy_score(y_test,dpredictions2)}')\n",
    "print(f'bayescv: {accuracy_score(y_test,dpredictions3)}')\n",
    "print(f'optuna: {accuracy_score(y_test,dpredictions4)}')"
   ]
  },
  {
   "cell_type": "markdown",
   "id": "f9592bf5",
   "metadata": {},
   "source": [
    "Optuna 으로 하는게 좋은거 같다..!(test_val에서 2등,test에서 1등 정확도)"
   ]
  }
 ],
 "metadata": {
  "hide_input": false,
  "kernelspec": {
   "display_name": "Python 3 (ipykernel)",
   "language": "python",
   "name": "python3"
  },
  "language_info": {
   "codemirror_mode": {
    "name": "ipython",
    "version": 3
   },
   "file_extension": ".py",
   "mimetype": "text/x-python",
   "name": "python",
   "nbconvert_exporter": "python",
   "pygments_lexer": "ipython3",
   "version": "3.11.5"
  },
  "toc": {
   "base_numbering": 1,
   "nav_menu": {},
   "number_sections": true,
   "sideBar": true,
   "skip_h1_title": false,
   "title_cell": "Table of Contents",
   "title_sidebar": "Contents",
   "toc_cell": false,
   "toc_position": {},
   "toc_section_display": true,
   "toc_window_display": false
  },
  "varInspector": {
   "cols": {
    "lenName": 16,
    "lenType": 16,
    "lenVar": 40
   },
   "kernels_config": {
    "python": {
     "delete_cmd_postfix": "",
     "delete_cmd_prefix": "del ",
     "library": "var_list.py",
     "varRefreshCmd": "print(var_dic_list())"
    },
    "r": {
     "delete_cmd_postfix": ") ",
     "delete_cmd_prefix": "rm(",
     "library": "var_list.r",
     "varRefreshCmd": "cat(var_dic_list()) "
    }
   },
   "types_to_exclude": [
    "module",
    "function",
    "builtin_function_or_method",
    "instance",
    "_Feature"
   ],
   "window_display": false
  }
 },
 "nbformat": 4,
 "nbformat_minor": 5
}
