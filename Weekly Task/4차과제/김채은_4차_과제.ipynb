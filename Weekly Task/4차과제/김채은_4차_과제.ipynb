{
  "nbformat": 4,
  "nbformat_minor": 0,
  "metadata": {
    "colab": {
      "provenance": []
    },
    "kernelspec": {
      "name": "python3",
      "display_name": "Python 3"
    },
    "language_info": {
      "name": "python"
    }
  },
  "cells": [
    {
      "cell_type": "markdown",
      "source": [
        "## 4차 과제 - Hyperparameter Tuning을 해보자\n",
        "- 주제: 하이퍼파라미터 튜닝 기법 학습\n",
        "- 데이터: The History of Baseball(Pitching Data) https://www.kaggle.com/datasets/seanlahman/the-history-of-baseball?select=pitching.csv\n",
        "- 사용 라이브러리: pandas, numpy, matplotlib, sklearn, imblearn, bayes_opt"
      ],
      "metadata": {
        "id": "fLOztMr9VDFr"
      }
    },
    {
      "cell_type": "markdown",
      "source": [
        "### 1. EDA, 전처리\n",
        "1.1 분석을 위해 사용될 라이브러리들을 import 하세요."
      ],
      "metadata": {
        "id": "48iAXdBgVNSr"
      }
    },
    {
      "cell_type": "code",
      "source": [
        "pip install bayesian-optimization"
      ],
      "metadata": {
        "colab": {
          "base_uri": "https://localhost:8080/"
        },
        "id": "vxJy63FSZ-Ox",
        "outputId": "a9f2007c-7b97-4b10-80d0-75c9da607743"
      },
      "execution_count": 155,
      "outputs": [
        {
          "output_type": "stream",
          "name": "stdout",
          "text": [
            "Requirement already satisfied: bayesian-optimization in /usr/local/lib/python3.10/dist-packages (1.4.3)\n",
            "Requirement already satisfied: numpy>=1.9.0 in /usr/local/lib/python3.10/dist-packages (from bayesian-optimization) (1.25.2)\n",
            "Requirement already satisfied: scipy>=1.0.0 in /usr/local/lib/python3.10/dist-packages (from bayesian-optimization) (1.11.4)\n",
            "Requirement already satisfied: scikit-learn>=0.18.0 in /usr/local/lib/python3.10/dist-packages (from bayesian-optimization) (1.2.2)\n",
            "Requirement already satisfied: colorama>=0.4.6 in /usr/local/lib/python3.10/dist-packages (from bayesian-optimization) (0.4.6)\n",
            "Requirement already satisfied: joblib>=1.1.1 in /usr/local/lib/python3.10/dist-packages (from scikit-learn>=0.18.0->bayesian-optimization) (1.3.2)\n",
            "Requirement already satisfied: threadpoolctl>=2.0.0 in /usr/local/lib/python3.10/dist-packages (from scikit-learn>=0.18.0->bayesian-optimization) (3.4.0)\n"
          ]
        }
      ]
    },
    {
      "cell_type": "code",
      "source": [
        "import numpy as np\n",
        "import pandas as pd\n",
        "import matplotlib.pyplot as plt\n",
        "from imblearn.over_sampling import SMOTE\n",
        "from sklearn.model_selection import train_test_split,RandomizedSearchCV, GridSearchCV\n",
        "from sklearn.ensemble import RandomForestClassifier\n",
        "from sklearn.metrics import accuracy_score\n",
        "from bayes_opt import BayesianOptimization"
      ],
      "metadata": {
        "id": "OJcW5_7cWeSO"
      },
      "execution_count": 156,
      "outputs": []
    },
    {
      "cell_type": "markdown",
      "source": [
        "1.2 데이터를 불러오고 info()를 통해 데이터를 살펴보세요."
      ],
      "metadata": {
        "id": "GYCkPtLyVOWh"
      }
    },
    {
      "cell_type": "code",
      "source": [
        "from google.colab import drive\n",
        "drive.mount('/content/gdrive')\n",
        "path  = \"/content/gdrive/My Drive/\"\n",
        "fname = \"pitching.csv\"\n",
        "df=pd.read_csv(path + fname)"
      ],
      "metadata": {
        "colab": {
          "base_uri": "https://localhost:8080/"
        },
        "id": "wFW1D4q0cu2a",
        "outputId": "2319bb27-8353-44be-fd23-881822244923"
      },
      "execution_count": 157,
      "outputs": [
        {
          "output_type": "stream",
          "name": "stdout",
          "text": [
            "Drive already mounted at /content/gdrive; to attempt to forcibly remount, call drive.mount(\"/content/gdrive\", force_remount=True).\n"
          ]
        }
      ]
    },
    {
      "cell_type": "code",
      "source": [
        "df.info()"
      ],
      "metadata": {
        "colab": {
          "base_uri": "https://localhost:8080/"
        },
        "id": "8WbvtKA5e6M2",
        "outputId": "6b6d4f1f-1d04-480d-d6fd-493cff4e2e7e"
      },
      "execution_count": 158,
      "outputs": [
        {
          "output_type": "stream",
          "name": "stdout",
          "text": [
            "<class 'pandas.core.frame.DataFrame'>\n",
            "RangeIndex: 44139 entries, 0 to 44138\n",
            "Data columns (total 30 columns):\n",
            " #   Column     Non-Null Count  Dtype  \n",
            "---  ------     --------------  -----  \n",
            " 0   player_id  44139 non-null  object \n",
            " 1   year       44139 non-null  int64  \n",
            " 2   stint      44139 non-null  int64  \n",
            " 3   team_id    44139 non-null  object \n",
            " 4   league_id  44008 non-null  object \n",
            " 5   w          44139 non-null  int64  \n",
            " 6   l          44139 non-null  int64  \n",
            " 7   g          44139 non-null  int64  \n",
            " 8   gs         44139 non-null  int64  \n",
            " 9   cg         44139 non-null  int64  \n",
            " 10  sho        44139 non-null  int64  \n",
            " 11  sv         44139 non-null  int64  \n",
            " 12  ipouts     44138 non-null  float64\n",
            " 13  h          44139 non-null  int64  \n",
            " 14  er         44139 non-null  int64  \n",
            " 15  hr         44139 non-null  int64  \n",
            " 16  bb         44139 non-null  int64  \n",
            " 17  so         44139 non-null  int64  \n",
            " 18  baopp      42614 non-null  float64\n",
            " 19  era        44049 non-null  float64\n",
            " 20  ibb        29564 non-null  float64\n",
            " 21  wp         44006 non-null  float64\n",
            " 22  hbp        43580 non-null  float64\n",
            " 23  bk         44139 non-null  int64  \n",
            " 24  bfp        43900 non-null  float64\n",
            " 25  gf         44006 non-null  float64\n",
            " 26  r          44139 non-null  int64  \n",
            " 27  sh         11239 non-null  float64\n",
            " 28  sf         11239 non-null  float64\n",
            " 29  g_idp      745 non-null    float64\n",
            "dtypes: float64(11), int64(16), object(3)\n",
            "memory usage: 10.1+ MB\n"
          ]
        }
      ]
    },
    {
      "cell_type": "markdown",
      "source": [
        "1.3 null 값이 있는 컬럼은 모두 삭제하겠습니다(원래는 다른 처리를 해야 하지만 컬럼 수는 충분하니까..ㅎㅎ 야구 잘 몰라서 그런 거 아닙니다.)."
      ],
      "metadata": {
        "id": "Rd5jDEhgVVJD"
      }
    },
    {
      "cell_type": "code",
      "source": [
        "df = df.dropna(axis=1, how='any')"
      ],
      "metadata": {
        "id": "lcrpWNAre_Of"
      },
      "execution_count": 159,
      "outputs": []
    },
    {
      "cell_type": "markdown",
      "source": [
        "1.4 연도 별로 몇개의 데이터가 있는 지 확인 후 데이터가 얼마 없는 과거 데이터는 삭제하겠습니다. 이를 위해 연도 별 데이터 수를 계산하고 line plot으로 그리세요."
      ],
      "metadata": {
        "id": "XHBp0cE1Vcb1"
      }
    },
    {
      "cell_type": "code",
      "source": [
        "value_count = df['year'].value_counts()\n",
        "print(value_count)"
      ],
      "metadata": {
        "colab": {
          "base_uri": "https://localhost:8080/"
        },
        "id": "LIqw7_ligKjO",
        "outputId": "5f14a0de-2dd7-4aa7-e78a-a8559c353a02"
      },
      "execution_count": 160,
      "outputs": [
        {
          "output_type": "stream",
          "name": "stdout",
          "text": [
            "year\n",
            "2015    809\n",
            "2014    746\n",
            "2009    729\n",
            "2013    726\n",
            "2012    722\n",
            "       ... \n",
            "1872     23\n",
            "1878     22\n",
            "1877     19\n",
            "1871     19\n",
            "1874     17\n",
            "Name: count, Length: 145, dtype: int64\n"
          ]
        }
      ]
    },
    {
      "cell_type": "code",
      "source": [
        "value_count.plot()\n",
        "plt.title('Number of data per year')\n",
        "plt.xlabel('year')\n",
        "plt.ylabel('Number of data')\n",
        "plt.show()"
      ],
      "metadata": {
        "colab": {
          "base_uri": "https://localhost:8080/",
          "height": 472
        },
        "id": "-suNSFQLiu66",
        "outputId": "251bea77-4197-4c9e-e666-e1567cd46e04"
      },
      "execution_count": 161,
      "outputs": [
        {
          "output_type": "display_data",
          "data": {
            "text/plain": [
              "<Figure size 640x480 with 1 Axes>"
            ],
            "image/png": "[encoded data removed]"
          },
          "metadata": {}
        }
      ]
    },
    {
      "cell_type": "markdown",
      "source": [
        "1.5 보다 최신 분석을 위해 1980년 이후의 데이터만 남기고 몇개의 데이터가 남았는지 확인하세요."
      ],
      "metadata": {
        "id": "uQy0mRwqVdao"
      }
    },
    {
      "cell_type": "code",
      "source": [
        "df = df[df['year'] >= 1980]\n",
        "row_count = len(df)\n",
        "print(row_count)"
      ],
      "metadata": {
        "colab": {
          "base_uri": "https://localhost:8080/"
        },
        "id": "ovuLKBCIlhCk",
        "outputId": "e490d179-ab06-4977-b1d6-cc62196c6820"
      },
      "execution_count": 162,
      "outputs": [
        {
          "output_type": "stream",
          "name": "stdout",
          "text": [
            "21157\n"
          ]
        }
      ]
    },
    {
      "cell_type": "markdown",
      "source": [
        "1.6 reset_index()를 통해 재배열하세요."
      ],
      "metadata": {
        "id": "YZZnO175VhDQ"
      }
    },
    {
      "cell_type": "code",
      "source": [
        "df.reset_index(drop=True, inplace=True)"
      ],
      "metadata": {
        "id": "PStJRw2XoJM8"
      },
      "execution_count": 163,
      "outputs": []
    },
    {
      "cell_type": "markdown",
      "source": [
        "1.7 투수의 승리 수를 예측해보겠습니다. w 컬럼의 value를 확인해보세요."
      ],
      "metadata": {
        "id": "RpTzC6ZxVlpS"
      }
    },
    {
      "cell_type": "code",
      "source": [
        "df['w']"
      ],
      "metadata": {
        "colab": {
          "base_uri": "https://localhost:8080/"
        },
        "id": "KaZAEGfQpa4E",
        "outputId": "0b464288-0387-406d-ae7b-8bab1dd866be"
      },
      "execution_count": 164,
      "outputs": [
        {
          "output_type": "execute_result",
          "data": {
            "text/plain": [
              "0         8\n",
              "1        12\n",
              "2        14\n",
              "3         0\n",
              "4         7\n",
              "         ..\n",
              "21152    11\n",
              "21153     0\n",
              "21154    13\n",
              "21155     0\n",
              "21156     0\n",
              "Name: w, Length: 21157, dtype: int64"
            ]
          },
          "metadata": {},
          "execution_count": 164
        }
      ]
    },
    {
      "cell_type": "markdown",
      "source": [
        "1.8 0승 투수(출전하지 않은 경우도 존재)가 많으므로 승리 수가 0인 데이터는 삭제하겠습니다."
      ],
      "metadata": {
        "id": "XbyxpEOeVoxt"
      }
    },
    {
      "cell_type": "code",
      "source": [
        "df = df[df['w'] != 0]\n",
        "df"
      ],
      "metadata": {
        "colab": {
          "base_uri": "https://localhost:8080/",
          "height": 423
        },
        "id": "7TXrbcpNqG7W",
        "outputId": "47e5b76b-99c2-4550-f073-3143fc7b7dd9"
      },
      "execution_count": 165,
      "outputs": [
        {
          "output_type": "execute_result",
          "data": {
            "text/plain": [
              "       player_id  year  stint team_id   w   l   g  gs  cg  sho  sv    h   er  \\\n",
              "0       aasedo01  1980      1     CAL   8  13  40  21   5    1   2  193   79   \n",
              "1      abbotgl01  1980      1     SEA  12  12  31  31   7    2   0  228   98   \n",
              "2      alexado01  1980      1     ATL  14  11  35  35   7    1   0  227  108   \n",
              "4      allenne01  1980      1     NYN   7  10  59   0   0    0  22   87   40   \n",
              "6      andujjo01  1980      1     HOU   3   8  35  14   0    0   2  132   53   \n",
              "...          ...   ...    ...     ...  ..  ..  ..  ..  ..  ...  ..  ...  ...   \n",
              "21147  wrighmi01  2015      1     BAL   3   5  12   9   0    0   0   52   30   \n",
              "21148  wrighst01  2015      1     BOS   5   4  16   9   0    0   0   67   33   \n",
              "21151  yateski01  2015      1     TBA   1   0  20   0   0    0   0   23   18   \n",
              "21152  youngch03  2015      1     KCA  11   6  34  18   0    0   0   91   42   \n",
              "21154  zimmejo02  2015      1     WAS  13  10  33  33   0    0   0  204   82   \n",
              "\n",
              "       hr  bb   so  bk    r  \n",
              "0      13  66   74   1   83  \n",
              "1      27  49   78   1  110  \n",
              "2      20  74  114   0  120  \n",
              "4       7  40   79   1   43  \n",
              "6       8  43   75   0   59  \n",
              "...    ..  ..  ...  ..  ...  \n",
              "21147   9  18   26   0   30  \n",
              "21148  12  27   52   0   38  \n",
              "21151  10   7   21   0   18  \n",
              "21152  16  43   83   0   44  \n",
              "21154  24  39  164   1   89  \n",
              "\n",
              "[15303 rows x 18 columns]"
            ],
            "text/html": [
              "\n",
              "  <div id=\"df-56c88672-28c3-4ee0-812e-d8328969ac60\" class=\"colab-df-container\">\n",
              "    <div>\n",
              "<style scoped>\n",
              "    .dataframe tbody tr th:only-of-type {\n",
              "        vertical-align: middle;\n",
              "    }\n",
              "\n",
              "    .dataframe tbody tr th {\n",
              "        vertical-align: top;\n",
              "    }\n",
              "\n",
              "    .dataframe thead th {\n",
              "        text-align: right;\n",
              "    }\n",
              "</style>\n",
              "<table border=\"1\" class=\"dataframe\">\n",
              "  <thead>\n",
              "    <tr style=\"text-align: right;\">\n",
              "      <th></th>\n",
              "      <th>player_id</th>\n",
              "      <th>year</th>\n",
              "      <th>stint</th>\n",
              "      <th>team_id</th>\n",
              "      <th>w</th>\n",
              "      <th>l</th>\n",
              "      <th>g</th>\n",
              "      <th>gs</th>\n",
              "      <th>cg</th>\n",
              "      <th>sho</th>\n",
              "      <th>sv</th>\n",
              "      <th>h</th>\n",
              "      <th>er</th>\n",
              "      <th>hr</th>\n",
              "      <th>bb</th>\n",
              "      <th>so</th>\n",
              "      <th>bk</th>\n",
              "      <th>r</th>\n",
              "    </tr>\n",
              "  </thead>\n",
              "  <tbody>\n",
              "    <tr>\n",
              "      <th>0</th>\n",
              "      <td>aasedo01</td>\n",
              "      <td>1980</td>\n",
              "      <td>1</td>\n",
              "      <td>CAL</td>\n",
              "      <td>8</td>\n",
              "      <td>13</td>\n",
              "      <td>40</td>\n",
              "      <td>21</td>\n",
              "      <td>5</td>\n",
              "      <td>1</td>\n",
              "      <td>2</td>\n",
              "      <td>193</td>\n",
              "      <td>79</td>\n",
              "      <td>13</td>\n",
              "      <td>66</td>\n",
              "      <td>74</td>\n",
              "      <td>1</td>\n",
              "      <td>83</td>\n",
              "    </tr>\n",
              "    <tr>\n",
              "      <th>1</th>\n",
              "      <td>abbotgl01</td>\n",
              "      <td>1980</td>\n",
              "      <td>1</td>\n",
              "      <td>SEA</td>\n",
              "      <td>12</td>\n",
              "      <td>12</td>\n",
              "      <td>31</td>\n",
              "      <td>31</td>\n",
              "      <td>7</td>\n",
              "      <td>2</td>\n",
              "      <td>0</td>\n",
              "      <td>228</td>\n",
              "      <td>98</td>\n",
              "      <td>27</td>\n",
              "      <td>49</td>\n",
              "      <td>78</td>\n",
              "      <td>1</td>\n",
              "      <td>110</td>\n",
              "    </tr>\n",
              "    <tr>\n",
              "      <th>2</th>\n",
              "      <td>alexado01</td>\n",
              "      <td>1980</td>\n",
              "      <td>1</td>\n",
              "      <td>ATL</td>\n",
              "      <td>14</td>\n",
              "      <td>11</td>\n",
              "      <td>35</td>\n",
              "      <td>35</td>\n",
              "      <td>7</td>\n",
              "      <td>1</td>\n",
              "      <td>0</td>\n",
              "      <td>227</td>\n",
              "      <td>108</td>\n",
              "      <td>20</td>\n",
              "      <td>74</td>\n",
              "      <td>114</td>\n",
              "      <td>0</td>\n",
              "      <td>120</td>\n",
              "    </tr>\n",
              "    <tr>\n",
              "      <th>4</th>\n",
              "      <td>allenne01</td>\n",
              "      <td>1980</td>\n",
              "      <td>1</td>\n",
              "      <td>NYN</td>\n",
              "      <td>7</td>\n",
              "      <td>10</td>\n",
              "      <td>59</td>\n",
              "      <td>0</td>\n",
              "      <td>0</td>\n",
              "      <td>0</td>\n",
              "      <td>22</td>\n",
              "      <td>87</td>\n",
              "      <td>40</td>\n",
              "      <td>7</td>\n",
              "      <td>40</td>\n",
              "      <td>79</td>\n",
              "      <td>1</td>\n",
              "      <td>43</td>\n",
              "    </tr>\n",
              "    <tr>\n",
              "      <th>6</th>\n",
              "      <td>andujjo01</td>\n",
              "      <td>1980</td>\n",
              "      <td>1</td>\n",
              "      <td>HOU</td>\n",
              "      <td>3</td>\n",
              "      <td>8</td>\n",
              "      <td>35</td>\n",
              "      <td>14</td>\n",
              "      <td>0</td>\n",
              "      <td>0</td>\n",
              "      <td>2</td>\n",
              "      <td>132</td>\n",
              "      <td>53</td>\n",
              "      <td>8</td>\n",
              "      <td>43</td>\n",
              "      <td>75</td>\n",
              "      <td>0</td>\n",
              "      <td>59</td>\n",
              "    </tr>\n",
              "    <tr>\n",
              "      <th>...</th>\n",
              "      <td>...</td>\n",
              "      <td>...</td>\n",
              "      <td>...</td>\n",
              "      <td>...</td>\n",
              "      <td>...</td>\n",
              "      <td>...</td>\n",
              "      <td>...</td>\n",
              "      <td>...</td>\n",
              "      <td>...</td>\n",
              "      <td>...</td>\n",
              "      <td>...</td>\n",
              "      <td>...</td>\n",
              "      <td>...</td>\n",
              "      <td>...</td>\n",
              "      <td>...</td>\n",
              "      <td>...</td>\n",
              "      <td>...</td>\n",
              "      <td>...</td>\n",
              "    </tr>\n",
              "    <tr>\n",
              "      <th>21147</th>\n",
              "      <td>wrighmi01</td>\n",
              "      <td>2015</td>\n",
              "      <td>1</td>\n",
              "      <td>BAL</td>\n",
              "      <td>3</td>\n",
              "      <td>5</td>\n",
              "      <td>12</td>\n",
              "      <td>9</td>\n",
              "      <td>0</td>\n",
              "      <td>0</td>\n",
              "      <td>0</td>\n",
              "      <td>52</td>\n",
              "      <td>30</td>\n",
              "      <td>9</td>\n",
              "      <td>18</td>\n",
              "      <td>26</td>\n",
              "      <td>0</td>\n",
              "      <td>30</td>\n",
              "    </tr>\n",
              "    <tr>\n",
              "      <th>21148</th>\n",
              "      <td>wrighst01</td>\n",
              "      <td>2015</td>\n",
              "      <td>1</td>\n",
              "      <td>BOS</td>\n",
              "      <td>5</td>\n",
              "      <td>4</td>\n",
              "      <td>16</td>\n",
              "      <td>9</td>\n",
              "      <td>0</td>\n",
              "      <td>0</td>\n",
              "      <td>0</td>\n",
              "      <td>67</td>\n",
              "      <td>33</td>\n",
              "      <td>12</td>\n",
              "      <td>27</td>\n",
              "      <td>52</td>\n",
              "      <td>0</td>\n",
              "      <td>38</td>\n",
              "    </tr>\n",
              "    <tr>\n",
              "      <th>21151</th>\n",
              "      <td>yateski01</td>\n",
              "      <td>2015</td>\n",
              "      <td>1</td>\n",
              "      <td>TBA</td>\n",
              "      <td>1</td>\n",
              "      <td>0</td>\n",
              "      <td>20</td>\n",
              "      <td>0</td>\n",
              "      <td>0</td>\n",
              "      <td>0</td>\n",
              "      <td>0</td>\n",
              "      <td>23</td>\n",
              "      <td>18</td>\n",
              "      <td>10</td>\n",
              "      <td>7</td>\n",
              "      <td>21</td>\n",
              "      <td>0</td>\n",
              "      <td>18</td>\n",
              "    </tr>\n",
              "    <tr>\n",
              "      <th>21152</th>\n",
              "      <td>youngch03</td>\n",
              "      <td>2015</td>\n",
              "      <td>1</td>\n",
              "      <td>KCA</td>\n",
              "      <td>11</td>\n",
              "      <td>6</td>\n",
              "      <td>34</td>\n",
              "      <td>18</td>\n",
              "      <td>0</td>\n",
              "      <td>0</td>\n",
              "      <td>0</td>\n",
              "      <td>91</td>\n",
              "      <td>42</td>\n",
              "      <td>16</td>\n",
              "      <td>43</td>\n",
              "      <td>83</td>\n",
              "      <td>0</td>\n",
              "      <td>44</td>\n",
              "    </tr>\n",
              "    <tr>\n",
              "      <th>21154</th>\n",
              "      <td>zimmejo02</td>\n",
              "      <td>2015</td>\n",
              "      <td>1</td>\n",
              "      <td>WAS</td>\n",
              "      <td>13</td>\n",
              "      <td>10</td>\n",
              "      <td>33</td>\n",
              "      <td>33</td>\n",
              "      <td>0</td>\n",
              "      <td>0</td>\n",
              "      <td>0</td>\n",
              "      <td>204</td>\n",
              "      <td>82</td>\n",
              "      <td>24</td>\n",
              "      <td>39</td>\n",
              "      <td>164</td>\n",
              "      <td>1</td>\n",
              "      <td>89</td>\n",
              "    </tr>\n",
              "  </tbody>\n",
              "</table>\n",
              "<p>15303 rows × 18 columns</p>\n",
              "</div>\n",
              "    <div class=\"colab-df-buttons\">\n",
              "\n",
              "  <div class=\"colab-df-container\">\n",
              "    <button class=\"colab-df-convert\" onclick=\"convertToInteractive('df-56c88672-28c3-4ee0-812e-d8328969ac60')\"\n",
              "            title=\"Convert this dataframe to an interactive table.\"\n",
              "            style=\"display:none;\">\n",
              "\n",
              "  <svg xmlns=\"http://www.w3.org/2000/svg\" height=\"24px\" viewBox=\"0 -960 960 960\">\n",
              "    <path d=\"M120-120v-720h720v720H120Zm60-500h600v-160H180v160Zm220 220h160v-160H400v160Zm0 220h160v-160H400v160ZM180-400h160v-160H180v160Zm440 0h160v-160H620v160ZM180-180h160v-160H180v160Zm440 0h160v-160H620v160Z\"/>\n",
              "  </svg>\n",
              "    </button>\n",
              "\n",
              "  <style>\n",
              "    .colab-df-container {\n",
              "      display:flex;\n",
              "      gap: 12px;\n",
              "    }\n",
              "\n",
              "    .colab-df-convert {\n",
              "      background-color: #E8F0FE;\n",
              "      border: none;\n",
              "      border-radius: 50%;\n",
              "      cursor: pointer;\n",
              "      display: none;\n",
              "      fill: #1967D2;\n",
              "      height: 32px;\n",
              "      padding: 0 0 0 0;\n",
              "      width: 32px;\n",
              "    }\n",
              "\n",
              "    .colab-df-convert:hover {\n",
              "      background-color: #E2EBFA;\n",
              "      box-shadow: 0px 1px 2px rgba(60, 64, 67, 0.3), 0px 1px 3px 1px rgba(60, 64, 67, 0.15);\n",
              "      fill: #174EA6;\n",
              "    }\n",
              "\n",
              "    .colab-df-buttons div {\n",
              "      margin-bottom: 4px;\n",
              "    }\n",
              "\n",
              "    [theme=dark] .colab-df-convert {\n",
              "      background-color: #3B4455;\n",
              "      fill: #D2E3FC;\n",
              "    }\n",
              "\n",
              "    [theme=dark] .colab-df-convert:hover {\n",
              "      background-color: #434B5C;\n",
              "      box-shadow: 0px 1px 3px 1px rgba(0, 0, 0, 0.15);\n",
              "      filter: drop-shadow(0px 1px 2px rgba(0, 0, 0, 0.3));\n",
              "      fill: #FFFFFF;\n",
              "    }\n",
              "  </style>\n",
              "\n",
              "    <script>\n",
              "      const buttonEl =\n",
              "        document.querySelector('#df-56c88672-28c3-4ee0-812e-d8328969ac60 button.colab-df-convert');\n",
              "      buttonEl.style.display =\n",
              "        google.colab.kernel.accessAllowed ? 'block' : 'none';\n",
              "\n",
              "      async function convertToInteractive(key) {\n",
              "        const element = document.querySelector('#df-56c88672-28c3-4ee0-812e-d8328969ac60');\n",
              "        const dataTable =\n",
              "          await google.colab.kernel.invokeFunction('convertToInteractive',\n",
              "                                                    [key], {});\n",
              "        if (!dataTable) return;\n",
              "\n",
              "        const docLinkHtml = 'Like what you see? Visit the ' +\n",
              "          '<a target=\"_blank\" href=https://colab.research.google.com/notebooks/data_table.ipynb>data table notebook</a>'\n",
              "          + ' to learn more about interactive tables.';\n",
              "        element.innerHTML = '';\n",
              "        dataTable['output_type'] = 'display_data';\n",
              "        await google.colab.output.renderOutput(dataTable, element);\n",
              "        const docLink = document.createElement('div');\n",
              "        docLink.innerHTML = docLinkHtml;\n",
              "        element.appendChild(docLink);\n",
              "      }\n",
              "    </script>\n",
              "  </div>\n",
              "\n",
              "\n",
              "<div id=\"df-c0d94f20-cdd4-4d1e-ba08-310f74eaaaf0\">\n",
              "  <button class=\"colab-df-quickchart\" onclick=\"quickchart('df-c0d94f20-cdd4-4d1e-ba08-310f74eaaaf0')\"\n",
              "            title=\"Suggest charts\"\n",
              "            style=\"display:none;\">\n",
              "\n",
              "<svg xmlns=\"http://www.w3.org/2000/svg\" height=\"24px\"viewBox=\"0 0 24 24\"\n",
              "     width=\"24px\">\n",
              "    <g>\n",
              "        <path d=\"M19 3H5c-1.1 0-2 .9-2 2v14c0 1.1.9 2 2 2h14c1.1 0 2-.9 2-2V5c0-1.1-.9-2-2-2zM9 17H7v-7h2v7zm4 0h-2V7h2v10zm4 0h-2v-4h2v4z\"/>\n",
              "    </g>\n",
              "</svg>\n",
              "  </button>\n",
              "\n",
              "<style>\n",
              "  .colab-df-quickchart {\n",
              "      --bg-color: #E8F0FE;\n",
              "      --fill-color: #1967D2;\n",
              "      --hover-bg-color: #E2EBFA;\n",
              "      --hover-fill-color: #174EA6;\n",
              "      --disabled-fill-color: #AAA;\n",
              "      --disabled-bg-color: #DDD;\n",
              "  }\n",
              "\n",
              "  [theme=dark] .colab-df-quickchart {\n",
              "      --bg-color: #3B4455;\n",
              "      --fill-color: #D2E3FC;\n",
              "      --hover-bg-color: #434B5C;\n",
              "      --hover-fill-color: #FFFFFF;\n",
              "      --disabled-bg-color: #3B4455;\n",
              "      --disabled-fill-color: #666;\n",
              "  }\n",
              "\n",
              "  .colab-df-quickchart {\n",
              "    background-color: var(--bg-color);\n",
              "    border: none;\n",
              "    border-radius: 50%;\n",
              "    cursor: pointer;\n",
              "    display: none;\n",
              "    fill: var(--fill-color);\n",
              "    height: 32px;\n",
              "    padding: 0;\n",
              "    width: 32px;\n",
              "  }\n",
              "\n",
              "  .colab-df-quickchart:hover {\n",
              "    background-color: var(--hover-bg-color);\n",
              "    box-shadow: 0 1px 2px rgba(60, 64, 67, 0.3), 0 1px 3px 1px rgba(60, 64, 67, 0.15);\n",
              "    fill: var(--button-hover-fill-color);\n",
              "  }\n",
              "\n",
              "  .colab-df-quickchart-complete:disabled,\n",
              "  .colab-df-quickchart-complete:disabled:hover {\n",
              "    background-color: var(--disabled-bg-color);\n",
              "    fill: var(--disabled-fill-color);\n",
              "    box-shadow: none;\n",
              "  }\n",
              "\n",
              "  .colab-df-spinner {\n",
              "    border: 2px solid var(--fill-color);\n",
              "    border-color: transparent;\n",
              "    border-bottom-color: var(--fill-color);\n",
              "    animation:\n",
              "      spin 1s steps(1) infinite;\n",
              "  }\n",
              "\n",
              "  @keyframes spin {\n",
              "    0% {\n",
              "      border-color: transparent;\n",
              "      border-bottom-color: var(--fill-color);\n",
              "      border-left-color: var(--fill-color);\n",
              "    }\n",
              "    20% {\n",
              "      border-color: transparent;\n",
              "      border-left-color: var(--fill-color);\n",
              "      border-top-color: var(--fill-color);\n",
              "    }\n",
              "    30% {\n",
              "      border-color: transparent;\n",
              "      border-left-color: var(--fill-color);\n",
              "      border-top-color: var(--fill-color);\n",
              "      border-right-color: var(--fill-color);\n",
              "    }\n",
              "    40% {\n",
              "      border-color: transparent;\n",
              "      border-right-color: var(--fill-color);\n",
              "      border-top-color: var(--fill-color);\n",
              "    }\n",
              "    60% {\n",
              "      border-color: transparent;\n",
              "      border-right-color: var(--fill-color);\n",
              "    }\n",
              "    80% {\n",
              "      border-color: transparent;\n",
              "      border-right-color: var(--fill-color);\n",
              "      border-bottom-color: var(--fill-color);\n",
              "    }\n",
              "    90% {\n",
              "      border-color: transparent;\n",
              "      border-bottom-color: var(--fill-color);\n",
              "    }\n",
              "  }\n",
              "</style>\n",
              "\n",
              "  <script>\n",
              "    async function quickchart(key) {\n",
              "      const quickchartButtonEl =\n",
              "        document.querySelector('#' + key + ' button');\n",
              "      quickchartButtonEl.disabled = true;  // To prevent multiple clicks.\n",
              "      quickchartButtonEl.classList.add('colab-df-spinner');\n",
              "      try {\n",
              "        const charts = await google.colab.kernel.invokeFunction(\n",
              "            'suggestCharts', [key], {});\n",
              "      } catch (error) {\n",
              "        console.error('Error during call to suggestCharts:', error);\n",
              "      }\n",
              "      quickchartButtonEl.classList.remove('colab-df-spinner');\n",
              "      quickchartButtonEl.classList.add('colab-df-quickchart-complete');\n",
              "    }\n",
              "    (() => {\n",
              "      let quickchartButtonEl =\n",
              "        document.querySelector('#df-c0d94f20-cdd4-4d1e-ba08-310f74eaaaf0 button');\n",
              "      quickchartButtonEl.style.display =\n",
              "        google.colab.kernel.accessAllowed ? 'block' : 'none';\n",
              "    })();\n",
              "  </script>\n",
              "</div>\n",
              "    </div>\n",
              "  </div>\n"
            ],
            "application/vnd.google.colaboratory.intrinsic+json": {
              "type": "dataframe",
              "variable_name": "df",
              "summary": "{\n  \"name\": \"df\",\n  \"rows\": 15303,\n  \"fields\": [\n    {\n      \"column\": \"player_id\",\n      \"properties\": {\n        \"dtype\": \"category\",\n        \"num_unique_values\": 3111,\n        \"samples\": [\n          \"frohwto01\",\n          \"michach01\",\n          \"pricejo02\"\n        ],\n        \"semantic_type\": \"\",\n        \"description\": \"\"\n      }\n    },\n    {\n      \"column\": \"year\",\n      \"properties\": {\n        \"dtype\": \"number\",\n        \"std\": 10,\n        \"min\": 1980,\n        \"max\": 2015,\n        \"num_unique_values\": 36,\n        \"samples\": [\n          2015,\n          1993,\n          2006\n        ],\n        \"semantic_type\": \"\",\n        \"description\": \"\"\n      }\n    },\n    {\n      \"column\": \"stint\",\n      \"properties\": {\n        \"dtype\": \"number\",\n        \"std\": 0,\n        \"min\": 1,\n        \"max\": 4,\n        \"num_unique_values\": 4,\n        \"samples\": [\n          2,\n          4,\n          1\n        ],\n        \"semantic_type\": \"\",\n        \"description\": \"\"\n      }\n    },\n    {\n      \"column\": \"team_id\",\n      \"properties\": {\n        \"dtype\": \"category\",\n        \"num_unique_values\": 35,\n        \"samples\": [\n          \"FLO\",\n          \"LAN\",\n          \"BAL\"\n        ],\n        \"semantic_type\": \"\",\n        \"description\": \"\"\n      }\n    },\n    {\n      \"column\": \"w\",\n      \"properties\": {\n        \"dtype\": \"number\",\n        \"std\": 4,\n        \"min\": 1,\n        \"max\": 27,\n        \"num_unique_values\": 26,\n        \"samples\": [\n          9,\n          24,\n          8\n        ],\n        \"semantic_type\": \"\",\n        \"description\": \"\"\n      }\n    },\n    {\n      \"column\": \"l\",\n      \"properties\": {\n        \"dtype\": \"number\",\n        \"std\": 3,\n        \"min\": 0,\n        \"max\": 21,\n        \"num_unique_values\": 22,\n        \"samples\": [\n          13,\n          14,\n          1\n        ],\n        \"semantic_type\": \"\",\n        \"description\": \"\"\n      }\n    },\n    {\n      \"column\": \"g\",\n      \"properties\": {\n        \"dtype\": \"number\",\n        \"std\": 19,\n        \"min\": 1,\n        \"max\": 94,\n        \"num_unique_values\": 92,\n        \"samples\": [\n          43,\n          56,\n          49\n        ],\n        \"semantic_type\": \"\",\n        \"description\": \"\"\n      }\n    },\n    {\n      \"column\": \"gs\",\n      \"properties\": {\n        \"dtype\": \"number\",\n        \"std\": 12,\n        \"min\": 0,\n        \"max\": 40,\n        \"num_unique_values\": 41,\n        \"samples\": [\n          27,\n          6,\n          36\n        ],\n        \"semantic_type\": \"\",\n        \"description\": \"\"\n      }\n    },\n    {\n      \"column\": \"cg\",\n      \"properties\": {\n        \"dtype\": \"number\",\n        \"std\": 1,\n        \"min\": 0,\n        \"max\": 28,\n        \"num_unique_values\": 24,\n        \"samples\": [\n          4,\n          9,\n          5\n        ],\n        \"semantic_type\": \"\",\n        \"description\": \"\"\n      }\n    },\n    {\n      \"column\": \"sho\",\n      \"properties\": {\n        \"dtype\": \"number\",\n        \"std\": 0,\n        \"min\": 0,\n        \"max\": 10,\n        \"num_unique_values\": 10,\n        \"samples\": [\n          10,\n          2,\n          6\n        ],\n        \"semantic_type\": \"\",\n        \"description\": \"\"\n      }\n    },\n    {\n      \"column\": \"sv\",\n      \"properties\": {\n        \"dtype\": \"number\",\n        \"std\": 7,\n        \"min\": 0,\n        \"max\": 62,\n        \"num_unique_values\": 57,\n        \"samples\": [\n          2,\n          5,\n          16\n        ],\n        \"semantic_type\": \"\",\n        \"description\": \"\"\n      }\n    },\n    {\n      \"column\": \"h\",\n      \"properties\": {\n        \"dtype\": \"number\",\n        \"std\": 64,\n        \"min\": 0,\n        \"max\": 287,\n        \"num_unique_values\": 282,\n        \"samples\": [\n          50,\n          78,\n          29\n        ],\n        \"semantic_type\": \"\",\n        \"description\": \"\"\n      }\n    },\n    {\n      \"column\": \"er\",\n      \"properties\": {\n        \"dtype\": \"number\",\n        \"std\": 29,\n        \"min\": 0,\n        \"max\": 145,\n        \"num_unique_values\": 139,\n        \"samples\": [\n          136,\n          34,\n          29\n        ],\n        \"semantic_type\": \"\",\n        \"description\": \"\"\n      }\n    },\n    {\n      \"column\": \"hr\",\n      \"properties\": {\n        \"dtype\": \"number\",\n        \"std\": 7,\n        \"min\": 0,\n        \"max\": 50,\n        \"num_unique_values\": 47,\n        \"samples\": [\n          30,\n          40,\n          21\n        ],\n        \"semantic_type\": \"\",\n        \"description\": \"\"\n      }\n    },\n    {\n      \"column\": \"bb\",\n      \"properties\": {\n        \"dtype\": \"number\",\n        \"std\": 22,\n        \"min\": 0,\n        \"max\": 152,\n        \"num_unique_values\": 130,\n        \"samples\": [\n          78,\n          27,\n          59\n        ],\n        \"semantic_type\": \"\",\n        \"description\": \"\"\n      }\n    },\n    {\n      \"column\": \"so\",\n      \"properties\": {\n        \"dtype\": \"number\",\n        \"std\": 48,\n        \"min\": 0,\n        \"max\": 372,\n        \"num_unique_values\": 280,\n        \"samples\": [\n          33,\n          73,\n          257\n        ],\n        \"semantic_type\": \"\",\n        \"description\": \"\"\n      }\n    },\n    {\n      \"column\": \"bk\",\n      \"properties\": {\n        \"dtype\": \"number\",\n        \"std\": 1,\n        \"min\": 0,\n        \"max\": 16,\n        \"num_unique_values\": 16,\n        \"samples\": [\n          1,\n          0,\n          7\n        ],\n        \"semantic_type\": \"\",\n        \"description\": \"\"\n      }\n    },\n    {\n      \"column\": \"r\",\n      \"properties\": {\n        \"dtype\": \"number\",\n        \"std\": 31,\n        \"min\": 0,\n        \"max\": 160,\n        \"num_unique_values\": 153,\n        \"samples\": [\n          56,\n          62,\n          49\n        ],\n        \"semantic_type\": \"\",\n        \"description\": \"\"\n      }\n    }\n  ]\n}"
            }
          },
          "metadata": {},
          "execution_count": 165
        }
      ]
    },
    {
      "cell_type": "markdown",
      "source": [
        "1.9 Regression이 아닌 Classification으로 분석해보겠습니다. 이를 위해 10을 기준으로 w를 10승 이상이면 1, 10승 미만이면 0인 Binary 형태로 변환하세요."
      ],
      "metadata": {
        "id": "2lQRXN9JVrPF"
      }
    },
    {
      "cell_type": "code",
      "source": [
        "df['w'] = np.where(df['w'] >= 10, 1, 0)\n",
        "df"
      ],
      "metadata": {
        "colab": {
          "base_uri": "https://localhost:8080/",
          "height": 423
        },
        "id": "uKjWPqWsrRAb",
        "outputId": "3449d13f-5a17-4f86-beeb-60d013ad3d36"
      },
      "execution_count": 166,
      "outputs": [
        {
          "output_type": "execute_result",
          "data": {
            "text/plain": [
              "       player_id  year  stint team_id  w   l   g  gs  cg  sho  sv    h   er  \\\n",
              "0       aasedo01  1980      1     CAL  0  13  40  21   5    1   2  193   79   \n",
              "1      abbotgl01  1980      1     SEA  1  12  31  31   7    2   0  228   98   \n",
              "2      alexado01  1980      1     ATL  1  11  35  35   7    1   0  227  108   \n",
              "4      allenne01  1980      1     NYN  0  10  59   0   0    0  22   87   40   \n",
              "6      andujjo01  1980      1     HOU  0   8  35  14   0    0   2  132   53   \n",
              "...          ...   ...    ...     ... ..  ..  ..  ..  ..  ...  ..  ...  ...   \n",
              "21147  wrighmi01  2015      1     BAL  0   5  12   9   0    0   0   52   30   \n",
              "21148  wrighst01  2015      1     BOS  0   4  16   9   0    0   0   67   33   \n",
              "21151  yateski01  2015      1     TBA  0   0  20   0   0    0   0   23   18   \n",
              "21152  youngch03  2015      1     KCA  1   6  34  18   0    0   0   91   42   \n",
              "21154  zimmejo02  2015      1     WAS  1  10  33  33   0    0   0  204   82   \n",
              "\n",
              "       hr  bb   so  bk    r  \n",
              "0      13  66   74   1   83  \n",
              "1      27  49   78   1  110  \n",
              "2      20  74  114   0  120  \n",
              "4       7  40   79   1   43  \n",
              "6       8  43   75   0   59  \n",
              "...    ..  ..  ...  ..  ...  \n",
              "21147   9  18   26   0   30  \n",
              "21148  12  27   52   0   38  \n",
              "21151  10   7   21   0   18  \n",
              "21152  16  43   83   0   44  \n",
              "21154  24  39  164   1   89  \n",
              "\n",
              "[15303 rows x 18 columns]"
            ],
            "text/html": [
              "\n",
              "  <div id=\"df-9132a340-f1d2-46c8-b030-a5012943f154\" class=\"colab-df-container\">\n",
              "    <div>\n",
              "<style scoped>\n",
              "    .dataframe tbody tr th:only-of-type {\n",
              "        vertical-align: middle;\n",
              "    }\n",
              "\n",
              "    .dataframe tbody tr th {\n",
              "        vertical-align: top;\n",
              "    }\n",
              "\n",
              "    .dataframe thead th {\n",
              "        text-align: right;\n",
              "    }\n",
              "</style>\n",
              "<table border=\"1\" class=\"dataframe\">\n",
              "  <thead>\n",
              "    <tr style=\"text-align: right;\">\n",
              "      <th></th>\n",
              "      <th>player_id</th>\n",
              "      <th>year</th>\n",
              "      <th>stint</th>\n",
              "      <th>team_id</th>\n",
              "      <th>w</th>\n",
              "      <th>l</th>\n",
              "      <th>g</th>\n",
              "      <th>gs</th>\n",
              "      <th>cg</th>\n",
              "      <th>sho</th>\n",
              "      <th>sv</th>\n",
              "      <th>h</th>\n",
              "      <th>er</th>\n",
              "      <th>hr</th>\n",
              "      <th>bb</th>\n",
              "      <th>so</th>\n",
              "      <th>bk</th>\n",
              "      <th>r</th>\n",
              "    </tr>\n",
              "  </thead>\n",
              "  <tbody>\n",
              "    <tr>\n",
              "      <th>0</th>\n",
              "      <td>aasedo01</td>\n",
              "      <td>1980</td>\n",
              "      <td>1</td>\n",
              "      <td>CAL</td>\n",
              "      <td>0</td>\n",
              "      <td>13</td>\n",
              "      <td>40</td>\n",
              "      <td>21</td>\n",
              "      <td>5</td>\n",
              "      <td>1</td>\n",
              "      <td>2</td>\n",
              "      <td>193</td>\n",
              "      <td>79</td>\n",
              "      <td>13</td>\n",
              "      <td>66</td>\n",
              "      <td>74</td>\n",
              "      <td>1</td>\n",
              "      <td>83</td>\n",
              "    </tr>\n",
              "    <tr>\n",
              "      <th>1</th>\n",
              "      <td>abbotgl01</td>\n",
              "      <td>1980</td>\n",
              "      <td>1</td>\n",
              "      <td>SEA</td>\n",
              "      <td>1</td>\n",
              "      <td>12</td>\n",
              "      <td>31</td>\n",
              "      <td>31</td>\n",
              "      <td>7</td>\n",
              "      <td>2</td>\n",
              "      <td>0</td>\n",
              "      <td>228</td>\n",
              "      <td>98</td>\n",
              "      <td>27</td>\n",
              "      <td>49</td>\n",
              "      <td>78</td>\n",
              "      <td>1</td>\n",
              "      <td>110</td>\n",
              "    </tr>\n",
              "    <tr>\n",
              "      <th>2</th>\n",
              "      <td>alexado01</td>\n",
              "      <td>1980</td>\n",
              "      <td>1</td>\n",
              "      <td>ATL</td>\n",
              "      <td>1</td>\n",
              "      <td>11</td>\n",
              "      <td>35</td>\n",
              "      <td>35</td>\n",
              "      <td>7</td>\n",
              "      <td>1</td>\n",
              "      <td>0</td>\n",
              "      <td>227</td>\n",
              "      <td>108</td>\n",
              "      <td>20</td>\n",
              "      <td>74</td>\n",
              "      <td>114</td>\n",
              "      <td>0</td>\n",
              "      <td>120</td>\n",
              "    </tr>\n",
              "    <tr>\n",
              "      <th>4</th>\n",
              "      <td>allenne01</td>\n",
              "      <td>1980</td>\n",
              "      <td>1</td>\n",
              "      <td>NYN</td>\n",
              "      <td>0</td>\n",
              "      <td>10</td>\n",
              "      <td>59</td>\n",
              "      <td>0</td>\n",
              "      <td>0</td>\n",
              "      <td>0</td>\n",
              "      <td>22</td>\n",
              "      <td>87</td>\n",
              "      <td>40</td>\n",
              "      <td>7</td>\n",
              "      <td>40</td>\n",
              "      <td>79</td>\n",
              "      <td>1</td>\n",
              "      <td>43</td>\n",
              "    </tr>\n",
              "    <tr>\n",
              "      <th>6</th>\n",
              "      <td>andujjo01</td>\n",
              "      <td>1980</td>\n",
              "      <td>1</td>\n",
              "      <td>HOU</td>\n",
              "      <td>0</td>\n",
              "      <td>8</td>\n",
              "      <td>35</td>\n",
              "      <td>14</td>\n",
              "      <td>0</td>\n",
              "      <td>0</td>\n",
              "      <td>2</td>\n",
              "      <td>132</td>\n",
              "      <td>53</td>\n",
              "      <td>8</td>\n",
              "      <td>43</td>\n",
              "      <td>75</td>\n",
              "      <td>0</td>\n",
              "      <td>59</td>\n",
              "    </tr>\n",
              "    <tr>\n",
              "      <th>...</th>\n",
              "      <td>...</td>\n",
              "      <td>...</td>\n",
              "      <td>...</td>\n",
              "      <td>...</td>\n",
              "      <td>...</td>\n",
              "      <td>...</td>\n",
              "      <td>...</td>\n",
              "      <td>...</td>\n",
              "      <td>...</td>\n",
              "      <td>...</td>\n",
              "      <td>...</td>\n",
              "      <td>...</td>\n",
              "      <td>...</td>\n",
              "      <td>...</td>\n",
              "      <td>...</td>\n",
              "      <td>...</td>\n",
              "      <td>...</td>\n",
              "      <td>...</td>\n",
              "    </tr>\n",
              "    <tr>\n",
              "      <th>21147</th>\n",
              "      <td>wrighmi01</td>\n",
              "      <td>2015</td>\n",
              "      <td>1</td>\n",
              "      <td>BAL</td>\n",
              "      <td>0</td>\n",
              "      <td>5</td>\n",
              "      <td>12</td>\n",
              "      <td>9</td>\n",
              "      <td>0</td>\n",
              "      <td>0</td>\n",
              "      <td>0</td>\n",
              "      <td>52</td>\n",
              "      <td>30</td>\n",
              "      <td>9</td>\n",
              "      <td>18</td>\n",
              "      <td>26</td>\n",
              "      <td>0</td>\n",
              "      <td>30</td>\n",
              "    </tr>\n",
              "    <tr>\n",
              "      <th>21148</th>\n",
              "      <td>wrighst01</td>\n",
              "      <td>2015</td>\n",
              "      <td>1</td>\n",
              "      <td>BOS</td>\n",
              "      <td>0</td>\n",
              "      <td>4</td>\n",
              "      <td>16</td>\n",
              "      <td>9</td>\n",
              "      <td>0</td>\n",
              "      <td>0</td>\n",
              "      <td>0</td>\n",
              "      <td>67</td>\n",
              "      <td>33</td>\n",
              "      <td>12</td>\n",
              "      <td>27</td>\n",
              "      <td>52</td>\n",
              "      <td>0</td>\n",
              "      <td>38</td>\n",
              "    </tr>\n",
              "    <tr>\n",
              "      <th>21151</th>\n",
              "      <td>yateski01</td>\n",
              "      <td>2015</td>\n",
              "      <td>1</td>\n",
              "      <td>TBA</td>\n",
              "      <td>0</td>\n",
              "      <td>0</td>\n",
              "      <td>20</td>\n",
              "      <td>0</td>\n",
              "      <td>0</td>\n",
              "      <td>0</td>\n",
              "      <td>0</td>\n",
              "      <td>23</td>\n",
              "      <td>18</td>\n",
              "      <td>10</td>\n",
              "      <td>7</td>\n",
              "      <td>21</td>\n",
              "      <td>0</td>\n",
              "      <td>18</td>\n",
              "    </tr>\n",
              "    <tr>\n",
              "      <th>21152</th>\n",
              "      <td>youngch03</td>\n",
              "      <td>2015</td>\n",
              "      <td>1</td>\n",
              "      <td>KCA</td>\n",
              "      <td>1</td>\n",
              "      <td>6</td>\n",
              "      <td>34</td>\n",
              "      <td>18</td>\n",
              "      <td>0</td>\n",
              "      <td>0</td>\n",
              "      <td>0</td>\n",
              "      <td>91</td>\n",
              "      <td>42</td>\n",
              "      <td>16</td>\n",
              "      <td>43</td>\n",
              "      <td>83</td>\n",
              "      <td>0</td>\n",
              "      <td>44</td>\n",
              "    </tr>\n",
              "    <tr>\n",
              "      <th>21154</th>\n",
              "      <td>zimmejo02</td>\n",
              "      <td>2015</td>\n",
              "      <td>1</td>\n",
              "      <td>WAS</td>\n",
              "      <td>1</td>\n",
              "      <td>10</td>\n",
              "      <td>33</td>\n",
              "      <td>33</td>\n",
              "      <td>0</td>\n",
              "      <td>0</td>\n",
              "      <td>0</td>\n",
              "      <td>204</td>\n",
              "      <td>82</td>\n",
              "      <td>24</td>\n",
              "      <td>39</td>\n",
              "      <td>164</td>\n",
              "      <td>1</td>\n",
              "      <td>89</td>\n",
              "    </tr>\n",
              "  </tbody>\n",
              "</table>\n",
              "<p>15303 rows × 18 columns</p>\n",
              "</div>\n",
              "    <div class=\"colab-df-buttons\">\n",
              "\n",
              "  <div class=\"colab-df-container\">\n",
              "    <button class=\"colab-df-convert\" onclick=\"convertToInteractive('df-9132a340-f1d2-46c8-b030-a5012943f154')\"\n",
              "            title=\"Convert this dataframe to an interactive table.\"\n",
              "            style=\"display:none;\">\n",
              "\n",
              "  <svg xmlns=\"http://www.w3.org/2000/svg\" height=\"24px\" viewBox=\"0 -960 960 960\">\n",
              "    <path d=\"M120-120v-720h720v720H120Zm60-500h600v-160H180v160Zm220 220h160v-160H400v160Zm0 220h160v-160H400v160ZM180-400h160v-160H180v160Zm440 0h160v-160H620v160ZM180-180h160v-160H180v160Zm440 0h160v-160H620v160Z\"/>\n",
              "  </svg>\n",
              "    </button>\n",
              "\n",
              "  <style>\n",
              "    .colab-df-container {\n",
              "      display:flex;\n",
              "      gap: 12px;\n",
              "    }\n",
              "\n",
              "    .colab-df-convert {\n",
              "      background-color: #E8F0FE;\n",
              "      border: none;\n",
              "      border-radius: 50%;\n",
              "      cursor: pointer;\n",
              "      display: none;\n",
              "      fill: #1967D2;\n",
              "      height: 32px;\n",
              "      padding: 0 0 0 0;\n",
              "      width: 32px;\n",
              "    }\n",
              "\n",
              "    .colab-df-convert:hover {\n",
              "      background-color: #E2EBFA;\n",
              "      box-shadow: 0px 1px 2px rgba(60, 64, 67, 0.3), 0px 1px 3px 1px rgba(60, 64, 67, 0.15);\n",
              "      fill: #174EA6;\n",
              "    }\n",
              "\n",
              "    .colab-df-buttons div {\n",
              "      margin-bottom: 4px;\n",
              "    }\n",
              "\n",
              "    [theme=dark] .colab-df-convert {\n",
              "      background-color: #3B4455;\n",
              "      fill: #D2E3FC;\n",
              "    }\n",
              "\n",
              "    [theme=dark] .colab-df-convert:hover {\n",
              "      background-color: #434B5C;\n",
              "      box-shadow: 0px 1px 3px 1px rgba(0, 0, 0, 0.15);\n",
              "      filter: drop-shadow(0px 1px 2px rgba(0, 0, 0, 0.3));\n",
              "      fill: #FFFFFF;\n",
              "    }\n",
              "  </style>\n",
              "\n",
              "    <script>\n",
              "      const buttonEl =\n",
              "        document.querySelector('#df-9132a340-f1d2-46c8-b030-a5012943f154 button.colab-df-convert');\n",
              "      buttonEl.style.display =\n",
              "        google.colab.kernel.accessAllowed ? 'block' : 'none';\n",
              "\n",
              "      async function convertToInteractive(key) {\n",
              "        const element = document.querySelector('#df-9132a340-f1d2-46c8-b030-a5012943f154');\n",
              "        const dataTable =\n",
              "          await google.colab.kernel.invokeFunction('convertToInteractive',\n",
              "                                                    [key], {});\n",
              "        if (!dataTable) return;\n",
              "\n",
              "        const docLinkHtml = 'Like what you see? Visit the ' +\n",
              "          '<a target=\"_blank\" href=https://colab.research.google.com/notebooks/data_table.ipynb>data table notebook</a>'\n",
              "          + ' to learn more about interactive tables.';\n",
              "        element.innerHTML = '';\n",
              "        dataTable['output_type'] = 'display_data';\n",
              "        await google.colab.output.renderOutput(dataTable, element);\n",
              "        const docLink = document.createElement('div');\n",
              "        docLink.innerHTML = docLinkHtml;\n",
              "        element.appendChild(docLink);\n",
              "      }\n",
              "    </script>\n",
              "  </div>\n",
              "\n",
              "\n",
              "<div id=\"df-58a294eb-77bf-4b2e-b712-3949353378dd\">\n",
              "  <button class=\"colab-df-quickchart\" onclick=\"quickchart('df-58a294eb-77bf-4b2e-b712-3949353378dd')\"\n",
              "            title=\"Suggest charts\"\n",
              "            style=\"display:none;\">\n",
              "\n",
              "<svg xmlns=\"http://www.w3.org/2000/svg\" height=\"24px\"viewBox=\"0 0 24 24\"\n",
              "     width=\"24px\">\n",
              "    <g>\n",
              "        <path d=\"M19 3H5c-1.1 0-2 .9-2 2v14c0 1.1.9 2 2 2h14c1.1 0 2-.9 2-2V5c0-1.1-.9-2-2-2zM9 17H7v-7h2v7zm4 0h-2V7h2v10zm4 0h-2v-4h2v4z\"/>\n",
              "    </g>\n",
              "</svg>\n",
              "  </button>\n",
              "\n",
              "<style>\n",
              "  .colab-df-quickchart {\n",
              "      --bg-color: #E8F0FE;\n",
              "      --fill-color: #1967D2;\n",
              "      --hover-bg-color: #E2EBFA;\n",
              "      --hover-fill-color: #174EA6;\n",
              "      --disabled-fill-color: #AAA;\n",
              "      --disabled-bg-color: #DDD;\n",
              "  }\n",
              "\n",
              "  [theme=dark] .colab-df-quickchart {\n",
              "      --bg-color: #3B4455;\n",
              "      --fill-color: #D2E3FC;\n",
              "      --hover-bg-color: #434B5C;\n",
              "      --hover-fill-color: #FFFFFF;\n",
              "      --disabled-bg-color: #3B4455;\n",
              "      --disabled-fill-color: #666;\n",
              "  }\n",
              "\n",
              "  .colab-df-quickchart {\n",
              "    background-color: var(--bg-color);\n",
              "    border: none;\n",
              "    border-radius: 50%;\n",
              "    cursor: pointer;\n",
              "    display: none;\n",
              "    fill: var(--fill-color);\n",
              "    height: 32px;\n",
              "    padding: 0;\n",
              "    width: 32px;\n",
              "  }\n",
              "\n",
              "  .colab-df-quickchart:hover {\n",
              "    background-color: var(--hover-bg-color);\n",
              "    box-shadow: 0 1px 2px rgba(60, 64, 67, 0.3), 0 1px 3px 1px rgba(60, 64, 67, 0.15);\n",
              "    fill: var(--button-hover-fill-color);\n",
              "  }\n",
              "\n",
              "  .colab-df-quickchart-complete:disabled,\n",
              "  .colab-df-quickchart-complete:disabled:hover {\n",
              "    background-color: var(--disabled-bg-color);\n",
              "    fill: var(--disabled-fill-color);\n",
              "    box-shadow: none;\n",
              "  }\n",
              "\n",
              "  .colab-df-spinner {\n",
              "    border: 2px solid var(--fill-color);\n",
              "    border-color: transparent;\n",
              "    border-bottom-color: var(--fill-color);\n",
              "    animation:\n",
              "      spin 1s steps(1) infinite;\n",
              "  }\n",
              "\n",
              "  @keyframes spin {\n",
              "    0% {\n",
              "      border-color: transparent;\n",
              "      border-bottom-color: var(--fill-color);\n",
              "      border-left-color: var(--fill-color);\n",
              "    }\n",
              "    20% {\n",
              "      border-color: transparent;\n",
              "      border-left-color: var(--fill-color);\n",
              "      border-top-color: var(--fill-color);\n",
              "    }\n",
              "    30% {\n",
              "      border-color: transparent;\n",
              "      border-left-color: var(--fill-color);\n",
              "      border-top-color: var(--fill-color);\n",
              "      border-right-color: var(--fill-color);\n",
              "    }\n",
              "    40% {\n",
              "      border-color: transparent;\n",
              "      border-right-color: var(--fill-color);\n",
              "      border-top-color: var(--fill-color);\n",
              "    }\n",
              "    60% {\n",
              "      border-color: transparent;\n",
              "      border-right-color: var(--fill-color);\n",
              "    }\n",
              "    80% {\n",
              "      border-color: transparent;\n",
              "      border-right-color: var(--fill-color);\n",
              "      border-bottom-color: var(--fill-color);\n",
              "    }\n",
              "    90% {\n",
              "      border-color: transparent;\n",
              "      border-bottom-color: var(--fill-color);\n",
              "    }\n",
              "  }\n",
              "</style>\n",
              "\n",
              "  <script>\n",
              "    async function quickchart(key) {\n",
              "      const quickchartButtonEl =\n",
              "        document.querySelector('#' + key + ' button');\n",
              "      quickchartButtonEl.disabled = true;  // To prevent multiple clicks.\n",
              "      quickchartButtonEl.classList.add('colab-df-spinner');\n",
              "      try {\n",
              "        const charts = await google.colab.kernel.invokeFunction(\n",
              "            'suggestCharts', [key], {});\n",
              "      } catch (error) {\n",
              "        console.error('Error during call to suggestCharts:', error);\n",
              "      }\n",
              "      quickchartButtonEl.classList.remove('colab-df-spinner');\n",
              "      quickchartButtonEl.classList.add('colab-df-quickchart-complete');\n",
              "    }\n",
              "    (() => {\n",
              "      let quickchartButtonEl =\n",
              "        document.querySelector('#df-58a294eb-77bf-4b2e-b712-3949353378dd button');\n",
              "      quickchartButtonEl.style.display =\n",
              "        google.colab.kernel.accessAllowed ? 'block' : 'none';\n",
              "    })();\n",
              "  </script>\n",
              "</div>\n",
              "    </div>\n",
              "  </div>\n"
            ],
            "application/vnd.google.colaboratory.intrinsic+json": {
              "type": "dataframe",
              "variable_name": "df",
              "summary": "{\n  \"name\": \"df\",\n  \"rows\": 15303,\n  \"fields\": [\n    {\n      \"column\": \"player_id\",\n      \"properties\": {\n        \"dtype\": \"category\",\n        \"num_unique_values\": 3111,\n        \"samples\": [\n          \"frohwto01\",\n          \"michach01\",\n          \"pricejo02\"\n        ],\n        \"semantic_type\": \"\",\n        \"description\": \"\"\n      }\n    },\n    {\n      \"column\": \"year\",\n      \"properties\": {\n        \"dtype\": \"number\",\n        \"std\": 10,\n        \"min\": 1980,\n        \"max\": 2015,\n        \"num_unique_values\": 36,\n        \"samples\": [\n          2015,\n          1993,\n          2006\n        ],\n        \"semantic_type\": \"\",\n        \"description\": \"\"\n      }\n    },\n    {\n      \"column\": \"stint\",\n      \"properties\": {\n        \"dtype\": \"number\",\n        \"std\": 0,\n        \"min\": 1,\n        \"max\": 4,\n        \"num_unique_values\": 4,\n        \"samples\": [\n          2,\n          4,\n          1\n        ],\n        \"semantic_type\": \"\",\n        \"description\": \"\"\n      }\n    },\n    {\n      \"column\": \"team_id\",\n      \"properties\": {\n        \"dtype\": \"category\",\n        \"num_unique_values\": 35,\n        \"samples\": [\n          \"FLO\",\n          \"LAN\",\n          \"BAL\"\n        ],\n        \"semantic_type\": \"\",\n        \"description\": \"\"\n      }\n    },\n    {\n      \"column\": \"w\",\n      \"properties\": {\n        \"dtype\": \"number\",\n        \"std\": 0,\n        \"min\": 0,\n        \"max\": 1,\n        \"num_unique_values\": 2,\n        \"samples\": [\n          1,\n          0\n        ],\n        \"semantic_type\": \"\",\n        \"description\": \"\"\n      }\n    },\n    {\n      \"column\": \"l\",\n      \"properties\": {\n        \"dtype\": \"number\",\n        \"std\": 3,\n        \"min\": 0,\n        \"max\": 21,\n        \"num_unique_values\": 22,\n        \"samples\": [\n          13,\n          14\n        ],\n        \"semantic_type\": \"\",\n        \"description\": \"\"\n      }\n    },\n    {\n      \"column\": \"g\",\n      \"properties\": {\n        \"dtype\": \"number\",\n        \"std\": 19,\n        \"min\": 1,\n        \"max\": 94,\n        \"num_unique_values\": 92,\n        \"samples\": [\n          43,\n          56\n        ],\n        \"semantic_type\": \"\",\n        \"description\": \"\"\n      }\n    },\n    {\n      \"column\": \"gs\",\n      \"properties\": {\n        \"dtype\": \"number\",\n        \"std\": 12,\n        \"min\": 0,\n        \"max\": 40,\n        \"num_unique_values\": 41,\n        \"samples\": [\n          27,\n          6\n        ],\n        \"semantic_type\": \"\",\n        \"description\": \"\"\n      }\n    },\n    {\n      \"column\": \"cg\",\n      \"properties\": {\n        \"dtype\": \"number\",\n        \"std\": 1,\n        \"min\": 0,\n        \"max\": 28,\n        \"num_unique_values\": 24,\n        \"samples\": [\n          4,\n          9\n        ],\n        \"semantic_type\": \"\",\n        \"description\": \"\"\n      }\n    },\n    {\n      \"column\": \"sho\",\n      \"properties\": {\n        \"dtype\": \"number\",\n        \"std\": 0,\n        \"min\": 0,\n        \"max\": 10,\n        \"num_unique_values\": 10,\n        \"samples\": [\n          10,\n          2\n        ],\n        \"semantic_type\": \"\",\n        \"description\": \"\"\n      }\n    },\n    {\n      \"column\": \"sv\",\n      \"properties\": {\n        \"dtype\": \"number\",\n        \"std\": 7,\n        \"min\": 0,\n        \"max\": 62,\n        \"num_unique_values\": 57,\n        \"samples\": [\n          2,\n          5\n        ],\n        \"semantic_type\": \"\",\n        \"description\": \"\"\n      }\n    },\n    {\n      \"column\": \"h\",\n      \"properties\": {\n        \"dtype\": \"number\",\n        \"std\": 64,\n        \"min\": 0,\n        \"max\": 287,\n        \"num_unique_values\": 282,\n        \"samples\": [\n          50,\n          78\n        ],\n        \"semantic_type\": \"\",\n        \"description\": \"\"\n      }\n    },\n    {\n      \"column\": \"er\",\n      \"properties\": {\n        \"dtype\": \"number\",\n        \"std\": 29,\n        \"min\": 0,\n        \"max\": 145,\n        \"num_unique_values\": 139,\n        \"samples\": [\n          136,\n          34\n        ],\n        \"semantic_type\": \"\",\n        \"description\": \"\"\n      }\n    },\n    {\n      \"column\": \"hr\",\n      \"properties\": {\n        \"dtype\": \"number\",\n        \"std\": 7,\n        \"min\": 0,\n        \"max\": 50,\n        \"num_unique_values\": 47,\n        \"samples\": [\n          30,\n          40\n        ],\n        \"semantic_type\": \"\",\n        \"description\": \"\"\n      }\n    },\n    {\n      \"column\": \"bb\",\n      \"properties\": {\n        \"dtype\": \"number\",\n        \"std\": 22,\n        \"min\": 0,\n        \"max\": 152,\n        \"num_unique_values\": 130,\n        \"samples\": [\n          78,\n          27\n        ],\n        \"semantic_type\": \"\",\n        \"description\": \"\"\n      }\n    },\n    {\n      \"column\": \"so\",\n      \"properties\": {\n        \"dtype\": \"number\",\n        \"std\": 48,\n        \"min\": 0,\n        \"max\": 372,\n        \"num_unique_values\": 280,\n        \"samples\": [\n          33,\n          73\n        ],\n        \"semantic_type\": \"\",\n        \"description\": \"\"\n      }\n    },\n    {\n      \"column\": \"bk\",\n      \"properties\": {\n        \"dtype\": \"number\",\n        \"std\": 1,\n        \"min\": 0,\n        \"max\": 16,\n        \"num_unique_values\": 16,\n        \"samples\": [\n          1,\n          0\n        ],\n        \"semantic_type\": \"\",\n        \"description\": \"\"\n      }\n    },\n    {\n      \"column\": \"r\",\n      \"properties\": {\n        \"dtype\": \"number\",\n        \"std\": 31,\n        \"min\": 0,\n        \"max\": 160,\n        \"num_unique_values\": 153,\n        \"samples\": [\n          56,\n          62\n        ],\n        \"semantic_type\": \"\",\n        \"description\": \"\"\n      }\n    }\n  ]\n}"
            }
          },
          "metadata": {},
          "execution_count": 166
        }
      ]
    },
    {
      "cell_type": "markdown",
      "source": [
        "1.10 value_counts()를 통해 잘 나눠졌는지 확인해보세요."
      ],
      "metadata": {
        "id": "oY85TON-Vt71"
      }
    },
    {
      "cell_type": "code",
      "source": [
        "print(df['w'].value_counts())"
      ],
      "metadata": {
        "colab": {
          "base_uri": "https://localhost:8080/"
        },
        "id": "msxLHOs6tFiM",
        "outputId": "d67eb646-d8f4-44c8-b46a-2f7816b5c900"
      },
      "execution_count": 167,
      "outputs": [
        {
          "output_type": "stream",
          "name": "stdout",
          "text": [
            "w\n",
            "0    12589\n",
            "1     2714\n",
            "Name: count, dtype: int64\n"
          ]
        }
      ]
    },
    {
      "cell_type": "markdown",
      "source": [
        "1.11 종속 변수의 밸런스가 맞지 않는 것으로 확인됩니다. 이를 해결하기 위해 Under Sampling 혹은 Over Sampling 기법을 사용할 수 있는데 Under Sampling의 경우 데이터가 많지 않는 상황에서 사라지는 데이터가 과도하게 많으므로 Over Sampling 기법 중 SMOTE 기법을 사용해보겠습니다. 사용하기 전에 player_id, year, team_id 컬럼은 지우고 가겠습니다."
      ],
      "metadata": {
        "id": "Vc9oco15VxgA"
      }
    },
    {
      "cell_type": "code",
      "source": [
        "df = df.drop(columns=['player_id', 'year', 'team_id'])"
      ],
      "metadata": {
        "id": "xujQoW28vTbk"
      },
      "execution_count": 168,
      "outputs": []
    },
    {
      "cell_type": "markdown",
      "source": [
        "1.12 SMOTE 기법을 활용해 w의 balance를 맞추세요(sampling_strategy='auto', random_state = 123)."
      ],
      "metadata": {
        "id": "rxp41-HEV0FP"
      }
    },
    {
      "cell_type": "code",
      "source": [
        "sm = SMOTE(sampling_strategy='auto', random_state = 123)\n",
        "x_resampled,y_resampled = sm.fit_resample(df,df['w'])"
      ],
      "metadata": {
        "id": "s4sxzHc0fDNx"
      },
      "execution_count": 169,
      "outputs": []
    },
    {
      "cell_type": "markdown",
      "source": [
        "1.13 balance가 잘 맞춰졌는지 확인하세요."
      ],
      "metadata": {
        "id": "A4-b1GdLV3eQ"
      }
    },
    {
      "cell_type": "code",
      "source": [
        "print(sum(y_resampled==1),sum(y_resampled==0))"
      ],
      "metadata": {
        "id": "c51zRLN3yvJT",
        "colab": {
          "base_uri": "https://localhost:8080/"
        },
        "outputId": "ea6143b5-ec3c-4fb5-8554-0f0e4a3d06b8"
      },
      "execution_count": 170,
      "outputs": [
        {
          "output_type": "stream",
          "name": "stdout",
          "text": [
            "12589 12589\n"
          ]
        }
      ]
    },
    {
      "cell_type": "markdown",
      "source": [
        "1.14 SMOTE의 동작 방식에 대해 작성하고 Over Sampling의 장/단점에 대해 작성하세요."
      ],
      "metadata": {
        "id": "tqh2bC-SV5n1"
      }
    },
    {
      "cell_type": "markdown",
      "source": [
        "데이터 불균형 문제를 해결하기 위해서 소수 클래스의 데이터를 합성합니다. 우선 소수의 클래스로부터 무작위로 샘플을 추출합니다. 그리고 그 샘플의 K-최근접 이웃을 찾고 그 이웃과 샘플 사이에 새로운 샘플을 만듭니다.\n"
      ],
      "metadata": {
        "id": "JP3wUftQyvpR"
      }
    },
    {
      "cell_type": "markdown",
      "source": [
        "장점 : 단순 복제가 아니라서 다양성을 높힐 수 있고 데이터가 많아지므로 오버피팅도 예방할 수 있습니다.\n",
        "단점 : 합성된 샘플은 진짜 데이터는 아니기 때문에 모델의 성능 정확도가 떨어질 수 있습니다."
      ],
      "metadata": {
        "id": "iZyXazF4qG0F"
      }
    },
    {
      "cell_type": "markdown",
      "source": [
        "1.15 다른 Over Sampling 기법들엔 어떤 것들이 있는지 작성하세요(2개 이상)."
      ],
      "metadata": {
        "id": "NjqEcmpSV9Uz"
      }
    },
    {
      "cell_type": "markdown",
      "source": [
        "- resampling은 단순히 데이터 샘플 몇개를 복제하여 데이터 수를 늘리는 방법\n",
        "- Borderline-SMOTE는 보더라인 부분에서만 SMOTE를 사용하는 방법\n",
        "- ADASYN은 Borderline-SMOTE와 비슷하지만 샘플링 개수를 데이터 위치에 따라 다르게 설정하는 방법"
      ],
      "metadata": {
        "id": "Oxjp-OMHywEd"
      }
    },
    {
      "cell_type": "markdown",
      "source": [
        "### 2. 예측 및 분석\n",
        "2.1 본격적으로 분석을 진행하겠습니다. 본 차시는 Hyperparameter Tuning에 대해 학습하는 것이 목적이므로 모델은 RandomForest Classifier 하나만 사용하도록 하겠습니다. 먼저 데이터를 train, validation, test 3개로 나누세요(trian-60%, val-20%, test-20%)."
      ],
      "metadata": {
        "id": "dTiAVCoVV_Wq"
      }
    },
    {
      "cell_type": "code",
      "source": [
        "train_set,test_set=train_test_split(df,test_size=0.4,random_state = 123)\n",
        "val_set,test_set=train_test_split(df,test_size=0.5,random_state = 123)"
      ],
      "metadata": {
        "id": "3abB1GZoWxY-"
      },
      "execution_count": 171,
      "outputs": []
    },
    {
      "cell_type": "markdown",
      "source": [
        "2.2 train test에 validation set을 추가하는 이유가 뭔지 작성하세요."
      ],
      "metadata": {
        "id": "VFGortx7WD1_"
      }
    },
    {
      "cell_type": "markdown",
      "source": [
        "validation set로 하이퍼파라미터를 수정할 수 있고 과적합을 방지할 수도 있기 때문에 validation set가 필요합니다."
      ],
      "metadata": {
        "id": "EuQeqJujWx2X"
      }
    },
    {
      "cell_type": "markdown",
      "source": [
        "2.3 Randomized SearchCV로 최적의 파라미터 셋을 찾으세요(성능 지표는 accuracy score)."
      ],
      "metadata": {
        "id": "2WuJpMCYWHZO"
      }
    },
    {
      "cell_type": "code",
      "source": [
        "param_grid = {\n",
        "    'n_estimators': [10, 50, 100, 200],\n",
        "    'max_depth': [None, 10, 20, 30],\n",
        "    'min_samples_split': [2, 5, 10],\n",
        "    'min_samples_leaf': [1, 2, 4],\n",
        "    'bootstrap': [True, False],\n",
        "    'criterion': ['gini', 'entropy']\n",
        "}"
      ],
      "metadata": {
        "id": "YElj_AIcP-Q8"
      },
      "execution_count": 172,
      "outputs": []
    },
    {
      "cell_type": "code",
      "source": [
        "clf1=RandomizedSearchCV(\n",
        "    estimator=accuracy_score,\n",
        "    param_distributions=param_grid,\n",
        "    n_iter = 500,\n",
        "    cv = 5,\n",
        "    scoring='accuracy',\n",
        "    verbose=1,\n",
        "    random_state = 123\n",
        "  )"
      ],
      "metadata": {
        "id": "90Kr6S6lWyiy"
      },
      "execution_count": 173,
      "outputs": []
    },
    {
      "cell_type": "markdown",
      "source": [
        "2.4 위에서 지정한 hyperparameter들이 각각 무엇을 의미하는지 작성하세요."
      ],
      "metadata": {
        "id": "8lMJ9FyJWH2K"
      }
    },
    {
      "cell_type": "markdown",
      "source": [
        "- estimator: 성능지표\n",
        "- param_distributions: 하이퍼파라미터 후보군을 딕셔너리 형태로 지정\n",
        "- n_iter: random search 조합 탐색 횟수\n",
        "- cv: 교차 검증 분할 수\n",
        "- scoring: 모델 성능 평가 기준\n",
        "- verbose: 진행상황 자세히 출력\n",
        "- random_state: 모델이 재현 가능하게끔"
      ],
      "metadata": {
        "id": "On6mdTY_Wy8N"
      }
    },
    {
      "cell_type": "markdown",
      "source": [
        "2.5 Grid SearchCV로 최적의 파라미터 셋을 찾으세요."
      ],
      "metadata": {
        "id": "NyZW-FcZWKHg"
      }
    },
    {
      "cell_type": "code",
      "source": [
        "clf2 = GridSearchCV(\n",
        "    estimator=accuracy_score,\n",
        "    param_grid=param_grid,\n",
        "    refit=True,\n",
        "    verbose=1\n",
        ")"
      ],
      "metadata": {
        "id": "r5KDCeU2WzdB"
      },
      "execution_count": 174,
      "outputs": []
    },
    {
      "cell_type": "markdown",
      "source": [
        "2.6 Randomized SearchCV와 Grid SearchCV의 차이와 장단점에 대해 설명하세요."
      ],
      "metadata": {
        "id": "cgOEOTVDWMOR"
      }
    },
    {
      "cell_type": "markdown",
      "source": [
        "차이 : Randomized SearchCV는 무작위로 조합을 선택하는 반면 Grid SearchCV는 모든 조합을 시도해 최적의 조합을 찾습니다.\n",
        "Randomized SearchCV의 장점은 빠르게 탐색한다는 것이고 단점은 무작위로 조합을 선택하기 때문에 중요한 조합을 빼먹을 수 있다는 것입니다.\n",
        "Grid SearchCV의 장점은 모든 조합을 시도하기 때문에 최고의 조합을 찾을 수 있다는 것이고 단점은 하이퍼파라미터의 크기가 클 경우, 시간이 오래 걸린다는 것입니다."
      ],
      "metadata": {
        "id": "8Iq48wDVW0Be"
      }
    },
    {
      "cell_type": "markdown",
      "source": [
        "2.7 이번엔 Bayesian Optimization을 사용해 파라미터 튜닝을 진행해보겠습니다."
      ],
      "metadata": {
        "id": "wDBJz4eXWOol"
      }
    },
    {
      "cell_type": "markdown",
      "source": [
        "2.8 진행한 튜닝 과정에서 찾은 최적의 파라미터 셋으로 다시 학습을 진행한 후 최종 accuracy score을 출력하세요."
      ],
      "metadata": {
        "id": "D2eyojvCWRjR"
      }
    },
    {
      "cell_type": "code",
      "source": [],
      "metadata": {
        "id": "rT5WRteUW2AL"
      },
      "execution_count": null,
      "outputs": []
    },
    {
      "cell_type": "markdown",
      "source": [
        "### 3. 자유분석\n",
        "최적의 파라미터 셋을 찾고 성능을 높여보세요."
      ],
      "metadata": {
        "id": "FRkXki3wWT-E"
      }
    },
    {
      "cell_type": "code",
      "source": [],
      "metadata": {
        "id": "oKH3HmdCCp0d"
      },
      "execution_count": null,
      "outputs": []
    }
  ]
}