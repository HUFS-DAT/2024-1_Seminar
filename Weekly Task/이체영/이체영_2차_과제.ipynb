{
  "cells": [
    {
      "cell_type": "markdown",
      "id": "1088d1f8",
      "metadata": {
        "id": "1088d1f8"
      },
      "source": [
        "## 2차 과제\n",
        "\n",
        "- 주제: 데이터 크롤링을 활용한 뉴스 & 리뷰 데이터 분석\n",
        "- 데이터: 자유롭게 크롤링\n",
        "- 사용 라이브러리: selenium, beautifulsoup, etc."
      ]
    },
    {
      "cell_type": "code",
      "source": [
        "!sudo apt-get install -y fonts-nanum\n",
        "!sudo fc-cache -fv\n",
        "!rm ~/.cache/matplotlib -rf"
      ],
      "metadata": {
        "colab": {
          "base_uri": "https://localhost:8080/"
        },
        "id": "WssNnE_4mLRp",
        "outputId": "4b88c160-6538-4f2f-8b8f-0713f074c54d"
      },
      "id": "WssNnE_4mLRp",
      "execution_count": 74,
      "outputs": [
        {
          "output_type": "stream",
          "name": "stdout",
          "text": [
            "Reading package lists... Done\n",
            "Building dependency tree... Done\n",
            "Reading state information... Done\n",
            "The following NEW packages will be installed:\n",
            "  fonts-nanum\n",
            "0 upgraded, 1 newly installed, 0 to remove and 44 not upgraded.\n",
            "Need to get 10.3 MB of archives.\n",
            "After this operation, 34.1 MB of additional disk space will be used.\n",
            "Get:1 http://archive.ubuntu.com/ubuntu jammy/universe amd64 fonts-nanum all 20200506-1 [10.3 MB]\n",
            "Fetched 10.3 MB in 4s (2,938 kB/s)\n",
            "debconf: unable to initialize frontend: Dialog\n",
            "debconf: (No usable dialog-like program is installed, so the dialog based frontend cannot be used. at /usr/share/perl5/Debconf/FrontEnd/Dialog.pm line 78, <> line 1.)\n",
            "debconf: falling back to frontend: Readline\n",
            "debconf: unable to initialize frontend: Readline\n",
            "debconf: (This frontend requires a controlling tty.)\n",
            "debconf: falling back to frontend: Teletype\n",
            "dpkg-preconfigure: unable to re-open stdin: \n",
            "Selecting previously unselected package fonts-nanum.\n",
            "(Reading database ... 122221 files and directories currently installed.)\n",
            "Preparing to unpack .../fonts-nanum_20200506-1_all.deb ...\n",
            "Unpacking fonts-nanum (20200506-1) ...\n",
            "Setting up fonts-nanum (20200506-1) ...\n",
            "Processing triggers for fontconfig (2.13.1-4.2ubuntu5) ...\n",
            "/usr/share/fonts: caching, new cache contents: 0 fonts, 1 dirs\n",
            "/usr/share/fonts/truetype: caching, new cache contents: 0 fonts, 3 dirs\n",
            "/usr/share/fonts/truetype/humor-sans: caching, new cache contents: 1 fonts, 0 dirs\n",
            "/usr/share/fonts/truetype/liberation: caching, new cache contents: 16 fonts, 0 dirs\n",
            "/usr/share/fonts/truetype/nanum: caching, new cache contents: 12 fonts, 0 dirs\n",
            "/usr/local/share/fonts: caching, new cache contents: 0 fonts, 0 dirs\n",
            "/root/.local/share/fonts: skipping, no such directory\n",
            "/root/.fonts: skipping, no such directory\n",
            "/usr/share/fonts/truetype: skipping, looped directory detected\n",
            "/usr/share/fonts/truetype/humor-sans: skipping, looped directory detected\n",
            "/usr/share/fonts/truetype/liberation: skipping, looped directory detected\n",
            "/usr/share/fonts/truetype/nanum: skipping, looped directory detected\n",
            "/var/cache/fontconfig: cleaning cache directory\n",
            "/root/.cache/fontconfig: not cleaning non-existent cache directory\n",
            "/root/.fontconfig: not cleaning non-existent cache directory\n",
            "fc-cache: succeeded\n"
          ]
        }
      ]
    },
    {
      "cell_type": "code",
      "source": [
        "!pip install requests"
      ],
      "metadata": {
        "colab": {
          "base_uri": "https://localhost:8080/"
        },
        "id": "AE79MMCF4bxO",
        "outputId": "00d64a3d-e2a8-461f-a58a-e3d839b76443"
      },
      "id": "AE79MMCF4bxO",
      "execution_count": 1,
      "outputs": [
        {
          "output_type": "stream",
          "name": "stdout",
          "text": [
            "Requirement already satisfied: requests in /usr/local/lib/python3.10/dist-packages (2.31.0)\n",
            "Requirement already satisfied: charset-normalizer<4,>=2 in /usr/local/lib/python3.10/dist-packages (from requests) (3.3.2)\n",
            "Requirement already satisfied: idna<4,>=2.5 in /usr/local/lib/python3.10/dist-packages (from requests) (3.6)\n",
            "Requirement already satisfied: urllib3<3,>=1.21.1 in /usr/local/lib/python3.10/dist-packages (from requests) (2.0.7)\n",
            "Requirement already satisfied: certifi>=2017.4.17 in /usr/local/lib/python3.10/dist-packages (from requests) (2024.2.2)\n"
          ]
        }
      ]
    },
    {
      "cell_type": "code",
      "source": [
        "!pip install beautifulsoup4"
      ],
      "metadata": {
        "id": "Dc63ROGK7ude",
        "outputId": "43f991ca-d722-4fb0-f818-812acefc0c3c",
        "colab": {
          "base_uri": "https://localhost:8080/"
        }
      },
      "id": "Dc63ROGK7ude",
      "execution_count": 2,
      "outputs": [
        {
          "output_type": "stream",
          "name": "stdout",
          "text": [
            "Requirement already satisfied: beautifulsoup4 in /usr/local/lib/python3.10/dist-packages (4.12.3)\n",
            "Requirement already satisfied: soupsieve>1.2 in /usr/local/lib/python3.10/dist-packages (from beautifulsoup4) (2.5)\n"
          ]
        }
      ]
    },
    {
      "cell_type": "code",
      "source": [
        "!pip install nltk\n",
        "!pip install konlpy"
      ],
      "metadata": {
        "colab": {
          "base_uri": "https://localhost:8080/"
        },
        "id": "6Vf4KV0EiOgj",
        "outputId": "7a0d95be-f7b6-412e-c84f-5a2181e6c858"
      },
      "id": "6Vf4KV0EiOgj",
      "execution_count": 3,
      "outputs": [
        {
          "output_type": "stream",
          "name": "stdout",
          "text": [
            "Requirement already satisfied: nltk in /usr/local/lib/python3.10/dist-packages (3.8.1)\n",
            "Requirement already satisfied: click in /usr/local/lib/python3.10/dist-packages (from nltk) (8.1.7)\n",
            "Requirement already satisfied: joblib in /usr/local/lib/python3.10/dist-packages (from nltk) (1.3.2)\n",
            "Requirement already satisfied: regex>=2021.8.3 in /usr/local/lib/python3.10/dist-packages (from nltk) (2023.12.25)\n",
            "Requirement already satisfied: tqdm in /usr/local/lib/python3.10/dist-packages (from nltk) (4.66.2)\n",
            "Requirement already satisfied: konlpy in /usr/local/lib/python3.10/dist-packages (0.6.0)\n",
            "Requirement already satisfied: JPype1>=0.7.0 in /usr/local/lib/python3.10/dist-packages (from konlpy) (1.5.0)\n",
            "Requirement already satisfied: lxml>=4.1.0 in /usr/local/lib/python3.10/dist-packages (from konlpy) (4.9.4)\n",
            "Requirement already satisfied: numpy>=1.6 in /usr/local/lib/python3.10/dist-packages (from konlpy) (1.25.2)\n",
            "Requirement already satisfied: packaging in /usr/local/lib/python3.10/dist-packages (from JPype1>=0.7.0->konlpy) (24.0)\n"
          ]
        }
      ]
    },
    {
      "cell_type": "code",
      "source": [
        "import pandas as pd\n",
        "import numpy as np\n",
        "import requests\n",
        "from bs4 import BeautifulSoup\n",
        "import time\n",
        "import matplotlib.pyplot as plt\n",
        "import re"
      ],
      "metadata": {
        "id": "AIE8n7n47EAR"
      },
      "id": "AIE8n7n47EAR",
      "execution_count": 4,
      "outputs": []
    },
    {
      "cell_type": "code",
      "source": [
        "plt.rc('font', family='NanumBarunGothic')"
      ],
      "metadata": {
        "id": "PCPkognunAMs"
      },
      "id": "PCPkognunAMs",
      "execution_count": 19,
      "outputs": []
    },
    {
      "cell_type": "markdown",
      "id": "b8a054f0",
      "metadata": {
        "id": "b8a054f0"
      },
      "source": [
        "### 1. 뉴스 기사 데이터 크롤링"
      ]
    },
    {
      "cell_type": "markdown",
      "id": "bcee3edc",
      "metadata": {
        "id": "bcee3edc"
      },
      "source": [
        "1.1 원하는 뉴스 기사의 본문을 크롤링하시오."
      ]
    },
    {
      "cell_type": "code",
      "source": [
        "url = 'https://www.aitimes.com/news/articleView.html?idxno=158026'\n",
        "\n",
        "response = requests.get(url)\n",
        "html = response.text\n",
        "soup = BeautifulSoup(html, 'html.parser')\n",
        "contents = soup.select('#article-view-content-div > p')\n",
        "text = ''\n",
        "for p in contents:\n",
        "  text += p.text"
      ],
      "metadata": {
        "id": "YZath0UYsYVk"
      },
      "id": "YZath0UYsYVk",
      "execution_count": 84,
      "outputs": []
    },
    {
      "cell_type": "code",
      "source": [
        "text"
      ],
      "metadata": {
        "colab": {
          "base_uri": "https://localhost:8080/",
          "height": 363
        },
        "id": "7wUxGE0oeRHj",
        "outputId": "50d6e5b6-7265-4935-bc1f-fdc8c96508b3"
      },
      "id": "7wUxGE0oeRHj",
      "execution_count": 85,
      "outputs": [
        {
          "output_type": "execute_result",
          "data": {
            "text/plain": [
              "'인공지능(AI) 학습을 위해 인터넷 커뮤니티나 SNS의 게시물을 사용하는 것에 대한 문제가 떠올랐다. 이제까지 관련 기업은 사용약관에 이를 고지하는 정도에 그쳤는데, 미국 정부가 이 문제의 본격 검토에 나섰다.테크 전문 와이어드는 15일(현지시간) 레딧이 미국 연방무역위원회(FTC)로부터 AI 모델을 교육하기 위해 제3자와 사용자 생성 콘텐츠를 판매, 라이센스 또는 공유하는 것에 대한 질문 서한을 받았다고 보도했다. 레딧 말고도 같은 취지의 요청을 받은 회사가 더 있는 것으로도 달려졌다.이에 따르면 미국 정부의 독점 금지 규제 기관인 FTC는 불공정하거나 기만적인 거래 관행에 연루된 것으로 밝혀진 기업을 제재할 권한을 갖고 있다. 이번 조사는 사용자 생성 콘텐츠를 AI 학습에 제공하는 것에 대한 국회의원과 권리 단체 등의 개인 정보 보호 위험 및 공정성, 저작권 등에 대한 의문을 반영한다고 전했다.현재 미국 대부분 매체는 레딧의 기업공개(IPO) 문제에만 초점을 맞추고 있다. 이 회사는 65억달러(약 8조6600억원)의 기업가치로 상장을 앞두고 있다.하지만 와이어드는 170억개의 게시물과 댓글이 사용자들의 별도 동의 과정 없이 AI 학습에 활용되는 것에 대해 근본적인 의문이 생기고 있다고 지적했다. 레딧은 올해 초 구글과 연간 6000만달러(약 800억원) 규모의 대형 저작권 계약을 맺은 것으로 알려졌다.커뮤니티나 SNS는 실시간 뉴스를 반영할 수 있는 가장 좋은 수단이다. 실제로 일론 머스크의 xAI가 내놓은 챗봇 \\'그록\\'은 X(트위터)를 통해 실시간 이슈에 대한 답을 내놓을 수 있다는 것이 가장 큰 장점으로 꼽힌다.메타 역시 \\'메타AI\\'에 비슷한 방법을 적용하는 것으로 알려졌다. 대부분 소셜 미디어 회사는 사용 약관에 사용자 데이터를 회사가 사용할 수 있다는 조항을 가지고 있다.하지만 이 문제는 그리 간단하지 않다. SNS 회사들은 사용자들로부터 자신들의 데이터를 활용해 각종 사업을 펼치는 문제와 관련해 다수의 소송을 진행하고 있다.실제로 AI 모델을 훈련하기 위해 온라인에서 수집된 데이터를 사용하는 문제에 대해서는 많은 질문이 제기됐다. 여기에는 콘텐츠의 진정한 소유자가 누구인지를 따지는 문제와 개인 데이터 유출 가능성 등이 포함돼 있다.레딧은 구글과의 데이터 제공 계약이 중요하다고도 밝혔다. 투자자 프리젠테이션을 통해 \"우리는 데이터 이점과 지적 재산이 미래 AI 시스템 훈련의 핵심 요소가 될 것으로 기대한다\"라는 입장을 밝혔 바 있다.레딧은 수년 동안 다른 회사에 데이터 라이선스를 제공해 왔으며, 연구원과 소프트웨어 개발자는 레딧 데이터를 사용해 사용자 행동을 연구하고 기능을 구축했다. 특히 지난해 7월에는 챗봇 학습을 위해 게시물을 허락 없이 가져다 쓰면 안 된다며, 수수료를 도입했다.하지만 이런 행동에 대해 아무 이득을 얻지 못하는 사용자들의 반발도 불러 일으켰다.\\xa0이 문제는 AI 학습 데이터 저작권은 물론 레딧의 상장과 맞물려 큰 문제로 떠오를 가능성이 있다는 분석이다.박찬 기자 cpark@aitimes.com'"
            ],
            "application/vnd.google.colaboratory.intrinsic+json": {
              "type": "string"
            }
          },
          "metadata": {},
          "execution_count": 85
        }
      ]
    },
    {
      "cell_type": "markdown",
      "id": "131d1107",
      "metadata": {
        "id": "131d1107"
      },
      "source": [
        "1.2 크롤링한 본문을 단어 단위로 나누고 각 단어가 나온 횟수와 함께 dataframe 형식으로 변환하시오."
      ]
    },
    {
      "cell_type": "code",
      "source": [
        "from collections import Counter\n",
        "from string import punctuation\n",
        "from konlpy.tag import Okt"
      ],
      "metadata": {
        "id": "KDWhfslzXMxb"
      },
      "id": "KDWhfslzXMxb",
      "execution_count": 37,
      "outputs": []
    },
    {
      "cell_type": "code",
      "source": [
        "for p in punctuation:\n",
        "  text = text.replace(p,'')\n",
        "okt=Okt()\n",
        "words = okt.morphs(text)"
      ],
      "metadata": {
        "id": "RTR7cjEJjrg7"
      },
      "id": "RTR7cjEJjrg7",
      "execution_count": 90,
      "outputs": []
    },
    {
      "cell_type": "code",
      "source": [
        "words_list = []\n",
        "counts_list = []\n",
        "for word in words:\n",
        "  words_list.append(word)\n",
        "  counts_list.append(text.count(word))"
      ],
      "metadata": {
        "id": "vgPWJ1gjrTYk"
      },
      "id": "vgPWJ1gjrTYk",
      "execution_count": 91,
      "outputs": []
    },
    {
      "cell_type": "code",
      "source": [
        "print('단어 :', words_list)\n",
        "print('횟수 :', counts_list)"
      ],
      "metadata": {
        "colab": {
          "base_uri": "https://localhost:8080/"
        },
        "id": "S3EuC3BRrnsN",
        "outputId": "8b99b2fb-5630-4eb5-9f0f-5ff4d114e428"
      },
      "id": "S3EuC3BRrnsN",
      "execution_count": 92,
      "outputs": [
        {
          "output_type": "stream",
          "name": "stdout",
          "text": [
            "단어 : ['인공', '지능', 'AI', '학습', '을', '위해', '인터넷', '커뮤니티', '나', 'SNS', '의', '게시', '물', '을', '사용', '하는', '것', '에', '대한', '문제', '가', '떠올랐다', '이제', '까지', '관련', '기업', '은', '사용', '약관', '에', '이를', '고지', '하는', '정도', '에', '그쳤는데', '미국', '정부', '가', '이', '문제', '의', '본격', '검토', '에', '나섰다', '테크', '전문', '와이어', '드는', '15일', '현지시간', '레딧', '이', '미국', '연방', '무역', '위원회', 'FTC', '로부터', 'AI', '모델', '을', '교육', '하기', '위해', '제', '3', '자', '와', '사용자', '생', '성', '콘텐츠', '를', '판매', '라이센스', '또는', '공유', '하는', '것', '에', '대한', '질문', '서한', '을', '받았다고', '보도', '했다', '레딧', '말고도', '같은', '취지', '의', '요청', '을', '받은', '회사', '가', '더', '있는', '것', '으로도', '달려졌다이에', '따르면', '미국', '정부', '의', '독점', '금지', '규제', '기관', '인', 'FTC', '는', '불공정', '하', '거나', '기만', '적', '인', '거래', '관행', '에', '연루', '된', '것', '으로', '밝혀진', '기업', '을', '제재', '할', '권한', '을', '갖고', '있다', '이번', '조사', '는', '사용자', '생', '성', '콘텐츠', '를', 'AI', '학습', '에', '제공', '하는', '것', '에', '대한', '국회의원', '과', '권리', '단체', '등', '의', '개인', '정보', '보호', '위험', '및', '공', '정성', '저작권', '등', '에', '대한', '의문', '을', '반영', '한', '다', '고', '전', '했다', '현재', '미국', '대부분', '매체', '는', '레딧', '의', '기업', '공개', 'IPO', '문제', '에만', '초점', '을', '맞추고', '있다', '이', '회사', '는', '65억달러', '약', '8조', '6600억원', '의', '기업', '가치', '로', '상장', '을', '앞두고', '있다하지만', '와이어', '드는', '170억', '개의', '게시', '물', '과', '댓글', '이', '사용자', '들', '의', '별도', '동의', '과정', '없이', 'AI', '학습', '에', '활용', '되는', '것', '에', '대해', '근본', '적', '인', '의문', '이', '생기', '고', '있다고', '지적', '했다', '레딧', '은', '올해', '초', '구글', '과', '연간', '6000만달러', '약', '800억원', '규모', '의', '대형', '저작권', '계약', '을', '맺은', '것', '으로', '알려졌다', '커뮤니티', '나', 'SNS', '는', '실시간', '뉴스', '를', '반영', '할', '수', '있는', '가장', '좋은', '수단', '이다', '실제', '로', '일', '론', '머스크', '의', 'xAI', '가', '내놓은', '챗봇', '그록', '은', 'X', '트위터', '를', '통해', '실시간', '이슈', '에', '대한', '답', '을', '내놓을', '수', '있다는', '것', '이', '가장', '큰', '장점', '으로', '꼽힌다', '메타', '역시', '메타', 'AI', '에', '비슷한', '방법', '을', '적용', '하는', '것', '으로', '알려졌다', '대부분', '소셜', '미디어', '회사', '는', '사용', '약관', '에', '사용자', '데이터', '를', '회사', '가', '사용', '할', '수', '있다는', '조항', '을', '가지', '고', '있다하지만', '이', '문제', '는', '그리', '간단하지', '않다', 'SNS', '회사', '들', '은', '사용자', '들', '로부터', '자신', '들', '의', '데이터', '를', '활용', '해', '각종', '사업', '을', '펼치는', '문제', '와', '관련', '해', '다수', '의', '소송', '을', '진행', '하고', '있다', '실제', '로', 'AI', '모델', '을', '훈련', '하기', '위해', '온라인', '에서', '수집', '된', '데이터', '를', '사용', '하는', '문제', '에', '대해', '서는', '많은', '질문', '이', '제기', '됐다', '여기', '에는', '콘텐츠', '의', '진정한', '소유자', '가', '누구', '인지', '를', '따지는', '문제', '와', '개인', '데이터', '유출', '가능성', '등', '이', '포함', '돼', '있다', '레딧', '은', '구글', '과의', '데이터', '제공', '계약', '이', '중요하다고도', '밝혔다', '투자자', '프리젠테이션', '을', '통해', '우리', '는', '데이터', '이점', '과', '지적', '재산', '이', '미래', 'AI', '시스템', '훈련', '의', '핵심', '요소', '가', '될', '것', '으로', '기대한다라는', '입장', '을', '밝혔', '바', '있다', '레딧', '은', '수년', '동안', '다른', '회사', '에', '데이터', '라이선스', '를', '제공', '해', '왔으며', '연구원', '과', '소프트웨어', '개발자', '는', '레딧', '데이터', '를', '사용', '해', '사용자', '행동', '을', '연구', '하고', '기능', '을', '구축', '했다', '특히', '지난해', '7월', '에는', '챗봇', '학습', '을', '위해', '게시', '물', '을', '허락', '없이', '가져다', '쓰면', '안', '된다며', '수수료', '를', '도입', '했다하지만', '이런', '행동', '에', '대해', '아무', '이득', '을', '얻지', '못', '하는', '사용자', '들', '의', '반발', '도', '불러', '일으켰다', '\\xa0', '이', '문제', '는', 'AI', '학습', '데이터', '저작권', '은', '물론', '레딧', '의', '상장', '과', '맞', '물려', '큰', '문제', '로', '떠오를', '가능성', '이', '있다는', '분석', '이다', '박찬', '기자', 'cparkaitimescom']\n",
            "횟수 : [1, 1, 9, 5, 25, 4, 1, 2, 4, 3, 22, 3, 5, 25, 13, 7, 10, 22, 6, 9, 14, 1, 1, 1, 2, 4, 13, 13, 2, 22, 1, 1, 7, 1, 22, 1, 4, 2, 14, 39, 9, 22, 1, 1, 22, 1, 1, 1, 2, 2, 1, 1, 8, 39, 4, 1, 1, 1, 2, 2, 9, 2, 25, 1, 2, 4, 19, 1, 14, 5, 7, 3, 5, 3, 13, 1, 1, 1, 1, 7, 10, 22, 6, 2, 1, 25, 1, 1, 5, 8, 1, 1, 1, 22, 1, 25, 1, 6, 14, 1, 2, 10, 1, 1, 1, 4, 2, 22, 1, 1, 1, 1, 9, 2, 33, 1, 17, 1, 1, 5, 9, 1, 1, 22, 1, 3, 10, 6, 1, 4, 25, 1, 3, 1, 25, 1, 11, 1, 1, 33, 7, 3, 5, 3, 13, 9, 5, 22, 3, 7, 10, 22, 6, 1, 8, 1, 1, 3, 22, 2, 1, 1, 1, 1, 8, 1, 3, 3, 22, 6, 2, 25, 2, 11, 36, 13, 2, 5, 1, 4, 2, 1, 33, 8, 22, 4, 1, 1, 9, 1, 1, 25, 1, 11, 39, 6, 33, 1, 6, 1, 1, 22, 4, 1, 12, 2, 25, 1, 2, 2, 2, 1, 1, 3, 5, 8, 1, 39, 7, 5, 22, 1, 1, 1, 2, 9, 5, 22, 2, 1, 10, 22, 3, 1, 5, 9, 2, 39, 1, 13, 1, 2, 5, 8, 13, 1, 2, 2, 8, 1, 1, 6, 1, 1, 22, 1, 3, 2, 25, 1, 10, 6, 2, 2, 4, 3, 33, 2, 1, 13, 2, 3, 9, 2, 2, 1, 1, 2, 2, 12, 3, 2, 1, 22, 1, 14, 1, 2, 1, 13, 1, 1, 13, 2, 2, 1, 22, 6, 1, 25, 1, 9, 3, 10, 39, 2, 2, 1, 6, 1, 2, 1, 2, 9, 22, 1, 1, 25, 1, 7, 10, 6, 2, 2, 1, 1, 6, 33, 13, 2, 22, 7, 9, 13, 6, 14, 13, 3, 9, 3, 1, 25, 1, 13, 2, 39, 9, 33, 1, 1, 1, 3, 6, 5, 13, 7, 5, 2, 1, 5, 22, 9, 13, 2, 15, 1, 1, 25, 1, 9, 5, 2, 15, 1, 22, 1, 25, 1, 2, 11, 2, 12, 9, 2, 25, 2, 2, 4, 1, 1, 1, 3, 9, 13, 13, 7, 9, 22, 3, 1, 1, 2, 39, 1, 1, 1, 2, 3, 22, 1, 1, 14, 1, 1, 13, 1, 9, 5, 2, 9, 1, 2, 3, 39, 1, 1, 11, 8, 13, 2, 1, 9, 3, 2, 39, 1, 1, 1, 1, 25, 2, 1, 33, 9, 1, 8, 2, 1, 39, 1, 9, 1, 2, 22, 1, 1, 14, 1, 10, 6, 1, 1, 25, 2, 1, 11, 8, 13, 1, 1, 1, 6, 22, 9, 1, 13, 3, 15, 1, 1, 8, 1, 1, 33, 8, 9, 13, 13, 15, 7, 2, 25, 2, 2, 1, 25, 1, 5, 1, 1, 1, 2, 2, 5, 25, 4, 3, 5, 25, 1, 2, 1, 1, 2, 1, 1, 13, 1, 1, 1, 2, 22, 3, 1, 1, 25, 1, 1, 7, 7, 5, 22, 1, 8, 1, 1, 1, 39, 9, 33, 9, 5, 9, 3, 13, 1, 8, 22, 2, 8, 2, 1, 2, 9, 12, 1, 2, 39, 3, 1, 2, 1, 1, 1]\n"
          ]
        }
      ]
    },
    {
      "cell_type": "code",
      "source": [
        "n = len(words_list)\n",
        "word_col = pd.DataFrame(words_list, np.arange(n))\n",
        "count_col = pd.DataFrame(counts_list, np.arange(n))"
      ],
      "metadata": {
        "id": "_HpaiATJsqY9"
      },
      "id": "_HpaiATJsqY9",
      "execution_count": 93,
      "outputs": []
    },
    {
      "cell_type": "code",
      "source": [
        "wc_df = pd.concat([word_col,count_col], axis = 1)\n",
        "wc_df.columns = ['word','count']\n",
        "wc_df"
      ],
      "metadata": {
        "colab": {
          "base_uri": "https://localhost:8080/",
          "height": 423
        },
        "id": "U2B3Q_SAs5q-",
        "outputId": "b4478df8-0099-4755-ff28-f8b00c048f2a"
      },
      "id": "U2B3Q_SAs5q-",
      "execution_count": 94,
      "outputs": [
        {
          "output_type": "execute_result",
          "data": {
            "text/plain": [
              "                word  count\n",
              "0                 인공      1\n",
              "1                 지능      1\n",
              "2                 AI      9\n",
              "3                 학습      5\n",
              "4                  을     25\n",
              "..               ...    ...\n",
              "559               분석      1\n",
              "560               이다      2\n",
              "561               박찬      1\n",
              "562               기자      1\n",
              "563  cparkaitimescom      1\n",
              "\n",
              "[564 rows x 2 columns]"
            ],
            "text/html": [
              "\n",
              "  <div id=\"df-0267bc87-8f19-43cc-bc11-65c258cc969f\" class=\"colab-df-container\">\n",
              "    <div>\n",
              "<style scoped>\n",
              "    .dataframe tbody tr th:only-of-type {\n",
              "        vertical-align: middle;\n",
              "    }\n",
              "\n",
              "    .dataframe tbody tr th {\n",
              "        vertical-align: top;\n",
              "    }\n",
              "\n",
              "    .dataframe thead th {\n",
              "        text-align: right;\n",
              "    }\n",
              "</style>\n",
              "<table border=\"1\" class=\"dataframe\">\n",
              "  <thead>\n",
              "    <tr style=\"text-align: right;\">\n",
              "      <th></th>\n",
              "      <th>word</th>\n",
              "      <th>count</th>\n",
              "    </tr>\n",
              "  </thead>\n",
              "  <tbody>\n",
              "    <tr>\n",
              "      <th>0</th>\n",
              "      <td>인공</td>\n",
              "      <td>1</td>\n",
              "    </tr>\n",
              "    <tr>\n",
              "      <th>1</th>\n",
              "      <td>지능</td>\n",
              "      <td>1</td>\n",
              "    </tr>\n",
              "    <tr>\n",
              "      <th>2</th>\n",
              "      <td>AI</td>\n",
              "      <td>9</td>\n",
              "    </tr>\n",
              "    <tr>\n",
              "      <th>3</th>\n",
              "      <td>학습</td>\n",
              "      <td>5</td>\n",
              "    </tr>\n",
              "    <tr>\n",
              "      <th>4</th>\n",
              "      <td>을</td>\n",
              "      <td>25</td>\n",
              "    </tr>\n",
              "    <tr>\n",
              "      <th>...</th>\n",
              "      <td>...</td>\n",
              "      <td>...</td>\n",
              "    </tr>\n",
              "    <tr>\n",
              "      <th>559</th>\n",
              "      <td>분석</td>\n",
              "      <td>1</td>\n",
              "    </tr>\n",
              "    <tr>\n",
              "      <th>560</th>\n",
              "      <td>이다</td>\n",
              "      <td>2</td>\n",
              "    </tr>\n",
              "    <tr>\n",
              "      <th>561</th>\n",
              "      <td>박찬</td>\n",
              "      <td>1</td>\n",
              "    </tr>\n",
              "    <tr>\n",
              "      <th>562</th>\n",
              "      <td>기자</td>\n",
              "      <td>1</td>\n",
              "    </tr>\n",
              "    <tr>\n",
              "      <th>563</th>\n",
              "      <td>cparkaitimescom</td>\n",
              "      <td>1</td>\n",
              "    </tr>\n",
              "  </tbody>\n",
              "</table>\n",
              "<p>564 rows × 2 columns</p>\n",
              "</div>\n",
              "    <div class=\"colab-df-buttons\">\n",
              "\n",
              "  <div class=\"colab-df-container\">\n",
              "    <button class=\"colab-df-convert\" onclick=\"convertToInteractive('df-0267bc87-8f19-43cc-bc11-65c258cc969f')\"\n",
              "            title=\"Convert this dataframe to an interactive table.\"\n",
              "            style=\"display:none;\">\n",
              "\n",
              "  <svg xmlns=\"http://www.w3.org/2000/svg\" height=\"24px\" viewBox=\"0 -960 960 960\">\n",
              "    <path d=\"M120-120v-720h720v720H120Zm60-500h600v-160H180v160Zm220 220h160v-160H400v160Zm0 220h160v-160H400v160ZM180-400h160v-160H180v160Zm440 0h160v-160H620v160ZM180-180h160v-160H180v160Zm440 0h160v-160H620v160Z\"/>\n",
              "  </svg>\n",
              "    </button>\n",
              "\n",
              "  <style>\n",
              "    .colab-df-container {\n",
              "      display:flex;\n",
              "      gap: 12px;\n",
              "    }\n",
              "\n",
              "    .colab-df-convert {\n",
              "      background-color: #E8F0FE;\n",
              "      border: none;\n",
              "      border-radius: 50%;\n",
              "      cursor: pointer;\n",
              "      display: none;\n",
              "      fill: #1967D2;\n",
              "      height: 32px;\n",
              "      padding: 0 0 0 0;\n",
              "      width: 32px;\n",
              "    }\n",
              "\n",
              "    .colab-df-convert:hover {\n",
              "      background-color: #E2EBFA;\n",
              "      box-shadow: 0px 1px 2px rgba(60, 64, 67, 0.3), 0px 1px 3px 1px rgba(60, 64, 67, 0.15);\n",
              "      fill: #174EA6;\n",
              "    }\n",
              "\n",
              "    .colab-df-buttons div {\n",
              "      margin-bottom: 4px;\n",
              "    }\n",
              "\n",
              "    [theme=dark] .colab-df-convert {\n",
              "      background-color: #3B4455;\n",
              "      fill: #D2E3FC;\n",
              "    }\n",
              "\n",
              "    [theme=dark] .colab-df-convert:hover {\n",
              "      background-color: #434B5C;\n",
              "      box-shadow: 0px 1px 3px 1px rgba(0, 0, 0, 0.15);\n",
              "      filter: drop-shadow(0px 1px 2px rgba(0, 0, 0, 0.3));\n",
              "      fill: #FFFFFF;\n",
              "    }\n",
              "  </style>\n",
              "\n",
              "    <script>\n",
              "      const buttonEl =\n",
              "        document.querySelector('#df-0267bc87-8f19-43cc-bc11-65c258cc969f button.colab-df-convert');\n",
              "      buttonEl.style.display =\n",
              "        google.colab.kernel.accessAllowed ? 'block' : 'none';\n",
              "\n",
              "      async function convertToInteractive(key) {\n",
              "        const element = document.querySelector('#df-0267bc87-8f19-43cc-bc11-65c258cc969f');\n",
              "        const dataTable =\n",
              "          await google.colab.kernel.invokeFunction('convertToInteractive',\n",
              "                                                    [key], {});\n",
              "        if (!dataTable) return;\n",
              "\n",
              "        const docLinkHtml = 'Like what you see? Visit the ' +\n",
              "          '<a target=\"_blank\" href=https://colab.research.google.com/notebooks/data_table.ipynb>data table notebook</a>'\n",
              "          + ' to learn more about interactive tables.';\n",
              "        element.innerHTML = '';\n",
              "        dataTable['output_type'] = 'display_data';\n",
              "        await google.colab.output.renderOutput(dataTable, element);\n",
              "        const docLink = document.createElement('div');\n",
              "        docLink.innerHTML = docLinkHtml;\n",
              "        element.appendChild(docLink);\n",
              "      }\n",
              "    </script>\n",
              "  </div>\n",
              "\n",
              "\n",
              "<div id=\"df-f6117f06-aa5c-4e6e-9b10-567a6c9b7d42\">\n",
              "  <button class=\"colab-df-quickchart\" onclick=\"quickchart('df-f6117f06-aa5c-4e6e-9b10-567a6c9b7d42')\"\n",
              "            title=\"Suggest charts\"\n",
              "            style=\"display:none;\">\n",
              "\n",
              "<svg xmlns=\"http://www.w3.org/2000/svg\" height=\"24px\"viewBox=\"0 0 24 24\"\n",
              "     width=\"24px\">\n",
              "    <g>\n",
              "        <path d=\"M19 3H5c-1.1 0-2 .9-2 2v14c0 1.1.9 2 2 2h14c1.1 0 2-.9 2-2V5c0-1.1-.9-2-2-2zM9 17H7v-7h2v7zm4 0h-2V7h2v10zm4 0h-2v-4h2v4z\"/>\n",
              "    </g>\n",
              "</svg>\n",
              "  </button>\n",
              "\n",
              "<style>\n",
              "  .colab-df-quickchart {\n",
              "      --bg-color: #E8F0FE;\n",
              "      --fill-color: #1967D2;\n",
              "      --hover-bg-color: #E2EBFA;\n",
              "      --hover-fill-color: #174EA6;\n",
              "      --disabled-fill-color: #AAA;\n",
              "      --disabled-bg-color: #DDD;\n",
              "  }\n",
              "\n",
              "  [theme=dark] .colab-df-quickchart {\n",
              "      --bg-color: #3B4455;\n",
              "      --fill-color: #D2E3FC;\n",
              "      --hover-bg-color: #434B5C;\n",
              "      --hover-fill-color: #FFFFFF;\n",
              "      --disabled-bg-color: #3B4455;\n",
              "      --disabled-fill-color: #666;\n",
              "  }\n",
              "\n",
              "  .colab-df-quickchart {\n",
              "    background-color: var(--bg-color);\n",
              "    border: none;\n",
              "    border-radius: 50%;\n",
              "    cursor: pointer;\n",
              "    display: none;\n",
              "    fill: var(--fill-color);\n",
              "    height: 32px;\n",
              "    padding: 0;\n",
              "    width: 32px;\n",
              "  }\n",
              "\n",
              "  .colab-df-quickchart:hover {\n",
              "    background-color: var(--hover-bg-color);\n",
              "    box-shadow: 0 1px 2px rgba(60, 64, 67, 0.3), 0 1px 3px 1px rgba(60, 64, 67, 0.15);\n",
              "    fill: var(--button-hover-fill-color);\n",
              "  }\n",
              "\n",
              "  .colab-df-quickchart-complete:disabled,\n",
              "  .colab-df-quickchart-complete:disabled:hover {\n",
              "    background-color: var(--disabled-bg-color);\n",
              "    fill: var(--disabled-fill-color);\n",
              "    box-shadow: none;\n",
              "  }\n",
              "\n",
              "  .colab-df-spinner {\n",
              "    border: 2px solid var(--fill-color);\n",
              "    border-color: transparent;\n",
              "    border-bottom-color: var(--fill-color);\n",
              "    animation:\n",
              "      spin 1s steps(1) infinite;\n",
              "  }\n",
              "\n",
              "  @keyframes spin {\n",
              "    0% {\n",
              "      border-color: transparent;\n",
              "      border-bottom-color: var(--fill-color);\n",
              "      border-left-color: var(--fill-color);\n",
              "    }\n",
              "    20% {\n",
              "      border-color: transparent;\n",
              "      border-left-color: var(--fill-color);\n",
              "      border-top-color: var(--fill-color);\n",
              "    }\n",
              "    30% {\n",
              "      border-color: transparent;\n",
              "      border-left-color: var(--fill-color);\n",
              "      border-top-color: var(--fill-color);\n",
              "      border-right-color: var(--fill-color);\n",
              "    }\n",
              "    40% {\n",
              "      border-color: transparent;\n",
              "      border-right-color: var(--fill-color);\n",
              "      border-top-color: var(--fill-color);\n",
              "    }\n",
              "    60% {\n",
              "      border-color: transparent;\n",
              "      border-right-color: var(--fill-color);\n",
              "    }\n",
              "    80% {\n",
              "      border-color: transparent;\n",
              "      border-right-color: var(--fill-color);\n",
              "      border-bottom-color: var(--fill-color);\n",
              "    }\n",
              "    90% {\n",
              "      border-color: transparent;\n",
              "      border-bottom-color: var(--fill-color);\n",
              "    }\n",
              "  }\n",
              "</style>\n",
              "\n",
              "  <script>\n",
              "    async function quickchart(key) {\n",
              "      const quickchartButtonEl =\n",
              "        document.querySelector('#' + key + ' button');\n",
              "      quickchartButtonEl.disabled = true;  // To prevent multiple clicks.\n",
              "      quickchartButtonEl.classList.add('colab-df-spinner');\n",
              "      try {\n",
              "        const charts = await google.colab.kernel.invokeFunction(\n",
              "            'suggestCharts', [key], {});\n",
              "      } catch (error) {\n",
              "        console.error('Error during call to suggestCharts:', error);\n",
              "      }\n",
              "      quickchartButtonEl.classList.remove('colab-df-spinner');\n",
              "      quickchartButtonEl.classList.add('colab-df-quickchart-complete');\n",
              "    }\n",
              "    (() => {\n",
              "      let quickchartButtonEl =\n",
              "        document.querySelector('#df-f6117f06-aa5c-4e6e-9b10-567a6c9b7d42 button');\n",
              "      quickchartButtonEl.style.display =\n",
              "        google.colab.kernel.accessAllowed ? 'block' : 'none';\n",
              "    })();\n",
              "  </script>\n",
              "</div>\n",
              "\n",
              "  <div id=\"id_8a1d6646-c89d-4f25-b2bc-9e6cc2a03c74\">\n",
              "    <style>\n",
              "      .colab-df-generate {\n",
              "        background-color: #E8F0FE;\n",
              "        border: none;\n",
              "        border-radius: 50%;\n",
              "        cursor: pointer;\n",
              "        display: none;\n",
              "        fill: #1967D2;\n",
              "        height: 32px;\n",
              "        padding: 0 0 0 0;\n",
              "        width: 32px;\n",
              "      }\n",
              "\n",
              "      .colab-df-generate:hover {\n",
              "        background-color: #E2EBFA;\n",
              "        box-shadow: 0px 1px 2px rgba(60, 64, 67, 0.3), 0px 1px 3px 1px rgba(60, 64, 67, 0.15);\n",
              "        fill: #174EA6;\n",
              "      }\n",
              "\n",
              "      [theme=dark] .colab-df-generate {\n",
              "        background-color: #3B4455;\n",
              "        fill: #D2E3FC;\n",
              "      }\n",
              "\n",
              "      [theme=dark] .colab-df-generate:hover {\n",
              "        background-color: #434B5C;\n",
              "        box-shadow: 0px 1px 3px 1px rgba(0, 0, 0, 0.15);\n",
              "        filter: drop-shadow(0px 1px 2px rgba(0, 0, 0, 0.3));\n",
              "        fill: #FFFFFF;\n",
              "      }\n",
              "    </style>\n",
              "    <button class=\"colab-df-generate\" onclick=\"generateWithVariable('wc_df')\"\n",
              "            title=\"Generate code using this dataframe.\"\n",
              "            style=\"display:none;\">\n",
              "\n",
              "  <svg xmlns=\"http://www.w3.org/2000/svg\" height=\"24px\"viewBox=\"0 0 24 24\"\n",
              "       width=\"24px\">\n",
              "    <path d=\"M7,19H8.4L18.45,9,17,7.55,7,17.6ZM5,21V16.75L18.45,3.32a2,2,0,0,1,2.83,0l1.4,1.43a1.91,1.91,0,0,1,.58,1.4,1.91,1.91,0,0,1-.58,1.4L9.25,21ZM18.45,9,17,7.55Zm-12,3A5.31,5.31,0,0,0,4.9,8.1,5.31,5.31,0,0,0,1,6.5,5.31,5.31,0,0,0,4.9,4.9,5.31,5.31,0,0,0,6.5,1,5.31,5.31,0,0,0,8.1,4.9,5.31,5.31,0,0,0,12,6.5,5.46,5.46,0,0,0,6.5,12Z\"/>\n",
              "  </svg>\n",
              "    </button>\n",
              "    <script>\n",
              "      (() => {\n",
              "      const buttonEl =\n",
              "        document.querySelector('#id_8a1d6646-c89d-4f25-b2bc-9e6cc2a03c74 button.colab-df-generate');\n",
              "      buttonEl.style.display =\n",
              "        google.colab.kernel.accessAllowed ? 'block' : 'none';\n",
              "\n",
              "      buttonEl.onclick = () => {\n",
              "        google.colab.notebook.generateWithVariable('wc_df');\n",
              "      }\n",
              "      })();\n",
              "    </script>\n",
              "  </div>\n",
              "\n",
              "    </div>\n",
              "  </div>\n"
            ],
            "application/vnd.google.colaboratory.intrinsic+json": {
              "type": "dataframe",
              "variable_name": "wc_df",
              "summary": "{\n  \"name\": \"wc_df\",\n  \"rows\": 564,\n  \"fields\": [\n    {\n      \"column\": \"word\",\n      \"properties\": {\n        \"dtype\": \"string\",\n        \"num_unique_values\": 292,\n        \"samples\": [\n          \"\\uae30\\uad00\",\n          \"\\uc5f0\\uad6c\",\n          \"\\ubb34\\uc5ed\"\n        ],\n        \"semantic_type\": \"\",\n        \"description\": \"\"\n      }\n    },\n    {\n      \"column\": \"count\",\n      \"properties\": {\n        \"dtype\": \"number\",\n        \"std\": 9,\n        \"min\": 1,\n        \"max\": 39,\n        \"num_unique_values\": 22,\n        \"samples\": [\n          1,\n          39,\n          13\n        ],\n        \"semantic_type\": \"\",\n        \"description\": \"\"\n      }\n    }\n  ]\n}"
            }
          },
          "metadata": {},
          "execution_count": 94
        }
      ]
    },
    {
      "cell_type": "markdown",
      "id": "c15be9d4",
      "metadata": {
        "id": "c15be9d4"
      },
      "source": [
        "1.3 불용어를 제거하시오."
      ]
    },
    {
      "cell_type": "markdown",
      "source": [
        "https://www.ranks.nl/stopwords/korean"
      ],
      "metadata": {
        "id": "hSvkndsolQO5"
      },
      "id": "hSvkndsolQO5"
    },
    {
      "cell_type": "code",
      "source": [
        "def text_cleaning(text):\n",
        "  hangul = re.compile('[^ ㄱ-ㅣ가-힣]+')\n",
        "  result = hangul.sub('',text)\n",
        "  return result\n",
        "\n",
        "wc_df['word'] = wc_df['word'].apply(lambda x : text_cleaning(x))"
      ],
      "metadata": {
        "id": "MmF-iI4fuQgE"
      },
      "id": "MmF-iI4fuQgE",
      "execution_count": 82,
      "outputs": []
    },
    {
      "cell_type": "code",
      "source": [
        "wc_df"
      ],
      "metadata": {
        "colab": {
          "base_uri": "https://localhost:8080/",
          "height": 423
        },
        "id": "byiukc5wvWV-",
        "outputId": "f1dc9de4-b436-4000-df6c-aee79b12cce1"
      },
      "id": "byiukc5wvWV-",
      "execution_count": 83,
      "outputs": [
        {
          "output_type": "execute_result",
          "data": {
            "text/plain": [
              "    word  count\n",
              "0     인공      1\n",
              "1     지능      1\n",
              "2             9\n",
              "3     학습      5\n",
              "4      을     25\n",
              "..   ...    ...\n",
              "559   분석      1\n",
              "560   이다      2\n",
              "561   박찬      1\n",
              "562   기자      1\n",
              "563           1\n",
              "\n",
              "[564 rows x 2 columns]"
            ],
            "text/html": [
              "\n",
              "  <div id=\"df-b4e9fd56-8fe6-4460-b0c2-533c22210f65\" class=\"colab-df-container\">\n",
              "    <div>\n",
              "<style scoped>\n",
              "    .dataframe tbody tr th:only-of-type {\n",
              "        vertical-align: middle;\n",
              "    }\n",
              "\n",
              "    .dataframe tbody tr th {\n",
              "        vertical-align: top;\n",
              "    }\n",
              "\n",
              "    .dataframe thead th {\n",
              "        text-align: right;\n",
              "    }\n",
              "</style>\n",
              "<table border=\"1\" class=\"dataframe\">\n",
              "  <thead>\n",
              "    <tr style=\"text-align: right;\">\n",
              "      <th></th>\n",
              "      <th>word</th>\n",
              "      <th>count</th>\n",
              "    </tr>\n",
              "  </thead>\n",
              "  <tbody>\n",
              "    <tr>\n",
              "      <th>0</th>\n",
              "      <td>인공</td>\n",
              "      <td>1</td>\n",
              "    </tr>\n",
              "    <tr>\n",
              "      <th>1</th>\n",
              "      <td>지능</td>\n",
              "      <td>1</td>\n",
              "    </tr>\n",
              "    <tr>\n",
              "      <th>2</th>\n",
              "      <td></td>\n",
              "      <td>9</td>\n",
              "    </tr>\n",
              "    <tr>\n",
              "      <th>3</th>\n",
              "      <td>학습</td>\n",
              "      <td>5</td>\n",
              "    </tr>\n",
              "    <tr>\n",
              "      <th>4</th>\n",
              "      <td>을</td>\n",
              "      <td>25</td>\n",
              "    </tr>\n",
              "    <tr>\n",
              "      <th>...</th>\n",
              "      <td>...</td>\n",
              "      <td>...</td>\n",
              "    </tr>\n",
              "    <tr>\n",
              "      <th>559</th>\n",
              "      <td>분석</td>\n",
              "      <td>1</td>\n",
              "    </tr>\n",
              "    <tr>\n",
              "      <th>560</th>\n",
              "      <td>이다</td>\n",
              "      <td>2</td>\n",
              "    </tr>\n",
              "    <tr>\n",
              "      <th>561</th>\n",
              "      <td>박찬</td>\n",
              "      <td>1</td>\n",
              "    </tr>\n",
              "    <tr>\n",
              "      <th>562</th>\n",
              "      <td>기자</td>\n",
              "      <td>1</td>\n",
              "    </tr>\n",
              "    <tr>\n",
              "      <th>563</th>\n",
              "      <td></td>\n",
              "      <td>1</td>\n",
              "    </tr>\n",
              "  </tbody>\n",
              "</table>\n",
              "<p>564 rows × 2 columns</p>\n",
              "</div>\n",
              "    <div class=\"colab-df-buttons\">\n",
              "\n",
              "  <div class=\"colab-df-container\">\n",
              "    <button class=\"colab-df-convert\" onclick=\"convertToInteractive('df-b4e9fd56-8fe6-4460-b0c2-533c22210f65')\"\n",
              "            title=\"Convert this dataframe to an interactive table.\"\n",
              "            style=\"display:none;\">\n",
              "\n",
              "  <svg xmlns=\"http://www.w3.org/2000/svg\" height=\"24px\" viewBox=\"0 -960 960 960\">\n",
              "    <path d=\"M120-120v-720h720v720H120Zm60-500h600v-160H180v160Zm220 220h160v-160H400v160Zm0 220h160v-160H400v160ZM180-400h160v-160H180v160Zm440 0h160v-160H620v160ZM180-180h160v-160H180v160Zm440 0h160v-160H620v160Z\"/>\n",
              "  </svg>\n",
              "    </button>\n",
              "\n",
              "  <style>\n",
              "    .colab-df-container {\n",
              "      display:flex;\n",
              "      gap: 12px;\n",
              "    }\n",
              "\n",
              "    .colab-df-convert {\n",
              "      background-color: #E8F0FE;\n",
              "      border: none;\n",
              "      border-radius: 50%;\n",
              "      cursor: pointer;\n",
              "      display: none;\n",
              "      fill: #1967D2;\n",
              "      height: 32px;\n",
              "      padding: 0 0 0 0;\n",
              "      width: 32px;\n",
              "    }\n",
              "\n",
              "    .colab-df-convert:hover {\n",
              "      background-color: #E2EBFA;\n",
              "      box-shadow: 0px 1px 2px rgba(60, 64, 67, 0.3), 0px 1px 3px 1px rgba(60, 64, 67, 0.15);\n",
              "      fill: #174EA6;\n",
              "    }\n",
              "\n",
              "    .colab-df-buttons div {\n",
              "      margin-bottom: 4px;\n",
              "    }\n",
              "\n",
              "    [theme=dark] .colab-df-convert {\n",
              "      background-color: #3B4455;\n",
              "      fill: #D2E3FC;\n",
              "    }\n",
              "\n",
              "    [theme=dark] .colab-df-convert:hover {\n",
              "      background-color: #434B5C;\n",
              "      box-shadow: 0px 1px 3px 1px rgba(0, 0, 0, 0.15);\n",
              "      filter: drop-shadow(0px 1px 2px rgba(0, 0, 0, 0.3));\n",
              "      fill: #FFFFFF;\n",
              "    }\n",
              "  </style>\n",
              "\n",
              "    <script>\n",
              "      const buttonEl =\n",
              "        document.querySelector('#df-b4e9fd56-8fe6-4460-b0c2-533c22210f65 button.colab-df-convert');\n",
              "      buttonEl.style.display =\n",
              "        google.colab.kernel.accessAllowed ? 'block' : 'none';\n",
              "\n",
              "      async function convertToInteractive(key) {\n",
              "        const element = document.querySelector('#df-b4e9fd56-8fe6-4460-b0c2-533c22210f65');\n",
              "        const dataTable =\n",
              "          await google.colab.kernel.invokeFunction('convertToInteractive',\n",
              "                                                    [key], {});\n",
              "        if (!dataTable) return;\n",
              "\n",
              "        const docLinkHtml = 'Like what you see? Visit the ' +\n",
              "          '<a target=\"_blank\" href=https://colab.research.google.com/notebooks/data_table.ipynb>data table notebook</a>'\n",
              "          + ' to learn more about interactive tables.';\n",
              "        element.innerHTML = '';\n",
              "        dataTable['output_type'] = 'display_data';\n",
              "        await google.colab.output.renderOutput(dataTable, element);\n",
              "        const docLink = document.createElement('div');\n",
              "        docLink.innerHTML = docLinkHtml;\n",
              "        element.appendChild(docLink);\n",
              "      }\n",
              "    </script>\n",
              "  </div>\n",
              "\n",
              "\n",
              "<div id=\"df-ebc1f1e5-dbc2-47bc-8f0a-f6fbc3cf6a6a\">\n",
              "  <button class=\"colab-df-quickchart\" onclick=\"quickchart('df-ebc1f1e5-dbc2-47bc-8f0a-f6fbc3cf6a6a')\"\n",
              "            title=\"Suggest charts\"\n",
              "            style=\"display:none;\">\n",
              "\n",
              "<svg xmlns=\"http://www.w3.org/2000/svg\" height=\"24px\"viewBox=\"0 0 24 24\"\n",
              "     width=\"24px\">\n",
              "    <g>\n",
              "        <path d=\"M19 3H5c-1.1 0-2 .9-2 2v14c0 1.1.9 2 2 2h14c1.1 0 2-.9 2-2V5c0-1.1-.9-2-2-2zM9 17H7v-7h2v7zm4 0h-2V7h2v10zm4 0h-2v-4h2v4z\"/>\n",
              "    </g>\n",
              "</svg>\n",
              "  </button>\n",
              "\n",
              "<style>\n",
              "  .colab-df-quickchart {\n",
              "      --bg-color: #E8F0FE;\n",
              "      --fill-color: #1967D2;\n",
              "      --hover-bg-color: #E2EBFA;\n",
              "      --hover-fill-color: #174EA6;\n",
              "      --disabled-fill-color: #AAA;\n",
              "      --disabled-bg-color: #DDD;\n",
              "  }\n",
              "\n",
              "  [theme=dark] .colab-df-quickchart {\n",
              "      --bg-color: #3B4455;\n",
              "      --fill-color: #D2E3FC;\n",
              "      --hover-bg-color: #434B5C;\n",
              "      --hover-fill-color: #FFFFFF;\n",
              "      --disabled-bg-color: #3B4455;\n",
              "      --disabled-fill-color: #666;\n",
              "  }\n",
              "\n",
              "  .colab-df-quickchart {\n",
              "    background-color: var(--bg-color);\n",
              "    border: none;\n",
              "    border-radius: 50%;\n",
              "    cursor: pointer;\n",
              "    display: none;\n",
              "    fill: var(--fill-color);\n",
              "    height: 32px;\n",
              "    padding: 0;\n",
              "    width: 32px;\n",
              "  }\n",
              "\n",
              "  .colab-df-quickchart:hover {\n",
              "    background-color: var(--hover-bg-color);\n",
              "    box-shadow: 0 1px 2px rgba(60, 64, 67, 0.3), 0 1px 3px 1px rgba(60, 64, 67, 0.15);\n",
              "    fill: var(--button-hover-fill-color);\n",
              "  }\n",
              "\n",
              "  .colab-df-quickchart-complete:disabled,\n",
              "  .colab-df-quickchart-complete:disabled:hover {\n",
              "    background-color: var(--disabled-bg-color);\n",
              "    fill: var(--disabled-fill-color);\n",
              "    box-shadow: none;\n",
              "  }\n",
              "\n",
              "  .colab-df-spinner {\n",
              "    border: 2px solid var(--fill-color);\n",
              "    border-color: transparent;\n",
              "    border-bottom-color: var(--fill-color);\n",
              "    animation:\n",
              "      spin 1s steps(1) infinite;\n",
              "  }\n",
              "\n",
              "  @keyframes spin {\n",
              "    0% {\n",
              "      border-color: transparent;\n",
              "      border-bottom-color: var(--fill-color);\n",
              "      border-left-color: var(--fill-color);\n",
              "    }\n",
              "    20% {\n",
              "      border-color: transparent;\n",
              "      border-left-color: var(--fill-color);\n",
              "      border-top-color: var(--fill-color);\n",
              "    }\n",
              "    30% {\n",
              "      border-color: transparent;\n",
              "      border-left-color: var(--fill-color);\n",
              "      border-top-color: var(--fill-color);\n",
              "      border-right-color: var(--fill-color);\n",
              "    }\n",
              "    40% {\n",
              "      border-color: transparent;\n",
              "      border-right-color: var(--fill-color);\n",
              "      border-top-color: var(--fill-color);\n",
              "    }\n",
              "    60% {\n",
              "      border-color: transparent;\n",
              "      border-right-color: var(--fill-color);\n",
              "    }\n",
              "    80% {\n",
              "      border-color: transparent;\n",
              "      border-right-color: var(--fill-color);\n",
              "      border-bottom-color: var(--fill-color);\n",
              "    }\n",
              "    90% {\n",
              "      border-color: transparent;\n",
              "      border-bottom-color: var(--fill-color);\n",
              "    }\n",
              "  }\n",
              "</style>\n",
              "\n",
              "  <script>\n",
              "    async function quickchart(key) {\n",
              "      const quickchartButtonEl =\n",
              "        document.querySelector('#' + key + ' button');\n",
              "      quickchartButtonEl.disabled = true;  // To prevent multiple clicks.\n",
              "      quickchartButtonEl.classList.add('colab-df-spinner');\n",
              "      try {\n",
              "        const charts = await google.colab.kernel.invokeFunction(\n",
              "            'suggestCharts', [key], {});\n",
              "      } catch (error) {\n",
              "        console.error('Error during call to suggestCharts:', error);\n",
              "      }\n",
              "      quickchartButtonEl.classList.remove('colab-df-spinner');\n",
              "      quickchartButtonEl.classList.add('colab-df-quickchart-complete');\n",
              "    }\n",
              "    (() => {\n",
              "      let quickchartButtonEl =\n",
              "        document.querySelector('#df-ebc1f1e5-dbc2-47bc-8f0a-f6fbc3cf6a6a button');\n",
              "      quickchartButtonEl.style.display =\n",
              "        google.colab.kernel.accessAllowed ? 'block' : 'none';\n",
              "    })();\n",
              "  </script>\n",
              "</div>\n",
              "\n",
              "  <div id=\"id_9dc9423e-f8b0-467a-817a-dbbaf4b675ea\">\n",
              "    <style>\n",
              "      .colab-df-generate {\n",
              "        background-color: #E8F0FE;\n",
              "        border: none;\n",
              "        border-radius: 50%;\n",
              "        cursor: pointer;\n",
              "        display: none;\n",
              "        fill: #1967D2;\n",
              "        height: 32px;\n",
              "        padding: 0 0 0 0;\n",
              "        width: 32px;\n",
              "      }\n",
              "\n",
              "      .colab-df-generate:hover {\n",
              "        background-color: #E2EBFA;\n",
              "        box-shadow: 0px 1px 2px rgba(60, 64, 67, 0.3), 0px 1px 3px 1px rgba(60, 64, 67, 0.15);\n",
              "        fill: #174EA6;\n",
              "      }\n",
              "\n",
              "      [theme=dark] .colab-df-generate {\n",
              "        background-color: #3B4455;\n",
              "        fill: #D2E3FC;\n",
              "      }\n",
              "\n",
              "      [theme=dark] .colab-df-generate:hover {\n",
              "        background-color: #434B5C;\n",
              "        box-shadow: 0px 1px 3px 1px rgba(0, 0, 0, 0.15);\n",
              "        filter: drop-shadow(0px 1px 2px rgba(0, 0, 0, 0.3));\n",
              "        fill: #FFFFFF;\n",
              "      }\n",
              "    </style>\n",
              "    <button class=\"colab-df-generate\" onclick=\"generateWithVariable('wc_df')\"\n",
              "            title=\"Generate code using this dataframe.\"\n",
              "            style=\"display:none;\">\n",
              "\n",
              "  <svg xmlns=\"http://www.w3.org/2000/svg\" height=\"24px\"viewBox=\"0 0 24 24\"\n",
              "       width=\"24px\">\n",
              "    <path d=\"M7,19H8.4L18.45,9,17,7.55,7,17.6ZM5,21V16.75L18.45,3.32a2,2,0,0,1,2.83,0l1.4,1.43a1.91,1.91,0,0,1,.58,1.4,1.91,1.91,0,0,1-.58,1.4L9.25,21ZM18.45,9,17,7.55Zm-12,3A5.31,5.31,0,0,0,4.9,8.1,5.31,5.31,0,0,0,1,6.5,5.31,5.31,0,0,0,4.9,4.9,5.31,5.31,0,0,0,6.5,1,5.31,5.31,0,0,0,8.1,4.9,5.31,5.31,0,0,0,12,6.5,5.46,5.46,0,0,0,6.5,12Z\"/>\n",
              "  </svg>\n",
              "    </button>\n",
              "    <script>\n",
              "      (() => {\n",
              "      const buttonEl =\n",
              "        document.querySelector('#id_9dc9423e-f8b0-467a-817a-dbbaf4b675ea button.colab-df-generate');\n",
              "      buttonEl.style.display =\n",
              "        google.colab.kernel.accessAllowed ? 'block' : 'none';\n",
              "\n",
              "      buttonEl.onclick = () => {\n",
              "        google.colab.notebook.generateWithVariable('wc_df');\n",
              "      }\n",
              "      })();\n",
              "    </script>\n",
              "  </div>\n",
              "\n",
              "    </div>\n",
              "  </div>\n"
            ],
            "application/vnd.google.colaboratory.intrinsic+json": {
              "type": "dataframe",
              "variable_name": "wc_df",
              "summary": "{\n  \"name\": \"wc_df\",\n  \"rows\": 564,\n  \"fields\": [\n    {\n      \"column\": \"word\",\n      \"properties\": {\n        \"dtype\": \"string\",\n        \"num_unique_values\": 282,\n        \"samples\": [\n          \"\\ub41c\",\n          \"\\uc73c\\ub85c\",\n          \"\\ub2f5\"\n        ],\n        \"semantic_type\": \"\",\n        \"description\": \"\"\n      }\n    },\n    {\n      \"column\": \"count\",\n      \"properties\": {\n        \"dtype\": \"number\",\n        \"std\": 9,\n        \"min\": 1,\n        \"max\": 39,\n        \"num_unique_values\": 22,\n        \"samples\": [\n          1,\n          39,\n          13\n        ],\n        \"semantic_type\": \"\",\n        \"description\": \"\"\n      }\n    }\n  ]\n}"
            }
          },
          "metadata": {},
          "execution_count": 83
        }
      ]
    },
    {
      "cell_type": "code",
      "source": [
        "again = ''.join(wc_df['word'])\n",
        "tagger = Okt()\n",
        "word_nouns = tagger.nouns(again)\n",
        "word_nouns_count = Counter(word_nouns)\n",
        "word_nouns_count"
      ],
      "metadata": {
        "colab": {
          "base_uri": "https://localhost:8080/"
        },
        "id": "TllzCEetwvIs",
        "outputId": "b2ad457f-e55a-4db7-fc60-8007dd8627f2"
      },
      "id": "TllzCEetwvIs",
      "execution_count": 97,
      "outputs": [
        {
          "output_type": "execute_result",
          "data": {
            "text/plain": [
              "Counter({'인공': 1,\n",
              "         '지능': 1,\n",
              "         '학습': 4,\n",
              "         '위해': 2,\n",
              "         '인터넷': 1,\n",
              "         '커뮤니티': 1,\n",
              "         '의': 1,\n",
              "         '게시': 1,\n",
              "         '대한': 3,\n",
              "         '문제': 9,\n",
              "         '이제': 1,\n",
              "         '관련': 2,\n",
              "         '기업': 3,\n",
              "         '사용': 5,\n",
              "         '약관': 2,\n",
              "         '정도': 1,\n",
              "         '미국정부': 2,\n",
              "         '본격': 1,\n",
              "         '검토': 1,\n",
              "         '테크': 1,\n",
              "         '전문': 1,\n",
              "         '와이어': 1,\n",
              "         '로부터': 2,\n",
              "         '모델': 2,\n",
              "         '교육': 1,\n",
              "         '위': 1,\n",
              "         '해제': 1,\n",
              "         '자': 1,\n",
              "         '자생': 2,\n",
              "         '콘텐츠': 3,\n",
              "         '판매': 1,\n",
              "         '라이센스': 1,\n",
              "         '공유': 1,\n",
              "         '것': 1,\n",
              "         '질문서': 1,\n",
              "         '보도': 1,\n",
              "         '레딧': 7,\n",
              "         '취지': 1,\n",
              "         '요청': 1,\n",
              "         '회사': 6,\n",
              "         '독점': 1,\n",
              "         '금지': 1,\n",
              "         '규제': 1,\n",
              "         '기관': 1,\n",
              "         '불공정': 1,\n",
              "         '거나': 1,\n",
              "         '기만': 1,\n",
              "         '거래': 1,\n",
              "         '관행': 1,\n",
              "         '연루': 1,\n",
              "         '제재': 1,\n",
              "         '권한': 1,\n",
              "         '번조': 1,\n",
              "         '제공': 3,\n",
              "         '국회의원': 1,\n",
              "         '권리': 1,\n",
              "         '단체': 1,\n",
              "         '등': 3,\n",
              "         '개인': 2,\n",
              "         '정보보호': 1,\n",
              "         '위험': 1,\n",
              "         '및': 1,\n",
              "         '정성': 1,\n",
              "         '저작권': 2,\n",
              "         '의문': 2,\n",
              "         '반영': 2,\n",
              "         '고전': 1,\n",
              "         '현재': 1,\n",
              "         '미국': 1,\n",
              "         '대부분': 2,\n",
              "         '매체': 1,\n",
              "         '공개': 1,\n",
              "         '초점': 1,\n",
              "         '활용': 2,\n",
              "         '대해': 2,\n",
              "         '근본': 1,\n",
              "         '생기': 1,\n",
              "         '고지': 1,\n",
              "         '올해': 1,\n",
              "         '초구': 1,\n",
              "         '글': 1,\n",
              "         '연간': 1,\n",
              "         '실시간': 2,\n",
              "         '뉴스': 1,\n",
              "         '장': 1,\n",
              "         '수단': 1,\n",
              "         '실제': 2,\n",
              "         '일론': 1,\n",
              "         '머스크': 1,\n",
              "         '챗봇': 1,\n",
              "         '그록': 1,\n",
              "         '트위터': 1,\n",
              "         '통해': 2,\n",
              "         '이슈': 1,\n",
              "         '답': 1,\n",
              "         '가장': 1,\n",
              "         '장점': 1,\n",
              "         '메타': 2,\n",
              "         '역시': 1,\n",
              "         '방법': 1,\n",
              "         '적용': 1,\n",
              "         '소셜미디어': 1,\n",
              "         '사용자': 3,\n",
              "         '데이터': 9,\n",
              "         '가사': 1,\n",
              "         '조항': 1,\n",
              "         '가지': 1,\n",
              "         '신들': 1,\n",
              "         '해': 1,\n",
              "         '각종': 1,\n",
              "         '사업': 1,\n",
              "         '소송': 1,\n",
              "         '진행': 1,\n",
              "         '훈련': 2,\n",
              "         '온라인': 1,\n",
              "         '수집': 1,\n",
              "         '질문': 1,\n",
              "         '제기': 1,\n",
              "         '여기': 1,\n",
              "         '소유자': 1,\n",
              "         '유출': 1,\n",
              "         '가능성': 2,\n",
              "         '포함': 1,\n",
              "         '구글': 1,\n",
              "         '계약': 1,\n",
              "         '투자자': 1,\n",
              "         '프리젠테이션': 1,\n",
              "         '우리': 1,\n",
              "         '이점': 1,\n",
              "         '지적재산': 1,\n",
              "         '미래': 1,\n",
              "         '시스템': 1,\n",
              "         '핵심': 1,\n",
              "         '요소': 1,\n",
              "         '입장': 1,\n",
              "         '바': 1,\n",
              "         '수년': 1,\n",
              "         '동안': 1,\n",
              "         '라이선스': 1,\n",
              "         '연구원': 1,\n",
              "         '소프트웨어': 1,\n",
              "         '개발자': 1,\n",
              "         '용해': 1,\n",
              "         '행동': 1,\n",
              "         '연구': 1,\n",
              "         '기능': 1,\n",
              "         '구축': 1,\n",
              "         '지난해': 1,\n",
              "         '의상': 1,\n",
              "         '분석': 1,\n",
              "         '박찬기': 1})"
            ]
          },
          "metadata": {},
          "execution_count": 97
        }
      ]
    },
    {
      "cell_type": "markdown",
      "id": "3bcb5998",
      "metadata": {
        "id": "3bcb5998"
      },
      "source": [
        "1.4 처리한 데이터를 워드아트로 변환해 어떤 단어가 가장 많이 나왔는지 확인하시오(폰트, 색 등 자유)."
      ]
    },
    {
      "cell_type": "code",
      "execution_count": 13,
      "id": "ab69048c",
      "metadata": {
        "id": "ab69048c"
      },
      "outputs": [],
      "source": [
        "from wordcloud import WordCloud"
      ]
    },
    {
      "cell_type": "code",
      "source": [
        "wc3 = dict(word_nouns_count.most_common(40))"
      ],
      "metadata": {
        "id": "xN6kNaRJoQvN"
      },
      "id": "xN6kNaRJoQvN",
      "execution_count": 98,
      "outputs": []
    },
    {
      "cell_type": "code",
      "source": [
        "wc3"
      ],
      "metadata": {
        "colab": {
          "base_uri": "https://localhost:8080/"
        },
        "id": "iyql12G2ojmm",
        "outputId": "bcf4de8d-956a-444b-db0d-8b8a7fb4ef98"
      },
      "id": "iyql12G2ojmm",
      "execution_count": 99,
      "outputs": [
        {
          "output_type": "execute_result",
          "data": {
            "text/plain": [
              "{'문제': 9,\n",
              " '데이터': 9,\n",
              " '레딧': 7,\n",
              " '회사': 6,\n",
              " '사용': 5,\n",
              " '학습': 4,\n",
              " '대한': 3,\n",
              " '기업': 3,\n",
              " '콘텐츠': 3,\n",
              " '제공': 3,\n",
              " '등': 3,\n",
              " '사용자': 3,\n",
              " '위해': 2,\n",
              " '관련': 2,\n",
              " '약관': 2,\n",
              " '미국정부': 2,\n",
              " '로부터': 2,\n",
              " '모델': 2,\n",
              " '자생': 2,\n",
              " '개인': 2,\n",
              " '저작권': 2,\n",
              " '의문': 2,\n",
              " '반영': 2,\n",
              " '대부분': 2,\n",
              " '활용': 2,\n",
              " '대해': 2,\n",
              " '실시간': 2,\n",
              " '실제': 2,\n",
              " '통해': 2,\n",
              " '메타': 2,\n",
              " '훈련': 2,\n",
              " '가능성': 2,\n",
              " '인공': 1,\n",
              " '지능': 1,\n",
              " '인터넷': 1,\n",
              " '커뮤니티': 1,\n",
              " '의': 1,\n",
              " '게시': 1,\n",
              " '이제': 1,\n",
              " '정도': 1}"
            ]
          },
          "metadata": {},
          "execution_count": 99
        }
      ]
    },
    {
      "cell_type": "code",
      "source": [
        "image = WordCloud(font_path='/usr/share/fonts/truetype/nanum/NanumBarunGothic.ttf', background_color = 'white', max_font_size = 60)\n",
        "cloud = image.generate_from_frequencies(wc3)\n",
        "cloud.to_file('wc.png')"
      ],
      "metadata": {
        "colab": {
          "base_uri": "https://localhost:8080/"
        },
        "id": "3VxnmEBklQS2",
        "outputId": "f34fd196-012f-4792-f249-cf164b625978"
      },
      "id": "3VxnmEBklQS2",
      "execution_count": 100,
      "outputs": [
        {
          "output_type": "execute_result",
          "data": {
            "text/plain": [
              "<wordcloud.wordcloud.WordCloud at 0x798544734b50>"
            ]
          },
          "metadata": {},
          "execution_count": 100
        }
      ]
    },
    {
      "cell_type": "code",
      "source": [
        "plt.figure()\n",
        "plt.axis('off')\n",
        "plt.imshow(cloud)\n",
        "plt.show()"
      ],
      "metadata": {
        "colab": {
          "base_uri": "https://localhost:8080/",
          "height": 285
        },
        "id": "GRoaS3FWls23",
        "outputId": "cd5848c5-3ad0-49e1-c461-5826c9bed293"
      },
      "id": "GRoaS3FWls23",
      "execution_count": 101,
      "outputs": [
        {
          "output_type": "display_data",
          "data": {
            "text/plain": [
              "<Figure size 640x480 with 1 Axes>"
            ],
            "image/png": "[encoded data removed]"
          },
          "metadata": {}
        }
      ]
    },
    {
      "cell_type": "code",
      "source": [
        "#하트모양\n",
        "from PIL import Image\n",
        "import numpy as np\n",
        "\n",
        "im = Image.open('/content/heart.png') # 이미지 파일 읽어오기\n",
        "mask_arr = np.array(im) # 픽셀 값 배열 형태 변환\n",
        "\n",
        "wordcloud = WordCloud(font_path='/usr/share/fonts/truetype/nanum/NanumBarunGothic.ttf', background_color ='white', colormap='autumn',\n",
        "                      width = 700, height = 700, random_state = 43, mask = mask_arr,\n",
        "                      prefer_horizontal = True).generate_from_frequencies(wc3)\n",
        "\n",
        "plt.figure(figsize = (6, 6))\n",
        "plt.imshow(wordcloud)\n",
        "plt.title(\"Word Frequency\", size = 13)\n",
        "\n",
        "plt.axis('off')\n",
        "\n",
        "plt.show()"
      ],
      "metadata": {
        "colab": {
          "base_uri": "https://localhost:8080/",
          "height": 505
        },
        "id": "ZCP_gF_9yGm2",
        "outputId": "adf452a6-4a2e-4040-d855-4758f97cbdb2"
      },
      "id": "ZCP_gF_9yGm2",
      "execution_count": 105,
      "outputs": [
        {
          "output_type": "display_data",
          "data": {
            "text/plain": [
              "<Figure size 600x600 with 1 Axes>"
            ],
            "image/png": "[encoded data removed]"
          },
          "metadata": {}
        }
      ]
    },
    {
      "cell_type": "markdown",
      "id": "04088b77",
      "metadata": {
        "id": "04088b77"
      },
      "source": [
        "### 2. 플레이스토어 리뷰 데이터 크롤링(동적 크롤링)"
      ]
    },
    {
      "cell_type": "markdown",
      "id": "f237b952",
      "metadata": {
        "id": "f237b952"
      },
      "source": [
        "2.1 100개 이상의 리뷰를 가진 앱에 있는 댓글 리뷰를 크롤링하시오."
      ]
    },
    {
      "cell_type": "code",
      "source": [
        "# 이 부분은 처음 한번만 실행하면 됌.\n",
        "# 코드 수정 - \"The reason is that the last Ubuntu update update supports chromium driver just via snap.\"\n",
        "# 최근 우분투 업데이트에서 크롬 드라이버 설치를 snap을 이용해서만 하도록 바뀜\n",
        "# 고로 snap 없이 설치하는 아래 우회 코드로 변경\n",
        "# 출처 : https://colab.research.google.com/drive/1cbEvuZOhkouYLda3RqiwtbM-o9hxGLyC\n",
        "# 출처2 : https://stackoverflow.com/questions/75155063/selenium-use-chrome-on-colab-got-unexpectedly-exited\n",
        "\n",
        "%%shell\n",
        "# Ubuntu no longer distributes chromium-browser outside of snap\n",
        "#\n",
        "# Proposed solution: https://askubuntu.com/questions/1204571/how-to-install-chromium-without-snap\n",
        "\n",
        "# Add debian buster\n",
        "cat > /etc/apt/sources.list.d/debian.list <<'EOF'\n",
        "deb [arch=amd64 signed-by=/usr/share/keyrings/debian-buster.gpg] http://deb.debian.org/debian buster main\n",
        "deb [arch=amd64 signed-by=/usr/share/keyrings/debian-buster-updates.gpg] http://deb.debian.org/debian buster-updates main\n",
        "deb [arch=amd64 signed-by=/usr/share/keyrings/debian-security-buster.gpg] http://deb.debian.org/debian-security buster/updates main\n",
        "EOF\n",
        "\n",
        "# Add keys\n",
        "apt-key adv --keyserver keyserver.ubuntu.com --recv-keys DCC9EFBF77E11517\n",
        "apt-key adv --keyserver keyserver.ubuntu.com --recv-keys 648ACFD622F3D138\n",
        "apt-key adv --keyserver keyserver.ubuntu.com --recv-keys 112695A0E562B32A\n",
        "\n",
        "apt-key export 77E11517 | gpg --dearmour -o /usr/share/keyrings/debian-buster.gpg\n",
        "apt-key export 22F3D138 | gpg --dearmour -o /usr/share/keyrings/debian-buster-updates.gpg\n",
        "apt-key export E562B32A | gpg --dearmour -o /usr/share/keyrings/debian-security-buster.gpg\n",
        "\n",
        "# Prefer debian repo for chromium* packages only\n",
        "# Note the double-blank lines between entries\n",
        "cat > /etc/apt/preferences.d/chromium.pref << 'EOF'\n",
        "Package: *\n",
        "Pin: release a=eoan\n",
        "Pin-Priority: 500\n",
        "\n",
        "\n",
        "Package: *\n",
        "Pin: origin \"deb.debian.org\"\n",
        "Pin-Priority: 300\n",
        "\n",
        "\n",
        "Package: chromium*\n",
        "Pin: origin \"deb.debian.org\"\n",
        "Pin-Priority: 700\n",
        "EOF\n",
        "\n",
        "# Install chromium and chromium-driver\n",
        "apt-get update\n",
        "apt-get install chromium chromium-driver\n",
        "\n",
        "\n",
        "# Install selenium\n",
        "pip install selenium"
      ],
      "metadata": {
        "colab": {
          "base_uri": "https://localhost:8080/"
        },
        "id": "et8xljZQYKEx",
        "outputId": "96765f16-1b9a-4d83-eec0-3ef561f6d8cb"
      },
      "id": "et8xljZQYKEx",
      "execution_count": 146,
      "outputs": [
        {
          "output_type": "stream",
          "name": "stdout",
          "text": [
            "Warning: apt-key is deprecated. Manage keyring files in trusted.gpg.d instead (see apt-key(8)).\n",
            "Executing: /tmp/apt-key-gpghome.ErCH7Xe2d9/gpg.1.sh --keyserver keyserver.ubuntu.com --recv-keys DCC9EFBF77E11517\n",
            "gpg: key DCC9EFBF77E11517: \"Debian Stable Release Key (10/buster) <debian-release@lists.debian.org>\" not changed\n",
            "gpg: Total number processed: 1\n",
            "gpg:              unchanged: 1\n",
            "Warning: apt-key is deprecated. Manage keyring files in trusted.gpg.d instead (see apt-key(8)).\n",
            "Executing: /tmp/apt-key-gpghome.HyEibeUREl/gpg.1.sh --keyserver keyserver.ubuntu.com --recv-keys 648ACFD622F3D138\n",
            "gpg: key DC30D7C23CBBABEE: \"Debian Archive Automatic Signing Key (10/buster) <ftpmaster@debian.org>\" not changed\n",
            "gpg: Total number processed: 1\n",
            "gpg:              unchanged: 1\n",
            "Warning: apt-key is deprecated. Manage keyring files in trusted.gpg.d instead (see apt-key(8)).\n",
            "Executing: /tmp/apt-key-gpghome.9OyReHv5qd/gpg.1.sh --keyserver keyserver.ubuntu.com --recv-keys 112695A0E562B32A\n",
            "gpg: key 4DFAB270CAA96DFA: \"Debian Security Archive Automatic Signing Key (10/buster) <ftpmaster@debian.org>\" not changed\n",
            "gpg: Total number processed: 1\n",
            "gpg:              unchanged: 1\n",
            "gpg: cannot open '/dev/tty': No such device or address\n",
            "Warning: apt-key is deprecated. Manage keyring files in trusted.gpg.d instead (see apt-key(8)).\n",
            "gpg: [stdout]: write error: Broken pipe\n",
            "gpg: filter_flush failed on close: Broken pipe\n",
            "gpg: cannot open '/dev/tty': No such device or address\n",
            "Warning: apt-key is deprecated. Manage keyring files in trusted.gpg.d instead (see apt-key(8)).\n",
            "gpg: [stdout]: write error: Broken pipe\n",
            "gpg: filter_flush failed on close: Broken pipe\n",
            "gpg: cannot open '/dev/tty': No such device or address\n",
            "Warning: apt-key is deprecated. Manage keyring files in trusted.gpg.d instead (see apt-key(8)).\n",
            "gpg: [stdout]: write error: Broken pipe\n",
            "gpg: filter_flush failed on close: Broken pipe\n",
            "Hit:1 http://deb.debian.org/debian buster InRelease\n",
            "Hit:2 http://deb.debian.org/debian buster-updates InRelease\n",
            "Hit:3 http://deb.debian.org/debian-security buster/updates InRelease\n",
            "Hit:4 https://cloud.r-project.org/bin/linux/ubuntu jammy-cran40/ InRelease\n",
            "Hit:5 https://developer.download.nvidia.com/compute/cuda/repos/ubuntu2204/x86_64  InRelease\n",
            "Get:6 http://security.ubuntu.com/ubuntu jammy-security InRelease [110 kB]\n",
            "Hit:7 http://archive.ubuntu.com/ubuntu jammy InRelease\n",
            "Get:8 http://archive.ubuntu.com/ubuntu jammy-updates InRelease [119 kB]\n",
            "Hit:9 https://ppa.launchpadcontent.net/c2d4u.team/c2d4u4.0+/ubuntu jammy InRelease\n",
            "Hit:10 https://ppa.launchpadcontent.net/deadsnakes/ppa/ubuntu jammy InRelease\n",
            "Get:11 http://security.ubuntu.com/ubuntu jammy-security/main amd64 Packages [1,604 kB]\n",
            "Hit:12 https://ppa.launchpadcontent.net/graphics-drivers/ppa/ubuntu jammy InRelease\n",
            "Hit:13 http://archive.ubuntu.com/ubuntu jammy-backports InRelease\n",
            "Hit:14 https://ppa.launchpadcontent.net/ubuntugis/ppa/ubuntu jammy InRelease\n",
            "Get:15 http://archive.ubuntu.com/ubuntu jammy-updates/restricted amd64 Packages [2,061 kB]\n",
            "Get:16 http://archive.ubuntu.com/ubuntu jammy-updates/main amd64 Packages [1,890 kB]\n",
            "Fetched 5,784 kB in 3s (1,866 kB/s)\n",
            "Reading package lists... Done\n",
            "Reading package lists... Done\n",
            "Building dependency tree... Done\n",
            "Reading state information... Done\n",
            "chromium is already the newest version (90.0.4430.212-1~deb10u1).\n",
            "chromium-driver is already the newest version (90.0.4430.212-1~deb10u1).\n",
            "0 upgraded, 0 newly installed, 0 to remove and 44 not upgraded.\n",
            "Requirement already satisfied: selenium in /usr/local/lib/python3.10/dist-packages (4.18.1)\n",
            "Requirement already satisfied: urllib3[socks]<3,>=1.26 in /usr/local/lib/python3.10/dist-packages (from selenium) (2.0.7)\n",
            "Requirement already satisfied: trio~=0.17 in /usr/local/lib/python3.10/dist-packages (from selenium) (0.25.0)\n",
            "Requirement already satisfied: trio-websocket~=0.9 in /usr/local/lib/python3.10/dist-packages (from selenium) (0.11.1)\n",
            "Requirement already satisfied: certifi>=2021.10.8 in /usr/local/lib/python3.10/dist-packages (from selenium) (2024.2.2)\n",
            "Requirement already satisfied: typing_extensions>=4.9.0 in /usr/local/lib/python3.10/dist-packages (from selenium) (4.10.0)\n",
            "Requirement already satisfied: attrs>=23.2.0 in /usr/local/lib/python3.10/dist-packages (from trio~=0.17->selenium) (23.2.0)\n",
            "Requirement already satisfied: sortedcontainers in /usr/local/lib/python3.10/dist-packages (from trio~=0.17->selenium) (2.4.0)\n",
            "Requirement already satisfied: idna in /usr/local/lib/python3.10/dist-packages (from trio~=0.17->selenium) (3.6)\n",
            "Requirement already satisfied: outcome in /usr/local/lib/python3.10/dist-packages (from trio~=0.17->selenium) (1.3.0.post0)\n",
            "Requirement already satisfied: sniffio>=1.3.0 in /usr/local/lib/python3.10/dist-packages (from trio~=0.17->selenium) (1.3.1)\n",
            "Requirement already satisfied: exceptiongroup in /usr/local/lib/python3.10/dist-packages (from trio~=0.17->selenium) (1.2.0)\n",
            "Requirement already satisfied: wsproto>=0.14 in /usr/local/lib/python3.10/dist-packages (from trio-websocket~=0.9->selenium) (1.2.0)\n",
            "Requirement already satisfied: pysocks!=1.5.7,<2.0,>=1.5.6 in /usr/local/lib/python3.10/dist-packages (from urllib3[socks]<3,>=1.26->selenium) (1.7.1)\n",
            "Requirement already satisfied: h11<1,>=0.9.0 in /usr/local/lib/python3.10/dist-packages (from wsproto>=0.14->trio-websocket~=0.9->selenium) (0.14.0)\n"
          ]
        },
        {
          "output_type": "execute_result",
          "data": {
            "text/plain": []
          },
          "metadata": {},
          "execution_count": 146
        }
      ]
    },
    {
      "cell_type": "code",
      "execution_count": 179,
      "id": "842fae9b",
      "metadata": {
        "id": "842fae9b"
      },
      "outputs": [],
      "source": [
        "import selenium\n",
        "from selenium import webdriver\n",
        "from selenium.webdriver.support.ui import WebDriverWait\n",
        "from selenium.webdriver.chrome.service import Service\n",
        "from selenium.webdriver.common.keys import Keys\n",
        "from selenium.webdriver.common.by import By"
      ]
    },
    {
      "cell_type": "code",
      "source": [
        "service = Service('/usr/bin/chromedriver')\n",
        "options = webdriver.ChromeOptions()\n",
        "options.add_argument('--headless')\n",
        "options.add_argument('--no-sandbox')\n",
        "options.add_argument('--disable-dev-shm-usage')\n",
        "options.add_argument('--kiosk')\n",
        "wd = webdriver.Chrome(service = service, options = options)"
      ],
      "metadata": {
        "id": "ytTkQkFyhwh4"
      },
      "id": "ytTkQkFyhwh4",
      "execution_count": 180,
      "outputs": []
    },
    {
      "cell_type": "code",
      "source": [
        "url = 'https://play.google.com/store/apps/details?id=com.banjihagames.farmstone&hl=ko-KR' #크롤링주소\n",
        "# 페이지 열기\n",
        "wd.get(url)\n",
        "# 페이지 로딩 대기\n",
        "wait = WebDriverWait(wd, 10)"
      ],
      "metadata": {
        "id": "V1yB9U6rlDny"
      },
      "id": "V1yB9U6rlDny",
      "execution_count": 181,
      "outputs": []
    },
    {
      "cell_type": "code",
      "source": [
        "wd.execute_script(\"window.scrollTo(0, document.body.scrollHeight);\")"
      ],
      "metadata": {
        "id": "zx3iLEEMG4jQ"
      },
      "id": "zx3iLEEMG4jQ",
      "execution_count": 182,
      "outputs": []
    },
    {
      "cell_type": "code",
      "source": [
        "wd.find_element(by = By.XPATH, value = '//*[@id=\"yDmH0d\"]/c-wiz[2]/div/div/div[1]/div/div[2]/div/div[1]/div[1]/c-wiz[5]/section/div/div[2]/div[5]/div/div/button/span').click()"
      ],
      "metadata": {
        "colab": {
          "base_uri": "https://localhost:8080/",
          "height": 896
        },
        "id": "cnB2Juq746S0",
        "outputId": "25d08ff7-4352-40be-c305-ce3ff0db6da4"
      },
      "id": "cnB2Juq746S0",
      "execution_count": 184,
      "outputs": [
        {
          "output_type": "error",
          "ename": "ElementClickInterceptedException",
          "evalue": "Message: element click intercepted: Element <span jsname=\"V67aGc\" class=\"VfPpkd-vQzf8d\">...</span> is not clickable at point (98, 10). Other element would receive the click: <a href=\"/store/games\" aria-label=\"Google Play 로고\" class=\"f0UV3d\">...</a>\n  (Session info: headless chrome=90.0.4430.212)\nStacktrace:\n#0 0x59b4e83037f9 <unknown>\n#1 0x59b4e82a33b3 <unknown>\n#2 0x59b4e7feb016 <unknown>\n#3 0x59b4e802517c <unknown>\n#4 0x59b4e8023654 <unknown>\n#5 0x59b4e802176c <unknown>\n#6 0x59b4e8020a20 <unknown>\n#7 0x59b4e8016fb9 <unknown>\n#8 0x59b4e8042dc2 <unknown>\n#9 0x59b4e8016d7b <unknown>\n#10 0x59b4e8042fce <unknown>\n#11 0x59b4e80539e1 <unknown>\n#12 0x59b4e8042c93 <unknown>\n#13 0x59b4e8014ce4 <unknown>\n#14 0x59b4e80164d2 <unknown>\n#15 0x59b4e82cf542 <unknown>\n#16 0x59b4e82dece7 <unknown>\n#17 0x59b4e82de9e4 <unknown>\n#18 0x59b4e82e313a <unknown>\n#19 0x59b4e82df5b9 <unknown>\n#20 0x59b4e82c4e00 <unknown>\n#21 0x59b4e82f65d2 <unknown>\n#22 0x59b4e82f6778 <unknown>\n#23 0x59b4e830ea1f <unknown>\n#24 0x7a331283fac3 <unknown>\n#25 0x7a33128d1850 <unknown>\n",
          "traceback": [
            "\u001b[0;31m---------------------------------------------------------------------------\u001b[0m",
            "\u001b[0;31mElementClickInterceptedException\u001b[0m          Traceback (most recent call last)",
            "\u001b[0;32m<ipython-input-184-3243e3b27618>\u001b[0m in \u001b[0;36m<cell line: 1>\u001b[0;34m()\u001b[0m\n\u001b[0;32m----> 1\u001b[0;31m \u001b[0mwd\u001b[0m\u001b[0;34m.\u001b[0m\u001b[0mfind_element\u001b[0m\u001b[0;34m(\u001b[0m\u001b[0mby\u001b[0m \u001b[0;34m=\u001b[0m \u001b[0mBy\u001b[0m\u001b[0;34m.\u001b[0m\u001b[0mXPATH\u001b[0m\u001b[0;34m,\u001b[0m \u001b[0mvalue\u001b[0m \u001b[0;34m=\u001b[0m \u001b[0;34m'//*[@id=\"yDmH0d\"]/c-wiz[2]/div/div/div[1]/div/div[2]/div/div[1]/div[1]/c-wiz[5]/section/div/div[2]/div[5]/div/div/button/span'\u001b[0m\u001b[0;34m)\u001b[0m\u001b[0;34m.\u001b[0m\u001b[0mclick\u001b[0m\u001b[0;34m(\u001b[0m\u001b[0;34m)\u001b[0m\u001b[0;34m\u001b[0m\u001b[0;34m\u001b[0m\u001b[0m\n\u001b[0m",
            "\u001b[0;32m/usr/local/lib/python3.10/dist-packages/selenium/webdriver/remote/webelement.py\u001b[0m in \u001b[0;36mclick\u001b[0;34m(self)\u001b[0m\n\u001b[1;32m     92\u001b[0m     \u001b[0;32mdef\u001b[0m \u001b[0mclick\u001b[0m\u001b[0;34m(\u001b[0m\u001b[0mself\u001b[0m\u001b[0;34m)\u001b[0m \u001b[0;34m->\u001b[0m \u001b[0;32mNone\u001b[0m\u001b[0;34m:\u001b[0m\u001b[0;34m\u001b[0m\u001b[0;34m\u001b[0m\u001b[0m\n\u001b[1;32m     93\u001b[0m         \u001b[0;34m\"\"\"Clicks the element.\"\"\"\u001b[0m\u001b[0;34m\u001b[0m\u001b[0;34m\u001b[0m\u001b[0m\n\u001b[0;32m---> 94\u001b[0;31m         \u001b[0mself\u001b[0m\u001b[0;34m.\u001b[0m\u001b[0m_execute\u001b[0m\u001b[0;34m(\u001b[0m\u001b[0mCommand\u001b[0m\u001b[0;34m.\u001b[0m\u001b[0mCLICK_ELEMENT\u001b[0m\u001b[0;34m)\u001b[0m\u001b[0;34m\u001b[0m\u001b[0;34m\u001b[0m\u001b[0m\n\u001b[0m\u001b[1;32m     95\u001b[0m \u001b[0;34m\u001b[0m\u001b[0m\n\u001b[1;32m     96\u001b[0m     \u001b[0;32mdef\u001b[0m \u001b[0msubmit\u001b[0m\u001b[0;34m(\u001b[0m\u001b[0mself\u001b[0m\u001b[0;34m)\u001b[0m\u001b[0;34m:\u001b[0m\u001b[0;34m\u001b[0m\u001b[0;34m\u001b[0m\u001b[0m\n",
            "\u001b[0;32m/usr/local/lib/python3.10/dist-packages/selenium/webdriver/remote/webelement.py\u001b[0m in \u001b[0;36m_execute\u001b[0;34m(self, command, params)\u001b[0m\n\u001b[1;32m    393\u001b[0m             \u001b[0mparams\u001b[0m \u001b[0;34m=\u001b[0m \u001b[0;34m{\u001b[0m\u001b[0;34m}\u001b[0m\u001b[0;34m\u001b[0m\u001b[0;34m\u001b[0m\u001b[0m\n\u001b[1;32m    394\u001b[0m         \u001b[0mparams\u001b[0m\u001b[0;34m[\u001b[0m\u001b[0;34m\"id\"\u001b[0m\u001b[0;34m]\u001b[0m \u001b[0;34m=\u001b[0m \u001b[0mself\u001b[0m\u001b[0;34m.\u001b[0m\u001b[0m_id\u001b[0m\u001b[0;34m\u001b[0m\u001b[0;34m\u001b[0m\u001b[0m\n\u001b[0;32m--> 395\u001b[0;31m         \u001b[0;32mreturn\u001b[0m \u001b[0mself\u001b[0m\u001b[0;34m.\u001b[0m\u001b[0m_parent\u001b[0m\u001b[0;34m.\u001b[0m\u001b[0mexecute\u001b[0m\u001b[0;34m(\u001b[0m\u001b[0mcommand\u001b[0m\u001b[0;34m,\u001b[0m \u001b[0mparams\u001b[0m\u001b[0;34m)\u001b[0m\u001b[0;34m\u001b[0m\u001b[0;34m\u001b[0m\u001b[0m\n\u001b[0m\u001b[1;32m    396\u001b[0m \u001b[0;34m\u001b[0m\u001b[0m\n\u001b[1;32m    397\u001b[0m     \u001b[0;32mdef\u001b[0m \u001b[0mfind_element\u001b[0m\u001b[0;34m(\u001b[0m\u001b[0mself\u001b[0m\u001b[0;34m,\u001b[0m \u001b[0mby\u001b[0m\u001b[0;34m=\u001b[0m\u001b[0mBy\u001b[0m\u001b[0;34m.\u001b[0m\u001b[0mID\u001b[0m\u001b[0;34m,\u001b[0m \u001b[0mvalue\u001b[0m\u001b[0;34m=\u001b[0m\u001b[0;32mNone\u001b[0m\u001b[0;34m)\u001b[0m \u001b[0;34m->\u001b[0m \u001b[0mWebElement\u001b[0m\u001b[0;34m:\u001b[0m\u001b[0;34m\u001b[0m\u001b[0;34m\u001b[0m\u001b[0m\n",
            "\u001b[0;32m/usr/local/lib/python3.10/dist-packages/selenium/webdriver/remote/webdriver.py\u001b[0m in \u001b[0;36mexecute\u001b[0;34m(self, driver_command, params)\u001b[0m\n\u001b[1;32m    345\u001b[0m         \u001b[0mresponse\u001b[0m \u001b[0;34m=\u001b[0m \u001b[0mself\u001b[0m\u001b[0;34m.\u001b[0m\u001b[0mcommand_executor\u001b[0m\u001b[0;34m.\u001b[0m\u001b[0mexecute\u001b[0m\u001b[0;34m(\u001b[0m\u001b[0mdriver_command\u001b[0m\u001b[0;34m,\u001b[0m \u001b[0mparams\u001b[0m\u001b[0;34m)\u001b[0m\u001b[0;34m\u001b[0m\u001b[0;34m\u001b[0m\u001b[0m\n\u001b[1;32m    346\u001b[0m         \u001b[0;32mif\u001b[0m \u001b[0mresponse\u001b[0m\u001b[0;34m:\u001b[0m\u001b[0;34m\u001b[0m\u001b[0;34m\u001b[0m\u001b[0m\n\u001b[0;32m--> 347\u001b[0;31m             \u001b[0mself\u001b[0m\u001b[0;34m.\u001b[0m\u001b[0merror_handler\u001b[0m\u001b[0;34m.\u001b[0m\u001b[0mcheck_response\u001b[0m\u001b[0;34m(\u001b[0m\u001b[0mresponse\u001b[0m\u001b[0;34m)\u001b[0m\u001b[0;34m\u001b[0m\u001b[0;34m\u001b[0m\u001b[0m\n\u001b[0m\u001b[1;32m    348\u001b[0m             \u001b[0mresponse\u001b[0m\u001b[0;34m[\u001b[0m\u001b[0;34m\"value\"\u001b[0m\u001b[0;34m]\u001b[0m \u001b[0;34m=\u001b[0m \u001b[0mself\u001b[0m\u001b[0;34m.\u001b[0m\u001b[0m_unwrap_value\u001b[0m\u001b[0;34m(\u001b[0m\u001b[0mresponse\u001b[0m\u001b[0;34m.\u001b[0m\u001b[0mget\u001b[0m\u001b[0;34m(\u001b[0m\u001b[0;34m\"value\"\u001b[0m\u001b[0;34m,\u001b[0m \u001b[0;32mNone\u001b[0m\u001b[0;34m)\u001b[0m\u001b[0;34m)\u001b[0m\u001b[0;34m\u001b[0m\u001b[0;34m\u001b[0m\u001b[0m\n\u001b[1;32m    349\u001b[0m             \u001b[0;32mreturn\u001b[0m \u001b[0mresponse\u001b[0m\u001b[0;34m\u001b[0m\u001b[0;34m\u001b[0m\u001b[0m\n",
            "\u001b[0;32m/usr/local/lib/python3.10/dist-packages/selenium/webdriver/remote/errorhandler.py\u001b[0m in \u001b[0;36mcheck_response\u001b[0;34m(self, response)\u001b[0m\n\u001b[1;32m    227\u001b[0m                 \u001b[0malert_text\u001b[0m \u001b[0;34m=\u001b[0m \u001b[0mvalue\u001b[0m\u001b[0;34m[\u001b[0m\u001b[0;34m\"alert\"\u001b[0m\u001b[0;34m]\u001b[0m\u001b[0;34m.\u001b[0m\u001b[0mget\u001b[0m\u001b[0;34m(\u001b[0m\u001b[0;34m\"text\"\u001b[0m\u001b[0;34m)\u001b[0m\u001b[0;34m\u001b[0m\u001b[0;34m\u001b[0m\u001b[0m\n\u001b[1;32m    228\u001b[0m             \u001b[0;32mraise\u001b[0m \u001b[0mexception_class\u001b[0m\u001b[0;34m(\u001b[0m\u001b[0mmessage\u001b[0m\u001b[0;34m,\u001b[0m \u001b[0mscreen\u001b[0m\u001b[0;34m,\u001b[0m \u001b[0mstacktrace\u001b[0m\u001b[0;34m,\u001b[0m \u001b[0malert_text\u001b[0m\u001b[0;34m)\u001b[0m  \u001b[0;31m# type: ignore[call-arg]  # mypy is not smart enough here\u001b[0m\u001b[0;34m\u001b[0m\u001b[0;34m\u001b[0m\u001b[0m\n\u001b[0;32m--> 229\u001b[0;31m         \u001b[0;32mraise\u001b[0m \u001b[0mexception_class\u001b[0m\u001b[0;34m(\u001b[0m\u001b[0mmessage\u001b[0m\u001b[0;34m,\u001b[0m \u001b[0mscreen\u001b[0m\u001b[0;34m,\u001b[0m \u001b[0mstacktrace\u001b[0m\u001b[0;34m)\u001b[0m\u001b[0;34m\u001b[0m\u001b[0;34m\u001b[0m\u001b[0m\n\u001b[0m",
            "\u001b[0;31mElementClickInterceptedException\u001b[0m: Message: element click intercepted: Element <span jsname=\"V67aGc\" class=\"VfPpkd-vQzf8d\">...</span> is not clickable at point (98, 10). Other element would receive the click: <a href=\"/store/games\" aria-label=\"Google Play 로고\" class=\"f0UV3d\">...</a>\n  (Session info: headless chrome=90.0.4430.212)\nStacktrace:\n#0 0x59b4e83037f9 <unknown>\n#1 0x59b4e82a33b3 <unknown>\n#2 0x59b4e7feb016 <unknown>\n#3 0x59b4e802517c <unknown>\n#4 0x59b4e8023654 <unknown>\n#5 0x59b4e802176c <unknown>\n#6 0x59b4e8020a20 <unknown>\n#7 0x59b4e8016fb9 <unknown>\n#8 0x59b4e8042dc2 <unknown>\n#9 0x59b4e8016d7b <unknown>\n#10 0x59b4e8042fce <unknown>\n#11 0x59b4e80539e1 <unknown>\n#12 0x59b4e8042c93 <unknown>\n#13 0x59b4e8014ce4 <unknown>\n#14 0x59b4e80164d2 <unknown>\n#15 0x59b4e82cf542 <unknown>\n#16 0x59b4e82dece7 <unknown>\n#17 0x59b4e82de9e4 <unknown>\n#18 0x59b4e82e313a <unknown>\n#19 0x59b4e82df5b9 <unknown>\n#20 0x59b4e82c4e00 <unknown>\n#21 0x59b4e82f65d2 <unknown>\n#22 0x59b4e82f6778 <unknown>\n#23 0x59b4e830ea1f <unknown>\n#24 0x7a331283fac3 <unknown>\n#25 0x7a33128d1850 <unknown>\n"
          ]
        }
      ]
    },
    {
      "cell_type": "code",
      "source": [
        "reviews = wd.find_elements(by = By.XPATH, value = '//div[@class = \"h3YV2d\"]')\n",
        "for review in reviews:\n",
        "  print(review.text)"
      ],
      "metadata": {
        "colab": {
          "base_uri": "https://localhost:8080/"
        },
        "id": "SgQ3V-i6a2Ba",
        "outputId": "dd8974bc-d857-4c45-f62b-5cd2e028f673"
      },
      "id": "SgQ3V-i6a2Ba",
      "execution_count": 168,
      "outputs": [
        {
          "output_type": "stream",
          "name": "stdout",
          "text": [
            "1. 늑대인간 시나리오에서 조카가 죽는 기준을 모르겠습니다. 2. 시나리오나 일반 게임에서 카드가 제거될 때 어떤 카드가 제거된건지 제대로 보여주지 않습니다 3. 카드가 제거될 때 화면을 가려 식량의 변화가 안 보입니다. 4. 활 한번 쏘면 덱의 모든 사냥매가 나오는데 한 마리만 나오게 해주세요. 5. 카드의 등급을 알기 쉽게 해주세요. 6.1일차에 튕겨서 다시 접속하면 게임이 시작해도 카드를 주지 않습니다.\n",
            "본 적없는 구조로 게임을 만들어서 참신했음. 다만 빵을 모으는데 여러 덱을 사용 가능하게 만들어놨으면서 처음 보는 카드 효과에 대한 설명이 많이 부족함. 카드 모으는 거야 뭐...광고보면서 조금씩 모으면 되는데 위에 적은 것처럼 카드 효과 설명이 없어서 이 카드를 모으는게 맞나 싶어서 카드 덱짜기가 그냥 싫어짐. 처음에만 열심히 하다가 카드 모아서 덱짜야하는 시점에 흥미가 팍 식어버림.\n",
            "카드가 부족하던 뉴비 시절, 불만을 토로하며 열심히(?) 게임하다 보니 어느새 고인물이 되어 랭킹에 이름을 올리게 되었습니다. 진짜 미친 궁극의 덱을 개발했다 생각했는데 카드 수량을 견딜 수 없어 게임이 자꾸 꺼지는 현상, 보유 수량 오류 경고 메시지와 싸우게 되었고요...😂 이젠 업적을 열심히 깨고 있는데 이 마저도 (유물이 필요한 것 빼고) 거의 남지 않았어요. 고인물이 되니 이제는 컨텐츠가 부족해서 아쉬워요🤔 업적을 아예 컨텐츠화 해서 이런 저런 덱/조건으로 깨기 같은 것도 재밌지 않을까 싶어요. 점수만 올리는 랭킹과 또 다른 재미가 또 있더라고요🥰 그리고 굿즈샵에 띠부띠부씰 언제 재입고 되나요?? 너무 귀여워서 사고 싶은데!!! 인 게임에서는 진짜 딱 한 번 스타터팩인가? 산 이후로 과금 없이 플레이 하는 중인데 굿즈 과금하고 싶어요ㅠㅠㅠ 나에게 실물을 달라!\n"
          ]
        }
      ]
    },
    {
      "cell_type": "markdown",
      "source": [
        "클릭이 안됨,,,,"
      ],
      "metadata": {
        "id": "d9XfEWUsCINu"
      },
      "id": "d9XfEWUsCINu"
    },
    {
      "cell_type": "code",
      "source": [
        "def scroll_down(driver):\n",
        "    driver.execute_script(\"window.scrollTo(0, 999999999999)\")\n",
        "    time.sleep(1)"
      ],
      "metadata": {
        "id": "s1gCOHN35rLM"
      },
      "id": "s1gCOHN35rLM",
      "execution_count": 169,
      "outputs": []
    },
    {
      "cell_type": "code",
      "source": [
        "reviews = wd.find_elements(by = By.XPATH, value = '//div[@class = \"h3YV2d\"]')\n",
        "for review in reviews:\n",
        "  print(review.text)"
      ],
      "metadata": {
        "colab": {
          "base_uri": "https://localhost:8080/"
        },
        "id": "Afzknws55sZG",
        "outputId": "660b0ca7-035e-4d20-a6bd-a8556073478d"
      },
      "id": "Afzknws55sZG",
      "execution_count": 170,
      "outputs": [
        {
          "output_type": "stream",
          "name": "stdout",
          "text": [
            "1. 늑대인간 시나리오에서 조카가 죽는 기준을 모르겠습니다. 2. 시나리오나 일반 게임에서 카드가 제거될 때 어떤 카드가 제거된건지 제대로 보여주지 않습니다 3. 카드가 제거될 때 화면을 가려 식량의 변화가 안 보입니다. 4. 활 한번 쏘면 덱의 모든 사냥매가 나오는데 한 마리만 나오게 해주세요. 5. 카드의 등급을 알기 쉽게 해주세요. 6.1일차에 튕겨서 다시 접속하면 게임이 시작해도 카드를 주지 않습니다.\n",
            "본 적없는 구조로 게임을 만들어서 참신했음. 다만 빵을 모으는데 여러 덱을 사용 가능하게 만들어놨으면서 처음 보는 카드 효과에 대한 설명이 많이 부족함. 카드 모으는 거야 뭐...광고보면서 조금씩 모으면 되는데 위에 적은 것처럼 카드 효과 설명이 없어서 이 카드를 모으는게 맞나 싶어서 카드 덱짜기가 그냥 싫어짐. 처음에만 열심히 하다가 카드 모아서 덱짜야하는 시점에 흥미가 팍 식어버림.\n",
            "카드가 부족하던 뉴비 시절, 불만을 토로하며 열심히(?) 게임하다 보니 어느새 고인물이 되어 랭킹에 이름을 올리게 되었습니다. 진짜 미친 궁극의 덱을 개발했다 생각했는데 카드 수량을 견딜 수 없어 게임이 자꾸 꺼지는 현상, 보유 수량 오류 경고 메시지와 싸우게 되었고요...😂 이젠 업적을 열심히 깨고 있는데 이 마저도 (유물이 필요한 것 빼고) 거의 남지 않았어요. 고인물이 되니 이제는 컨텐츠가 부족해서 아쉬워요🤔 업적을 아예 컨텐츠화 해서 이런 저런 덱/조건으로 깨기 같은 것도 재밌지 않을까 싶어요. 점수만 올리는 랭킹과 또 다른 재미가 또 있더라고요🥰 그리고 굿즈샵에 띠부띠부씰 언제 재입고 되나요?? 너무 귀여워서 사고 싶은데!!! 인 게임에서는 진짜 딱 한 번 스타터팩인가? 산 이후로 과금 없이 플레이 하는 중인데 굿즈 과금하고 싶어요ㅠㅠㅠ 나에게 실물을 달라!\n"
          ]
        }
      ]
    },
    {
      "cell_type": "markdown",
      "id": "a314fa97",
      "metadata": {
        "id": "a314fa97"
      },
      "source": [
        "2.2 크롤링한 데이터를 dataframe 형태로 변환하시오(날짜, 별점, 리뷰 유저 등)."
      ]
    },
    {
      "cell_type": "code",
      "execution_count": 111,
      "id": "918da00f",
      "metadata": {
        "id": "918da00f",
        "colab": {
          "base_uri": "https://localhost:8080/",
          "height": 213
        },
        "outputId": "61253486-879c-42f9-b1a3-39bc0a27ab17"
      },
      "outputs": [
        {
          "output_type": "stream",
          "name": "stdout",
          "text": [
            "리뷰 수집 완료\n"
          ]
        },
        {
          "output_type": "execute_result",
          "data": {
            "text/plain": [
              "             날짜                                                 리뷰  \\\n",
              "0  2024년 3월 14일  1. 늑대인간 시나리오에서 조카가 죽는 기준을 모르겠습니다. 2. 시나리오나 일반 ...   \n",
              "1  2024년 2월 19일  본 적없는 구조로 게임을 만들어서 참신했음. 다만 빵을 모으는데 여러 덱을 사용 가...   \n",
              "2  2024년 2월 16일  카드가 부족하던 뉴비 시절, 불만을 토로하며 열심히(?) 게임하다 보니 어느새 고인...   \n",
              "\n",
              "                     별점  \n",
              "0  별표 5개 만점에 3개를 받았습니다.  \n",
              "1  별표 5개 만점에 3개를 받았습니다.  \n",
              "2  별표 5개 만점에 5개를 받았습니다.  "
            ],
            "text/html": [
              "\n",
              "  <div id=\"df-b6226ac7-dcde-4190-8aec-fcadab42e321\" class=\"colab-df-container\">\n",
              "    <div>\n",
              "<style scoped>\n",
              "    .dataframe tbody tr th:only-of-type {\n",
              "        vertical-align: middle;\n",
              "    }\n",
              "\n",
              "    .dataframe tbody tr th {\n",
              "        vertical-align: top;\n",
              "    }\n",
              "\n",
              "    .dataframe thead th {\n",
              "        text-align: right;\n",
              "    }\n",
              "</style>\n",
              "<table border=\"1\" class=\"dataframe\">\n",
              "  <thead>\n",
              "    <tr style=\"text-align: right;\">\n",
              "      <th></th>\n",
              "      <th>날짜</th>\n",
              "      <th>리뷰</th>\n",
              "      <th>별점</th>\n",
              "    </tr>\n",
              "  </thead>\n",
              "  <tbody>\n",
              "    <tr>\n",
              "      <th>0</th>\n",
              "      <td>2024년 3월 14일</td>\n",
              "      <td>1. 늑대인간 시나리오에서 조카가 죽는 기준을 모르겠습니다. 2. 시나리오나 일반 ...</td>\n",
              "      <td>별표 5개 만점에 3개를 받았습니다.</td>\n",
              "    </tr>\n",
              "    <tr>\n",
              "      <th>1</th>\n",
              "      <td>2024년 2월 19일</td>\n",
              "      <td>본 적없는 구조로 게임을 만들어서 참신했음. 다만 빵을 모으는데 여러 덱을 사용 가...</td>\n",
              "      <td>별표 5개 만점에 3개를 받았습니다.</td>\n",
              "    </tr>\n",
              "    <tr>\n",
              "      <th>2</th>\n",
              "      <td>2024년 2월 16일</td>\n",
              "      <td>카드가 부족하던 뉴비 시절, 불만을 토로하며 열심히(?) 게임하다 보니 어느새 고인...</td>\n",
              "      <td>별표 5개 만점에 5개를 받았습니다.</td>\n",
              "    </tr>\n",
              "  </tbody>\n",
              "</table>\n",
              "</div>\n",
              "    <div class=\"colab-df-buttons\">\n",
              "\n",
              "  <div class=\"colab-df-container\">\n",
              "    <button class=\"colab-df-convert\" onclick=\"convertToInteractive('df-b6226ac7-dcde-4190-8aec-fcadab42e321')\"\n",
              "            title=\"Convert this dataframe to an interactive table.\"\n",
              "            style=\"display:none;\">\n",
              "\n",
              "  <svg xmlns=\"http://www.w3.org/2000/svg\" height=\"24px\" viewBox=\"0 -960 960 960\">\n",
              "    <path d=\"M120-120v-720h720v720H120Zm60-500h600v-160H180v160Zm220 220h160v-160H400v160Zm0 220h160v-160H400v160ZM180-400h160v-160H180v160Zm440 0h160v-160H620v160ZM180-180h160v-160H180v160Zm440 0h160v-160H620v160Z\"/>\n",
              "  </svg>\n",
              "    </button>\n",
              "\n",
              "  <style>\n",
              "    .colab-df-container {\n",
              "      display:flex;\n",
              "      gap: 12px;\n",
              "    }\n",
              "\n",
              "    .colab-df-convert {\n",
              "      background-color: #E8F0FE;\n",
              "      border: none;\n",
              "      border-radius: 50%;\n",
              "      cursor: pointer;\n",
              "      display: none;\n",
              "      fill: #1967D2;\n",
              "      height: 32px;\n",
              "      padding: 0 0 0 0;\n",
              "      width: 32px;\n",
              "    }\n",
              "\n",
              "    .colab-df-convert:hover {\n",
              "      background-color: #E2EBFA;\n",
              "      box-shadow: 0px 1px 2px rgba(60, 64, 67, 0.3), 0px 1px 3px 1px rgba(60, 64, 67, 0.15);\n",
              "      fill: #174EA6;\n",
              "    }\n",
              "\n",
              "    .colab-df-buttons div {\n",
              "      margin-bottom: 4px;\n",
              "    }\n",
              "\n",
              "    [theme=dark] .colab-df-convert {\n",
              "      background-color: #3B4455;\n",
              "      fill: #D2E3FC;\n",
              "    }\n",
              "\n",
              "    [theme=dark] .colab-df-convert:hover {\n",
              "      background-color: #434B5C;\n",
              "      box-shadow: 0px 1px 3px 1px rgba(0, 0, 0, 0.15);\n",
              "      filter: drop-shadow(0px 1px 2px rgba(0, 0, 0, 0.3));\n",
              "      fill: #FFFFFF;\n",
              "    }\n",
              "  </style>\n",
              "\n",
              "    <script>\n",
              "      const buttonEl =\n",
              "        document.querySelector('#df-b6226ac7-dcde-4190-8aec-fcadab42e321 button.colab-df-convert');\n",
              "      buttonEl.style.display =\n",
              "        google.colab.kernel.accessAllowed ? 'block' : 'none';\n",
              "\n",
              "      async function convertToInteractive(key) {\n",
              "        const element = document.querySelector('#df-b6226ac7-dcde-4190-8aec-fcadab42e321');\n",
              "        const dataTable =\n",
              "          await google.colab.kernel.invokeFunction('convertToInteractive',\n",
              "                                                    [key], {});\n",
              "        if (!dataTable) return;\n",
              "\n",
              "        const docLinkHtml = 'Like what you see? Visit the ' +\n",
              "          '<a target=\"_blank\" href=https://colab.research.google.com/notebooks/data_table.ipynb>data table notebook</a>'\n",
              "          + ' to learn more about interactive tables.';\n",
              "        element.innerHTML = '';\n",
              "        dataTable['output_type'] = 'display_data';\n",
              "        await google.colab.output.renderOutput(dataTable, element);\n",
              "        const docLink = document.createElement('div');\n",
              "        docLink.innerHTML = docLinkHtml;\n",
              "        element.appendChild(docLink);\n",
              "      }\n",
              "    </script>\n",
              "  </div>\n",
              "\n",
              "\n",
              "<div id=\"df-ef33c695-6c52-4f74-b4a8-27939a7aeb70\">\n",
              "  <button class=\"colab-df-quickchart\" onclick=\"quickchart('df-ef33c695-6c52-4f74-b4a8-27939a7aeb70')\"\n",
              "            title=\"Suggest charts\"\n",
              "            style=\"display:none;\">\n",
              "\n",
              "<svg xmlns=\"http://www.w3.org/2000/svg\" height=\"24px\"viewBox=\"0 0 24 24\"\n",
              "     width=\"24px\">\n",
              "    <g>\n",
              "        <path d=\"M19 3H5c-1.1 0-2 .9-2 2v14c0 1.1.9 2 2 2h14c1.1 0 2-.9 2-2V5c0-1.1-.9-2-2-2zM9 17H7v-7h2v7zm4 0h-2V7h2v10zm4 0h-2v-4h2v4z\"/>\n",
              "    </g>\n",
              "</svg>\n",
              "  </button>\n",
              "\n",
              "<style>\n",
              "  .colab-df-quickchart {\n",
              "      --bg-color: #E8F0FE;\n",
              "      --fill-color: #1967D2;\n",
              "      --hover-bg-color: #E2EBFA;\n",
              "      --hover-fill-color: #174EA6;\n",
              "      --disabled-fill-color: #AAA;\n",
              "      --disabled-bg-color: #DDD;\n",
              "  }\n",
              "\n",
              "  [theme=dark] .colab-df-quickchart {\n",
              "      --bg-color: #3B4455;\n",
              "      --fill-color: #D2E3FC;\n",
              "      --hover-bg-color: #434B5C;\n",
              "      --hover-fill-color: #FFFFFF;\n",
              "      --disabled-bg-color: #3B4455;\n",
              "      --disabled-fill-color: #666;\n",
              "  }\n",
              "\n",
              "  .colab-df-quickchart {\n",
              "    background-color: var(--bg-color);\n",
              "    border: none;\n",
              "    border-radius: 50%;\n",
              "    cursor: pointer;\n",
              "    display: none;\n",
              "    fill: var(--fill-color);\n",
              "    height: 32px;\n",
              "    padding: 0;\n",
              "    width: 32px;\n",
              "  }\n",
              "\n",
              "  .colab-df-quickchart:hover {\n",
              "    background-color: var(--hover-bg-color);\n",
              "    box-shadow: 0 1px 2px rgba(60, 64, 67, 0.3), 0 1px 3px 1px rgba(60, 64, 67, 0.15);\n",
              "    fill: var(--button-hover-fill-color);\n",
              "  }\n",
              "\n",
              "  .colab-df-quickchart-complete:disabled,\n",
              "  .colab-df-quickchart-complete:disabled:hover {\n",
              "    background-color: var(--disabled-bg-color);\n",
              "    fill: var(--disabled-fill-color);\n",
              "    box-shadow: none;\n",
              "  }\n",
              "\n",
              "  .colab-df-spinner {\n",
              "    border: 2px solid var(--fill-color);\n",
              "    border-color: transparent;\n",
              "    border-bottom-color: var(--fill-color);\n",
              "    animation:\n",
              "      spin 1s steps(1) infinite;\n",
              "  }\n",
              "\n",
              "  @keyframes spin {\n",
              "    0% {\n",
              "      border-color: transparent;\n",
              "      border-bottom-color: var(--fill-color);\n",
              "      border-left-color: var(--fill-color);\n",
              "    }\n",
              "    20% {\n",
              "      border-color: transparent;\n",
              "      border-left-color: var(--fill-color);\n",
              "      border-top-color: var(--fill-color);\n",
              "    }\n",
              "    30% {\n",
              "      border-color: transparent;\n",
              "      border-left-color: var(--fill-color);\n",
              "      border-top-color: var(--fill-color);\n",
              "      border-right-color: var(--fill-color);\n",
              "    }\n",
              "    40% {\n",
              "      border-color: transparent;\n",
              "      border-right-color: var(--fill-color);\n",
              "      border-top-color: var(--fill-color);\n",
              "    }\n",
              "    60% {\n",
              "      border-color: transparent;\n",
              "      border-right-color: var(--fill-color);\n",
              "    }\n",
              "    80% {\n",
              "      border-color: transparent;\n",
              "      border-right-color: var(--fill-color);\n",
              "      border-bottom-color: var(--fill-color);\n",
              "    }\n",
              "    90% {\n",
              "      border-color: transparent;\n",
              "      border-bottom-color: var(--fill-color);\n",
              "    }\n",
              "  }\n",
              "</style>\n",
              "\n",
              "  <script>\n",
              "    async function quickchart(key) {\n",
              "      const quickchartButtonEl =\n",
              "        document.querySelector('#' + key + ' button');\n",
              "      quickchartButtonEl.disabled = true;  // To prevent multiple clicks.\n",
              "      quickchartButtonEl.classList.add('colab-df-spinner');\n",
              "      try {\n",
              "        const charts = await google.colab.kernel.invokeFunction(\n",
              "            'suggestCharts', [key], {});\n",
              "      } catch (error) {\n",
              "        console.error('Error during call to suggestCharts:', error);\n",
              "      }\n",
              "      quickchartButtonEl.classList.remove('colab-df-spinner');\n",
              "      quickchartButtonEl.classList.add('colab-df-quickchart-complete');\n",
              "    }\n",
              "    (() => {\n",
              "      let quickchartButtonEl =\n",
              "        document.querySelector('#df-ef33c695-6c52-4f74-b4a8-27939a7aeb70 button');\n",
              "      quickchartButtonEl.style.display =\n",
              "        google.colab.kernel.accessAllowed ? 'block' : 'none';\n",
              "    })();\n",
              "  </script>\n",
              "</div>\n",
              "\n",
              "  <div id=\"id_c3572183-addf-4832-bb71-4ad792ea828e\">\n",
              "    <style>\n",
              "      .colab-df-generate {\n",
              "        background-color: #E8F0FE;\n",
              "        border: none;\n",
              "        border-radius: 50%;\n",
              "        cursor: pointer;\n",
              "        display: none;\n",
              "        fill: #1967D2;\n",
              "        height: 32px;\n",
              "        padding: 0 0 0 0;\n",
              "        width: 32px;\n",
              "      }\n",
              "\n",
              "      .colab-df-generate:hover {\n",
              "        background-color: #E2EBFA;\n",
              "        box-shadow: 0px 1px 2px rgba(60, 64, 67, 0.3), 0px 1px 3px 1px rgba(60, 64, 67, 0.15);\n",
              "        fill: #174EA6;\n",
              "      }\n",
              "\n",
              "      [theme=dark] .colab-df-generate {\n",
              "        background-color: #3B4455;\n",
              "        fill: #D2E3FC;\n",
              "      }\n",
              "\n",
              "      [theme=dark] .colab-df-generate:hover {\n",
              "        background-color: #434B5C;\n",
              "        box-shadow: 0px 1px 3px 1px rgba(0, 0, 0, 0.15);\n",
              "        filter: drop-shadow(0px 1px 2px rgba(0, 0, 0, 0.3));\n",
              "        fill: #FFFFFF;\n",
              "      }\n",
              "    </style>\n",
              "    <button class=\"colab-df-generate\" onclick=\"generateWithVariable('data')\"\n",
              "            title=\"Generate code using this dataframe.\"\n",
              "            style=\"display:none;\">\n",
              "\n",
              "  <svg xmlns=\"http://www.w3.org/2000/svg\" height=\"24px\"viewBox=\"0 0 24 24\"\n",
              "       width=\"24px\">\n",
              "    <path d=\"M7,19H8.4L18.45,9,17,7.55,7,17.6ZM5,21V16.75L18.45,3.32a2,2,0,0,1,2.83,0l1.4,1.43a1.91,1.91,0,0,1,.58,1.4,1.91,1.91,0,0,1-.58,1.4L9.25,21ZM18.45,9,17,7.55Zm-12,3A5.31,5.31,0,0,0,4.9,8.1,5.31,5.31,0,0,0,1,6.5,5.31,5.31,0,0,0,4.9,4.9,5.31,5.31,0,0,0,6.5,1,5.31,5.31,0,0,0,8.1,4.9,5.31,5.31,0,0,0,12,6.5,5.46,5.46,0,0,0,6.5,12Z\"/>\n",
              "  </svg>\n",
              "    </button>\n",
              "    <script>\n",
              "      (() => {\n",
              "      const buttonEl =\n",
              "        document.querySelector('#id_c3572183-addf-4832-bb71-4ad792ea828e button.colab-df-generate');\n",
              "      buttonEl.style.display =\n",
              "        google.colab.kernel.accessAllowed ? 'block' : 'none';\n",
              "\n",
              "      buttonEl.onclick = () => {\n",
              "        google.colab.notebook.generateWithVariable('data');\n",
              "      }\n",
              "      })();\n",
              "    </script>\n",
              "  </div>\n",
              "\n",
              "    </div>\n",
              "  </div>\n"
            ],
            "application/vnd.google.colaboratory.intrinsic+json": {
              "type": "dataframe",
              "variable_name": "data",
              "summary": "{\n  \"name\": \"data\",\n  \"rows\": 3,\n  \"fields\": [\n    {\n      \"column\": \"\\ub0a0\\uc9dc\",\n      \"properties\": {\n        \"dtype\": \"string\",\n        \"num_unique_values\": 3,\n        \"samples\": [\n          \"2024\\ub144 3\\uc6d4 14\\uc77c\",\n          \"2024\\ub144 2\\uc6d4 19\\uc77c\",\n          \"2024\\ub144 2\\uc6d4 16\\uc77c\"\n        ],\n        \"semantic_type\": \"\",\n        \"description\": \"\"\n      }\n    },\n    {\n      \"column\": \"\\ub9ac\\ubdf0\",\n      \"properties\": {\n        \"dtype\": \"string\",\n        \"num_unique_values\": 3,\n        \"samples\": [\n          \"1. \\ub291\\ub300\\uc778\\uac04 \\uc2dc\\ub098\\ub9ac\\uc624\\uc5d0\\uc11c \\uc870\\uce74\\uac00 \\uc8fd\\ub294 \\uae30\\uc900\\uc744 \\ubaa8\\ub974\\uaca0\\uc2b5\\ub2c8\\ub2e4. 2. \\uc2dc\\ub098\\ub9ac\\uc624\\ub098 \\uc77c\\ubc18 \\uac8c\\uc784\\uc5d0\\uc11c \\uce74\\ub4dc\\uac00 \\uc81c\\uac70\\ub420 \\ub54c \\uc5b4\\ub5a4 \\uce74\\ub4dc\\uac00 \\uc81c\\uac70\\ub41c\\uac74\\uc9c0 \\uc81c\\ub300\\ub85c \\ubcf4\\uc5ec\\uc8fc\\uc9c0 \\uc54a\\uc2b5\\ub2c8\\ub2e4 3. \\uce74\\ub4dc\\uac00 \\uc81c\\uac70\\ub420 \\ub54c \\ud654\\uba74\\uc744 \\uac00\\ub824 \\uc2dd\\ub7c9\\uc758 \\ubcc0\\ud654\\uac00 \\uc548 \\ubcf4\\uc785\\ub2c8\\ub2e4. 4. \\ud65c \\ud55c\\ubc88 \\uc3d8\\uba74 \\ub371\\uc758 \\ubaa8\\ub4e0 \\uc0ac\\ub0e5\\ub9e4\\uac00 \\ub098\\uc624\\ub294\\ub370 \\ud55c \\ub9c8\\ub9ac\\ub9cc \\ub098\\uc624\\uac8c \\ud574\\uc8fc\\uc138\\uc694. 5. \\uce74\\ub4dc\\uc758 \\ub4f1\\uae09\\uc744 \\uc54c\\uae30 \\uc27d\\uac8c \\ud574\\uc8fc\\uc138\\uc694. 6.1\\uc77c\\ucc28\\uc5d0 \\ud295\\uaca8\\uc11c \\ub2e4\\uc2dc \\uc811\\uc18d\\ud558\\uba74 \\uac8c\\uc784\\uc774 \\uc2dc\\uc791\\ud574\\ub3c4 \\uce74\\ub4dc\\ub97c \\uc8fc\\uc9c0 \\uc54a\\uc2b5\\ub2c8\\ub2e4.\",\n          \"\\ubcf8 \\uc801\\uc5c6\\ub294 \\uad6c\\uc870\\ub85c \\uac8c\\uc784\\uc744 \\ub9cc\\ub4e4\\uc5b4\\uc11c \\ucc38\\uc2e0\\ud588\\uc74c. \\ub2e4\\ub9cc \\ube75\\uc744 \\ubaa8\\uc73c\\ub294\\ub370 \\uc5ec\\ub7ec \\ub371\\uc744 \\uc0ac\\uc6a9 \\uac00\\ub2a5\\ud558\\uac8c \\ub9cc\\ub4e4\\uc5b4\\ub1a8\\uc73c\\uba74\\uc11c \\ucc98\\uc74c \\ubcf4\\ub294 \\uce74\\ub4dc \\ud6a8\\uacfc\\uc5d0 \\ub300\\ud55c \\uc124\\uba85\\uc774 \\ub9ce\\uc774 \\ubd80\\uc871\\ud568. \\uce74\\ub4dc \\ubaa8\\uc73c\\ub294 \\uac70\\uc57c \\ubb50...\\uad11\\uace0\\ubcf4\\uba74\\uc11c \\uc870\\uae08\\uc529 \\ubaa8\\uc73c\\uba74 \\ub418\\ub294\\ub370 \\uc704\\uc5d0 \\uc801\\uc740 \\uac83\\ucc98\\ub7fc \\uce74\\ub4dc \\ud6a8\\uacfc \\uc124\\uba85\\uc774 \\uc5c6\\uc5b4\\uc11c \\uc774 \\uce74\\ub4dc\\ub97c \\ubaa8\\uc73c\\ub294\\uac8c \\ub9de\\ub098 \\uc2f6\\uc5b4\\uc11c \\uce74\\ub4dc \\ub371\\uc9dc\\uae30\\uac00 \\uadf8\\ub0e5 \\uc2eb\\uc5b4\\uc9d0. \\ucc98\\uc74c\\uc5d0\\ub9cc \\uc5f4\\uc2ec\\ud788 \\ud558\\ub2e4\\uac00 \\uce74\\ub4dc \\ubaa8\\uc544\\uc11c \\ub371\\uc9dc\\uc57c\\ud558\\ub294 \\uc2dc\\uc810\\uc5d0 \\ud765\\ubbf8\\uac00 \\ud30d \\uc2dd\\uc5b4\\ubc84\\ub9bc.\",\n          \"\\uce74\\ub4dc\\uac00 \\ubd80\\uc871\\ud558\\ub358 \\ub274\\ube44 \\uc2dc\\uc808, \\ubd88\\ub9cc\\uc744 \\ud1a0\\ub85c\\ud558\\uba70 \\uc5f4\\uc2ec\\ud788(?) \\uac8c\\uc784\\ud558\\ub2e4 \\ubcf4\\ub2c8 \\uc5b4\\ub290\\uc0c8 \\uace0\\uc778\\ubb3c\\uc774 \\ub418\\uc5b4 \\ub7ad\\ud0b9\\uc5d0 \\uc774\\ub984\\uc744 \\uc62c\\ub9ac\\uac8c \\ub418\\uc5c8\\uc2b5\\ub2c8\\ub2e4. \\uc9c4\\uc9dc \\ubbf8\\uce5c \\uad81\\uadf9\\uc758 \\ub371\\uc744 \\uac1c\\ubc1c\\ud588\\ub2e4 \\uc0dd\\uac01\\ud588\\ub294\\ub370 \\uce74\\ub4dc \\uc218\\ub7c9\\uc744 \\uacac\\ub51c \\uc218 \\uc5c6\\uc5b4 \\uac8c\\uc784\\uc774 \\uc790\\uafb8 \\uaebc\\uc9c0\\ub294 \\ud604\\uc0c1, \\ubcf4\\uc720 \\uc218\\ub7c9 \\uc624\\ub958 \\uacbd\\uace0 \\uba54\\uc2dc\\uc9c0\\uc640 \\uc2f8\\uc6b0\\uac8c \\ub418\\uc5c8\\uace0\\uc694...\\ud83d\\ude02 \\uc774\\uc820 \\uc5c5\\uc801\\uc744 \\uc5f4\\uc2ec\\ud788 \\uae68\\uace0 \\uc788\\ub294\\ub370 \\uc774 \\ub9c8\\uc800\\ub3c4 (\\uc720\\ubb3c\\uc774 \\ud544\\uc694\\ud55c \\uac83 \\ube7c\\uace0) \\uac70\\uc758 \\ub0a8\\uc9c0 \\uc54a\\uc558\\uc5b4\\uc694. \\uace0\\uc778\\ubb3c\\uc774 \\ub418\\ub2c8 \\uc774\\uc81c\\ub294 \\ucee8\\ud150\\uce20\\uac00 \\ubd80\\uc871\\ud574\\uc11c \\uc544\\uc26c\\uc6cc\\uc694\\ud83e\\udd14 \\uc5c5\\uc801\\uc744 \\uc544\\uc608 \\ucee8\\ud150\\uce20\\ud654 \\ud574\\uc11c \\uc774\\ub7f0 \\uc800\\ub7f0 \\ub371/\\uc870\\uac74\\uc73c\\ub85c \\uae68\\uae30 \\uac19\\uc740 \\uac83\\ub3c4 \\uc7ac\\ubc0c\\uc9c0 \\uc54a\\uc744\\uae4c \\uc2f6\\uc5b4\\uc694. \\uc810\\uc218\\ub9cc \\uc62c\\ub9ac\\ub294 \\ub7ad\\ud0b9\\uacfc \\ub610 \\ub2e4\\ub978 \\uc7ac\\ubbf8\\uac00 \\ub610 \\uc788\\ub354\\ub77c\\uace0\\uc694\\ud83e\\udd70 \\uadf8\\ub9ac\\uace0 \\uad7f\\uc988\\uc0f5\\uc5d0 \\ub760\\ubd80\\ub760\\ubd80\\uc530 \\uc5b8\\uc81c \\uc7ac\\uc785\\uace0 \\ub418\\ub098\\uc694?? \\ub108\\ubb34 \\uadc0\\uc5ec\\uc6cc\\uc11c \\uc0ac\\uace0 \\uc2f6\\uc740\\ub370!!! \\uc778 \\uac8c\\uc784\\uc5d0\\uc11c\\ub294 \\uc9c4\\uc9dc \\ub531 \\ud55c \\ubc88 \\uc2a4\\ud0c0\\ud130\\ud329\\uc778\\uac00? \\uc0b0 \\uc774\\ud6c4\\ub85c \\uacfc\\uae08 \\uc5c6\\uc774 \\ud50c\\ub808\\uc774 \\ud558\\ub294 \\uc911\\uc778\\ub370 \\uad7f\\uc988 \\uacfc\\uae08\\ud558\\uace0 \\uc2f6\\uc5b4\\uc694\\u3160\\u3160\\u3160 \\ub098\\uc5d0\\uac8c \\uc2e4\\ubb3c\\uc744 \\ub2ec\\ub77c!\"\n        ],\n        \"semantic_type\": \"\",\n        \"description\": \"\"\n      }\n    },\n    {\n      \"column\": \"\\ubcc4\\uc810\",\n      \"properties\": {\n        \"dtype\": \"string\",\n        \"num_unique_values\": 2,\n        \"samples\": [\n          \"\\ubcc4\\ud45c 5\\uac1c \\ub9cc\\uc810\\uc5d0 5\\uac1c\\ub97c \\ubc1b\\uc558\\uc2b5\\ub2c8\\ub2e4.\",\n          \"\\ubcc4\\ud45c 5\\uac1c \\ub9cc\\uc810\\uc5d0 3\\uac1c\\ub97c \\ubc1b\\uc558\\uc2b5\\ub2c8\\ub2e4.\"\n        ],\n        \"semantic_type\": \"\",\n        \"description\": \"\"\n      }\n    }\n  ]\n}"
            }
          },
          "metadata": {},
          "execution_count": 111
        }
      ],
      "source": [
        "data = pd.DataFrame(data=[], columns=['날짜','리뷰','별점'])\n",
        "#날짜, 리뷰, 별점 수집\n",
        "dates = wd.find_elements(by=By.XPATH, value = '//span[@class=\"bp9Aid\"]')\n",
        "reviews = wd.find_elements(by=By.XPATH, value = '//div[@class=\"h3YV2d\"]')\n",
        "stargrades = wd.find_elements(by=By.XPATH, value = '//div[@class=\"iXRFPc\"]')\n",
        "\n",
        "\n",
        "# k개의 리뷰를 수집합니다.\n",
        "for i in range(len(reviews)):\n",
        "    tmp = []\n",
        "    tmp.append(dates[i].text)\n",
        "    tmp.append(reviews[i].text)\n",
        "    tmp.append(stargrades[i].get_attribute('aria-label'))\n",
        "\n",
        "    tmp = pd.DataFrame(data=[tmp], columns = data.columns)\n",
        "    data = pd.concat([data,tmp])\n",
        "\n",
        "print('리뷰 수집 완료')\n",
        "\n",
        "\n",
        "data.reset_index(inplace=True, drop=True)\n",
        "data"
      ]
    },
    {
      "cell_type": "markdown",
      "id": "85f22bad",
      "metadata": {
        "id": "85f22bad"
      },
      "source": [
        "2.3 긍정 리뷰와 부정 리뷰를 나누시오(기준은 자유)."
      ]
    },
    {
      "cell_type": "code",
      "execution_count": 50,
      "id": "ffb85ba2",
      "metadata": {
        "id": "ffb85ba2",
        "colab": {
          "base_uri": "https://localhost:8080/"
        },
        "outputId": "51f2a788-e387-42f5-abf0-e3e53ba82c28"
      },
      "outputs": [
        {
          "output_type": "execute_result",
          "data": {
            "text/plain": [
              "0    3\n",
              "1    3\n",
              "2    5\n",
              "Name: 별점, dtype: object"
            ]
          },
          "metadata": {},
          "execution_count": 50
        }
      ],
      "source": [
        "tmp = data.copy()\n",
        "\n",
        "tmp['별점'] = tmp['별점'].apply(lambda x : x[5:])\n",
        "\n",
        "m = re.compile('[0-9][\\.0-9]*') #정규표현식\n",
        "\n",
        "tmp['별점'] = tmp['별점'].apply(lambda x : m.findall(x)[0])\n",
        "tmp['별점']"
      ]
    },
    {
      "cell_type": "code",
      "execution_count": 51,
      "id": "98cd97b8",
      "metadata": {
        "id": "98cd97b8"
      },
      "outputs": [],
      "source": [
        "#별점 type변환\n",
        "tmp.별점 = tmp.별점.astype(float)\n",
        "#별점 나누기\n",
        "tmp_low=tmp[tmp['별점']<=3]\n",
        "tmp_high=tmp[tmp['별점']>3]"
      ]
    },
    {
      "cell_type": "code",
      "source": [
        "tmp_high"
      ],
      "metadata": {
        "colab": {
          "base_uri": "https://localhost:8080/",
          "height": 115
        },
        "id": "cSzbCGeSgmfx",
        "outputId": "48c934c1-3e29-45c8-88d5-8aaf17d7bbeb"
      },
      "id": "cSzbCGeSgmfx",
      "execution_count": 52,
      "outputs": [
        {
          "output_type": "execute_result",
          "data": {
            "text/plain": [
              "             날짜                                                 리뷰   별점\n",
              "2  2024년 2월 16일  카드가 부족하던 뉴비 시절, 불만을 토로하며 열심히(?) 게임하다 보니 어느새 고인...  5.0"
            ],
            "text/html": [
              "\n",
              "  <div id=\"df-fb838228-38ae-434e-8405-eb7f462db26e\" class=\"colab-df-container\">\n",
              "    <div>\n",
              "<style scoped>\n",
              "    .dataframe tbody tr th:only-of-type {\n",
              "        vertical-align: middle;\n",
              "    }\n",
              "\n",
              "    .dataframe tbody tr th {\n",
              "        vertical-align: top;\n",
              "    }\n",
              "\n",
              "    .dataframe thead th {\n",
              "        text-align: right;\n",
              "    }\n",
              "</style>\n",
              "<table border=\"1\" class=\"dataframe\">\n",
              "  <thead>\n",
              "    <tr style=\"text-align: right;\">\n",
              "      <th></th>\n",
              "      <th>날짜</th>\n",
              "      <th>리뷰</th>\n",
              "      <th>별점</th>\n",
              "    </tr>\n",
              "  </thead>\n",
              "  <tbody>\n",
              "    <tr>\n",
              "      <th>2</th>\n",
              "      <td>2024년 2월 16일</td>\n",
              "      <td>카드가 부족하던 뉴비 시절, 불만을 토로하며 열심히(?) 게임하다 보니 어느새 고인...</td>\n",
              "      <td>5.0</td>\n",
              "    </tr>\n",
              "  </tbody>\n",
              "</table>\n",
              "</div>\n",
              "    <div class=\"colab-df-buttons\">\n",
              "\n",
              "  <div class=\"colab-df-container\">\n",
              "    <button class=\"colab-df-convert\" onclick=\"convertToInteractive('df-fb838228-38ae-434e-8405-eb7f462db26e')\"\n",
              "            title=\"Convert this dataframe to an interactive table.\"\n",
              "            style=\"display:none;\">\n",
              "\n",
              "  <svg xmlns=\"http://www.w3.org/2000/svg\" height=\"24px\" viewBox=\"0 -960 960 960\">\n",
              "    <path d=\"M120-120v-720h720v720H120Zm60-500h600v-160H180v160Zm220 220h160v-160H400v160Zm0 220h160v-160H400v160ZM180-400h160v-160H180v160Zm440 0h160v-160H620v160ZM180-180h160v-160H180v160Zm440 0h160v-160H620v160Z\"/>\n",
              "  </svg>\n",
              "    </button>\n",
              "\n",
              "  <style>\n",
              "    .colab-df-container {\n",
              "      display:flex;\n",
              "      gap: 12px;\n",
              "    }\n",
              "\n",
              "    .colab-df-convert {\n",
              "      background-color: #E8F0FE;\n",
              "      border: none;\n",
              "      border-radius: 50%;\n",
              "      cursor: pointer;\n",
              "      display: none;\n",
              "      fill: #1967D2;\n",
              "      height: 32px;\n",
              "      padding: 0 0 0 0;\n",
              "      width: 32px;\n",
              "    }\n",
              "\n",
              "    .colab-df-convert:hover {\n",
              "      background-color: #E2EBFA;\n",
              "      box-shadow: 0px 1px 2px rgba(60, 64, 67, 0.3), 0px 1px 3px 1px rgba(60, 64, 67, 0.15);\n",
              "      fill: #174EA6;\n",
              "    }\n",
              "\n",
              "    .colab-df-buttons div {\n",
              "      margin-bottom: 4px;\n",
              "    }\n",
              "\n",
              "    [theme=dark] .colab-df-convert {\n",
              "      background-color: #3B4455;\n",
              "      fill: #D2E3FC;\n",
              "    }\n",
              "\n",
              "    [theme=dark] .colab-df-convert:hover {\n",
              "      background-color: #434B5C;\n",
              "      box-shadow: 0px 1px 3px 1px rgba(0, 0, 0, 0.15);\n",
              "      filter: drop-shadow(0px 1px 2px rgba(0, 0, 0, 0.3));\n",
              "      fill: #FFFFFF;\n",
              "    }\n",
              "  </style>\n",
              "\n",
              "    <script>\n",
              "      const buttonEl =\n",
              "        document.querySelector('#df-fb838228-38ae-434e-8405-eb7f462db26e button.colab-df-convert');\n",
              "      buttonEl.style.display =\n",
              "        google.colab.kernel.accessAllowed ? 'block' : 'none';\n",
              "\n",
              "      async function convertToInteractive(key) {\n",
              "        const element = document.querySelector('#df-fb838228-38ae-434e-8405-eb7f462db26e');\n",
              "        const dataTable =\n",
              "          await google.colab.kernel.invokeFunction('convertToInteractive',\n",
              "                                                    [key], {});\n",
              "        if (!dataTable) return;\n",
              "\n",
              "        const docLinkHtml = 'Like what you see? Visit the ' +\n",
              "          '<a target=\"_blank\" href=https://colab.research.google.com/notebooks/data_table.ipynb>data table notebook</a>'\n",
              "          + ' to learn more about interactive tables.';\n",
              "        element.innerHTML = '';\n",
              "        dataTable['output_type'] = 'display_data';\n",
              "        await google.colab.output.renderOutput(dataTable, element);\n",
              "        const docLink = document.createElement('div');\n",
              "        docLink.innerHTML = docLinkHtml;\n",
              "        element.appendChild(docLink);\n",
              "      }\n",
              "    </script>\n",
              "  </div>\n",
              "\n",
              "\n",
              "  <div id=\"id_62563421-66e6-4ad3-8b2e-a145d6d7f29c\">\n",
              "    <style>\n",
              "      .colab-df-generate {\n",
              "        background-color: #E8F0FE;\n",
              "        border: none;\n",
              "        border-radius: 50%;\n",
              "        cursor: pointer;\n",
              "        display: none;\n",
              "        fill: #1967D2;\n",
              "        height: 32px;\n",
              "        padding: 0 0 0 0;\n",
              "        width: 32px;\n",
              "      }\n",
              "\n",
              "      .colab-df-generate:hover {\n",
              "        background-color: #E2EBFA;\n",
              "        box-shadow: 0px 1px 2px rgba(60, 64, 67, 0.3), 0px 1px 3px 1px rgba(60, 64, 67, 0.15);\n",
              "        fill: #174EA6;\n",
              "      }\n",
              "\n",
              "      [theme=dark] .colab-df-generate {\n",
              "        background-color: #3B4455;\n",
              "        fill: #D2E3FC;\n",
              "      }\n",
              "\n",
              "      [theme=dark] .colab-df-generate:hover {\n",
              "        background-color: #434B5C;\n",
              "        box-shadow: 0px 1px 3px 1px rgba(0, 0, 0, 0.15);\n",
              "        filter: drop-shadow(0px 1px 2px rgba(0, 0, 0, 0.3));\n",
              "        fill: #FFFFFF;\n",
              "      }\n",
              "    </style>\n",
              "    <button class=\"colab-df-generate\" onclick=\"generateWithVariable('tmp_high')\"\n",
              "            title=\"Generate code using this dataframe.\"\n",
              "            style=\"display:none;\">\n",
              "\n",
              "  <svg xmlns=\"http://www.w3.org/2000/svg\" height=\"24px\"viewBox=\"0 0 24 24\"\n",
              "       width=\"24px\">\n",
              "    <path d=\"M7,19H8.4L18.45,9,17,7.55,7,17.6ZM5,21V16.75L18.45,3.32a2,2,0,0,1,2.83,0l1.4,1.43a1.91,1.91,0,0,1,.58,1.4,1.91,1.91,0,0,1-.58,1.4L9.25,21ZM18.45,9,17,7.55Zm-12,3A5.31,5.31,0,0,0,4.9,8.1,5.31,5.31,0,0,0,1,6.5,5.31,5.31,0,0,0,4.9,4.9,5.31,5.31,0,0,0,6.5,1,5.31,5.31,0,0,0,8.1,4.9,5.31,5.31,0,0,0,12,6.5,5.46,5.46,0,0,0,6.5,12Z\"/>\n",
              "  </svg>\n",
              "    </button>\n",
              "    <script>\n",
              "      (() => {\n",
              "      const buttonEl =\n",
              "        document.querySelector('#id_62563421-66e6-4ad3-8b2e-a145d6d7f29c button.colab-df-generate');\n",
              "      buttonEl.style.display =\n",
              "        google.colab.kernel.accessAllowed ? 'block' : 'none';\n",
              "\n",
              "      buttonEl.onclick = () => {\n",
              "        google.colab.notebook.generateWithVariable('tmp_high');\n",
              "      }\n",
              "      })();\n",
              "    </script>\n",
              "  </div>\n",
              "\n",
              "    </div>\n",
              "  </div>\n"
            ],
            "application/vnd.google.colaboratory.intrinsic+json": {
              "type": "dataframe",
              "variable_name": "tmp_high",
              "summary": "{\n  \"name\": \"tmp_high\",\n  \"rows\": 1,\n  \"fields\": [\n    {\n      \"column\": \"\\ub0a0\\uc9dc\",\n      \"properties\": {\n        \"dtype\": \"string\",\n        \"num_unique_values\": 1,\n        \"samples\": [\n          \"2024\\ub144 2\\uc6d4 16\\uc77c\"\n        ],\n        \"semantic_type\": \"\",\n        \"description\": \"\"\n      }\n    },\n    {\n      \"column\": \"\\ub9ac\\ubdf0\",\n      \"properties\": {\n        \"dtype\": \"string\",\n        \"num_unique_values\": 1,\n        \"samples\": [\n          \"\\uce74\\ub4dc\\uac00 \\ubd80\\uc871\\ud558\\ub358 \\ub274\\ube44 \\uc2dc\\uc808, \\ubd88\\ub9cc\\uc744 \\ud1a0\\ub85c\\ud558\\uba70 \\uc5f4\\uc2ec\\ud788(?) \\uac8c\\uc784\\ud558\\ub2e4 \\ubcf4\\ub2c8 \\uc5b4\\ub290\\uc0c8 \\uace0\\uc778\\ubb3c\\uc774 \\ub418\\uc5b4 \\ub7ad\\ud0b9\\uc5d0 \\uc774\\ub984\\uc744 \\uc62c\\ub9ac\\uac8c \\ub418\\uc5c8\\uc2b5\\ub2c8\\ub2e4. \\uc9c4\\uc9dc \\ubbf8\\uce5c \\uad81\\uadf9\\uc758 \\ub371\\uc744 \\uac1c\\ubc1c\\ud588\\ub2e4 \\uc0dd\\uac01\\ud588\\ub294\\ub370 \\uce74\\ub4dc \\uc218\\ub7c9\\uc744 \\uacac\\ub51c \\uc218 \\uc5c6\\uc5b4 \\uac8c\\uc784\\uc774 \\uc790\\uafb8 \\uaebc\\uc9c0\\ub294 \\ud604\\uc0c1, \\ubcf4\\uc720 \\uc218\\ub7c9 \\uc624\\ub958 \\uacbd\\uace0 \\uba54\\uc2dc\\uc9c0\\uc640 \\uc2f8\\uc6b0\\uac8c \\ub418\\uc5c8\\uace0\\uc694...\\ud83d\\ude02 \\uc774\\uc820 \\uc5c5\\uc801\\uc744 \\uc5f4\\uc2ec\\ud788 \\uae68\\uace0 \\uc788\\ub294\\ub370 \\uc774 \\ub9c8\\uc800\\ub3c4 (\\uc720\\ubb3c\\uc774 \\ud544\\uc694\\ud55c \\uac83 \\ube7c\\uace0) \\uac70\\uc758 \\ub0a8\\uc9c0 \\uc54a\\uc558\\uc5b4\\uc694. \\uace0\\uc778\\ubb3c\\uc774 \\ub418\\ub2c8 \\uc774\\uc81c\\ub294 \\ucee8\\ud150\\uce20\\uac00 \\ubd80\\uc871\\ud574\\uc11c \\uc544\\uc26c\\uc6cc\\uc694\\ud83e\\udd14 \\uc5c5\\uc801\\uc744 \\uc544\\uc608 \\ucee8\\ud150\\uce20\\ud654 \\ud574\\uc11c \\uc774\\ub7f0 \\uc800\\ub7f0 \\ub371/\\uc870\\uac74\\uc73c\\ub85c \\uae68\\uae30 \\uac19\\uc740 \\uac83\\ub3c4 \\uc7ac\\ubc0c\\uc9c0 \\uc54a\\uc744\\uae4c \\uc2f6\\uc5b4\\uc694. \\uc810\\uc218\\ub9cc \\uc62c\\ub9ac\\ub294 \\ub7ad\\ud0b9\\uacfc \\ub610 \\ub2e4\\ub978 \\uc7ac\\ubbf8\\uac00 \\ub610 \\uc788\\ub354\\ub77c\\uace0\\uc694\\ud83e\\udd70 \\uadf8\\ub9ac\\uace0 \\uad7f\\uc988\\uc0f5\\uc5d0 \\ub760\\ubd80\\ub760\\ubd80\\uc530 \\uc5b8\\uc81c \\uc7ac\\uc785\\uace0 \\ub418\\ub098\\uc694?? \\ub108\\ubb34 \\uadc0\\uc5ec\\uc6cc\\uc11c \\uc0ac\\uace0 \\uc2f6\\uc740\\ub370!!! \\uc778 \\uac8c\\uc784\\uc5d0\\uc11c\\ub294 \\uc9c4\\uc9dc \\ub531 \\ud55c \\ubc88 \\uc2a4\\ud0c0\\ud130\\ud329\\uc778\\uac00? \\uc0b0 \\uc774\\ud6c4\\ub85c \\uacfc\\uae08 \\uc5c6\\uc774 \\ud50c\\ub808\\uc774 \\ud558\\ub294 \\uc911\\uc778\\ub370 \\uad7f\\uc988 \\uacfc\\uae08\\ud558\\uace0 \\uc2f6\\uc5b4\\uc694\\u3160\\u3160\\u3160 \\ub098\\uc5d0\\uac8c \\uc2e4\\ubb3c\\uc744 \\ub2ec\\ub77c!\"\n        ],\n        \"semantic_type\": \"\",\n        \"description\": \"\"\n      }\n    },\n    {\n      \"column\": \"\\ubcc4\\uc810\",\n      \"properties\": {\n        \"dtype\": \"number\",\n        \"std\": null,\n        \"min\": 5.0,\n        \"max\": 5.0,\n        \"num_unique_values\": 1,\n        \"samples\": [\n          5.0\n        ],\n        \"semantic_type\": \"\",\n        \"description\": \"\"\n      }\n    }\n  ]\n}"
            }
          },
          "metadata": {},
          "execution_count": 52
        }
      ]
    },
    {
      "cell_type": "markdown",
      "id": "73c26157",
      "metadata": {
        "id": "73c26157"
      },
      "source": [
        "### 3. 자유 분석"
      ]
    },
    {
      "cell_type": "markdown",
      "id": "f4711acd",
      "metadata": {
        "id": "f4711acd"
      },
      "source": [
        "3.1 위에서 크롤링한 데이터들을 활용해 자유롭게 인사이트를 도출하시오."
      ]
    },
    {
      "cell_type": "code",
      "execution_count": null,
      "id": "c83435a7",
      "metadata": {
        "id": "c83435a7"
      },
      "outputs": [],
      "source": []
    },
    {
      "cell_type": "code",
      "execution_count": null,
      "id": "f08b9c4b",
      "metadata": {
        "id": "f08b9c4b"
      },
      "outputs": [],
      "source": []
    },
    {
      "cell_type": "code",
      "execution_count": null,
      "id": "1531dbad",
      "metadata": {
        "id": "1531dbad"
      },
      "outputs": [],
      "source": []
    }
  ],
  "metadata": {
    "kernelspec": {
      "display_name": "Python 3",
      "name": "python3"
    },
    "language_info": {
      "codemirror_mode": {
        "name": "ipython",
        "version": 3
      },
      "file_extension": ".py",
      "mimetype": "text/x-python",
      "name": "python",
      "nbconvert_exporter": "python",
      "pygments_lexer": "ipython3",
      "version": "3.10.9"
    },
    "colab": {
      "provenance": [],
      "gpuType": "T4"
    },
    "accelerator": "GPU"
  },
  "nbformat": 4,
  "nbformat_minor": 5
}