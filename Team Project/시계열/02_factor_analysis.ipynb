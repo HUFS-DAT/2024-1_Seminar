{
 "cells": [
  {
   "cell_type": "markdown",
   "metadata": {},
   "source": [
    "### 0. 패키지 불러오기"
   ]
  },
  {
   "cell_type": "code",
   "execution_count": 2,
   "metadata": {},
   "outputs": [
    {
     "name": "stderr",
     "output_type": "stream",
     "text": [
      "C:\\Users\\HamIG\\AppData\\Local\\Temp\\ipykernel_28796\\521845342.py:1: DeprecationWarning: \n",
      "Pyarrow will become a required dependency of pandas in the next major release of pandas (pandas 3.0),\n",
      "(to allow more performant data types, such as the Arrow string type, and better interoperability with other libraries)\n",
      "but was not found to be installed on your system.\n",
      "If this would cause problems for you,\n",
      "please provide us feedback at https://github.com/pandas-dev/pandas/issues/54466\n",
      "        \n",
      "  import pandas as pd\n"
     ]
    }
   ],
   "source": [
    "import pandas as pd\n",
    "\n",
    "from sklearn.datasets import load_iris\n",
    "\n",
    "from factor_analyzer import FactorAnalyzer\n",
    "\n",
    "import matplotlib.pyplot as plt\n",
    "\n",
    "from sklearn.linear_model import LinearRegression\n",
    "\n",
    "import statsmodels.api as sm"
   ]
  },
  {
   "cell_type": "markdown",
   "metadata": {},
   "source": [
    "### 1. 데이터 전처리"
   ]
  },
  {
   "cell_type": "markdown",
   "metadata": {},
   "source": [
    "#### 1-0. 원본 데이터 확인 및 결측치 대체"
   ]
  },
  {
   "cell_type": "code",
   "execution_count": 25,
   "metadata": {},
   "outputs": [
    {
     "data": {
      "text/html": [
       "<div>\n",
       "<style scoped>\n",
       "    .dataframe tbody tr th:only-of-type {\n",
       "        vertical-align: middle;\n",
       "    }\n",
       "\n",
       "    .dataframe tbody tr th {\n",
       "        vertical-align: top;\n",
       "    }\n",
       "\n",
       "    .dataframe thead th {\n",
       "        text-align: right;\n",
       "    }\n",
       "</style>\n",
       "<table border=\"1\" class=\"dataframe\">\n",
       "  <thead>\n",
       "    <tr style=\"text-align: right;\">\n",
       "      <th></th>\n",
       "      <th>시점</th>\n",
       "      <th>합계출산율</th>\n",
       "      <th>국내총생산(명목 원화표시) (십억원)</th>\n",
       "      <th>국민총소득(명목 원화표시) (십억원)</th>\n",
       "      <th>노동비용총액 (천원)</th>\n",
       "      <th>소비자물가지수</th>\n",
       "      <th>일반적으로사람들을신뢰하는정도</th>\n",
       "      <th>우울인식_평균_점</th>\n",
       "      <th>우울감 경험률</th>\n",
       "      <th>모 육아휴직 사용률(%)</th>\n",
       "      <th>모 육아휴직자 수</th>\n",
       "      <th>1인당 민간소비(천원)</th>\n",
       "      <th>월평균 사교육비(만원)</th>\n",
       "      <th>생활물가지수(2020=100)</th>\n",
       "      <th>주관적 건강인지율(%)</th>\n",
       "      <th>아파트 매매 실거래 평균가격(만원/㎡)</th>\n",
       "      <th>연립다세대 매매 실거래 평균가격(만원/㎡)</th>\n",
       "      <th>총근로시간 (시간)</th>\n",
       "      <th>월임금총액 (천원)</th>\n",
       "    </tr>\n",
       "  </thead>\n",
       "  <tbody>\n",
       "    <tr>\n",
       "      <th>0</th>\n",
       "      <td>1993</td>\n",
       "      <td>1.654</td>\n",
       "      <td>315181.3</td>\n",
       "      <td>314760.4</td>\n",
       "      <td>1501.9</td>\n",
       "      <td>46.831</td>\n",
       "      <td>NaN</td>\n",
       "      <td>NaN</td>\n",
       "      <td>NaN</td>\n",
       "      <td>NaN</td>\n",
       "      <td>NaN</td>\n",
       "      <td>NaN</td>\n",
       "      <td>NaN</td>\n",
       "      <td>NaN</td>\n",
       "      <td>NaN</td>\n",
       "      <td>NaN</td>\n",
       "      <td>NaN</td>\n",
       "      <td>NaN</td>\n",
       "      <td>NaN</td>\n",
       "    </tr>\n",
       "    <tr>\n",
       "      <th>1</th>\n",
       "      <td>1994</td>\n",
       "      <td>1.656</td>\n",
       "      <td>372493.4</td>\n",
       "      <td>371554.7</td>\n",
       "      <td>1501.9</td>\n",
       "      <td>49.765</td>\n",
       "      <td>NaN</td>\n",
       "      <td>NaN</td>\n",
       "      <td>NaN</td>\n",
       "      <td>NaN</td>\n",
       "      <td>NaN</td>\n",
       "      <td>NaN</td>\n",
       "      <td>NaN</td>\n",
       "      <td>NaN</td>\n",
       "      <td>NaN</td>\n",
       "      <td>NaN</td>\n",
       "      <td>NaN</td>\n",
       "      <td>NaN</td>\n",
       "      <td>NaN</td>\n",
       "    </tr>\n",
       "    <tr>\n",
       "      <th>2</th>\n",
       "      <td>1995</td>\n",
       "      <td>1.634</td>\n",
       "      <td>436988.8</td>\n",
       "      <td>435384.8</td>\n",
       "      <td>1726.7</td>\n",
       "      <td>51.995</td>\n",
       "      <td>NaN</td>\n",
       "      <td>NaN</td>\n",
       "      <td>NaN</td>\n",
       "      <td>NaN</td>\n",
       "      <td>NaN</td>\n",
       "      <td>5094.0</td>\n",
       "      <td>NaN</td>\n",
       "      <td>51.995</td>\n",
       "      <td>NaN</td>\n",
       "      <td>NaN</td>\n",
       "      <td>NaN</td>\n",
       "      <td>NaN</td>\n",
       "      <td>NaN</td>\n",
       "    </tr>\n",
       "    <tr>\n",
       "      <th>3</th>\n",
       "      <td>1996</td>\n",
       "      <td>1.574</td>\n",
       "      <td>490850.9</td>\n",
       "      <td>489129.4</td>\n",
       "      <td>1870.5</td>\n",
       "      <td>54.555</td>\n",
       "      <td>NaN</td>\n",
       "      <td>NaN</td>\n",
       "      <td>NaN</td>\n",
       "      <td>NaN</td>\n",
       "      <td>NaN</td>\n",
       "      <td>5794.0</td>\n",
       "      <td>NaN</td>\n",
       "      <td>54.555</td>\n",
       "      <td>NaN</td>\n",
       "      <td>NaN</td>\n",
       "      <td>NaN</td>\n",
       "      <td>NaN</td>\n",
       "      <td>NaN</td>\n",
       "    </tr>\n",
       "    <tr>\n",
       "      <th>4</th>\n",
       "      <td>1997</td>\n",
       "      <td>1.537</td>\n",
       "      <td>542001.8</td>\n",
       "      <td>539090.8</td>\n",
       "      <td>2082.2</td>\n",
       "      <td>56.977</td>\n",
       "      <td>NaN</td>\n",
       "      <td>NaN</td>\n",
       "      <td>NaN</td>\n",
       "      <td>NaN</td>\n",
       "      <td>NaN</td>\n",
       "      <td>5861.0</td>\n",
       "      <td>NaN</td>\n",
       "      <td>56.977</td>\n",
       "      <td>NaN</td>\n",
       "      <td>NaN</td>\n",
       "      <td>NaN</td>\n",
       "      <td>NaN</td>\n",
       "      <td>NaN</td>\n",
       "    </tr>\n",
       "  </tbody>\n",
       "</table>\n",
       "</div>"
      ],
      "text/plain": [
       "     시점  합계출산율  국내총생산(명목 원화표시) (십억원)  국민총소득(명목 원화표시) (십억원)  노동비용총액 (천원)  \\\n",
       "0  1993  1.654              315181.3              314760.4       1501.9   \n",
       "1  1994  1.656              372493.4              371554.7       1501.9   \n",
       "2  1995  1.634              436988.8              435384.8       1726.7   \n",
       "3  1996  1.574              490850.9              489129.4       1870.5   \n",
       "4  1997  1.537              542001.8              539090.8       2082.2   \n",
       "\n",
       "   소비자물가지수  일반적으로사람들을신뢰하는정도  우울인식_평균_점  우울감 경험률   모 육아휴직 사용률(%)  모 육아휴직자 수  \\\n",
       "0   46.831              NaN        NaN       NaN            NaN        NaN   \n",
       "1   49.765              NaN        NaN       NaN            NaN        NaN   \n",
       "2   51.995              NaN        NaN       NaN            NaN        NaN   \n",
       "3   54.555              NaN        NaN       NaN            NaN        NaN   \n",
       "4   56.977              NaN        NaN       NaN            NaN        NaN   \n",
       "\n",
       "   1인당 민간소비(천원)  월평균 사교육비(만원)  생활물가지수(2020=100)  주관적 건강인지율(%)  \\\n",
       "0           NaN           NaN               NaN           NaN   \n",
       "1           NaN           NaN               NaN           NaN   \n",
       "2        5094.0           NaN            51.995           NaN   \n",
       "3        5794.0           NaN            54.555           NaN   \n",
       "4        5861.0           NaN            56.977           NaN   \n",
       "\n",
       "   아파트 매매 실거래 평균가격(만원/㎡)  연립다세대 매매 실거래 평균가격(만원/㎡)  총근로시간 (시간)  월임금총액 (천원)  \n",
       "0                    NaN                      NaN         NaN         NaN  \n",
       "1                    NaN                      NaN         NaN         NaN  \n",
       "2                    NaN                      NaN         NaN         NaN  \n",
       "3                    NaN                      NaN         NaN         NaN  \n",
       "4                    NaN                      NaN         NaN         NaN  "
      ]
     },
     "execution_count": 25,
     "metadata": {},
     "output_type": "execute_result"
    }
   ],
   "source": [
    "df = pd.read_excel(\"./data/30year_3.xlsx\")\n",
    "\n",
    "df.head()"
   ]
  },
  {
   "cell_type": "code",
   "execution_count": 27,
   "metadata": {},
   "outputs": [
    {
     "data": {
      "text/plain": [
       "164"
      ]
     },
     "execution_count": 27,
     "metadata": {},
     "output_type": "execute_result"
    }
   ],
   "source": [
    "total_missing = df.isnull().sum().sum()\n",
    "total_missing"
   ]
  },
  {
   "cell_type": "markdown",
   "metadata": {},
   "source": [
    "결측치의 개수는 총 164개로, 결측치 대체 방법으로는 SPSS의 수정회귀대체 방법을 활용한다. "
   ]
  },
  {
   "cell_type": "markdown",
   "metadata": {},
   "source": [
    "SPSS에서 회귀대체 사용하는 방법 : https://m.blog.naver.com/7461817/222617761587"
   ]
  },
  {
   "cell_type": "markdown",
   "metadata": {},
   "source": [
    "결측치 대체 방법 설명 사이트 : https://gooopy.tistory.com/44"
   ]
  },
  {
   "cell_type": "markdown",
   "metadata": {},
   "source": [
    "+ 결측치를 포함하는 변수를 종속변수로, 나머지 변수를 독립변수로 하는 회귀식을 구성하고, 이렇게 추정된 회귀식의 예측값으로 결측 값을 대체하는 방법을 회귀대체라고 부른다.  \n",
    "+ 단, 회귀대체는 표준오차가 과소추정되어 p-value가 실제보다 작아지고, 신뢰구간이 좁아질 수 있다는 한계점이 존재한다.\n",
    "+ 따라서, 본 연구에서는 회귀식에 정규분포 변량을 더한 수정회귀대체 방법을 사용하여 표준오차가 과소추정되는 것을 보완한다. "
   ]
  },
  {
   "cell_type": "markdown",
   "metadata": {},
   "source": [
    "![image.png](./image/spss8.png)"
   ]
  },
  {
   "cell_type": "markdown",
   "metadata": {},
   "source": [
    "데이터를 불러올 때, 시점 변수를 양적 변수로 취급했기 때문에 시점 변수는 제외하고, 나머지 변수들을 회귀대체에 활용할 변수로 집어넣는다. "
   ]
  },
  {
   "cell_type": "markdown",
   "metadata": {},
   "source": [
    "![image.png](./image/spss9.png)"
   ]
  },
  {
   "cell_type": "markdown",
   "metadata": {},
   "source": [
    "![image.png](./image/spss11.png)"
   ]
  },
  {
   "cell_type": "markdown",
   "metadata": {},
   "source": [
    "#### 1-1. 결측치 대체 후의 데이터 불러오기"
   ]
  },
  {
   "cell_type": "code",
   "execution_count": 28,
   "metadata": {},
   "outputs": [
    {
     "data": {
      "text/html": [
       "<div>\n",
       "<style scoped>\n",
       "    .dataframe tbody tr th:only-of-type {\n",
       "        vertical-align: middle;\n",
       "    }\n",
       "\n",
       "    .dataframe tbody tr th {\n",
       "        vertical-align: top;\n",
       "    }\n",
       "\n",
       "    .dataframe thead th {\n",
       "        text-align: right;\n",
       "    }\n",
       "</style>\n",
       "<table border=\"1\" class=\"dataframe\">\n",
       "  <thead>\n",
       "    <tr style=\"text-align: right;\">\n",
       "      <th></th>\n",
       "      <th>시점</th>\n",
       "      <th>합계출산율</th>\n",
       "      <th>국내총생산(명목 원화표시) (십억원)</th>\n",
       "      <th>국민총소득(명목 원화표시) (십억원)</th>\n",
       "      <th>노동비용총액 (천원)</th>\n",
       "      <th>소비자물가지수</th>\n",
       "      <th>일반적으로사람들을신뢰하는정도</th>\n",
       "      <th>우울인식_평균_점</th>\n",
       "      <th>우울감 경험률</th>\n",
       "      <th>모 육아휴직 사용률(%)</th>\n",
       "      <th>모 육아휴직자 수</th>\n",
       "      <th>1인당 민간소비(천원)</th>\n",
       "      <th>월평균 사교육비(만원)</th>\n",
       "      <th>생활물가지수(2020=100)</th>\n",
       "      <th>주관적 건강인지율(%)</th>\n",
       "      <th>아파트 매매 실거래 평균가격(만원/㎡)</th>\n",
       "      <th>연립다세대 매매 실거래 평균가격(만원/㎡)</th>\n",
       "      <th>총근로시간 (시간)</th>\n",
       "      <th>월임금총액 (천원)</th>\n",
       "    </tr>\n",
       "  </thead>\n",
       "  <tbody>\n",
       "    <tr>\n",
       "      <th>0</th>\n",
       "      <td>1993</td>\n",
       "      <td>1.654</td>\n",
       "      <td>315181.3</td>\n",
       "      <td>314760.4</td>\n",
       "      <td>1501.9</td>\n",
       "      <td>46.831</td>\n",
       "      <td>3.570</td>\n",
       "      <td>3.94</td>\n",
       "      <td>5.4</td>\n",
       "      <td>47.8</td>\n",
       "      <td>61469</td>\n",
       "      <td>5475</td>\n",
       "      <td>24.6</td>\n",
       "      <td>60.706</td>\n",
       "      <td>30.9</td>\n",
       "      <td>280.4</td>\n",
       "      <td>212.6</td>\n",
       "      <td>182.8</td>\n",
       "      <td>2555</td>\n",
       "    </tr>\n",
       "    <tr>\n",
       "      <th>1</th>\n",
       "      <td>1994</td>\n",
       "      <td>1.656</td>\n",
       "      <td>372493.4</td>\n",
       "      <td>371554.7</td>\n",
       "      <td>1501.9</td>\n",
       "      <td>49.765</td>\n",
       "      <td>3.533</td>\n",
       "      <td>4.85</td>\n",
       "      <td>5.0</td>\n",
       "      <td>51.9</td>\n",
       "      <td>54729</td>\n",
       "      <td>6788</td>\n",
       "      <td>25.6</td>\n",
       "      <td>67.299</td>\n",
       "      <td>30.6</td>\n",
       "      <td>260.6</td>\n",
       "      <td>222.4</td>\n",
       "      <td>184.5</td>\n",
       "      <td>2294</td>\n",
       "    </tr>\n",
       "    <tr>\n",
       "      <th>2</th>\n",
       "      <td>1995</td>\n",
       "      <td>1.634</td>\n",
       "      <td>436988.8</td>\n",
       "      <td>435384.8</td>\n",
       "      <td>1726.7</td>\n",
       "      <td>51.995</td>\n",
       "      <td>3.560</td>\n",
       "      <td>5.86</td>\n",
       "      <td>6.4</td>\n",
       "      <td>49.5</td>\n",
       "      <td>57142</td>\n",
       "      <td>5094</td>\n",
       "      <td>26.2</td>\n",
       "      <td>51.995</td>\n",
       "      <td>36.8</td>\n",
       "      <td>284.9</td>\n",
       "      <td>180.3</td>\n",
       "      <td>186.5</td>\n",
       "      <td>2276</td>\n",
       "    </tr>\n",
       "    <tr>\n",
       "      <th>3</th>\n",
       "      <td>1996</td>\n",
       "      <td>1.574</td>\n",
       "      <td>490850.9</td>\n",
       "      <td>489129.4</td>\n",
       "      <td>1870.5</td>\n",
       "      <td>54.555</td>\n",
       "      <td>3.729</td>\n",
       "      <td>5.84</td>\n",
       "      <td>5.4</td>\n",
       "      <td>43.8</td>\n",
       "      <td>57862</td>\n",
       "      <td>5794</td>\n",
       "      <td>13.1</td>\n",
       "      <td>54.555</td>\n",
       "      <td>29.3</td>\n",
       "      <td>157.5</td>\n",
       "      <td>101.4</td>\n",
       "      <td>170.5</td>\n",
       "      <td>2059</td>\n",
       "    </tr>\n",
       "    <tr>\n",
       "      <th>4</th>\n",
       "      <td>1997</td>\n",
       "      <td>1.537</td>\n",
       "      <td>542001.8</td>\n",
       "      <td>539090.8</td>\n",
       "      <td>2082.2</td>\n",
       "      <td>56.977</td>\n",
       "      <td>3.513</td>\n",
       "      <td>6.51</td>\n",
       "      <td>4.7</td>\n",
       "      <td>48.1</td>\n",
       "      <td>62897</td>\n",
       "      <td>5861</td>\n",
       "      <td>22.7</td>\n",
       "      <td>56.977</td>\n",
       "      <td>28.1</td>\n",
       "      <td>277.5</td>\n",
       "      <td>219.5</td>\n",
       "      <td>190.6</td>\n",
       "      <td>2249</td>\n",
       "    </tr>\n",
       "  </tbody>\n",
       "</table>\n",
       "</div>"
      ],
      "text/plain": [
       "     시점  합계출산율  국내총생산(명목 원화표시) (십억원)  국민총소득(명목 원화표시) (십억원)  노동비용총액 (천원)  \\\n",
       "0  1993  1.654              315181.3              314760.4       1501.9   \n",
       "1  1994  1.656              372493.4              371554.7       1501.9   \n",
       "2  1995  1.634              436988.8              435384.8       1726.7   \n",
       "3  1996  1.574              490850.9              489129.4       1870.5   \n",
       "4  1997  1.537              542001.8              539090.8       2082.2   \n",
       "\n",
       "   소비자물가지수  일반적으로사람들을신뢰하는정도  우울인식_평균_점  우울감 경험률   모 육아휴직 사용률(%)  모 육아휴직자 수  \\\n",
       "0   46.831            3.570       3.94       5.4           47.8      61469   \n",
       "1   49.765            3.533       4.85       5.0           51.9      54729   \n",
       "2   51.995            3.560       5.86       6.4           49.5      57142   \n",
       "3   54.555            3.729       5.84       5.4           43.8      57862   \n",
       "4   56.977            3.513       6.51       4.7           48.1      62897   \n",
       "\n",
       "   1인당 민간소비(천원)  월평균 사교육비(만원)  생활물가지수(2020=100)  주관적 건강인지율(%)  \\\n",
       "0          5475          24.6            60.706          30.9   \n",
       "1          6788          25.6            67.299          30.6   \n",
       "2          5094          26.2            51.995          36.8   \n",
       "3          5794          13.1            54.555          29.3   \n",
       "4          5861          22.7            56.977          28.1   \n",
       "\n",
       "   아파트 매매 실거래 평균가격(만원/㎡)  연립다세대 매매 실거래 평균가격(만원/㎡)  총근로시간 (시간)  월임금총액 (천원)  \n",
       "0                  280.4                    212.6       182.8        2555  \n",
       "1                  260.6                    222.4       184.5        2294  \n",
       "2                  284.9                    180.3       186.5        2276  \n",
       "3                  157.5                    101.4       170.5        2059  \n",
       "4                  277.5                    219.5       190.6        2249  "
      ]
     },
     "execution_count": 28,
     "metadata": {},
     "output_type": "execute_result"
    }
   ],
   "source": [
    "df = pd.read_excel(\"./data/30year_regress2.xlsx\")\n",
    "\n",
    "df.head()"
   ]
  },
  {
   "cell_type": "markdown",
   "metadata": {},
   "source": [
    "#### 1-2. 결측치 확인"
   ]
  },
  {
   "cell_type": "code",
   "execution_count": 29,
   "metadata": {},
   "outputs": [
    {
     "name": "stdout",
     "output_type": "stream",
     "text": [
      "<class 'pandas.core.frame.DataFrame'>\n",
      "RangeIndex: 30 entries, 0 to 29\n",
      "Data columns (total 19 columns):\n",
      " #   Column                   Non-Null Count  Dtype  \n",
      "---  ------                   --------------  -----  \n",
      " 0   시점                       30 non-null     int64  \n",
      " 1   합계출산율                    30 non-null     float64\n",
      " 2   국내총생산(명목 원화표시) (십억원)     30 non-null     float64\n",
      " 3   국민총소득(명목 원화표시) (십억원)     30 non-null     float64\n",
      " 4   노동비용총액 (천원)              30 non-null     float64\n",
      " 5   소비자물가지수                  30 non-null     float64\n",
      " 6   일반적으로사람들을신뢰하는정도          30 non-null     float64\n",
      " 7   우울인식_평균_점                30 non-null     float64\n",
      " 8   우울감 경험률                  30 non-null     float64\n",
      " 9   모 육아휴직 사용률(%)            30 non-null     float64\n",
      " 10  모 육아휴직자 수                30 non-null     int64  \n",
      " 11  1인당 민간소비(천원)             30 non-null     int64  \n",
      " 12  월평균 사교육비(만원)             30 non-null     float64\n",
      " 13  생활물가지수(2020=100)         30 non-null     float64\n",
      " 14  주관적 건강인지율(%)             30 non-null     float64\n",
      " 15  아파트 매매 실거래 평균가격(만원/㎡)    30 non-null     float64\n",
      " 16  연립다세대 매매 실거래 평균가격(만원/㎡)  30 non-null     float64\n",
      " 17  총근로시간 (시간)               30 non-null     float64\n",
      " 18  월임금총액 (천원)               30 non-null     int64  \n",
      "dtypes: float64(15), int64(4)\n",
      "memory usage: 4.6 KB\n"
     ]
    }
   ],
   "source": [
    "df.info()"
   ]
  },
  {
   "cell_type": "code",
   "execution_count": 30,
   "metadata": {},
   "outputs": [
    {
     "data": {
      "text/plain": [
       "0"
      ]
     },
     "execution_count": 30,
     "metadata": {},
     "output_type": "execute_result"
    }
   ],
   "source": [
    "total_missing = df.isnull().sum().sum()\n",
    "total_missing"
   ]
  },
  {
   "cell_type": "markdown",
   "metadata": {},
   "source": [
    "데이터의 결측치를 세어 본 결과, 0개로 모든 결측치가 채워졌다. "
   ]
  },
  {
   "cell_type": "markdown",
   "metadata": {},
   "source": [
    "### 1-3. 합계출산율, 시점 제거"
   ]
  },
  {
   "cell_type": "code",
   "execution_count": 31,
   "metadata": {},
   "outputs": [],
   "source": [
    "# 원본 데이터를 유지하기 위해 데이터프레임을 복사\n",
    "df_copy = df.copy()"
   ]
  },
  {
   "cell_type": "code",
   "execution_count": 32,
   "metadata": {},
   "outputs": [],
   "source": [
    "df_copy.drop([\"합계출산율\", \"시점\"],axis=1,inplace=True)"
   ]
  },
  {
   "cell_type": "code",
   "execution_count": 33,
   "metadata": {},
   "outputs": [
    {
     "name": "stdout",
     "output_type": "stream",
     "text": [
      "<class 'pandas.core.frame.DataFrame'>\n",
      "RangeIndex: 30 entries, 0 to 29\n",
      "Data columns (total 17 columns):\n",
      " #   Column                   Non-Null Count  Dtype  \n",
      "---  ------                   --------------  -----  \n",
      " 0   국내총생산(명목 원화표시) (십억원)     30 non-null     float64\n",
      " 1   국민총소득(명목 원화표시) (십억원)     30 non-null     float64\n",
      " 2   노동비용총액 (천원)              30 non-null     float64\n",
      " 3   소비자물가지수                  30 non-null     float64\n",
      " 4   일반적으로사람들을신뢰하는정도          30 non-null     float64\n",
      " 5   우울인식_평균_점                30 non-null     float64\n",
      " 6   우울감 경험률                  30 non-null     float64\n",
      " 7   모 육아휴직 사용률(%)            30 non-null     float64\n",
      " 8   모 육아휴직자 수                30 non-null     int64  \n",
      " 9   1인당 민간소비(천원)             30 non-null     int64  \n",
      " 10  월평균 사교육비(만원)             30 non-null     float64\n",
      " 11  생활물가지수(2020=100)         30 non-null     float64\n",
      " 12  주관적 건강인지율(%)             30 non-null     float64\n",
      " 13  아파트 매매 실거래 평균가격(만원/㎡)    30 non-null     float64\n",
      " 14  연립다세대 매매 실거래 평균가격(만원/㎡)  30 non-null     float64\n",
      " 15  총근로시간 (시간)               30 non-null     float64\n",
      " 16  월임금총액 (천원)               30 non-null     int64  \n",
      "dtypes: float64(14), int64(3)\n",
      "memory usage: 4.1 KB\n"
     ]
    }
   ],
   "source": [
    "df_copy.info()"
   ]
  },
  {
   "cell_type": "markdown",
   "metadata": {},
   "source": [
    "### 1-4. 표준화"
   ]
  },
  {
   "cell_type": "code",
   "execution_count": 34,
   "metadata": {},
   "outputs": [],
   "source": [
    "from sklearn.preprocessing import StandardScaler\n",
    "\n",
    "scaler = StandardScaler()\n",
    "\n",
    "scaled_df = scaler.fit_transform(df_copy)\n",
    "\n",
    "scaled_df = pd.DataFrame(scaled_df, columns=df_copy.columns)"
   ]
  },
  {
   "cell_type": "code",
   "execution_count": 35,
   "metadata": {},
   "outputs": [
    {
     "data": {
      "text/html": [
       "<div>\n",
       "<style scoped>\n",
       "    .dataframe tbody tr th:only-of-type {\n",
       "        vertical-align: middle;\n",
       "    }\n",
       "\n",
       "    .dataframe tbody tr th {\n",
       "        vertical-align: top;\n",
       "    }\n",
       "\n",
       "    .dataframe thead th {\n",
       "        text-align: right;\n",
       "    }\n",
       "</style>\n",
       "<table border=\"1\" class=\"dataframe\">\n",
       "  <thead>\n",
       "    <tr style=\"text-align: right;\">\n",
       "      <th></th>\n",
       "      <th>국내총생산(명목 원화표시) (십억원)</th>\n",
       "      <th>국민총소득(명목 원화표시) (십억원)</th>\n",
       "      <th>노동비용총액 (천원)</th>\n",
       "      <th>소비자물가지수</th>\n",
       "      <th>일반적으로사람들을신뢰하는정도</th>\n",
       "      <th>우울인식_평균_점</th>\n",
       "      <th>우울감 경험률</th>\n",
       "      <th>모 육아휴직 사용률(%)</th>\n",
       "      <th>모 육아휴직자 수</th>\n",
       "      <th>1인당 민간소비(천원)</th>\n",
       "      <th>월평균 사교육비(만원)</th>\n",
       "      <th>생활물가지수(2020=100)</th>\n",
       "      <th>주관적 건강인지율(%)</th>\n",
       "      <th>아파트 매매 실거래 평균가격(만원/㎡)</th>\n",
       "      <th>연립다세대 매매 실거래 평균가격(만원/㎡)</th>\n",
       "      <th>총근로시간 (시간)</th>\n",
       "      <th>월임금총액 (천원)</th>\n",
       "    </tr>\n",
       "  </thead>\n",
       "  <tbody>\n",
       "    <tr>\n",
       "      <th>0</th>\n",
       "      <td>-1.531379</td>\n",
       "      <td>-1.517218</td>\n",
       "      <td>-1.657200</td>\n",
       "      <td>-1.819357</td>\n",
       "      <td>1.129453</td>\n",
       "      <td>-0.288134</td>\n",
       "      <td>-0.718456</td>\n",
       "      <td>-1.226186</td>\n",
       "      <td>-0.715778</td>\n",
       "      <td>-1.495448</td>\n",
       "      <td>-0.415030</td>\n",
       "      <td>-1.189403</td>\n",
       "      <td>-0.813128</td>\n",
       "      <td>-0.556992</td>\n",
       "      <td>-0.790823</td>\n",
       "      <td>0.631507</td>\n",
       "      <td>-0.341052</td>\n",
       "    </tr>\n",
       "    <tr>\n",
       "      <th>1</th>\n",
       "      <td>-1.428478</td>\n",
       "      <td>-1.416657</td>\n",
       "      <td>-1.657200</td>\n",
       "      <td>-1.653117</td>\n",
       "      <td>0.851842</td>\n",
       "      <td>0.274129</td>\n",
       "      <td>-1.222635</td>\n",
       "      <td>-0.639335</td>\n",
       "      <td>-1.712056</td>\n",
       "      <td>-1.196580</td>\n",
       "      <td>-0.218644</td>\n",
       "      <td>-0.792050</td>\n",
       "      <td>-0.872916</td>\n",
       "      <td>-0.817178</td>\n",
       "      <td>-0.656086</td>\n",
       "      <td>0.787699</td>\n",
       "      <td>-0.988744</td>\n",
       "    </tr>\n",
       "    <tr>\n",
       "      <th>2</th>\n",
       "      <td>-1.312679</td>\n",
       "      <td>-1.303639</td>\n",
       "      <td>-1.486380</td>\n",
       "      <td>-1.526766</td>\n",
       "      <td>1.054423</td>\n",
       "      <td>0.898178</td>\n",
       "      <td>0.541993</td>\n",
       "      <td>-0.982858</td>\n",
       "      <td>-1.355377</td>\n",
       "      <td>-1.582172</td>\n",
       "      <td>-0.100812</td>\n",
       "      <td>-1.714405</td>\n",
       "      <td>0.362719</td>\n",
       "      <td>-0.497859</td>\n",
       "      <td>-1.234905</td>\n",
       "      <td>0.971455</td>\n",
       "      <td>-1.033412</td>\n",
       "    </tr>\n",
       "    <tr>\n",
       "      <th>3</th>\n",
       "      <td>-1.215972</td>\n",
       "      <td>-1.208478</td>\n",
       "      <td>-1.377110</td>\n",
       "      <td>-1.381717</td>\n",
       "      <td>2.322432</td>\n",
       "      <td>0.885821</td>\n",
       "      <td>-0.718456</td>\n",
       "      <td>-1.798725</td>\n",
       "      <td>-1.248949</td>\n",
       "      <td>-1.422837</td>\n",
       "      <td>-2.673473</td>\n",
       "      <td>-1.560117</td>\n",
       "      <td>-1.132001</td>\n",
       "      <td>-2.171988</td>\n",
       "      <td>-2.319675</td>\n",
       "      <td>-0.498590</td>\n",
       "      <td>-1.571915</td>\n",
       "    </tr>\n",
       "    <tr>\n",
       "      <th>4</th>\n",
       "      <td>-1.124132</td>\n",
       "      <td>-1.120015</td>\n",
       "      <td>-1.216244</td>\n",
       "      <td>-1.244488</td>\n",
       "      <td>0.701782</td>\n",
       "      <td>1.299794</td>\n",
       "      <td>-1.600770</td>\n",
       "      <td>-1.183246</td>\n",
       "      <td>-0.504697</td>\n",
       "      <td>-1.407586</td>\n",
       "      <td>-0.788164</td>\n",
       "      <td>-1.414146</td>\n",
       "      <td>-1.371156</td>\n",
       "      <td>-0.595100</td>\n",
       "      <td>-0.695958</td>\n",
       "      <td>1.348153</td>\n",
       "      <td>-1.100415</td>\n",
       "    </tr>\n",
       "  </tbody>\n",
       "</table>\n",
       "</div>"
      ],
      "text/plain": [
       "   국내총생산(명목 원화표시) (십억원)  국민총소득(명목 원화표시) (십억원)  노동비용총액 (천원)   소비자물가지수  \\\n",
       "0             -1.531379             -1.517218    -1.657200 -1.819357   \n",
       "1             -1.428478             -1.416657    -1.657200 -1.653117   \n",
       "2             -1.312679             -1.303639    -1.486380 -1.526766   \n",
       "3             -1.215972             -1.208478    -1.377110 -1.381717   \n",
       "4             -1.124132             -1.120015    -1.216244 -1.244488   \n",
       "\n",
       "   일반적으로사람들을신뢰하는정도  우울인식_평균_점  우울감 경험률   모 육아휴직 사용률(%)  모 육아휴직자 수  \\\n",
       "0         1.129453  -0.288134 -0.718456      -1.226186  -0.715778   \n",
       "1         0.851842   0.274129 -1.222635      -0.639335  -1.712056   \n",
       "2         1.054423   0.898178  0.541993      -0.982858  -1.355377   \n",
       "3         2.322432   0.885821 -0.718456      -1.798725  -1.248949   \n",
       "4         0.701782   1.299794 -1.600770      -1.183246  -0.504697   \n",
       "\n",
       "   1인당 민간소비(천원)  월평균 사교육비(만원)  생활물가지수(2020=100)  주관적 건강인지율(%)  \\\n",
       "0     -1.495448     -0.415030         -1.189403     -0.813128   \n",
       "1     -1.196580     -0.218644         -0.792050     -0.872916   \n",
       "2     -1.582172     -0.100812         -1.714405      0.362719   \n",
       "3     -1.422837     -2.673473         -1.560117     -1.132001   \n",
       "4     -1.407586     -0.788164         -1.414146     -1.371156   \n",
       "\n",
       "   아파트 매매 실거래 평균가격(만원/㎡)  연립다세대 매매 실거래 평균가격(만원/㎡)  총근로시간 (시간)  월임금총액 (천원)  \n",
       "0              -0.556992                -0.790823    0.631507   -0.341052  \n",
       "1              -0.817178                -0.656086    0.787699   -0.988744  \n",
       "2              -0.497859                -1.234905    0.971455   -1.033412  \n",
       "3              -2.171988                -2.319675   -0.498590   -1.571915  \n",
       "4              -0.595100                -0.695958    1.348153   -1.100415  "
      ]
     },
     "execution_count": 35,
     "metadata": {},
     "output_type": "execute_result"
    }
   ],
   "source": [
    "scaled_df.head()"
   ]
  },
  {
   "cell_type": "markdown",
   "metadata": {},
   "source": [
    "### 2. 요인분석"
   ]
  },
  {
   "cell_type": "markdown",
   "metadata": {},
   "source": [
    "https://zephyrus1111.tistory.com/462"
   ]
  },
  {
   "cell_type": "markdown",
   "metadata": {},
   "source": [
    "https://blog.naver.com/wlgid0727/220389419955"
   ]
  },
  {
   "cell_type": "markdown",
   "metadata": {},
   "source": [
    "#### 적합성 검정 "
   ]
  },
  {
   "cell_type": "markdown",
   "metadata": {},
   "source": [
    "주어진 데이터가 요인분석하기에 적합한지 확인하는 검정으로, Bartlett 구형성 검정과 KMO Test를 통해 확인한다. "
   ]
  },
  {
   "cell_type": "markdown",
   "metadata": {},
   "source": [
    "Bartlett 검정 : https://m.blog.naver.com/pmw9440/221969888263"
   ]
  },
  {
   "cell_type": "markdown",
   "metadata": {},
   "source": [
    "KMO Test : https://en.wikipedia.org/wiki/Kaiser%E2%80%93Meyer%E2%80%93Olkin_test"
   ]
  },
  {
   "cell_type": "markdown",
   "metadata": {},
   "source": [
    "Bartlett 구형성 검정"
   ]
  },
  {
   "cell_type": "markdown",
   "metadata": {},
   "source": [
    "주어진 변수들에 대한 상관 행렬과 항등 행렬을 비교하는 검정법으로, 변수 간의 상관관계가 있는 지를 확인하는 검정 방법이다. 검정통계량으로는 카이제곱 통계량을 사용한다."
   ]
  },
  {
   "cell_type": "markdown",
   "metadata": {},
   "source": [
    "귀무가설(H0) : 주어진 데이터의 상관행렬은 단위행렬과 동일하다.\\\n",
    "대립가설(H1) : 주어진 데이터의 상관행렬은 단위행렬과 동일하지 않다."
   ]
  },
  {
   "cell_type": "markdown",
   "metadata": {},
   "source": [
    "![image.png](./image/chi.png)"
   ]
  },
  {
   "cell_type": "markdown",
   "metadata": {},
   "source": [
    "데이터로부터 계산된 상관행렬이 단위행렬과 동일하다는 것은 비대각원소가 0이라는 뜻으로, 변수들 간의 상관계수가 0이라는 의미이다. 이는 변수들 간에 상관관계가 없다는 해석이 가능하다. "
   ]
  },
  {
   "cell_type": "code",
   "execution_count": 36,
   "metadata": {},
   "outputs": [
    {
     "data": {
      "text/plain": [
       "(1001.7600237445123, 7.128432803470782e-132)"
      ]
     },
     "execution_count": 36,
     "metadata": {},
     "output_type": "execute_result"
    }
   ],
   "source": [
    "from factor_analyzer.factor_analyzer import calculate_bartlett_sphericity\n",
    "\n",
    "chi_square_value,p_value=calculate_bartlett_sphericity(scaled_df)\n",
    "\n",
    "chi_square_value, p_value"
   ]
  },
  {
   "cell_type": "markdown",
   "metadata": {},
   "source": [
    "Bartlett 구형성 검정 결과, 카이제곱 통계량은 1001, p-value = 0.000...으로 유의수준 5%에서 귀무가설을 기각한다.\\\n",
    "따라서, 주어진 데이터의 상관행렬이 단위행렬과 동일하지 않기 때문에 변수들 간의 상관관계가 존재한다고 볼 수 있다. "
   ]
  },
  {
   "cell_type": "markdown",
   "metadata": {},
   "source": [
    "KMO(Kaiser–Meyer–Olkin) Test"
   ]
  },
  {
   "cell_type": "markdown",
   "metadata": {},
   "source": [
    "변수들 간의 상관관계가 다른 변수에 의해 잘 설명되는지 측정하는 지표로, 다음과 같이 계산한다. "
   ]
  },
  {
   "cell_type": "markdown",
   "metadata": {},
   "source": [
    "![image.png](./image/KMO_value2.png)"
   ]
  },
  {
   "cell_type": "markdown",
   "metadata": {},
   "source": [
    "![image.png](./image/기준.png)"
   ]
  },
  {
   "cell_type": "markdown",
   "metadata": {},
   "source": [
    "상관계수와 편상관계수 이해 : https://csshark.tistory.com/189"
   ]
  },
  {
   "cell_type": "markdown",
   "metadata": {},
   "source": [
    "편상관계수는 다른 변수의 영향을 제거한 상태에서 두 변수 간의 순수한 상관관계를 분석하는 통계적 기법"
   ]
  },
  {
   "cell_type": "markdown",
   "metadata": {},
   "source": [
    "KMO 값이 0에 가까우면 상관계수의 합에 비해 편상관계수의 합이 크다는 것을 의미한다. "
   ]
  },
  {
   "cell_type": "markdown",
   "metadata": {},
   "source": [
    "상관계수가 클수록 두 변수 간의 상관관계를 고려할 때 다른 변수의 영향을 같이 생각해야한다는 뜻이므로, 여러 변수 간의 관계를 동시에 보고 요인을 묶는 요인분석의 목적에 적합하다. "
   ]
  },
  {
   "cell_type": "code",
   "execution_count": 37,
   "metadata": {},
   "outputs": [
    {
     "name": "stderr",
     "output_type": "stream",
     "text": [
      "c:\\Users\\HamIG\\AppData\\Local\\Programs\\Python\\Python311\\Lib\\site-packages\\factor_analyzer\\utils.py:244: UserWarning: The inverse of the variance-covariance matrix was calculated using the Moore-Penrose generalized matrix inversion, due to its determinant being at or very close to zero.\n",
      "  warnings.warn(\n"
     ]
    },
    {
     "data": {
      "text/plain": [
       "0.7508400148240847"
      ]
     },
     "execution_count": 37,
     "metadata": {},
     "output_type": "execute_result"
    }
   ],
   "source": [
    "from factor_analyzer.factor_analyzer import calculate_kmo\n",
    "\n",
    "kmo_all,kmo_model=calculate_kmo(scaled_df)\n",
    "\n",
    "kmo_model"
   ]
  },
  {
   "cell_type": "markdown",
   "metadata": {},
   "source": [
    "\n",
    "KMO Test 결과, KMO value = 0.75로 주어진 데이터에 대해 요인분석을 시행하기에 적합하다고 판단한다. "
   ]
  },
  {
   "cell_type": "markdown",
   "metadata": {},
   "source": [
    "#### 고유값 개수 결정 "
   ]
  },
  {
   "cell_type": "markdown",
   "metadata": {},
   "source": [
    "주성분 분석을 시행하여 주어진 데이터의 공분산행렬을 구하고, 공분산행렬로부터 고유값을 계산하여 요인분석에 적합한 요인의 개수를 결정한다.  "
   ]
  },
  {
   "cell_type": "code",
   "execution_count": 38,
   "metadata": {},
   "outputs": [],
   "source": [
    "fa = FactorAnalyzer(method = 'principal', n_factors=10, rotation='varimax').fit(scaled_df)"
   ]
  },
  {
   "cell_type": "code",
   "execution_count": 39,
   "metadata": {},
   "outputs": [
    {
     "name": "stdout",
     "output_type": "stream",
     "text": [
      "고유값:\n",
      " [9.45105105e+00 3.23494060e+00 1.54200399e+00 8.90491757e-01\n",
      " 5.91621341e-01 4.26496311e-01 3.04325818e-01 1.68562905e-01\n",
      " 1.44493324e-01 1.26973527e-01 5.86689674e-02 2.75066225e-02\n",
      " 2.46841699e-02 4.31775619e-03 2.30144412e-03 1.55289700e-03\n",
      " 7.52840459e-06]\n"
     ]
    }
   ],
   "source": [
    "ev,v=fa.get_eigenvalues()\n",
    "print('고유값:\\n', ev)"
   ]
  },
  {
   "cell_type": "markdown",
   "metadata": {},
   "source": [
    "총 3개의 고유값이 1보다 크지만, 해당 요인들로 요인분석을 진행하면 요인에 의해 설명되는 총 분산이 80% 미만으로 주어진 데이터를 충분히 설명하기에 부족하다고 판단했다.\\\n",
    "따라서, 본 연구에서는 총 분산의 80%을 가져가는 것을 지향하여 요인 수를 4개로 설정한다. "
   ]
  },
  {
   "cell_type": "markdown",
   "metadata": {},
   "source": [
    "먼저, 데이터프레임의 모든 행과 열을 출력하도록 옵션을 설정한다. "
   ]
  },
  {
   "cell_type": "code",
   "execution_count": 40,
   "metadata": {},
   "outputs": [],
   "source": [
    "# 데이터프레임 전체 출력 \n",
    "\n",
    "pd.set_option('display.max_columns', None)\n",
    "pd.set_option('display.max_rows', None)"
   ]
  },
  {
   "cell_type": "markdown",
   "metadata": {},
   "source": [
    "#### 요인분석 객체 생성"
   ]
  },
  {
   "cell_type": "markdown",
   "metadata": {},
   "source": [
    "FactorAnalyzer 함수를 활용해서 요인분석 객체를 생성하되, method = ml로 지정한다. "
   ]
  },
  {
   "cell_type": "markdown",
   "metadata": {},
   "source": [
    "FactorAnalyzer의 method = {ml, mle, minres, principal, uls}\n",
    "* ml or mle -> Maximum Likelihood (최대가능도함수)\n",
    "* uls or minres-> Minimum Residual (잔차 제곱합 최소화)\n",
    "* principal -> Principal Analysis (주성분 분석)"
   ]
  },
  {
   "cell_type": "code",
   "execution_count": 41,
   "metadata": {},
   "outputs": [],
   "source": [
    "fa = FactorAnalyzer(method = 'ml', n_factors=4, rotation='varimax').fit(scaled_df)"
   ]
  },
  {
   "cell_type": "markdown",
   "metadata": {},
   "source": [
    "요인적재량 구하기"
   ]
  },
  {
   "cell_type": "markdown",
   "metadata": {},
   "source": [
    "각 변수와 요인 간의 상관관계 정도를 나타내는 값으로, 각 변수가 특정 요인과 얼마나 관련되어 있는지를 보여주는 지표이다."
   ]
  },
  {
   "cell_type": "code",
   "execution_count": 43,
   "metadata": {},
   "outputs": [
    {
     "data": {
      "text/html": [
       "<div>\n",
       "<style scoped>\n",
       "    .dataframe tbody tr th:only-of-type {\n",
       "        vertical-align: middle;\n",
       "    }\n",
       "\n",
       "    .dataframe tbody tr th {\n",
       "        vertical-align: top;\n",
       "    }\n",
       "\n",
       "    .dataframe thead th {\n",
       "        text-align: right;\n",
       "    }\n",
       "</style>\n",
       "<table border=\"1\" class=\"dataframe\">\n",
       "  <thead>\n",
       "    <tr style=\"text-align: right;\">\n",
       "      <th></th>\n",
       "      <th>Factor1</th>\n",
       "      <th>Factor2</th>\n",
       "      <th>Factor3</th>\n",
       "      <th>Factor4</th>\n",
       "    </tr>\n",
       "  </thead>\n",
       "  <tbody>\n",
       "    <tr>\n",
       "      <th>국내총생산(명목 원화표시) (십억원)</th>\n",
       "      <td>0.9315</td>\n",
       "      <td>0.3064</td>\n",
       "      <td>-0.1258</td>\n",
       "      <td>0.1406</td>\n",
       "    </tr>\n",
       "    <tr>\n",
       "      <th>국민총소득(명목 원화표시) (십억원)</th>\n",
       "      <td>0.9307</td>\n",
       "      <td>0.3078</td>\n",
       "      <td>-0.1291</td>\n",
       "      <td>0.1397</td>\n",
       "    </tr>\n",
       "    <tr>\n",
       "      <th>노동비용총액 (천원)</th>\n",
       "      <td>0.9400</td>\n",
       "      <td>0.2997</td>\n",
       "      <td>-0.0439</td>\n",
       "      <td>0.1415</td>\n",
       "    </tr>\n",
       "    <tr>\n",
       "      <th>소비자물가지수</th>\n",
       "      <td>0.9607</td>\n",
       "      <td>0.2366</td>\n",
       "      <td>-0.0184</td>\n",
       "      <td>0.1224</td>\n",
       "    </tr>\n",
       "    <tr>\n",
       "      <th>일반적으로사람들을신뢰하는정도</th>\n",
       "      <td>-0.2654</td>\n",
       "      <td>-0.6741</td>\n",
       "      <td>-0.4312</td>\n",
       "      <td>-0.1388</td>\n",
       "    </tr>\n",
       "    <tr>\n",
       "      <th>우울인식_평균_점</th>\n",
       "      <td>0.2928</td>\n",
       "      <td>-0.1086</td>\n",
       "      <td>-0.4737</td>\n",
       "      <td>-0.1324</td>\n",
       "    </tr>\n",
       "    <tr>\n",
       "      <th>우울감 경험률</th>\n",
       "      <td>0.1541</td>\n",
       "      <td>0.1152</td>\n",
       "      <td>0.4946</td>\n",
       "      <td>0.5450</td>\n",
       "    </tr>\n",
       "    <tr>\n",
       "      <th>모 육아휴직 사용률(%)</th>\n",
       "      <td>0.2317</td>\n",
       "      <td>0.7369</td>\n",
       "      <td>0.2591</td>\n",
       "      <td>0.5453</td>\n",
       "    </tr>\n",
       "    <tr>\n",
       "      <th>모 육아휴직자 수</th>\n",
       "      <td>0.2753</td>\n",
       "      <td>0.3746</td>\n",
       "      <td>0.0941</td>\n",
       "      <td>0.5966</td>\n",
       "    </tr>\n",
       "    <tr>\n",
       "      <th>1인당 민간소비(천원)</th>\n",
       "      <td>0.9374</td>\n",
       "      <td>0.2957</td>\n",
       "      <td>-0.0749</td>\n",
       "      <td>0.1384</td>\n",
       "    </tr>\n",
       "    <tr>\n",
       "      <th>월평균 사교육비(만원)</th>\n",
       "      <td>0.1773</td>\n",
       "      <td>0.8114</td>\n",
       "      <td>0.1268</td>\n",
       "      <td>0.1333</td>\n",
       "    </tr>\n",
       "    <tr>\n",
       "      <th>생활물가지수(2020=100)</th>\n",
       "      <td>0.9487</td>\n",
       "      <td>0.2243</td>\n",
       "      <td>-0.0785</td>\n",
       "      <td>0.0910</td>\n",
       "    </tr>\n",
       "    <tr>\n",
       "      <th>주관적 건강인지율(%)</th>\n",
       "      <td>-0.1303</td>\n",
       "      <td>0.1150</td>\n",
       "      <td>0.8526</td>\n",
       "      <td>0.0633</td>\n",
       "    </tr>\n",
       "    <tr>\n",
       "      <th>아파트 매매 실거래 평균가격(만원/㎡)</th>\n",
       "      <td>0.3022</td>\n",
       "      <td>0.8793</td>\n",
       "      <td>-0.0349</td>\n",
       "      <td>0.1647</td>\n",
       "    </tr>\n",
       "    <tr>\n",
       "      <th>연립다세대 매매 실거래 평균가격(만원/㎡)</th>\n",
       "      <td>0.3588</td>\n",
       "      <td>0.9094</td>\n",
       "      <td>0.0903</td>\n",
       "      <td>0.0810</td>\n",
       "    </tr>\n",
       "    <tr>\n",
       "      <th>총근로시간 (시간)</th>\n",
       "      <td>-0.4920</td>\n",
       "      <td>-0.5442</td>\n",
       "      <td>0.3879</td>\n",
       "      <td>-0.1954</td>\n",
       "    </tr>\n",
       "    <tr>\n",
       "      <th>월임금총액 (천원)</th>\n",
       "      <td>0.2445</td>\n",
       "      <td>0.9115</td>\n",
       "      <td>0.0710</td>\n",
       "      <td>0.1042</td>\n",
       "    </tr>\n",
       "  </tbody>\n",
       "</table>\n",
       "</div>"
      ],
      "text/plain": [
       "                         Factor1  Factor2  Factor3  Factor4\n",
       "국내총생산(명목 원화표시) (십억원)      0.9315   0.3064  -0.1258   0.1406\n",
       "국민총소득(명목 원화표시) (십억원)      0.9307   0.3078  -0.1291   0.1397\n",
       "노동비용총액 (천원)               0.9400   0.2997  -0.0439   0.1415\n",
       "소비자물가지수                   0.9607   0.2366  -0.0184   0.1224\n",
       "일반적으로사람들을신뢰하는정도          -0.2654  -0.6741  -0.4312  -0.1388\n",
       "우울인식_평균_점                 0.2928  -0.1086  -0.4737  -0.1324\n",
       "우울감 경험률                   0.1541   0.1152   0.4946   0.5450\n",
       "모 육아휴직 사용률(%)             0.2317   0.7369   0.2591   0.5453\n",
       "모 육아휴직자 수                 0.2753   0.3746   0.0941   0.5966\n",
       "1인당 민간소비(천원)              0.9374   0.2957  -0.0749   0.1384\n",
       "월평균 사교육비(만원)              0.1773   0.8114   0.1268   0.1333\n",
       "생활물가지수(2020=100)          0.9487   0.2243  -0.0785   0.0910\n",
       "주관적 건강인지율(%)             -0.1303   0.1150   0.8526   0.0633\n",
       "아파트 매매 실거래 평균가격(만원/㎡)     0.3022   0.8793  -0.0349   0.1647\n",
       "연립다세대 매매 실거래 평균가격(만원/㎡)   0.3588   0.9094   0.0903   0.0810\n",
       "총근로시간 (시간)               -0.4920  -0.5442   0.3879  -0.1954\n",
       "월임금총액 (천원)                0.2445   0.9115   0.0710   0.1042"
      ]
     },
     "execution_count": 43,
     "metadata": {},
     "output_type": "execute_result"
    }
   ],
   "source": [
    "# 요인적재값 구해서 데이터프레임에 저장\n",
    "loadings_df = pd.DataFrame(fa.loadings_).round(4)\n",
    "\n",
    "# 열 이름 변경 -> 요인1 ~ 요인4\n",
    "loadings_df.columns = ['Factor1', 'Factor2', 'Factor3', 'Factor4']\n",
    "\n",
    "# 행 이름 변경 -> df_copy의 열(변수명)\n",
    "loadings_df.index = df_copy.columns\n",
    "\n",
    "loadings_df"
   ]
  },
  {
   "cell_type": "markdown",
   "metadata": {},
   "source": [
    "변수별 요인적재량을 기준으로 해서 요인적재량이 높은 변수들끼리 같은 요인으로 묶는다. "
   ]
  },
  {
   "cell_type": "markdown",
   "metadata": {},
   "source": [
    "요인 1 : 국내총생산, 국민총소득, 노동비용총액, 소비자물가지수, 민간소비\\\n",
    "요인 2 : 아파트 가격, 연립다세대 가격, 월임금\\\n",
    "요인 3 : 주관적 건강인지율, 우울감 경험률, 우울인식점수\\\n",
    "요인 4 : 모 육아휴직자 수, 모 육아휴직 사용률"
   ]
  },
  {
   "cell_type": "markdown",
   "metadata": {},
   "source": [
    "#### 결과 정리"
   ]
  },
  {
   "cell_type": "markdown",
   "metadata": {},
   "source": [
    "요인별 적재량 제곱합, 요인별 분산, 누적분산"
   ]
  },
  {
   "cell_type": "markdown",
   "metadata": {},
   "source": [
    "SS Loadings : 요인적재량의 제곱으로, 각 요인이 데이터를 얼마나 잘 설명하는지 나타내는 지표\\\n",
    "Proportion Var : 총 분산 중에서 해당 요인이 차지하는 분산\\\n",
    "Cumulative Var : 요인들의 누적 분산 "
   ]
  },
  {
   "cell_type": "code",
   "execution_count": 108,
   "metadata": {},
   "outputs": [
    {
     "data": {
      "text/html": [
       "<div>\n",
       "<style scoped>\n",
       "    .dataframe tbody tr th:only-of-type {\n",
       "        vertical-align: middle;\n",
       "    }\n",
       "\n",
       "    .dataframe tbody tr th {\n",
       "        vertical-align: top;\n",
       "    }\n",
       "\n",
       "    .dataframe thead th {\n",
       "        text-align: right;\n",
       "    }\n",
       "</style>\n",
       "<table border=\"1\" class=\"dataframe\">\n",
       "  <thead>\n",
       "    <tr style=\"text-align: right;\">\n",
       "      <th></th>\n",
       "      <th>Factor1</th>\n",
       "      <th>Factor2</th>\n",
       "      <th>Factor3</th>\n",
       "      <th>Factor4</th>\n",
       "    </tr>\n",
       "  </thead>\n",
       "  <tbody>\n",
       "    <tr>\n",
       "      <th>SS Loadings</th>\n",
       "      <td>7.149523</td>\n",
       "      <td>5.088690</td>\n",
       "      <td>1.564288</td>\n",
       "      <td>1.225100</td>\n",
       "    </tr>\n",
       "    <tr>\n",
       "      <th>Proportion Var</th>\n",
       "      <td>0.397196</td>\n",
       "      <td>0.282705</td>\n",
       "      <td>0.086905</td>\n",
       "      <td>0.068061</td>\n",
       "    </tr>\n",
       "    <tr>\n",
       "      <th>Cumulative Var</th>\n",
       "      <td>0.397196</td>\n",
       "      <td>0.679901</td>\n",
       "      <td>0.766806</td>\n",
       "      <td>0.834867</td>\n",
       "    </tr>\n",
       "  </tbody>\n",
       "</table>\n",
       "</div>"
      ],
      "text/plain": [
       "                 Factor1   Factor2   Factor3   Factor4\n",
       "SS Loadings     7.149523  5.088690  1.564288  1.225100\n",
       "Proportion Var  0.397196  0.282705  0.086905  0.068061\n",
       "Cumulative Var  0.397196  0.679901  0.766806  0.834867"
      ]
     },
     "execution_count": 108,
     "metadata": {},
     "output_type": "execute_result"
    }
   ],
   "source": [
    "# 요인별 누적 분산 구하기 \n",
    "\n",
    "factor_variance = fa.get_factor_variance()\n",
    "\n",
    "factor_variance_df = pd.DataFrame(factor_variance, columns=['Factor1', 'Factor2', 'Factor3', 'Factor4'], index=['SS Loadings', 'Proportion Var', 'Cumulative Var'])\n",
    "\n",
    "factor_variance_df"
   ]
  },
  {
   "cell_type": "markdown",
   "metadata": {},
   "source": [
    "요인점수 "
   ]
  },
  {
   "cell_type": "markdown",
   "metadata": {},
   "source": [
    "N차원의 데이터를 P차원으로 축소시켰을 때의 값 (P < N)\\\n",
    "ex) 3차원 공간에서 (3, 2, 1)의 값을 가지는 데이터를 2차원 공간으로 축소시키면 (0.2, 0.5)인 데이터로 변한다."
   ]
  },
  {
   "cell_type": "markdown",
   "metadata": {},
   "source": [
    "요인분석을 통해 도출된 소수의 요인들로 다수의 변수들을 축약할 수 있는데, 이때 각 개인이 그 요인들에 얼마나 해당되는지를 나타낸다."
   ]
  },
  {
   "cell_type": "code",
   "execution_count": 109,
   "metadata": {},
   "outputs": [
    {
     "data": {
      "text/html": [
       "<div>\n",
       "<style scoped>\n",
       "    .dataframe tbody tr th:only-of-type {\n",
       "        vertical-align: middle;\n",
       "    }\n",
       "\n",
       "    .dataframe tbody tr th {\n",
       "        vertical-align: top;\n",
       "    }\n",
       "\n",
       "    .dataframe thead th {\n",
       "        text-align: right;\n",
       "    }\n",
       "</style>\n",
       "<table border=\"1\" class=\"dataframe\">\n",
       "  <thead>\n",
       "    <tr style=\"text-align: right;\">\n",
       "      <th></th>\n",
       "      <th>합계출산율</th>\n",
       "      <th>Factor1</th>\n",
       "      <th>Factor2</th>\n",
       "      <th>Factor3</th>\n",
       "      <th>Factor4</th>\n",
       "    </tr>\n",
       "  </thead>\n",
       "  <tbody>\n",
       "    <tr>\n",
       "      <th>0</th>\n",
       "      <td>1.654</td>\n",
       "      <td>-1.6786</td>\n",
       "      <td>0.0154</td>\n",
       "      <td>-1.1479</td>\n",
       "      <td>-0.8109</td>\n",
       "    </tr>\n",
       "    <tr>\n",
       "      <th>1</th>\n",
       "      <td>1.656</td>\n",
       "      <td>-1.5669</td>\n",
       "      <td>-0.0899</td>\n",
       "      <td>-0.9672</td>\n",
       "      <td>-0.3260</td>\n",
       "    </tr>\n",
       "    <tr>\n",
       "      <th>2</th>\n",
       "      <td>1.634</td>\n",
       "      <td>-1.4183</td>\n",
       "      <td>-0.5743</td>\n",
       "      <td>-0.8145</td>\n",
       "      <td>0.1273</td>\n",
       "    </tr>\n",
       "    <tr>\n",
       "      <th>3</th>\n",
       "      <td>1.574</td>\n",
       "      <td>-1.0444</td>\n",
       "      <td>-1.8488</td>\n",
       "      <td>-1.8127</td>\n",
       "      <td>0.4195</td>\n",
       "    </tr>\n",
       "    <tr>\n",
       "      <th>4</th>\n",
       "      <td>1.537</td>\n",
       "      <td>-1.1731</td>\n",
       "      <td>-0.2839</td>\n",
       "      <td>-1.0889</td>\n",
       "      <td>-0.7651</td>\n",
       "    </tr>\n",
       "    <tr>\n",
       "      <th>5</th>\n",
       "      <td>1.464</td>\n",
       "      <td>-1.0484</td>\n",
       "      <td>-0.2088</td>\n",
       "      <td>0.1637</td>\n",
       "      <td>-0.3473</td>\n",
       "    </tr>\n",
       "    <tr>\n",
       "      <th>6</th>\n",
       "      <td>1.425</td>\n",
       "      <td>-0.9553</td>\n",
       "      <td>-0.0212</td>\n",
       "      <td>0.4182</td>\n",
       "      <td>-0.6181</td>\n",
       "    </tr>\n",
       "    <tr>\n",
       "      <th>7</th>\n",
       "      <td>1.480</td>\n",
       "      <td>-1.0645</td>\n",
       "      <td>0.5456</td>\n",
       "      <td>0.4952</td>\n",
       "      <td>0.1119</td>\n",
       "    </tr>\n",
       "    <tr>\n",
       "      <th>8</th>\n",
       "      <td>1.309</td>\n",
       "      <td>-1.1712</td>\n",
       "      <td>1.0577</td>\n",
       "      <td>0.4405</td>\n",
       "      <td>0.4227</td>\n",
       "    </tr>\n",
       "    <tr>\n",
       "      <th>9</th>\n",
       "      <td>1.178</td>\n",
       "      <td>-0.9350</td>\n",
       "      <td>1.0524</td>\n",
       "      <td>1.2827</td>\n",
       "      <td>0.2133</td>\n",
       "    </tr>\n",
       "    <tr>\n",
       "      <th>10</th>\n",
       "      <td>1.191</td>\n",
       "      <td>-0.8295</td>\n",
       "      <td>1.5102</td>\n",
       "      <td>1.5706</td>\n",
       "      <td>-0.3981</td>\n",
       "    </tr>\n",
       "    <tr>\n",
       "      <th>11</th>\n",
       "      <td>1.164</td>\n",
       "      <td>-0.6705</td>\n",
       "      <td>0.5560</td>\n",
       "      <td>0.7816</td>\n",
       "      <td>0.6638</td>\n",
       "    </tr>\n",
       "    <tr>\n",
       "      <th>12</th>\n",
       "      <td>1.085</td>\n",
       "      <td>-0.4334</td>\n",
       "      <td>0.8155</td>\n",
       "      <td>1.4460</td>\n",
       "      <td>-0.4064</td>\n",
       "    </tr>\n",
       "    <tr>\n",
       "      <th>13</th>\n",
       "      <td>1.132</td>\n",
       "      <td>0.0952</td>\n",
       "      <td>-1.6110</td>\n",
       "      <td>1.0421</td>\n",
       "      <td>1.5493</td>\n",
       "    </tr>\n",
       "    <tr>\n",
       "      <th>14</th>\n",
       "      <td>1.259</td>\n",
       "      <td>0.2713</td>\n",
       "      <td>-1.4692</td>\n",
       "      <td>0.2798</td>\n",
       "      <td>0.6671</td>\n",
       "    </tr>\n",
       "    <tr>\n",
       "      <th>15</th>\n",
       "      <td>1.192</td>\n",
       "      <td>0.3048</td>\n",
       "      <td>-1.1299</td>\n",
       "      <td>1.3650</td>\n",
       "      <td>1.4987</td>\n",
       "    </tr>\n",
       "    <tr>\n",
       "      <th>16</th>\n",
       "      <td>1.149</td>\n",
       "      <td>0.4389</td>\n",
       "      <td>-0.8522</td>\n",
       "      <td>1.5180</td>\n",
       "      <td>0.6094</td>\n",
       "    </tr>\n",
       "    <tr>\n",
       "      <th>17</th>\n",
       "      <td>1.226</td>\n",
       "      <td>1.0673</td>\n",
       "      <td>-0.9184</td>\n",
       "      <td>0.4685</td>\n",
       "      <td>-3.0912</td>\n",
       "    </tr>\n",
       "    <tr>\n",
       "      <th>18</th>\n",
       "      <td>1.244</td>\n",
       "      <td>1.0573</td>\n",
       "      <td>-0.8827</td>\n",
       "      <td>0.4220</td>\n",
       "      <td>-1.8670</td>\n",
       "    </tr>\n",
       "    <tr>\n",
       "      <th>19</th>\n",
       "      <td>1.297</td>\n",
       "      <td>1.0396</td>\n",
       "      <td>-0.9186</td>\n",
       "      <td>0.1166</td>\n",
       "      <td>-1.0504</td>\n",
       "    </tr>\n",
       "    <tr>\n",
       "      <th>20</th>\n",
       "      <td>1.187</td>\n",
       "      <td>0.9711</td>\n",
       "      <td>-0.8271</td>\n",
       "      <td>-0.0415</td>\n",
       "      <td>-0.2156</td>\n",
       "    </tr>\n",
       "    <tr>\n",
       "      <th>21</th>\n",
       "      <td>1.205</td>\n",
       "      <td>0.8976</td>\n",
       "      <td>-0.6871</td>\n",
       "      <td>-0.3020</td>\n",
       "      <td>0.5761</td>\n",
       "    </tr>\n",
       "    <tr>\n",
       "      <th>22</th>\n",
       "      <td>1.239</td>\n",
       "      <td>0.8833</td>\n",
       "      <td>-0.3201</td>\n",
       "      <td>-0.4288</td>\n",
       "      <td>0.7241</td>\n",
       "    </tr>\n",
       "    <tr>\n",
       "      <th>23</th>\n",
       "      <td>1.172</td>\n",
       "      <td>0.8839</td>\n",
       "      <td>0.1145</td>\n",
       "      <td>-0.7566</td>\n",
       "      <td>0.5009</td>\n",
       "    </tr>\n",
       "    <tr>\n",
       "      <th>24</th>\n",
       "      <td>1.052</td>\n",
       "      <td>0.8857</td>\n",
       "      <td>0.4968</td>\n",
       "      <td>-1.1449</td>\n",
       "      <td>0.4895</td>\n",
       "    </tr>\n",
       "    <tr>\n",
       "      <th>25</th>\n",
       "      <td>0.977</td>\n",
       "      <td>0.9243</td>\n",
       "      <td>0.8715</td>\n",
       "      <td>-1.2695</td>\n",
       "      <td>0.1637</td>\n",
       "    </tr>\n",
       "    <tr>\n",
       "      <th>26</th>\n",
       "      <td>0.918</td>\n",
       "      <td>0.9202</td>\n",
       "      <td>1.1271</td>\n",
       "      <td>-1.1032</td>\n",
       "      <td>0.1960</td>\n",
       "    </tr>\n",
       "    <tr>\n",
       "      <th>27</th>\n",
       "      <td>0.837</td>\n",
       "      <td>0.9114</td>\n",
       "      <td>1.5358</td>\n",
       "      <td>-0.5680</td>\n",
       "      <td>-0.2047</td>\n",
       "    </tr>\n",
       "    <tr>\n",
       "      <th>28</th>\n",
       "      <td>0.808</td>\n",
       "      <td>1.1198</td>\n",
       "      <td>1.5543</td>\n",
       "      <td>-0.4892</td>\n",
       "      <td>0.1868</td>\n",
       "    </tr>\n",
       "    <tr>\n",
       "      <th>29</th>\n",
       "      <td>0.778</td>\n",
       "      <td>1.3174</td>\n",
       "      <td>1.3904</td>\n",
       "      <td>0.1245</td>\n",
       "      <td>0.9807</td>\n",
       "    </tr>\n",
       "  </tbody>\n",
       "</table>\n",
       "</div>"
      ],
      "text/plain": [
       "    합계출산율  Factor1  Factor2  Factor3  Factor4\n",
       "0   1.654  -1.6786   0.0154  -1.1479  -0.8109\n",
       "1   1.656  -1.5669  -0.0899  -0.9672  -0.3260\n",
       "2   1.634  -1.4183  -0.5743  -0.8145   0.1273\n",
       "3   1.574  -1.0444  -1.8488  -1.8127   0.4195\n",
       "4   1.537  -1.1731  -0.2839  -1.0889  -0.7651\n",
       "5   1.464  -1.0484  -0.2088   0.1637  -0.3473\n",
       "6   1.425  -0.9553  -0.0212   0.4182  -0.6181\n",
       "7   1.480  -1.0645   0.5456   0.4952   0.1119\n",
       "8   1.309  -1.1712   1.0577   0.4405   0.4227\n",
       "9   1.178  -0.9350   1.0524   1.2827   0.2133\n",
       "10  1.191  -0.8295   1.5102   1.5706  -0.3981\n",
       "11  1.164  -0.6705   0.5560   0.7816   0.6638\n",
       "12  1.085  -0.4334   0.8155   1.4460  -0.4064\n",
       "13  1.132   0.0952  -1.6110   1.0421   1.5493\n",
       "14  1.259   0.2713  -1.4692   0.2798   0.6671\n",
       "15  1.192   0.3048  -1.1299   1.3650   1.4987\n",
       "16  1.149   0.4389  -0.8522   1.5180   0.6094\n",
       "17  1.226   1.0673  -0.9184   0.4685  -3.0912\n",
       "18  1.244   1.0573  -0.8827   0.4220  -1.8670\n",
       "19  1.297   1.0396  -0.9186   0.1166  -1.0504\n",
       "20  1.187   0.9711  -0.8271  -0.0415  -0.2156\n",
       "21  1.205   0.8976  -0.6871  -0.3020   0.5761\n",
       "22  1.239   0.8833  -0.3201  -0.4288   0.7241\n",
       "23  1.172   0.8839   0.1145  -0.7566   0.5009\n",
       "24  1.052   0.8857   0.4968  -1.1449   0.4895\n",
       "25  0.977   0.9243   0.8715  -1.2695   0.1637\n",
       "26  0.918   0.9202   1.1271  -1.1032   0.1960\n",
       "27  0.837   0.9114   1.5358  -0.5680  -0.2047\n",
       "28  0.808   1.1198   1.5543  -0.4892   0.1868\n",
       "29  0.778   1.3174   1.3904   0.1245   0.9807"
      ]
     },
     "execution_count": 109,
     "metadata": {},
     "output_type": "execute_result"
    }
   ],
   "source": [
    "factor_score_df = pd.DataFrame(fa.transform(scaled_df).round(4))\n",
    "\n",
    "# 열 이름 변경 \n",
    "factor_score_df.columns = ['Factor1', 'Factor2', 'Factor3', 'Factor4']\n",
    "\n",
    "# 요인 점수와 합계출산율 결합\n",
    "factor_score_df['합계출산율'] = df['합계출산율']\n",
    "\n",
    "# '합계출산율' 열을 맨 앞으로 가져오기\n",
    "factor_score_df = factor_score_df[['합계출산율'] + [col for col in factor_score_df.columns if col != '합계출산율']]\n",
    "\n",
    "factor_score_df"
   ]
  },
  {
   "cell_type": "markdown",
   "metadata": {},
   "source": [
    "### 3. 결과 저장 "
   ]
  },
  {
   "cell_type": "markdown",
   "metadata": {},
   "source": [
    "분산표 "
   ]
  },
  {
   "cell_type": "code",
   "execution_count": 282,
   "metadata": {},
   "outputs": [],
   "source": [
    "file_path = 'variance_regress.xlsx'\n",
    "factor_variance_df.to_excel(file_path, index=False)"
   ]
  },
  {
   "cell_type": "markdown",
   "metadata": {},
   "source": [
    "요인적재량"
   ]
  },
  {
   "cell_type": "code",
   "execution_count": 283,
   "metadata": {},
   "outputs": [],
   "source": [
    "loadings_df_copy = loadings_df.copy()\n",
    "\n",
    "loadings_df_copy['Variable'] = loadings_df_copy.index\n",
    "\n",
    "file_path = 'loadings_regress.xlsx'\n",
    "loadings_df_copy.to_excel(file_path, index=False)"
   ]
  },
  {
   "cell_type": "markdown",
   "metadata": {},
   "source": [
    "요인점수"
   ]
  },
  {
   "cell_type": "code",
   "execution_count": 284,
   "metadata": {},
   "outputs": [],
   "source": [
    "file_path = 'score_regress.xlsx'\n",
    "factor_score_df.to_excel(file_path, index=False)"
   ]
  }
 ],
 "metadata": {
  "kernelspec": {
   "display_name": "Python 3",
   "language": "python",
   "name": "python3"
  },
  "language_info": {
   "codemirror_mode": {
    "name": "ipython",
    "version": 3
   },
   "file_extension": ".py",
   "mimetype": "text/x-python",
   "name": "python",
   "nbconvert_exporter": "python",
   "pygments_lexer": "ipython3",
   "version": "3.11.8"
  }
 },
 "nbformat": 4,
 "nbformat_minor": 2
}
