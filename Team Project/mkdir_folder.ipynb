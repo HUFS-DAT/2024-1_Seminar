{
 "cells": [
  {
   "cell_type": "code",
   "execution_count": 1,
   "metadata": {},
   "outputs": [],
   "source": [
    "names = ['회귀분석', '시계열', '머신러닝_A', '머신러닝_B', '딥러닝(NLP)', '딥러닝(CV)']"
   ]
  },
  {
   "cell_type": "code",
   "execution_count": 2,
   "metadata": {},
   "outputs": [
    {
     "name": "stdout",
     "output_type": "stream",
     "text": [
      "생성완료\n",
      "생성완료\n",
      "생성완료\n",
      "생성완료\n",
      "생성완료\n",
      "생성완료\n"
     ]
    }
   ],
   "source": [
    "import os\n",
    "\n",
    "base_path = './'\n",
    "for name in names:\n",
    "    folder_path = os.path.join(base_path + name)\n",
    "    #이름으로 된 폴더가 없으면 만들기\n",
    "    if not os.path.exists(folder_path):\n",
    "        os.makedirs(folder_path)\n",
    "        print(\"생성완료\")\n",
    "    else:\n",
    "        print(\"이미 있음\")"
   ]
  }
 ],
 "metadata": {
  "kernelspec": {
   "display_name": "Python 3",
   "language": "python",
   "name": "python3"
  },
  "language_info": {
   "codemirror_mode": {
    "name": "ipython",
    "version": 3
   },
   "file_extension": ".py",
   "mimetype": "text/x-python",
   "name": "python",
   "nbconvert_exporter": "python",
   "pygments_lexer": "ipython3",
   "version": "3.7.9"
  },
  "orig_nbformat": 4
 },
 "nbformat": 4,
 "nbformat_minor": 2
}
